{
 "cells": [
  {
   "cell_type": "markdown",
   "metadata": {
    "collapsed": false,
    "jupyter": {
     "outputs_hidden": false
    },
    "pycharm": {
     "name": "#%% md\n"
    }
   },
   "source": [
    "# NLP 2025\n",
    "# Lab 1: Tokenization\n",
    "\n",
    "Tokenization is a fundamental step in **Natural Language Processing (NLP)** 🧠💬 that transforms raw text into structured data for computational models. In this lab, you will explore different **tokenization techniques** 📝, preprocess text data 🔍, and implement **tokenization pipelines** using popular NLP libraries 🏗️.  \n",
    "\n",
    "You will also gain **hands-on experience** with **Hugging Face Datasets 🤗📚**, while assessing the impact of tokenization choices on downstream NLP tasks. \n",
    "\n",
    "By the end of this lab, you will have a **strong foundation** in tokenization techniques and be able to apply them effectively in **real-world NLP applications** 🌍.  \n",
    "\n",
    "---\n",
    "\n",
    "### 🎯 **Learning Goals**  \n",
    "\n",
    "By the end of this lab, you should be able to:  \n",
    "\n",
    "✅ **Understand the role of tokenization in NLP** 🧠💡  \n",
    "✅ **Explain why tokenization is important** and how it affects text processing 📖🔍  \n",
    "✅ **Implement different tokenization techniques** – Apply **word** 📝, **subword** 🔢, and **character-level** 🔠 tokenization using built-in libraries.  \n",
    "✅ **Use Hugging Face Datasets** 🤗📊 – Load and preprocess text datasets efficiently.  \n",
    "✅ **Evaluate tokenization impact** 📉🔎 – Analyze how different tokenization methods influence model performance.  \n",
    "✅ **Identify challenges in tokenization** ❗🔍 – Recognize issues like **out-of-vocabulary (OOV) words**, **ambiguity**, and **multilingual tokenization** 🌍.  \n",
    "\n",
    "### Score breakdown\n",
    "\n",
    "| Exercise            | Points |\n",
    "|---------------------|--------|\n",
    "| [Exercise 1](#e1)   | 5      |\n",
    "| [Exercise 2](#e2)   | 6      |\n",
    "| [Exercise 3](#e3)   | 5      |\n",
    "| [Exercise 4](#e4)   | 12     |\n",
    "| [Exercise 5](#e5)   | 5      |\n",
    "| [Exercise 6](#e6)   | 22     |\n",
    "| [Exercise 7](#e7)   | 5      |\n",
    "| [Exercise 8](#e8)   | 5      |\n",
    "| [Exercise 9](#e9)   | 10     |\n",
    "| [Exercise 10](#e10) | 25     |\n",
    "| Total               | 100    |\n",
    "\n",
    "This score will be scaled down to 0.5 and that will be your final lab score.\n",
    "\n",
    "### 📌 **Instructions for Delivery** (📅 **Deadline: 11/Apr 18:00**, 🎭 *wildcards possible*)  \n",
    "\n",
    "✅ **Submission Requirements**  \n",
    "+ 📄 You need to submit a **PDF of your report** (use the templates provided in **LaTeX** 🖋️ (*preferred*) or **Word** 📑) and a **copy of your notebook** 📓 with the code.  \n",
    "+ ⚡ Make sure that **all cells are executed properly** ⚙️ and that **all figures/results/plots** 📊 you include in the report are also visible in your **executed notebook**.  \n",
    "\n",
    "✅ **Collaboration & Integrity**  \n",
    "+ 🗣️ While you may **discuss** the lab with others, you must **write your solutions with your group only**. If you **discuss specific tasks** with others, please **include their names** in the appendix of the report.  \n",
    "+ 📜 **Honor Code applies** to this lab. For more details, check **Syllabus §7.2** ⚖️.  \n",
    "+ 📢 **Mandatory Disclosure**:  \n",
    "   - Any **websites** 🌐 (e.g., **Stack Overflow** 💡) or **other resources** used must be **listed and disclosed**.  \n",
    "   - Any **GenAI tools** 🤖 (e.g., **ChatGPT**) used must be **explicitly mentioned**.  \n",
    "   - 🚨 **Failure to disclose these resources is a violation of academic integrity**. See **Syllabus §7.3** for details.   "
   ]
  },
  {
   "cell_type": "markdown",
   "metadata": {
    "collapsed": false,
    "jupyter": {
     "outputs_hidden": false
    },
    "pycharm": {
     "name": "#%% md\n"
    }
   },
   "source": [
    "## Preparation"
   ]
  },
  {
   "cell_type": "code",
<<<<<<< HEAD
   "execution_count": 211,
=======
   "execution_count": 1,
>>>>>>> 696aef3c964e101dfdf5b567ce9da398d7c113cd
   "metadata": {
    "collapsed": false,
    "jupyter": {
     "outputs_hidden": false
    },
    "pycharm": {
     "name": "#%%\n"
    }
   },
   "outputs": [],
   "source": [
    "# ! pip install -U datasets~=3.2.0\n",
    "# ! python -m pip install -U matplotlib"
   ]
  },
  {
   "cell_type": "code",
<<<<<<< HEAD
   "execution_count": 212,
=======
   "execution_count": 2,
>>>>>>> 696aef3c964e101dfdf5b567ce9da398d7c113cd
   "metadata": {
    "collapsed": false,
    "jupyter": {
     "outputs_hidden": false
    },
    "pycharm": {
     "name": "#%%\n"
    }
   },
   "outputs": [],
   "source": [
    "import re\n",
    "from collections import Counter\n",
    "\n",
    "import datasets\n",
    "import pandas as pd\n",
    "import tqdm\n",
    "from scipy.stats import norm\n",
    "import numpy as np\n",
    "import matplotlib.pyplot as plt"
   ]
  },
  {
   "cell_type": "markdown",
   "metadata": {
    "collapsed": false,
    "jupyter": {
     "outputs_hidden": false
    },
    "pycharm": {
     "name": "#%% md\n"
    }
   },
   "source": [
    "## 0. Intro to regular expressions\n",
    "\n",
    "In this introduction section, you can practice the use of regular expressions in python. You can find the documentation here: [https://docs.python.org/3/library/re.html](https://docs.python.org/3/library/re.html). The main functions of the re module are:\n",
    "- `re.search()` - searches for a pattern in a string, returns the first match,\n",
    "- `re.findall()` - similar to `search()`, but returns a list of all matches,\n",
    "- `re.sub()` - replaces the matches with a string.\n",
    "\n",
    "All above functions accept the regular expression pattern as their argument. The patterns are strings that represent the rules for matching the text. In python they start with `r` character, e.g. `r'\\d'` is a pattern that matches a digit.\n",
    "\n",
    "Let us start with a simple example. We will search for the word \"world\" in the string \"Hello, world!\"."
   ]
  },
  {
   "cell_type": "code",
<<<<<<< HEAD
   "execution_count": 213,
=======
   "execution_count": 3,
>>>>>>> 696aef3c964e101dfdf5b567ce9da398d7c113cd
   "metadata": {
    "collapsed": false,
    "jupyter": {
     "outputs_hidden": false
    },
    "pycharm": {
     "name": "#%%\n"
    }
   },
   "outputs": [
    {
     "name": "stdout",
     "output_type": "stream",
     "text": [
      "<re.Match object; span=(7, 12), match='world'>\n"
     ]
    }
   ],
   "source": [
    "text = \"Hello, world!\"\n",
    "pattern = r'world'\n",
    "match = re.search(pattern, text)\n",
    "print(match)"
   ]
  },
  {
   "cell_type": "markdown",
   "metadata": {
    "collapsed": false,
    "jupyter": {
     "outputs_hidden": false
    },
    "pycharm": {
     "name": "#%% md\n"
    }
   },
   "source": [
    "The `search()` function returns a match object that tells us where the match was found (`span` argument) and the exact part of the string that matched the pattern (`group` argument).\n",
    "\n",
    "Below you can find the examples from the lecture."
   ]
  },
  {
   "cell_type": "code",
<<<<<<< HEAD
   "execution_count": 214,
=======
   "execution_count": 4,
>>>>>>> 696aef3c964e101dfdf5b567ce9da398d7c113cd
   "metadata": {
    "collapsed": false,
    "jupyter": {
     "outputs_hidden": false
    },
    "pycharm": {
     "name": "#%%\n"
    }
   },
   "outputs": [],
   "source": [
    "# Disjunctions\n",
    "pattern = r'[wW]oodchuck' # matches both \"woodchuck\" and \"Woodchuck\"\n",
    "pattern = r'[1234567890]' # matches any digit\n",
    "pattern = r'[0-9]' # matches any digit\n",
    "pattern = r'[A-Z]' # matches any uppercase letter\n",
    "pattern = r'[a-z]' # matches any lowercase letter\n",
    "pattern = r'[A-Za-z]' # matches any letter\n",
    "\n",
    "# Disjunctions with pipe |\n",
    "pattern = r'groundhog|Woodchuck' # matches both \"woodchuck\" and \"Woodchuck\"\n",
    "\n",
    "# Negation (only when in [])\n",
    "pattern = r'[^0-9]' # matches any character that is not a digit\n",
    "pattern = r'[^Ss]' # matches any character that is not 'S' or 's'\n",
    "pattern = r'a^b' # matches the string \"a^b\"\n",
    "\n",
    "# Quantifiers (+, *, ?, .)\n",
    "pattern = r'baa+' # matches \"ba\" followed by one or more \"a\" (e.g. \"baa\", \"baaa\", \"baaaa\", ...)\n",
    "pattern = r'oo*h' # matches \"o\" followed by zero or more \"o\" and then \"h\" (e.g. \"oh\", \"ooh\", \"oooh\", ...)\n",
    "pattern = r'colou?r' # matches \"color\" and \"colour\"\n",
    "pattern = r'beg.n' # matches \"begun\", \"begin\", \"begnn\", ...\n",
    "\n",
    "# Anchors (^, $)\n",
    "pattern = r'^Hello' # matches \"Hello\" at the beginning of the string\n",
    "pattern = r'world!$' # matches \"world!\" at the end of the string"
   ]
  },
  {
   "cell_type": "markdown",
   "metadata": {
    "collapsed": false,
    "jupyter": {
     "outputs_hidden": false
    },
    "pycharm": {
     "name": "#%% md\n"
    }
   },
   "source": [
    "## 1. Huggingface datasets\n",
    "\n",
    "For this lab, we will use the **Hugging Face Datasets** library ([Hugging Face Datasets](https://huggingface.co/datasets)), which provides an extensive collection of ready-to-use NLP datasets. The library is designed to be lightweight, efficient, and compatible with popular deep learning frameworks such as PyTorch and TensorFlow.  \n",
    "\n",
    "You can find the full documentation and tutorials here:  \n",
    "📌 [Hugging Face Datasets Documentation](https://huggingface.co/docs/datasets/en/index)  \n",
    "\n",
    "### **Why use Hugging Face Datasets?**  \n",
    "- **Easy Access:** Load datasets with a single command without manual downloads.  \n",
    "- **Standardized Format:** Datasets come in a unified structure, making them easy to preprocess and integrate into ML pipelines.  \n",
    "- **Large Collection:** Provides datasets for a wide range of NLP tasks, including classification, translation, summarization, and more.  \n",
    "- **Seamless Integration:** Works with `transformers` and `sklearn` for preprocessing and model training.  \n",
    "\n",
    "### **Dataset for this lab: TweetEval - Emoji Subset**  \n",
    "\n",
    "In this lab, we will work with the **TweetEval** dataset, specifically the **emoji** subset. The TweetEval dataset is a benchmark for evaluating NLP models on Twitter-related tasks, covering tasks such as sentiment analysis, hate speech detection, and irony detection.  \n",
    "\n",
    "For tokenization, we will focus only on the **text** (the content of the tweets), but we will also examine the **labels** to understand the dataset structure.  \n",
    "\n",
    "🔗 The dataset description and details are available in its dataset card: [**TweetEval Dataset**](https://huggingface.co/datasets/cardiffnlp/tweet_eval) \n",
    "\n",
    "💡 Exploring More Datasets\n",
    "Hugging Face provides a vast selection of datasets across different NLP tasks. You can browse and explore more at:\n",
    "🔗 [Hugging Face Datasets Collection](https://huggingface.co/datasets)"
   ]
  },
  {
   "cell_type": "code",
<<<<<<< HEAD
   "execution_count": 215,
=======
   "execution_count": 5,
>>>>>>> 696aef3c964e101dfdf5b567ce9da398d7c113cd
   "metadata": {
    "collapsed": false,
    "jupyter": {
     "outputs_hidden": false
    },
    "pycharm": {
     "name": "#%%\n"
    }
   },
   "outputs": [
    {
     "name": "stdout",
     "output_type": "stream",
     "text": [
      "DatasetDict({\n",
      "    train: Dataset({\n",
      "        features: ['text', 'label'],\n",
      "        num_rows: 45000\n",
      "    })\n",
      "    test: Dataset({\n",
      "        features: ['text', 'label'],\n",
      "        num_rows: 50000\n",
      "    })\n",
      "    validation: Dataset({\n",
      "        features: ['text', 'label'],\n",
      "        num_rows: 5000\n",
      "    })\n",
      "})\n"
     ]
    }
   ],
   "source": [
    "tweet_ds = datasets.load_dataset('tweet_eval', 'emoji')\n",
    "print(tweet_ds)"
   ]
  },
  {
   "cell_type": "markdown",
   "metadata": {
    "collapsed": false,
    "jupyter": {
     "outputs_hidden": false
    },
    "pycharm": {
     "name": "#%% md\n"
    }
   },
   "source": [
    "The loaded dataset contains three subsets (“train”, “validation”, and “test”). Each consists of two columns: “text” and “label”. Label is an integer from 0 to 19 representing an emoji. See the dataset's card for more information. We can access the elements of the dataset like so:"
   ]
  },
  {
   "cell_type": "code",
<<<<<<< HEAD
   "execution_count": 216,
=======
   "execution_count": 6,
>>>>>>> 696aef3c964e101dfdf5b567ce9da398d7c113cd
   "metadata": {
    "collapsed": false,
    "jupyter": {
     "outputs_hidden": false
    },
    "pycharm": {
     "name": "#%%\n"
    }
   },
   "outputs": [
    {
     "name": "stdout",
     "output_type": "stream",
     "text": [
      "{'text': 'Sunday afternoon walking through Venice in the sun with @user ️ ️ ️ @ Abbot Kinney, Venice', 'label': 12}\n",
      "{'text': \"Time for some BBQ and whiskey libations. Chomp, belch, chomp! (@ Lucille's Smokehouse Bar-B-Que)\", 'label': 19}\n",
      "{'text': 'Love love love all these people ️ ️ ️ #friends #bff #celebrate #blessed #sundayfunday @ San…', 'label': 0}\n",
      "{'text': '️ ️ ️ ️ @ Toys\"R\"Us', 'label': 0}\n",
      "{'text': 'Man these are the funniest kids ever!! That face! #HappyBirthdayBubb @ FLIPnOUT Xtreme', 'label': 2}\n",
      "{'text': '#sandiego @ San Diego, California', 'label': 11}\n",
      "{'text': 'My little ️ ️ ️ ️ ️ #ObsessedWithMyDog @ Cafe Solstice Capitol Hill', 'label': 0}\n",
      "{'text': 'More #tinyepic things #tinyepicwestern, this one is crazy @user I may be one of your…', 'label': 19}\n",
      "{'text': 'Last night ️ @ Omnia Night Club At Caesars Palace', 'label': 0}\n",
      "{'text': 'friendship at its finest. ....#pixar #toystory #buzz #woody #friends #friendship #bff…', 'label': 7}\n"
     ]
    }
   ],
   "source": [
    "for i in range(10):\n",
    "    print(tweet_ds['train'][i])"
   ]
  },
  {
   "cell_type": "markdown",
   "metadata": {
    "collapsed": false,
    "jupyter": {
     "outputs_hidden": false
    },
    "pycharm": {
     "name": "#%% md\n"
    }
   },
   "source": [
    "You can easily cast the dataset to the pandas DataFrame."
   ]
  },
  {
   "cell_type": "code",
<<<<<<< HEAD
   "execution_count": 217,
=======
   "execution_count": 7,
>>>>>>> 696aef3c964e101dfdf5b567ce9da398d7c113cd
   "metadata": {
    "collapsed": false,
    "jupyter": {
     "outputs_hidden": false
    },
    "pycharm": {
     "name": "#%%\n"
    }
   },
   "outputs": [
    {
     "name": "stdout",
     "output_type": "stream",
     "text": [
      "                                                    text  label\n",
      "0      Sunday afternoon walking through Venice in the...     12\n",
      "1      Time for some BBQ and whiskey libations. Chomp...     19\n",
      "2      Love love love all these people ️ ️ ️ #friends...      0\n",
      "3                                    ️ ️ ️ ️ @ Toys\"R\"Us      0\n",
      "4      Man these are the funniest kids ever!! That fa...      2\n",
      "...                                                  ...    ...\n",
      "44995  Here to celebrate the Nunez wedding! Love my b...      0\n",
      "44996  1 night in Paris.... Wait... @ Paris Las Vegas...      1\n",
      "44997  Be safe this weekend everyone. #happylaborday ...     11\n",
      "44998          Pizza (@ Five50 - @user in Las Vegas, NV)      1\n",
      "44999  my mini is perfect, no one deserves her @ Las ...     13\n",
      "\n",
      "[45000 rows x 2 columns]\n"
     ]
    }
   ],
   "source": [
    "tweet_train_df = pd.DataFrame(tweet_ds['train'])\n",
    "print(tweet_train_df)"
   ]
  },
  {
   "cell_type": "markdown",
   "metadata": {
    "collapsed": false,
    "jupyter": {
     "outputs_hidden": false
    },
    "pycharm": {
     "name": "#%% md\n"
    }
   },
   "source": [
    "We can plot the distribution of the labels in the training subset."
   ]
  },
  {
   "cell_type": "code",
<<<<<<< HEAD
   "execution_count": 218,
=======
   "execution_count": 8,
>>>>>>> 696aef3c964e101dfdf5b567ce9da398d7c113cd
   "metadata": {
    "collapsed": false,
    "jupyter": {
     "outputs_hidden": false
    },
    "pycharm": {
     "name": "#%%\n"
    }
   },
   "outputs": [
    {
     "data": {
      "text/plain": [
       "<Axes: xlabel='label'>"
      ]
     },
<<<<<<< HEAD
     "execution_count": 218,
=======
     "execution_count": 8,
>>>>>>> 696aef3c964e101dfdf5b567ce9da398d7c113cd
     "metadata": {},
     "output_type": "execute_result"
    },
    {
     "data": {
      "image/png": "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",
      "text/plain": [
       "<Figure size 640x480 with 1 Axes>"
      ]
     },
     "metadata": {},
     "output_type": "display_data"
    }
   ],
   "source": [
    "tweet_train_df.groupby('label').count().plot.bar()"
   ]
  },
  {
   "cell_type": "markdown",
   "metadata": {
    "collapsed": false,
    "jupyter": {
     "outputs_hidden": false
    },
    "pycharm": {
     "name": "#%% md\n"
    }
   },
   "source": [
    "### Dataset's filter function\n",
    "We can filter the examples using ```filter()``` method. See this link for more details https://huggingface.co/docs/datasets/en/use_dataset. Here is an example of filtering the short tweets (less than 20 characters) from the ```train``` subset."
   ]
  },
  {
   "cell_type": "code",
<<<<<<< HEAD
   "execution_count": 219,
=======
   "execution_count": 9,
>>>>>>> 696aef3c964e101dfdf5b567ce9da398d7c113cd
   "metadata": {
    "collapsed": false,
    "jupyter": {
     "outputs_hidden": false
    },
    "pycharm": {
     "name": "#%%\n"
    }
   },
   "outputs": [
    {
     "name": "stdout",
     "output_type": "stream",
     "text": [
      "Dataset({\n",
      "    features: ['text', 'label'],\n",
      "    num_rows: 506\n",
      "})\n"
     ]
    }
   ],
   "source": [
    "short_tweets = tweet_ds['train'].filter(lambda example: len(example['text']) < 20)\n",
    "print(short_tweets)"
   ]
  },
  {
   "cell_type": "code",
<<<<<<< HEAD
   "execution_count": 220,
=======
   "execution_count": 10,
>>>>>>> 696aef3c964e101dfdf5b567ce9da398d7c113cd
   "metadata": {
    "collapsed": false,
    "jupyter": {
     "outputs_hidden": false
    },
    "pycharm": {
     "name": "#%%\n"
    }
   },
   "outputs": [
    {
     "name": "stdout",
     "output_type": "stream",
     "text": [
      "{'text': '️ ️ ️ ️ @ Toys\"R\"Us', 'label': 0}\n",
      "{'text': '️ @ Columbia River', 'label': 12}\n",
      "{'text': 'My weekend: @user 3', 'label': 6}\n",
      "{'text': 'good day today', 'label': 3}\n",
      "{'text': 'My last RT...', 'label': 2}\n",
      "{'text': '@ On Lake Cowichan', 'label': 13}\n",
      "{'text': '@ Macroplaza', 'label': 4}\n",
      "{'text': '@ BART Train', 'label': 6}\n",
      "{'text': '️ 4 a tbh&amp; rate', 'label': 0}\n",
      "{'text': '@user Oh nice!!', 'label': 14}\n"
     ]
    }
   ],
   "source": [
    "for i in range(10):\n",
    "    print(short_tweets[i])"
   ]
  },
  {
   "cell_type": "markdown",
   "metadata": {
    "collapsed": false,
    "jupyter": {
     "outputs_hidden": false
    },
    "pycharm": {
     "name": "#%% md\n"
    }
   },
   "source": [
    "### Dataset's map function\n",
    "Datasets library contains a very useful method map. It expects a function that will receive an example from the dataset. This function will be applied to all entries. We will calculate the length of the text (in characters) in each example."
   ]
  },
  {
   "cell_type": "code",
<<<<<<< HEAD
   "execution_count": 221,
=======
   "execution_count": 11,
>>>>>>> 696aef3c964e101dfdf5b567ce9da398d7c113cd
   "metadata": {
    "collapsed": false,
    "jupyter": {
     "outputs_hidden": false
    },
    "pycharm": {
     "name": "#%%\n"
    }
   },
   "outputs": [],
   "source": [
    "def calculate_text_length(example):\n",
    "    example['text_length'] = len(example['text'])\n",
    "    return example"
   ]
  },
  {
   "cell_type": "code",
<<<<<<< HEAD
   "execution_count": 222,
=======
   "execution_count": 12,
>>>>>>> 696aef3c964e101dfdf5b567ce9da398d7c113cd
   "metadata": {
    "collapsed": false,
    "jupyter": {
     "outputs_hidden": false
    },
    "pycharm": {
     "name": "#%%\n"
    }
   },
   "outputs": [
    {
     "name": "stdout",
     "output_type": "stream",
     "text": [
      "DatasetDict({\n",
      "    train: Dataset({\n",
      "        features: ['text', 'label', 'text_length'],\n",
      "        num_rows: 45000\n",
      "    })\n",
      "    test: Dataset({\n",
      "        features: ['text', 'label', 'text_length'],\n",
      "        num_rows: 50000\n",
      "    })\n",
      "    validation: Dataset({\n",
      "        features: ['text', 'label', 'text_length'],\n",
      "        num_rows: 5000\n",
      "    })\n",
      "})\n"
     ]
    }
   ],
   "source": [
    "tweet_ds = tweet_ds.map(calculate_text_length)\n",
    "print(tweet_ds)"
   ]
  },
  {
   "cell_type": "markdown",
   "metadata": {
    "collapsed": false,
    "jupyter": {
     "outputs_hidden": false
    },
    "pycharm": {
     "name": "#%% md\n"
    }
   },
   "source": [
    "We can plot the histogram of the text lengths."
   ]
  },
  {
   "cell_type": "code",
<<<<<<< HEAD
   "execution_count": 223,
=======
   "execution_count": 13,
>>>>>>> 696aef3c964e101dfdf5b567ce9da398d7c113cd
   "metadata": {
    "collapsed": false,
    "jupyter": {
     "outputs_hidden": false
    },
    "pycharm": {
     "name": "#%%\n"
    }
   },
   "outputs": [
    {
     "data": {
      "text/plain": [
       "<Axes: ylabel='Frequency'>"
      ]
     },
<<<<<<< HEAD
     "execution_count": 223,
=======
     "execution_count": 13,
>>>>>>> 696aef3c964e101dfdf5b567ce9da398d7c113cd
     "metadata": {},
     "output_type": "execute_result"
    },
    {
     "data": {
      "image/png": "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",
      "text/plain": [
       "<Figure size 640x480 with 1 Axes>"
      ]
     },
     "metadata": {},
     "output_type": "display_data"
    }
   ],
   "source": [
    "pd.DataFrame(tweet_ds['train']).groupby('text_length')['text_length'].count().plot.hist(bins=50)"
   ]
  },
  {
   "cell_type": "markdown",
   "metadata": {
    "collapsed": false,
    "jupyter": {
     "outputs_hidden": false
    },
    "pycharm": {
     "name": "#%% md\n"
    }
   },
   "source": [
    "<a name=\"e1\"></a>\n",
    "\n",
    "### Exercise 1: Questions about the datasets\n",
    "1. (1p) What is the size of the training, test and validation datasets?\n",
    "2. (1p) What are the top 5 most frequent emojis in the validation dataset?\n",
    "3. (1p) Compare the distributions of labels (emojis) between training and validation datasets.\n",
    "4. (1p) How many examples with the \"fire\" emoji are in the training dataset?\n",
    "5. (1p) What is the average length (in characters) of the tweets in the training dataset?"
   ]
  },
  {
   "cell_type": "markdown",
   "metadata": {
    "collapsed": false,
    "jupyter": {
     "outputs_hidden": false
    },
    "pycharm": {
     "name": "#%% md\n"
    }
   },
   "source": [
    "You can add cells here to answer the questions"
   ]
  },
  {
   "cell_type": "code",
<<<<<<< HEAD
   "execution_count": 224,
=======
   "execution_count": 14,
>>>>>>> 696aef3c964e101dfdf5b567ce9da398d7c113cd
   "metadata": {
    "collapsed": false,
    "jupyter": {
     "outputs_hidden": false
    },
    "pycharm": {
     "name": "#%%\n"
    }
   },
   "outputs": [
    {
     "name": "stdout",
     "output_type": "stream",
     "text": [
      "train set ->  (45000, 3)\n",
      "test set ->  (50000, 3)\n",
      "validation set ->  (5000, 3)\n",
      "label\n",
      "0    1056\n",
      "1     521\n",
      "2     504\n",
      "3     308\n",
      "4     243\n",
      "Name: count, dtype: int64\n"
     ]
    },
    {
     "data": {
      "image/png": "iVBORw0KGgoAAAANSUhEUgAAAnYAAAHWCAYAAAD6oMSKAAAAOnRFWHRTb2Z0d2FyZQBNYXRwbG90bGliIHZlcnNpb24zLjEwLjEsIGh0dHBzOi8vbWF0cGxvdGxpYi5vcmcvc2/+5QAAAAlwSFlzAAAPYQAAD2EBqD+naQAAZFdJREFUeJzt3XdYU2f/P/B3wt4bAg4QFw5EBaW4cFChTixaB63gbK1YlacOWrdtcSJardSqOCp19FFrtV8UcdSBWlG0WrVqVVSWC1BQQHJ+f/gjj5GAjITo6ft1Xbk0d+7cn/sk4fDmrEgEQRBARERERG89qbYnQERERETqwWBHREREJBIMdkREREQiwWBHREREJBIMdkREREQiwWBHREREJBIMdkREREQiwWBHREREJBIMdkREREQiwWBHZbp58yYkEgkWLVqktjEPHToEiUSCQ4cOVaj/ggUL4ObmBrlcrrY5qJuqZQoNDYWLi4vi/oMHD2BiYoLffvtNY/NYt24dJBIJbt68qbEaJV5dPk18Vsoza9YsSCSSGqn1pqjOMtfkZ+Ntp+q16ty5Mzp37vza51Z2/VZREokEs2bNUuuYJF4MdiJTslI6ffq0tqdSbbm5uZg/fz6mTJkCqfR/H1WJRFLm7ZNPPtHijMtmY2ODkSNHYvr06RXqX/ILouRmYGAABwcHdO7cGd988w3u3bunlnnl5+dj1qxZav9FpA5v8txe5uLiUu5nsuS2bt06bU9VVIqKimBra4sOHTqU2UcQBNSpUwetW7euwZlVzW+//fbGhbeSPyZKbsbGxqhbty569+6N2NhYFBQUVHnsN215v/nmG+zcuVPb01ALXW1PgKgsa9euxfPnzzF48OBSj7377rsYOnRoqfZGjRrVxNSUdOrUCU+fPoW+vr6i7Ycffii1lfGTTz7BsmXLcODAAXTt2rVCY3/22Wdo06YNiouLce/ePRw/fhwzZ85EVFQUtm7dqjTORx99hEGDBsHAwKDCc8/Pz8fs2bMBoEJbJEqoWj51K29u06ZNw9SpUzVav6Kio6Px5MkTxf3ffvsNP/30E5YsWQJbW1tFe7t27apVpzrLXJXPxptOT08PAwYMwPfff49bt27B2dm5VJ/ff/8dd+7cwcSJE6tVa9++fdV6fkX89ttvWLFihcqw8/TpU+jqau/X9cqVK2FqaoqCggLcvXsXe/fuxfDhwxEdHY3du3ejTp06lR6zvOXVhm+++Qb9+/dHYGCgtqdSbQx29MaKjY1Fnz59YGhoWOqxRo0a4cMPP9TCrEqTSqWl5qinp1eqX5MmTdC8eXOsW7euwsGuY8eO6N+/v1LbuXPn0L17dwQFBeGvv/6Co6MjAEBHRwc6OjpVXIqKycvLg4mJicrlq0m6urpa/UX3sld/EWRkZOCnn35CYGCg0u7qV5W8lhVVnWWuic+GNgQHByMmJgY//fSTytAbFxcHqVSKQYMGVavOy3+0aYOqdWBN6t+/v9IfKTNmzMCmTZswdOhQDBgwACdOnNDi7OhV3BX7L1RYWIgZM2bA09MTFhYWMDExQceOHXHw4MEyn7NkyRI4OzvDyMgIvr6+uHDhQqk+ly9fRv/+/WFtbQ1DQ0N4eXlh165dVZrjjRs3cP78efj5+VXp+cCLrTzNmzfH+fPn4evrC2NjYzRo0AA///wzAODw4cPw9vaGkZERGjdujP3795ca4+zZs3jvvfdgbm4OU1NTdOvWrdRKrCLH2JV499138euvv0IQhCovl4eHB6Kjo5GdnY3ly5cr2lUdG3T69Gn4+/vD1tYWRkZGqFevHoYPHw7gxXFxdnZ2AIDZs2crdreU/AUdGhoKU1NTXL9+HT169ICZmRmCg4PLXT7g9Z+Vso5XennM181N1fFmz58/x9y5c1G/fn0YGBjAxcUFX3zxRandRS4uLujVqxeOHj2Ktm3bwtDQEK6urtiwYUOpOV2/fh3Xr19XuZyVUd5reeTIEQwYMAB169aFgYEB6tSpg4kTJ+Lp06dKY6haZolEgrCwMOzcuRPNmzeHgYEBmjVrhvj4eKV+qj4blXkdSn6GjIyMULt2bXz11VeIjY197XF7ixYtgkQiwa1bt0o9FhERAX19fTx69AgAcPXqVQQFBUEmk8HQ0BC1a9fGoEGDkJOTU+b47du3h4uLC+Li4ko9VlRUhJ9//hldunSBk5MTzp8/j9DQULi6usLQ0BAymQzDhw/HgwcPyhy/hKrP7J07dxAYGAgTExPY29tj4sSJKndNVuT9DQ0NxYoVKwAoH2pSQtUxdhVZN5W878eOHUN4eDjs7OxgYmKCfv36VftwjuDgYIwcORInT55EQkKCWpd30aJFaNeuHWxsbGBkZARPT0/FevtlCQkJ6NChAywtLWFqaorGjRvjiy++UOpTUFCAmTNnokGDBor5TJ48Wem9kkgkyMvLw/r16xVzCQ0Nrdbro01vxp+8VKNyc3OxevVqDB48GKNGjcLjx4+xZs0a+Pv749SpU2jZsqVS/w0bNuDx48cYO3Ysnj17hqVLl6Jr1674888/4eDgAAC4ePEi2rdvj1q1amHq1KkwMTHB1q1bERgYiP/+97/o169fpeZ4/PhxACjz2Jhnz57h/v37pdrNzc2V/rp+9OgRevXqhUGDBmHAgAFYuXIlBg0ahE2bNmHChAn45JNPMGTIECxcuBD9+/fH7du3YWZmplimjh07wtzcHJMnT4aenh6+//57dO7cWREKK8vT0xNLlizBxYsX0bx580o/v0T//v0xYsQI7Nu3D19//bXKPllZWejevTvs7OwwdepUWFpa4ubNm9i+fTsAwM7ODitXrsSYMWPQr18/vP/++wCAFi1aKMZ4/vw5/P390aFDByxatAjGxsblzqsin5WKqMjcXjVy5EisX78e/fv3x3/+8x+cPHkSkZGRuHTpEnbs2KHU99q1a4rXMCQkBGvXrkVoaCg8PT3RrFkzRb9u3boBgFpOOijrtdy2bRvy8/MxZswY2NjY4NSpU/j2229x584dbNu27bXjHj16FNu3b8enn34KMzMzLFu2DEFBQUhNTYWNjU25z63I63D37l106dIFEokEERERMDExwerVqyu0W/eDDz7A5MmTsXXrVkyaNEnpsa1bt6J79+6wsrJCYWEh/P39UVBQgHHjxkEmk+Hu3bvYvXs3srOzYWFhoXJ8iUSCIUOG4JtvvsHFixeV3rv4+Hg8fPhQEaATEhLwzz//YNiwYZDJZLh48SJWrVqFixcv4sSJE5U6MeXp06fo1q0bUlNT8dlnn8HJyQkbN27EgQMHSvWtyPv78ccfIy0tDQkJCdi4ceNr61d23TRu3DhYWVlh5syZuHnzJqKjoxEWFoYtW7ZUeJlV+eijj7Bq1Srs27cP7777rtqWd+nSpejTpw+Cg4NRWFiIzZs3Y8CAAdi9ezd69uypeA169eqFFi1aYM6cOTAwMMC1a9dw7NgxxThyuRx9+vTB0aNHMXr0aDRp0gR//vknlixZgr///ltxTN3GjRsxcuRItG3bFqNHjwYA1K9fv1qvjVYJJCqxsbECAOGPP/4os8/z58+FgoICpbZHjx4JDg4OwvDhwxVtN27cEAAIRkZGwp07dxTtJ0+eFAAIEydOVLR169ZNcHd3F549e6Zok8vlQrt27YSGDRsq2g4ePCgAEA4ePFjuckybNk0AIDx+/LjUYwDKvP3000+Kfr6+vgIAIS4uTtF2+fJlAYAglUqFEydOKNr37t0rABBiY2MVbYGBgYK+vr5w/fp1RVtaWppgZmYmdOrUqdxlCgkJEZydnUvN/fjx4wIAYcuWLeUuf8mY27ZtK7OPh4eHYGVlpbhf8t7fuHFDEARB2LFjx2s/C/fu3RMACDNnziz1WEhIiABAmDp1qsrHXl6+ynxWfH19BV9f39eOWd7cZs6cKby8+kpJSREACCNHjlTq9/nnnwsAhAMHDijanJ2dBQDC77//rmjLysoSDAwMhP/85z9Kz3d2dlb5PpZn4cKFSu9DybKV9Vrm5+eXaouMjBQkEolw69YtRduryywIL34W9PX1hWvXrinazp07JwAQvv32W0Xbq5+NkmWryOswbtw4QSKRCGfPnlW0PXjwQLC2ti41pio+Pj6Cp6enUtupU6cEAMKGDRsEQRCEs2fPvvbzXpaLFy8KAISIiAil9kGDBgmGhoZCTk6OIAiqX+effvqp1Gug6rV69TMbHR0tABC2bt2qaMvLyxMaNGhQal1Q0fd37Nixpd7fEq/+HFR03VSyLH5+foJcLle0T5w4UdDR0RGys7NV1itR8pm7d++eyscfPXokABD69eun1uV9dYzCwkKhefPmQteuXRVtS5YsKXdugiAIGzduFKRSqXDkyBGl9piYGAGAcOzYMUWbiYmJEBISUuZYbxPuiv0X0tHRUWzVksvlePjwIZ4/fw4vLy+cOXOmVP/AwEDUqlVLcb9t27bw9vZWXLrj4cOHOHDgAD744AM8fvwY9+/fx/379/HgwQP4+/vj6tWruHv3bqXm+ODBA+jq6sLU1FTl43379kVCQkKpW5cuXZT6mZqaKh1f07hxY1haWqJJkyZKf9WW/P+ff/4BABQXF2Pfvn0IDAyEq6urop+joyOGDBmCo0ePIjc3t1LLBABWVlYAoHJrY2WZmpri8ePHZT5uaWkJANi9ezeKioqqXGfMmDEV7vu6z4qmlIwfHh6u1P6f//wHALBnzx6l9qZNm6Jjx46K+3Z2dmjcuLHi/S9x8+ZNtV4iRNVraWRkpPh/Xl4e7t+/j3bt2kEQBJw9e/a1Y/r5+SltXWjRogXMzc1LLYsqFXkd4uPj4ePjo7Ql39raWrEl7HUGDhyI5ORkpV3aW7ZsgYGBAfr27QsAii1ye/fuRX5+foXGfXkZWrVqhc2bNyva8vLysGvXLvTq1Qvm5uYAlF/nki3+77zzDgCoXO+V57fffoOjo6PS8a/GxsaKrT0vq+77+6qqrJtGjx6ttEWyY8eOKC4uVrmLvDJK1s8vr4fUsbwvj/Ho0SPk5OSgY8eOSu9Tyfrtl19+KfNErm3btqFJkyZwc3NT/F66f/++4hjn8g4/epsx2P1LrV+/Hi1atIChoSFsbGxgZ2eHPXv2qDyepWHDhqXaGjVqpPiFd+3aNQiCgOnTp8POzk7pNnPmTAAvdguqU+3ateHn51fq9uruvtq1a5faxWJhYVHqLK6SXywlx/vcu3cP+fn5aNy4canaTZo0gVwux+3btys9b+H/H1unjmuwPXnyRLHbWBVfX18EBQVh9uzZsLW1Rd++fSt9iQJdXV3Url27wv1f91nRlFu3bkEqlaJBgwZK7TKZDJaWlqV+gdWtW7fUGFZWVor3XxPKei1TU1MRGhoKa2trmJqaws7ODr6+vgBQ7vFlJaqzLBV57q1bt0q9rgBUtqkyYMAASKVSxW4/QRCwbds2xfFhAFCvXj2Eh4dj9erVsLW1hb+/P1asWFGh5QdeHO9148YNxSEcO3fuRH5+vlL4fPjwIcaPHw8HBwcYGRnBzs4O9erVA1Cx1/llJa/Jqz/HqtYX1X1/X1WVddOr73PJH5jV/byXnA3+8npIHcu7e/duvPPOOzA0NIS1tbXi0IyXnz9w4EC0b98eI0eOhIODAwYNGoStW7cqhbyrV6/i4sWLpX4vlVw9Qd2/l94UPMbuX+jHH39EaGgoAgMDMWnSJNjb20NHRweRkZFVOlC85Afp888/h7+/v8o+Ff0lUMLGxgbPnz/H48ePyw0vr1PWmYBltQvVOKmhIkpWpC+fYVYVRUVF+Pvvv8s9Tk8ikeDnn3/GiRMn8OuvvyouUbB48WKcOHGizK2hLzMwMFC6hqA6SCQSla9zcXGxWsauCG28/6pey+LiYrz77rt4+PAhpkyZAjc3N5iYmODu3bsIDQ2t0CVlqrMsNfE6ODk5oWPHjti6dSu++OILnDhxAqmpqZg/f75Sv8WLFyM0NBS//PIL9u3bh88++wyRkZE4ceLEa/+4GDx4MCZPnoy4uDi0a9cOcXFxsLKyQo8ePRR9PvjgAxw/fhyTJk1Cy5YtYWpqCrlcjoCAAI1dukcd7686aOp9LjkxqmT9ro7lPXLkCPr06YNOnTrhu+++g6OjI/T09BAbG6t0koyRkRF+//13HDx4EHv27EF8fDy2bNmCrl27Yt++fdDR0YFcLoe7uzuioqJU1qrKZVreBgx2/0I///wzXF1dsX37dqVfhCVb11519erVUm1///234gzGkt0Benp61TqL9WVubm4AXpwdW94B85piZ2cHY2NjXLlypdRjly9fhlQqrdJK4caNGwBe/GVdHT///DOePn1aZpB+2TvvvIN33nkHX3/9NeLi4hAcHIzNmzdj5MiRav/2htd9VoAXWwtU7SZ8dataZebm7OwMuVyOq1evKr22mZmZyM7OVnmNszfBn3/+ib///hvr169Xui7jy2cZapuzszOuXbtWql1VW1kGDhyITz/9FFeuXMGWLVtgbGyM3r17l+rn7u4Od3d3TJs2DcePH0f79u0RExODr776qtzxnZyc0KVLF2zbtg3Tp09HQkICQkNDFYecPHr0CImJiZg9ezZmzJiheJ6qz2tFODs748KFCxAEQelz+ur6ojLvb0U/75paN1VFyYkPJeshdSzvf//7XxgaGmLv3r1KJ+jExsaW6iuVStGtWzd069YNUVFR+Oabb/Dll1/i4MGDikMUzp07h27dur329RXTN9lwV+y/UMlfby//tXby5EkkJSWp7L9z506lY+ROnTqFkydP4r333gMA2Nvbo3Pnzvj++++Rnp5e6vlVOa3ex8cHALT2DRo6Ojro3r07fvnlF6XdiJmZmYiLi0OHDh0Uu5EqIzk5GRYWFkpn71XWuXPnMGHCBFhZWWHs2LFl9nv06FGpv8hLjpMq2R1bcmZmdnZ2lefzstd9VoAXZ5tdvnxZ6XNx7tw5pbPZKju3ki0z0dHRSu0lf6mXnElXWeq63ElZVP0sCoKApUuXaqxmZfn7+yMpKQkpKSmKtocPH2LTpk0VHiMoKAg6Ojr46aefsG3bNvTq1UvpGn65ubl4/vy50nPc3d0hlUorfOhAcHAwsrKy8PHHH6OoqEhpN6yq1xko/XmpqB49eiAtLU3pEhz5+flYtWqVUr/KvL8lr8frPu+aWjdVVlxcHFavXg0fHx/F2ePqWF4dHR1IJBKlLfg3b94s9a0QDx8+LDXmq+u3Dz74AHfv3sUPP/xQqu/Tp0+Rl5enNB91rQe1jVvsRGrt2rWlrmUFAOPHj0evXr2wfft29OvXDz179sSNGzcQExODpk2bKl1Bv0SDBg3QoUMHjBkzBgUFBYiOjoaNjQ0mT56s6LNixQp06NAB7u7uGDVqFFxdXZGZmYmkpCTcuXMH586dq9T8XV1d0bx5c+zfv19x3bWX/f333/jxxx9LtTs4OChOu6+ur776SnGdpE8//RS6urr4/vvvUVBQgAULFlRpzISEBPTu3bvCfx0eOXIEz549Q3FxMR48eIBjx45h165dsLCwwI4dOyCTycp87vr16/Hdd9+hX79+qF+/Ph4/fowffvgB5ubmiiBkZGSEpk2bYsuWLWjUqBGsra3RvHnzKl+KpSKfleHDhyMqKgr+/v4YMWIEsrKyEBMTg2bNmikd9F2ZuXl4eCAkJASrVq1CdnY2fH19cerUKaxfvx6BgYGlTqqpKHVe7kQVNzc31K9fH59//jnu3r0Lc3Nz/Pe//9XosX6VNXnyZPz444949913MW7cOMXlTurWrYuHDx9W6LNsb2+PLl26ICoqCo8fP8bAgQOVHj9w4ADCwsIwYMAANGrUCM+fP8fGjRuho6ODoKCgCs0zKCgIn376KX755RfUqVMHnTp1Ujxmbm6OTp06YcGCBSgqKkKtWrWwb98+xRb0yho1ahSWL1+OoUOHIjk5GY6Ojti4cWOpywFV5v319PQE8OLbZvz9/aGjo1PmhZU1sW4qz88//wxTU1MUFhYqvnni2LFj8PDwULokjzqWt2fPnoiKikJAQACGDBmCrKwsrFixAg0aNMD58+cVz58zZw5+//139OzZE87OzsjKysJ3332H2rVrK75m7qOPPsLWrVvxySef4ODBg2jfvj2Ki4tx+fJlbN26FXv37oWXl5diPvv370dUVBScnJxQr169Kl3S6o1Qk6fgkuaVnN5e1u327duCXC4XvvnmG8HZ2VkwMDAQWrVqJezevbvMS1gsXLhQWLx4sVCnTh3BwMBA6Nixo3Du3LlSta9fvy4MHTpUkMlkgp6enlCrVi2hV69ews8//6zoU9HLnQiCIERFRQmmpqalTn0vb/leviSBr6+v0KxZs1LjOjs7Cz179izVDkAYO3asUtuZM2cEf39/wdTUVDA2Nha6dOkiHD9+XKlPRS93cunSJQGAsH///tcue8mYJTc9PT3Bzs5O6NSpk/D1118LWVlZpZ7z6mUazpw5IwwePFioW7euYGBgINjb2wu9evUSTp8+rfS848ePC56enoK+vr7SZRVCQkIEExMTlfOr7mflxx9/FFxdXQV9fX2hZcuWwt69e1W+ZmXNTdWlP4qKioTZs2cL9erVE/T09IQ6deoIERERSpfgEYSy339Vl2FR5+VOynot//rrL8HPz08wNTUVbG1thVGjRikuWfLy5XfKutzJq5/Zknm/fOmGsi53UtHX4ezZs0LHjh0FAwMDoXbt2kJkZKSwbNkyAYCQkZFR9ovxkh9++EEAIJiZmQlPnz5Veuyff/4Rhg8fLtSvX18wNDQUrK2thS5dulToZ+VlAwYMEAAIkydPLvXYnTt3hH79+gmWlpaChYWFMGDAACEtLa3UpUQqcrkTQRCEW7duCX369BGMjY0FW1tbYfz48UJ8fHypdUFF39/nz58L48aNE+zs7ASJRKL0Xr86R0Go2LqprMtfVXQ9XPKZK7kZGhoKtWvXFnr16iWsXbu21M+WupZ3zZo1QsOGDQUDAwPBzc1NiI2NLfX5T0xMFPr27Ss4OTkJ+vr6gpOTkzB48GDh77//VppPYWGhMH/+fKFZs2aCgYGBYGVlJXh6egqzZ89WXApHEF5cCqtTp06CkZGRAOCtvvSJRBA0fLQ4URXl5OTA1dUVCxYswIgRI7Q9nTIlJibCz88PR44cKfcLySdMmIDff/8dycnJojqeg/6dJkyYgO+//x5PnjwR5deVEb2teIwdvbEsLCwwefJkLFy4sMbOHquKkuMKyzvT9cGDB1i9ejW++uorhjp667z69WYPHjzAxo0b0aFDB4Y6ojcMt9gRVVFeXh42bdqEpUuXIjc3V3EtNSKxadmyJTp37owmTZogMzMTa9asQVpaGhITE5WOZSMi7ePJE0RVdO/ePYwbNw7u7u6IjY1lqCPR6tGjB37++WesWrUKEokErVu3xpo1axjqiN5A3GJHREREJBLcxEBEREQkEgx2RERERCLBY+yqSC6XIy0tDWZmZjzLkYiIiDRGEAQ8fvwYTk5Orz2em8GuitLS0kT7BcJERET05rl9+zZq165dbh8GuyoyMzMD8OJFronv5SMiIqJ/p9zcXNSpU0eRPcrDYFdFJbtfzc3NGeyIiIhI4ypy6BdPniAiIiISCQY7IiIiIpFgsCMiIiISCR5jR0RE9BYqLi5GUVGRtqdBaqCnpwcdHR21jMVgR0RE9BYRBAEZGRnIzs7W9lRIjSwtLSGTyap9bVwGOyIiordISaizt7eHsbExL5L/lhMEAfn5+cjKygIAODo6Vms8BjsiIqK3RHFxsSLU2djYaHs6pCZGRkYAgKysLNjb21drtyxPniAiInpLlBxTZ2xsrOWZkLqVvKfVPW6SwY6IiOgtw92v4qOu95TBjoiIiEgkGOyIiIjoreTi4oLo6GhtT+ONwpMniIiIRMBl6p4arXdzXs8K933dbsaZM2di1qxZlZ7DH3/8ARMTk0o/T8wY7IiIiEij0tPTFf/fsmULZsyYgStXrijaTE1NFf8XBAHFxcXQ1X19RLGzs1PvREWAu2KJiIhIo2QymeJmYWEBiUSiuH/58mWYmZnh//7v/+Dp6QkDAwMcPXoU169fR9++feHg4ABTU1O0adMG+/fvVxr31V2xEokEq1evRr9+/WBsbIyGDRti165dNby02sVgR0RERFo3depUzJs3D5cuXUKLFi3w5MkT9OjRA4mJiTh79iwCAgLQu3dvpKamljvO7Nmz8cEHH+D8+fPo0aMHgoOD8fDhwxpaCu1jsCMiIiKtmzNnDt59913Ur18f1tbW8PDwwMcff4zmzZujYcOGmDt3LurXr//aLXChoaEYPHgwGjRogG+++QZPnjzBqVOnamgptI/H2NW0WRblPJZTc/MgIiJ6g3h5eSndf/LkCWbNmoU9e/YgPT0dz58/x9OnT1+7xa5FixaK/5uYmMDc3FzxdV3/Bgx2REREpHWvnt36+eefIyEhAYsWLUKDBg1gZGSE/v37o7CwsNxx9PT0lO5LJBLI5XK1z/dNxWBHREREb5xjx44hNDQU/fr1A/BiC97Nmze1O6m3AI+xIyIiojdOw4YNsX37dqSkpODcuXMYMmTIv2rLW1Ux2BEREdEbJyoqClZWVmjXrh169+4Nf39/tG7dWtvTeuNJBEEQtD2Jt1Fubi4sLCyQk5MDc3Pzij+RJ08QEVEVPXv2DDdu3EC9evVgaGio7emQGpX33lYmc3CLHREREZFIMNgRERERiQSDHREREZFIMNgRERERiQSDHREREZFI8ALFGuIydY/K9ps8iYmIiIg0hFvsiIiIiESCwY6IiIhIJBjsiIiIiETijQh2K1asgIuLCwwNDeHt7Y1Tp06V2feHH35Ax44dYWVlBSsrK/j5+ZXqLwgCZsyYAUdHRxgZGcHPzw9Xr15V6vPw4UMEBwfD3NwclpaWGDFiBJ48eaKR5SMiIqLq6dy5MyZMmKC47+Ligujo6HKfI5FIsHPnzmrXVtc4NUHrJ09s2bIF4eHhiImJgbe3N6Kjo+Hv748rV67A3t6+VP9Dhw5h8ODBaNeuHQwNDTF//nx0794dFy9eRK1atQAACxYswLJly7B+/XrUq1cP06dPh7+/P/766y/F13QEBwcjPT0dCQkJKCoqwrBhwzB69GjExcXV6PITERGpRXlfWamRehX/GszevXujqKgI8fHxpR47cuQIOnXqhHPnzqFFixYVHvOPP/6AiYlJhftXxKxZs7Bz506kpKQotaenp8PKykqttTRF61vsoqKiMGrUKAwbNgxNmzZFTEwMjI2NsXbtWpX9N23ahE8//RQtW7aEm5sbVq9eDblcjsTERAAvttZFR0dj2rRp6Nu3L1q0aIENGzYgLS1NkbYvXbqE+Ph4rF69Gt7e3ujQoQO+/fZbbN68GWlpaTW16ERERP8KI0aMQEJCAu7cuVPqsdjYWHh5eVUq1AGAnZ0djI2N1TXFcslkMhgYGNRIrerSarArLCxEcnIy/Pz8FG1SqRR+fn5ISkqq0Bj5+fkoKiqCtbU1AODGjRvIyMhQGtPCwgLe3t6KMZOSkmBpaQkvLy9FHz8/P0ilUpw8eVJlnYKCAuTm5irdiIiI6PV69eoFOzs7rFu3Tqn9yZMn2LZtGwIDAzF48GDUqlULxsbGcHd3x08//VTumK/uir169So6deoEQ0NDNG3aFAkJCaWeM2XKFDRq1AjGxsZwdXXF9OnTUVRUBABYt24dZs+ejXPnzkEikUAikSjm++qu2D///BNdu3aFkZERbGxsMHr0aKXDuUJDQxEYGIhFixbB0dERNjY2GDt2rKKWJmk12N2/fx/FxcVwcHBQandwcEBGRkaFxpgyZQqcnJwUQa7keeWNmZGRUWo3r66uLqytrcusGxkZCQsLC8WtTp06FZofERHRv52uri6GDh2KdevWQRAERfu2bdtQXFyMDz/8EJ6entizZw8uXLiA0aNH46OPPir3mPuXyeVyvP/++9DX18fJkycRExODKVOmlOpnZmaGdevW4a+//sLSpUvxww8/YMmSJQCAgQMH4j//+Q+aNWuG9PR0pKenY+DAgaXGyMvLg7+/P6ysrPDHH39g27Zt2L9/P8LCwpT6HTx4ENevX8fBgwexfv16rFu3rlSw1QSt74qtjnnz5mHz5s3YsWOH4tg5TYmIiEBOTo7idvv2bY3WIyIiEpPhw4fj+vXrOHz4sKItNjYWQUFBcHZ2xueff46WLVvC1dUV48aNQ0BAALZu3Vqhsffv34/Lly9jw4YN8PDwQKdOnfDNN9+U6jdt2jS0a9cOLi4u6N27Nz7//HNFDSMjI5iamkJXVxcymQwymQxGRkalxoiLi8OzZ8+wYcMGNG/eHF27dsXy5cuxceNGZGZmKvpZWVlh+fLlcHNzQ69evdCzZ0/FYWOapNVgZ2trCx0dHaUXAgAyMzMhk8nKfe6iRYswb9487Nu3T2m/fMnzyhtTJpMhKytL6fHnz5/j4cOHZdY1MDCAubm50o2IiIgqxs3NDe3atVMcQ3/t2jUcOXIEI0aMQHFxMebOnQt3d3dYW1vD1NQUe/fuRWpqaoXGvnTpEurUqQMnJydFm4+PT6l+W7ZsQfv27SGTyWBqaopp06ZVuMbLtTw8PJRO3Gjfvj3kcjmuXLmiaGvWrBl0dHQU9x0dHUtlD03QarDT19eHp6enUoItORFC1RtSYsGCBZg7dy7i4+OVjpMDgHr16kEmkymNmZubi5MnTyrG9PHxQXZ2NpKTkxV9Dhw4ALlcDm9vb3UtHhEREb1kxIgR+O9//4vHjx8jNjYW9evXh6+vLxYuXIilS5diypQpOHjwIFJSUuDv74/CwkK11U5KSkJwcDB69OiB3bt34+zZs/jyyy/VWuNlenp6SvclEgnkcrlGar1M67tiw8PD8cMPP2D9+vW4dOkSxowZg7y8PAwbNgwAMHToUERERCj6z58/H9OnT8fatWvh4uKCjIwMZGRkKA5alEgkmDBhAr766ivs2rULf/75J4YOHQonJycEBgYCAJo0aYKAgACMGjUKp06dwrFjxxAWFoZBgwYppX0iIiJSnw8++ABSqRRxcXHYsGEDhg8fDolEgmPHjqFv37748MMP4eHhAVdXV/z9998VHrdJkya4ffs20tPTFW0nTpxQ6nP8+HE4Ozvjyy+/hJeXFxo2bIhbt24p9dHX10dxcfFra507dw55eXmKtmPHjkEqlaJx48YVnrOmaD3YDRw4EIsWLcKMGTPQsmVLpKSkID4+XnHyQ2pqqtIbtXLlShQWFqJ///5wdHRU3BYtWqToM3nyZIwbNw6jR49GmzZt8OTJE8THxysdh7dp0ya4ubmhW7du6NGjBzp06IBVq1bV3IITERH9y5iammLgwIGIiIhAeno6QkNDAQANGzZEQkICjh8/jkuXLuHjjz8udUhVefz8/NCoUSOEhITg3LlzOHLkCL788kulPg0bNkRqaio2b96M69evY9myZdixY4dSHxcXF9y4cQMpKSm4f/8+CgoKStUKDg6GoaEhQkJCcOHCBRw8eBDjxo3DRx99VOrETW3QerADgLCwMNy6dQsFBQU4efKk0u7QQ4cOKZ1FcvPmTQiCUOo2a9YsRR+JRII5c+YgIyMDz549w/79+9GoUSOlmtbW1oiLi8Pjx4+Rk5ODtWvXwtTUVNOLSkRE9K82YsQIPHr0CP7+/oq9ZNOmTUPr1q3h7++Pzp07QyaTKfayVYRUKsWOHTvw9OlTtG3bFiNHjsTXX3+t1KdPnz6YOHEiwsLC0LJlSxw/fhzTp09X6hMUFISAgAB06dIFdnZ2Ki+5YmxsjL179+Lhw4do06YN+vfvj27dumH58uWVfzE0QCK8fN4xVVhubi4sLCyQk5Oj8kQKl6l7VD7vpuGQsgetxFW8iYjo3+fZs2e4ceMG6tWrp/GrQVDNKu+9fV3meNkbscWOiIiIiKqPwY6IiIhIJBjsiIiIiESCwY6IiIhIJBjsiIiIiESCwY6IiOgtUxPfYEA1S13vqa5aRiEiIiKN09fXh1QqRVpaGuzs7KCvrw+JRKLtaVE1CIKAwsJC3Lt3D1KpFPr6+tUaj8GOiIjoLSGVSlGvXj2kp6cjLS1N29MhNTI2NkbdunUhlVZvZyqDHRER0VtEX18fdevWxfPnz1/7vab0dtDR0YGurq5atr4y2BEREb1lJBIJ9PT0oKenp+2p0BuGJ08QERERiQSDHREREZFIMNgRERERiQSDHREREZFIMNgRERERiQSDHREREZFIMNgRERERiQSDHREREZFIMNgRERERiQSDHREREZFIMNgRERERiQSDHREREZFIMNgRERERiQSDHREREZFIMNgRERERiQSDHREREZFIMNgRERERiQSDHREREZFIMNgRERERiQSDHREREZFIMNgRERERiYTWg92KFSvg4uICQ0NDeHt749SpU2X2vXjxIoKCguDi4gKJRILo6OhSfUoee/U2duxYRZ/OnTuXevyTTz7RxOIRERER1RitBrstW7YgPDwcM2fOxJkzZ+Dh4QF/f39kZWWp7J+fnw9XV1fMmzcPMplMZZ8//vgD6enpiltCQgIAYMCAAUr9Ro0apdRvwYIF6l04IiIiohqm1WAXFRWFUaNGYdiwYWjatCliYmJgbGyMtWvXquzfpk0bLFy4EIMGDYKBgYHKPnZ2dpDJZIrb7t27Ub9+ffj6+ir1MzY2Vupnbm6u9uUjIiIiqklaC3aFhYVITk6Gn5/f/yYjlcLPzw9JSUlqq/Hjjz9i+PDhkEgkSo9t2rQJtra2aN68OSIiIpCfn1/uWAUFBcjNzVW6EREREb1JdLVV+P79+yguLoaDg4NSu4ODAy5fvqyWGjt37kR2djZCQ0OV2ocMGQJnZ2c4OTnh/PnzmDJlCq5cuYLt27eXOVZkZCRmz56tlnkRERERaYLWgl1NWLNmDd577z04OTkptY8ePVrxf3d3dzg6OqJbt264fv066tevr3KsiIgIhIeHK+7n5uaiTp06mpk4ERERURVoLdjZ2tpCR0cHmZmZSu2ZmZllnhhRGbdu3cL+/fvL3QpXwtvbGwBw7dq1MoOdgYFBmcf1EREREb0JtHaMnb6+Pjw9PZGYmKhok8vlSExMhI+PT7XHj42Nhb29PXr27PnavikpKQAAR0fHatclIiIi0hat7ooNDw9HSEgIvLy80LZtW0RHRyMvLw/Dhg0DAAwdOhS1atVCZGQkgBcnQ/z111+K/9+9excpKSkwNTVFgwYNFOPK5XLExsYiJCQEurrKi3j9+nXExcWhR48esLGxwfnz5zFx4kR06tQJLVq0qKElJyIiIlI/rQa7gQMH4t69e5gxYwYyMjLQsmVLxMfHK06oSE1NhVT6v42KaWlpaNWqleL+okWLsGjRIvj6+uLQoUOK9v379yM1NRXDhw8vVVNfXx/79+9XhMg6deogKCgI06ZN09yCEhEREdUAiSAIgrYn8TbKzc2FhYUFcnJyVF4Dz2XqHpXPu2k4pOxBZ+Woa3pEREQkEq/LHC/T+leKEREREZF6MNgRERERiQSDHREREZFIMNgRERERiQSDHREREZFIMNgRERERiQSDHREREZFIMNgRERERiQSDHREREZFIMNgRERERiQSDHREREZFIMNgRERERiQSDHREREZFIMNgRERERiQSDHREREZFIMNgRERERiQSDHREREZFIMNgRERERiQSDHREREZFIMNgRERERiQSDHREREZFIMNgRERERiQSDHREREZFIMNgRERERiQSDHREREZFIMNgRERERiQSDHREREZFIMNgRERERiQSDHREREZFIMNgRERERiQSDHREREZFIMNgRERERiYTWg92KFSvg4uICQ0NDeHt749SpU2X2vXjxIoKCguDi4gKJRILo6OhSfWbNmgWJRKJ0c3NzU+rz7NkzjB07FjY2NjA1NUVQUBAyMzPVvWhERERENUqrwW7Lli0IDw/HzJkzcebMGXh4eMDf3x9ZWVkq++fn58PV1RXz5s2DTCYrc9xmzZohPT1dcTt69KjS4xMnTsSvv/6Kbdu24fDhw0hLS8P777+v1mUjIiIiqmlaDXZRUVEYNWoUhg0bhqZNmyImJgbGxsZYu3atyv5t2rTBwoULMWjQIBgYGJQ5rq6uLmQymeJma2ureCwnJwdr1qxBVFQUunbtCk9PT8TGxuL48eM4ceKE2peRiIiIqKZoLdgVFhYiOTkZfn5+/5uMVAo/Pz8kJSVVa+yrV6/CyckJrq6uCA4ORmpqquKx5ORkFBUVKdV1c3ND3bp1q12XiIiISJu0Fuzu37+P4uJiODg4KLU7ODggIyOjyuN6e3tj3bp1iI+Px8qVK3Hjxg107NgRjx8/BgBkZGRAX18flpaWlapbUFCA3NxcpRsRERHRm0RX2xNQt/fee0/x/xYtWsDb2xvOzs7YunUrRowYUeVxIyMjMXv2bHVMkYiIiEgjtLbFztbWFjo6OqXORs3MzCz3xIjKsrS0RKNGjXDt2jUAgEwmQ2FhIbKzsytVNyIiAjk5OYrb7du31TZHIiIiInXQWrDT19eHp6cnEhMTFW1yuRyJiYnw8fFRW50nT57g+vXrcHR0BAB4enpCT09Pqe6VK1eQmppabl0DAwOYm5sr3YiIiIjeJFrdFRseHo6QkBB4eXmhbdu2iI6ORl5eHoYNGwYAGDp0KGrVqoXIyEgAL064+OuvvxT/v3v3LlJSUmBqaooGDRoAAD7//HP07t0bzs7OSEtLw8yZM6Gjo4PBgwcDACwsLDBixAiEh4fD2toa5ubmGDduHHx8fPDOO+9o4VUgIiIiUg+tBruBAwfi3r17mDFjBjIyMtCyZUvEx8crTqhITU2FVPq/jYppaWlo1aqV4v6iRYuwaNEi+Pr64tChQwCAO3fuYPDgwXjw4AHs7OzQoUMHnDhxAnZ2dornLVmyBFKpFEFBQSgoKIC/vz++++67mlloIiIiIg2RCIIgaHsSb6Pc3FxYWFggJydH5W5Zl6l7VD7vpuGQsgedlaOu6REREZFIvC5zvEzrXylGREREROrBYEdEREQkEgx2RERERCLBYEdEREQkEgx2RERERCLBYEdEREQkEgx2RERERCLBYEdEREQkEgx2RERERCLBYEdEREQkEgx2RERERCLBYEdEREQkEgx2RERERCLBYEdEREQkEgx2RERERCLBYEdEREQkEgx2RERERCLBYEdEREQkEgx2RERERCLBYEdEREQkEgx2RERERCLBYEdEREQkEgx2RERERCLBYEdEREQkEgx2RERERCLBYEdEREQkEgx2RERERCLBYEdEREQkEgx2RERERCLBYEdEREQkEgx2RERERCLBYEdEREQkEgx2RERERCKh9WC3YsUKuLi4wNDQEN7e3jh16lSZfS9evIigoCC4uLhAIpEgOjq6VJ/IyEi0adMGZmZmsLe3R2BgIK5cuaLUp3PnzpBIJEq3Tz75RN2LRkRERFSjtBrstmzZgvDwcMycORNnzpyBh4cH/P39kZWVpbJ/fn4+XF1dMW/ePMhkMpV9Dh8+jLFjx+LEiRNISEhAUVERunfvjry8PKV+o0aNQnp6uuK2YMECtS8fERERUU3S1WbxqKgojBo1CsOGDQMAxMTEYM+ePVi7di2mTp1aqn+bNm3Qpk0bAFD5OADEx8cr3V+3bh3s7e2RnJyMTp06KdqNjY3LDIdEREREbyOtbbErLCxEcnIy/Pz8/jcZqRR+fn5ISkpSW52cnBwAgLW1tVL7pk2bYGtri+bNmyMiIgL5+fnljlNQUIDc3FylGxEREdGbRGtb7O7fv4/i4mI4ODgotTs4OODy5ctqqSGXyzFhwgS0b98ezZs3V7QPGTIEzs7OcHJywvnz5zFlyhRcuXIF27dvL3OsyMhIzJ49Wy3zIiIiItIEre6K1bSxY8fiwoULOHr0qFL76NGjFf93d3eHo6MjunXrhuvXr6N+/foqx4qIiEB4eLjifm5uLurUqaOZiRMRERFVgdaCna2tLXR0dJCZmanUnpmZqZZj38LCwrB79278/vvvqF27drl9vb29AQDXrl0rM9gZGBjAwMCg2vMiIiIi0hStHWOnr68PT09PJCYmKtrkcjkSExPh4+NT5XEFQUBYWBh27NiBAwcOoF69eq99TkpKCgDA0dGxynWJiIiItE2ru2LDw8MREhICLy8vtG3bFtHR0cjLy1OcJTt06FDUqlULkZGRAF6ccPHXX38p/n/37l2kpKTA1NQUDRo0APBi92tcXBx++eUXmJmZISMjAwBgYWEBIyMjXL9+HXFxcejRowdsbGxw/vx5TJw4EZ06dUKLFi208CoQERERqYdWg93AgQNx7949zJgxAxkZGWjZsiXi4+MVJ1SkpqZCKv3fRsW0tDS0atVKcX/RokVYtGgRfH19cejQIQDAypUrAby4CPHLYmNjERoaCn19fezfv18RIuvUqYOgoCBMmzZNswtLREREpGESQRCEyj7J1dUVf/zxB2xsbJTas7Oz0bp1a/zzzz9qm+CbKjc3FxYWFsjJyYG5uXmpx12m7lH5vJuGQ8oedFaOuqZHREREIvG6zPGyKh1jd/PmTRQXF5dqLygowN27d6syJBERERFVU6V2xe7atUvx/71798LCwkJxv7i4GImJiXBxcVHb5IiIiIio4ioV7AIDAwEAEokEISEhSo/p6enBxcUFixcvVtvkiIiIiKjiKhXs5HI5AKBevXr4448/YGtrq5FJEREREVHlVems2Bs3bqh7HkRERERUTVW+3EliYiISExORlZWl2JJXYu3atdWeGBERERFVTpWC3ezZszFnzhx4eXnB0dEREolE3fMiIiIiokqqUrCLiYnBunXr8NFHH6l7PkRERERURVW6jl1hYSHatWun7rkQERERUTVUKdiNHDkScXFx6p4LEREREVVDlXbFPnv2DKtWrcL+/fvRokUL6OnpKT0eFRWllskRERERUcVVKdidP38eLVu2BABcuHBB6TGeSEFERESkHVUKdgcPHlT3PIiIiIiomqp0jB0RERERvXmqtMWuS5cu5e5yPXDgQJUnRERERERVU6VgV3J8XYmioiKkpKTgwoULCAkJUce8iIiIiKiSqhTslixZorJ91qxZePLkSbUmRERERERVo9Zj7D788EN+TywRERGRlqg12CUlJcHQ0FCdQxIRERFRBVVpV+z777+vdF8QBKSnp+P06dOYPn26WiZGRERERJVTpWBnYWGhdF8qlaJx48aYM2cOunfvrpaJEREREVHlVCnYxcbGqnseVA0uU/eobL85r2cNz4SIiIi0qUrBrkRycjIuXboEAGjWrBlatWqllkkRERERUeVVKdhlZWVh0KBBOHToECwtLQEA2dnZ6NKlCzZv3gw7Ozt1zpGIiIiIKqBKZ8WOGzcOjx8/xsWLF/Hw4UM8fPgQFy5cQG5uLj777DN1z5GIiIiIKqBKW+zi4+Oxf/9+NGnSRNHWtGlTrFixgidPEBEREWlJlbbYyeVy6OnplWrX09ODXC6v9qSIiIiIqPKqFOy6du2K8ePHIy0tTdF29+5dTJw4Ed26dVPb5IiIiIio4qq0K3b58uXo06cPXFxcUKdOHQDA7du30bx5c/z4449qnSC9WXhpFSIiojdXlYJdnTp1cObMGezfvx+XL18GADRp0gR+fn5qnRxV0yyLch7Lqbl5EBERUY2o1K7YAwcOoGnTpsjNzYVEIsG7776LcePGYdy4cWjTpg2aNWuGI0eOaGquRERERFSOSgW76OhojBo1Cubm5qUes7CwwMcff4yoqCi1TY6IiIiIKq5Swe7cuXMICAgo8/Hu3bsjOTm5UhNYsWIFXFxcYGhoCG9vb5w6darMvhcvXkRQUBBcXFwgkUgQHR1dpTGfPXuGsWPHwsbGBqampggKCkJmZmal5k1ERET0pqlUsMvMzFR5mZMSurq6uHfvXoXH27JlC8LDwzFz5kycOXMGHh4e8Pf3R1ZWlsr++fn5cHV1xbx58yCTyao85sSJE/Hrr79i27ZtOHz4MNLS0vD+++9XeN5EREREb6JKBbtatWrhwoULZT5+/vx5ODo6Vni8qKgojBo1CsOGDUPTpk0RExMDY2NjrF27VmX/Nm3aYOHChRg0aBAMDAyqNGZOTg7WrFmDqKgodO3aFZ6enoiNjcXx48dx4sSJCs+diIiI6E1TqbNie/TogenTpyMgIACGhoZKjz19+hQzZ85Er169KjRWYWEhkpOTERERoWiTSqXw8/NDUlJSZaZVqTGTk5NRVFSkdAavm5sb6tati6SkJLzzzjsqxy4oKEBBQYHifm5ubpXmKFo8A5eIiEjrKhXspk2bhu3bt6NRo0YICwtD48aNAQCXL1/GihUrUFxcjC+//LJCY92/fx/FxcVwcHBQandwcFBcQqWyKjJmRkYG9PX1YWlpWapPRkZGmWNHRkZi9uzZVZoXERERUU2oVLBzcHDA8ePHMWbMGEREREAQBACARCKBv78/VqxYUSpUiUVERATCw8MV93NzcxUXZyYiIiJ6E1T6AsXOzs747bff8OjRI1y7dg2CIKBhw4awsrKq1Di2trbQ0dEpdTZqZmZmmSdGqGNMmUyGwsJCZGdnK221e11dAwODMo/rIyIiInoTVOm7YgHAysoKbdq0Qdu2bSsd6gBAX18fnp6eSExMVLTJ5XIkJibCx8enSnOqyJienp7Q09NT6nPlyhWkpqZWuS4RERHRm6BKXymmLuHh4QgJCYGXlxfatm2L6Oho5OXlYdiwYQCAoUOHolatWoiMjATw4uSIv/76S/H/u3fvIiUlBaampmjQoEGFxrSwsMCIESMQHh4Oa2trmJubY9y4cfDx8SnzxAkiIiKit4FWg93AgQNx7949zJgxAxkZGWjZsiXi4+MVx+mlpqZCKv3fRsW0tDS0atVKcX/RokVYtGgRfH19cejQoQqNCQBLliyBVCpFUFAQCgoK4O/vj++++65mFpqIiIhIQyRCyRkQVCm5ubmwsLBATk6Oyq9Yc5m6R+XzbhoOKXvQKl4WRKy1iIiI6PWZ42VVPsaOiIiIiN4sDHZEREREIsFgR0RERCQSDHZEREREIsFgR0RERCQSDHZEREREIsFgR0RERCQSDHZEREREIsFgR0RERCQSDHZEREREIsFgR0RERCQSDHZEREREIsFgR0RERCQSDHZEREREIsFgR0RERCQSDHZEREREIsFgR0RERCQSDHZEREREIsFgR0RERCQSDHZEREREIsFgR0RERCQSDHZEREREIsFgR0RERCQSDHZEREREIsFgR0RERCQSDHZEREREIsFgR0RERCQSDHZEREREIsFgR0RERCQSDHZEREREIsFgR0RERCQSDHZEREREIvFGBLsVK1bAxcUFhoaG8Pb2xqlTp8rtv23bNri5ucHQ0BDu7u747bfflB6XSCQqbwsXLlT0cXFxKfX4vHnzNLJ8RERERDVB68Fuy5YtCA8Px8yZM3HmzBl4eHjA398fWVlZKvsfP34cgwcPxogRI3D27FkEBgYiMDAQFy5cUPRJT09Xuq1duxYSiQRBQUFKY82ZM0ep37hx4zS6rERERESapPVgFxUVhVGjRmHYsGFo2rQpYmJiYGxsjLVr16rsv3TpUgQEBGDSpElo0qQJ5s6di9atW2P58uWKPjKZTOn2yy+/oEuXLnB1dVUay8zMTKmfiYmJRpeViIiISJO0GuwKCwuRnJwMPz8/RZtUKoWfnx+SkpJUPicpKUmpPwD4+/uX2T8zMxN79uzBiBEjSj02b9482NjYoFWrVli4cCGeP39ejaUhIiIi0i5dbRa/f/8+iouL4eDgoNTu4OCAy5cvq3xORkaGyv4ZGRkq+69fvx5mZmZ4//33ldo/++wztG7dGtbW1jh+/DgiIiKQnp6OqKgoleMUFBSgoKBAcT83N/e1y0dERERUk7Qa7GrC2rVrERwcDENDQ6X28PBwxf9btGgBfX19fPzxx4iMjISBgUGpcSIjIzF79myNz5eIiIioqrS6K9bW1hY6OjrIzMxUas/MzIRMJlP5HJlMVuH+R44cwZUrVzBy5MjXzsXb2xvPnz/HzZs3VT4eERGBnJwcxe327duvHZOIiIioJmk12Onr68PT0xOJiYmKNrlcjsTERPj4+Kh8jo+Pj1J/AEhISFDZf82aNfD09ISHh8dr55KSkgKpVAp7e3uVjxsYGMDc3FzpRkRERPQm0fqu2PDwcISEhMDLywtt27ZFdHQ08vLyMGzYMADA0KFDUatWLURGRgIAxo8fD19fXyxevBg9e/bE5s2bcfr0aaxatUpp3NzcXGzbtg2LFy8uVTMpKQknT55Ely5dYGZmhqSkJEycOBEffvghrKysNL/QRERERBqg9WA3cOBA3Lt3DzNmzEBGRgZatmyJ+Ph4xQkSqampkEr/t2GxXbt2iIuLw7Rp0/DFF1+gYcOG2LlzJ5o3b6407ubNmyEIAgYPHlyqpoGBATZv3oxZs2ahoKAA9erVw8SJE5WOuyMiIiJ620gEQRC0PYm3UW5uLiwsLJCTk6Nyt6zL1D0qn3fTcEjZg87KqdJcxFqLiIiIXp85Xqb1CxQTERERkXow2BERERGJBIMdERERkUgw2BERERGJBIMdERERkUgw2BERERGJBIMdERERkUgw2BERERGJBIMdERERkUgw2BERERGJBIMdERERkUgw2BERERGJBIMdERERkUgw2BERERGJBIMdERERkUgw2BERERGJBIMdERERkUjoansCRJU2y6Kcx3Jqbh5ERERvGG6xIyIiIhIJBjsiIiIikWCwIyIiIhIJBjsiIiIikWCwIyIiIhIJBjsiIiIikWCwIyIiIhIJBjsiIiIikWCwIyIiIhIJBjsiIiIikWCwIyIiIhIJBjsiIiIikWCwIyIiIhIJBjsiIiIikWCwIyIiIhKJNyLYrVixAi4uLjA0NIS3tzdOnTpVbv9t27bBzc0NhoaGcHd3x2+//ab0eGhoKCQSidItICBAqc/Dhw8RHBwMc3NzWFpaYsSIEXjy5Inal43o38Jl6p4yb0REVDO0Huy2bNmC8PBwzJw5E2fOnIGHhwf8/f2RlZWlsv/x48cxePBgjBgxAmfPnkVgYCACAwNx4cIFpX4BAQFIT09X3H766Selx4ODg3Hx4kUkJCRg9+7d+P333zF69GiNLScRERGRpmk92EVFRWHUqFEYNmwYmjZtipiYGBgbG2Pt2rUq+y9duhQBAQGYNGkSmjRpgrlz56J169ZYvny5Uj8DAwPIZDLFzcrKSvHYpUuXEB8fj9WrV8Pb2xsdOnTAt99+i82bNyMtLU2jy0tERESkKVoNdoWFhUhOToafn5+iTSqVws/PD0lJSSqfk5SUpNQfAPz9/Uv1P3ToEOzt7dG4cWOMGTMGDx48UBrD0tISXl5eijY/Pz9IpVKcPHlSZd2CggLk5uYq3YiIiIjeJFoNdvfv30dxcTEcHByU2h0cHJCRkaHyORkZGa/tHxAQgA0bNiAxMRHz58/H4cOH8d5776G4uFgxhr29vdIYurq6sLa2LrNuZGQkLCwsFLc6depUenmJiIiINElX2xPQhEGDBin+7+7ujhYtWqB+/fo4dOgQunXrVqUxIyIiEB4errifm5vLcEdERERvFK0GO1tbW+jo6CAzM1OpPTMzEzKZTOVzZDJZpfoDgKurK2xtbXHt2jV069YNMpms1MkZz58/x8OHD8scx8DAAAYGBhVZLBKbWRZltOfU7DyIiIheQ6u7YvX19eHp6YnExERFm1wuR2JiInx8fFQ+x8fHR6k/ACQkJJTZHwDu3LmDBw8ewNHRUTFGdnY2kpOTFX0OHDgAuVwOb2/v6iwSERERkdZofVdseHg4QkJC4OXlhbZt2yI6Ohp5eXkYNmwYAGDo0KGoVasWIiMjAQDjx4+Hr68vFi9ejJ49e2Lz5s04ffo0Vq1aBQB48uQJZs+ejaCgIMhkMly/fh2TJ09GgwYN4O/vDwBo0qQJAgICMGrUKMTExKCoqAhhYWEYNGgQnJyctPNCkFaVd621m4Y1OBFuHSQiomrQerAbOHAg7t27hxkzZiAjIwMtW7ZEfHy84gSJ1NRUSKX/27DYrl07xMXFYdq0afjiiy/QsGFD7Ny5E82bNwcA6Ojo4Pz581i/fj2ys7Ph5OSE7t27Y+7cuUq7Ujdt2oSwsDB069YNUqkUQUFBWLZsWc0uPP0rvTEhkoiIREfrwQ4AwsLCEBYWpvKxQ4cOlWobMGAABgwYoLK/kZER9u7d+9qa1tbWiIuLq9Q8iYiIiN5kb0SwIyLNKHfr4LyeNTgTIiKqCQx29MYqK5RwdyUREZFqWv9KMSIiIiJSD26xIyJ6Q3DXORFVF7fYEREREYkEgx0RERGRSDDYEREREYkEgx0RERGRSDDYEREREYkEz4ol+rfi99ISEYkOt9gRERERiQS32BGR5pW1dRDgFkIiIjXiFjsiIiIikWCwIyIiIhIJBjsiIiIikWCwIyIiIhIJBjsiIiIikWCwIyIiIhIJXu6EiMSFl1Yhon8xbrEjIiIiEglusSMiqipuHSSiNwy32BERERGJBLfYERER0b+Cy9Q9KttvzutZwzPRHG6xIyIiIhIJBjsiIiIikeCuWCKitwFP1CCiCmCwIyIqR1nH5ADATcManAiRSP0bjnurSQx2RET078CtnvQvwGBHRET0NtNAYOVWtLcXT54gIiIiEglusSOitw6Pe9Mw7rIkemtxix0RERGRSLwRwW7FihVwcXGBoaEhvL29cerUqXL7b9u2DW5ubjA0NIS7uzt+++03xWNFRUWYMmUK3N3dYWJiAicnJwwdOhRpaWlKY7i4uEAikSjd5s2bp5HlIyL6N3OZuqfMG71lZlmUfaM3gtZ3xW7ZsgXh4eGIiYmBt7c3oqOj4e/vjytXrsDe3r5U/+PHj2Pw4MGIjIxEr169EBcXh8DAQJw5cwbNmzdHfn4+zpw5g+nTp8PDwwOPHj3C+PHj0adPH5w+fVpprDlz5mDUqFGK+2ZmZhpfXiIiEodyDwngSQakJVoPdlFRURg1ahSGDRsGAIiJicGePXuwdu1aTJ06tVT/pUuXIiAgAJMmTQIAzJ07FwkJCVi+fDliYmJgYWGBhIQEpecsX74cbdu2RWpqKurWratoNzMzg0wm0+DSERER0b9RmWcWGw4p+0lqOIZVq8GusLAQycnJiIiIULRJpVL4+fkhKSlJ5XOSkpIQHh6u1Obv74+dO3eWWScnJwcSiQSWlpZK7fPmzcPcuXNRt25dDBkyBBMnToSuruqXpKCgAAUFBYr7ubm5r1k6IiJ6LbGeqCHW5RIrEb1fWg129+/fR3FxMRwcHJTaHRwccPnyZZXPycjIUNk/IyNDZf9nz55hypQpGDx4MMzNzRXtn332GVq3bg1ra2scP34cERERSE9PR1RUlMpxIiMjMXv27MosHhEREVGN0vquWE0qKirCBx98AEEQsHLlSqXHXt7q16JFC+jr6+Pjjz9GZGQkDAwMSo0VERGh9Jzc3FzUqVNHc5MnIiIiqiStBjtbW1vo6OggMzNTqT0zM7PMY99kMlmF+peEulu3buHAgQNKW+tU8fb2xvPnz3Hz5k00bty41OMGBgYqAx8RERFpgIh2j9YkrV7uRF9fH56enkhMTFS0yeVyJCYmwsfHR+VzfHx8lPoDQEJCglL/klB39epV7N+/HzY2Nq+dS0pKCqRSqcozcYmIiIjeBlrfFRseHo6QkBB4eXmhbdu2iI6ORl5enuIs2aFDh6JWrVqIjIwEAIwfPx6+vr5YvHgxevbsic2bN+P06dNYtWoVgBehrn///jhz5gx2796N4uJixfF31tbW0NfXR1JSEk6ePIkuXbrAzMwMSUlJmDhxIj788ENYWVlp54UgIiIiqiatB7uBAwfi3r17mDFjBjIyMtCyZUvEx8crTpBITU2FVPq/DYvt2rVDXFwcpk2bhi+++AINGzbEzp070bx5cwDA3bt3sWvXLgBAy5YtlWodPHgQnTt3hoGBATZv3oxZs2ahoKAA9erVw8SJE0udbUtERET0NtF6sAOAsLAwhIWFqXzs0KFDpdoGDBiAAQMGqOzv4uICQRDKrde6dWucOHGi0vMkIqI3G79HmP7t3ohgR0RENYsBiEicGOyIiIjecAziVFFaPSuWiIiIiNSHwY6IiIhIJBjsiIiIiESCwY6IiIhIJBjsiIiIiESCwY6IiIhIJBjsiIiIiESCwY6IiIhIJBjsiIiIiESCwY6IiIhIJBjsiIiIiESCwY6IiIhIJBjsiIiIiESCwY6IiIhIJBjsiIiIiESCwY6IiIhIJBjsiIiIiESCwY6IiIhIJBjsiIiIiESCwY6IiIhIJBjsiIiIiESCwY6IiIhIJBjsiIiIiESCwY6IiIhIJBjsiIiIiESCwY6IiIhIJBjsiIiIiESCwY6IiIhIJBjsiIiIiESCwY6IiIhIJN6IYLdixQq4uLjA0NAQ3t7eOHXqVLn9t23bBjc3NxgaGsLd3R2//fab0uOCIGDGjBlwdHSEkZER/Pz8cPXqVaU+Dx8+RHBwMMzNzWFpaYkRI0bgyZMnal82IiIiopqi9WC3ZcsWhIeHY+bMmThz5gw8PDzg7++PrKwslf2PHz+OwYMHY8SIETh79iwCAwMRGBiICxcuKPosWLAAy5YtQ0xMDE6ePAkTExP4+/vj2bNnij7BwcG4ePEiEhISsHv3bvz+++8YPXq0xpeXiIiISFO0HuyioqIwatQoDBs2DE2bNkVMTAyMjY2xdu1alf2XLl2KgIAATJo0CU2aNMHcuXPRunVrLF++HMCLrXXR0dGYNm0a+vbtixYtWmDDhg1IS0vDzp07AQCXLl1CfHw8Vq9eDW9vb3To0AHffvstNm/ejLS0tJpadCIiIiK10mqwKywsRHJyMvz8/BRtUqkUfn5+SEpKUvmcpKQkpf4A4O/vr+h/48YNZGRkKPWxsLCAt7e3ok9SUhIsLS3h5eWl6OPn5wepVIqTJ0+qbfmIiIiIapKuNovfv38fxcXFcHBwUGp3cHDA5cuXVT4nIyNDZf+MjAzF4yVt5fWxt7dXelxXVxfW1taKPq8qKChAQUGB4n5OTg4AIDc3V2V/eUG+yvZciaCy/f8PVvZj5WAtzdUqtx5rVb9WFeuxFmuxluZqlVePtbRTqyRrCEI5z/3/tBrs3iaRkZGYPXt2qfY6depUahyL8h6cV+6jlcZaGq7HWtWvpYF6rMVarMVaYq31+PFjWFiU30erwc7W1hY6OjrIzMxUas/MzIRMJlP5HJlMVm7/kn8zMzPh6Oio1Kdly5aKPq+enPH8+XM8fPiwzLoREREIDw9X3JfL5Xj48CFsbGwgkUgqsLQvEnedOnVw+/ZtmJubV+g5VcVab1891mIt1mIt1mItVQRBwOPHj+Hk5PTavloNdvr6+vD09ERiYiICAwMBvAhMiYmJCAsLU/kcHx8fJCYmYsKECYq2hIQE+Pj4AADq1asHmUyGxMRERZDLzc3FyZMnMWbMGMUY2dnZSE5OhqenJwDgwIEDkMvl8Pb2VlnXwMAABgYGSm2WlpZVWm5zc/MaCSWs9XbWYy3WYi3WYi3WetXrttSV0Pqu2PDwcISEhMDLywtt27ZFdHQ08vLyMGzYMADA0KFDUatWLURGRgIAxo8fD19fXyxevBg9e/bE5s2bcfr0aaxatQoAIJFIMGHCBHz11Vdo2LAh6tWrh+nTp8PJyUkRHps0aYKAgACMGjUKMTExKCoqQlhYGAYNGlShNExERET0JtJ6sBs4cCDu3buHGTNmICMjAy1btkR8fLzi5IfU1FRIpf87ebddu3aIi4vDtGnT8MUXX6Bhw4bYuXMnmjdvrugzefJk5OXlYfTo0cjOzkaHDh0QHx8PQ0NDRZ9NmzYhLCwM3bp1g1QqRVBQEJYtW1ZzC05ERESkZloPdgAQFhZW5q7XQ4cOlWobMGAABgwYUOZ4EokEc+bMwZw5c8rsY21tjbi4uErPtToMDAwwc+bMUrt0WevNrFXT9ViLtViLtViLtapLIlTk3FkiIiIieuNp/ZsniIiIiEg9GOyIiIiIRILBjoiIiEgkGOxq0IoVK+Di4gJDQ0N4e3vj1KlTaq/x+++/o3fv3nBycoJEIsHOnTvVXqNEZGQk2rRpAzMzM9jb2yMwMBBXrlzRSK2VK1eiRYsWimv/+Pj44P/+7/80UutV8+bNU1xGR91mzZoFiUSidHNzc1N7nRJ3797Fhx9+CBsbGxgZGcHd3R2nT59Wex0XF5dSyyWRSDB27Fi11youLsb06dNRr149GBkZoX79+pg7d26FvnqnKh4/fowJEybA2dkZRkZGaNeuHf744w+1jP26n19BEDBjxgw4OjrCyMgIfn5+uHr1qkZqbd++Hd27d1dchD0lJaVqC/WaWkVFRZgyZQrc3d1hYmICJycnDB06FGlpaRpZrlmzZsHNzQ0mJiawsrKCn59flb8jvDLr208++QQSiQTR0dEaqRUaGlrq5y0gIEAjtQDg0qVL6NOnDywsLGBiYoI2bdogNTVV7bVUrUckEgkWLlyo9lpPnjxBWFgYateuDSMjIzRt2hQxMTGVrlORWpmZmQgNDYWTkxOMjY0REBBQ5Z/lVzHY1ZAtW7YgPDwcM2fOxJkzZ+Dh4QF/f/9S34BRXXl5efDw8MCKFSvUOq4qhw8fxtixY3HixAkkJCSgqKgI3bt3R15entpr1a5dG/PmzUNycjJOnz6Nrl27om/fvrh48aLaa73sjz/+wPfff48WLVporEazZs2Qnp6uuB09elQjdR49eoT27dtDT08P//d//4e//voLixcvhpWVldpr/fHHH0rLlJCQAADlns1eVfPnz8fKlSuxfPlyXLp0CfPnz8eCBQvw7bffqr0WAIwcORIJCQnYuHEj/vzzT3Tv3h1+fn64e/dutcd+3c/vggULsGzZMsTExODkyZMwMTGBv78/nj17pvZaeXl56NChA+bPn1/psStTKz8/H2fOnMH06dNx5swZbN++HVeuXEGfPn3UXgsAGjVqhOXLl+PPP//E0aNH4eLigu7du+PevXtqr1Vix44dOHHiRLWuk1qRWgEBAUo/dz/99JNGal2/fh0dOnSAm5sbDh06hPPnz2P69OlKlxRTV62Xlyc9PR1r166FRCJBUFCQ2muFh4cjPj4eP/74Iy5duoQJEyYgLCwMu3btUmstQRAQGBiIf/75B7/88gvOnj0LZ2dn+Pn5qef3p0A1om3btsLYsWMV94uLiwUnJychMjJSYzUBCDt27NDY+K/KysoSAAiHDx+ukXpWVlbC6tWrNTb+48ePhYYNGwoJCQmCr6+vMH78eLXXmDlzpuDh4aH2cVWZMmWK0KFDhxqp9arx48cL9evXF+RyudrH7tmzpzB8+HCltvfff18IDg5We638/HxBR0dH2L17t1J769athS+//FKttV79+ZXL5YJMJhMWLlyoaMvOzhYMDAyEn376Sa21Xnbjxg0BgHD27Nlq1ahIrRKnTp0SAAi3bt3SeK2cnBwBgLB//36N1Lpz545Qq1Yt4cKFC4Kzs7OwZMmSatUpq1ZISIjQt2/fao9dkVoDBw4UPvzwwxqp9aq+ffsKXbt21UitZs2aCXPmzFFqU8fP9qu1rly5IgAQLly4oGgrLi4W7OzshB9++KFatQRBELjFrgYUFhYiOTkZfn5+ijapVAo/Pz8kJSVpcWbqlZOTA+DFNQI1qbi4GJs3b0ZeXp7iq+Q0YezYsejZs6fS+6YJV69ehZOTE1xdXREcHFyl3RkVsWvXLnh5eWHAgAGwt7dHq1at8MMPP2ik1ssKCwvx448/Yvjw4RX+XuXKaNeuHRITE/H3338DAM6dO4ejR4/ivffeU3ut58+fo7i4uNSWCSMjI41taS1x48YNZGRkKH0eLSws4O3tLar1CPBiXSKRSKr8tY0VVVhYiFWrVsHCwgIeHh5qH18ul+Ojjz7CpEmT0KxZM7WP/6pDhw7B3t4ejRs3xpgxY/DgwQO115DL5dizZw8aNWoEf39/2Nvbw9vbW6OH/ZTIzMzEnj17MGLECI2M365dO+zatQt3796FIAg4ePAg/v77b3Tv3l2tdQoKCgBAaT0ilUphYGCglvUIg10NuH//PoqLixXfplHCwcEBGRkZWpqVesnlckyYMAHt27dX+hYQdfrzzz9hamoKAwMDfPLJJ9ixYweaNm2qkVqbN2/GmTNnFF9lpyne3t5Yt24d4uPjsXLlSty4cQMdO3bE48eP1V7rn3/+wcqVK9GwYUPs3bsXY8aMwWeffYb169ervdbLdu7ciezsbISGhmpk/KlTp2LQoEFwc3ODnp4eWrVqhQkTJiA4OFjttczMzODj44O5c+ciLS0NxcXF+PHHH5GUlIT09HS113tZybpCzOsRAHj27BmmTJmCwYMHa+x7O3fv3g1TU1MYGhpiyZIlSEhIgK2trdrrzJ8/H7q6uvjss8/UPvarAgICsGHDBiQmJmL+/Pk4fPgw3nvvPRQXF6u1TlZWFp48eYJ58+YhICAA+/btQ79+/fD+++/j8OHDaq31qvXr18PMzAzvv/++Rsb/9ttv0bRpU9SuXRv6+voICAjAihUr0KlTJ7XWcXNzQ926dREREYFHjx6hsLAQ8+fPx507d9SyHnkjvnmC3n5jx47FhQsXNLrVonHjxkhJSUFOTg5+/vlnhISE4PDhw2oPd7dv38b48eORkJBQpWNGKuPlrUotWrSAt7c3nJ2dsXXrVrX/VSqXy+Hl5YVvvvkGANCqVStcuHABMTExCAkJUWutl61Zswbvvfeexr6HeevWrdi0aRPi4uLQrFkzpKSkYMKECXByctLIcm3cuBHDhw9HrVq1oKOjg9atW2Pw4MFITk5We61/m6KiInzwwQcQBAErV67UWJ0uXbogJSUF9+/fxw8//IAPPvgAJ0+ehL29vdpqJCcnY+nSpThz5oxGtlS/atCgQYr/u7u7o0WLFqhfvz4OHTqEbt26qa2OXC4HAPTt2xcTJ04EALRs2RLHjx9HTEwMfH191VbrVWvXrkVwcLDG1svffvstTpw4gV27dsHZ2Rm///47xo4dCycnJ7XuudHT08P27dsxYsQIWFtbQ0dHB35+fnjvvffUctIXt9jVAFtbW+jo6CAzM1OpPTMzEzKZTEuzUp+wsDDs3r0bBw8eRO3atTVWR19fHw0aNICnpyciIyPh4eGBpUuXqr1OcnIysrKy0Lp1a+jq6kJXVxeHDx/GsmXLoKurq/a/gF9maWmJRo0a4dq1a2of29HRsVQIbtKkicZ2/QLArVu3sH//fowcOVJjNSZNmqTYaufu7o6PPvoIEydO1NjW1vr16+Pw4cN48uQJbt++jVOnTqGoqAiurq4aqVeiZF0h1vVISai7desWEhISNLa1DgBMTEzQoEEDvPPOO1izZg10dXWxZs0atdY4cuQIsrKyULduXcV65NatW/jPf/4DFxcXtdZSxdXVFba2tmpfl9ja2kJXV7fG1yVHjhzBlStXNLYuefr0Kb744gtERUWhd+/eaNGiBcLCwjBw4EAsWrRI7fU8PT2RkpKC7OxspKenIz4+Hg8ePFDLeoTBrgbo6+vD09MTiYmJija5XI7ExESNHiOmaYIgICwsDDt27MCBAwdQr169Gq0vl8sVxyqoU7du3fDnn38iJSVFcfPy8kJwcDBSUlKgo6Oj9polnjx5guvXr8PR0VHtY7dv377U5Wj+/vtvODs7q71WidjYWNjb26Nnz54aq5Gfnw+pVHlVpqOjo9iyoCkmJiZwdHTEo0ePsHfvXvTt21ej9erVqweZTKa0HsnNzcXJkyff6vUI8L9Qd/XqVezfvx82NjY1Wl8T65KPPvoI58+fV1qPODk5YdKkSdi7d69aa6ly584dPHjwQO3rEn19fbRp06bG1yVr1qyBp6enRo6FBF58BouKimp8XWJhYQE7OztcvXoVp0+fVst6hLtia0h4eDhCQkLg5eWFtm3bIjo6Gnl5eRg2bJha6zx58kTpL7QbN24gJSUF1tbWqFu3rlprjR07FnFxcfjll19gZmamOM7HwsICRkZGaq0VERGB9957D3Xr1sXjx48RFxeHQ4cOaWQFaWZmVuo4QRMTE9jY2Kj9+MHPP/8cvXv3hrOzM9LS0jBz5kzo6Ohg8ODBaq0DABMnTkS7du3wzTff4IMPPsCpU6ewatUqrFq1Su21gBe/LGNjYxESEgJdXc2tanr37o2vv/4adevWRbNmzXD27FlERUVh+PDhGqm3d+9eCIKAxo0b49q1a5g0aRLc3NzU8rP8up/fCRMm4KuvvkLDhg1Rr149TJ8+HU5OTggMDFR7rYcPHyI1NVVxPbmSX+QymazSWwjLq+Xo6Ij+/fvjzJkz2L17N4qLixXrEmtra+jr66utlo2NDb7++mv06dMHjo6OuH//PlasWIG7d+9W6VI8r3sNXw2oenp6kMlkaNy4sVprWVtbY/bs2QgKCoJMJsP169cxefJkNGjQAP7+/mpfrkmTJmHgwIHo1KkTunTpgvj4ePz66684dOiQ2msBL/6A2bZtGxYvXlzp8StTy9fXF5MmTYKRkRGcnZ1x+PBhbNiwAVFRUWqvtW3bNtjZ2aFu3br4888/MX78eAQGBqrnRI1qn1dLFfbtt98KdevWFfT19YW2bdsKJ06cUHuNgwcPCgBK3UJCQtReS1UdAEJsbKzaaw0fPlxwdnYW9PX1BTs7O6Fbt27Cvn371F6nLJq63MnAgQMFR0dHQV9fX6hVq5YwcOBA4dq1a2qvU+LXX38VmjdvLhgYGAhubm7CqlWrNFZr7969AgDhypUrGqshCIKQm5srjB8/Xqhbt65gaGgouLq6Cl9++aVQUFCgkXpbtmwRXF1dBX19fUEmkwljx44VsrOz1TL2635+5XK5MH36dMHBwUEwMDAQunXrVuXX93W1YmNjVT4+c+ZMtdYquZyKqtvBgwfVWuvp06dCv379BCcnJ0FfX19wdHQU+vTpI5w6darSdV5XS5XqXO6kvFr5+flC9+7dBTs7O0FPT09wdnYWRo0aJWRkZGhsudasWSM0aNBAMDQ0FDw8PISdO3dqrNb3338vGBkZVfvn7HW10tPThdDQUMHJyUkwNDQUGjduLCxevLhKl2l6Xa2lS5cKtWvXFvT09IS6desK06ZNU9s6SyIIGro8OxERERHVKB5jR0RERCQSDHZEREREIsFgR0RERCQSDHZEREREIsFgR0RERCQSDHZEREREIsFgR0RERCQSDHZEREREIsFgR0RUA9atWwdLS8tqjyORSLBz585qj0NE4sRgR0RUQaGhoVX6XlYioprCYEdEREQkEgx2RERqEBUVBXd3d5iYmKBOnTr49NNP8eTJk1L9du7ciYYNG8LQ0BD+/v64ffu20uO//PILWrduDUNDQ7i6umL27Nl4/vx5TS0GEb3lGOyIiNRAKpVi2bJluHjxItavX48DBw5g8uTJSn3y8/Px9ddfY8OGDTh27Biys7MxaNAgxeNHjhzB0KFDMX78ePz111/4/vvvsW7dOnz99dc1vThE9JaSCIIgaHsSRERvg9DQUGRnZ1fo5IWff/4Zn3zyCe7fvw/gxckTw4YNw4kTJ+Dt7Q0AuHz5Mpo0aYKTJ0+ibdu28PPzQ7du3RAREaEY58cff8TkyZORlpYG4MXJEzt27OCxfkSkkq62J0BEJAb79+9HZGQkLl++jNzcXDx//hzPnj1Dfn4+jI2NAQC6urpo06aN4jlubm6wtLTEpUuX0LZtW5w7dw7Hjh1T2kJXXFxcahwiorIw2BERVdPNmzfRq1cvjBkzBl9//TWsra1x9OhRjBgxAoWFhRUOZE+ePMHs2bPx/vvvl3rM0NBQ3dMmIhFisCMiqqbk5GTI5XIsXrwYUumLQ5e3bt1aqt/z589x+vRptG3bFgBw5coVZGdno0mTJgCA1q1b48qVK2jQoEHNTZ6IRIXBjoioEnJycpCSkqLUZmtri6KiInz77bfo3bs3jh07hpiYmFLP1dPTw7hx47Bs2TLo6uoiLCwM77zzjiLozZgxA7169ULdunXRv39/SKVSnDt3DhcuXMBXX31VE4tHRG85nhVLRFQJhw4dQqtWrZRuGzduRFRUFObPn4/mzZtj06ZNiIyMLPVcY2NjTJkyBUOGDEH79u1hamqKLVu2KB739/fH7t27sW/fPrRp0wbvvPMOlixZAmdn55pcRCJ6i/GsWCIiIiKR4BY7IiIiIpFgsCMiIiISCQY7IiIiIpFgsCMiIiISCQY7IiIiIpFgsCMiIiISCQY7IiIiIpFgsCMiIiISCQY7IiIiIpFgsCMiIiISCQY7IiIiIpFgsCMiIiISif8HZO619sRlE9oAAAAASUVORK5CYII=",
      "text/plain": [
       "<Figure size 640x480 with 1 Axes>"
      ]
     },
     "metadata": {},
     "output_type": "display_data"
    },
    {
     "name": "stdout",
     "output_type": "stream",
     "text": [
      "Number of tweets with label 4: 2146\n",
      "Average tweet length (training set): 71.02 characters\n"
     ]
    },
    {
     "name": "stdout",
     "output_type": "stream",
     "text": [
      "Number of tweets with label 4: 2146\n",
      "Average tweet length (training set): 71.02 characters\n"
     ]
    }
   ],
   "source": [
    "\n",
    "#1\n",
    "print(\"train set -> \", tweet_ds['train'].shape)\n",
    "print(\"test set -> \", tweet_ds['test'].shape)\n",
    "print(\"validation set -> \", tweet_ds['validation'].shape)\n",
    "\n",
    "#2\n",
    "tweet_validation_df = pd.DataFrame(tweet_ds['validation'])\n",
    "top_5_labels = tweet_validation_df['label'].value_counts().head(5)\n",
    "print(top_5_labels)\n",
    "\n",
    "#3\n",
    "train_counts = tweet_train_df['label'].value_counts(normalize=True).sort_index()\n",
    "val_counts = tweet_validation_df['label'].value_counts(normalize=True).sort_index()\n",
    "\n",
    "comparison_df = pd.DataFrame({\n",
    "    'Train': train_counts,\n",
    "    'Validation': val_counts\n",
    "}).fillna(0)\n",
    "\n",
    "comparison_df.plot(kind='bar', title='Label (Emoji) Distribution: Training vs Validation Dataset', rot=0)\n",
    "plt.xlabel('Label')\n",
    "plt.ylabel('Count')\n",
    "plt.legend()\n",
    "plt.tight_layout()\n",
    "plt.show()\n",
    "\n",
    "#4\n",
    "train_ds_mapped = tweet_ds[\"train\"].map(calculate_text_length)\n",
    "train_df = pd.DataFrame(train_ds_mapped)\n",
    "count_label_4 = (train_df['label'] == 4).sum()\n",
    "\n",
    "print(f\"Number of tweets with label 4: {count_label_4}\")\n",
    "\n",
    "#5\n",
    "average_len = sum(train_df[\"text_length\"]) / len(train_df)\n",
    "print(f\"Average tweet length (training set): {average_len:.2f} characters\")"
   ]
  },
  {
   "cell_type": "markdown",
   "metadata": {
    "collapsed": false,
    "jupyter": {
     "outputs_hidden": false
    },
    "pycharm": {
     "name": "#%% md\n"
    }
   },
   "source": [
    "## 2. Tokenization\n",
    "\n",
    "In this section we will preprocess the dataset by cleaning and tokenizing the entries.\n",
    "Datasets library contains a very useful method map. It expects a function that will receive an example from the dataset. This function will be applied to all entries."
   ]
  },
  {
   "cell_type": "markdown",
   "metadata": {
    "collapsed": false,
    "jupyter": {
     "outputs_hidden": false
    },
    "pycharm": {
     "name": "#%% md\n"
    }
   },
   "source": [
    "### 2.1 Cleaning the text"
   ]
  },
  {
   "cell_type": "markdown",
   "metadata": {
    "collapsed": false,
    "jupyter": {
     "outputs_hidden": false
    },
    "pycharm": {
     "name": "#%% md\n"
    }
   },
   "source": [
    "<a name=\"e2\"></a>\n",
    "### Exercise 2: Write the text cleaning function\n",
    "\n",
    "Include at least the following steps:\n",
    "- (1p) remove comma between numbers, i.e. 15,000 -> 15000\n",
    "- (1p) remove multiple spaces\n",
    "- (1p) space out the punctuation (i.e. \"hello, world.\" -> \"hello , world .\")\n",
    "- (3x1p) three more cleaning steps of your choice"
   ]
  },
  {
   "cell_type": "code",
<<<<<<< HEAD
   "execution_count": 225,
=======
   "execution_count": 15,
>>>>>>> 696aef3c964e101dfdf5b567ce9da398d7c113cd
   "metadata": {
    "collapsed": false,
    "jupyter": {
     "outputs_hidden": false
    },
    "pycharm": {
     "name": "#%%\n"
    }
   },
   "outputs": [],
   "source": [
    "def clean(example):\n",
    "    \"\"\"\n",
    "    Cleans the example from the Dataset\n",
    "    Args:\n",
    "        example: an example from the Dataset\n",
    "\n",
    "    Returns: update example containing 'clean' column\n",
    "\n",
    "    \"\"\"\n",
    "    text = example['text']\n",
    "\n",
    "    # Empty text\n",
    "    if text == '':\n",
    "        example['clean'] = ''\n",
    "        return example\n",
    "\n",
    "    # 'text' from the example can be of type numpy.str_, let's convert it to a python str\n",
    "    text = str(text)\n",
    "\n",
    "    ### YOUR CODE HERE\n",
    "\n",
    "\n",
    "    # remove comma between numbers\n",
    "\n",
    "    text = re.sub(r\"(?<=\\d),(?=\\d)\", \"\", text)\n",
    "\n",
    "    # remove multiple fullstops\n",
    "\n",
    "    text = re.sub(r'\\.+', r'.', text)\n",
    "\n",
    "    \n",
    "    # space out the punctuation\n",
    "\n",
    "    text = re.sub(r'([….,!?;:(){}[\\]<>])', r' \\1 ', text)\n",
    "\n",
    "    # remove multiple spaces\n",
    "    \n",
    "    text = re.sub(' +', ' ', text)\n",
    "\n",
    "\n",
    "    # three more cleaning steps of your choice\n",
    "\n",
    "\n",
    "    # remove non-standart characters as \"#\" and \"@\"\n",
    "\n",
    "    # text = re.sub(r'([@#])(?=\\d)', r'\\1 ', text)\n",
    "    text = re.sub(r'([@#])', ' ', text)\n",
    "\n",
    "    # remove 'a' 'an' articles\n",
    "\n",
    "    text = re.sub(r'\\b[Aa]\\b|\\b[Aa]n\\b', '', text)\n",
    "\n",
    "    # replace \"&\" with \"and\"\n",
    "\n",
    "    text = re.sub(r'\\b&\\b', 'and', text)\n",
    "\n",
    "    # remove \\n and \\t\n",
    "\n",
    "    text = re.sub(r'[\\n\\t]', '', text)\n",
    "\n",
    "    # remove multiple spaces\n",
    "\n",
    "    text = re.sub(r'[\\u200B-\\u200D\\uFE0F\\u200E\\u200F]', '', text)  # Removing variation selectors and zero-width characters By ChatGPT\n",
    "    \n",
    "    text = re.sub(r'\\s+', ' ', text)\n",
    "\n",
    "\n",
    "    ### YOUR CODE ENDS HERE\n",
    "\n",
    "    # Update the example with the cleaned text\n",
    "    example['clean'] = text.strip()\n",
    "    return example"
   ]
  },
  {
   "cell_type": "markdown",
   "metadata": {
    "collapsed": false,
    "jupyter": {
     "outputs_hidden": false
    },
    "pycharm": {
     "name": "#%% md\n"
    }
   },
   "source": [
    "This is an example of applying the ```clean()``` function you just wrote to a single entry of the dataset. The function added a 'clean' field to the example."
   ]
  },
  {
   "cell_type": "code",
<<<<<<< HEAD
   "execution_count": 226,
=======
   "execution_count": 16,
>>>>>>> 696aef3c964e101dfdf5b567ce9da398d7c113cd
   "metadata": {
    "collapsed": false,
    "jupyter": {
     "outputs_hidden": false
    },
    "pycharm": {
     "name": "#%%\n"
    }
   },
   "outputs": [
    {
     "name": "stdout",
     "output_type": "stream",
     "text": [
      "Original tweet item:\n",
      "Sunday afternoon walking through Venice in the sun with @user ️ ️ ️ @ Abbot Kinney, Venice\n",
      "Cleaned tweet item:\n",
      "Sunday afternoon walking through Venice in the sun with user Abbot Kinney , Venice\n",
      "Original tweet item:\n",
      "Time for some BBQ and whiskey libations. Chomp, belch, chomp! (@ Lucille's Smokehouse Bar-B-Que)\n",
      "Cleaned tweet item:\n",
      "Time for some BBQ and whiskey libations . Chomp , belch , chomp ! ( Lucille's Smokehouse Bar-B-Que )\n",
      "Original tweet item:\n",
      "Love love love all these people ️ ️ ️ #friends #bff #celebrate #blessed #sundayfunday @ San…\n",
      "Cleaned tweet item:\n",
      "Love love love all these people friends bff celebrate blessed sundayfunday San …\n",
      "Original tweet item:\n",
      "️ ️ ️ ️ @ Toys\"R\"Us\n",
      "Cleaned tweet item:\n",
      "Toys\"R\"Us\n",
      "Original tweet item:\n",
      "Man these are the funniest kids ever!! That face! #HappyBirthdayBubb @ FLIPnOUT Xtreme\n",
      "Cleaned tweet item:\n",
      "Man these are the funniest kids ever ! ! That face ! HappyBirthdayBubb FLIPnOUT Xtreme\n",
      "Original tweet item:\n",
      "#sandiego @ San Diego, California\n",
      "Cleaned tweet item:\n",
      "sandiego San Diego , California\n",
      "Original tweet item:\n",
      "My little ️ ️ ️ ️ ️ #ObsessedWithMyDog @ Cafe Solstice Capitol Hill\n",
      "Cleaned tweet item:\n",
      "My little ObsessedWithMyDog Cafe Solstice Capitol Hill\n",
      "Original tweet item:\n",
      "More #tinyepic things #tinyepicwestern, this one is crazy @user I may be one of your…\n",
      "Cleaned tweet item:\n",
      "More tinyepic things tinyepicwestern , this one is crazy user I may be one of your …\n",
      "Original tweet item:\n",
      "Last night ️ @ Omnia Night Club At Caesars Palace\n",
      "Cleaned tweet item:\n",
      "Last night Omnia Night Club At Caesars Palace\n",
      "Original tweet item:\n",
      "friendship at its finest. ....#pixar #toystory #buzz #woody #friends #friendship #bff…\n",
      "Cleaned tweet item:\n",
      "friendship at its finest . . pixar toystory buzz woody friends friendship bff …\n"
     ]
    }
   ],
   "source": [
    "for i in range(10):\n",
    "    print('Original tweet item:')\n",
    "    print(tweet_ds['train'][i]['text'])\n",
    "    print('Cleaned tweet item:')\n",
    "    print(clean(tweet_ds['train'][i])['clean'])"
   ]
  },
  {
   "cell_type": "markdown",
   "metadata": {
    "collapsed": false,
    "jupyter": {
     "outputs_hidden": false
    },
    "pycharm": {
     "name": "#%% md\n"
    }
   },
   "source": [
    "Let's finally use the ```map()``` method and apply your `clean()` function to all entries of the dataset. You can see that the ```clean``` column has been added to each split."
   ]
  },
  {
   "cell_type": "markdown",
   "metadata": {
    "collapsed": false,
    "jupyter": {
     "outputs_hidden": false
    },
    "pycharm": {
     "name": "#%% md\n"
    }
   },
   "source": [
    "Below, we will apply your function to all entries in the dataset."
   ]
  },
  {
   "cell_type": "code",
<<<<<<< HEAD
   "execution_count": 227,
=======
   "execution_count": 17,
>>>>>>> 696aef3c964e101dfdf5b567ce9da398d7c113cd
   "metadata": {
    "collapsed": false,
    "jupyter": {
     "outputs_hidden": false
    },
    "pycharm": {
     "name": "#%%\n"
    }
   },
   "outputs": [
    {
     "name": "stdout",
     "output_type": "stream",
     "text": [
      "DatasetDict({\n",
      "    train: Dataset({\n",
      "        features: ['text', 'label', 'text_length', 'clean'],\n",
      "        num_rows: 45000\n",
      "    })\n",
      "    test: Dataset({\n",
      "        features: ['text', 'label', 'text_length', 'clean'],\n",
      "        num_rows: 50000\n",
      "    })\n",
      "    validation: Dataset({\n",
      "        features: ['text', 'label', 'text_length', 'clean'],\n",
      "        num_rows: 5000\n",
      "    })\n",
      "})\n"
     ]
    }
   ],
   "source": [
    "tweet_ds = tweet_ds.map(clean)\n",
    "print(tweet_ds)"
   ]
  },
  {
   "cell_type": "markdown",
   "metadata": {
    "collapsed": false,
    "jupyter": {
     "outputs_hidden": false
    },
    "pycharm": {
     "name": "#%% md\n"
    }
   },
   "source": [
    "### 2.2 Build vocabulary\n",
    "\n",
    "In the previous section, we implemented the cleaning of the dataset. Now, we will tokenize the text splitting it by spaces. We will build a vocabulary based on the cleaned text of the `train` split. We will investigate some properties of corpora (e.g. Zipf's law).\n",
    "\n",
    "The function below builds a vocabulary from the dataset. It counts the occurrences of the words in the dataset using the Counter class. Check the documentation here [collections.Counter](https://docs.python.org/3/library/collections.html#collections.Counter)."
   ]
  },
  {
   "cell_type": "markdown",
   "metadata": {
    "collapsed": false,
    "jupyter": {
     "outputs_hidden": false
    },
    "pycharm": {
     "name": "#%% md\n"
    }
   },
   "source": [
    "### Exercise 3: Build the vocabulary\n",
    "(5p) Fill in the function below to build the vocabulary from the dataset. The function should return a `Counter` object with the words and their frequencies. The variable named `vocab` is already initialized as an empty `Counter` object."
   ]
  },
  {
   "cell_type": "code",
<<<<<<< HEAD
   "execution_count": 228,
=======
   "execution_count": 18,
>>>>>>> 696aef3c964e101dfdf5b567ce9da398d7c113cd
   "metadata": {
    "collapsed": false,
    "jupyter": {
     "outputs_hidden": false
    },
    "pycharm": {
     "name": "#%%\n"
    }
   },
   "outputs": [],
   "source": [
    "def build_vocab_counter(dataset):\n",
    "    \"\"\"\n",
    "    Builds a vocabulary from the dataset\n",
    "    Args:\n",
    "        dataset: a dataset\n",
    "\n",
    "    Returns: a vocabulary\n",
    "\n",
    "    \"\"\"\n",
    "    vocab = Counter()\n",
    "\n",
    "    ### YOUR CODE HERE\n",
    "\n",
    "    for tweet in dataset: \n",
    "        words = tweet[\"text\"].split()\n",
    "        vocab.update(words)\n",
    "\n",
    "\n",
    "\n",
    "    ### YOUR CODE ENDS HERE\n",
    "    return vocab"
   ]
  },
  {
   "cell_type": "code",
<<<<<<< HEAD
   "execution_count": 229,
=======
   "execution_count": 19,
>>>>>>> 696aef3c964e101dfdf5b567ce9da398d7c113cd
   "metadata": {
    "collapsed": false,
    "jupyter": {
     "outputs_hidden": false
    },
    "pycharm": {
     "name": "#%%\n"
    }
   },
   "outputs": [
    {
     "name": "stdout",
     "output_type": "stream",
     "text": [
      "Size of the vocabulary: 94910\n"
     ]
    }
   ],
   "source": [
    "vocab_counter = build_vocab_counter(tweet_ds['train'])\n",
    "print('Size of the vocabulary:', len(vocab_counter))"
   ]
  },
  {
   "cell_type": "markdown",
   "metadata": {
    "collapsed": false,
    "jupyter": {
     "outputs_hidden": false
    },
    "pycharm": {
     "name": "#%% md\n"
    }
   },
   "source": [
    "Because we created a counter, we can easily check the most and least common words in the vocabulary. Do the most common words make sense? How about the least common ones?"
   ]
  },
  {
   "cell_type": "code",
<<<<<<< HEAD
   "execution_count": 230,
=======
   "execution_count": 20,
>>>>>>> 696aef3c964e101dfdf5b567ce9da398d7c113cd
   "metadata": {
    "collapsed": false,
    "jupyter": {
     "outputs_hidden": false
    },
    "pycharm": {
     "name": "#%%\n"
    }
   },
   "outputs": [
    {
     "name": "stdout",
     "output_type": "stream",
     "text": [
      "Most common:\n",
      "[('@', 23309), ('@user', 12236), ('the', 10049), ('️', 9741), ('to', 7441), ('I', 6215), ('a', 5921), ('my', 5814), ('in', 5510), ('and', 5125)]\n",
      "Least common:\n",
      "[('#Alabama', 1), ('winning!', 1), ('#rolltide', 1), ('Players', 1), ('#bffweekend', 1), ('Nunez', 1), ('Paris....', 1), ('Wait...', 1), ('#happylaborday', 1), ('Five50', 1)]\n"
     ]
    }
   ],
   "source": [
    "print('Most common:')\n",
    "print(vocab_counter.most_common(10))\n",
    "print('Least common:')\n",
    "print(vocab_counter.most_common()[-10:])"
   ]
  },
  {
   "cell_type": "markdown",
   "metadata": {
    "collapsed": false,
    "jupyter": {
     "outputs_hidden": false
    },
    "pycharm": {
     "name": "#%% md\n"
    }
   },
   "source": [
    "We can also plot the counts of the words. You can check the [Power law](https://en.wikipedia.org/wiki/Power_law) if you are more interested."
   ]
  },
  {
   "cell_type": "code",
<<<<<<< HEAD
   "execution_count": 231,
=======
   "execution_count": 21,
>>>>>>> 696aef3c964e101dfdf5b567ce9da398d7c113cd
   "metadata": {
    "collapsed": false,
    "jupyter": {
     "outputs_hidden": false
    },
    "pycharm": {
     "name": "#%%\n"
    }
   },
   "outputs": [
    {
     "data": {
      "text/plain": [
       "Text(0, 0.5, 'count')"
      ]
     },
<<<<<<< HEAD
     "execution_count": 231,
=======
     "execution_count": 21,
>>>>>>> 696aef3c964e101dfdf5b567ce9da398d7c113cd
     "metadata": {},
     "output_type": "execute_result"
    },
    {
     "data": {
      "image/png": "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",
      "text/plain": [
       "<Figure size 640x480 with 1 Axes>"
      ]
     },
     "metadata": {},
     "output_type": "display_data"
    }
   ],
   "source": [
    "plt.loglog([val for word, val in vocab_counter.most_common()])\n",
    "plt.xlabel('rank')\n",
    "plt.ylabel('count')"
   ]
  },
  {
   "cell_type": "markdown",
   "metadata": {
    "collapsed": false,
    "jupyter": {
     "outputs_hidden": false
    },
    "pycharm": {
     "name": "#%% md\n"
    }
   },
   "source": [
    "The plot shows that the distribution of the words in the vocabulary follows the Zipf's law. The most frequent word occurs approximately twice as often as the second most frequent word, three times as often as the third most frequent word, etc.\n",
    "\n",
    "We can also filter the vocabulary by the frequency of the words. We will only consider the most frequent words and mark the rest as the `<unk>` token. Here we set the maximum vocabulary size to 10,000. But in the later steps, you will experiment with different sizes."
   ]
  },
  {
   "cell_type": "code",
<<<<<<< HEAD
   "execution_count": null,
=======
   "execution_count": 22,
>>>>>>> 696aef3c964e101dfdf5b567ce9da398d7c113cd
   "metadata": {
    "collapsed": false,
    "jupyter": {
     "outputs_hidden": false
    },
    "pycharm": {
     "name": "#%%\n"
    }
   },
   "outputs": [
    {
     "name": "stdout",
     "output_type": "stream",
     "text": [
      "100\n"
     ]
    }
   ],
   "source": [
    "max_vocab_size = 10000\n",
    "vocab = vocab_counter.most_common(max_vocab_size)\n",
    "# cast to list of words\n",
    "vocab = [word for word, _ in vocab]\n",
    "print(len(vocab))"
   ]
  },
  {
   "cell_type": "markdown",
   "metadata": {
    "collapsed": false,
    "jupyter": {
     "outputs_hidden": false
    },
    "pycharm": {
     "name": "#%% md\n"
    }
   },
   "source": [
    "### Exercise 4: Frequency of pairs of words (bigrams)\n",
    "Calculate the frequency of (neighbouring) pairs of words in the training dataset.\n",
    "- (5p) List the most and least common pairs. Do the most common pairs make sense?\n",
    "- (2p) How many pairs occur only once in the dataset?\n",
    "- (5p) Plot the distribution of the pair frequencies."
   ]
  },
  {
   "cell_type": "code",
<<<<<<< HEAD
   "execution_count": 233,
=======
   "execution_count": 23,
>>>>>>> 696aef3c964e101dfdf5b567ce9da398d7c113cd
   "metadata": {},
   "outputs": [
    {
     "name": "stdout",
     "output_type": "stream",
     "text": [
      "Most common bigrams:\n",
<<<<<<< HEAD
      "('️', '@'): 2966\n",
      "('️', '️'): 2207\n",
      "('@', 'The'): 1525\n",
      "('@user', '@'): 1467\n",
      "('@', 'Los'): 1036\n",
      "('with', 'my'): 1003\n",
      "('@user', '@user'): 973\n",
      "('Los', 'Angeles,'): 938\n",
      "('in', 'the'): 936\n",
      "('@', 'San'): 816\n",
      "\n",
      " Least common bigrams:\n",
      "('through', 'Venice'): 1\n",
      "('Abbot', 'Kinney,'): 1\n",
      "('some', 'BBQ'): 1\n",
      "('and', 'whiskey'): 1\n",
      "('whiskey', 'libations.'): 1\n",
      "('libations.', 'Chomp,'): 1\n",
      "('Chomp,', 'belch,'): 1\n",
      "('belch,', 'chomp!'): 1\n",
      "('chomp!', '(@'): 1\n",
      "('(@', \"Lucille's\"): 1\n",
      "\n",
      " Number of bigrams that occurred only once: 240574\n"
=======
      "[(('!', '!'), 4947), ((',', 'California'), 3343), (('&amp', ';'), 2020), (('Los', 'Angeles'), 1738), (('with', 'my'), 1015), (('Angeles', ','), 998), (('user', 'user'), 984), (('Las', 'Vegas'), 982), ((',', 'CA'), 867), ((':', 'user'), 816)]\n",
      "\n",
      " Least common bigrams:\n",
      "[(('.', 'happylaborday'), 1), (('happylaborday', 'Beer'), 1), (('Beer', 'NV'), 1), (('Pizza', '('), 1), (('(', 'Five50'), 1), (('Five50', '-'), 1), (('mini', 'is'), 1), (('one', 'deserves'), 1), (('deserves', 'her'), 1), (('her', 'Las'), 1)]\n",
      "\n",
      " Number of bigrams that occurred only once: 226946\n"
>>>>>>> 696aef3c964e101dfdf5b567ce9da398d7c113cd
     ]
    },
    {
     "data": {
<<<<<<< HEAD
      "image/png": "iVBORw0KGgoAAAANSUhEUgAAA1EAAAIjCAYAAADiGJHUAAAAOXRFWHRTb2Z0d2FyZQBNYXRwbG90bGliIHZlcnNpb24zLjguMiwgaHR0cHM6Ly9tYXRwbG90bGliLm9yZy8g+/7EAAAACXBIWXMAAA9hAAAPYQGoP6dpAABacElEQVR4nO3deViU9f7/8deAgCKuoSCKu2m4H0WyzDS3zFwy09QSl/SUmClman3dOlnWseJUU7YZnVbLUs+po2moWWaJFi7hHpktkjsKCgif3x/9mKsRUG4cmGF4Pq7L63I+9z33/Z55zyAv7/v+3DZjjBEAAAAAoEh83F0AAAAAAJQlhCgAAAAAsIAQBQAAAAAWEKIAAAAAwAJCFAAAAABYQIgCAAAAAAsIUQAAAABgASEKAAAAACwgRAEAAACABYQoAOXevHnzZLPZSmVf3bp1U7du3RyPN2zYIJvNpmXLlpXK/kePHq2GDRuWyr6K6+zZs7rnnnsUGhoqm82mKVOmuGS7pdlneC6bzaZ58+a5uwwAZRwhCoBXiY+Pl81mc/ypWLGiwsLC1KdPHz333HM6c+aMS/bz22+/ad68eUpKSnLJ9lzJk2sriscff1zx8fG677779NZbb+nuu+8udN2GDRvm63ezZs00ffp0nThxohSrdp+L34O//jl//ry7ywMAr2Qzxhh3FwEArhIfH68xY8bo0UcfVaNGjZSdna0jR45ow4YNWrt2rerXr6///Oc/atOmjeM5Fy5c0IULF1SxYsUi72fr1q2KjIzUG2+8odGjRxf5eVlZWZIkf39/SX8eierevbs+/PBDDRkypMjbKW5t2dnZys3NVUBAgEv2VRKuvfZaVahQQV999dVl123YsKFq1KihadOmSZLOnz+vbdu26bXXXlP79u21ZcsWx7rF6XNZcPF78FcjRoyQjw//X/pX58+fV4UKFVShQgV3lwKgDOMnCACv1LdvX3Xs2NHxeNasWVq3bp1uvfVWDRgwQLt371alSpUkqVR+ocrIyFBgYKAjPLmLn5+fW/dfFH/88YciIiKKvH7dunV11113OR7fc889CgoK0qJFi7R//341a9ZMkuv7nJ6ersqVK7tse1fi4vfgcvI+j+WRt4VoAO7Bf08BKDduuukmzZ49W4cOHdLbb7/tGC/oWpm1a9eqS5cuql69uoKCgtS8eXM9/PDDkv48ehQZGSlJGjNmjOPUqfj4eEl/XvfUqlUrbdu2TV27dlVgYKDjuRdfE5UnJydHDz/8sEJDQ1W5cmUNGDBAhw8fdlqnYcOGBR71+us2L1dbQddEpaena9q0aQoPD1dAQICaN2+uRYsW6eITFWw2myZNmqQVK1aoVatWCggIUMuWLbV69eqC3/CL/PHHHxo3bpxCQkJUsWJFtW3bVm+++aZjed71YSkpKfr0008dtf/0009F2v5fhYaGSpJTaCqoz+fOndPkyZMVHBysKlWqaMCAAfr111/zXTeT99zk5GSNGDFCNWrUUJcuXSRJO3bs0OjRo9W4cWNVrFhRoaGhGjt2rI4fP+60r7xt7Nu3T3fddZeqVaumWrVqafbs2TLG6PDhwxo4cKCqVq2q0NBQPf3005Zfd0Eu9XnMzMzU3Llz1bRpUwUEBCg8PFwPPfSQMjMznbaRmZmpqVOnqlatWo736Zdffsn3PhV2zV1h16O9/fbb6tChgypVqqSaNWvqzjvvzPe5z6s/OTlZ3bt3V2BgoOrWraunnnoq3/bOnz+vefPm6eqrr1bFihVVp04dDR48WAcPHnSsU9A1Ub/++qvGjh2rkJAQx+d6yZIl+bb//PPPq2XLlgoMDFSNGjXUsWNHvfvuu/nWA+D9OBIFoFy5++679fDDD2vNmjUaP358gev88MMPuvXWW9WmTRs9+uijCggI0IEDB7Rp0yZJ0jXXXKNHH31Uc+bM0YQJE3TDDTdIkq677jrHNo4fP66+ffvqzjvv1F133aWQkJBL1rVgwQLZbDbNmDFDf/zxh+Li4tSzZ08lJSU5jpgVRVFq+ytjjAYMGKD169dr3LhxateunT777DNNnz5dv/76q5599lmn9b/66it9/PHHmjhxoqpUqaLnnntOt99+u37++WddddVVhdZ17tw5devWTQcOHNCkSZPUqFEjffjhhxo9erROnTqlBx54QNdcc43eeustTZ06VfXq1XOcnlarVq1Lvubs7GwdO3ZM0p+/RH///fd65pln1LVrVzVq1OiSzx09erQ++OAD3X333br22mv1xRdfqF+/foWuf8cdd6hZs2Z6/PHHHSFz7dq1+vHHHzVmzBiFhobqhx9+0CuvvKIffvhB33zzTb7wMGzYMF1zzTVauHChPv30Uz322GOqWbOmXn75Zd1000168skn9c477+jBBx9UZGSkunbtesnXcPF7kCcwMNBxtKmgz2Nubq4GDBigr776ShMmTNA111yjnTt36tlnn9W+ffu0YsUKx7buuecevf322xoxYoSuu+46rVu37pLvU1EsWLBAs2fP1tChQ3XPPffo6NGjev7559W1a1d9//33ql69umPdkydP6uabb9bgwYM1dOhQLVu2TDNmzFDr1q3Vt29fSX/+R8Stt96qhIQE3XnnnXrggQd05swZrV27Vrt27VKTJk0KrCM1NVXXXnut4z8JatWqpVWrVmncuHFKS0tzTGzy6quvavLkyRoyZIgeeOABnT9/Xjt27NC3336rESNGXNF7AaAMMgDgRd544w0jySQmJha6TrVq1Uz79u0dj+fOnWv++uPw2WefNZLM0aNHC91GYmKikWTeeOONfMtuvPFGI8ksXry4wGU33nij4/H69euNJFO3bl2TlpbmGP/ggw+MJPOvf/3LMdagQQMTHR192W1eqrbo6GjToEEDx+MVK1YYSeaxxx5zWm/IkCHGZrOZAwcOOMYkGX9/f6ex7du3G0nm+eefz7evv4qLizOSzNtvv+0Yy8rKMp07dzZBQUFOr71BgwamX79+l9zeX9eVlO/P9ddfb44dO+a07sV93rZtm5FkpkyZ4rTe6NGjjSQzd+7cfM8dPnx4vhoyMjLyjb333ntGktm4cWO+bUyYMMExduHCBVOvXj1js9nMwoULHeMnT540lSpVKrDfRX0P8uov7PP41ltvGR8fH/Pll186jS9evNhIMps2bTLGGJOUlGQkmYkTJzqtN2LEiHzv08Wfr4tfe56ffvrJ+Pr6mgULFjitt3PnTlOhQgWn8bz6//3vfzvGMjMzTWhoqLn99tsdY0uWLDGSzDPPPJNv/7m5uY6/X1zzuHHjTJ06dfJ9Xu68805TrVo1R38HDhxoWrZsmW/bAMonTucDUO4EBQVdcpa+vP8BX7lypXJzc4u1j4CAAI0ZM6bI648aNUpVqlRxPB4yZIjq1Kmj//3vf8Xaf1H973//k6+vryZPnuw0Pm3aNBljtGrVKqfxnj17Ov2Pfps2bVS1alX9+OOPl91PaGiohg8f7hjz8/PT5MmTdfbsWX3xxRfFfg1RUVFau3at1q5dq08++UQLFizQDz/8oAEDBujcuXOFPi/vNMSJEyc6jd9///2FPufee+/NN/bXI4Xnz5/XsWPHdO2110qSvvvuu3zr33PPPY6/+/r6qmPHjjLGaNy4cY7x6tWrq3nz5pd9X/P89T3I+zNq1CjH8oI+jx9++KGuueYatWjRQseOHXP8uemmmyRJ69evlyTHZ/Diz8iVTD3/8ccfKzc3V0OHDnXad2hoqJo1a+bYd56goCCna778/f3VqVMnp/fno48+UnBwcIH9K2xqe2OMPvroI/Xv31/GGKda+vTpo9OnTzt6WL16df3yyy9KTEws9usG4D04nQ9AuXP27FnVrl270OXDhg3Ta6+9pnvuuUczZ85Ujx49NHjwYA0ZMqTIM53VrVvX0iQSeZMf5LHZbGratGmxrgey4tChQwoLC3MKcNKfpwXmLf+r+vXr59tGjRo1dPLkycvup1mzZvnev8L2Y0VwcLB69uzpeNyvXz81b95cQ4YM0WuvvVZoKDp06JB8fHzynfLXtGnTQvdV0OmBJ06c0Pz58/X+++/rjz/+cFp2+vTpfOtf/B5Wq1ZNFStWVHBwcL7xi6+rKszF78HFCvo87t+/X7t37y70dMm815L3Pl18Olzz5s2LVFtB9u/fL2NMvs99nosnQKlXr16+IFSjRg3t2LHD8fjgwYNq3ry5pclDjh49qlOnTumVV17RK6+8UuA6ee/DjBkz9Pnnn6tTp05q2rSpevfurREjRuj6668v8v4AeA9CFIBy5ZdfftHp06cv+YtypUqVtHHjRq1fv16ffvqpVq9eraVLl+qmm27SmjVr5Ovre9n9WLmOqagK+9/0nJycItXkCoXtx3jY3TJ69OghSdq4ceMljyxZVVBfhw4dqq+//lrTp09Xu3btFBQUpNzcXN18880FHsks6D0s6fe1oLpzc3PVunVrPfPMMwU+Jzw83PJ+LvUZvXjfNptNq1atKvC1BwUFOT0uqfcnrz933XWXoqOjC1wn73YI11xzjfbu3atPPvlEq1ev1kcffaQXX3xRc+bM0fz586+oDgBlDyEKQLny1ltvSZL69OlzyfV8fHzUo0cP9ejRQ88884wef/xxPfLII1q/fr169uxZ6C+LxbV//36nx8YYHThwwOl+VjVq1NCpU6fyPffQoUNq3Lix47GV2ho0aKDPP/9cZ86ccToatWfPHsdyV2jQoIF27Nih3Nxcp6NRrt5PngsXLkj686jjpWrKzc1VSkqK0xGRAwcOFHk/J0+eVEJCgubPn685c+Y4xi/upydq0qSJtm/frh49elzyM5P3PuUd6cmzd+/efOte6jN68b6NMWrUqJGuvvrq4r+Ii7b57bffKjs7u8hT+efNNpiTk3PJI3l5KleurGHDhmnYsGHKysrS4MGDtWDBAs2aNYup04FyhmuiAJQb69at0z/+8Q81atRII0eOLHS9EydO5Btr166dJDmmfs67P1BBvzAWx7///W+n67SWLVum33//3THzmPTnL4nffPON44a9kvTJJ5/kmxLaSm233HKLcnJy9MILLziNP/vss7LZbE77vxK33HKLjhw5oqVLlzrGLly4oOeff15BQUG68cYbXbKfPP/9738lSW3bti10nbwg/eKLLzqNP//880XeT94RkouPiMTFxRV5G+4ydOhQ/frrr3r11VfzLTt37pzS09MlyfEZeO6555zWKeg1NmnSRKdPn3Y6ze7333/X8uXLndYbPHiwfH19NX/+/HzvnTGmyKcx/tXtt9+uY8eO5fss522zIL6+vrr99tv10UcfadeuXfmWHz161PH3i2vy9/dXRESEjDHKzs62XC+Aso0jUQC80qpVq7Rnzx5duHBBqampWrdundauXasGDRroP//5zyX/1/jRRx/Vxo0b1a9fPzVo0EB//PGHXnzxRdWrV89xb6AmTZqoevXqWrx4sapUqaLKlSsrKirqslNqF6ZmzZrq0qWLxowZo9TUVMXFxalp06ZO07Dfc889WrZsmW6++WYNHTpUBw8e1Ntvv53vWhUrtfXv31/du3fXI488op9++klt27bVmjVrtHLlSk2ZMqXQaaGtmjBhgl5++WWNHj1a27ZtU8OGDbVs2TJt2rRJcXFx+a7JsuLXX3913PcrKytL27dv18svv1zoJAN5OnTooNtvv11xcXE6fvy4Y4rzffv2SSraEb2qVauqa9eueuqpp5Sdna26detqzZo1SklJKfbrKS133323PvjgA917771av369rr/+euXk5GjPnj364IMP9Nlnn6ljx45q166dhg8frhdffFGnT5/Wddddp4SEhAKP2N15552aMWOGbrvtNk2ePFkZGRl66aWXdPXVVztNstGkSRM99thjmjVrln766ScNGjRIVapUUUpKipYvX64JEybowQcftPR6Ro0apX//+9+KjY3Vli1bdMMNNyg9PV2ff/65Jk6cqIEDBxb4vIULF2r9+vWKiorS+PHjFRERoRMnTui7777T559/7vhPld69eys0NFTXX3+9QkJCtHv3br3wwgvq16/fFX1+AZRRbpgREABKTN4U53l//P39TWhoqOnVq5f517/+5TSVdp6Lp19OSEgwAwcONGFhYcbf39+EhYWZ4cOHm3379jk9b+XKlSYiIsJUqFDBaUrxG2+8sdCpkAub4vy9994zs2bNMrVr1zaVKlUy/fr1M4cOHcr3/KefftrUrVvXBAQEmOuvv95s3bo13zYvVVtBU1CfOXPGTJ061YSFhRk/Pz/TrFkz889//tNpWmhj/pwaOiYmJl9NhU29frHU1FQzZswYExwcbPz9/U3r1q0LnIb9SqY49/HxMbVr1zbDhw93mordmPx9NsaY9PR0ExMTY2rWrGmCgoLMoEGDzN69e40kpynH855b0LT3v/zyi7nttttM9erVTbVq1cwdd9xhfvvtt0KnSb94G9HR0aZy5cr5tnupz9HF78Gl3q9LbScrK8s8+eSTpmXLliYgIMDUqFHDdOjQwcyfP9+cPn3asd65c+fM5MmTzVVXXWUqV65s+vfvbw4fPpzvNRpjzJo1a0yrVq2Mv7+/ad68uXn77bcLfO+NMeajjz4yXbp0MZUrVzaVK1c2LVq0MDExMWbv3r2Xrb+gz3JGRoZ55JFHTKNGjYyfn58JDQ01Q4YMMQcPHnSsU1DNqampJiYmxoSHhzue16NHD/PKK6841nn55ZdN165dzVVXXWUCAgJMkyZNzPTp053eJwDlh80YD7saGAAAN0pKSlL79u319ttvX/K0T/x5tG7u3LmaN2+eu0sBgFLFNVEAgHKroPtIxcXFycfHR127dnVDRQCAsoBrogAA5dZTTz2lbdu2qXv37qpQoYJWrVqlVatWacKECcWa4hsAUD4QogAA5dZ1112ntWvX6h//+IfOnj2r+vXra968eXrkkUfcXRoAwINxTRQAAAAAWMA1UQAAAABgASEKAAAAACwo99dE5ebm6rffflOVKlWKdGNFAAAAAN7JGKMzZ84oLCxMPj6FH28q9yHqt99+YwYmAAAAAA6HDx9WvXr1Cl1ebkOU3W6X3W7XhQsXJP35RlWtWtWtNWVnZ2vNmjXq3bu3/Pz83FoLXIe+ei96673orfeit96L3nqn0u5rWlqawsPDVaVKlUuuV25DVExMjGJiYpSWlqZq1aqpatWqHhGiAgMDVbVqVb78XoS+ei96673orfeit96L3nond/X1cpf5MLEEAAAAAFhAiAIAAAAACwhRAAAAAGABIQoAAAAALCBEAQAAAIAFhCgAAAAAsKDchii73a6IiAhFRka6uxQAAAAAZUi5DVExMTFKTk5WYmKiu0sBAAAAUIaU2xAFAAAAAMVBiAIAAAAACwhRAAAAAGABIQoAAAAALCBEAQAAAIAFhCgAAAAAsIAQBQAAAAAWlNsQxc12AQAAABRHuQ1R3GwXAAAAQHGU2xAFAAAAAMVRwd0FIL9W8z5TZo7N0nN+WtivhKoBAAAA8FcciQIAAAAACwhRAAAAAGABIQoAAAAALCBEAQAAAIAFhCgAAAAAsIAQBQAAAAAWEKIAAAAAwAJCFAAAAABYQIgCAAAAAAsIUQAAAABgQbkNUXa7XREREYqMjHR3KQAAAADKkHIbomJiYpScnKzExER3lwIAAACgDCm3IQoAAAAAioMQBQAAAAAWEKIAAAAAwAJCFAAAAABYQIgCAAAAAAsIUQAAAABgASEKAAAAACwgRAEAAACABYQoAAAAALCAEAUAAAAAFhCiAAAAAMACQhQAAAAAWECIAgAAAAALCFEAAAAAYAEhCgAAAAAsIEQBAAAAgAUV3F2AKzRs2FBVq1aVj4+PatSoofXr17u7JAAAAABeyitClCR9/fXXCgoKcncZAAAAALwcp/MBAAAAgAVuD1EbN25U//79FRYWJpvNphUrVuRbx263q2HDhqpYsaKioqK0ZcsWp+U2m0033nijIiMj9c4775RS5QAAAADKI7efzpeenq62bdtq7NixGjx4cL7lS5cuVWxsrBYvXqyoqCjFxcWpT58+2rt3r2rXri1J+uqrr1S3bl39/vvv6tmzp1q3bq02bdoUuL/MzExlZmY6HqelpUmSsrOzlZ2dXQKvsOjy9h/gY4r9XHievN7QI+9Db70XvfVe9NZ70VvvVNp9Lep+bMYY67+xlxCbzably5dr0KBBjrGoqChFRkbqhRdekCTl5uYqPDxc999/v2bOnJlvG9OnT1fLli01evToAvcxb948zZ8/P9/4u+++q8DAQJe8DgAAAABlT0ZGhkaMGKHTp0+ratWqha7n9iNRl5KVlaVt27Zp1qxZjjEfHx/17NlTmzdvlvTnkazc3FxVqVJFZ8+e1bp16zR06NBCtzlr1izFxsY6HqelpSk8PFy9e/e+5BtVGrKzs7V27VrN3uqjzFybpefumtenhKrClcrra69eveTn5+fucuBC9NZ70VvvRW+9F731TqXd17yz1C7Ho0PUsWPHlJOTo5CQEKfxkJAQ7dmzR5KUmpqq2267TZKUk5Oj8ePHKzIystBtBgQEKCAgIN+4n5+fx3zhMnNtysyxFqI8pXYUzpM+Y3Ateuu96K33orfei956p9Lqa1H34dEhqigaN26s7du3u7sMAAAAAOWE22fnu5Tg4GD5+voqNTXVaTw1NVWhoaFXtG273a6IiIhLHrUCAAAAgIt5dIjy9/dXhw4dlJCQ4BjLzc1VQkKCOnfufEXbjomJUXJyshITE6+0TAAAAADliNtP5zt79qwOHDjgeJySkqKkpCTVrFlT9evXV2xsrKKjo9WxY0d16tRJcXFxSk9P15gxY9xYNQAAAIDyyu0hauvWrerevbvjcd7MedHR0YqPj9ewYcN09OhRzZkzR0eOHFG7du20evXqfJNNAAAAAEBpcHuI6tatmy53q6pJkyZp0qRJLt2v3W6X3W5XTk6OS7cLAAAAwLt59DVRJYlrogAAAAAUR7kNUQAAAABQHIQoAAAAALCg3IYo7hMFAAAAoDjKbYjimigAAAAAxVFuQxQAAAAAFAchCgAAAAAsIEQBAAAAgAXlNkQxsQQAAACA4ii3IYqJJQAAAAAUR7kNUQAAAABQHIQoAAAAALCAEAUAAAAAFhCiAAAAAMCCchuimJ0PAAAAQHGU2xDF7HwAAAAAiqPchigAAAAAKA5CFAAAAABYQIgCAAAAAAsIUQAAAABgASEKAAAAACwgRAEAAACABeU2RHGfKAAAAADFUW5DFPeJAgAAAFAc5TZEAQAAAEBxEKIAAAAAwAJCFAAAAABYQIgCAAAAAAsIUQAAAABgASEKAAAAACwgRAEAAACABeU2RHGzXQAAAADFUW5DFDfbBQAAAFAc5TZEAQAAAEBxEKIAAAAAwAJCFAAAAABYQIgCAAAAAAsIUQAAAABgASEKAAAAACwgRAEAAACABYQoAAAAALCAEAUAAAAAFhCiAAAAAMACQhQAAAAAWECIAgAAAAALym2IstvtioiIUGRkpLtLAQAAAFCGlNsQFRMTo+TkZCUmJrq7FAAAAABlSLkNUQAAAABQHIQoAAAAALCAEAUAAAAAFhCiAAAAAMACQhQAAAAAWECIAgAAAAALCFEAAAAAYAEhCgAAAAAsIEQBAAAAgAWEKAAAAACwgBAFAAAAABYQogAAAADAAkIUAAAAAFhAiAIAAAAACwhRAAAAAGABIQoAAAAALKhgZeVTp05p+fLl+vLLL3Xo0CFlZGSoVq1aat++vfr06aPrrruupOq8rIyMDF1zzTW64447tGjRIrfVAQAAAMC7FelI1G+//aZ77rlHderU0WOPPaZz586pXbt26tGjh+rVq6f169erV69eioiI0NKlS0u65gItWLBA1157rVv2DQAAAKD8KNKRqPbt2ys6Olrbtm1TREREgeucO3dOK1asUFxcnA4fPqwHH3zQpYVeyv79+7Vnzx71799fu3btKrX9AgAAACh/inQkKjk5WU899VShAUqSKlWqpOHDh2vz5s0aM2ZMkQvYuHGj+vfvr7CwMNlsNq1YsSLfOna7XQ0bNlTFihUVFRWlLVu2OC1/8MEH9cQTTxR5nwAAAABQXEU6EnXVVVdZ2qiV9dPT09W2bVuNHTtWgwcPzrd86dKlio2N1eLFixUVFaW4uDj16dNHe/fuVe3atbVy5UpdffXVuvrqq/X1119fdn+ZmZnKzMx0PE5LS5MkZWdnKzs7u8h1l4S8/Qf4mGI/F54nrzf0yPvQW+9Fb70XvfVe9NY7lXZfi7ofmzHG8m/sb731lhYvXqyUlBRt3rxZDRo0UFxcnBo1aqSBAwdaLtZRjM2m5cuXa9CgQY6xqKgoRUZG6oUXXpAk5ebmKjw8XPfff79mzpypWbNm6e2335avr6/Onj2r7OxsTZs2TXPmzClwH/PmzdP8+fPzjb/77rsKDAwsdu0AAAAAyraMjAyNGDFCp0+fVtWqVQtdz3KIeumllzRnzhxNmTJFCxYs0K5du9S4cWPFx8frzTff1Pr164td9MUhKisrS4GBgVq2bJlTsIqOjtapU6e0cuVKp+fHx8dr165dl5ydr6AjUeHh4Tp27Ngl36jSkJ2drbVr12r2Vh9l5tosPXfXvD4lVBWuVF5fe/XqJT8/P3eXAxeit96L3noveuu96K13Ku2+pqWlKTg4+LIhytIU55L0/PPP69VXX9WgQYO0cOFCx3jHjh1dPpnEsWPHlJOTo5CQEKfxkJAQ7dmzp1jbDAgIUEBAQL5xPz8/j/nCZebalJljLUR5Su0onCd9xuBa9NZ70VvvRW+9F731TqXV16Luw3KISklJUfv27fONBwQEKD093ermXGr06NFu3T8AAAAA71ek2fn+qlGjRkpKSso3vnr1al1zzTWuqMkhODhYvr6+Sk1NdRpPTU1VaGjoFW3bbrcrIiJCkZGRV7QdAAAAAOWL5RAVGxurmJgYLV26VMYYbdmyRQsWLNCsWbP00EMPubQ4f39/dejQQQkJCY6x3NxcJSQkqHPnzle07ZiYGCUnJysxMfFKywQAAABQjlg+ne+ee+5RpUqV9H//93+O2SvCwsL0r3/9S3feeaflAs6ePasDBw44HqekpCgpKUk1a9ZU/fr1FRsbq+joaHXs2FGdOnVSXFyc0tPTLd2LCgAAAABcxXKIkqSRI0dq5MiRysjI0NmzZ1W7du1iF7B161Z1797d8Tg2NlbSnzPwxcfHa9iwYTp69KjmzJmjI0eOqF27dlq9enW+ySYAAAAAoDQUK0TlCQwMvOJ7K3Xr1k2Xm2V90qRJmjRp0hXt52J2u112u105OTku3S4AAAAA71akENW+fXvZbEWbcvu77767ooJKS0xMjGJiYpSWlqZq1aq5uxwAAAAAZUSRQtRfb3QLAAAAAOVZkULU3LlzS7oOAAAAACgTLE9x7i24TxQAAACA4rAconJycrRo0SJ16tRJoaGhqlmzptOfsoL7RAEAAAAoDsshav78+XrmmWc0bNgwnT59WrGxsRo8eLB8fHw0b968EigRAAAAADyH5RD1zjvv6NVXX9W0adNUoUIFDR8+XK+99prmzJmjb775piRqBAAAAACPYTlEHTlyRK1bt5YkBQUF6fTp05KkW2+9VZ9++qlrqwMAAAAAD2M5RNWrV0+///67JKlJkyZas2aNJCkxMVEBAQGura4EMbEEAAAAgOKwHKJuu+02JSQkSJLuv/9+zZ49W82aNdOoUaM0duxYlxdYUphYAgAAAEBxFOk+UX+1cOFCx9+HDRumBg0a6Ouvv1azZs3Uv39/lxYHAAAAAJ7Gcoi62LXXXqtrr73WFbUAAAAAgMezfDrfE088oSVLluQbX7JkiZ588kmXFAUAAAAAnspyiHr55ZfVokWLfOMtW7bU4sWLXVIUAAAAAHiqYk1xXqdOnXzjtWrVcszaVxYwOx8AAACA4rAcosLDw7Vp06Z845s2bVJYWJhLiioNzM4HAAAAoDgsTywxfvx4TZkyRdnZ2brpppskSQkJCXrooYc0bdo0lxcIAAAAAJ7EcoiaPn26jh8/rokTJyorK0uSVLFiRc2YMUOzZs1yeYEAAAAA4EkshyibzaYnn3xSs2fP1u7du1WpUiU1a9ZMAQEBJVEfAAAAAHgUy9dE5QkKClJkZKTq16+vVatWaffu3a6sCwAAAAA8kuUQNXToUL3wwguSpHPnzqljx44aOnSo2rRpo48++sjlBQIAAACAJ7EcojZu3KgbbrhBkrR8+XIZY3Tq1Ck999xzeuyxx1xeIAAAAAB4Essh6vTp06pZs6YkafXq1br99tsVGBiofv36af/+/S4vsKRwnygAAAAAxVGs+0Rt3rxZ6enpWr16tXr37i1JOnnypCpWrOjyAksK94kCAAAAUByWZ+ebMmWKRo4cqaCgIDVo0EDdunWT9Odpfq1bt3Z1fQAAAADgUSyHqIkTJyoqKko///yzevXqJR+fPw9mNW7cmGuiAAAAAHg9yyFKkjp06KAOHTo4jfXr188lBQEAAACAJyv2faIAAAAAoDwiRAEAAACABYQoAAAAALCAEAUAAAAAFlieWGLHjh0FjttsNlWsWFH169dXQEDAFRcGAAAAAJ7Icohq166dbDZbocv9/Pw0bNgwvfzyyx5981273S673a6cnBx3lwIAAACgDLF8Ot/y5cvVrFkzvfLKK0pKSlJSUpJeeeUVNW/eXO+++65ef/11rVu3Tv/3f/9XEvW6TExMjJKTk5WYmOjuUgAAAACUIZaPRC1YsED/+te/1KdPH8dY69atVa9ePc2ePVtbtmxR5cqVNW3aNC1atMilxQIAAACAu1k+ErVz5041aNAg33iDBg20c+dOSX+e8vf7779feXUAAAAA4GEsh6gWLVpo4cKFysrKcoxlZ2dr4cKFatGihSTp119/VUhIiOuqBAAAAAAPYfl0PrvdrgEDBqhevXpq06aNpD+PTuXk5OiTTz6RJP3444+aOHGiaysFAAAAAA9gOURdd911SklJ0TvvvKN9+/ZJku644w6NGDFCVapUkSTdfffdrq0SAAAAADyE5RAlSVWqVNG9997r6loAAAAAwOMVK0QdPHhQcXFx2r17tySpZcuWmjx5spo0aeLS4gAAAADA01ieWOKzzz5TRESEtmzZojZt2qhNmzb65ptv1LJlS61du7YkagQAAAAAj2H5SNTMmTM1depULVy4MN/4jBkz1KtXL5cVBwAAAACexvKRqN27d2vcuHH5xseOHavk5GSXFAUAAAAAnspyiKpVq5aSkpLyjSclJal27dquqAkAAAAAPJbl0/nGjx+vCRMm6Mcff9R1110nSdq0aZOefPJJxcbGurzAkmK322W325WTk+PuUgAAAACUIZZD1OzZs1WlShU9/fTTmjVrliQpLCxM8+bN0+TJk11eYEmJiYlRTEyM0tLSVK1aNXeXAwAAAKCMsByibDabpk6dqqlTp+rMmTOS5LjJLgAAAAB4u2LdJyoP4QkAAABAeVOkENW+fXvZbLYibfC77767ooIAAAAAwJMVKUQNGjSohMsAAAAAgLKhSCFq7ty5JV0HAAAAAJQJRbpPlDGmpOsAAAAAgDKhSCGqZcuWev/995WVlXXJ9fbv36/77rtPCxcudElxAAAAAOBpinQ63/PPP68ZM2Zo4sSJ6tWrlzp27KiwsDBVrFhRJ0+eVHJysr766iv98MMPmjRpku67776SrhsAAAAA3KJIIapHjx7aunWrvvrqKy1dulTvvPOODh06pHPnzik4OFjt27fXqFGjNHLkSNWoUaOkawYAAAAAt7F0n6guXbqoS5cuJVULAAAAAHi8Il0TBQAAAAD4EyEKAAAAACwgRAEAAACABYQoAAAAALCAEAUAAAAAFlgOUd9995127tzpeLxy5UoNGjRIDz/88GVvxgsAAAAAZZ3lEPX3v/9d+/btkyT9+OOPuvPOOxUYGKgPP/xQDz30kMsLvJxTp06pY8eOateunVq1aqVXX3211GsAAAAAUH5YDlH79u1Tu3btJEkffvihunbtqnfffVfx8fH66KOPXF3fZVWpUkUbN25UUlKSvv32Wz3++OM6fvx4qdcBAAAAoHywHKKMMcrNzZUkff7557rlllskSeHh4Tp27JhrqysCX19fBQYGSpIyMzNljJExptTrAAAAAFA+WA5RHTt21GOPPaa33npLX3zxhfr16ydJSklJUUhIiOUCNm7cqP79+yssLEw2m00rVqzIt47dblfDhg1VsWJFRUVFacuWLU7LT506pbZt26pevXqaPn26goODLdcBAAAAAEVRweoT4uLiNHLkSK1YsUKPPPKImjZtKklatmyZrrvuOssFpKenq23btho7dqwGDx6cb/nSpUsVGxurxYsXKyoqSnFxcerTp4/27t2r2rVrS5KqV6+u7du3KzU1VYMHD9aQIUMKDXSZmZnKzMx0PE5LS5MkZWdnKzs723L9rpS3/wAf60fS3F07CpfXG3rkfeit96K33oveei96651Ku69F3Y/NuOjct/Pnz8vX11d+fn7F3obNZtPy5cs1aNAgx1hUVJQiIyP1wgsvSJJyc3MVHh6u+++/XzNnzsy3jYkTJ+qmm27SkCFDCtzHvHnzNH/+/Hzj7777ruO0QAAAAADlT0ZGhkaMGKHTp0+ratWqha5n+UjUX509e9ZxfVSeKwlRF8vKytK2bds0a9Ysx5iPj4969uypzZs3S5JSU1MVGBioKlWq6PTp09q4caPuu+++Qrc5a9YsxcbGOh6npaUpPDxcvXv3vuQbVRqys7O1du1azd7qo8xcm6Xn7prXp4SqwpXK62uvXr1c+v2A+9Fb70VvvRe99V701juVdl/zzlK7HMshKiUlRZMmTdKGDRt0/vx5x7gxRjabTTk5OVY3Wahjx44pJycn36l5ISEh2rNnjyTp0KFDmjBhgmNCifvvv1+tW7cudJsBAQEKCAjIN+7n5+cxX7jMXJsyc6yFKE+pHYXzpM8YXIveei96673orfeit96ptPpa1H1YDlF33XWXjDFasmSJQkJCZLNZ+2Xf1Tp16qSkpCS31gAAAACg/LAcorZv365t27apefPmJVGPk+DgYPn6+io1NdVpPDU1VaGhoVe0bbvdLrvd7tIjZwAAAAC8n+UpziMjI3X48OGSqCUff39/dejQQQkJCY6x3NxcJSQkqHPnzle07ZiYGCUnJysxMfFKywQAAABQjlg+EvXaa6/p3nvv1a+//qpWrVrlO2+wTZs2lrZ39uxZHThwwPE4JSVFSUlJqlmzpurXr6/Y2FhFR0erY8eO6tSpk+Li4pSenq4xY8ZYLR0AAAAArpjlEHX06FEdPHjQKcTYbLZiTyyxdetWde/e3fE4b+a86OhoxcfHa9iwYTp69KjmzJmjI0eOqF27dlq9enWxbuwLAAAAAFfKcogaO3as2rdvr/fee88lE0t069ZNl7tV1aRJkzRp0qQr2s/FuCYKAAAAQHFYDlGHDh3Sf/7zHzVt2rQk6ik1MTExiomJUVpamqpVq+bucgAAAACUEZYnlrjpppu0ffv2kqgFAAAAADye5SNR/fv319SpU7Vz5061bt0638QSAwYMcFlxAAAAAOBpLIeoe++9V5L06KOP5ltWnIkl3IVrogAAAAAUh+XT+XJzcwv9U5YCCfeJAgAAAFAclkMUAAAAAJRnlk/nk6T09HR98cUX+vnnn5WVleW0bPLkyS4pDAAAAAA8keUQ9f333+uWW25RRkaG0tPTVbNmTR07dkyBgYGqXbs2IQoAAACAV7N8Ot/UqVPVv39/nTx5UpUqVdI333yjQ4cOqUOHDlq0aFFJ1Fgi7Ha7IiIiFBkZ6e5SAAAAAJQhlkNUUlKSpk2bJh8fH/n6+iozM1Ph4eF66qmn9PDDD5dEjSWCiSUAAAAAFIflEOXn5ycfnz+fVrt2bf3888+SpGrVqunw4cOurQ4AAAAAPIzla6Lat2+vxMRENWvWTDfeeKPmzJmjY8eO6a233lKrVq1KokYAAAAA8BiWj0Q9/vjjqlOnjiRpwYIFqlGjhu677z4dPXpUr7zyissLBAAAAABPYulIlDFGtWvXdhxxql27tlavXl0ihQEAAACAJ7J0JMoYo6ZNm3LtEwAAAIByy1KI8vHxUbNmzXT8+PGSqqfUMMU5AAAAgOKwfE3UwoULNX36dO3atask6ik1THEOAAAAoDgsz843atQoZWRkqG3btvL391elSpWclp84ccJlxQEAAACAp7EcouLi4kqgDAAAAAAoGyyHqOjo6JKoAwAAAADKBMshKi0trcBxm82mgIAA+fv7X3FRAAAAAOCpLIeo6tWry2azFbq8Xr16Gj16tObOnSsfH8vzVgAAAACAR7McouLj4/XII49o9OjR6tSpkyRpy5YtevPNN/V///d/Onr0qBYtWqSAgAA9/PDDLi/YVex2u+x2u3JyctxdCgAAAIAyxHKIevPNN/X0009r6NChjrH+/furdevWevnll5WQkKD69etrwYIFHh2iYmJiFBMTo7S0NFWrVs3d5QAAAAAoIyyfb/f111+rffv2+cbbt2+vzZs3S5K6dOmin3/++cqrAwAAAAAPYzlEhYeH6/XXX883/vrrrys8PFySdPz4cdWoUePKqwMAAAAAD2P5dL5Fixbpjjvu0KpVqxQZGSlJ2rp1q/bs2aNly5ZJkhITEzVs2DDXVgoAAAAAHsByiBowYID27NmjV155RXv37pUk9e3bVytWrFDDhg0lSffdd59LiwQAAAAAT2E5RElSo0aN9MQTT7i6FgAAAADweEUKUTt27FCrVq3k4+OjHTt2XHLdNm3auKQwAAAAAPBERQpR7dq105EjR1S7dm21a9dONptNxph869lsNu67BAAAAMCrFSlEpaSkqFatWo6/AwAAAEB5VaQQ1aBBgwL/XpbZ7XbZ7XaOnAEAAACwxPJ9oo4fP+74++HDhzVnzhxNnz5dX375pUsLK2kxMTFKTk5WYmKiu0sBAAAAUIYUOUTt3LlTDRs2VO3atdWiRQslJSUpMjJSzz77rF555RV1795dK1asKMFSAQAAAMD9ihyiHnroIbVu3VobN25Ut27ddOutt6pfv346ffq0Tp48qb///e9auHBhSdYKAAAAAG5X5PtEJSYmat26dWrTpo3atm2rV155RRMnTpSPz5857P7779e1115bYoUCAAAAgCco8pGoEydOKDQ0VJIUFBSkypUrq0aNGo7lNWrU0JkzZ1xfIQAAAAB4EEsTS9hstks+BgAAAABvV+TT+SRp9OjRCggIkCSdP39e9957rypXrixJyszMdH11AAAAAOBhihyioqOjnR7fdddd+dYZNWrUlVeEYmk489NiPe+nhf1cXAkAAADg3Yocot54442SrAMAAAAAygTLN9sFAAAAgPKMEAUAAAAAFhCiAAAAAMCCchui7Ha7IiIiFBkZ6e5SAAAAAJQhRQpRf/vb33Ty5ElJ0qOPPqqMjIwSLao0xMTEKDk5WYmJie4uBQAAAEAZUqQQtXv3bqWnp0uS5s+fr7Nnz5ZoUQAAAADgqYo0xXm7du00ZswYdenSRcYYLVq0SEFBQQWuO2fOHJcWCAAAAACepEghKj4+XnPnztUnn3wim82mVatWqUKF/E+12WyEKAAAAABerUghqnnz5nr//fclST4+PkpISFDt2rVLtDAAAAAA8ERFClF/lZubWxJ1AAAAAECZYDlESdLBgwcVFxen3bt3S5IiIiL0wAMPqEmTJi4tDgAAAAA8jeX7RH322WeKiIjQli1b1KZNG7Vp00bffvutWrZsqbVr15ZEjQAAAADgMSwfiZo5c6amTp2qhQsX5hufMWOGevXq5bLiAAAAAMDTWD4StXv3bo0bNy7f+NixY5WcnOySogAAAADAU1kOUbVq1VJSUlK+8aSkJGbsAwAAAOD1LJ/ON378eE2YMEE//vijrrvuOknSpk2b9OSTTyo2NtblBQIAAACAJ7EcombPnq0qVaro6aef1qxZsyRJYWFhmjdvniZPnuzyAgEAAADAk1gOUTabTVOnTtXUqVN15swZSVKVKlVcXhgAAAAAeKJi3ScqD+EJAAAAQHljeWIJAAAAACjPCFEAAAAAYEGZD1GHDx9Wt27dFBERoTZt2ujDDz90d0kAAAAAvJilEJWdna0ePXpo//79JVWPZRUqVFBcXJySk5O1Zs0aTZkyRenp6e4uCwAAAICXsjSxhJ+fn3bs2FFStRRLnTp1VKdOHUlSaGiogoODdeLECVWuXNnNlQEAAADwRpZP57vrrrv0+uuvu6yAjRs3qn///goLC5PNZtOKFSvyrWO329WwYUNVrFhRUVFR2rJlS4Hb2rZtm3JychQeHu6y+gAAAADgryxPcX7hwgUtWbJEn3/+uTp06JDviM8zzzxjaXvp6elq27atxo4dq8GDB+dbvnTpUsXGxmrx4sWKiopSXFyc+vTpo71796p27dqO9U6cOKFRo0bp1VdfveT+MjMzlZmZ6XiclpYm6c9TFbOzsy3V7mp5+w/wMaW+T5ScvPeY99r70FvvRW+9F731XvTWO5V2X4u6H5sxxtJv7N27dy98Yzab1q1bZ2Vz+Z6/fPlyDRo0yDEWFRWlyMhIvfDCC5Kk3NxchYeH6/7779fMmTMl/RmMevXqpfHjx+vuu+++5D7mzZun+fPn5xt/9913FRgYWOzaAQAAAJRtGRkZGjFihE6fPq2qVasWup7lEFWSLg5RWVlZCgwM1LJly5yCVXR0tE6dOqWVK1fKGKMRI0aoefPmmjdv3mX3UdCRqPDwcB07duySb1RpyM7O1tq1azV7q48yc22lss9d8/qUyn7Ks7y+9urVS35+fu4uBy5Eb70XvfVe9NZ70VvvVNp9TUtLU3Bw8GVDlOXT+fIcOHBABw8eVNeuXVWpUiUZY2SzufYX/2PHjiknJ0chISFO4yEhIdqzZ48kadOmTVq6dKnatGnjuJ7qrbfeUuvWrQvcZkBAgAICAvKN+/n5ecwXLjPXpsyc0glRnvKaywNP+ozBteit96K33oveei96651Kq69F3YflEHX8+HENHTpU69evl81m0/79+9W4cWONGzdONWrU0NNPP2252CvRpUsX5ebmluo+AQAAAJRflmfnmzp1qvz8/PTzzz87XUM0bNgwrV692qXFBQcHy9fXV6mpqU7jqampCg0NvaJt2+12RUREKDIy8oq2AwAAAKB8sRyi1qxZoyeffFL16tVzGm/WrJkOHTrkssIkyd/fXx06dFBCQoJjLDc3VwkJCercufMVbTsmJkbJyclKTEy80jIBAAAAlCOWT+dLT08vcBa7EydOFHit0eWcPXtWBw4ccDxOSUlRUlKSatasqfr16ys2NlbR0dHq2LGjOnXqpLi4OKWnp2vMmDGW9wUAAAAAV8pyiLrhhhv073//W//4xz8k/TmjXm5urp566qlLTn9emK1btzo9LzY2VtKfM/DFx8dr2LBhOnr0qObMmaMjR46oXbt2Wr16db7JJgAAAACgNFgOUU899ZR69OihrVu3KisrSw899JB++OEHnThxQps2bbJcQLdu3XS5WdYnTZqkSZMmWd72pdjtdtntduXk5Lh0uwAAAAC8m+Vrolq1aqV9+/apS5cuGjhwoNLT0zV48GB9//33atKkSUnUWCK4JgoAAABAcRTrPlHVqlXTI4884upaAAAAAMDjFStEnTx5Uq+//rp2794tSYqIiNCYMWNUs2ZNlxYHAAAAAJ7G8ul8GzduVMOGDfXcc8/p5MmTOnnypJ577jk1atRIGzduLIkaSwT3iQIAAABQHJaPRMXExGjYsGF66aWX5OvrK0nKycnRxIkTFRMTo507d7q8yJIQExOjmJgYpaWlqVq1au4uBwAAAEAZYflI1IEDBzRt2jRHgJIkX19fxcbGOt3vCQAAAAC8keUjUX/729+0e/duNW/e3Gl89+7datu2rcsKQ+loOPPTYj3vp4X9XFwJAAAAUDYUKUTt2LHD8ffJkyfrgQce0IEDB3TttddKkr755hvZ7XYtXLiwZKoEAAAAAA9RpBDVrl072Ww2p5viPvTQQ/nWGzFihIYNG+a66gAAAADAwxQpRKWkpJR0HaXObrfLbrcrJyfH3aUAAAAAKEOKFKIaNGhQ0nWUOmbnAwAAAFAcxbrZ7m+//aavvvpKf/zxh3Jzc52WTZ482SWFAQAAAIAnshyi4uPj9fe//13+/v666qqrZLPZHMtsNhshCgAAAIBXsxyiZs+erTlz5mjWrFny8bF8mykAAAAAKNMsp6CMjAzdeeedBCgAAAAA5ZLlJDRu3Dh9+OGHJVFLqbLb7YqIiFBkZKS7SwEAAABQhlg+ne+JJ57QrbfeqtWrV6t169by8/NzWv7MM8+4rLiSxOx8AAAAAIqjWCHqs88+U/PmzSUp38QSAAAAAODNLIeop59+WkuWLNHo0aNLoBwAAAAA8GyWr4kKCAjQ9ddfXxK1AAAAAIDHsxyiHnjgAT3//PMlUQsAAAAAeDzLp/Nt2bJF69at0yeffKKWLVvmm1ji448/dllxAAAAAOBpLIeo6tWra/DgwSVRS6my2+2y2+3KyclxdykAAAAAyhDLIeqNN94oiTpKHVOcAwAAACgOy9dEAQAAAEB5ZvlIVKNGjS55P6gff/zxigoCAAAAAE9mOURNmTLF6XF2dra+//57rV69WtOnT3dVXQAAAADgkSyHqAceeKDAcbvdrq1bt15xQQAAAADgyVx2TVTfvn310UcfuWpzAAAAAOCRXBaili1bppo1a7pqcwAAAADgkSyfzte+fXuniSWMMTpy5IiOHj2qF1980aXFAQAAAICnsRyiBg0a5PTYx8dHtWrVUrdu3dSiRQtX1QUAAAAAHslyiJo7d25J1FHq7Ha77Ha7cnJy3F0KAAAAgDKk3N5sNyYmRsnJyUpMTHR3KQAAAADKkCIfifLx8bnkTXYlyWaz6cKFC1dcFAAAAAB4qiKHqOXLlxe6bPPmzXruueeUm5vrkqIAAAAAwFMVOUQNHDgw39jevXs1c+ZM/fe//9XIkSP16KOPurQ4AAAAAPA0lieWkKTffvtNc+fO1Ztvvqk+ffooKSlJrVq1cnVt8GANZ35arOf9tLCfiysBAAAASpeliSVOnz6tGTNmqGnTpvrhhx+UkJCg//73vwQoAAAAAOVGkY9EPfXUU3ryyScVGhqq9957r8DT+wAAAADA2xU5RM2cOVOVKlVS06ZN9eabb+rNN98scL2PP/7YZcUBAAAAgKcpcogaNWrUZac4BwAAAABvV+QQFR8fX4JlAAAAAEDZYGliCQAAAAAo7whRAAAAAGBBuQ1RdrtdERERioyMdHcpAAAAAMqQchuiYmJilJycrMTERHeXAgAAAKAMKbchCgAAAACKgxAFAAAAABYQogAAAADAAkIUAAAAAFhQ5JvtAq7QcOanxXreTwv7ubgSAAAAoHg4EgUAAAAAFhCiAAAAAMACQhQAAAAAWECIAgAAAAALCFEAAAAAYAGz86FMYFY/AAAAeAqORAEAAACABYQoAAAAALCAEAUAAAAAFhCiAAAAAMACQhQAAAAAWOAVIeq2225TjRo1NGTIEHeXAgAAAMDLeUWIeuCBB/Tvf//b3WUAAAAAKAe8IkR169ZNVapUcXcZAAAAAMoBt4eojRs3qn///goLC5PNZtOKFSvyrWO329WwYUNVrFhRUVFR2rJlS+kXCgAAAADygBCVnp6utm3bym63F7h86dKlio2N1dy5c/Xdd9+pbdu26tOnj/74449SrhQAAAAApAruLqBv377q27dvocufeeYZjR8/XmPGjJEkLV68WJ9++qmWLFmimTNnWt5fZmamMjMzHY/T0tIkSdnZ2crOzra8PVfK23+Aj3FrHd7E3T39aw2eUAtci956L3rrveit96K33qm0+1rU/bg9RF1KVlaWtm3bplmzZjnGfHx81LNnT23evLlY23ziiSc0f/78fONr1qxRYGBgsWt1pX90zHV3CV7jf//7n7tLcFi7dq27S0AJobfei956L3rrveitdyqtvmZkZBRpPY8OUceOHVNOTo5CQkKcxkNCQrRnzx7H4549e2r79u1KT09XvXr19OGHH6pz584FbnPWrFmKjY11PE5LS1N4eLh69+6tqlWrlswLKaLs7GytXbtWs7f6KDPX5tZavMWueX3cXYKjr7169ZKfn5+7y4EL0VvvRW+9F731XvTWO5V2X/POUrscjw5RRfX5558Xed2AgAAFBATkG/fz8/OYL1xmrk2ZOYQoV/CUnkqe9RmDa9Fb70VvvRe99V701juVVl+Lug+3TyxxKcHBwfL19VVqaqrTeGpqqkJDQ69o23a7XREREYqMjLyi7QAAAAAoXzw6RPn7+6tDhw5KSEhwjOXm5iohIaHQ0/WKKiYmRsnJyUpMTLzSMgEAAACUI24/ne/s2bM6cOCA43FKSoqSkpJUs2ZN1a9fX7GxsYqOjlbHjh3VqVMnxcXFKT093TFbHwAAAACUJreHqK1bt6p79+6Ox3mTPkRHRys+Pl7Dhg3T0aNHNWfOHB05ckTt2rXT6tWr8002AQAAAAClwe0hqlu3bjLm0vdFmjRpkiZNmuTS/drtdtntduXk5Lh0uwAAAAC8m0dfE1WSuCYKAAAAQHGU2xAFAAAAAMVBiAIAAAAACwhRAAAAAGBBuQ1R3GwXAAAAQHGU2xDFxBIAAAAAiqPchigAAAAAKA5CFAAAAABYQIgCAAAAAAvKbYhiYgkAAAAAxVFuQxQTSwAAAAAojnIbogAAAACgOAhRAAAAAGABIQoAAAAALCBEAQAAAIAF5TZEMTsfAAAAgOIotyGK2fkAAAAAFEe5DVEAAAAAUByEKAAAAACwgBAFAAAAABYQogAAAADAAkIUAAAAAFhQbkMUU5wDAAAAKI5yG6KY4hwAAABAcZTbEAUAAAAAxUGIAgAAAAALCFEAAAAAYAEhCgAAAAAsIEQBAAAAgAWEKAAAAACwgBAFAAAAABYQogAAAADAggruLsBd7Ha77Ha7cnJy3F0KPFDDmZ+6bFsBvkZPdZJazftMmTm2Qtf7aWE/l+2zKIr7GotbZ2nvDwAAoKSU2yNRMTExSk5OVmJiortLAQAAAFCGlNsQBQAAAADFQYgCAAAAAAsIUQAAAABgASEKAAAAACwgRAEAAACABYQoAAAAALCAEAUAAAAAFhCiAAAAAMACQhQAAAAAWECIAgAAAAALCFEAAAAAYAEhCgAAAAAsqODuAtzFbrfLbrcrJyfH3aWgBDWc+am7Syhx5eE1FkdpvC8BvkZPdZJazftMexfcWuL7AwAAnqHcHomKiYlRcnKyEhMT3V0KAAAAgDKk3IYoAAAAACgOQhQAAAAAWECIAgAAAAALCFEAAAAAYAEhCgAAAAAsIEQBAAAAgAWEKAAAAACwgBAFAAAAABYQogAAAADAAkIUAAAAAFhAiAIAAAAACwhRAAAAAGABIQoAAAAALCBEAQAAAIAFhCgAAAAAsMArQtQnn3yi5s2bq1mzZnrttdfcXQ4AAAAAL1bB3QVcqQsXLig2Nlbr169XtWrV1KFDB91222266qqr3F0aAAAAAC9U5o9EbdmyRS1btlTdunUVFBSkvn37as2aNe4uCwAAAICXcnuI2rhxo/r376+wsDDZbDatWLEi3zp2u10NGzZUxYoVFRUVpS1btjiW/fbbb6pbt67jcd26dfXrr7+WRukAAAAAyiG3h6j09HS1bdtWdru9wOVLly5VbGys5s6dq++++05t27ZVnz599Mcff5RypQAAAADgAddE9e3bV3379i10+TPPPKPx48drzJgxkqTFixfr008/1ZIlSzRz5kyFhYU5HXn69ddf1alTp0K3l5mZqczMTMfjtLQ0SVJ2drays7Ov9OVckbz9B/gYt9YB18rr5+X6WtzPX4Bv6X5eSrtOT35f/tpbd//8gGvl9ZO+eh96673orXcq7b4WdT82Y4zH/MZus9m0fPlyDRo0SJKUlZWlwMBALVu2zDEmSdHR0Tp16pRWrlypCxcu6JprrtGGDRscE0t8/fXXhU4sMW/ePM2fPz/f+LvvvqvAwMCSeFkAAAAAyoCMjAyNGDFCp0+fVtWqVQtdz+1Hoi7l2LFjysnJUUhIiNN4SEiI9uzZI0mqUKGCnn76aXXv3l25ubl66KGHLjkz36xZsxQbG+t4nJaWpvDwcPXu3fuSb1RpyM7O1tq1azV7q48yc21urQWuE+Bj9I+OufS1mHbN61Os57Wa95mLK8nPFb0t7utD4VzReyu9pYdlS96/tb169ZKfn5+7y7GkuJ/t8vIZLcu99RYl8Rkt7b7mnaV2OR4doopqwIABGjBgQJHWDQgIUEBAQL5xPz8/j/nCZebalJnDL9vehr4WT3G/l6X5Xl9Jbz3l5443cWXvi9Jbelg2edK/+0XFz5miKYu99RYl+Rktrb4WdR9un1jiUoKDg+Xr66vU1FSn8dTUVIWGhl7Rtu12uyIiIhQZGXlF2wEAAABQvnh0iPL391eHDh2UkJDgGMvNzVVCQoI6d+58RduOiYlRcnKyEhMTr7RMAAAAAOWI20/nO3v2rA4cOOB4nJKSoqSkJNWsWVP169dXbGysoqOj1bFjR3Xq1ElxcXFKT093zNYHAAAAAKXJ7SFq69at6t69u+Nx3qQP0dHRio+P17Bhw3T06FHNmTNHR44cUbt27bR69ep8k00AAAAAQGlwe4jq1q2bLjfL+qRJkzRp0iSX7tdut8tutysnJ8el2wUAAADg3Tz6mqiSxDVRAAAAAIqj3IYoAAAAACgOQhQAAAAAWECIAgAAAAALym2I4ma7AAAAAIqj3IYoJpYAAAAAUBzlNkQBAAAAQHEQogAAAADAAkIUAAAAAFhQbkMUE0sAAAAAKI5yG6KYWAIAAABAcZTbEAUAAAAAxVHB3QW4mzFGkpSWlubmSqTs7GxlZGQoJ9NXuTk2d5cDF8nxNcrIyKGvxVTc72ZuZoaLK8nPFb31hJ893sYVvbfSW3pYtuT9W5uWliY/Pz93l2NJcT/b5eUzWpZ76y1K4jNa2n3NqyUvIxTGZi63hpf75ZdfFB4e7u4yAAAAAHiIw4cPq169eoUuL/chKjc3V7/99puqVKkim829RwnS0tIUHh6uw4cPq2rVqm6tBa5DX70XvfVe9NZ70VvvRW+9U2n31RijM2fOKCwsTD4+hV/5VO5P5/Px8blkynSHqlWr8uX3QvTVe9Fb70VvvRe99V701juVZl+rVat22XWYWAIAAAAALCBEAQAAAIAFhCgPEhAQoLlz5yogIMDdpcCF6Kv3orfei956L3rrveitd/LUvpb7iSUAAAAAwAqORAEAAACABYQoAAAAALCAEAUAAAAAFhCiAAAAAMACQpSHsNvtatiwoSpWrKioqCht2bLF3SXhEubNmyebzeb0p0WLFo7l58+fV0xMjK666ioFBQXp9ttvV2pqqtM2fv75Z/Xr10+BgYGqXbu2pk+frgsXLpT2Syn3Nm7cqP79+yssLEw2m00rVqxwWm6M0Zw5c1SnTh1VqlRJPXv21P79+53WOXHihEaOHKmqVauqevXqGjdunM6ePeu0zo4dO3TDDTeoYsWKCg8P11NPPVXSL63cu1xvR48ene97fPPNNzutQ289zxNPPKHIyEhVqVJFtWvX1qBBg7R3716ndVz1M3jDhg3629/+poCAADVt2lTx8fEl/fLKtaL0tlu3bvm+t/fee6/TOvTW87z00ktq06aN44a5nTt31qpVqxzLy+R31sDt3n//fePv72+WLFlifvjhBzN+/HhTvXp1k5qa6u7SUIi5c+eali1bmt9//93x5+jRo47l9957rwkPDzcJCQlm69at5tprrzXXXXedY/mFCxdMq1atTM+ePc33339v/ve//5ng4GAza9Ysd7yccu1///ufeeSRR8zHH39sJJnly5c7LV+4cKGpVq2aWbFihdm+fbsZMGCAadSokTl37pxjnZtvvtm0bdvWfPPNN+bLL780TZs2NcOHD3csP336tAkJCTEjR440u3btMu+9956pVKmSefnll0vrZZZLl+ttdHS0ufnmm52+xydOnHBah956nj59+pg33njD7Nq1yyQlJZlbbrnF1K9f35w9e9axjit+Bv/4448mMDDQxMbGmuTkZPP8888bX19fs3r16lJ9veVJUXp74403mvHjxzt9b0+fPu1YTm8903/+8x/z6aefmn379pm9e/eahx9+2Pj5+Zldu3YZY8rmd5YQ5QE6depkYmJiHI9zcnJMWFiYeeKJJ9xYFS5l7ty5pm3btgUuO3XqlPHz8zMffvihY2z37t1Gktm8ebMx5s9f7nx8fMyRI0cc67z00kumatWqJjMzs0RrR+Eu/kU7NzfXhIaGmn/+85+OsVOnTpmAgADz3nvvGWOMSU5ONpJMYmKiY51Vq1YZm81mfv31V2OMMS+++KKpUaOGU29nzJhhmjdvXsKvCHkKC1EDBw4s9Dn0tmz4448/jCTzxRdfGGNc9zP4oYceMi1btnTa17Bhw0yfPn1K+iXh/7u4t8b8GaIeeOCBQp9Db8uOGjVqmNdee63Mfmc5nc/NsrKytG3bNvXs2dMx5uPjo549e2rz5s1urAyXs3//foWFhalx48YaOXKkfv75Z0nStm3blJ2d7dTTFi1aqH79+o6ebt68Wa1bt1ZISIhjnT59+igtLU0//PBD6b4QFColJUVHjhxx6mW1atUUFRXl1Mvq1aurY8eOjnV69uwpHx8fffvtt451unbtKn9/f8c6ffr00d69e3Xy5MlSejUoyIYNG1S7dm01b95c9913n44fP+5YRm/LhtOnT0uSatasKcl1P4M3b97stI28dfi3ufRc3Ns877zzjoKDg9WqVSvNmjVLGRkZjmX01vPl5OTo/fffV3p6ujp37lxmv7MVSmSrKLJjx44pJyfH6UMhSSEhIdqzZ4+bqsLlREVFKT4+Xs2bN9fvv/+u+fPn64YbbtCuXbt05MgR+fv7q3r16k7PCQkJ0ZEjRyRJR44cKbDnecvgGfJ6UVCv/trL2rVrOy2vUKGCatas6bROo0aN8m0jb1mNGjVKpH5c2s0336zBgwerUaNGOnjwoB5++GH17dtXmzdvlq+vL70tA3JzczVlyhRdf/31atWqlSS57GdwYeukpaXp3LlzqlSpUkm8JPx/BfVWkkaMGKEGDRooLCxMO3bs0IwZM7R37159/PHHkuitJ9u5c6c6d+6s8+fPKygoSMuXL1dERISSkpLK5HeWEAUUQ9++fR1/b9OmjaKiotSgQQN98MEH/PAFyog777zT8ffWrVurTZs2atKkiTZs2KAePXq4sTIUVUxMjHbt2qWvvvrK3aXAxQrr7YQJExx/b926terUqaMePXro4MGDatKkSWmXCQuaN2+upKQknT59WsuWLVN0dLS++OILd5dVbJzO52bBwcHy9fXNNwNJamqqQkND3VQVrKpevbquvvpqHThwQKGhocrKytKpU6ec1vlrT0NDQwvsed4yeIa8Xlzq+xkaGqo//vjDafmFCxd04sQJ+l3GNG7cWMHBwTpw4IAkeuvpJk2apE8++UTr169XvXr1HOOu+hlc2DpVq1blP8tKWGG9LUhUVJQkOX1v6a1n8vf3V9OmTdWhQwc98cQTatu2rf71r3+V2e8sIcrN/P391aFDByUkJDjGcnNzlZCQoM6dO7uxMlhx9uxZHTx4UHXq1FGHDh3k5+fn1NO9e/fq559/dvS0c+fO2rlzp9MvaGvXrlXVqlUVERFR6vWjYI0aNVJoaKhTL9PS0vTtt9869fLUqVPatm2bY51169YpNzfX8Y97586dtXHjRmVnZzvWWbt2rZo3b87pXh7kl19+0fHjx1WnTh1J9NZTGWM0adIkLV++XOvWrct3OqWrfgZ37tzZaRt56/Bvc8m5XG8LkpSUJElO31t6Wzbk5uYqMzOz7H5nS2S6Cljy/vvvm4CAABMfH2+Sk5PNhAkTTPXq1Z1mIIFnmTZtmtmwYYNJSUkxmzZtMj179jTBwcHmjz/+MMb8OVVn/fr1zbp168zWrVtN586dTefOnR3Pz5uqs3fv3iYpKcmsXr3a1KpViynO3eDMmTPm+++/N99//72RZJ555hnz/fffm0OHDhlj/pzivHr16mblypVmx44dZuDAgQVOcd6+fXvz7bffmq+++so0a9bMaRrsU6dOmZCQEHP33XebXbt2mffff98EBgYyDXYJu1Rvz5w5Yx588EGzefNmk5KSYj7//HPzt7/9zTRr1sycP3/esQ1663nuu+8+U61aNbNhwwanaa4zMjIc67jiZ3DedMnTp083u3fvNna7nWmwS9jlenvgwAHz6KOPmq1bt5qUlBSzcuVK07hxY9O1a1fHNuitZ5o5c6b54osvTEpKitmxY4eZOXOmsdlsZs2aNcaYsvmdJUR5iOeff97Ur1/f+Pv7m06dOplvvvnG3SXhEoYNG2bq1Klj/P39Td26dc2wYcPMgQMHHMvPnTtnJk6caGrUqGECAwPNbbfdZn7//Xenbfz000+mb9++plKlSiY4ONhMmzbNZGdnl/ZLKffWr19vJOX7Ex0dbYz5c5rz2bNnm5CQEBMQEGB69Ohh9u7d67SN48ePm+HDh5ugoCBTtWpVM2bMGHPmzBmndbZv3266dOliAgICTN26dc3ChQtL6yWWW5fqbUZGhundu7epVauW8fPzMw0aNDDjx4/P959X9NbzFNRTSeaNN95wrOOqn8Hr16837dq1M/7+/qZx48ZO+4DrXa63P//8s+nataupWbOmCQgIME2bNjXTp093uk+UMfTWE40dO9Y0aNDA+Pv7m1q1apkePXo4ApQxZfM7azPGmJI5xgUAAAAA3odrogAAAADAAkIUAAAAAFhAiAIAAAAACwhRAAAAAGABIQoAAAAALCBEAQAAAIAFhCgAAAAAsIAQBQAAAAAWEKIAAAAAwAJCFADArUaPHi2bzZbvz4EDB9xdGgAABarg7gIAALj55pv1xhtvOI3VqlXL6XFWVpb8/f1LsywAAArEkSgAgNsFBAQoNDTU6U+PHj00adIkTZkyRcHBwerTp48kadeuXerbt6+CgoIUEhKiu+++W8eOHXNsKz09XaNGjVJQUJDq1Kmjp59+Wt26ddOUKVMc69hsNq1YscKphurVqys+Pt7x+PDhwxo6dKiqV6+umjVrauDAgfrpp58cy0ePHq1BgwZp0aJFqlOnjq666irFxMQoOzvbsU5mZqZmzJih8PBwBQQEqGnTpnr99ddljFHTpk21aNEipxqSkpI4CgcAZQAhCgDgsd588035+/tr06ZNWrx4sU6dOqWbbrpJ7du319atW7V69WqlpqZq6NChjudMnz5dX3zxhVauXKk1a9Zow4YN+u677yztNzs7W3369FGVKlX05ZdfatOmTQoKCtLNN9+srKwsx3rr16/XwYMHtX79er355puKj493CmKjRo3Se++9p+eee067d+/Wyy+/rKCgINlsNo0dOzbf0bc33nhDXbt2VdOmTYv3hgEASgWn8wEA3O6TTz5RUFCQ43Hfvn0lSc2aNdNTTz3lGH/sscfUvn17Pf74446xJUuWKDw8XPv27VNYWJhef/11vf322+rRo4ekP4NYvXr1LNWzdOlS5ebm6rXXXpPNZpP0Z8CpXr26NmzYoN69e0uSatSooRdeeEG+vr5q0aKF+vXrp4SEBI0fP1779u3TBx98oLVr16pnz56SpMaNGzv2MXr0aM2ZM0dbtmxRp06dlJ2drXfffTff0SkAgOchRAEA3K579+566aWXHI8rV66s4cOHq0OHDk7rbd++XevXr3cKXHkOHjyoc+fOKSsrS1FRUY7xmjVrqnnz5pbq2b59uw4cOKAqVao4jZ8/f14HDx50PG7ZsqV8fX0dj+vUqaOdO3dK+vPUPF9fX914440F7iMsLEz9+vXTkiVL1KlTJ/33v/9VZmam7rjjDku1AgBKHyEKAOB2lStXLvAUtsqVKzs9Pnv2rPr3768nn3wy37p16tQp8rVENptNxhinsb9ey3T27Fl16NBB77zzTr7n/nXCCz8/v3zbzc3NlSRVqlTpsnXcc889uvvuu/Xss8/qjTfe0LBhwxQYGFik1wAAcB9CFACgzPjb3/6mjz76SA0bNlSFCvn/CWvSpIn8/Pz07bffqn79+pKkkydPat++fU5HhGrVqqXff//d8Xj//v3KyMhw2s/SpUtVu3ZtVa1atVi1tm7dWrm5ufriiy8cp/Nd7JZbblHlypX10ksvafXq1dq4cWOx9gUAKF1MLAEAKDNiYmJ04sQJDR8+XImJiTp48KA+++wzjRkzRjk5OQoKCtK4ceM0ffp0rVu3Trt27dLo0aPl4+P8z91NN92kF154Qd9//722bt2qe++91+mo0siRIxUcHKyBAwfqyy+/VEpKijZs2KDJkyfrl19+KVKtDRs2VHR0tMaOHasVK1Y4tvHBBx841vH19dXo0aM1a9YsNWvWTJ07d3bNGwUAKFGEKABAmREWFqZNmzYpJydHvXv3VuvWrTVlyhRVr17dEZT++c9/6oYbblD//v3Vs2dPdenSJd+1VU8//bTCw8N1ww03aMSIEXrwwQedTqMLDAzUxo0bVb9+fQ0ePFjXXHONxo0bp/Pnz1s6MvXSSy9pyJAhmjhxolq0aKHx48crPT3daZ1x48YpKytLY8aMuYJ3BgBQmmzm4pPCAQDwMt26dVO7du0UFxfn7lLy+fLLL9WjRw8dPnxYISEh7i4HAFAEXBMFAIAbZGZm6ujRo5o3b57uuOMOAhQAlCGczgcAgBu89957atCggU6dOuV0LywAgOfjdD4AAAAAsIAjUQAAAABgASEKAAAAACwgRAEAAACABYQoAAAAALCAEAUAAAAAFhCiAAAAAMACQhQAAAAAWECIAgAAAAAL/h8aqEzQD1VpxwAAAABJRU5ErkJggg==",
=======
      "image/png": "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",
>>>>>>> 696aef3c964e101dfdf5b567ce9da398d7c113cd
      "text/plain": [
       "<Figure size 1000x600 with 1 Axes>"
      ]
     },
     "metadata": {},
     "output_type": "display_data"
    }
   ],
   "source": [
    "def get_bigram_frequencies(dataset):\n",
    "    bigram_counter = Counter()\n",
    "\n",
    "    for example in dataset:\n",
    "        words = example['clean'].split()\n",
    "        bigrams = zip(words, words[1:])  \n",
    "        bigram_counter.update(bigrams)\n",
    "\n",
    "    return bigram_counter\n",
    "\n",
    "bigram_freqs = get_bigram_frequencies(tweet_ds[\"train\"])\n",
    "\n",
    "# Most common\n",
    "print(\"Most common bigrams:\")\n",
    "print(bigram_freqs.most_common(10))\n",
    "\n",
    "# Least common\n",
    "least_common = [bigram for bigram, count in bigram_freqs.items() if count == 1]\n",
    "print(\"\\n Least common bigrams:\")\n",
    "print(bigram_freqs.most_common()[-10:])\n",
    "\n",
    "# Total count\n",
    "print(f\"\\n Number of bigrams that occurred only once: {len(least_common)}\")\n",
    "\n",
    "plt.figure(figsize=(10, 6))\n",
    "plt.hist(bigram_freqs.values(), bins=50, log=True)\n",
    "plt.title(\"Distribution of Bigram Frequencies\")\n",
    "plt.xlabel(\"Frequency\")\n",
    "plt.ylabel(\"Number of Bigrams (log scale)\")\n",
    "plt.grid(True)\n",
    "plt.show()"
   ]
  },
  {
   "cell_type": "markdown",
   "metadata": {
    "collapsed": false,
    "jupyter": {
     "outputs_hidden": false
    },
    "pycharm": {
     "name": "#%% md\n"
    }
   },
   "source": [
    "### 2.3 Tokenize the dataset\n",
    "The function below tokenizes the cleaned text (```example['clean']```) by splitting it on spaces. It replaces the words that are not in the vocabulary with the `<unk>` token."
   ]
  },
  {
   "cell_type": "markdown",
   "metadata": {
    "collapsed": false,
    "jupyter": {
     "outputs_hidden": false
    },
    "pycharm": {
     "name": "#%% md\n"
    }
   },
   "source": [
    "### Exercise 5: Tokenize the dataset\n",
    "\n",
    "(5p) Fill in the function below to tokenize the dataset. The function will be applied to the dataset through the `map()` method, so it returns the updated example. Your task is to split the text by spaces and replace the words that are not in the vocabulary with the `<unk>` token."
   ]
  },
  {
   "cell_type": "code",
<<<<<<< HEAD
   "execution_count": 234,
=======
   "execution_count": 24,
>>>>>>> 696aef3c964e101dfdf5b567ce9da398d7c113cd
   "metadata": {
    "collapsed": false,
    "jupyter": {
     "outputs_hidden": false
    },
    "pycharm": {
     "name": "#%%\n"
    }
   },
   "outputs": [],
   "source": [
    "def tokenize(example, vocab, unknown_token='<unk>'):\n",
    "    \"\"\"\n",
    "    Tokenizes the example from the Dataset\n",
    "    Args:\n",
    "        example: an example from the Dataset\n",
    "        vocab: a vocabulary as a list of words\n",
    "        unknown_token: a token to replace the words that are not in the vocabulary\n",
    "    Returns: update example containing 'tokens' column\n",
    "\n",
    "    \"\"\"\n",
    "    text = example['clean']\n",
    "    tokens = None # list of tokens, your code should fill this variable\n",
    "\n",
    "    ### YOUR CODE HERE\n",
    "    tokens = text.split() # split text by spaces\n",
    "    for i in range(len(tokens)): # iterate through words\n",
    "        if tokens[i] not in vocab: # if the word is not in vocabulary\n",
    "            tokens[i] = unknown_token # replace the word with the <unk> token\n",
    "    ### YOUR CODE ENDS HERE\n",
    "\n",
    "    example['tokens'] = tokens\n",
    "    return example"
   ]
  },
  {
   "cell_type": "code",
<<<<<<< HEAD
   "execution_count": 235,
=======
   "execution_count": 25,
>>>>>>> 696aef3c964e101dfdf5b567ce9da398d7c113cd
   "metadata": {
    "collapsed": false,
    "jupyter": {
     "outputs_hidden": false
    },
    "pycharm": {
     "name": "#%%\n"
    }
   },
   "outputs": [
    {
<<<<<<< HEAD
     "data": {
      "application/vnd.jupyter.widget-view+json": {
       "model_id": "a2682dab967e4cb88e9e1ab39d1c0245",
       "version_major": 2,
       "version_minor": 0
      },
      "text/plain": [
       "Map:   0%|          | 0/45000 [00:00<?, ? examples/s]"
      ]
     },
     "metadata": {},
     "output_type": "display_data"
    },
    {
     "data": {
      "application/vnd.jupyter.widget-view+json": {
       "model_id": "43d4469294e0405bbabce0fe47df177d",
       "version_major": 2,
       "version_minor": 0
      },
      "text/plain": [
       "Map:   0%|          | 0/50000 [00:00<?, ? examples/s]"
      ]
     },
     "metadata": {},
     "output_type": "display_data"
    },
    {
     "data": {
      "application/vnd.jupyter.widget-view+json": {
       "model_id": "78f4d6b21d174fceafec0456076b87c6",
       "version_major": 2,
       "version_minor": 0
      },
      "text/plain": [
       "Map:   0%|          | 0/5000 [00:00<?, ? examples/s]"
      ]
     },
     "metadata": {},
     "output_type": "display_data"
    },
    {
=======
>>>>>>> 696aef3c964e101dfdf5b567ce9da398d7c113cd
     "name": "stdout",
     "output_type": "stream",
     "text": [
      "DatasetDict({\n",
      "    train: Dataset({\n",
      "        features: ['text', 'label', 'text_length', 'clean', 'tokens'],\n",
      "        num_rows: 45000\n",
      "    })\n",
      "    test: Dataset({\n",
      "        features: ['text', 'label', 'text_length', 'clean', 'tokens'],\n",
      "        num_rows: 50000\n",
      "    })\n",
      "    validation: Dataset({\n",
      "        features: ['text', 'label', 'text_length', 'clean', 'tokens'],\n",
      "        num_rows: 5000\n",
      "    })\n",
      "})\n"
     ]
    }
   ],
   "source": [
    "tweet_ds = tweet_ds.map(tokenize, fn_kwargs={'vocab': vocab})\n",
    "print(tweet_ds)"
   ]
  },
  {
   "cell_type": "markdown",
   "metadata": {
    "collapsed": false,
    "jupyter": {
     "outputs_hidden": false
    },
    "pycharm": {
     "name": "#%% md\n"
    }
   },
   "source": [
    "Let us examine several entries from the dataset. We can see that the `tokens` column has been added to each example."
   ]
  },
  {
   "cell_type": "code",
<<<<<<< HEAD
   "execution_count": 236,
=======
   "execution_count": 26,
>>>>>>> 696aef3c964e101dfdf5b567ce9da398d7c113cd
   "metadata": {
    "collapsed": false,
    "jupyter": {
     "outputs_hidden": false
    },
    "pycharm": {
     "name": "#%%\n"
    }
   },
   "outputs": [
    {
     "name": "stdout",
     "output_type": "stream",
     "text": [
      "Original tweet:\n",
      "Sunday afternoon walking through Venice in the sun with @user ️ ️ ️ @ Abbot Kinney, Venice\n",
      "Tokenized tweet:\n",
      "['<unk>', '<unk>', '<unk>', '<unk>', '<unk>', 'in', 'the', '<unk>', 'with', '<unk>', '<unk>', '<unk>', '<unk>', '<unk>']\n",
      "Original tweet:\n",
      "Time for some BBQ and whiskey libations. Chomp, belch, chomp! (@ Lucille's Smokehouse Bar-B-Que)\n",
      "Tokenized tweet:\n",
      "['<unk>', 'for', 'some', '<unk>', 'and', '<unk>', '<unk>', '.', '<unk>', '<unk>', '<unk>', '<unk>', '<unk>', '<unk>', '<unk>', '<unk>', '<unk>', '<unk>', '<unk>']\n",
      "Original tweet:\n",
      "Love love love all these people ️ ️ ️ #friends #bff #celebrate #blessed #sundayfunday @ San…\n",
      "Tokenized tweet:\n",
      "['Love', 'love', 'love', 'all', 'these', '<unk>', '<unk>', '<unk>', '<unk>', '<unk>', '<unk>', 'San', '…']\n",
      "Original tweet:\n",
      "️ ️ ️ ️ @ Toys\"R\"Us\n",
      "Tokenized tweet:\n",
      "['<unk>']\n",
      "Original tweet:\n",
      "Man these are the funniest kids ever!! That face! #HappyBirthdayBubb @ FLIPnOUT Xtreme\n",
      "Tokenized tweet:\n",
      "['<unk>', 'these', 'are', 'the', '<unk>', '<unk>', '<unk>', '<unk>', '<unk>', '<unk>', '<unk>', '<unk>', '<unk>', '<unk>', '<unk>']\n",
      "Original tweet:\n",
      "#sandiego @ San Diego, California\n",
      "Tokenized tweet:\n",
      "['<unk>', 'San', '<unk>', '<unk>', 'California']\n",
      "Original tweet:\n",
      "My little ️ ️ ️ ️ ️ #ObsessedWithMyDog @ Cafe Solstice Capitol Hill\n",
      "Tokenized tweet:\n",
      "['My', 'little', '<unk>', '<unk>', '<unk>', '<unk>', '<unk>']\n",
      "Original tweet:\n",
      "More #tinyepic things #tinyepicwestern, this one is crazy @user I may be one of your…\n",
      "Tokenized tweet:\n",
      "['<unk>', '<unk>', '<unk>', '<unk>', '<unk>', 'this', 'one', 'is', '<unk>', '<unk>', 'I', '<unk>', 'be', 'one', 'of', 'your', '…']\n",
      "Original tweet:\n",
      "Last night ️ @ Omnia Night Club At Caesars Palace\n",
      "Tokenized tweet:\n",
      "['<unk>', 'night', '<unk>', '<unk>', '<unk>', '<unk>', '<unk>', '<unk>']\n",
      "Original tweet:\n",
      "friendship at its finest. ....#pixar #toystory #buzz #woody #friends #friendship #bff…\n",
      "Tokenized tweet:\n",
      "['<unk>', 'at', '<unk>', '<unk>', '.', '.', '<unk>', '<unk>', '<unk>', '<unk>', '<unk>', '<unk>', '<unk>', '…']\n"
     ]
    }
   ],
   "source": [
    "for i in range(10):\n",
    "    print('Original tweet:')\n",
    "    print(tweet_ds['train'][i]['text'])\n",
    "    print('Tokenized tweet:')\n",
    "    print(tweet_ds['train'][i]['tokens'])"
   ]
  },
  {
   "cell_type": "markdown",
   "metadata": {
    "collapsed": false,
    "jupyter": {
     "outputs_hidden": false
    },
    "pycharm": {
     "name": "#%% md\n"
    }
   },
   "source": [
    "Make sure that the tokenization works as you intended. If not, revisit the cleaning and tokenization functions."
   ]
  },
  {
   "cell_type": "markdown",
   "metadata": {
    "collapsed": false,
    "jupyter": {
     "outputs_hidden": false
    },
    "pycharm": {
     "name": "#%% md\n"
    }
   },
   "source": [
    "### Exercise 6: Questions about the tokenization\n",
    "1. (3p) How many unknown tokens are in the validation dataset after tokenization?\n",
    "2. (3p) What is the distribution of the number of tokens in the training dataset?\n",
    "3. (4p) How the number of tokens corresponds to the number of characters in our dataset?\n",
    "4. (4p) How the size of the vocabulary (```max_vocab_size```) affects the number of unknown tokens?\n",
    "5. (4p) How does the size of the vocabulary affect the number of tokens in the dataset?\n",
    "6. (4p) Think about the advantages and disadvantages of the tokenization method we used. What are the cases when it will not work well?\n",
    "\n",
    "For answering these questions make sure to include a proper mix of numbers/plots/tables etc. and comments."
   ]
  },
  {
   "cell_type": "code",
   "execution_count": null,
   "metadata": {},
   "outputs": [
    {
     "name": "stdout",
     "output_type": "stream",
     "text": [
      "number of unknown tokens are in the validation dataset =  40567\n",
      "number of tokens are in the validation dataset =  59707\n",
      "percernage of unknown tokens in the validation dataset =  67.9434572160718 %\n"
     ]
    },
    {
     "data": {
      "application/vnd.jupyter.widget-view+json": {
       "model_id": "85202c90c0ea441db7f2d480aa98a2de",
       "version_major": 2,
       "version_minor": 0
      },
      "text/plain": [
       "Map:   0%|          | 0/5000 [00:00<?, ? examples/s]"
      ]
     },
     "metadata": {},
     "output_type": "display_data"
    },
    {
     "data": {
      "application/vnd.jupyter.widget-view+json": {
       "model_id": "21588e4d8a2e4cac9fc95b2199a04b98",
       "version_major": 2,
       "version_minor": 0
      },
      "text/plain": [
       "Map:   0%|          | 0/50000 [00:00<?, ? examples/s]"
      ]
     },
     "metadata": {},
     "output_type": "display_data"
    },
    {
     "name": "stdout",
     "output_type": "stream",
     "text": [
      "the number of characters 7092437\n",
      "the number of tokens     1264272\n",
      "average token lenght =  5.609898028272397\n"
     ]
    }
   ],
   "source": [
    "# 1\n",
    "sum_unk_val = 0\n",
    "sum_all = 0\n",
    "for tweet in tweet_ds['validation'][:]['tokens']:\n",
    "    for token in tweet:\n",
    "        sum_all += 1\n",
    "        if(token == \"<unk>\"):\n",
    "            sum_unk_val += 1\n",
    "print(\"number of unknown tokens are in the validation dataset = \",sum_unk_val)\n",
    "print(\"number of tokens are in the validation dataset = \",sum_all)\n",
    "print(\"percernage of unknown tokens in the validation dataset = \",(sum_unk_val/sum_all * 100),\"%\")\n",
    "\n",
    "# 2\n",
    "number_of_tokens = [len(tweet) for tweet in tweet_ds['train'][:]['tokens']]\n",
    "number_distribution = {}\n",
    "for number in number_of_tokens:\n",
    "    if number in number_distribution:\n",
    "        number_distribution[number] += 1\n",
    "    else:\n",
    "        number_distribution[number] = 1\n",
    "\n",
    "plt.figure(figsize=(10, 6))\n",
    "plt.bar(number_distribution.keys(), number_distribution.values())\n",
    "plt.xlabel(\"Number of Tokens\")\n",
    "plt.ylabel(\"Number of Tweets\")\n",
    "plt.title(\"Distribution of the number of tokens in the training dataset\")\n",
    "plt.grid(axis='y', linestyle='--', alpha=0.7)\n",
    "plt.show()\n",
    "mu = np.mean(number_of_tokens)\n",
    "print(\"mean =\", mu)\n",
    "\n",
    "# 3\n",
    "val_ds = tweet_ds[\"validation\"].map(calculate_text_length)\n",
    "test_ds = tweet_ds[\"test\"].map(calculate_text_length)\n",
    "total_no_char = sum(train_ds[\"text_length\"]) + sum(val_ds[\"text_length\"]) + sum(test_ds[\"text_length\"])\n",
    "total_no_tokens = sum(len(tweet) for tweet in tweet_ds['train'][:]['tokens']) + sum(len(tweet) for tweet in tweet_ds['validation'][:]['tokens']) + sum(len(tweet) for tweet in tweet_ds['test'][:]['tokens'])\n",
    "print(\"the number of characters\",total_no_char)\n",
    "print(\"the number of tokens    \",total_no_tokens)\n",
    "print(\"average token lenght = \", total_no_char/total_no_tokens)"
   ]
  },
  {
   "cell_type": "markdown",
   "metadata": {
    "collapsed": false,
    "jupyter": {
     "outputs_hidden": false
    },
    "pycharm": {
     "name": "#%% md\n"
    }
   },
   "source": [
    "## 3. Byte Pair Encoding\n",
    "\n",
    "In this section, you will build the Byte Pair Encoding (BPE) tokenizer. BPE is an algorithm that replaces the most frequent pair of tokens (initially characters) with a new token. The algorithm is configured by the number of merges that are performed. You can find the paper here [Neural Machine Translation of Rare Words with Subword Units](https://arxiv.org/abs/1508.07909)."
   ]
  },
  {
   "cell_type": "markdown",
   "metadata": {
    "collapsed": false,
    "jupyter": {
     "outputs_hidden": false
    },
    "pycharm": {
     "name": "#%% md\n"
    }
   },
   "source": [
    "### 3.1 Finding the initial set of characters\n",
    "BPE algorithm starts with the set of characters that occur in the dataset. We will build a character counter from the dataset."
   ]
  },
  {
   "cell_type": "markdown",
   "metadata": {
    "collapsed": false,
    "jupyter": {
     "outputs_hidden": false
    },
    "pycharm": {
     "name": "#%% md\n"
    }
   },
   "source": [
    "### Exercise 7: Counting the characters\n",
    "\n",
    "(5p) In this exercise, we build a counter with the frequencies of all characters in the dataset. Iterate over the dataset and count the characters in the `clean` column. The function returns a `Counter` object with the characters and their frequencies."
   ]
  },
  {
   "cell_type": "code",
<<<<<<< HEAD
   "execution_count": 238,
=======
   "execution_count": 27,
>>>>>>> 696aef3c964e101dfdf5b567ce9da398d7c113cd
   "metadata": {
    "collapsed": false,
    "jupyter": {
     "outputs_hidden": false
    },
    "pycharm": {
     "name": "#%%\n"
    }
   },
   "outputs": [],
   "source": [
    "def build_character_counter(dataset):\n",
    "    \"\"\"\n",
    "    Builds a character counter from the dataset\n",
    "    Args:\n",
    "        dataset: a dataset\n",
    "\n",
    "    Returns: a character counter\n",
    "\n",
    "    \"\"\"\n",
    "    char_counter = Counter()\n",
    "\n",
    "    ### YOUR CODE HERE\n",
    "    for tweet in dataset:\n",
    "        char_counter.update(tweet['clean'])\n",
    "\n",
    "    ### YOUR CODE ENDS HERE\n",
    "\n",
    "    return char_counter"
   ]
  },
  {
   "cell_type": "markdown",
   "metadata": {
    "collapsed": false,
    "jupyter": {
     "outputs_hidden": false
    },
    "pycharm": {
     "name": "#%% md\n"
    }
   },
   "source": [
    "The next cell applies the function to the training dataset and prints the size of the vocabulary and the most common characters."
   ]
  },
  {
   "cell_type": "code",
<<<<<<< HEAD
   "execution_count": 239,
=======
   "execution_count": 28,
>>>>>>> 696aef3c964e101dfdf5b567ce9da398d7c113cd
   "metadata": {
    "collapsed": false,
    "jupyter": {
     "outputs_hidden": false
    },
    "pycharm": {
     "name": "#%%\n"
    }
   },
   "outputs": [
    {
     "name": "stdout",
     "output_type": "stream",
     "text": [
      "552\n",
      "[(' ', 505100), ('e', 243286), ('a', 199618), ('o', 183842), ('i', 161653), ('t', 160278), ('s', 152020), ('n', 150202), ('r', 144876), ('l', 108238), ('h', 81374), ('u', 77081), ('d', 72143), ('y', 67301), ('m', 61693), ('g', 55984), ('c', 53880), ('f', 45702), ('p', 42747), ('w', 38523), ('b', 33749), ('k', 29110), ('v', 26058), ('S', 20276), ('C', 19764), ('…', 19238), ('!', 16957), ('.', 16089), ('A', 15294), ('I', 14620), ('L', 14054), ('T', 13198), ('B', 12489), (',', 12383), ('M', 12188), ('H', 11319), (\"'\", 10108), ('D', 9081), ('P', 8698), ('W', 8500), ('F', 8473), ('O', 7452), ('R', 7312), ('G', 6983), ('E', 6826), ('N', 6621), ('V', 4766), ('1', 4449), ('j', 4087), ('z', 3973), ('x', 3913), ('-', 3827), ('2', 3592), ('0', 3541), ('Y', 3272), (':', 2784), ('U', 2781), ('_', 2585), ('J', 2573), (';', 2354), ('(', 2298), ('\"', 2255), ('&', 2119), ('K', 2107), (')', 2092), ('6', 1852), ('/', 1711), ('?', 1624), ('q', 1600), ('5', 1561), ('3', 1430), ('4', 1096), ('7', 945), ('9', 817), ('8', 761), ('•', 693), ('・', 642), ('X', 556), ('Q', 478), ('Z', 429), ('*', 293), ('+', 288), ('$', 180), ('~', 156), ('—', 130), ('[', 127), ('%', 126), ('é', 124), (']', 118), ('=', 110), ('’', 84), ('“', 79), ('⠀', 74), ('{', 63), ('}', 53), ('ñ', 43), ('♡', 31), ('”', 28), ('о', 25), ('▃', 24)]\n"
     ]
    }
   ],
   "source": [
    "char_counter = build_character_counter(tweet_ds['train'])\n",
    "print(len(char_counter))\n",
    "print(char_counter.most_common(100))"
   ]
  },
  {
   "cell_type": "markdown",
   "metadata": {
    "collapsed": false,
    "jupyter": {
     "outputs_hidden": false
    },
    "pycharm": {
     "name": "#%% md\n"
    }
   },
   "source": []
  },
  {
   "cell_type": "markdown",
   "metadata": {
    "collapsed": false,
    "jupyter": {
     "outputs_hidden": false
    },
    "pycharm": {
     "name": "#%% md\n"
    }
   },
   "source": [
    "We will filter the characters that occur less than 10 times in the dataset. We will also replace the space character with the `__` token. This is necessary because we want to preserve the spaces between the words in the tokenization process."
   ]
  },
  {
   "cell_type": "code",
<<<<<<< HEAD
   "execution_count": 240,
=======
   "execution_count": 58,
>>>>>>> 696aef3c964e101dfdf5b567ce9da398d7c113cd
   "metadata": {
    "collapsed": false,
    "jupyter": {
     "outputs_hidden": false
    },
    "pycharm": {
     "name": "#%%\n"
    }
   },
   "outputs": [
    {
     "name": "stdout",
     "output_type": "stream",
     "text": [
      "['__', '!', '\"', '$', '%', '&', \"'\", '(', ')', '*', '+', ',', '-', '.', '/', '0', '1', '2', '3', '4', '5', '6', '7', '8', '9', ':', ';', '=', '?', 'A', 'B', 'C', 'D', 'E', 'F', 'G', 'H', 'I', 'J', 'K', 'L', 'M', 'N', 'O', 'P', 'Q', 'R', 'S', 'T', 'U', 'V', 'W', 'X', 'Y', 'Z', '[', '\\\\', ']', '^', '_', 'a', 'b', 'c', 'd', 'e', 'f', 'g', 'h', 'i', 'j', 'k', 'l', 'm', 'n', 'o', 'p', 'q', 'r', 's', 't', 'u', 'v', 'w', 'x', 'y', 'z', '{', '}', '~', '¡', 'é', 'ñ', 'ˢ', '͟', 'б', 'и', 'н', 'о', 'р', 'ا', 'ᴵ', '—', '’', '“', '”', '•', '…', '▃', '▄', '♡', '⠀', 'ア', 'ン', '・']\n",
      "114\n"
     ]
    }
   ],
   "source": [
    "bpe_init_vocab = sorted([char for char, _ in char_counter.most_common() if char_counter[char] >= 10])\n",
    "bpe_init_vocab[bpe_init_vocab.index(' ')] = '__'\n",
    "print(bpe_init_vocab)\n",
    "print(len(bpe_init_vocab))\n"
   ]
  },
  {
   "cell_type": "markdown",
   "metadata": {
    "collapsed": false,
    "jupyter": {
     "outputs_hidden": false
    },
    "pycharm": {
     "name": "#%% md\n"
    }
   },
   "source": []
  },
  {
   "cell_type": "markdown",
   "metadata": {
    "collapsed": false,
    "jupyter": {
     "outputs_hidden": false
    },
    "pycharm": {
     "name": "#%% md\n"
    }
   },
   "source": [
    "### 3.2 Training the BPE tokenizer\n",
    "\n",
    "In this section, we will implement the BPE algorithm. We will start by initializing the BPE corpus. The corpus is a list of words from the dataset with their frequency. This makes it easier to find the most frequent pairs of neighbouring tokens (or characters in the beginning). Each word is split into characters and the space (the ```__``` token) is added at the end of each word."
   ]
  },
  {
   "cell_type": "code",
<<<<<<< HEAD
   "execution_count": 241,
=======
   "execution_count": 30,
>>>>>>> 696aef3c964e101dfdf5b567ce9da398d7c113cd
   "metadata": {
    "collapsed": false,
    "jupyter": {
     "outputs_hidden": false
    },
    "pycharm": {
     "name": "#%%\n"
    }
   },
   "outputs": [],
   "source": [
    "def init_bpe_corpus(dataset):\n",
    "    \"\"\"\n",
    "    Initializes the BPE corpus\n",
    "    Args:\n",
    "        dataset: a dataset\n",
    "\n",
    "    Returns: a BPE corpus\n",
    "\n",
    "    \"\"\"\n",
    "\n",
    "    corpus = Counter()\n",
    "    for example in dataset:\n",
    "        words = example['clean'].split()\n",
    "        words = [' '.join(list(word)) + ' __' for word in words]\n",
    "        corpus.update(words)\n",
    "    return corpus"
   ]
  },
  {
   "cell_type": "code",
<<<<<<< HEAD
   "execution_count": 242,
=======
   "execution_count": 31,
>>>>>>> 696aef3c964e101dfdf5b567ce9da398d7c113cd
   "metadata": {
    "collapsed": false,
    "jupyter": {
     "outputs_hidden": false
    },
    "pycharm": {
     "name": "#%%\n"
    }
   },
   "outputs": [
    {
     "name": "stdout",
     "output_type": "stream",
     "text": [
      "69388\n"
     ]
    }
   ],
   "source": [
    "bpe_corpus = init_bpe_corpus(tweet_ds['train'])\n",
    "print(len(bpe_corpus))"
   ]
  },
  {
   "cell_type": "markdown",
   "metadata": {
    "collapsed": false,
    "jupyter": {
     "outputs_hidden": false
    },
    "pycharm": {
     "name": "#%% md\n"
    }
   },
   "source": [
    "We can check the most common words in the corpus along with their frequencies."
   ]
  },
  {
   "cell_type": "code",
<<<<<<< HEAD
   "execution_count": 243,
=======
   "execution_count": 32,
>>>>>>> 696aef3c964e101dfdf5b567ce9da398d7c113cd
   "metadata": {
    "collapsed": false,
    "jupyter": {
     "outputs_hidden": false
    },
    "pycharm": {
     "name": "#%%\n"
    }
   },
   "outputs": [
    {
     "data": {
      "text/plain": [
       "[('… __', 19238),\n",
       " ('! __', 16957),\n",
       " ('. __', 16089),\n",
       " (', __', 12383),\n",
       " ('u s e r __', 12236),\n",
       " ('t o __', 7630),\n",
       " ('I __', 6457),\n",
       " ('m y __', 5971),\n",
       " ('i n __', 5664),\n",
       " ('a n d __', 5387),\n",
       " ('w i t h __', 5049),\n",
       " ('o f __', 5020),\n",
       " ('y o u __', 4756),\n",
       " ('f o r __', 4696),\n",
       " ('C a l i f o r n i a __', 4049),\n",
       " ('t h i s __', 3559),\n",
       " ('a t __', 3450),\n",
       " ('i s __', 3382),\n",
       " (': __', 2784),\n",
       " ('o n __', 2592),\n",
       " ('l o v e __', 2534),\n",
       " ('; __', 2354),\n",
       " ('( __', 2298),\n",
       " (') __', 2092),\n",
       " ('& a m p __', 2020),\n",
       " ('m e __', 1989),\n",
       " ('i t __', 1952),\n",
       " ('L o s __', 1915),\n",
       " ('S a n __', 1858),\n",
       " ('A n g e l e s __', 1747)]"
      ]
     },
<<<<<<< HEAD
     "execution_count": 243,
=======
     "execution_count": 32,
>>>>>>> 696aef3c964e101dfdf5b567ce9da398d7c113cd
     "metadata": {},
     "output_type": "execute_result"
    }
   ],
   "source": [
    "bpe_corpus.most_common(30)"
   ]
  },
  {
   "cell_type": "markdown",
   "metadata": {
    "collapsed": false,
    "jupyter": {
     "outputs_hidden": false
    },
    "pycharm": {
     "name": "#%% md\n"
    }
   },
   "source": [
    "Our BPE implementation will consist of the following steps:\n",
    "1. Calculate the frequency statistics of adjacent symbol pairs in the corpus.\n",
    "2. Find the most frequent pair.\n",
    "3. Merge the most frequent pair.\n",
    "4. Repeat until the specified number of merges is reached.\n",
    "\n",
    "The following function calculates the frequency statistics of adjacent symbol pairs in the corpus."
   ]
  },
  {
   "cell_type": "markdown",
   "metadata": {
    "collapsed": false,
    "jupyter": {
     "outputs_hidden": false
    },
    "pycharm": {
     "name": "#%% md\n"
    }
   },
   "source": [
    "### Exercise 8: Calculate the frequency statistics of adjacent symbol pairs\n",
    "(5p) Fill in the function below to calculate the frequency statistics of adjacent symbol pairs in the corpus. The function returns a Counter object with the counts of adjacent token pairs. The pairs are represented as tuples of two tokens (e.g., `('cali', 'for')`)."
   ]
  },
  {
   "cell_type": "code",
<<<<<<< HEAD
   "execution_count": 244,
=======
   "execution_count": 33,
>>>>>>> 696aef3c964e101dfdf5b567ce9da398d7c113cd
   "metadata": {
    "collapsed": false,
    "jupyter": {
     "outputs_hidden": false
    },
    "pycharm": {
     "name": "#%%\n"
    }
   },
<<<<<<< HEAD
   "outputs": [
    {
     "ename": "IndentationError",
     "evalue": "expected an indented block after 'for' statement on line 11 (1228245000.py, line 21)",
     "output_type": "error",
     "traceback": [
      "\u001b[0;36m  Cell \u001b[0;32mIn[244], line 21\u001b[0;36m\u001b[0m\n\u001b[0;31m    return stats\u001b[0m\n\u001b[0m    ^\u001b[0m\n\u001b[0;31mIndentationError\u001b[0m\u001b[0;31m:\u001b[0m expected an indented block after 'for' statement on line 11\n"
     ]
    }
   ],
=======
   "outputs": [],
>>>>>>> 696aef3c964e101dfdf5b567ce9da398d7c113cd
   "source": [
    "def calculate_bpe_corpus_stats(corpus):\n",
    "    \"\"\"\n",
    "    Calculates the frequency statistics of adjacent symbol pairs in the corpus.\n",
    "    Args:\n",
    "        corpus: a BPE corpus as a Counter object with words split by space into tokens (initially characters)\n",
    "\n",
    "    Returns: a Counter object with the frequency statistics of adjacent symbol pairs\n",
    "    \"\"\"\n",
    "    stats = Counter()\n",
    "\n",
    "    for word, freq in corpus.items():\n",
    "\n",
    "        ### YOUR CODE HERE\n",
    "\n",
    "        chars = word.split()\n",
    "        pairs = zip(chars, chars[1:])\n",
    "        for pair in pairs:\n",
    "            stats.update([pair] * freq)\n",
    "\n",
    "            \n",
    "        ### YOUR CODE ENDS HERE\n",
    "\n",
    "    return stats"
   ]
  },
  {
   "cell_type": "markdown",
   "metadata": {
    "collapsed": false,
    "jupyter": {
     "outputs_hidden": false
    },
    "pycharm": {
     "name": "#%% md\n"
    }
   },
   "source": [
    "We can check the most common pairs of characters in the initial corpus."
   ]
  },
  {
   "cell_type": "code",
   "execution_count": 34,
   "metadata": {
    "collapsed": false,
    "jupyter": {
     "outputs_hidden": false
    },
    "pycharm": {
     "name": "#%%\n"
    }
   },
   "outputs": [
    {
     "name": "stdout",
     "output_type": "stream",
     "text": [
      "[(('e', '__'), 63124), (('s', '__'), 58487), (('t', '__'), 43735), (('e', 'r'), 41414), (('y', '__'), 40467), (('i', 'n'), 38682), (('r', '__'), 37191), (('n', '__'), 31624), (('a', 'n'), 31193), (('d', '__'), 27529)]\n"
     ]
    }
   ],
   "source": [
    "stats = calculate_bpe_corpus_stats(bpe_corpus)\n",
    "print(stats.most_common(10))"
   ]
  },
  {
   "cell_type": "markdown",
   "metadata": {
    "collapsed": false,
    "jupyter": {
     "outputs_hidden": false
    },
    "pycharm": {
     "name": "#%% md\n"
    }
   },
   "source": [
    "Next, we will implement the function that merges the most frequent pair of symbols in the corpus. The function takes the corpus and the most frequent pair of symbols as input and returns the updated corpus."
   ]
  },
  {
   "cell_type": "code",
   "execution_count": 35,
   "metadata": {
    "collapsed": false,
    "jupyter": {
     "outputs_hidden": false
    },
    "pycharm": {
     "name": "#%%\n"
    }
   },
   "outputs": [],
   "source": [
    "def merge_corpus(corpus, pair):\n",
    "    \"\"\"\n",
    "    Merges the most frequent pair of symbols in the corpus.\n",
    "    Args:\n",
    "        corpus (dict): Keys are words as space-separated symbols (e.g., \"l o w\"),\n",
    "                       and values are the frequency counts.\n",
    "        pair (tuple): A pair of symbols to merge.\n",
    "\n",
    "    Returns:\n",
    "        dict: Updated corpus after merging the pair of symbols.\n",
    "    \"\"\"\n",
    "    new_corpus = Counter()\n",
    "    bigram = \" \".join(pair)\n",
    "    replacement = \"\".join(pair)\n",
    "    for word, freq in corpus.items():\n",
    "        new_word = word.replace(bigram, replacement)\n",
    "        new_corpus[new_word] = freq\n",
    "    return new_corpus"
   ]
  },
  {
   "cell_type": "markdown",
   "metadata": {
    "collapsed": false,
    "jupyter": {
     "outputs_hidden": false
    },
    "pycharm": {
     "name": "#%% md\n"
    }
   },
   "source": [
    "The last step is to implement the BPE algorithm. The function takes the initial vocabulary, the corpus, and the number of merges as input. It returns the updated vocabulary, corpus, and the list of merges.\n",
    "Returning the list of merges is useful for the tokenization process - it makes it faster to tokenize the text. It contains the tuples of the two tokens that were merged. For example, ('to', 'day__') will merge the tokens 'to' and 'day__' into the 'today__' token."
   ]
  },
  {
   "cell_type": "markdown",
   "metadata": {
    "collapsed": false,
    "jupyter": {
     "outputs_hidden": false
    },
    "pycharm": {
     "name": "#%% md\n"
    }
   },
   "source": [
    "### Exercise 9: BPE algorithm\n",
    "\n",
    "(10p) Implement the BPE algorithm in the following function. The function should return the updated vocabulary, corpus, and the list of merges. The function should perform the specified number of merges. The vocabulary is a list of tokens, the corpus is a Counter object with the words split by space into tokens, and the merges is a list of tuples with the merged tokens.\n",
    "\n",
    "You should use the functions you implemented earlier in this section (```calculate_bpe_corpus_stats()```, ```merge_corpus()```)."
   ]
  },
  {
   "cell_type": "code",
   "execution_count": 77,
   "metadata": {
    "collapsed": false,
    "jupyter": {
     "outputs_hidden": false
    },
    "pycharm": {
     "name": "#%%\n"
    }
   },
   "outputs": [],
   "source": [
    "def bpe(vocab, corpus, num_merges):\n",
    "    \"\"\"\n",
    "    Applies the BPE algorithm to the corpus. Merges the most frequent adjacent symbol pairs. The function performs the specified number of merges.\n",
    "\n",
    "    Args:\n",
    "        vocab (list): A list of tokens representing the BPE vocabulary.\n",
    "        corpus (Counter): A Counter object with words split by space into tokens.\n",
    "        num_merges (int): The number of merges to perform.\n",
    "\n",
    "    Returns:\n",
    "        list: Updated vocabulary.\n",
    "        Counter: Updated corpus.\n",
    "        list: List of merges.\n",
    "    \"\"\"\n",
    "    vocab = vocab.copy()\n",
    "    corpus = corpus.copy()\n",
    "    merges = []\n",
    "\n",
    "    for i in tqdm.tqdm(range(num_merges)):\n",
    "        ### YOUR CODE HERE\n",
    "\n",
    "        most_common_pair = calculate_bpe_corpus_stats(corpus).most_common(1)[0][0]\n",
    "        vocab.append(\"\".join(most_common_pair))\n",
    "        corpus = merge_corpus(corpus, most_common_pair)\n",
    "        merges.append(most_common_pair)\n",
    "\n",
    "        ### YOUR CODE ENDS HERE\n",
    "    return vocab, corpus, merges"
   ]
  },
  {
   "cell_type": "markdown",
   "metadata": {
    "collapsed": false,
    "jupyter": {
     "outputs_hidden": false
    },
    "pycharm": {
     "name": "#%% md\n"
    }
   },
   "source": [
    "The following cell applies the BPE algorithm to the initial vocabulary and corpus. We will perform 100 merges at first, but you will experiment with different numbers."
   ]
  },
  {
   "cell_type": "code",
   "execution_count": 78,
   "metadata": {
    "collapsed": false,
    "jupyter": {
     "outputs_hidden": false
    },
    "pycharm": {
     "name": "#%%\n"
    }
   },
   "outputs": [
    {
     "name": "stderr",
     "output_type": "stream",
     "text": [
      "  1%|▌                                                    | 1/100 [00:00<01:36,  1.02it/s]"
     ]
    },
    {
     "name": "stdout",
     "output_type": "stream",
     "text": [
      "('e', '__')\n"
     ]
    },
    {
     "name": "stderr",
     "output_type": "stream",
     "text": [
      "  2%|█                                                    | 2/100 [00:01<01:32,  1.06it/s]"
     ]
    },
    {
     "name": "stdout",
     "output_type": "stream",
     "text": [
      "('s', '__')\n"
     ]
    },
    {
     "name": "stderr",
     "output_type": "stream",
     "text": [
      "  3%|█▌                                                   | 3/100 [00:02<01:30,  1.07it/s]"
     ]
    },
    {
     "name": "stdout",
     "output_type": "stream",
     "text": [
      "('t', '__')\n"
     ]
    },
    {
     "name": "stderr",
     "output_type": "stream",
     "text": [
      "  4%|██                                                   | 4/100 [00:03<01:27,  1.10it/s]"
     ]
    },
    {
     "name": "stdout",
     "output_type": "stream",
     "text": [
      "('e', 'r')\n"
     ]
    },
    {
     "name": "stderr",
     "output_type": "stream",
     "text": [
      "  5%|██▋                                                  | 5/100 [00:04<01:24,  1.12it/s]"
     ]
    },
    {
     "name": "stdout",
     "output_type": "stream",
     "text": [
      "('y', '__')\n"
     ]
    },
    {
     "name": "stderr",
     "output_type": "stream",
     "text": [
      "  6%|███▏                                                 | 6/100 [00:05<01:22,  1.14it/s]"
     ]
    },
    {
     "name": "stdout",
     "output_type": "stream",
     "text": [
      "('i', 'n')\n"
     ]
    },
    {
     "name": "stderr",
     "output_type": "stream",
     "text": [
      "  7%|███▋                                                 | 7/100 [00:06<01:21,  1.14it/s]"
     ]
    },
    {
     "name": "stdout",
     "output_type": "stream",
     "text": [
      "('a', 'n')\n"
     ]
    },
    {
     "name": "stderr",
     "output_type": "stream",
     "text": [
      "  8%|████▏                                                | 8/100 [00:07<01:23,  1.10it/s]"
     ]
    },
    {
     "name": "stdout",
     "output_type": "stream",
     "text": [
      "('d', '__')\n"
     ]
    },
    {
     "name": "stderr",
     "output_type": "stream",
     "text": [
      "  9%|████▊                                                | 9/100 [00:08<01:23,  1.09it/s]"
     ]
    },
    {
     "name": "stdout",
     "output_type": "stream",
     "text": [
      "('o', 'r')\n"
     ]
    },
    {
     "name": "stderr",
     "output_type": "stream",
     "text": [
      " 10%|█████▏                                              | 10/100 [00:09<01:22,  1.09it/s]"
     ]
    },
    {
     "name": "stdout",
     "output_type": "stream",
     "text": [
      "('er', '__')\n"
     ]
    },
    {
     "name": "stderr",
     "output_type": "stream",
     "text": [
      " 11%|█████▋                                              | 11/100 [00:10<01:27,  1.02it/s]"
     ]
    },
    {
     "name": "stdout",
     "output_type": "stream",
     "text": [
      "('t', 'h')\n"
     ]
    },
    {
     "name": "stderr",
     "output_type": "stream",
     "text": [
      " 12%|██████▏                                             | 12/100 [00:11<01:24,  1.04it/s]"
     ]
    },
    {
     "name": "stdout",
     "output_type": "stream",
     "text": [
      "('o', 'n')\n"
     ]
    },
    {
     "name": "stderr",
     "output_type": "stream",
     "text": [
      " 13%|██████▊                                             | 13/100 [00:12<01:22,  1.05it/s]"
     ]
    },
    {
     "name": "stdout",
     "output_type": "stream",
     "text": [
      "('o', '__')\n"
     ]
    },
    {
     "name": "stderr",
     "output_type": "stream",
     "text": [
      " 14%|███████▎                                            | 14/100 [00:13<01:22,  1.04it/s]"
     ]
    },
    {
     "name": "stdout",
     "output_type": "stream",
     "text": [
      "('a', 'l')\n"
     ]
    },
    {
     "name": "stderr",
     "output_type": "stream",
     "text": [
      " 15%|███████▊                                            | 15/100 [00:14<01:22,  1.03it/s]"
     ]
    },
    {
     "name": "stdout",
     "output_type": "stream",
     "text": [
      "('o', 'u')\n"
     ]
    },
    {
     "name": "stderr",
     "output_type": "stream",
     "text": [
      " 16%|████████▎                                           | 16/100 [00:14<01:17,  1.08it/s]"
     ]
    },
    {
     "name": "stdout",
     "output_type": "stream",
     "text": [
      "('…', '__')\n"
     ]
    },
    {
     "name": "stderr",
     "output_type": "stream",
     "text": [
      " 17%|████████▊                                           | 17/100 [00:15<01:16,  1.08it/s]"
     ]
    },
    {
     "name": "stdout",
     "output_type": "stream",
     "text": [
      "('a', 'r')\n"
     ]
    },
    {
     "name": "stderr",
     "output_type": "stream",
     "text": [
      " 18%|█████████▎                                          | 18/100 [00:16<01:15,  1.09it/s]"
     ]
    },
    {
     "name": "stdout",
     "output_type": "stream",
     "text": [
      "('in', 'g')\n"
     ]
    },
    {
     "name": "stderr",
     "output_type": "stream",
     "text": [
      " 19%|█████████▉                                          | 19/100 [00:17<01:11,  1.13it/s]"
     ]
    },
    {
     "name": "stdout",
     "output_type": "stream",
     "text": [
      "('!', '__')\n"
     ]
    },
    {
     "name": "stderr",
     "output_type": "stream",
     "text": [
      " 20%|██████████▍                                         | 20/100 [00:18<01:12,  1.11it/s]"
     ]
    },
    {
     "name": "stdout",
     "output_type": "stream",
     "text": [
      "('u', 's')\n"
     ]
    },
    {
     "name": "stderr",
     "output_type": "stream",
     "text": [
      " 21%|██████████▉                                         | 21/100 [00:19<01:09,  1.14it/s]"
     ]
    },
    {
     "name": "stdout",
     "output_type": "stream",
     "text": [
      "('e', 'n')\n"
     ]
    },
    {
     "name": "stderr",
     "output_type": "stream",
     "text": [
      " 22%|███████████▍                                        | 22/100 [00:20<01:08,  1.14it/s]"
     ]
    },
    {
     "name": "stdout",
     "output_type": "stream",
     "text": [
      "('.', '__')\n"
     ]
    },
    {
     "name": "stderr",
     "output_type": "stream",
     "text": [
      " 23%|███████████▉                                        | 23/100 [00:21<01:08,  1.12it/s]"
     ]
    },
    {
     "name": "stdout",
     "output_type": "stream",
     "text": [
      "('a', '__')\n"
     ]
    },
    {
     "name": "stderr",
     "output_type": "stream",
     "text": [
      " 24%|████████████▍                                       | 24/100 [00:21<01:08,  1.11it/s]"
     ]
    },
    {
     "name": "stdout",
     "output_type": "stream",
     "text": [
      "('ing', '__')\n"
     ]
    },
    {
     "name": "stderr",
     "output_type": "stream",
     "text": [
      " 25%|█████████████                                       | 25/100 [00:22<01:08,  1.10it/s]"
     ]
    },
    {
     "name": "stdout",
     "output_type": "stream",
     "text": [
      "('e', 'a')\n"
     ]
    },
    {
     "name": "stderr",
     "output_type": "stream",
     "text": [
      " 26%|█████████████▌                                      | 26/100 [00:23<01:04,  1.14it/s]"
     ]
    },
    {
     "name": "stdout",
     "output_type": "stream",
     "text": [
      "(',', '__')\n"
     ]
    },
    {
     "name": "stderr",
     "output_type": "stream",
     "text": [
      " 27%|██████████████                                      | 27/100 [00:24<01:04,  1.14it/s]"
     ]
    },
    {
     "name": "stdout",
     "output_type": "stream",
     "text": [
      "('us', 'er__')\n"
     ]
    },
    {
     "name": "stderr",
     "output_type": "stream",
     "text": [
      " 28%|██████████████▌                                     | 28/100 [00:25<01:03,  1.13it/s]"
     ]
    },
    {
     "name": "stdout",
     "output_type": "stream",
     "text": [
      "('l', '__')\n"
     ]
    },
    {
     "name": "stderr",
     "output_type": "stream",
     "text": [
      " 29%|███████████████                                     | 29/100 [00:26<01:00,  1.17it/s]"
     ]
    },
    {
     "name": "stdout",
     "output_type": "stream",
     "text": [
      "('e', 's')\n"
     ]
    },
    {
     "name": "stderr",
     "output_type": "stream",
     "text": [
      " 30%|███████████████▌                                    | 30/100 [00:27<00:57,  1.22it/s]"
     ]
    },
    {
     "name": "stdout",
     "output_type": "stream",
     "text": [
      "('f', 'or')\n"
     ]
    },
    {
     "name": "stderr",
     "output_type": "stream",
     "text": [
      " 31%|████████████████                                    | 31/100 [00:27<00:56,  1.23it/s]"
     ]
    },
    {
     "name": "stdout",
     "output_type": "stream",
     "text": [
      "('i', 's')\n"
     ]
    },
    {
     "name": "stderr",
     "output_type": "stream",
     "text": [
      " 32%|████████████████▋                                   | 32/100 [00:28<00:53,  1.26it/s]"
     ]
    },
    {
     "name": "stdout",
     "output_type": "stream",
     "text": [
      "('c', 'h')\n"
     ]
    },
    {
     "name": "stderr",
     "output_type": "stream",
     "text": [
      " 33%|█████████████████▏                                  | 33/100 [00:29<00:57,  1.17it/s]"
     ]
    },
    {
     "name": "stdout",
     "output_type": "stream",
     "text": [
      "('e', 'l')\n"
     ]
    },
    {
     "name": "stderr",
     "output_type": "stream",
     "text": [
      " 34%|█████████████████▋                                  | 34/100 [00:30<00:54,  1.21it/s]"
     ]
    },
    {
     "name": "stdout",
     "output_type": "stream",
     "text": [
      "('d', 'a')\n"
     ]
    },
    {
     "name": "stderr",
     "output_type": "stream",
     "text": [
      " 35%|██████████████████▏                                 | 35/100 [00:31<00:52,  1.25it/s]"
     ]
    },
    {
     "name": "stdout",
     "output_type": "stream",
     "text": [
      "('o', 'o')\n"
     ]
    },
    {
     "name": "stderr",
     "output_type": "stream",
     "text": [
      " 36%|██████████████████▋                                 | 36/100 [00:31<00:51,  1.25it/s]"
     ]
    },
    {
     "name": "stdout",
     "output_type": "stream",
     "text": [
      "('o', 'm')\n"
     ]
    },
    {
     "name": "stderr",
     "output_type": "stream",
     "text": [
      " 37%|███████████████████▏                                | 37/100 [00:33<00:58,  1.07it/s]"
     ]
    },
    {
     "name": "stdout",
     "output_type": "stream",
     "text": [
      "('k', '__')\n"
     ]
    },
    {
     "name": "stderr",
     "output_type": "stream",
     "text": [
      " 38%|███████████████████▊                                | 38/100 [00:34<01:01,  1.01it/s]"
     ]
    },
    {
     "name": "stdout",
     "output_type": "stream",
     "text": [
      "('a', 'm')\n"
     ]
    },
    {
     "name": "stderr",
     "output_type": "stream",
     "text": [
      " 39%|████████████████████▎                               | 39/100 [00:35<00:56,  1.07it/s]"
     ]
    },
    {
     "name": "stdout",
     "output_type": "stream",
     "text": [
      "('t', 'i')\n"
     ]
    },
    {
     "name": "stderr",
     "output_type": "stream",
     "text": [
      " 40%|████████████████████▊                               | 40/100 [00:35<00:52,  1.15it/s]"
     ]
    },
    {
     "name": "stdout",
     "output_type": "stream",
     "text": [
      "('t', 'o__')\n"
     ]
    },
    {
     "name": "stderr",
     "output_type": "stream",
     "text": [
      " 41%|█████████████████████▎                              | 41/100 [00:36<00:52,  1.11it/s]"
     ]
    },
    {
     "name": "stdout",
     "output_type": "stream",
     "text": [
      "('on', '__')\n"
     ]
    },
    {
     "name": "stderr",
     "output_type": "stream",
     "text": [
      " 42%|█████████████████████▊                              | 42/100 [00:37<00:50,  1.15it/s]"
     ]
    },
    {
     "name": "stdout",
     "output_type": "stream",
     "text": [
      "('n', 'i')\n"
     ]
    },
    {
     "name": "stderr",
     "output_type": "stream",
     "text": [
      " 43%|██████████████████████▎                             | 43/100 [00:38<00:50,  1.12it/s]"
     ]
    },
    {
     "name": "stdout",
     "output_type": "stream",
     "text": [
      "('in', '__')\n"
     ]
    },
    {
     "name": "stderr",
     "output_type": "stream",
     "text": [
      " 44%|██████████████████████▉                             | 44/100 [00:39<00:46,  1.20it/s]"
     ]
    },
    {
     "name": "stdout",
     "output_type": "stream",
     "text": [
      "('an', 'd__')\n"
     ]
    },
    {
     "name": "stderr",
     "output_type": "stream",
     "text": [
      " 45%|███████████████████████▍                            | 45/100 [00:39<00:45,  1.22it/s]"
     ]
    },
    {
     "name": "stdout",
     "output_type": "stream",
     "text": [
      "('o', 'w')\n"
     ]
    },
    {
     "name": "stderr",
     "output_type": "stream",
     "text": [
      " 46%|███████████████████████▉                            | 46/100 [00:40<00:45,  1.20it/s]"
     ]
    },
    {
     "name": "stdout",
     "output_type": "stream",
     "text": [
      "('a', 's')\n"
     ]
    },
    {
     "name": "stderr",
     "output_type": "stream",
     "text": [
      " 47%|████████████████████████▍                           | 47/100 [00:41<00:42,  1.25it/s]"
     ]
    },
    {
     "name": "stdout",
     "output_type": "stream",
     "text": [
      "('f', '__')\n"
     ]
    },
    {
     "name": "stderr",
     "output_type": "stream",
     "text": [
      " 48%|████████████████████████▉                           | 48/100 [00:42<00:40,  1.28it/s]"
     ]
    },
    {
     "name": "stdout",
     "output_type": "stream",
     "text": [
      "('l', 'i')\n"
     ]
    },
    {
     "name": "stderr",
     "output_type": "stream",
     "text": [
      " 49%|█████████████████████████▍                          | 49/100 [00:43<00:39,  1.30it/s]"
     ]
    },
    {
     "name": "stdout",
     "output_type": "stream",
     "text": [
      "('v', 'e__')\n"
     ]
    },
    {
     "name": "stderr",
     "output_type": "stream",
     "text": [
      " 50%|██████████████████████████                          | 50/100 [00:43<00:37,  1.33it/s]"
     ]
    },
    {
     "name": "stdout",
     "output_type": "stream",
     "text": [
      "('p', '__')\n"
     ]
    },
    {
     "name": "stderr",
     "output_type": "stream",
     "text": [
      " 51%|██████████████████████████▌                         | 51/100 [00:44<00:36,  1.34it/s]"
     ]
    },
    {
     "name": "stdout",
     "output_type": "stream",
     "text": [
      "('y', 'ou')\n"
     ]
    },
    {
     "name": "stderr",
     "output_type": "stream",
     "text": [
      " 52%|███████████████████████████                         | 52/100 [00:45<00:35,  1.36it/s]"
     ]
    },
    {
     "name": "stdout",
     "output_type": "stream",
     "text": [
      "('i', 'l')\n"
     ]
    },
    {
     "name": "stderr",
     "output_type": "stream",
     "text": [
      " 53%|███████████████████████████▌                        | 53/100 [00:45<00:33,  1.39it/s]"
     ]
    },
    {
     "name": "stdout",
     "output_type": "stream",
     "text": [
      "('th', '__')\n"
     ]
    },
    {
     "name": "stderr",
     "output_type": "stream",
     "text": [
      " 54%|████████████████████████████                        | 54/100 [00:46<00:33,  1.37it/s]"
     ]
    },
    {
     "name": "stdout",
     "output_type": "stream",
     "text": [
      "('da', 'y__')\n"
     ]
    },
    {
     "name": "stderr",
     "output_type": "stream",
     "text": [
      " 55%|████████████████████████████▌                       | 55/100 [00:47<00:34,  1.32it/s]"
     ]
    },
    {
     "name": "stdout",
     "output_type": "stream",
     "text": [
      "('I', '__')\n"
     ]
    },
    {
     "name": "stderr",
     "output_type": "stream",
     "text": [
      " 56%|█████████████████████████████                       | 56/100 [00:48<00:33,  1.32it/s]"
     ]
    },
    {
     "name": "stdout",
     "output_type": "stream",
     "text": [
      "('a', 't')\n"
     ]
    },
    {
     "name": "stderr",
     "output_type": "stream",
     "text": [
      " 57%|█████████████████████████████▋                      | 57/100 [00:49<00:34,  1.25it/s]"
     ]
    },
    {
     "name": "stdout",
     "output_type": "stream",
     "text": [
      "('r', 'i')\n"
     ]
    },
    {
     "name": "stderr",
     "output_type": "stream",
     "text": [
      " 58%|██████████████████████████████▏                     | 58/100 [00:49<00:32,  1.29it/s]"
     ]
    },
    {
     "name": "stdout",
     "output_type": "stream",
     "text": [
      "('a', 'c')\n"
     ]
    },
    {
     "name": "stderr",
     "output_type": "stream",
     "text": [
      " 59%|██████████████████████████████▋                     | 59/100 [00:50<00:32,  1.28it/s]"
     ]
    },
    {
     "name": "stdout",
     "output_type": "stream",
     "text": [
      "('i', 'r')\n"
     ]
    },
    {
     "name": "stderr",
     "output_type": "stream",
     "text": [
      " 60%|███████████████████████████████▏                    | 60/100 [00:51<00:31,  1.27it/s]"
     ]
    },
    {
     "name": "stdout",
     "output_type": "stream",
     "text": [
      "('m', 'y__')\n"
     ]
    },
    {
     "name": "stderr",
     "output_type": "stream",
     "text": [
      " 61%|███████████████████████████████▋                    | 61/100 [00:52<00:31,  1.23it/s]"
     ]
    },
    {
     "name": "stdout",
     "output_type": "stream",
     "text": [
      "('g', 'h')\n"
     ]
    },
    {
     "name": "stderr",
     "output_type": "stream",
     "text": [
      " 62%|████████████████████████████████▏                   | 62/100 [00:53<00:30,  1.26it/s]"
     ]
    },
    {
     "name": "stdout",
     "output_type": "stream",
     "text": [
      "('l', 'o')\n"
     ]
    },
    {
     "name": "stderr",
     "output_type": "stream",
     "text": [
      " 63%|████████████████████████████████▊                   | 63/100 [00:53<00:29,  1.26it/s]"
     ]
    },
    {
     "name": "stdout",
     "output_type": "stream",
     "text": [
      "('e', 'd__')\n"
     ]
    },
    {
     "name": "stderr",
     "output_type": "stream",
     "text": [
      " 64%|█████████████████████████████████▎                  | 64/100 [00:54<00:27,  1.32it/s]"
     ]
    },
    {
     "name": "stdout",
     "output_type": "stream",
     "text": [
      "('w', 'i')\n"
     ]
    },
    {
     "name": "stderr",
     "output_type": "stream",
     "text": [
      " 65%|█████████████████████████████████▊                  | 65/100 [00:55<00:25,  1.36it/s]"
     ]
    },
    {
     "name": "stdout",
     "output_type": "stream",
     "text": [
      "('u', 'n')\n"
     ]
    },
    {
     "name": "stderr",
     "output_type": "stream",
     "text": [
      " 66%|██████████████████████████████████▎                 | 66/100 [00:56<00:26,  1.30it/s]"
     ]
    },
    {
     "name": "stdout",
     "output_type": "stream",
     "text": [
      "('u', 'r')\n"
     ]
    },
    {
     "name": "stderr",
     "output_type": "stream",
     "text": [
      " 67%|██████████████████████████████████▊                 | 67/100 [00:56<00:26,  1.25it/s]"
     ]
    },
    {
     "name": "stdout",
     "output_type": "stream",
     "text": [
      "('a', 'p')\n"
     ]
    },
    {
     "name": "stderr",
     "output_type": "stream",
     "text": [
      " 68%|███████████████████████████████████▎                | 68/100 [00:57<00:25,  1.27it/s]"
     ]
    },
    {
     "name": "stdout",
     "output_type": "stream",
     "text": [
      "('s', 't')\n"
     ]
    },
    {
     "name": "stderr",
     "output_type": "stream",
     "text": [
      " 69%|███████████████████████████████████▉                | 69/100 [00:58<00:23,  1.32it/s]"
     ]
    },
    {
     "name": "stdout",
     "output_type": "stream",
     "text": [
      "('r', 'e')\n"
     ]
    },
    {
     "name": "stderr",
     "output_type": "stream",
     "text": [
      " 70%|████████████████████████████████████▍               | 70/100 [00:59<00:23,  1.29it/s]"
     ]
    },
    {
     "name": "stdout",
     "output_type": "stream",
     "text": [
      "('i', 't')\n"
     ]
    },
    {
     "name": "stderr",
     "output_type": "stream",
     "text": [
      " 71%|████████████████████████████████████▉               | 71/100 [00:59<00:21,  1.33it/s]"
     ]
    },
    {
     "name": "stdout",
     "output_type": "stream",
     "text": [
      "('o', 'f__')\n"
     ]
    },
    {
     "name": "stderr",
     "output_type": "stream",
     "text": [
      " 72%|█████████████████████████████████████▍              | 72/100 [01:00<00:20,  1.40it/s]"
     ]
    },
    {
     "name": "stdout",
     "output_type": "stream",
     "text": [
      "('o', 'l')\n"
     ]
    },
    {
     "name": "stderr",
     "output_type": "stream",
     "text": [
      " 73%|█████████████████████████████████████▉              | 73/100 [01:01<00:20,  1.31it/s]"
     ]
    },
    {
     "name": "stdout",
     "output_type": "stream",
     "text": [
      "('you', '__')\n"
     ]
    },
    {
     "name": "stderr",
     "output_type": "stream",
     "text": [
      " 74%|██████████████████████████████████████▍             | 74/100 [01:02<00:19,  1.36it/s]"
     ]
    },
    {
     "name": "stdout",
     "output_type": "stream",
     "text": [
      "('an', '__')\n"
     ]
    },
    {
     "name": "stderr",
     "output_type": "stream",
     "text": [
      " 75%|███████████████████████████████████████             | 75/100 [01:02<00:18,  1.35it/s]"
     ]
    },
    {
     "name": "stdout",
     "output_type": "stream",
     "text": [
      "(\"'\", 's__')\n"
     ]
    },
    {
     "name": "stderr",
     "output_type": "stream",
     "text": [
      " 76%|███████████████████████████████████████▌            | 76/100 [01:03<00:17,  1.37it/s]"
     ]
    },
    {
     "name": "stdout",
     "output_type": "stream",
     "text": [
      "('for', '__')\n"
     ]
    },
    {
     "name": "stderr",
     "output_type": "stream",
     "text": [
      " 77%|████████████████████████████████████████            | 77/100 [01:04<00:16,  1.43it/s]"
     ]
    },
    {
     "name": "stdout",
     "output_type": "stream",
     "text": [
      "('ali', 'for')\n"
     ]
    },
    {
     "name": "stderr",
     "output_type": "stream",
     "text": [
      " 78%|████████████████████████████████████████▌           | 78/100 [01:04<00:15,  1.46it/s]"
     ]
    },
    {
     "name": "stdout",
     "output_type": "stream",
     "text": [
      "('alifor', 'ni')\n"
     ]
    },
    {
     "name": "stderr",
     "output_type": "stream",
     "text": [
      " 79%|█████████████████████████████████████████           | 79/100 [01:05<00:14,  1.41it/s]"
     ]
    },
    {
     "name": "stdout",
     "output_type": "stream",
     "text": [
      "('i', 'c')\n"
     ]
    },
    {
     "name": "stderr",
     "output_type": "stream",
     "text": [
      " 80%|█████████████████████████████████████████▌          | 80/100 [01:06<00:14,  1.35it/s]"
     ]
    },
    {
     "name": "stdout",
     "output_type": "stream",
     "text": [
      "('T', 'h')\n"
     ]
    },
    {
     "name": "stderr",
     "output_type": "stream",
     "text": [
      " 81%|██████████████████████████████████████████          | 81/100 [01:07<00:13,  1.40it/s]"
     ]
    },
    {
     "name": "stdout",
     "output_type": "stream",
     "text": [
      "('aliforni', 'a__')\n"
     ]
    },
    {
     "name": "stderr",
     "output_type": "stream",
     "text": [
      " 82%|██████████████████████████████████████████▋         | 82/100 [01:07<00:12,  1.45it/s]"
     ]
    },
    {
     "name": "stdout",
     "output_type": "stream",
     "text": [
      "('l', 'e__')\n"
     ]
    },
    {
     "name": "stderr",
     "output_type": "stream",
     "text": [
      " 83%|███████████████████████████████████████████▏        | 83/100 [01:08<00:11,  1.49it/s]"
     ]
    },
    {
     "name": "stdout",
     "output_type": "stream",
     "text": [
      "('e', 'g')\n"
     ]
    },
    {
     "name": "stderr",
     "output_type": "stream",
     "text": [
      " 84%|███████████████████████████████████████████▋        | 84/100 [01:08<00:10,  1.51it/s]"
     ]
    },
    {
     "name": "stdout",
     "output_type": "stream",
     "text": [
      "('m', '__')\n"
     ]
    },
    {
     "name": "stderr",
     "output_type": "stream",
     "text": [
      " 85%|████████████████████████████████████████████▏       | 85/100 [01:09<00:09,  1.54it/s]"
     ]
    },
    {
     "name": "stdout",
     "output_type": "stream",
     "text": [
      "('en', '__')\n"
     ]
    },
    {
     "name": "stderr",
     "output_type": "stream",
     "text": [
      " 86%|████████████████████████████████████████████▋       | 86/100 [01:10<00:09,  1.55it/s]"
     ]
    },
    {
     "name": "stdout",
     "output_type": "stream",
     "text": [
      "('n', 'e')\n"
     ]
    },
    {
     "name": "stderr",
     "output_type": "stream",
     "text": [
      " 87%|█████████████████████████████████████████████▏      | 87/100 [01:10<00:08,  1.55it/s]"
     ]
    },
    {
     "name": "stdout",
     "output_type": "stream",
     "text": [
      "('C', 'alifornia__')\n"
     ]
    },
    {
     "name": "stderr",
     "output_type": "stream",
     "text": [
      " 88%|█████████████████████████████████████████████▊      | 88/100 [01:11<00:07,  1.52it/s]"
     ]
    },
    {
     "name": "stdout",
     "output_type": "stream",
     "text": [
      "('a', 'k')\n"
     ]
    },
    {
     "name": "stderr",
     "output_type": "stream",
     "text": [
      " 89%|██████████████████████████████████████████████▎     | 89/100 [01:12<00:07,  1.54it/s]"
     ]
    },
    {
     "name": "stdout",
     "output_type": "stream",
     "text": [
      "('m', 'e__')\n"
     ]
    },
    {
     "name": "stderr",
     "output_type": "stream",
     "text": [
      " 90%|██████████████████████████████████████████████▊     | 90/100 [01:12<00:06,  1.56it/s]"
     ]
    },
    {
     "name": "stdout",
     "output_type": "stream",
     "text": [
      "('s', 'h')\n"
     ]
    },
    {
     "name": "stderr",
     "output_type": "stream",
     "text": [
      " 91%|███████████████████████████████████████████████▎    | 91/100 [01:13<00:05,  1.56it/s]"
     ]
    },
    {
     "name": "stdout",
     "output_type": "stream",
     "text": [
      "('e', 'e')\n"
     ]
    },
    {
     "name": "stderr",
     "output_type": "stream",
     "text": [
      " 92%|███████████████████████████████████████████████▊    | 92/100 [01:14<00:05,  1.53it/s]"
     ]
    },
    {
     "name": "stdout",
     "output_type": "stream",
     "text": [
      "('th', 'is__')\n"
     ]
    },
    {
     "name": "stderr",
     "output_type": "stream",
     "text": [
      " 93%|████████████████████████████████████████████████▎   | 93/100 [01:14<00:04,  1.54it/s]"
     ]
    },
    {
     "name": "stdout",
     "output_type": "stream",
     "text": [
      "('L', 'o')\n"
     ]
    },
    {
     "name": "stderr",
     "output_type": "stream",
     "text": [
      " 94%|████████████████████████████████████████████████▉   | 94/100 [01:15<00:03,  1.55it/s]"
     ]
    },
    {
     "name": "stdout",
     "output_type": "stream",
     "text": [
      "('a', 'd')\n"
     ]
    },
    {
     "name": "stderr",
     "output_type": "stream",
     "text": [
      " 95%|█████████████████████████████████████████████████▍  | 95/100 [01:16<00:03,  1.49it/s]"
     ]
    },
    {
     "name": "stdout",
     "output_type": "stream",
     "text": [
      "('gh', 't__')\n"
     ]
    },
    {
     "name": "stderr",
     "output_type": "stream",
     "text": [
      " 96%|█████████████████████████████████████████████████▉  | 96/100 [01:16<00:02,  1.54it/s]"
     ]
    },
    {
     "name": "stdout",
     "output_type": "stream",
     "text": [
      "('n', '__')\n"
     ]
    },
    {
     "name": "stderr",
     "output_type": "stream",
     "text": [
      " 97%|██████████████████████████████████████████████████▍ | 97/100 [01:17<00:01,  1.57it/s]"
     ]
    },
    {
     "name": "stdout",
     "output_type": "stream",
     "text": [
      "('oo', 'd__')\n"
     ]
    },
    {
     "name": "stderr",
     "output_type": "stream",
     "text": [
      " 98%|██████████████████████████████████████████████████▉ | 98/100 [01:17<00:01,  1.60it/s]"
     ]
    },
    {
     "name": "stdout",
     "output_type": "stream",
     "text": [
      "('ap', 'p')\n"
     ]
    },
    {
     "name": "stderr",
     "output_type": "stream",
     "text": [
      " 99%|███████████████████████████████████████████████████▍| 99/100 [01:18<00:00,  1.61it/s]"
     ]
    },
    {
     "name": "stdout",
     "output_type": "stream",
     "text": [
      "('a', 'g')\n"
     ]
    },
    {
     "name": "stderr",
     "output_type": "stream",
     "text": [
      "100%|███████████████████████████████████████████████████| 100/100 [01:19<00:00,  1.26it/s]"
     ]
    },
    {
     "name": "stdout",
     "output_type": "stream",
     "text": [
      "('e', 'v')\n"
     ]
    },
    {
     "name": "stderr",
     "output_type": "stream",
     "text": [
      "\n"
     ]
    }
   ],
   "source": [
    "bpe_vocab, updated_bpe_corpus, bpe_merges = bpe(bpe_init_vocab, bpe_corpus, num_merges=100)"
   ]
  },
  {
   "cell_type": "markdown",
   "metadata": {
    "collapsed": false,
    "jupyter": {
     "outputs_hidden": false
    },
    "pycharm": {
     "name": "#%% md\n"
    }
   },
   "source": [
    "We can check the size of the BPE vocabulary and the most common tokens."
   ]
  },
  {
   "cell_type": "code",
   "execution_count": 81,
   "metadata": {
    "collapsed": false,
    "jupyter": {
     "outputs_hidden": false
    },
    "pycharm": {
     "name": "#%%\n"
    }
   },
   "outputs": [
    {
     "name": "stdout",
     "output_type": "stream",
     "text": [
      "214\n",
      "['__', '!', '\"', '$', '%', '&', \"'\", '(', ')', '*', '+', ',', '-', '.', '/', '0', '1', '2', '3', '4', '5', '6', '7', '8', '9', ':', ';', '=', '?', 'A', 'B', 'C', 'D', 'E', 'F', 'G', 'H', 'I', 'J', 'K', 'L', 'M', 'N', 'O', 'P', 'Q', 'R', 'S', 'T', 'U', 'V', 'W', 'X', 'Y', 'Z', '[', '\\\\', ']', '^', '_', 'a', 'b', 'c', 'd', 'e', 'f', 'g', 'h', 'i', 'j', 'k', 'l', 'm', 'n', 'o', 'p', 'q', 'r', 's', 't', 'u', 'v', 'w', 'x', 'y', 'z', '{', '}', '~', '¡', 'é', 'ñ', 'ˢ', '͟', 'б', 'и', 'н', 'о', 'р', 'ا', 'ᴵ', '—', '’', '“', '”', '•', '…', '▃', '▄', '♡', '⠀', 'ア', 'ン', '・', 'e__', 's__', 't__', 'er', 'y__', 'in', 'an', 'd__', 'or', 'er__', 'th', 'on', 'o__', 'al', 'ou', '…__', 'ar', 'ing', '!__', 'us', 'en', '.__', 'a__', 'ing__', 'ea', ',__', 'user__', 'l__', 'es', 'for', 'is', 'ch', 'el', 'da', 'oo', 'om']\n"
     ]
    }
   ],
   "source": [
    "print(len(bpe_vocab))\n",
    "print(bpe_vocab[:150])"
   ]
  },
  {
   "cell_type": "markdown",
   "metadata": {
    "collapsed": false,
    "jupyter": {
     "outputs_hidden": false
    },
    "pycharm": {
     "name": "#%% md\n"
    }
   },
   "source": [
    "We can also check the most common merges."
   ]
  },
  {
   "cell_type": "code",
   "execution_count": 72,
   "metadata": {
    "collapsed": false,
    "jupyter": {
     "outputs_hidden": false
    },
    "pycharm": {
     "name": "#%%\n"
    }
   },
   "outputs": [
    {
     "name": "stdout",
     "output_type": "stream",
     "text": [
      "[('e', '__'), ('s', '__'), ('t', '__'), ('e', 'r'), ('y', '__'), ('i', 'n'), ('a', 'n'), ('d', '__'), ('o', 'r'), ('er', '__'), ('t', 'h'), ('o', 'n'), ('o', '__'), ('a', 'l'), ('o', 'u'), ('…', '__'), ('a', 'r'), ('in', 'g'), ('!', '__'), ('u', 's'), ('e', 'n'), ('.', '__'), ('a', '__'), ('ing', '__'), ('e', 'a'), (',', '__'), ('us', 'er__'), ('l', '__'), ('e', 's'), ('f', 'or'), ('i', 's'), ('c', 'h'), ('e', 'l'), ('d', 'a'), ('o', 'o'), ('o', 'm'), ('k', '__'), ('a', 'm'), ('t', 'i'), ('t', 'o__'), ('on', '__'), ('n', 'i'), ('in', '__'), ('an', 'd__'), ('o', 'w'), ('a', 's'), ('f', '__'), ('l', 'i'), ('v', 'e__'), ('p', '__'), ('y', 'ou'), ('i', 'l'), ('th', '__'), ('da', 'y__'), ('I', '__'), ('a', 't'), ('r', 'i'), ('a', 'c'), ('i', 'r'), ('m', 'y__'), ('g', 'h'), ('l', 'o'), ('e', 'd__'), ('w', 'i'), ('u', 'n'), ('u', 'r'), ('a', 'p'), ('s', 't'), ('r', 'e'), ('i', 't'), ('o', 'f__'), ('o', 'l'), ('you', '__'), ('an', '__'), (\"'\", 's__'), ('for', '__'), ('ali', 'for'), ('alifor', 'ni'), ('i', 'c'), ('T', 'h'), ('aliforni', 'a__'), ('l', 'e__'), ('e', 'g'), ('m', '__'), ('en', '__'), ('n', 'e'), ('C', 'alifornia__'), ('a', 'k'), ('m', 'e__'), ('s', 'h'), ('e', 'e'), ('th', 'is__'), ('L', 'o'), ('a', 'd'), ('gh', 't__'), ('n', '__'), ('oo', 'd__'), ('ap', 'p'), ('a', 'g'), ('e', 'v'), ('e', 'c'), ('t', 'o'), ('a', 'b'), ('A', 'n'), ('w', 'h'), ('C', 'h'), ('r', 'o'), ('a', 'y__'), ('e', 't'), ('l', 'y__'), ('w', '__'), ('A', '__'), (':', '__'), ('lo', 've__'), ('a', 'v'), ('h', 'o'), ('ch', '__'), ('S', 't'), ('a', 'y'), ('f', 'u'), (';', '__'), ('al', 'l__'), ('g', '__'), ('(', '__'), ('en', 't'), ('d', 'i'), ('g', 'el'), ('e', 'm'), ('am', 'p__'), ('gel', 'es__'), (')', '__'), ('&', 'amp__'), ('b', 'u'), ('ou', 't__'), ('r', 'an'), ('i', 'd'), ('p', 'o'), ('o', 'f'), ('app', 'y__'), ('Lo', 's__'), ('eg', 'as__'), ('k', 's__'), ('S', 'an__'), ('p', 'l'), (\"'\", 't__'), ('An', 'geles__'), ('s', 'o__'), ('f', 'e__'), ('rist', 'm'), ('t', 's__')]\n"
     ]
    }
   ],
   "source": [
    "print(bpe_merges[:150])"
   ]
  },
  {
   "cell_type": "markdown",
   "metadata": {
    "collapsed": false,
    "jupyter": {
     "outputs_hidden": false
    },
    "pycharm": {
     "name": "#%% md\n"
    }
   },
   "source": [
    "### 3.3 Tokenizing the text using BPE\n",
    "\n",
    "With the tokenizer trained we can now tokenize the text using the BPE vocabulary. We will first build a function that tokenizes any text using our BPE tokenizer (vocabulary and merges). Next we will apply it to our dataset.\n",
    "\n",
    "The following function tokenizes the text using the BPE vocabulary. It replaces the most frequent pairs of tokens with the new token. The function also replaces the tokens that are not in the vocabulary with the `<unk>` token."
   ]
  },
  {
   "cell_type": "code",
   "execution_count": 73,
   "metadata": {
    "collapsed": false,
    "jupyter": {
     "outputs_hidden": false
    },
    "pycharm": {
     "name": "#%%\n"
    }
   },
   "outputs": [
    {
     "name": "stdout",
     "output_type": "stream",
     "text": [
      "['Sunday__', 'af', 'tern', 'o', 'on__', 'w', 'al', 'king__', 'th', 'r', 'ou', 'gh', '__', 'V', 'en', 'ic', 'e__', 'in__', 'sun', '__', 'wi', 'th__', 'user__', 'A', 'b', 'b', 'ot__', 'K', 'in', 'ne', 'y__', ',__', 'V', 'en', 'ic', 'e__', '<unk>']\n"
     ]
    }
   ],
   "source": [
    "def apply_bpe_tokenization(text, vocab, merges, unk_token='<unk>'):\n",
    "    \"\"\"\n",
    "    Tokenizes the text using BPE vocabulary, preserving spaces as '__'.\n",
    "\n",
    "    Args:\n",
    "        text (str): The input text to be tokenized.\n",
    "        vocab (set): A set containing the BPE vocabulary tokens.\n",
    "\n",
    "    Returns:\n",
    "        list: A list of tokens representing the input text.\n",
    "    \"\"\"\n",
    "\n",
    "    words = re.split(r'\\s', text)\n",
    "    words = [' ' + ' '.join(list(word)) + (' __ ' if i < len(words) - 1 else ' ') for i, word in enumerate(words)]\n",
    "\n",
    "    bpe_tokens = []\n",
    "\n",
    "    for i, word in enumerate(words):\n",
    "        for merge in merges:\n",
    "            word = word.replace(' ' + ' '.join(merge) + ' ', ' ' + ''.join(merge) + ' ')\n",
    "        bpe_tokens.extend(word.split())\n",
    "\n",
    "    for i, token in enumerate(bpe_tokens):\n",
    "        if token not in vocab:\n",
    "            bpe_tokens[i] = unk_token\n",
    "    return bpe_tokens\n",
    "\n",
    "\n",
    "# A test example with a special character. Is the character tokenized correctly as <unk> token?\n",
    "print(apply_bpe_tokenization(tweet_ds['train'][0]['clean'] + ' 🇺', bpe_vocab, bpe_merges))"
   ]
  },
  {
   "cell_type": "markdown",
   "metadata": {
    "collapsed": false,
    "jupyter": {
     "outputs_hidden": false
    },
    "pycharm": {
     "name": "#%% md\n"
    }
   },
   "source": [
    "The function below will apply our BPE tokenizer to the dataset. It will add a new column `bpe_tokens` to each example."
   ]
  },
  {
   "cell_type": "code",
   "execution_count": 74,
   "metadata": {
    "collapsed": false,
    "jupyter": {
     "outputs_hidden": false
    },
    "pycharm": {
     "name": "#%%\n"
    }
   },
   "outputs": [
    {
     "data": {
      "application/vnd.jupyter.widget-view+json": {
       "model_id": "16e9088dcba64cbd92b6d39b1c4f1b34",
       "version_major": 2,
       "version_minor": 0
      },
      "text/plain": [
       "Map:   0%|          | 0/45000 [00:00<?, ? examples/s]"
      ]
     },
     "metadata": {},
     "output_type": "display_data"
    },
    {
     "data": {
      "application/vnd.jupyter.widget-view+json": {
       "model_id": "4ede8d97972046258b651e816e1ab0ea",
       "version_major": 2,
       "version_minor": 0
      },
      "text/plain": [
       "Map:   0%|          | 0/50000 [00:00<?, ? examples/s]"
      ]
     },
     "metadata": {},
     "output_type": "display_data"
    },
    {
     "data": {
      "application/vnd.jupyter.widget-view+json": {
       "model_id": "4cdd1af8ae5f4561907b32c97dcc4654",
       "version_major": 2,
       "version_minor": 0
      },
      "text/plain": [
       "Map:   0%|          | 0/5000 [00:00<?, ? examples/s]"
      ]
     },
     "metadata": {},
     "output_type": "display_data"
    },
    {
     "name": "stdout",
     "output_type": "stream",
     "text": [
      "DatasetDict({\n",
      "    train: Dataset({\n",
      "        features: ['text', 'label', 'text_length', 'clean', 'tokens', 'bpe_tokens'],\n",
      "        num_rows: 45000\n",
      "    })\n",
      "    test: Dataset({\n",
      "        features: ['text', 'label', 'text_length', 'clean', 'tokens', 'bpe_tokens'],\n",
      "        num_rows: 50000\n",
      "    })\n",
      "    validation: Dataset({\n",
      "        features: ['text', 'label', 'text_length', 'clean', 'tokens', 'bpe_tokens'],\n",
      "        num_rows: 5000\n",
      "    })\n",
      "})\n"
     ]
    }
   ],
   "source": [
    "def tokenize_bpe(example, vocab, merges, unk_token='<unk>'):\n",
    "    \"\"\"\n",
    "    Tokenizes the example from the Dataset using BPE\n",
    "    Args:\n",
    "        example: an example from the Dataset\n",
    "        vocab: a BPE vocabulary\n",
    "\n",
    "    Returns: update example containing 'bpe_tokens' column\n",
    "\n",
    "    \"\"\"\n",
    "    text = example['clean']\n",
    "    bpe_tokens = apply_bpe_tokenization(text, vocab, merges, unk_token)\n",
    "    example['bpe_tokens'] = bpe_tokens\n",
    "    return example\n",
    "\n",
    "tweet_ds = tweet_ds.map(tokenize_bpe, fn_kwargs={'vocab': bpe_vocab, 'merges': bpe_merges})\n",
    "print(tweet_ds)"
   ]
  },
  {
   "cell_type": "markdown",
   "metadata": {
    "collapsed": false,
    "jupyter": {
     "outputs_hidden": false
    },
    "pycharm": {
     "name": "#%% md\n"
    }
   },
   "source": [
    "We will inspect the both tokenizations of several examples from the ```validation``` subset. Try to find the ```<unk>``` tokens in the printed examples."
   ]
  },
  {
   "cell_type": "code",
   "execution_count": 76,
   "metadata": {
    "collapsed": false,
    "jupyter": {
     "outputs_hidden": false
    },
    "pycharm": {
     "name": "#%%\n"
    }
   },
   "outputs": [
    {
     "name": "stdout",
     "output_type": "stream",
     "text": [
      "Original tweet:\n",
      "A little throwback with my favourite person @ Water Wall\n",
      "Word tokenization:\n",
      "['little', 'throwback', 'with', 'my', 'favourite', 'person', 'Water', 'Wall']\n",
      "BPE tokenization:\n",
      "['li', 't', 'tle__', 'th', 'r', 'ow', 'back__', 'wi', 'th__', 'my__', 'fav', 'ou', 'ri', 'te__', 'per', 'son__', 'W', 'at', 'er__', 'W', 'all']\n",
      "\n",
      "Original tweet:\n",
      "glam on @user yesterday for #kcon makeup using @user in #featherette,…\n",
      "Word tokenization:\n",
      "['glam', 'on', 'user', 'yesterday', 'for', 'kcon', 'makeup', 'using', 'user', 'in', '<unk>', ',', '…']\n",
      "BPE tokenization:\n",
      "['g', 'l', 'am', '__', 'on__', 'user__', 'y', 'es', 'ter', 'day__', 'for__', 'k', 'c', 'on__', 'make', 'up__', 'us', 'ing__', 'user__', 'in__', 'f', 'ea', 'th', 'er', 'et', 'te__', ',__', '…']\n",
      "\n",
      "Original tweet:\n",
      "Democracy Plaza in the wake of a stunning outcome #Decision2016 @ NBC News\n",
      "Word tokenization:\n",
      "['Democracy', 'Plaza', 'in', 'wake', 'of', 'stunning', 'outcome', '<unk>', 'NBC', 'News']\n",
      "BPE tokenization:\n",
      "['D', 'em', 'oc', 'r', 'ac', 'y__', 'Pl', 'az', 'a__', 'in__', 'w', 'ake__', 'of__', 'st', 'un', 'n', 'ing__', 'ou', 't', 'com', 'e__', 'D', 'ec', 'is', 'i', 'on', '2016__', 'N', 'B', 'C__', 'New', 's']\n",
      "\n",
      "Original tweet:\n",
      "Then &amp; Now. VILO @ Walt Disney Magic Kingdom\n",
      "Word tokenization:\n",
      "['Then', '&amp', ';', 'Now', '.', '<unk>', 'Walt', 'Disney', 'Magic', 'Kingdom']\n",
      "BPE tokenization:\n",
      "['Th', 'en__', '&amp__', ';__', 'N', 'ow', '__', '.__', 'V', 'I', 'L', 'O__', 'Wal', 't__', 'Dis', 'ne', 'y__', 'M', 'ag', 'ic__', 'K', 'ing', 'd', 'om']\n",
      "\n",
      "Original tweet:\n",
      "Who never... @ A Galaxy Far Far Away\n",
      "Word tokenization:\n",
      "['Who', 'never', '.', 'Galaxy', 'Far', 'Far', 'Away']\n",
      "BPE tokenization:\n",
      "['Wh', 'o__', 'ne', 'v', 'er__', '.__', 'G', 'al', 'a', 'x', 'y__', 'F', 'ar__', 'F', 'ar__', 'A', 'w', 'ay']\n",
      "\n",
      "Original tweet:\n",
      "Dinner in FLA tonight // Pan-seared salmon over couscous veggie salad #yum #dinner #florida #salmon…\n",
      "Word tokenization:\n",
      "['Dinner', 'in', '<unk>', 'tonight', '//', '<unk>', 'salmon', 'over', 'couscous', 'veggie', 'salad', 'yum', 'dinner', '<unk>', 'salmon', '…']\n",
      "BPE tokenization:\n",
      "['D', 'in', 'n', 'er__', 'in__', 'F', 'LA__', 't', 'on', 'i', 'ght__', '//__', 'P', 'an', '-', 's', 'e', 'ar', 'ed__', 's', 'al', 'm', 'on__', 'o', 'v', 'er__', 'c', 'ou', 'sc', 'ou', 's__', 'v', 'eg', 'gi', 'e__', 's', 'al', 'a', 'd__', 'y', 'u', 'm__', 'd', 'in', 'n', 'er__', 'f', 'l', 'or', 'id', 'a__', 's', 'al', 'm', 'on__', '…']\n",
      "\n",
      "Original tweet:\n",
      "It's my fav seniors last game congrats on beating west @ West Salem…\n",
      "Word tokenization:\n",
      "[\"It's\", 'my', 'fav', 'seniors', 'last', 'game', 'congrats', 'on', 'beating', 'west', 'West', 'Salem', '…']\n",
      "BPE tokenization:\n",
      "[\"It's__\", 'my__', 'fav', '__', 's', 'en', 'i', 'or', 's__', 'las', 't__', 'g', 'am', 'e__', 'c', 'on', 'gr', 'at', 's__', 'on__', 'b', 'ea', 't', 'ing__', 'w', 'es', 't__', 'W', 'es', 't__', 'S', 'al', 'e', 'm__', '…']\n",
      "\n",
      "Original tweet:\n",
      "I got to to go formal with my best friend @ Phi Mu at JSU\n",
      "Word tokenization:\n",
      "['I', 'got', 'to', 'to', 'go', 'formal', 'with', 'my', 'best', 'friend', 'Phi', 'Mu', 'at', '<unk>']\n",
      "BPE tokenization:\n",
      "['I__', 'g', 'ot__', 'to__', 'to__', 'g', 'o__', 'for', 'm', 'al', '__', 'wi', 'th__', 'my__', 'b', 'es', 't__', 'friend__', 'P', 'h', 'i__', 'M', 'u__', 'a', 't__', 'J', 'S', 'U']\n",
      "\n",
      "Original tweet:\n",
      "'Cause I Miss My Little Homies .#Throwback #CousinLove @ Indiana University\n",
      "Word tokenization:\n",
      "[\"'Cause\", 'I', 'Miss', 'My', 'Little', 'Homies', '.', 'Throwback', 'CousinLove', 'Indiana', 'University']\n",
      "BPE tokenization:\n",
      "[\"'\", 'C', 'a', 'us', 'e__', 'I__', 'Mis', 's__', 'My__', 'L', 'it', 'tle__', 'H', 'om', 'i', 'e', 's__', '.__', 'Th', 'r', 'ow', 'back__', 'C', 'ou', 's', 'in', 'Love__', 'In', 'di', 'an', 'a__', 'Univer', 's', 'it', 'y']\n",
      "\n",
      "Original tweet:\n",
      "Birthday Kisses @ Madison, Wisconsin\n",
      "Word tokenization:\n",
      "['Birthday', 'Kisses', 'Madison', ',', 'Wisconsin']\n",
      "BPE tokenization:\n",
      "['B', 'irthday__', 'K', 'is', 's', 'e', 's__', 'M', 'ad', 'is', 'on__', ',__', 'W', 'is', 'c', 'on', 's', 'in']\n",
      "\n"
     ]
    }
   ],
   "source": [
    "for i in range(10):\n",
    "    print('Original tweet:')\n",
    "    print(tweet_ds['validation'][i]['text'])\n",
    "    print('Word tokenization:')\n",
    "    print(tweet_ds['validation'][i]['tokens'])\n",
    "    print('BPE tokenization:')\n",
    "    print(tweet_ds['validation'][i]['bpe_tokens'])\n",
    "    print()"
   ]
  },
  {
   "cell_type": "markdown",
   "metadata": {
    "collapsed": false,
    "jupyter": {
     "outputs_hidden": false
    },
    "pycharm": {
     "name": "#%% md\n"
    }
   },
   "source": [
    "### Exercise 10: Comparing tokenizers\n",
    "\n",
    "Train the BPE tokenizer with different number of merges. Compare the tokenization results with the word tokenization.\n",
    "1. (5p) What are the differences?\n",
    "2. (5p) Compare the number of tokens created by your tokenizers.\n",
    "3. (5p) Calculate the number of `<unk>` tokens in the validation dataset for each tokenizer.\n",
    "4. (5p) Compare the average length in tokens between different tokenizers.\n",
    "5. (5p) What are the advantages and disadvantages of the BPE tokenizer?"
   ]
  },
  {
   "cell_type": "markdown",
   "metadata": {
    "collapsed": false,
    "jupyter": {
     "outputs_hidden": false
    },
    "pycharm": {
     "name": "#%% md\n"
    }
   },
   "source": [
    "For answering these questions make sure to include a proper mix of numbers/plots/tables etc. and comments."
   ]
  },
  {
   "cell_type": "markdown",
   "metadata": {
    "collapsed": false,
    "jupyter": {
     "outputs_hidden": false
    },
    "pycharm": {
     "name": "#%% md\n"
    }
   },
   "source": []
  }
 ],
 "metadata": {
  "kernelspec": {
   "display_name": "Python 3 (ipykernel)",
   "language": "python",
   "name": "python3"
  },
  "language_info": {
   "codemirror_mode": {
    "name": "ipython",
    "version": 3
   },
   "file_extension": ".py",
   "mimetype": "text/x-python",
   "name": "python",
   "nbconvert_exporter": "python",
   "pygments_lexer": "ipython3",
   "version": "3.13.2"
  }
 },
 "nbformat": 4,
 "nbformat_minor": 4
}
