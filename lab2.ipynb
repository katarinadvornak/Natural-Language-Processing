{
 "cells": [
  {
   "cell_type": "markdown",
   "metadata": {
    "collapsed": false,
    "id": "od2YkWY8pSOC",
    "jupyter": {
     "outputs_hidden": false
    },
    "pycharm": {
     "name": "#%% md\n"
    }
   },
   "source": [
    "# NLP 2025\n",
    "# Lab 2: Word Vectors and Information Retrieval\n",
    "\n",
    "During the first few weeks, we discussed various ways to represent text 📝. One key question was: What should be the basic unit of representation? Words are the fundamental building blocks 🧱.\n",
    "\n",
    "In this lab, we will explore different text representation models, such as Bag-of-Words (BoW), TF-IDF and word embeddings 🔤➡️🔢. Among these, word embeddings are the most effective in terms of performance. They represent each word as a vector of numbers, where each vector captures the meaning of the word 🧠📊.\n",
    "\n",
    "These numerical representations (or weights) are learned using machine learning models 🤖. We’ll dive deeper into how these vectors are learned in the next lecture 📚.\n",
    "\n",
    "For now, we’ll focus on how different representation methods affect performance in an information retrieval task 🔍."
   ]
  },
  {
   "cell_type": "markdown",
   "metadata": {
    "collapsed": false,
    "id": "s93LS5bspSOD",
    "jupyter": {
     "outputs_hidden": false
    },
    "pycharm": {
     "name": "#%% md\n"
    }
   },
   "source": [
    "By the end of this lab, you should be able to:\n",
    "\n",
    "+ 🧼🔁 Implement and/or use built-in functions to preprocess your data (once again!)\n",
    "+ 🧱👜 Build a Bag-of-Words representation of the dataset\n",
    "+ 📊✨ Implement TF-IDF\n",
    "+ 📥🔤 Load pre-trained word embeddings\n",
    "+ 🔍🧠 Inspect and test word embedding properties\n",
    "+ 🗣️➡️📐 Use word embeddings to get sentence representations (aka sentence embeddings)\n",
    "+ 🧩🔎 Use sentence embeddings to solve more complex tasks like information retrieval\n",
    "+ 🧪📏 Design evaluation frameworks for specific NLP tasks and assess their difficulty\n",
    "\n",
    "### Score breakdown\n",
    "\n",
    "| Exercise            | Points |\n",
    "|---------------------|--------|\n",
    "| [Exercise 1](#e1)   | 1      |\n",
    "| [Exercise 2](#e2)   | 1      |\n",
    "| [Exercise 3](#e3)   | 1      |\n",
    "| [Exercise 4](#e4)   | 1      |\n",
    "| [Exercise 5](#e5)   | 1      |\n",
    "| [Exercise 6](#e6)   | 2      |\n",
    "| [Exercise 7](#e7)   | 10     |\n",
    "| [Exercise 8](#e8)   | 5      |\n",
    "| [Exercise 9](#e9)   | 15     |\n",
    "| [Exercise 10](#e10) | 10     |\n",
    "| [Exercise 11](#e11) | 10     |\n",
    "| [Exercise 12](#e12) | 5      |\n",
    "| [Exercise 13](#e13) | 15     |\n",
    "| [Exercise 14](#e14) | 3      |\n",
    "| [Exercise 15](#e15) | 10     |\n",
    "| [Exercise 16](#e16) | 10     |\n",
    "| Total               | 100    |\n",
    "\n",
    "This score will be scaled down to 1 and that will be your final lab score.\n",
    "\n",
    "### 📌 **Instructions for Delivery** (📅 **Deadline: 18/Apr 18:00**, 🎭 *wildcards possible*)\n",
    "\n",
    "✅ **Submission Requirements**\n",
    "+ 📄 You need to submit a **PDF of your report** (use the templates provided in **LaTeX** 🖋️ (*preferred*) or **Word** 📑) and a **copy of your notebook** 📓 with the code.\n",
    "+ ⚡ Make sure that **all cells are executed properly** ⚙️ and that **all figures/results/plots** 📊 you include in the report are also visible in your **executed notebook**.\n",
    "\n",
    "✅ **Collaboration & Integrity**\n",
    "+ 🗣️ While you may **discuss** the lab with others, you must **write your solutions with your group only**. If you **discuss specific tasks** with others, please **include their names** in the appendix of the report.\n",
    "+ 📜 **Honor Code applies** to this lab. For more details, check **Syllabus §7.2** ⚖️.\n",
    "+ 📢 **Mandatory Disclosure**:\n",
    "   - Any **websites** 🌐 (e.g., **Stack Overflow** 💡) or **other resources** used must be **listed and disclosed**.\n",
    "   - Any **GenAI tools** 🤖 (e.g., **ChatGPT**) used must be **explicitly mentioned**.\n",
    "   - 🚨 **Failure to disclose these resources is a violation of academic integrity**. See **Syllabus §7.3** for details."
   ]
  },
  {
   "cell_type": "markdown",
   "metadata": {
    "collapsed": false,
    "id": "aHYGq5RUpSOD",
    "jupyter": {
     "outputs_hidden": false
    },
    "pycharm": {
     "name": "#%% md\n"
    }
   },
   "source": [
    "## 0. Setup\n",
    "\n",
    "As in the last lab, we will be using huggingface datasets library ([https://huggingface.co/datasets](https://huggingface.co/datasets)). You can find the detailed documentation and tutorials here: [https://huggingface.co/docs/datasets/en/index](https://huggingface.co/docs/datasets/en/index)\n",
    "\n",
    "If you don't have it installed you can run the code below or install it via `pip` in your terminal. If you are using Google Colab, you can uncomment and run the code below in a code cell. Restarting of the runtime may be required after installation (Runtime/Restart session)."
   ]
  },
  {
   "cell_type": "code",
   "execution_count": 2,
   "metadata": {
    "id": "rhEG8hKrpSOE",
    "pycharm": {
     "name": "#%%\n"
    }
   },
   "outputs": [
    {
     "name": "stdout",
     "output_type": "stream",
     "text": [
      "Requirement already satisfied: datasets~=3.5.0 in /Library/Frameworks/Python.framework/Versions/3.12/lib/python3.12/site-packages (3.5.0)\n",
      "Requirement already satisfied: filelock in /Library/Frameworks/Python.framework/Versions/3.12/lib/python3.12/site-packages (from datasets~=3.5.0) (3.18.0)\n",
      "Requirement already satisfied: numpy>=1.17 in /Library/Frameworks/Python.framework/Versions/3.12/lib/python3.12/site-packages (from datasets~=3.5.0) (1.26.4)\n",
      "Requirement already satisfied: pyarrow>=15.0.0 in /Library/Frameworks/Python.framework/Versions/3.12/lib/python3.12/site-packages (from datasets~=3.5.0) (19.0.1)\n",
      "Requirement already satisfied: dill<0.3.9,>=0.3.0 in /Library/Frameworks/Python.framework/Versions/3.12/lib/python3.12/site-packages (from datasets~=3.5.0) (0.3.8)\n",
      "Requirement already satisfied: pandas in /Library/Frameworks/Python.framework/Versions/3.12/lib/python3.12/site-packages (from datasets~=3.5.0) (2.2.3)\n",
      "Requirement already satisfied: requests>=2.32.2 in /Library/Frameworks/Python.framework/Versions/3.12/lib/python3.12/site-packages (from datasets~=3.5.0) (2.32.3)\n",
      "Requirement already satisfied: tqdm>=4.66.3 in /Library/Frameworks/Python.framework/Versions/3.12/lib/python3.12/site-packages (from datasets~=3.5.0) (4.67.1)\n",
      "Requirement already satisfied: xxhash in /Library/Frameworks/Python.framework/Versions/3.12/lib/python3.12/site-packages (from datasets~=3.5.0) (3.5.0)\n",
      "Requirement already satisfied: multiprocess<0.70.17 in /Library/Frameworks/Python.framework/Versions/3.12/lib/python3.12/site-packages (from datasets~=3.5.0) (0.70.16)\n",
      "Requirement already satisfied: fsspec<=2024.12.0,>=2023.1.0 in /Library/Frameworks/Python.framework/Versions/3.12/lib/python3.12/site-packages (from fsspec[http]<=2024.12.0,>=2023.1.0->datasets~=3.5.0) (2024.12.0)\n",
      "Requirement already satisfied: aiohttp in /Library/Frameworks/Python.framework/Versions/3.12/lib/python3.12/site-packages (from datasets~=3.5.0) (3.11.16)\n",
      "Requirement already satisfied: huggingface-hub>=0.24.0 in /Library/Frameworks/Python.framework/Versions/3.12/lib/python3.12/site-packages (from datasets~=3.5.0) (0.30.2)\n",
      "Requirement already satisfied: packaging in /Library/Frameworks/Python.framework/Versions/3.12/lib/python3.12/site-packages (from datasets~=3.5.0) (24.2)\n",
      "Requirement already satisfied: pyyaml>=5.1 in /Library/Frameworks/Python.framework/Versions/3.12/lib/python3.12/site-packages (from datasets~=3.5.0) (6.0.2)\n",
      "Requirement already satisfied: aiohappyeyeballs>=2.3.0 in /Library/Frameworks/Python.framework/Versions/3.12/lib/python3.12/site-packages (from aiohttp->datasets~=3.5.0) (2.6.1)\n",
      "Requirement already satisfied: aiosignal>=1.1.2 in /Library/Frameworks/Python.framework/Versions/3.12/lib/python3.12/site-packages (from aiohttp->datasets~=3.5.0) (1.3.2)\n",
      "Requirement already satisfied: attrs>=17.3.0 in /Library/Frameworks/Python.framework/Versions/3.12/lib/python3.12/site-packages (from aiohttp->datasets~=3.5.0) (25.3.0)\n",
      "Requirement already satisfied: frozenlist>=1.1.1 in /Library/Frameworks/Python.framework/Versions/3.12/lib/python3.12/site-packages (from aiohttp->datasets~=3.5.0) (1.5.0)\n",
      "Requirement already satisfied: multidict<7.0,>=4.5 in /Library/Frameworks/Python.framework/Versions/3.12/lib/python3.12/site-packages (from aiohttp->datasets~=3.5.0) (6.4.3)\n",
      "Requirement already satisfied: propcache>=0.2.0 in /Library/Frameworks/Python.framework/Versions/3.12/lib/python3.12/site-packages (from aiohttp->datasets~=3.5.0) (0.3.1)\n",
      "Requirement already satisfied: yarl<2.0,>=1.17.0 in /Library/Frameworks/Python.framework/Versions/3.12/lib/python3.12/site-packages (from aiohttp->datasets~=3.5.0) (1.19.0)\n",
      "Requirement already satisfied: typing-extensions>=3.7.4.3 in /Library/Frameworks/Python.framework/Versions/3.12/lib/python3.12/site-packages (from huggingface-hub>=0.24.0->datasets~=3.5.0) (4.13.2)\n",
      "Requirement already satisfied: charset-normalizer<4,>=2 in /Library/Frameworks/Python.framework/Versions/3.12/lib/python3.12/site-packages (from requests>=2.32.2->datasets~=3.5.0) (3.4.1)\n",
      "Requirement already satisfied: idna<4,>=2.5 in /Library/Frameworks/Python.framework/Versions/3.12/lib/python3.12/site-packages (from requests>=2.32.2->datasets~=3.5.0) (3.10)\n",
      "Requirement already satisfied: urllib3<3,>=1.21.1 in /Library/Frameworks/Python.framework/Versions/3.12/lib/python3.12/site-packages (from requests>=2.32.2->datasets~=3.5.0) (2.4.0)\n",
      "Requirement already satisfied: certifi>=2017.4.17 in /Library/Frameworks/Python.framework/Versions/3.12/lib/python3.12/site-packages (from requests>=2.32.2->datasets~=3.5.0) (2025.1.31)\n",
      "Requirement already satisfied: python-dateutil>=2.8.2 in /Library/Frameworks/Python.framework/Versions/3.12/lib/python3.12/site-packages (from pandas->datasets~=3.5.0) (2.9.0.post0)\n",
      "Requirement already satisfied: pytz>=2020.1 in /Library/Frameworks/Python.framework/Versions/3.12/lib/python3.12/site-packages (from pandas->datasets~=3.5.0) (2025.2)\n",
      "Requirement already satisfied: tzdata>=2022.7 in /Library/Frameworks/Python.framework/Versions/3.12/lib/python3.12/site-packages (from pandas->datasets~=3.5.0) (2025.2)\n",
      "Requirement already satisfied: six>=1.5 in /Library/Frameworks/Python.framework/Versions/3.12/lib/python3.12/site-packages (from python-dateutil>=2.8.2->pandas->datasets~=3.5.0) (1.17.0)\n",
      "Requirement already satisfied: gensim in /Library/Frameworks/Python.framework/Versions/3.12/lib/python3.12/site-packages (4.3.3)\n",
      "Requirement already satisfied: numpy<2.0,>=1.18.5 in /Library/Frameworks/Python.framework/Versions/3.12/lib/python3.12/site-packages (from gensim) (1.26.4)\n",
      "Requirement already satisfied: scipy<1.14.0,>=1.7.0 in /Library/Frameworks/Python.framework/Versions/3.12/lib/python3.12/site-packages (from gensim) (1.12.0)\n",
      "Requirement already satisfied: smart-open>=1.8.1 in /Library/Frameworks/Python.framework/Versions/3.12/lib/python3.12/site-packages (from gensim) (7.1.0)\n",
      "Requirement already satisfied: wrapt in /Library/Frameworks/Python.framework/Versions/3.12/lib/python3.12/site-packages (from smart-open>=1.8.1->gensim) (1.17.2)\n",
      "zsh:1: command not found: python\n",
      "Requirement already satisfied: nltk in /Library/Frameworks/Python.framework/Versions/3.12/lib/python3.12/site-packages (3.9.1)\n",
      "Requirement already satisfied: click in /Library/Frameworks/Python.framework/Versions/3.12/lib/python3.12/site-packages (from nltk) (8.1.8)\n",
      "Requirement already satisfied: joblib in /Library/Frameworks/Python.framework/Versions/3.12/lib/python3.12/site-packages (from nltk) (1.4.2)\n",
      "Requirement already satisfied: regex>=2021.8.3 in /Library/Frameworks/Python.framework/Versions/3.12/lib/python3.12/site-packages (from nltk) (2024.11.6)\n",
      "Requirement already satisfied: tqdm in /Library/Frameworks/Python.framework/Versions/3.12/lib/python3.12/site-packages (from nltk) (4.67.1)\n",
      "Requirement already satisfied: scikit-learn in /Library/Frameworks/Python.framework/Versions/3.12/lib/python3.12/site-packages (1.6.1)\n",
      "Requirement already satisfied: numpy>=1.19.5 in /Library/Frameworks/Python.framework/Versions/3.12/lib/python3.12/site-packages (from scikit-learn) (1.26.4)\n",
      "Requirement already satisfied: scipy>=1.6.0 in /Library/Frameworks/Python.framework/Versions/3.12/lib/python3.12/site-packages (from scikit-learn) (1.12.0)\n",
      "Requirement already satisfied: joblib>=1.2.0 in /Library/Frameworks/Python.framework/Versions/3.12/lib/python3.12/site-packages (from scikit-learn) (1.4.2)\n",
      "Requirement already satisfied: threadpoolctl>=3.1.0 in /Library/Frameworks/Python.framework/Versions/3.12/lib/python3.12/site-packages (from scikit-learn) (3.5.0)\n"
     ]
    }
   ],
   "source": [
    "! pip install -U datasets~=3.5.0\n",
    "! pip install -U gensim\n",
    "! python -m pip install -U matplotlib\n",
    "! pip install nltk\n",
    "! pip install -U scikit-learn"
   ]
  },
  {
   "cell_type": "markdown",
   "metadata": {
    "collapsed": false,
    "jupyter": {
     "outputs_hidden": false
    },
    "pycharm": {
     "name": "#%% md\n"
    }
   },
   "source": [
    "Previously installed datasets library version of 3.2.0 had an error when combined with numpy version >2. If you encounter an error at some point it might require to update the datasets library to the newer version. You can do that by running the code below. If you are using Google Colab, you can run the code below in a code cell. If you are using Jupyter Notebook, you can run the code below in a code cell or in a terminal."
   ]
  },
  {
   "cell_type": "code",
   "execution_count": 2,
   "metadata": {
    "collapsed": false,
    "jupyter": {
     "outputs_hidden": false
    },
    "pycharm": {
     "name": "#%%\n"
    }
   },
   "outputs": [
    {
     "name": "stdout",
     "output_type": "stream",
     "text": [
      "Collecting datasets\n",
      "  Using cached datasets-3.5.0-py3-none-any.whl.metadata (19 kB)\n",
      "Collecting filelock (from datasets)\n",
      "  Using cached filelock-3.18.0-py3-none-any.whl.metadata (2.9 kB)\n",
      "Collecting numpy>=1.17 (from datasets)\n",
      "  Using cached numpy-2.2.4-cp312-cp312-macosx_14_0_arm64.whl.metadata (62 kB)\n",
      "Collecting pyarrow>=15.0.0 (from datasets)\n",
      "  Using cached pyarrow-19.0.1-cp312-cp312-macosx_12_0_arm64.whl.metadata (3.3 kB)\n",
      "Collecting dill<0.3.9,>=0.3.0 (from datasets)\n",
      "  Using cached dill-0.3.8-py3-none-any.whl.metadata (10 kB)\n",
      "Collecting pandas (from datasets)\n",
      "  Using cached pandas-2.2.3-cp312-cp312-macosx_11_0_arm64.whl.metadata (89 kB)\n",
      "Collecting requests>=2.32.2 (from datasets)\n",
      "  Using cached requests-2.32.3-py3-none-any.whl.metadata (4.6 kB)\n",
      "Collecting tqdm>=4.66.3 (from datasets)\n",
      "  Using cached tqdm-4.67.1-py3-none-any.whl.metadata (57 kB)\n",
      "Collecting xxhash (from datasets)\n",
      "  Using cached xxhash-3.5.0-cp312-cp312-macosx_11_0_arm64.whl.metadata (12 kB)\n",
      "Collecting multiprocess<0.70.17 (from datasets)\n",
      "  Using cached multiprocess-0.70.16-py312-none-any.whl.metadata (7.2 kB)\n",
      "Collecting fsspec<=2024.12.0,>=2023.1.0 (from fsspec[http]<=2024.12.0,>=2023.1.0->datasets)\n",
      "  Using cached fsspec-2024.12.0-py3-none-any.whl.metadata (11 kB)\n",
      "Collecting aiohttp (from datasets)\n",
      "  Using cached aiohttp-3.11.16-cp312-cp312-macosx_11_0_arm64.whl.metadata (7.7 kB)\n",
      "Collecting huggingface-hub>=0.24.0 (from datasets)\n",
      "  Using cached huggingface_hub-0.30.2-py3-none-any.whl.metadata (13 kB)\n",
      "Collecting packaging (from datasets)\n",
      "  Using cached packaging-24.2-py3-none-any.whl.metadata (3.2 kB)\n",
      "Collecting pyyaml>=5.1 (from datasets)\n",
      "  Using cached PyYAML-6.0.2-cp312-cp312-macosx_11_0_arm64.whl.metadata (2.1 kB)\n",
      "Collecting aiohappyeyeballs>=2.3.0 (from aiohttp->datasets)\n",
      "  Using cached aiohappyeyeballs-2.6.1-py3-none-any.whl.metadata (5.9 kB)\n",
      "Collecting aiosignal>=1.1.2 (from aiohttp->datasets)\n",
      "  Using cached aiosignal-1.3.2-py2.py3-none-any.whl.metadata (3.8 kB)\n",
      "Collecting attrs>=17.3.0 (from aiohttp->datasets)\n",
      "  Using cached attrs-25.3.0-py3-none-any.whl.metadata (10 kB)\n",
      "Collecting frozenlist>=1.1.1 (from aiohttp->datasets)\n",
      "  Using cached frozenlist-1.5.0-cp312-cp312-macosx_11_0_arm64.whl.metadata (13 kB)\n",
      "Collecting multidict<7.0,>=4.5 (from aiohttp->datasets)\n",
      "  Using cached multidict-6.4.3-cp312-cp312-macosx_11_0_arm64.whl.metadata (5.3 kB)\n",
      "Collecting propcache>=0.2.0 (from aiohttp->datasets)\n",
      "  Using cached propcache-0.3.1-cp312-cp312-macosx_11_0_arm64.whl.metadata (10 kB)\n",
      "Collecting yarl<2.0,>=1.17.0 (from aiohttp->datasets)\n",
      "  Using cached yarl-1.19.0-cp312-cp312-macosx_11_0_arm64.whl.metadata (71 kB)\n",
      "Collecting typing-extensions>=3.7.4.3 (from huggingface-hub>=0.24.0->datasets)\n",
      "  Using cached typing_extensions-4.13.2-py3-none-any.whl.metadata (3.0 kB)\n",
      "Collecting charset-normalizer<4,>=2 (from requests>=2.32.2->datasets)\n",
      "  Using cached charset_normalizer-3.4.1-cp312-cp312-macosx_10_13_universal2.whl.metadata (35 kB)\n",
      "Collecting idna<4,>=2.5 (from requests>=2.32.2->datasets)\n",
      "  Using cached idna-3.10-py3-none-any.whl.metadata (10 kB)\n",
      "Collecting urllib3<3,>=1.21.1 (from requests>=2.32.2->datasets)\n",
      "  Using cached urllib3-2.4.0-py3-none-any.whl.metadata (6.5 kB)\n",
      "Collecting certifi>=2017.4.17 (from requests>=2.32.2->datasets)\n",
      "  Using cached certifi-2025.1.31-py3-none-any.whl.metadata (2.5 kB)\n",
      "Collecting python-dateutil>=2.8.2 (from pandas->datasets)\n",
      "  Using cached python_dateutil-2.9.0.post0-py2.py3-none-any.whl.metadata (8.4 kB)\n",
      "Collecting pytz>=2020.1 (from pandas->datasets)\n",
      "  Using cached pytz-2025.2-py2.py3-none-any.whl.metadata (22 kB)\n",
      "Collecting tzdata>=2022.7 (from pandas->datasets)\n",
      "  Using cached tzdata-2025.2-py2.py3-none-any.whl.metadata (1.4 kB)\n",
      "Collecting six>=1.5 (from python-dateutil>=2.8.2->pandas->datasets)\n",
      "  Using cached six-1.17.0-py2.py3-none-any.whl.metadata (1.7 kB)\n",
      "Using cached datasets-3.5.0-py3-none-any.whl (491 kB)\n",
      "Using cached dill-0.3.8-py3-none-any.whl (116 kB)\n",
      "Using cached fsspec-2024.12.0-py3-none-any.whl (183 kB)\n",
      "Using cached aiohttp-3.11.16-cp312-cp312-macosx_11_0_arm64.whl (456 kB)\n",
      "Using cached huggingface_hub-0.30.2-py3-none-any.whl (481 kB)\n",
      "Using cached multiprocess-0.70.16-py312-none-any.whl (146 kB)\n",
      "Using cached numpy-2.2.4-cp312-cp312-macosx_14_0_arm64.whl (5.2 MB)\n",
      "Using cached packaging-24.2-py3-none-any.whl (65 kB)\n",
      "Using cached pyarrow-19.0.1-cp312-cp312-macosx_12_0_arm64.whl (30.7 MB)\n",
      "Using cached PyYAML-6.0.2-cp312-cp312-macosx_11_0_arm64.whl (173 kB)\n",
      "Using cached requests-2.32.3-py3-none-any.whl (64 kB)\n",
      "Using cached tqdm-4.67.1-py3-none-any.whl (78 kB)\n",
      "Using cached filelock-3.18.0-py3-none-any.whl (16 kB)\n",
      "Using cached pandas-2.2.3-cp312-cp312-macosx_11_0_arm64.whl (11.4 MB)\n",
      "Using cached xxhash-3.5.0-cp312-cp312-macosx_11_0_arm64.whl (30 kB)\n",
      "Using cached aiohappyeyeballs-2.6.1-py3-none-any.whl (15 kB)\n",
      "Using cached aiosignal-1.3.2-py2.py3-none-any.whl (7.6 kB)\n",
      "Using cached attrs-25.3.0-py3-none-any.whl (63 kB)\n",
      "Using cached certifi-2025.1.31-py3-none-any.whl (166 kB)\n",
      "Using cached charset_normalizer-3.4.1-cp312-cp312-macosx_10_13_universal2.whl (196 kB)\n",
      "Using cached frozenlist-1.5.0-cp312-cp312-macosx_11_0_arm64.whl (51 kB)\n",
      "Using cached idna-3.10-py3-none-any.whl (70 kB)\n",
      "Using cached multidict-6.4.3-cp312-cp312-macosx_11_0_arm64.whl (37 kB)\n",
      "Using cached propcache-0.3.1-cp312-cp312-macosx_11_0_arm64.whl (46 kB)\n",
      "Using cached python_dateutil-2.9.0.post0-py2.py3-none-any.whl (229 kB)\n",
      "Using cached pytz-2025.2-py2.py3-none-any.whl (509 kB)\n",
      "Using cached typing_extensions-4.13.2-py3-none-any.whl (45 kB)\n",
      "Using cached tzdata-2025.2-py2.py3-none-any.whl (347 kB)\n",
      "Using cached urllib3-2.4.0-py3-none-any.whl (128 kB)\n",
      "Using cached yarl-1.19.0-cp312-cp312-macosx_11_0_arm64.whl (95 kB)\n",
      "Using cached six-1.17.0-py2.py3-none-any.whl (11 kB)\n",
      "Installing collected packages: pytz, xxhash, urllib3, tzdata, typing-extensions, tqdm, six, pyyaml, pyarrow, propcache, packaging, numpy, multidict, idna, fsspec, frozenlist, filelock, dill, charset-normalizer, certifi, attrs, aiohappyeyeballs, yarl, requests, python-dateutil, multiprocess, aiosignal, pandas, huggingface-hub, aiohttp, datasets\n",
      "  Attempting uninstall: pytz\n",
      "    Found existing installation: pytz 2025.2\n",
      "    Uninstalling pytz-2025.2:\n",
      "      Successfully uninstalled pytz-2025.2\n",
      "  Attempting uninstall: xxhash\n",
      "    Found existing installation: xxhash 3.5.0\n",
      "    Uninstalling xxhash-3.5.0:\n",
      "      Successfully uninstalled xxhash-3.5.0\n",
      "  Attempting uninstall: urllib3\n",
      "    Found existing installation: urllib3 2.4.0\n",
      "    Uninstalling urllib3-2.4.0:\n",
      "      Successfully uninstalled urllib3-2.4.0\n",
      "  Attempting uninstall: tzdata\n",
      "    Found existing installation: tzdata 2025.2\n",
      "    Uninstalling tzdata-2025.2:\n",
      "      Successfully uninstalled tzdata-2025.2\n",
      "  Attempting uninstall: typing-extensions\n",
      "    Found existing installation: typing_extensions 4.13.2\n",
      "    Uninstalling typing_extensions-4.13.2:\n",
      "      Successfully uninstalled typing_extensions-4.13.2\n",
      "  Attempting uninstall: tqdm\n",
      "    Found existing installation: tqdm 4.67.1\n",
      "    Uninstalling tqdm-4.67.1:\n",
      "      Successfully uninstalled tqdm-4.67.1\n",
      "  Attempting uninstall: six\n",
      "    Found existing installation: six 1.17.0\n",
      "    Uninstalling six-1.17.0:\n",
      "      Successfully uninstalled six-1.17.0\n",
      "  Attempting uninstall: pyyaml\n",
      "    Found existing installation: PyYAML 6.0.2\n",
      "    Uninstalling PyYAML-6.0.2:\n",
      "      Successfully uninstalled PyYAML-6.0.2\n",
      "  Attempting uninstall: pyarrow\n",
      "    Found existing installation: pyarrow 19.0.1\n",
      "    Uninstalling pyarrow-19.0.1:\n",
      "      Successfully uninstalled pyarrow-19.0.1\n",
      "  Attempting uninstall: propcache\n",
      "    Found existing installation: propcache 0.3.1\n",
      "    Uninstalling propcache-0.3.1:\n",
      "      Successfully uninstalled propcache-0.3.1\n",
      "  Attempting uninstall: packaging\n",
      "    Found existing installation: packaging 24.2\n",
      "    Uninstalling packaging-24.2:\n",
      "      Successfully uninstalled packaging-24.2\n",
      "  Attempting uninstall: numpy\n",
      "    Found existing installation: numpy 1.26.4\n",
      "    Uninstalling numpy-1.26.4:\n",
      "      Successfully uninstalled numpy-1.26.4\n",
      "  Attempting uninstall: multidict\n",
      "    Found existing installation: multidict 6.4.3\n",
      "    Uninstalling multidict-6.4.3:\n",
      "      Successfully uninstalled multidict-6.4.3\n",
      "  Attempting uninstall: idna\n",
      "    Found existing installation: idna 3.10\n",
      "    Uninstalling idna-3.10:\n",
      "      Successfully uninstalled idna-3.10\n",
      "  Attempting uninstall: fsspec\n",
      "    Found existing installation: fsspec 2024.12.0\n",
      "    Uninstalling fsspec-2024.12.0:\n",
      "      Successfully uninstalled fsspec-2024.12.0\n",
      "  Attempting uninstall: frozenlist\n",
      "    Found existing installation: frozenlist 1.5.0\n",
      "    Uninstalling frozenlist-1.5.0:\n",
      "      Successfully uninstalled frozenlist-1.5.0\n",
      "  Attempting uninstall: filelock\n",
      "    Found existing installation: filelock 3.18.0\n",
      "    Uninstalling filelock-3.18.0:\n",
      "      Successfully uninstalled filelock-3.18.0\n",
      "  Attempting uninstall: dill\n",
      "    Found existing installation: dill 0.3.8\n",
      "    Uninstalling dill-0.3.8:\n",
      "      Successfully uninstalled dill-0.3.8\n",
      "  Attempting uninstall: charset-normalizer\n",
      "    Found existing installation: charset-normalizer 3.4.1\n",
      "    Uninstalling charset-normalizer-3.4.1:\n",
      "      Successfully uninstalled charset-normalizer-3.4.1\n",
      "  Attempting uninstall: certifi\n",
      "    Found existing installation: certifi 2025.1.31\n",
      "    Uninstalling certifi-2025.1.31:\n",
      "      Successfully uninstalled certifi-2025.1.31\n",
      "  Attempting uninstall: attrs\n",
      "    Found existing installation: attrs 25.3.0\n",
      "    Uninstalling attrs-25.3.0:\n",
      "      Successfully uninstalled attrs-25.3.0\n",
      "  Attempting uninstall: aiohappyeyeballs\n",
      "    Found existing installation: aiohappyeyeballs 2.6.1\n",
      "    Uninstalling aiohappyeyeballs-2.6.1:\n",
      "      Successfully uninstalled aiohappyeyeballs-2.6.1\n",
      "  Attempting uninstall: yarl\n",
      "    Found existing installation: yarl 1.19.0\n",
      "    Uninstalling yarl-1.19.0:\n",
      "      Successfully uninstalled yarl-1.19.0\n",
      "  Attempting uninstall: requests\n",
      "    Found existing installation: requests 2.32.3\n",
      "    Uninstalling requests-2.32.3:\n",
      "      Successfully uninstalled requests-2.32.3\n",
      "  Attempting uninstall: python-dateutil\n",
      "    Found existing installation: python-dateutil 2.9.0.post0\n",
      "    Uninstalling python-dateutil-2.9.0.post0:\n",
      "      Successfully uninstalled python-dateutil-2.9.0.post0\n",
      "  Attempting uninstall: multiprocess\n",
      "    Found existing installation: multiprocess 0.70.16\n",
      "    Uninstalling multiprocess-0.70.16:\n",
      "      Successfully uninstalled multiprocess-0.70.16\n",
      "  Attempting uninstall: aiosignal\n",
      "    Found existing installation: aiosignal 1.3.2\n",
      "    Uninstalling aiosignal-1.3.2:\n",
      "      Successfully uninstalled aiosignal-1.3.2\n",
      "  Attempting uninstall: pandas\n",
      "    Found existing installation: pandas 2.2.3\n",
      "    Uninstalling pandas-2.2.3:\n",
      "      Successfully uninstalled pandas-2.2.3\n",
      "  Attempting uninstall: huggingface-hub\n",
      "    Found existing installation: huggingface-hub 0.30.2\n",
      "    Uninstalling huggingface-hub-0.30.2:\n",
      "      Successfully uninstalled huggingface-hub-0.30.2\n",
      "  Attempting uninstall: aiohttp\n",
      "    Found existing installation: aiohttp 3.11.16\n",
      "    Uninstalling aiohttp-3.11.16:\n",
      "      Successfully uninstalled aiohttp-3.11.16\n",
      "  Attempting uninstall: datasets\n",
      "    Found existing installation: datasets 3.5.0\n",
      "    Uninstalling datasets-3.5.0:\n",
      "      Successfully uninstalled datasets-3.5.0\n",
      "\u001b[31mERROR: pip's dependency resolver does not currently take into account all the packages that are installed. This behaviour is the source of the following dependency conflicts.\n",
      "gensim 4.3.3 requires numpy<2.0,>=1.18.5, but you have numpy 2.2.4 which is incompatible.\n",
      "contourpy 1.2.0 requires numpy<2.0,>=1.20, but you have numpy 2.2.4 which is incompatible.\n",
      "statsmodels 0.14.1 requires numpy<2,>=1.18, but you have numpy 2.2.4 which is incompatible.\n",
      "scipy 1.12.0 requires numpy<1.29.0,>=1.22.4, but you have numpy 2.2.4 which is incompatible.\u001b[0m\u001b[31m\n",
      "\u001b[0mSuccessfully installed aiohappyeyeballs-2.6.1 aiohttp-3.11.16 aiosignal-1.3.2 attrs-25.3.0 certifi-2025.1.31 charset-normalizer-3.4.1 datasets-3.5.0 dill-0.3.8 filelock-3.18.0 frozenlist-1.5.0 fsspec-2024.12.0 huggingface-hub-0.30.2 idna-3.10 multidict-6.4.3 multiprocess-0.70.16 numpy-2.2.4 packaging-24.2 pandas-2.2.3 propcache-0.3.1 pyarrow-19.0.1 python-dateutil-2.9.0.post0 pytz-2025.2 pyyaml-6.0.2 requests-2.32.3 six-1.17.0 tqdm-4.67.1 typing-extensions-4.13.2 tzdata-2025.2 urllib3-2.4.0 xxhash-3.5.0 yarl-1.19.0\n"
     ]
    }
   ],
   "source": [
    "! pip install --upgrade --force-reinstall datasets"
   ]
  },
  {
   "cell_type": "markdown",
   "metadata": {
    "collapsed": false,
    "id": "5CCI1TPJpSOF",
    "jupyter": {
     "outputs_hidden": false
    },
    "pycharm": {
     "name": "#%% md\n"
    }
   },
   "source": [
    "As usual, we start by importing some essential Python libraries and we will be using. Apart from `gensim` (which is going to be used for word embeddings), we have already seen the others."
   ]
  },
  {
   "cell_type": "code",
   "execution_count": 49,
   "metadata": {
    "id": "CRe8W4hKpSOF",
    "pycharm": {
     "name": "#%%\n"
    }
   },
   "outputs": [
    {
     "name": "stderr",
     "output_type": "stream",
     "text": [
      "[nltk_data] Downloading package stopwords to\n",
      "[nltk_data]     /Users/martaadamowska/nltk_data...\n",
      "[nltk_data]   Package stopwords is already up-to-date!\n",
      "[nltk_data] Error loading word_tokenize: Package 'word_tokenize' not\n",
      "[nltk_data]     found in index\n",
      "[nltk_data] Downloading package wordnet to\n",
      "[nltk_data]     /Users/martaadamowska/nltk_data...\n",
      "[nltk_data]   Package wordnet is already up-to-date!\n"
     ]
    }
   ],
   "source": [
    "import re\n",
    "\n",
    "import numpy as np\n",
    "import matplotlib.pyplot as plt\n",
    "import datasets\n",
    "import tqdm\n",
    "import gensim\n",
    "import ssl\n",
    "import string\n",
    "\n",
    "import nltk\n",
    "nltk.download('stopwords')\n",
    "from nltk.corpus import stopwords\n",
    "nltk.download('word_tokenize')\n",
    "from nltk.tokenize import word_tokenize\n",
    "nltk.download('wordnet')\n",
    "from nltk.stem import WordNetLemmatizer\n",
    "\n",
    "\n",
    "try:\n",
    "    _create_unverified_https_context = ssl._create_unverified_context\n",
    "except AttributeError:\n",
    "    pass\n",
    "else:\n",
    "    ssl._create_default_https_context = _create_unverified_https_context\n",
    "\n"
   ]
  },
  {
   "cell_type": "markdown",
   "metadata": {
    "collapsed": false,
    "id": "NXy-1KiCpSOF",
    "jupyter": {
     "outputs_hidden": false
    },
    "pycharm": {
     "name": "#%% md\n"
    }
   },
   "source": [
    "## 1. Load and Preprocess Data\n",
    "\n",
    "*Sentence compression* involves rephrasing sentences to make them shorter while still retaining the original meaning. A reliable compression system would be valuable for mobile devices and could also serve as a component in an extractive summarization system.\n",
    "\n",
    "The dataset we are going to use can be found on [Huggingface](https://huggingface.co/datasets/embedding-data/sentence-compression). It concerns a set of 180,000 pairs of sentences, aka it is a parallel corpus of sentences and their equivalent compressions. It has been collected by harvesting news articles from the Internet where the headline appears to be similar to the first sentence and that property is used to find an \"extractive\" compression of the sentence.\n",
    "\n",
    "For example, for the sentence\n",
    "\n",
    "`\"Regulators Friday shut down a small Florida bank, bringing to 119 the number of US bank failures this year amid mounting loan defaults\"`\n",
    "\n",
    "the compressed equivalent (based on the dataset) is:\n",
    "\n",
    "`\"Regulators shut down small Florida bank\"`.\n",
    "\n",
    "\n",
    "For more information you can read the original paper (from Google) [here](https://aclanthology.org/D13-1155.pdf). We strongly recommend going over the paper to gain further insights. Notice that the paper is from 2013, therefore word embeddings have not been widely introduced yet in NLP tasks, meaning that the methods applied were based on the traditional NLP pipeline (feature extraction + ML)."
   ]
  },
  {
   "cell_type": "markdown",
   "metadata": {
    "collapsed": false,
    "id": "ztJX2GRVpSOF",
    "jupyter": {
     "outputs_hidden": false
    },
    "pycharm": {
     "name": "#%% md\n"
    }
   },
   "source": [
    "### 1.1 Loading the Dataset\n",
    "\n",
    "The dataset will be loaded as a Pandas DataFrame. This may take a few minutes because of the large size of the data.\n",
    "\n",
    "Make sure to inspect the dataset and make sure it is imported properly."
   ]
  },
  {
   "cell_type": "code",
   "execution_count": 2,
   "metadata": {
    "id": "tay2NXPTpSOG",
    "pycharm": {
     "name": "#%%\n"
    }
   },
   "outputs": [
    {
     "name": "stdout",
     "output_type": "stream",
     "text": [
      "DatasetDict({\n",
      "    train: Dataset({\n",
      "        features: ['set'],\n",
      "        num_rows: 180000\n",
      "    })\n",
      "})\n"
     ]
    }
   ],
   "source": [
    "ds = datasets.load_dataset('embedding-data/sentence-compression')\n",
    "print(ds)"
   ]
  },
  {
   "cell_type": "code",
   "execution_count": 3,
   "metadata": {
    "id": "bUud3eZVpSOH",
    "pycharm": {
     "name": "#%%\n"
    }
   },
   "outputs": [
    {
     "name": "stdout",
     "output_type": "stream",
     "text": [
      "{'set': [\"The USHL completed an expansion draft on Monday as 10 players who were on the rosters of USHL teams during the 2009-10 season were selected by the League's two newest entries, the Muskegon Lumberjacks and Dubuque Fighting Saints.\", 'USHL completes expansion draft']}\n",
      "{'set': ['Major League Baseball Commissioner Bud Selig will be speaking at St. Norbert College next month.', 'Bud Selig to speak at St. Norbert College']}\n",
      "{'set': [\"It's fresh cherry time in Michigan and the best time to enjoy this delicious and nutritious fruit.\", \"It's cherry time\"]}\n",
      "{'set': ['An Evesham man is facing charges in Pennsylvania after he allegedly dragged his girlfriend from the side of his pickup truck on the campus of Kutztown University in the early morning hours of Dec. 5, police said.', 'Evesham man faces charges for Pa.']}\n",
      "{'set': [\"NRT LLC, one of the nation's largest residential real estate brokerage companies, announced several executive appointments within its Coldwell Banker Residential Brokerage operations in Southern California.\", 'NRT announces executive appointments at its Coldwell Banker operations in Southern California']}\n",
      "{'set': ['THE JSE kept toying with an all time high by midday today as resources continued to fuel the bourse.', 'JSE keeps toying with all time high']}\n",
      "{'set': ['The government is defending the latest police crime statistics despite a worrying rise in the recorded amount of violent offending.', 'Government defends crime statistics']}\n",
      "{'set': ['The renovated Marappalam bridge, which had been opened for two-wheelers last week, was opened for other vehicles also on Friday.', 'Marappalam bridge opened']}\n",
      "{'set': ['A new survey shows 30 percent of Californians use Twitter, and more and more of us are using our smart phones to go online.', 'Survey: 30 percent of Californians use Twitter']}\n",
      "{'set': ['Brightpoint ,a provider of logistic services to the mobile industry, has started operations in the Turkish market.', 'Brightpoint starts operations on Turkish market']}\n"
     ]
    }
   ],
   "source": [
    "for i in range(10):\n",
    "    print(ds['train'][i])"
   ]
  },
  {
   "cell_type": "markdown",
   "metadata": {
    "collapsed": false,
    "id": "HfJSiWxrpSOH",
    "jupyter": {
     "outputs_hidden": false
    },
    "pycharm": {
     "name": "#%% md\n"
    }
   },
   "source": [
    "The dataset comes with only the `train` split so we will have to split it ourselves."
   ]
  },
  {
   "cell_type": "code",
   "execution_count": 4,
   "metadata": {
    "id": "tATL53MWpSOH",
    "pycharm": {
     "name": "#%%\n"
    }
   },
   "outputs": [
    {
     "name": "stdout",
     "output_type": "stream",
     "text": [
      "DatasetDict({\n",
      "    train: Dataset({\n",
      "        features: ['set'],\n",
      "        num_rows: 144000\n",
      "    })\n",
      "    test: Dataset({\n",
      "        features: ['set'],\n",
      "        num_rows: 36000\n",
      "    })\n",
      "})\n"
     ]
    }
   ],
   "source": [
    "split_ds = ds['train'].train_test_split(test_size=0.2)\n",
    "print(split_ds)"
   ]
  },
  {
   "cell_type": "markdown",
   "metadata": {
    "collapsed": false,
    "id": "L133t3CqpSOH",
    "jupyter": {
     "outputs_hidden": false
    },
    "pycharm": {
     "name": "#%% md\n"
    }
   },
   "source": [
    "### 1.2 Preprocessing the dataset\n",
    "In this section we will prepare the dataset, aka clean the sentences and tokenize.\n",
    "\n",
    "First, let's write the function to clean the text. It can be similar to the one from the previous lab (Lab1) but make sure that it makes sense for this dataset and task.\n",
    "\n",
    "More specifically, think about lower-casing, punctuation, stop-words and lemmatization/stemming and the impact it might have on the dataset. Also reflect on the fact that with word embeddings we want to uncover semantic relationships between words, whereas with bag-of-words we were trying to capture different morphological variations."
   ]
  },
  {
   "cell_type": "markdown",
   "metadata": {
    "collapsed": false,
    "id": "mQszN6GNpSOH",
    "jupyter": {
     "outputs_hidden": false
    },
    "pycharm": {
     "name": "#%% md\n"
    }
   },
   "source": [
    "<a name='e1'></a>\n",
    "### Exercise 1: Clean function\n",
    "(1p) Fill in the following function ot clean the dataset. Implement at least 3 different steps."
   ]
  },
  {
   "cell_type": "code",
   "execution_count": null,
   "metadata": {
    "id": "TxjfLQj6pSOH",
    "pycharm": {
     "name": "#%%\n"
    }
   },
   "outputs": [],
   "source": [
    "def clean(text):\n",
    "    \"\"\"\n",
    "    Cleans the given text\n",
    "    Args:\n",
    "        text: a str with the text to clean\n",
    "\n",
    "    Returns: a str with the cleaned text\n",
    "\n",
    "    \"\"\"\n",
    "\n",
    "    # Empty text\n",
    "    if text == '':\n",
    "        return text\n",
    "\n",
    "    # 'text' from the example can be of type numpy.str_, let's convert it to a python str\n",
    "    text = str(text)\n",
    "\n",
    "    #you might need more\n",
    "    #add them here\n",
    "\n",
    "    ### YOUR CODE HERE\n",
    "    \n",
    "    # make all letters lowercase\n",
    "    text = text.lower()\n",
    "\n",
    "    # remove puncation\n",
    "    for char in text:\n",
    "        if (char in string.punctuation ):\n",
    "            text = text.replace(char,\"\")\n",
    "        \n",
    "    # split text into words\n",
    "    text_words = text.split()\n",
    "    # remove stop words\n",
    "    cleared_words = [] # cleared text as an array\n",
    "    lemmantizer = WordNetLemmatizer() # create a lemmantizer\n",
    "    for word in text_words:\n",
    "        # add only non-stop words and lemantise them before adding\n",
    "        if(word not in stopwords.words('english')):\n",
    "            cleared_words.append(lemmantizer.lemmatize(word))\n",
    "        \n",
    "    text = ' '.join(cleared_words) # cleared text as a string\n",
    "\n",
    "    ### YOUR CODE ENDS HERE\n",
    "\n",
    "    text = text.strip()\n",
    "\n",
    "    # Update the example with the cleaned text\n",
    "    return text"
   ]
  },
  {
   "cell_type": "code",
   "execution_count": null,
   "metadata": {},
   "outputs": [
    {
     "name": "stdout",
     "output_type": "stream",
     "text": [
      "running 2 dog saw cat\n"
     ]
    }
   ],
   "source": [
    "#print(clean(\"I was running with my 2 dogs and I saw a cat.\"))"
   ]
  },
  {
   "cell_type": "markdown",
   "metadata": {
    "collapsed": false,
    "id": "gAqf1AoupSOJ",
    "jupyter": {
     "outputs_hidden": false
    },
    "pycharm": {
     "name": "#%% md\n"
    }
   },
   "source": [
    "The following function will apply the function (sic) you just wrote to the whole dataset. More specifically, it takes the first entry (`sentence`) from the set of uncompressed/compressed pairs, applies the `clean` function and saves the processed sentence in the field `clean_sentence`. The same is dome for the compressed version of the sentence (saved as `clean_compressed`)."
   ]
  },
  {
   "cell_type": "code",
   "execution_count": 43,
   "metadata": {
    "id": "WZn-M4_vpSOJ",
    "pycharm": {
     "name": "#%%\n"
    }
   },
   "outputs": [],
   "source": [
    "def clean_dataset(example):\n",
    "    \"\"\"\n",
    "    Cleans the sentence and compressed sentence in the example from the Dataset\n",
    "    Args:\n",
    "        example: an example from the Dataset\n",
    "\n",
    "    Returns: updated example with 'clean_sentence' and 'clean_compressed' cleaned\n",
    "\n",
    "    \"\"\"\n",
    "    sentence, compressed = example['set']\n",
    "    clean_sentence = clean(sentence)\n",
    "    clean_compressed = clean(compressed)\n",
    "    example['clean_sentence'] = clean_sentence\n",
    "    example['clean_compressed'] = clean_compressed\n",
    "    return example"
   ]
  },
  {
   "cell_type": "markdown",
   "metadata": {
    "collapsed": false,
    "id": "_KVujosKpSOJ",
    "jupyter": {
     "outputs_hidden": false
    },
    "pycharm": {
     "name": "#%% md\n"
    }
   },
   "source": [
    "Below we apply the function to the whole dataset (using `map`) and we can also inspect the result."
   ]
  },
  {
   "cell_type": "code",
   "execution_count": 44,
   "metadata": {
    "id": "NBS1JbISpSOJ",
    "pycharm": {
     "name": "#%%\n"
    }
   },
   "outputs": [
    {
     "data": {
      "application/vnd.jupyter.widget-view+json": {
       "model_id": "13ae9e1bbbd1419db94134681ff37371",
       "version_major": 2,
       "version_minor": 0
      },
      "text/plain": [
       "Map:   0%|          | 0/144000 [00:00<?, ? examples/s]"
      ]
     },
     "metadata": {},
     "output_type": "display_data"
    },
    {
     "data": {
      "application/vnd.jupyter.widget-view+json": {
       "model_id": "a49250bb13a842fd89553584d9afb608",
       "version_major": 2,
       "version_minor": 0
      },
      "text/plain": [
       "Map:   0%|          | 0/36000 [00:00<?, ? examples/s]"
      ]
     },
     "metadata": {},
     "output_type": "display_data"
    },
    {
     "name": "stdout",
     "output_type": "stream",
     "text": [
      "DatasetDict({\n",
      "    train: Dataset({\n",
      "        features: ['set', 'clean_sentence', 'clean_compressed'],\n",
      "        num_rows: 144000\n",
      "    })\n",
      "    test: Dataset({\n",
      "        features: ['set', 'clean_sentence', 'clean_compressed'],\n",
      "        num_rows: 36000\n",
      "    })\n",
      "})\n"
     ]
    }
   ],
   "source": [
    "split_ds = split_ds.map(clean_dataset)\n",
    "print(split_ds)"
   ]
  },
  {
   "cell_type": "markdown",
   "metadata": {
    "collapsed": false,
    "id": "X_ThE9H-pSOJ",
    "jupyter": {
     "outputs_hidden": false
    },
    "pycharm": {
     "name": "#%% md\n"
    }
   },
   "source": [
    "Let's examine some examples from the dataset and make sure that we got the results we wanted. At this step, it might be necessary to revisit some pre-processing steps if you are not happy with the results."
   ]
  },
  {
   "cell_type": "code",
   "execution_count": 45,
   "metadata": {
    "id": "hP-qOPijpSOJ",
    "pycharm": {
     "name": "#%%\n"
    }
   },
   "outputs": [
    {
     "name": "stdout",
     "output_type": "stream",
     "text": [
      "{'set': ['AN Edwinstowe motorist died after losing control of his high-performance car and colliding with traffic on the opposite side of the road, an inquest was told.', 'Motorist died after losing control of car'], 'clean_sentence': 'edwinstowe motorist died losing control highperformance car colliding traffic opposite side road inquest told', 'clean_compressed': 'motorist died losing control car'}\n",
      "{'set': ['The shekel is strengthening against the dollar, but weakening against the euro, in morning inter-bank trading today.', 'Shekel strengthens against dollar'], 'clean_sentence': 'shekel strengthening dollar weakening euro morning interbank trading today', 'clean_compressed': 'shekel strengthens dollar'}\n",
      "{'set': ['Azerbaijan has agreed to introduce an incident investigation mechanism in Nagorno-Karabakh, Trend reports on Thursday.', 'Azerbaijan agrees to introduce incident investigation mechanism in Karabakh'], 'clean_sentence': 'azerbaijan agreed introduce incident investigation mechanism nagornokarabakh trend report thursday', 'clean_compressed': 'azerbaijan agrees introduce incident investigation mechanism karabakh'}\n",
      "{'set': ['A Corsham man has pleaded guilty to the manslaughter of Michael Walsh following an incident at the Rudloe Community Centre in March this year.', 'Corsham man pleads guilty to manslaughter'], 'clean_sentence': 'corsham man pleaded guilty manslaughter michael walsh following incident rudloe community centre march year', 'clean_compressed': 'corsham man pleads guilty manslaughter'}\n",
      "{'set': [\"Porn Actress Sunny Leone participating in Reality Show, Sunny Leone's presence became hit among teenagers in India, but parents, teachers and Social workers protested against this\", 'Porn Actress Sunny Leone participating in Reality Show, hit among teenagers'], 'clean_sentence': 'porn actress sunny leone participating reality show sunny leone presence became hit among teenager india parent teacher social worker protested', 'clean_compressed': 'porn actress sunny leone participating reality show hit among teenager'}\n",
      "{'set': ['In the wake of killing of 14 Hindi-speaking workers in Manipur, the Centre on Wednesday said there was a design to create problems in the name of language and region in various parts of the country and asked states to identify trouble spots for taking anticipatory action.', \"'There is design to create problems in name of region'\"], 'clean_sentence': 'wake killing 14 hindispeaking worker manipur centre wednesday said design create problem name language region various part country asked state identify trouble spot taking anticipatory action', 'clean_compressed': 'design create problem name region'}\n",
      "{'set': ['She said that it is looking more and more likely that Croatia will join the European Union in 2012.', \"Croatia ``to join EU in 2012''\"], 'clean_sentence': 'said looking likely croatia join european union 2012', 'clean_compressed': 'croatia join eu 2012'}\n",
      "{'set': ['A woman shot in the neck during a home invasion walked across the street to a beauty salon to ask for help.', 'Woman shot in neck during home invasion'], 'clean_sentence': 'woman shot neck home invasion walked across street beauty salon ask help', 'clean_compressed': 'woman shot neck home invasion'}\n",
      "{'set': ['THE short end of the South African bond curve drooped in midday trade on Friday despite a firmer rand and an 89 cents per litre cut in the retail petrol price, which will be implemented on July 4.', 'Short end droops despite rand'], 'clean_sentence': 'short end south african bond curve drooped midday trade friday despite firmer rand 89 cent per litre cut retail petrol price implemented july 4', 'clean_compressed': 'short end droop despite rand'}\n",
      "{'set': ['Consumer confidence is returning to the housing market with two-thirds of people thinking now is a good time to buy a new home, a survey has found.', \"Confidence 'returning to market'\"], 'clean_sentence': 'consumer confidence returning housing market twothirds people thinking good time buy new home survey found', 'clean_compressed': 'confidence returning market'}\n"
     ]
    }
   ],
   "source": [
    "for i in range(10):\n",
    "    print(split_ds['train'][i])"
   ]
  },
  {
   "cell_type": "markdown",
   "metadata": {
    "collapsed": false,
    "id": "7LI2KlfypSOJ",
    "jupyter": {
     "outputs_hidden": false
    },
    "pycharm": {
     "name": "#%% md\n"
    }
   },
   "source": [
    "<a name='e2'></a>\n",
    "### Exercise 2: Tokenize function\n",
    "\n",
    "(1p) As always, we will need to tokenize the dataset in order to create bat-of-words and TF-IDF representations in the next sections. We will use the [Natural Language Toolkit (NLTK) library]([https://www.nltk.org/]) (https://www.nltk.org/). Complete the following function to split the text into tokens using the `word_tokenize()` function. Check the [documentation](https://www.nltk.org/api/nltk.tokenize.word_tokenize.html?highlight=word_tokenize) first.\n",
    "Note that there are different tokenizers e.g. `RegexpTokenizer` where you can enter your own regexp, `WhitespaceTokenizer` (similar to Python's string.split()) and `BlanklineTokenizer`."
   ]
  },
  {
   "cell_type": "code",
   "execution_count": 50,
   "metadata": {
    "id": "sb-M3V6ApSOK",
    "pycharm": {
     "name": "#%%\n"
    }
   },
   "outputs": [],
   "source": [
    "def tokenize(text):\n",
    "    \"\"\"\n",
    "    Tokenizes the `text` parameter using nltk library\n",
    "    Args:\n",
    "        text: a string representing a sentence to be tokenized\n",
    "\n",
    "    Returns: a list of tokens (strings)\n",
    "\n",
    "    \"\"\"\n",
    "\n",
    "    ### YOUR CODE HERE\n",
    "\n",
    "    tokens = word_tokenize(text)\n",
    "\n",
    "    ### YOUR CODE ENDS HERE\n",
    "    return tokens"
   ]
  },
  {
   "cell_type": "markdown",
   "metadata": {
    "collapsed": false,
    "id": "gwsHqZc9pSOK",
    "jupyter": {
     "outputs_hidden": false
    },
    "pycharm": {
     "name": "#%% md\n"
    }
   },
   "source": [
    "Next, the function will be applied to the whole dataset (as we did with the pre-processing) and `sentence_tokens` field will be created to store the result."
   ]
  },
  {
   "cell_type": "code",
   "execution_count": 51,
   "metadata": {
    "id": "6sTX-AcTpSOK",
    "pycharm": {
     "name": "#%%\n"
    }
   },
   "outputs": [],
   "source": [
    "def tokenize_dataset(example):\n",
    "    \"\"\"\n",
    "    Tokenizes 'clean_sentence' columns in the example from the Dataset\n",
    "    Args:\n",
    "        example: an example from the Dataset\n",
    "\n",
    "    Returns: updated example with 'sentence_tokens' columns\n",
    "\n",
    "    \"\"\"\n",
    "    example['sentence_tokens'] = tokenize(example['clean_sentence'])\n",
    "    example['compressed_tokens'] = tokenize(example['clean_compressed'])\n",
    "    return example"
   ]
  },
  {
   "cell_type": "code",
   "execution_count": 52,
   "metadata": {
    "id": "jvwmXLj2pSOK",
    "pycharm": {
     "name": "#%%\n"
    }
   },
   "outputs": [
    {
     "data": {
      "application/vnd.jupyter.widget-view+json": {
       "model_id": "ebd270df742d449e9641277991147575",
       "version_major": 2,
       "version_minor": 0
      },
      "text/plain": [
       "Map:   0%|          | 0/144000 [00:00<?, ? examples/s]"
      ]
     },
     "metadata": {},
     "output_type": "display_data"
    },
    {
     "data": {
      "application/vnd.jupyter.widget-view+json": {
       "model_id": "55d98464cf584d08a59b59ad7f67e2b7",
       "version_major": 2,
       "version_minor": 0
      },
      "text/plain": [
       "Map:   0%|          | 0/36000 [00:00<?, ? examples/s]"
      ]
     },
     "metadata": {},
     "output_type": "display_data"
    }
   ],
   "source": [
    "split_ds = split_ds.map(tokenize_dataset)"
   ]
  },
  {
   "cell_type": "code",
   "execution_count": 53,
   "metadata": {
    "id": "yXnje31SpSOK",
    "pycharm": {
     "name": "#%%\n"
    }
   },
   "outputs": [
    {
     "name": "stdout",
     "output_type": "stream",
     "text": [
      "{'set': ['AN Edwinstowe motorist died after losing control of his high-performance car and colliding with traffic on the opposite side of the road, an inquest was told.', 'Motorist died after losing control of car'], 'clean_sentence': 'edwinstowe motorist died losing control highperformance car colliding traffic opposite side road inquest told', 'clean_compressed': 'motorist died losing control car', 'sentence_tokens': ['edwinstowe', 'motorist', 'died', 'losing', 'control', 'highperformance', 'car', 'colliding', 'traffic', 'opposite', 'side', 'road', 'inquest', 'told'], 'compressed_tokens': ['motorist', 'died', 'losing', 'control', 'car']}\n",
      "{'set': ['The shekel is strengthening against the dollar, but weakening against the euro, in morning inter-bank trading today.', 'Shekel strengthens against dollar'], 'clean_sentence': 'shekel strengthening dollar weakening euro morning interbank trading today', 'clean_compressed': 'shekel strengthens dollar', 'sentence_tokens': ['shekel', 'strengthening', 'dollar', 'weakening', 'euro', 'morning', 'interbank', 'trading', 'today'], 'compressed_tokens': ['shekel', 'strengthens', 'dollar']}\n",
      "{'set': ['Azerbaijan has agreed to introduce an incident investigation mechanism in Nagorno-Karabakh, Trend reports on Thursday.', 'Azerbaijan agrees to introduce incident investigation mechanism in Karabakh'], 'clean_sentence': 'azerbaijan agreed introduce incident investigation mechanism nagornokarabakh trend report thursday', 'clean_compressed': 'azerbaijan agrees introduce incident investigation mechanism karabakh', 'sentence_tokens': ['azerbaijan', 'agreed', 'introduce', 'incident', 'investigation', 'mechanism', 'nagornokarabakh', 'trend', 'report', 'thursday'], 'compressed_tokens': ['azerbaijan', 'agrees', 'introduce', 'incident', 'investigation', 'mechanism', 'karabakh']}\n",
      "{'set': ['A Corsham man has pleaded guilty to the manslaughter of Michael Walsh following an incident at the Rudloe Community Centre in March this year.', 'Corsham man pleads guilty to manslaughter'], 'clean_sentence': 'corsham man pleaded guilty manslaughter michael walsh following incident rudloe community centre march year', 'clean_compressed': 'corsham man pleads guilty manslaughter', 'sentence_tokens': ['corsham', 'man', 'pleaded', 'guilty', 'manslaughter', 'michael', 'walsh', 'following', 'incident', 'rudloe', 'community', 'centre', 'march', 'year'], 'compressed_tokens': ['corsham', 'man', 'pleads', 'guilty', 'manslaughter']}\n",
      "{'set': [\"Porn Actress Sunny Leone participating in Reality Show, Sunny Leone's presence became hit among teenagers in India, but parents, teachers and Social workers protested against this\", 'Porn Actress Sunny Leone participating in Reality Show, hit among teenagers'], 'clean_sentence': 'porn actress sunny leone participating reality show sunny leone presence became hit among teenager india parent teacher social worker protested', 'clean_compressed': 'porn actress sunny leone participating reality show hit among teenager', 'sentence_tokens': ['porn', 'actress', 'sunny', 'leone', 'participating', 'reality', 'show', 'sunny', 'leone', 'presence', 'became', 'hit', 'among', 'teenager', 'india', 'parent', 'teacher', 'social', 'worker', 'protested'], 'compressed_tokens': ['porn', 'actress', 'sunny', 'leone', 'participating', 'reality', 'show', 'hit', 'among', 'teenager']}\n",
      "{'set': ['In the wake of killing of 14 Hindi-speaking workers in Manipur, the Centre on Wednesday said there was a design to create problems in the name of language and region in various parts of the country and asked states to identify trouble spots for taking anticipatory action.', \"'There is design to create problems in name of region'\"], 'clean_sentence': 'wake killing 14 hindispeaking worker manipur centre wednesday said design create problem name language region various part country asked state identify trouble spot taking anticipatory action', 'clean_compressed': 'design create problem name region', 'sentence_tokens': ['wake', 'killing', '14', 'hindispeaking', 'worker', 'manipur', 'centre', 'wednesday', 'said', 'design', 'create', 'problem', 'name', 'language', 'region', 'various', 'part', 'country', 'asked', 'state', 'identify', 'trouble', 'spot', 'taking', 'anticipatory', 'action'], 'compressed_tokens': ['design', 'create', 'problem', 'name', 'region']}\n",
      "{'set': ['She said that it is looking more and more likely that Croatia will join the European Union in 2012.', \"Croatia ``to join EU in 2012''\"], 'clean_sentence': 'said looking likely croatia join european union 2012', 'clean_compressed': 'croatia join eu 2012', 'sentence_tokens': ['said', 'looking', 'likely', 'croatia', 'join', 'european', 'union', '2012'], 'compressed_tokens': ['croatia', 'join', 'eu', '2012']}\n",
      "{'set': ['A woman shot in the neck during a home invasion walked across the street to a beauty salon to ask for help.', 'Woman shot in neck during home invasion'], 'clean_sentence': 'woman shot neck home invasion walked across street beauty salon ask help', 'clean_compressed': 'woman shot neck home invasion', 'sentence_tokens': ['woman', 'shot', 'neck', 'home', 'invasion', 'walked', 'across', 'street', 'beauty', 'salon', 'ask', 'help'], 'compressed_tokens': ['woman', 'shot', 'neck', 'home', 'invasion']}\n",
      "{'set': ['THE short end of the South African bond curve drooped in midday trade on Friday despite a firmer rand and an 89 cents per litre cut in the retail petrol price, which will be implemented on July 4.', 'Short end droops despite rand'], 'clean_sentence': 'short end south african bond curve drooped midday trade friday despite firmer rand 89 cent per litre cut retail petrol price implemented july 4', 'clean_compressed': 'short end droop despite rand', 'sentence_tokens': ['short', 'end', 'south', 'african', 'bond', 'curve', 'drooped', 'midday', 'trade', 'friday', 'despite', 'firmer', 'rand', '89', 'cent', 'per', 'litre', 'cut', 'retail', 'petrol', 'price', 'implemented', 'july', '4'], 'compressed_tokens': ['short', 'end', 'droop', 'despite', 'rand']}\n",
      "{'set': ['Consumer confidence is returning to the housing market with two-thirds of people thinking now is a good time to buy a new home, a survey has found.', \"Confidence 'returning to market'\"], 'clean_sentence': 'consumer confidence returning housing market twothirds people thinking good time buy new home survey found', 'clean_compressed': 'confidence returning market', 'sentence_tokens': ['consumer', 'confidence', 'returning', 'housing', 'market', 'twothirds', 'people', 'thinking', 'good', 'time', 'buy', 'new', 'home', 'survey', 'found'], 'compressed_tokens': ['confidence', 'returning', 'market']}\n"
     ]
    }
   ],
   "source": [
    "for i in range(10):\n",
    "    print(split_ds['train'][i])"
   ]
  },
  {
   "cell_type": "markdown",
   "metadata": {
    "collapsed": false,
    "id": "FeF0wFd0pSOL",
    "jupyter": {
     "outputs_hidden": false
    },
    "pycharm": {
     "name": "#%% md\n"
    }
   },
   "source": [
    "Since we will need the tokenized sentences, we can use the following statement to extract them from the `train` split of our dataset."
   ]
  },
  {
   "cell_type": "code",
   "execution_count": 54,
   "metadata": {
    "id": "qYKfXFxQpSOL",
    "pycharm": {
     "name": "#%%\n"
    }
   },
   "outputs": [
    {
     "name": "stdout",
     "output_type": "stream",
     "text": [
      "144000\n",
      "[['edwinstowe', 'motorist', 'died', 'losing', 'control', 'highperformance', 'car', 'colliding', 'traffic', 'opposite', 'side', 'road', 'inquest', 'told'], ['shekel', 'strengthening', 'dollar', 'weakening', 'euro', 'morning', 'interbank', 'trading', 'today'], ['azerbaijan', 'agreed', 'introduce', 'incident', 'investigation', 'mechanism', 'nagornokarabakh', 'trend', 'report', 'thursday'], ['corsham', 'man', 'pleaded', 'guilty', 'manslaughter', 'michael', 'walsh', 'following', 'incident', 'rudloe', 'community', 'centre', 'march', 'year'], ['porn', 'actress', 'sunny', 'leone', 'participating', 'reality', 'show', 'sunny', 'leone', 'presence', 'became', 'hit', 'among', 'teenager', 'india', 'parent', 'teacher', 'social', 'worker', 'protested'], ['wake', 'killing', '14', 'hindispeaking', 'worker', 'manipur', 'centre', 'wednesday', 'said', 'design', 'create', 'problem', 'name', 'language', 'region', 'various', 'part', 'country', 'asked', 'state', 'identify', 'trouble', 'spot', 'taking', 'anticipatory', 'action'], ['said', 'looking', 'likely', 'croatia', 'join', 'european', 'union', '2012'], ['woman', 'shot', 'neck', 'home', 'invasion', 'walked', 'across', 'street', 'beauty', 'salon', 'ask', 'help'], ['short', 'end', 'south', 'african', 'bond', 'curve', 'drooped', 'midday', 'trade', 'friday', 'despite', 'firmer', 'rand', '89', 'cent', 'per', 'litre', 'cut', 'retail', 'petrol', 'price', 'implemented', 'july', '4'], ['consumer', 'confidence', 'returning', 'housing', 'market', 'twothirds', 'people', 'thinking', 'good', 'time', 'buy', 'new', 'home', 'survey', 'found']]\n"
     ]
    }
   ],
   "source": [
    "tokenized_sentences = split_ds['train']['sentence_tokens']\n",
    "print(len(tokenized_sentences))\n",
    "print(tokenized_sentences[:10])"
   ]
  },
  {
   "cell_type": "code",
   "execution_count": 55,
   "metadata": {
    "collapsed": false,
    "jupyter": {
     "outputs_hidden": false
    },
    "pycharm": {
     "name": "#%%\n"
    }
   },
   "outputs": [
    {
     "name": "stdout",
     "output_type": "stream",
     "text": [
      "144000\n",
      "[['motorist', 'died', 'losing', 'control', 'car'], ['shekel', 'strengthens', 'dollar'], ['azerbaijan', 'agrees', 'introduce', 'incident', 'investigation', 'mechanism', 'karabakh'], ['corsham', 'man', 'pleads', 'guilty', 'manslaughter'], ['porn', 'actress', 'sunny', 'leone', 'participating', 'reality', 'show', 'hit', 'among', 'teenager'], ['design', 'create', 'problem', 'name', 'region'], ['croatia', 'join', 'eu', '2012'], ['woman', 'shot', 'neck', 'home', 'invasion'], ['short', 'end', 'droop', 'despite', 'rand'], ['confidence', 'returning', 'market']]\n"
     ]
    }
   ],
   "source": [
    "tokenized_compressed = split_ds['train']['compressed_tokens']\n",
    "print(len(tokenized_compressed))\n",
    "print(tokenized_compressed[:10])"
   ]
  },
  {
   "cell_type": "markdown",
   "metadata": {
    "id": "ZDGwEiZeCA5U",
    "pycharm": {
     "name": "#%% md\n"
    }
   },
   "source": [
    "Notice the difference in the types of the different structures we use. Run the following cell to check the types. Do they make sense to you?"
   ]
  },
  {
   "cell_type": "code",
   "execution_count": 56,
   "metadata": {
    "id": "wKrkFmcZCtOd",
    "pycharm": {
     "name": "#%%\n"
    }
   },
   "outputs": [
    {
     "name": "stdout",
     "output_type": "stream",
     "text": [
      "<class 'datasets.dataset_dict.DatasetDict'>\n",
      "--\n",
      "{'set': ['The shekel is strengthening against the dollar, but weakening against the euro, in morning inter-bank trading today.', 'Shekel strengthens against dollar'], 'clean_sentence': 'shekel strengthening dollar weakening euro morning interbank trading today', 'clean_compressed': 'shekel strengthens dollar', 'sentence_tokens': ['shekel', 'strengthening', 'dollar', 'weakening', 'euro', 'morning', 'interbank', 'trading', 'today'], 'compressed_tokens': ['shekel', 'strengthens', 'dollar']}\n",
      "<class 'dict'>\n",
      "--\n",
      "shekel strengthening dollar weakening euro morning interbank trading today\n",
      "<class 'str'>\n",
      "--\n",
      "['shekel', 'strengthening', 'dollar', 'weakening', 'euro', 'morning', 'interbank', 'trading', 'today']\n",
      "<class 'list'>\n",
      "--\n"
     ]
    }
   ],
   "source": [
    "#type of original dataset\n",
    "print(type(split_ds))\n",
    "print(\"--\")\n",
    "#type of original sentence\n",
    "print(split_ds['train'][1])\n",
    "print(type(split_ds['train'][1]))\n",
    "print(\"--\")\n",
    "#type of pre-proceesed sentence\n",
    "print(split_ds['train']['clean_sentence'][1])\n",
    "print(type(split_ds['train']['clean_sentence'][1]))\n",
    "print(\"--\")\n",
    "#type of tokenized sentence\n",
    "print(split_ds['train']['sentence_tokens'][1])\n",
    "print(type(split_ds['train']['sentence_tokens'][1]))\n",
    "print(\"--\")"
   ]
  },
  {
   "cell_type": "markdown",
   "metadata": {
    "collapsed": false,
    "jupyter": {
     "outputs_hidden": false
    },
    "pycharm": {
     "name": "#%% md\n"
    }
   },
   "source": [
    "## 2. Bag of Words\n",
    "In this section you will built a bag-of-words representation of the dataset. We will use numpy arrays to store the results. The bag-of-words representation is a simple and effective way to represent text data. It involves creating a vocabulary of unique words from the dataset and representing each sentence as a vector of word counts. We first need the vocabulary, which we will build from both the full sentences and the compressed sentences. Similar to the first lab, the vocabulary will be a list of unique words from the dataset."
   ]
  },
  {
   "cell_type": "markdown",
   "metadata": {
    "collapsed": false,
    "jupyter": {
     "outputs_hidden": false
    },
    "pycharm": {
     "name": "#%% md\n"
    }
   },
   "source": [
    "<a name='e3'></a>\n",
    "### Exercise 3: Extracting vocabulary counts\n",
    "\n",
    "(1p) In the following cell, you will implement a function that takes a list of tokenized sentences and returns a dictionary with the counts of each word in the vocabulary. The dictionary should be of the form {word: count}. As in previous lab, you will use the `Counter` class from the `collections` module to do this."
   ]
  },
  {
   "cell_type": "code",
   "execution_count": null,
   "metadata": {
    "collapsed": false,
    "jupyter": {
     "outputs_hidden": false
    },
    "pycharm": {
     "name": "#%%\n"
    }
   },
   "outputs": [],
   "source": [
    "from collections import Counter\n",
    "\n",
    "\n",
    "def extract_vocabulary_counts(tokenized_sentences):\n",
    "    \"\"\"\n",
    "    Extracts the vocabulary from the tokenized sentences\n",
    "    Args:\n",
    "        tokenized_sentences: a list of lists of tokens\n",
    "\n",
    "    Returns: a Counter object with the counts of each word in the vocabulary\n",
    "    \"\"\"\n",
    "\n",
    "    ### YOUR CODE HERE\n",
    "\n",
    "    # retun token count for all sentences in tokenized_sentences\n",
    "    return Counter(token for sentence in tokenized_sentences for token in sentence)\n",
    "\n",
    "    ### YOUR CODE ENDS HERE"
   ]
  },
  {
   "cell_type": "code",
   "execution_count": null,
   "metadata": {
    "collapsed": false,
    "jupyter": {
     "outputs_hidden": false
    },
    "pycharm": {
     "name": "#%%\n"
    }
   },
   "outputs": [
    {
     "name": "stdout",
     "output_type": "stream",
     "text": [
      "109821\n",
      "[('said', 19880), ('new', 15262), ('year', 10272), ('today', 9661), ('u', 8445), ('announced', 7571), ('state', 7275), ('tuesday', 7261), ('two', 7248), ('police', 7119)]\n"
     ]
    }
   ],
   "source": [
    "vocab_counter = extract_vocabulary_counts(tokenized_sentences + tokenized_compressed)\n",
    "print(len(vocab_counter))\n",
    "print(vocab_counter.most_common(10))"
   ]
  },
  {
   "cell_type": "markdown",
   "metadata": {
    "collapsed": false,
    "jupyter": {
     "outputs_hidden": false
    },
    "pycharm": {
     "name": "#%% md\n"
    }
   },
   "source": [
    "As you can see the size of the vocabulary is quite large. Like the last time, we will limit the vocabulary to the most frequent words. The next cell will create a dictionary that maps each word to an index in the vocabulary. This will be used to create the bag-of-words representation of the sentences."
   ]
  },
  {
   "cell_type": "code",
   "execution_count": null,
   "metadata": {
    "collapsed": false,
    "jupyter": {
     "outputs_hidden": false
    },
    "pycharm": {
     "name": "#%%\n"
    }
   },
   "outputs": [
    {
     "name": "stdout",
     "output_type": "stream",
     "text": [
      "{'said': 0, 'new': 1, 'year': 2, 'today': 3, 'u': 4, 'announced': 5, 'state': 6, 'tuesday': 7, 'two': 8, 'police': 9, 'wednesday': 10, 'say': 11, 'thursday': 12, 'monday': 13, 'man': 14, 'friday': 15, 'first': 16, 'president': 17, 'week': 18, 'according': 19, 'company': 20, 'one': 21, 'last': 22, 'former': 23, 'saturday': 24, 'world': 25, 'day': 26, 'city': 27, 'sunday': 28, 'report': 29, 'minister': 30, 'county': 31, 'month': 32, 'million': 33, 'time': 34, 'official': 35, 'service': 36, 'country': 37, 'government': 38, 'home': 39, 'night': 40, 'woman': 41, 'people': 42, 'market': 43, 'three': 44, 'may': 45, 'morning': 46, 'bank': 47, 'died': 48, 'national': 49, 'school': 50, 'reported': 51, 'next': 52, 'court': 53, 'would': 54, 'group': 55, 'plan': 56, 'south': 57, 'price': 58, 'set': 59, 'team': 60, 'business': 61, 'game': 62, 'india': 63, 'second': 64, 'international': 65, 'charge': 66, 'news': 67, 'season': 68, 'star': 69, 'killed': 70, 'inc': 71, 'found': 72, 'yesterday': 73, 'following': 74, 'could': 75, 'early': 76, 'show': 77, 'back': 78, 'leader': 79, 'high': 80, 'house': 81, 'united': 82, 'american': 83, 'car': 84, 'part': 85, 'global': 86, 'stock': 87, 'north': 88, 'arrested': 89, 'chief': 90, 'child': 91, 'york': 92, 'office': 93, 'four': 94, 'league': 95, 'fire': 96, 'security': 97, 'public': 98, 'federal': 99, 'oil': 100, 'made': 101, 'help': 102, 'hospital': 103, 'open': 104, 'area': 105, 'china': 106, 'share': 107, 'released': 108, 'billion': 109, 'near': 110, 'hit': 111, 'obama': 112, 'launched': 113, 'end': 114, 'charged': 115, '2012': 116, 'financial': 117, 'death': 118, 'job': 119, 'economic': 120, 'health': 121, 'local': 122, 'party': 123, 'make': 124, 'per': 125, 'west': 126, 'told': 127, 'take': 128, 'indian': 129, '10': 130, 'cut': 131, 'right': 132, 'life': 133, 'officer': 134, 'coach': 135, 'department': 136, 'sale': 137, 'university': 138, 'street': 139, 'work': 140, 'five': 141, 'center': 142, 'percent': 143, 'top': 144, 'student': 145, 'system': 146, 'deal': 147, 'left': 148, 'major': 149, 'record': 150, 'face': 151, 'district': 152, 'pakistan': 153, 'due': 154, 'march': 155, 'rate': 156, 'club': 157, 'general': 158, 'medium': 159, 'british': 160, 'since': 161, 'john': 162, 'including': 163, 'afternoon': 164, 'authority': 165, 'power': 166, 'expected': 167, 'held': 168, 'family': 169, 'industry': 170, 'european': 171, 'member': 172, 'drug': 173, 'get': 174, 'prime': 175, 'road': 176, 'election': 177, 'third': 178, 'force': 179, 'called': 180, '1': 181, 'agency': 182, 'attack': 183, 'weekend': 184, 'win': 185, 'player': 186, 'another': 187, 'film': 188, 'accused': 189, 'guilty': 190, '2010': 191, 'dollar': 192, 'support': 193, 'head': 194, 'play': 195, 'june': 196, 'london': 197, 'cup': 198, 'nation': 199, 'return': 200, 'energy': 201, 'economy': 202, 'signed': 203, 'fell': 204, 'despite': 205, 'foreign': 206, 'case': 207, 'series': 208, 'online': 209, 'trade': 210, 'capital': 211, 'april': 212, 'director': 213, 'development': 214, 'leading': 215, 'bill': 216, 'way': 217, 'central': 218, 'shot': 219, 'uk': 220, 'revealed': 221, '2011': 222, 'six': 223, 'point': 224, 'technology': 225, 'corp': 226, 'want': 227, 'number': 228, 'barack': 229, 'men': 230, 'firm': 231, 'final': 232, 'across': 233, 'start': 234, 'around': 235, 'park': 236, 'meeting': 237, 'provider': 238, 'board': 239, 'manager': 240, 'actor': 241, 'loss': 242, 'air': 243, '20': 244, 'late': 245, 'still': 246, 'talk': 247, 'girl': 248, 'saying': 249, 'allegedly': 250, 'mobile': 251, 'like': 252, 'australian': 253, 'gas': 254, 'confirmed': 255, 'free': 256, 'quarter': 257, 'st': 258, 'fund': 259, 'move': 260, 'military': 261, 'network': 262, 'largest': 263, 'community': 264, 'release': 265, '2013': 266, 'data': 267, 'program': 268, 'investor': 269, 'product': 270, 'research': 271, 'store': 272, 'washington': 273, 'several': 274, 'union': 275, 'issue': 276, 'tax': 277, 'east': 278, 'launch': 279, 'project': 280, 'recently': 281, 'future': 282, '2009': 283, 'recent': 284, 'water': 285, '11': 286, 'hour': 287, 'cent': 288, 'law': 289, 'run': 290, 'well': 291, 'campaign': 292, 'injury': 293, 'dead': 294, 'close': 295, 'investment': 296, 'council': 297, 'champion': 298, 'july': 299, '2': 300, 'football': 301, 'visit': 302, 'contract': 303, 'australia': 304, 'test': 305, 'tour': 306, 'latest': 307, 'injured': 308, 'go': 309, 'food': 310, 'need': 311, 'conference': 312, 'study': 313, 'many': 314, 'pm': 315, 'region': 316, 'best': 317, 'management': 318, 'operation': 319, 'los': 320, 'big': 321, 'opened': 322, 'annual': 323, 'level': 324, 'line': 325, 'good': 326, 'town': 327, 'press': 328, '30': 329, 'worker': 330, 'place': 331, 'rose': 332, 'senior': 333, 'david': 334, 'demand': 335, 'crash': 336, '12': 337, 'result': 338, 'crisis': 339, 'growth': 340, 'actress': 341, 'fall': 342, 'updated': 343, 'cost': 344, 'change': 345, 'pleaded': 346, 'san': 347, 'also': 348, 'side': 349, 'source': 350, 'age': 351, 'increase': 352, 'angeles': 353, 'england': 354, '15': 355, 'political': 356, 'prison': 357, 'offer': 358, 'nearly': 359, 'even': 360, 'secretary': 361, 'cancer': 362, 'money': 363, 'come': 364, 'lead': 365, 'filed': 366, 'private': 367, 'award': 368, 'body': 369, 'medical': 370, 'tv': 371, 'order': 372, 'agreement': 373, 'executive': 374, 'pay': 375, 'event': 376, 'chinese': 377, 'america': 378, 'agreed': 379, 'giant': 380, 'site': 381, '3': 382, 'host': 383, 'ago': 384, 'ministry': 385, 'closed': 386, 'january': 387, 'white': 388, 'singer': 389, 'republican': 390, 'airline': 391, 'taking': 392, 'music': 393, 'making': 394, 'college': 395, 'premier': 396, 'earlier': 397, 'young': 398, '2008': 399, 'action': 400, 'solution': 401, 'customer': 402, 'vehicle': 403, 'consumer': 404, 'presidential': 405, 'building': 406, 'fan': 407, 'centre': 408, 'ahead': 409, 'reportedly': 410, 'took': 411, 'amid': 412, 'southern': 413, 'budget': 414, 'long': 415, 'sport': 416, 'information': 417, 'boy': 418, 'going': 419, 'match': 420, 'september': 421, 'judge': 422, 'iran': 423, 'higher': 424, 'february': 425, 'claim': 426, 'afghanistan': 427, 'mark': 428, 'driver': 429, 'special': 430, 'resident': 431, 'war': 432, 'debt': 433, 'call': 434, 'past': 435, 'michael': 436, 'wife': 437, '5': 438, 'french': 439, 'murder': 440, 'policy': 441, 'use': 442, 'delhi': 443, 'chairman': 444, 'gold': 445, 'red': 446, 'interest': 447, 'production': 448, 'exchange': 449, 'plant': 450, 'congress': 451, 'become': 452, 'evening': 453, 'effort': 454, 'issued': 455, 'november': 456, 'station': 457, 'governor': 458, 'profit': 459, 'buy': 460, 'least': 461, 'race': 462, 'russian': 463, 'social': 464, 'role': 465, 'trial': 466, 'away': 467, 'title': 468, 'association': 469, 'california': 470, 'trading': 471, 'europe': 472, 'sector': 473, 'video': 474, 'summer': 475, 'credit': 476, 'candidate': 477, 'canada': 478, 'coast': 479, 'lost': 480, 'texas': 481, 'old': 482, 'live': 483, 'africa': 484, 'fight': 485, '4': 486, 'meet': 487, 'strong': 488, 'island': 489, 'care': 490, 'website': 491, 'r': 492, 'property': 493, 'shooting': 494, 'hold': 495, 'working': 496, 'likely': 497, 'lower': 498, 'japan': 499, 'term': 500, 'small': 501, 'round': 502, 'condition': 503, 'continue': 504, 'received': 505, 'october': 506, 'movie': 507, 'taken': 508, '25': 509, 'victory': 510, 'key': 511, 'led': 512, 'sign': 513, 'december': 514, 'seven': 515, 'software': 516, 'without': 517, 'northern': 518, '14': 519, 'sentenced': 520, 'real': 521, 'russia': 522, 'owner': 523, 'facing': 524, 'surgery': 525, 'statement': 526, '16': 527, '21': 528, 'much': 529, 'got': 530, 'championship': 531, 'ended': 532, 'cash': 533, 'baby': 534, 'corporation': 535, 'soldier': 536, 'senate': 537, 'bid': 538, 'fourth': 539, 'partner': 540, 'see': 541, 'heart': 542, 'grand': 543, 'august': 544, 'accident': 545, 'flight': 546, 'concern': 547, 'brand': 548, 'half': 549, 'human': 550, 'maker': 551, 'education': 552, 'opening': 553, 'planning': 554, 'la': 555, 'florida': 556, 'session': 557, '18': 558, 'hope': 559, 'beat': 560, 'german': 561, 'airport': 562, 'control': 563, 'current': 564, 'coming': 565, 'forward': 566, 'finance': 567, 'offering': 568, 'nuclear': 569, 'sex': 570, '100': 571, 'canadian': 572, 'employee': 573, 'great': 574, 'co': 575, 'army': 576, 'phone': 577, 'river': 578, 'used': 579, 'internet': 580, 'emergency': 581, 'later': 582, '13': 583, 'biggest': 584, 'protest': 585, 'upcoming': 586, 'guard': 587, 'problem': 588, 'put': 589, '6': 590, 'korea': 591, 'look': 592, 'field': 593, 'paul': 594, 'loan': 595, 'assault': 596, 'stop': 597, 'commission': 598, 'give': 599, 'holding': 600, 'named': 601, 'claimed': 602, 'killing': 603, 'committee': 604, 'looking': 605, '8': 606, 'soon': 607, 'friend': 608, 'asian': 609, 'along': 610, 'traffic': 611, 'euro': 612, 'france': 613, 'post': 614, '7': 615, 'admitted': 616, 'western': 617, 'domestic': 618, 'gain': 619, 'keep': 620, 'supply': 621, 'deputy': 622, 'low': 623, 'manchester': 624, 'warned': 625, 'lake': 626, 'hollywood': 627, 'gov': 628, 'border': 629, 'african': 630, 'performance': 631, 'step': 632, 'among': 633, 'bus': 634, 'eight': 635, 'black': 636, 'career': 637, '24': 638, 'target': 639, 'veteran': 640, 'hotel': 641, 'israel': 642, 'chicago': 643, 'parliament': 644, 'facility': 645, 'based': 646, 'tonight': 647, 'britain': 648, 'son': 649, 'jail': 650, 'decision': 651, '17': 652, 'regional': 653, 'thousand': 654, 'full': 655, 'ltd': 656, 'strike': 657, 'apple': 658, 'raised': 659, 'robert': 660, 'training': 661, 'vote': 662, 'getting': 663, 'showed': 664, 'sold': 665, 'outside': 666, 'risk': 667, 'unit': 668, 'insurance': 669, 'running': 670, 'album': 671, 'figure': 672, 'person': 673, 'george': 674, '22': 675, 'hall': 676, 'reserve': 677, 'driving': 678, 'james': 679, 'investigating': 680, 'raise': 681, '50': 682, 'television': 683, 'better': 684, 'couple': 685, 'begin': 686, 'israeli': 687, 'continued': 688, 'rise': 689, 'act': 690, 'mother': 691, 'brown': 692, 'safety': 693, 'suspended': 694, 'interview': 695, 'teacher': 696, 'little': 697, 'sell': 698, 'opposition': 699, 'name': 700, 'trying': 701, 'staff': 702, 'google': 703, 'stage': 704, 'alleged': 705, 'behind': 706, 'arrest': 707, 'incident': 708, 'crime': 709, 'cricket': 710, 'sent': 711, 'sheriff': 712, 'weather': 713, 'within': 714, 'construction': 715, 'almost': 716, 'approved': 717, 'leave': 718, 'love': 719, 'bond': 720, 'known': 721, 'wall': 722, 'green': 723, 'history': 724, 'using': 725, 'rating': 726, 'spring': 727, 'growing': 728, 'book': 729, 'whose': 730, 'operator': 731, 'officially': 732, 'given': 733, 'missing': 734, 'returned': 735, 'recovery': 736, 'practice': 737, 'justice': 738, 'victim': 739, 'he': 740, 'daily': 741, 'rock': 742, 'know': 743, 'democratic': 744, 'survey': 745, 'chris': 746, 'asked': 747, 'declared': 748, 'retail': 749, 'doctor': 750, 'increased': 751, 'agent': 752, 'motor': 753, 'search': 754, 'mortgage': 755, 'middle': 756, 'train': 757, 'fuel': 758, 'communication': 759, 'space': 760, 'single': 761, 'attorney': 762, 'sen': 763, 'storm': 764, 'rival': 765, 'decided': 766, 'palestinian': 767, 'ready': 768, 'starting': 769, 'acquired': 770, 'ever': 771, 'possible': 772, 'troop': 773, '19': 774, 'eastern': 775, 'administration': 776, 'producer': 777, 'seen': 778, 'dr': 779, 'zealand': 780, 'division': 781, 'mumbai': 782, 'bay': 783, 'beach': 784, 'highway': 785, 'king': 786, 'sri': 787, 'revenue': 788, 'join': 789, 'spending': 790, 'went': 791, 'provide': 792, 'protection': 793, 'worth': 794, 'joined': 795, 'total': 796, '9': 797, 'met': 798, 'calif': 799, 'hill': 800, 'captain': 801, '31': 802, 'battle': 803, 'defence': 804, 'reached': 805, 'husband': 806, 'de': 807, 'popular': 808, 'stadium': 809, 'spokesman': 810, 'patient': 811, 'pressure': 812, 'affair': 813, 'turned': 814, 'valley': 815, 'japanese': 816, 'singh': 817, 'debut': 818, 'boost': 819, 'truck': 820, 'analyst': 821, 'index': 822, 'failed': 823, 'olympic': 824, 'violence': 825, 'passed': 826, 'less': 827, 'remain': 828, 'common': 829, '26': 830, 'benefit': 831, 'appointed': 832, 'leaving': 833, 'asset': 834, 'drive': 835, 'completed': 836, 'struck': 837, 'church': 838, 'suffered': 839, '23': 840, 'province': 841, 'germany': 842, 'scheduled': 843, 'threat': 844, 'mayor': 845, 'already': 846, 'started': 847, 'joint': 848, 'criminal': 849, 'ban': 850, 'legal': 851, 'crashed': 852, 'peace': 853, 'decade': 854, 'newspaper': 855, 'continues': 856, 'holiday': 857, 'find': 858, 'published': 859, 'defense': 860, 'bankruptcy': 861, 'housing': 862, 'position': 863, 'list': 864, 'sexual': 865, 'arrived': 866, 'dropped': 867, 'turkey': 868, 'gun': 869, 'selling': 870, 'mexico': 871, 'think': 872, 'resource': 873, 'organization': 874, 'main': 875, 'dog': 876, 'radio': 877, 'brother': 878, 'facebook': 879, '27': 880, 'serious': 881, 'class': 882, 'natural': 883, 'rule': 884, 'track': 885, 'band': 886, 'land': 887, 'festival': 888, 'asia': 889, 'daughter': 890, 'application': 891, 'commercial': 892, 'equity': 893, 'added': 894, 'investigation': 895, 'whether': 896, 'front': 897, 'challenge': 898, 'italian': 899, 'ground': 900, 'posted': 901, 'hand': 902, 'positive': 903, 'aid': 904, 'art': 905, 'large': 906, 'heavy': 907, 'nine': 908, 'light': 909, 'senator': 910, 'warning': 911, 'winning': 912, 'activity': 913, 'web': 914, 'travel': 915, 'period': 916, 'connection': 917, 'iraq': 918, 'model': 919, 'father': 920, 'vice': 921, 'fiscal': 922, 'basketball': 923, 'finally': 924, 'magazine': 925, 'yet': 926, 'poll': 927, 'card': 928, 'village': 929, 'pakistani': 930, 'every': 931, 'focus': 932, 'rep': 933, 'carolina': 934, 'passenger': 935, 'export': 936, 'plane': 937, 'rally': 938, 'might': 939, '28': 940, 'user': 941, 'straight': 942, 'suspect': 943, 'remains': 944, 'boston': 945, 'process': 946, 'break': 947, 'robbery': 948, 'ceremony': 949, 'jan': 950, 'royal': 951, 'giving': 952, 'retailer': 953, 'researcher': 954, 'paid': 955, 'caused': 956, 'parent': 957, 'anniversary': 958, 'fired': 959, 'view': 960, 'blue': 961, 'mike': 962, 'writer': 963, 'began': 964, 'platform': 965, '40': 966, 'unveiled': 967, 'channel': 968, 'measure': 969, 'hundred': 970, 'un': 971, 'miss': 972, 'feel': 973, 'broke': 974, 'build': 975, 'disease': 976, 'suicide': 977, 'striker': 978, 'sydney': 979, 'far': 980, 'bring': 981, 'falling': 982, 'treatment': 983, 'lady': 984, 'civil': 985, 'developer': 986, 'digital': 987, 'seeking': 988, 'al': 989, 'came': 990, 'confidence': 991, 'proposed': 992, 'goal': 993, 'expert': 994, 'damage': 995, 'institute': 996, 'fear': 997, 'baseball': 998, 'attempt': 999, 'georgia': 1000, 'must': 1001, 'playing': 1002, 'independent': 1003, 'relation': 1004, 'stay': 1005, 'christmas': 1006, 'calling': 1007, 'activist': 1008, 'device': 1009, 'winter': 1010, 'previous': 1011, 'convicted': 1012, 'iranian': 1013, 'forced': 1014, 'dont': 1015, 'tournament': 1016, 'never': 1017, 'seek': 1018, 'super': 1019, 'bomb': 1020, 'joe': 1021, 'turn': 1022, 'supreme': 1023, 'helped': 1024, 'ceo': 1025, 'question': 1026, 'wind': 1027, 'others': 1028, 'currency': 1029, 'computer': 1030, 'range': 1031, 'reform': 1032, 'armed': 1033, 'camp': 1034, 'personal': 1035, 'together': 1036, 'account': 1037, 'winner': 1038, 'recession': 1039, 'suspected': 1040, 'jackson': 1041, 'youth': 1042, 'manufacturer': 1043, 'base': 1044, 'twitter': 1045, 'programme': 1046, 'mp': 1047, 'review': 1048, 'funding': 1049, 'tomorrow': 1050, 'available': 1051, 'midfielder': 1052, 'peter': 1053, 'feb': 1054, 'fashion': 1055, 'double': 1056, 'inflation': 1057, 'toronto': 1058, 'sea': 1059, 'cause': 1060, 'restaurant': 1061, 'rising': 1062, 'compared': 1063, 'ohio': 1064, 'ruled': 1065, 'date': 1066, 'potential': 1067, 'assembly': 1068, 'massive': 1069, 'overnight': 1070, 'earnings': 1071, 'access': 1072, 'science': 1073, '29': 1074, 'caught': 1075, 'banking': 1076, 'estate': 1077, 'partnership': 1078, 'net': 1079, 'marriage': 1080, 'minnesota': 1081, 'minor': 1082, 'form': 1083, 'tie': 1084, 'effect': 1085, 'competition': 1086, 'tiger': 1087, 'im': 1088, 'fraud': 1089, 'scientist': 1090, 'involved': 1091, 'nfl': 1092, 'spanish': 1093, 'inside': 1094, 'smith': 1095, 'aug': 1096, 'currently': 1097, 'representative': 1098, 'room': 1099, 'bos': 1100, 'militant': 1101, 'pop': 1102, 'moving': 1103, 'lawyer': 1104, 'moved': 1105, 'thing': 1106, 'gave': 1107, 'concert': 1108, 'corporate': 1109, 'johnson': 1110, 'barrel': 1111, 'stake': 1112, 'primary': 1113, 'urged': 1114, 'stand': 1115, 'controversial': 1116, 'suffering': 1117, 'adding': 1118, 'drop': 1119, 'spain': 1120, 'industrial': 1121, 'reporter': 1122, 'tom': 1123, 'bush': 1124, 'save': 1125, 'improve': 1126, 'microsoft': 1127, 'khan': 1128, 'watch': 1129, 'metal': 1130, 'houston': 1131, 'planned': 1132, 'port': 1133, 'standard': 1134, 'expand': 1135, 'crew': 1136, 'turkish': 1137, 'jet': 1138, 'minute': 1139, 'afghan': 1140, 'ship': 1141, 'lot': 1142, 'gulf': 1143, 'announce': 1144, 'though': 1145, 'reduce': 1146, 'mr': 1147, 'citizen': 1148, 'earthquake': 1149, 'michigan': 1150, 'democrat': 1151, 'extended': 1152, 'worldwide': 1153, 'ali': 1154, 'limited': 1155, 'ordered': 1156, 'martin': 1157, 'played': 1158, 'apartment': 1159, 'bridge': 1160, 'dec': 1161, 'felony': 1162, 'average': 1163, 'flu': 1164, 'rain': 1165, 'block': 1166, 'marketing': 1167, 'resigned': 1168, 'value': 1169, 'venture': 1170, 'professional': 1171, 'song': 1172, 'gay': 1173, 'address': 1174, 'entertainment': 1175, 'heard': 1176, 'window': 1177, 'short': 1178, 'abuse': 1179, 'attacked': 1180, 'offered': 1181, 'ambassador': 1182, 'situation': 1183, 'womens': 1184, 'living': 1185, 'carrier': 1186, 'cooperation': 1187, 'reporting': 1188, 'voted': 1189, 'create': 1190, 'society': 1191, 'cell': 1192, 'female': 1193, 'forecast': 1194, 'williams': 1195, 'introduced': 1196, 'crude': 1197, 'response': 1198, 'bar': 1199, 'ireland': 1200, 'prosecutor': 1201, 'appeal': 1202, 'foot': 1203, 'steve': 1204, 'payment': 1205, 'jersey': 1206, 'syrian': 1207, 'charity': 1208, 'birth': 1209, 'fox': 1210, 'pound': 1211, 'fifth': 1212, 'denied': 1213, 'dispute': 1214, 'story': 1215, 'dubai': 1216, 'course': 1217, 'operating': 1218, 'weapon': 1219, 'boat': 1220, 'commissioner': 1221, 'beginning': 1222, 'auto': 1223, 'flood': 1224, 'beating': 1225, 'dealer': 1226, 'queen': 1227, 'environment': 1228, 'discus': 1229, 'jury': 1230, 'chance': 1231, 'scheme': 1232, 'nov': 1233, 'illegal': 1234, 'comment': 1235, 'option': 1236, 'kansa': 1237, 'tried': 1238, 'ryan': 1239, 'manufacturing': 1240, 'fresh': 1241, 'chain': 1242, 'lawsuit': 1243, 'steel': 1244, 'teen': 1245, 'celebrity': 1246, 'belief': 1247, 'italy': 1248, 'girlfriend': 1249, 'hard': 1250, 'corruption': 1251, 'allow': 1252, 'count': 1253, 'korean': 1254, 'reach': 1255, 'andrew': 1256, 'downtown': 1257, 'firefighter': 1258, 'different': 1259, 'celebrated': 1260, 'prince': 1261, 'ending': 1262, 'jones': 1263, 'poor': 1264, 'losing': 1265, 'labor': 1266, 'arm': 1267, 'banned': 1268, 'entered': 1269, 'saw': 1270, 'rebel': 1271, 'lawmaker': 1272, 'defender': 1273, 'split': 1274, 'jailed': 1275, 'wood': 1276, '500': 1277, 'citing': 1278, 'became': 1279, 'remained': 1280, 'animal': 1281, 'tony': 1282, 'income': 1283, 'enough': 1284, 'wont': 1285, 'singapore': 1286, 'liverpool': 1287, 'hearing': 1288, 'effective': 1289, 'soccer': 1290, 'mining': 1291, 'clash': 1292, 'republic': 1293, 'quality': 1294, 'quarterback': 1295, 'acquisition': 1296, 'bad': 1297, 'photo': 1298, 'legend': 1299, 'wanted': 1300, 'scored': 1301, 'oct': 1302, 'voter': 1303, 'route': 1304, 'rest': 1305, 'defeat': 1306, 'justin': 1307, 'louis': 1308, 'feature': 1309, 'academy': 1310, 'present': 1311, 'weak': 1312, 'involving': 1313, 'note': 1314, 'vega': 1315, 'pilot': 1316, 'various': 1317, 'highest': 1318, 'acquire': 1319, 'virginia': 1320, 'brought': 1321, 'farmer': 1322, 'terrorist': 1323, 'tree': 1324, 'decline': 1325, 'equipment': 1326, 'kevin': 1327, 'fee': 1328, 'deficit': 1329, 'try': 1330, 'towards': 1331, 'iowa': 1332, 'lee': 1333, 'nato': 1334, 'buying': 1335, 'enterprise': 1336, 'saudi': 1337, 'muslim': 1338, 'lanka': 1339, 'becoming': 1340, '60': 1341, 'committed': 1342, 'fighting': 1343, 'mission': 1344, 'miami': 1345, 'package': 1346, 'draft': 1347, 'colorado': 1348, 'jim': 1349, 'clinton': 1350, 'shes': 1351, 'ongoing': 1352, 'cabinet': 1353, 'paris': 1354, 'bringing': 1355, 'cutting': 1356, 'birthday': 1357, 'subsidiary': 1358, 'broken': 1359, 'returning': 1360, 'scott': 1361, 'iphone': 1362, 'syria': 1363, '200': 1364, 'protect': 1365, 'launching': 1366, 'beijing': 1367, 'pulled': 1368, 'aimed': 1369, 'arizona': 1370, 'leg': 1371, 'threatened': 1372, 'fort': 1373, 'aircraft': 1374, 'bollywood': 1375, 'farm': 1376, 'quarterly': 1377, 'hurricane': 1378, 'philippine': 1379, 'rugby': 1380, 'atlanta': 1381, 'zone': 1382, 'strategic': 1383, 'detroit': 1384, 'relationship': 1385, 'journalist': 1386, 'draw': 1387, 'trip': 1388, 'via': 1389, 'trend': 1390, 'taiwan': 1391, 'strategy': 1392, 'seat': 1393, 'believe': 1394, 'direct': 1395, 'shop': 1396, 'hockey': 1397, 'opportunity': 1398, 'separate': 1399, 'successful': 1400, 'ticket': 1401, 'coal': 1402, 'spot': 1403, 'row': 1404, 'signing': 1405, 'additional': 1406, 'closing': 1407, '2007': 1408, 'grant': 1409, 'message': 1410, 'mountain': 1411, 'chelsea': 1412, 'unemployment': 1413, 'taliban': 1414, 'summit': 1415, 'doesnt': 1416, 'gaza': 1417, 'illinois': 1418, 'considering': 1419, 'shareholder': 1420, 'fair': 1421, 'journal': 1422, 'studio': 1423, 'purchase': 1424, 'transport': 1425, 'version': 1426, 'retirement': 1427, 'egypt': 1428, 'image': 1429, 'eu': 1430, 'allegation': 1431, 'related': 1432, 'nba': 1433, 'knee': 1434, 'wireless': 1435, 'causing': 1436, 'design': 1437, 'apparently': 1438, 'impact': 1439, 'transfer': 1440, 'taylor': 1441, 'squad': 1442, 'boyfriend': 1443, 'memorial': 1444, 'mile': 1445, 'diego': 1446, 'francisco': 1447, 'tell': 1448, 'wake': 1449, 'robbed': 1450, 'throughout': 1451, 'able': 1452, 'avenue': 1453, 'english': 1454, 'ten': 1455, 'brazil': 1456, 'advanced': 1457, 'solar': 1458, 'madrid': 1459, 'associated': 1460, 'showing': 1461, 'developed': 1462, 'stabbed': 1463, 'paper': 1464, 'reality': 1465, 'increasing': 1466, 'ap': 1467, 'reason': 1468, 'proposal': 1469, 'divorce': 1470, 'alex': 1471, 'blood': 1472, 'gone': 1473, 'important': 1474, 'expects': 1475, 'kashmir': 1476, 'celebrate': 1477, 'rescue': 1478, 'material': 1479, 'stolen': 1480, 'door': 1481, 'content': 1482, 'wide': 1483, 'adam': 1484, 'greece': 1485, 'complex': 1486, 'headed': 1487, 'wedding': 1488, 'dozen': 1489, 'forest': 1490, 'raising': 1491, 'mass': 1492, 'flat': 1493, 'slightly': 1494, 'helping': 1495, 'labour': 1496, 'trust': 1497, 'dividend': 1498, 'ranger': 1499, 'client': 1500, 'tim': 1501, 'bear': 1502, 'elected': 1503, 'regular': 1504, 'expectation': 1505, 'malaysia': 1506, 'branch': 1507, 'theft': 1508, 'severe': 1509, 'let': 1510, 'township': 1511, 'appear': 1512, 'debate': 1513, 'rape': 1514, 'really': 1515, 'multiple': 1516, 'snow': 1517, 'pacific': 1518, 'stealing': 1519, 'cloud': 1520, 'sir': 1521, 'irish': 1522, 'contest': 1523, 'pick': 1524, 'perform': 1525, 'custody': 1526, 'assistant': 1527, 'worst': 1528, 'kid': 1529, 'comedy': 1530, 'hong': 1531, 'telecom': 1532, 'artist': 1533, 'designed': 1534, 'sentence': 1535, 'huge': 1536, 'foundation': 1537, 'statistic': 1538, 'morgan': 1539, 'experience': 1540, 'tourist': 1541, 'nationwide': 1542, 'announces': 1543, 'location': 1544, 'missouri': 1545, 'clear': 1546, 'healthcare': 1547, 'replace': 1548, 'didnt': 1549, 'providing': 1550, 'indiana': 1551, 'protester': 1552, 'seriously': 1553, 'fame': 1554, 'elderly': 1555, 'dallas': 1556, 'commerce': 1557, 'ben': 1558, 'visited': 1559, 'jennifer': 1560, 'capacity': 1561, 'disaster': 1562, 'sept': 1563, 'letter': 1564, 'arab': 1565, 'critical': 1566, 'mine': 1567, 'alliance': 1568, 'teenager': 1569, 'avoid': 1570, 'previously': 1571, 'tribute': 1572, 'conduct': 1573, 'santa': 1574, 'wisconsin': 1575, 'christian': 1576, 'twin': 1577, 'shut': 1578, 'kim': 1579, 'campus': 1580, 'receiver': 1581, 'claiming': 1582, 'classic': 1583, 'check': 1584, 'romney': 1585, 'majority': 1586, 'joining': 1587, 'richard': 1588, 'greek': 1589, 'significant': 1590, 'announcement': 1591, 'overall': 1592, 'engine': 1593, 'technical': 1594, 'created': 1595, 'outlook': 1596, 'lender': 1597, 'climate': 1598, 'patrol': 1599, 'van': 1600, 'v': 1601, 'ruling': 1602, 'pregnant': 1603, 'edward': 1604, 'bob': 1605, 'generation': 1606, 'environmental': 1607, 'fatal': 1608, 'philadelphia': 1609, 'weekly': 1610, 'married': 1611, 'brian': 1612, 'cover': 1613, 'square': 1614, 'failure': 1615, 'eye': 1616, 'seized': 1617, 'infrastructure': 1618, 'plc': 1619, 'tennis': 1620, 'delivery': 1621, 'electric': 1622, 'thought': 1623, 'kong': 1624, 'chemical': 1625, 'leadership': 1626, 'hot': 1627, 'cruise': 1628, 'import': 1629, 'discovered': 1630, 'struggling': 1631, 'consecutive': 1632, 'sun': 1633, 'kill': 1634, 'bail': 1635, 'x': 1636, 'movement': 1637, 'serving': 1638, 'thanks': 1639, 'hired': 1640, 'distribution': 1641, 'needed': 1642, 'southwest': 1643, 'document': 1644, 'golf': 1645, 'ill': 1646, 'navy': 1647, 'trader': 1648, 'speech': 1649, 'picture': 1650, 'progress': 1651, 'mean': 1652, 'receive': 1653, 'speculation': 1654, 'failing': 1655, 'initiative': 1656, 'cross': 1657, 'appeared': 1658, 'azerbaijan': 1659, 'andy': 1660, 'tourism': 1661, 'expansion': 1662, 'factor': 1663, 'fine': 1664, 'scotland': 1665, 'scandal': 1666, 'airway': 1667, 'continuing': 1668, 'engaged': 1669, 'develop': 1670, 'deadly': 1671, 'quit': 1672, 'brazilian': 1673, 'milan': 1674, 'refused': 1675, 'headquarters': 1676, 'rescued': 1677, 'medal': 1678, 'box': 1679, 'helicopter': 1680, 'seattle': 1681, 'wayne': 1682, 'matt': 1683, 'spent': 1684, 'stated': 1685, 'jose': 1686, 'developing': 1687, 'prevent': 1688, 'secret': 1689, 'duty': 1690, 'ensure': 1691, 'founder': 1692, 'selected': 1693, 'brain': 1694, 'amount': 1695, 'setting': 1696, 'territory': 1697, 'islamic': 1698, 'historic': 1699, 'punjab': 1700, 'moscow': 1701, 'rural': 1702, 'theatre': 1703, 'harry': 1704, 'matter': 1705, 'defensive': 1706, 'complete': 1707, 'pirate': 1708, 'always': 1709, 'word': 1710, 'libya': 1711, 'tackle': 1712, 'william': 1713, 'crore': 1714, 'although': 1715, 'placed': 1716, 'email': 1717, '32': 1718, 'cable': 1719, 'treasury': 1720, 'shopping': 1721, 'supplier': 1722, 'master': 1723, 'electronics': 1724, 'satellite': 1725, 'attempted': 1726, '70': 1727, 'scene': 1728, 'cleveland': 1729, 'dc': 1730, 'rick': 1731, 'pitcher': 1732, 'rejected': 1733, 'indicted': 1734, 'auction': 1735, 'saving': 1736, 'oscar': 1737, 'relief': 1738, 'barcelona': 1739, 'terror': 1740, 'appearance': 1741, 'visiting': 1742, 'bought': 1743, 'advertising': 1744, 'tamil': 1745, 'embassy': 1746, 'electronic': 1747, 'forum': 1748, 'fast': 1749, 'melbourne': 1750, 'hospitalized': 1751, 'expanded': 1752, 'carrying': 1753, 'complaint': 1754, 'located': 1755, 'sending': 1756, 'stephen': 1757, 'toward': 1758, 'voice': 1759, 'add': 1760, 'ice': 1761, 'parliamentary': 1762, 'safe': 1763, 'closer': 1764, 'agriculture': 1765, 'bowl': 1766, 'kentucky': 1767, 'celebration': 1768, 'repair': 1769, 'conservative': 1770, 'panel': 1771, 'fact': 1772, 'perry': 1773, 'receiving': 1774, 'bin': 1775, 'offensive': 1776, 'ii': 1777, 'author': 1778, 'done': 1779, 'interior': 1780, 'detained': 1781, 'evidence': 1782, 'surprise': 1783, 'usa': 1784, 'destroyed': 1785, 'overseas': 1786, 'delay': 1787, 'engineering': 1788, 'improved': 1789, 'adult': 1790, 'certain': 1791, 'individual': 1792, 'mitt': 1793, 'resume': 1794, 'success': 1795, 'heat': 1796, 'arsenal': 1797, 'rupee': 1798, 'patent': 1799, 'strip': 1800, 'bbc': 1801, 'metro': 1802, 'commodity': 1803, 'reuters': 1804, 'fined': 1805, 'cant': 1806, 'aim': 1807, 'garden': 1808, 'sharply': 1809, 'institution': 1810, 'speed': 1811, 'page': 1812, 'bull': 1813, 'superstar': 1814, 'railway': 1815, 'happy': 1816, 'pradesh': 1817, 'possession': 1818, 'instead': 1819, 'recovering': 1820, 'racing': 1821, 'simon': 1822, 'mexican': 1823, 'file': 1824, 'cleared': 1825, 'promote': 1826, 'longtime': 1827, 'chase': 1828, 'jason': 1829, 'sox': 1830, 'schedule': 1831, 'vowed': 1832, 'update': 1833, 'daniel': 1834, 'approval': 1835, 'marine': 1836, 'coalition': 1837, 'wale': 1838, 'speaker': 1839, 'recovered': 1840, 'tennessee': 1841, 'kelly': 1842, 'cast': 1843, 'nomination': 1844, 'pharmaceutical': 1845, 'motorcycle': 1846, 'kept': 1847, 'fellow': 1848, 'mixed': 1849, 'newly': 1850, 'northwest': 1851, 'screen': 1852, 'ford': 1853, 'tool': 1854, 'b': 1855, 'serve': 1856, 'pace': 1857, 'witness': 1858, 'indonesia': 1859, 'regulator': 1860, 'playoff': 1861, 'successfully': 1862, 'orleans': 1863, 'landing': 1864, 'electricity': 1865, 'politics': 1866, 'battery': 1867, 'resort': 1868, 'idol': 1869, 'victoria': 1870, 'lack': 1871, 'invest': 1872, 'sexually': 1873, 'swiss': 1874, 'rare': 1875, 'dutch': 1876, 'jr': 1877, 'bjp': 1878, 'threatening': 1879, 'owned': 1880, 'bureau': 1881, 'awarded': 1882, 'begun': 1883, 'famous': 1884, 'egyptian': 1885, 'chapter': 1886, 'stone': 1887, 'thomas': 1888, 'believed': 1889, 'ukraine': 1890, 'settlement': 1891, 'aged': 1892, 'allowed': 1893, 'gordon': 1894, 'identified': 1895, 'supporter': 1896, 'negotiation': 1897, 'honor': 1898, 'jack': 1899, 'shown': 1900, 'rather': 1901, 'hosting': 1902, 'detail': 1903, 'musical': 1904, 'denver': 1905, 'immigration': 1906, 'sanction': 1907, 'charles': 1908, 'violent': 1909, 'attend': 1910, 'mccain': 1911, 'tokyo': 1912, '35': 1913, 'thats': 1914, '80': 1915, 'plea': 1916, 'existing': 1917, 'collapsed': 1918, 'collection': 1919, 'swine': 1920, 'longer': 1921, 'horse': 1922, 'oklahoma': 1923, 'camera': 1924, 'breaking': 1925, 'civilian': 1926, 'disabled': 1927, 'expecting': 1928, 'bangladesh': 1929, '75': 1930, '1000': 1931, 'ed': 1932, 'terrorism': 1933, 'however': 1934, 'fighter': 1935, 'olympics': 1936, 'prisoner': 1937, 'elementary': 1938, 'violation': 1939, 'grow': 1940, 'strength': 1941, 'designer': 1942, 'stimulus': 1943, 'utility': 1944, 'app': 1945, 'lion': 1946, 'alcohol': 1947, 'illness': 1948, 'wounded': 1949, 'burglary': 1950, 'sister': 1951, 'kate': 1952, 'tough': 1953, 'spend': 1954, 'el': 1955, 'organisation': 1956, 'prize': 1957, 'improvement': 1958, 'lindsay': 1959, 'eagle': 1960, 'ring': 1961, 'license': 1962, 'welcomed': 1963, 'prospect': 1964, 'portfolio': 1965, 'finish': 1966, 'charlie': 1967, 'freedom': 1968, 'catholic': 1969, 'retire': 1970, 'massachusetts': 1971, 'push': 1972, 'conflict': 1973, 'advisory': 1974, 'ocean': 1975, 'greater': 1976, 'informed': 1977, 'missile': 1978, 'ontario': 1979, 'produce': 1980, 'expanding': 1981, 'heading': 1982, 'democracy': 1983, 'hurt': 1984, 'assaulting': 1985, 'include': 1986, 'yankee': 1987, 'presence': 1988, 'monetary': 1989, 'ad': 1990, 'rocket': 1991, 'mar': 1992, 'promotion': 1993, 'admits': 1994, 'homicide': 1995, 'sixth': 1996, 'hero': 1997, 'cape': 1998, 'filing': 1999, 'link': 2000, 'sarah': 2001, 'stopped': 2002, 'tech': 2003, 'congressional': 2004, 'keeping': 2005, 'arena': 2006, 'silver': 2007, 'true': 2008, 'granted': 2009, 'marijuana': 2010, 'pair': 2011, 'rail': 2012, 'jay': 2013, 'extension': 2014, 'southeast': 2015, 'scottish': 2016, 'anthony': 2017, 'drama': 2018, 'exercise': 2019, 'teenage': 2020, 'inning': 2021, 'fully': 2022, 'cbs': 2023, 'dream': 2024, 'broadband': 2025, 'golden': 2026, 'semifinal': 2027, 'score': 2028, 'approximately': 2029, 'jumped': 2030, 'highly': 2031, 'nifty': 2032, 'advance': 2033, 'formally': 2034, 'rapper': 2035, 'factory': 2036, '2014': 2037, 'tension': 2038, 'abc': 2039, 'brad': 2040, 'kicked': 2041, 'formula': 2042, 'missed': 2043, 'allen': 2044, 'powerful': 2045, 'friendly': 2046, 'specialist': 2047, 'exclusive': 2048, 'legendary': 2049, 'immediate': 2050, 'sought': 2051, 'ball': 2052, 'pension': 2053, 'learned': 2054, 'limit': 2055, 'culture': 2056, 'sa': 2057, 'commander': 2058, 'gary': 2059, 'especially': 2060, 'baltimore': 2061, 'stroke': 2062, 'hamilton': 2063, 'penalty': 2064, 'talent': 2065, 'negative': 2066, '300': 2067, 'wild': 2068, 'linked': 2069, 'reelection': 2070, 'apparent': 2071, '45': 2072, 'retired': 2073, 'library': 2074, 'regarding': 2075, 'stewart': 2076, 'immediately': 2077, 'sharp': 2078, 'lohan': 2079, 'outstanding': 2080, 'prix': 2081, 'walk': 2082, 'basis': 2083, 'zimbabwe': 2084, 'express': 2085, 'patrick': 2086, 'pro': 2087, 'alabama': 2088, 'escaped': 2089, 'dating': 2090, 'junior': 2091, 'celebrating': 2092, 'conducted': 2093, 'elizabeth': 2094, 'presented': 2095, 'estimate': 2096, 'iraqi': 2097, 'iron': 2098, 'changed': 2099, 'built': 2100, 'w': 2101, 'recall': 2102, 'pain': 2103, 'renewed': 2104, 'intelligence': 2105, 'lewis': 2106, 'direction': 2107, 'spread': 2108, 'entire': 2109, 'idea': 2110, 'residence': 2111, 'initial': 2112, 'voting': 2113, 'toyota': 2114, 'contact': 2115, 'qatar': 2116, 'palm': 2117, 'circuit': 2118, 'residential': 2119, 'parking': 2120, 'enforcement': 2121, 'legislation': 2122, 'extra': 2123, 'creating': 2124, 'appears': 2125, 'moment': 2126, '―': 2127, 'nick': 2128, 'putting': 2129, 'offender': 2130, 'arabia': 2131, 'saint': 2132, 'religious': 2133, 'childrens': 2134, 'diplomatic': 2135, 'blast': 2136, 'beaten': 2137, 'speak': 2138, 'gaga': 2139, 'preparing': 2140, 'consider': 2141, 'politician': 2142, 'libyan': 2143, 'volunteer': 2144, 'troubled': 2145, 'orange': 2146, 'inmate': 2147, '90': 2148, 'request': 2149, 'sabha': 2150, 'announcing': 2151, 'can': 2152, 'suspicion': 2153, 'cold': 2154, 'regime': 2155, 'tampa': 2156, 'bailout': 2157, 'deliver': 2158, 'diamond': 2159, 'phoenix': 2160, 'mill': 2161, 'asking': 2162, 'davis': 2163, 'pittsburgh': 2164, 'secure': 2165, 'acting': 2166, 'pennsylvania': 2167, 'hitting': 2168, 'samsung': 2169, 'ray': 2170, 'traded': 2171, 'stronger': 2172, 'treated': 2173, 'enter': 2174, 'mail': 2175, 'status': 2176, 'lifted': 2177, 'dangerous': 2178, 'gate': 2179, 'explosion': 2180, 'sentiment': 2181, 'reduced': 2182, 'assistance': 2183, 'clinic': 2184, 'twice': 2185, 'bit': 2186, 'employer': 2187, 'carbon': 2188, 'storage': 2189, 'frank': 2190, 'fc': 2191, 'museum': 2192, 'toll': 2193, 'weight': 2194, 'employment': 2195, 'kardashian': 2196, 'cameron': 2197, 'provincial': 2198, 'worked': 2199, 'monthly': 2200, 'tehran': 2201, 'queensland': 2202, 'buyer': 2203, 'affected': 2204, 'nelson': 2205, 'medicine': 2206, 'franchise': 2207, 'yen': 2208, 'lowest': 2209, 'tonne': 2210, 'guy': 2211, 'oakland': 2212, 'lose': 2213, 'native': 2214, 'cocaine': 2215, 'section': 2216, 'welcome': 2217, 'commitment': 2218, 'item': 2219, 'often': 2220, 'degree': 2221, 'hillary': 2222, 'networking': 2223, 'actually': 2224, 'eric': 2225, 'choice': 2226, 'neighborhood': 2227, 'pas': 2228, 'liberal': 2229, 'expressed': 2230, 'sony': 2231, 'send': 2232, 'emerging': 2233, 'yahoo': 2234, 'wrong': 2235, 'ghana': 2236, 'kennedy': 2237, 'tested': 2238, '400': 2239, 'llc': 2240, 'buffalo': 2241, 'recorded': 2242, 'suggested': 2243, 'hosted': 2244, 'aviation': 2245, 'declined': 2246, 'bengal': 2247, 'dedicated': 2248, 'approach': 2249, 'collision': 2250, 'finished': 2251, 'recalled': 2252, 'russell': 2253, 'laid': 2254, 'athlete': 2255, 'lane': 2256, 'healthy': 2257, 'includes': 2258, 'provides': 2259, 'floor': 2260, 'adviser': 2261, 'lending': 2262, 'shoulder': 2263, 'combat': 2264, 'testing': 2265, 'professor': 2266, 'luxury': 2267, 'provided': 2268, 'crowd': 2269, '64': 2270, 'counterpart': 2271, 'cancelled': 2272, 'milwaukee': 2273, 'notice': 2274, 'century': 2275, 'e': 2276, 'sky': 2277, 'language': 2278, 'considered': 2279, 'not': 2280, 'jordan': 2281, 'investigator': 2282, 'transportation': 2283, 'oregon': 2284, 'roger': 2285, 'clean': 2286, 'sam': 2287, 'hell': 2288, 'warrant': 2289, 'deadline': 2290, 'northeast': 2291, 'pool': 2292, 'vietnam': 2293, 'male': 2294, 'noon': 2295, 'raid': 2296, 'eurozone': 2297, 'connecticut': 2298, 'independence': 2299, 'worry': 2300, 'benchmark': 2301, 'turning': 2302, 'feeling': 2303, 'breast': 2304, 'killer': 2305, 'tablet': 2306, 'wave': 2307, 'jessica': 2308, 'earth': 2309, 'sound': 2310, 'article': 2311, 'active': 2312, 'alternative': 2313, 'gang': 2314, 'convention': 2315, 'extend': 2316, 'federation': 2317, 'busy': 2318, 'defeated': 2319, 'c': 2320, 'cole': 2321, 'mall': 2322, 'jon': 2323, 'wing': 2324, 'awareness': 2325, 'austin': 2326, 'hoping': 2327, 'tata': 2328, 'abu': 2329, 'rapid': 2330, 'edition': 2331, 'swedish': 2332, 'fargo': 2333, 'tropical': 2334, 'regulation': 2335, 'featuring': 2336, 'undisclosed': 2337, 'ny': 2338, 'exhibition': 2339, 'pope': 2340, 'drink': 2341, 'nigeria': 2342, 'strengthen': 2343, 'kumar': 2344, 'machine': 2345, 'performing': 2346, 'discovery': 2347, 'cardinal': 2348, 'kind': 2349, 'population': 2350, 'estimated': 2351, 'episode': 2352, 'read': 2353, 'restructuring': 2354, 'dance': 2355, 'publisher': 2356, 'transaction': 2357, 'preliminary': 2358, 'assaulted': 2359, 'resolution': 2360, 'ran': 2361, 'audience': 2362, 'display': 2363, 'sprint': 2364, 'struggle': 2365, 'finding': 2366, 'kick': 2367, 'forthcoming': 2368, 'style': 2369, 'managed': 2370, 'felt': 2371, 'utah': 2372, 'n': 2373, 'android': 2374, 'casino': 2375, 'anna': 2376, 'false': 2377, 'defended': 2378, 'mary': 2379, 'shortage': 2380, 'slowdown': 2381, 'flag': 2382, 'vancouver': 2383, 'performed': 2384, 'rio': 2385, 'alert': 2386, 'shortly': 2387, 'broadcast': 2388, 'removed': 2389, 'seems': 2390, 'fallen': 2391, '63': 2392, 'similar': 2393, 'something': 2394, 'nsw': 2395, 'described': 2396, 'lineup': 2397, 'cuba': 2398, 'drowned': 2399, 'sued': 2400, 'character': 2401, 'venezuela': 2402, 'ag': 2403, 'usd': 2404, 'resistance': 2405, 'output': 2406, 'moore': 2407, 'malaysian': 2408, 'rich': 2409, 'boxing': 2410, 'virus': 2411, 'smart': 2412, 'wilson': 2413, 'homeless': 2414, 'mac': 2415, 'discussion': 2416, 'managing': 2417, 'ankle': 2418, 'premiere': 2419, 'rebound': 2420, 'jerry': 2421, 'fish': 2422, 'rehab': 2423, 'financing': 2424, 'bilateral': 2425, 'globe': 2426, 'faced': 2427, 'newcastle': 2428, 'stable': 2429, 'emerged': 2430, 'infection': 2431, 'secured': 2432, 'deep': 2433, 'miller': 2434, 'pc': 2435, 'kyrgyzstan': 2436, 'atlantic': 2437, 'salary': 2438, 'guest': 2439, 'lebanon': 2440, 'birmingham': 2441, 'madison': 2442, 'j': 2443, 'engineer': 2444, 'probation': 2445, 'invited': 2446, 'tight': 2447, 'kingdom': 2448, '65': 2449, 'table': 2450, 'undergo': 2451, 'allowing': 2452, 'indie': 2453, 'hike': 2454, 'carlos': 2455, 'phil': 2456, 'angel': 2457, 'alive': 2458, 'nokia': 2459, 'carry': 2460, 'happened': 2461, 'wildlife': 2462, 'insists': 2463, 'follow': 2464, 'pipeline': 2465, 'dakota': 2466, 'personnel': 2467, 'argentina': 2468, 'shore': 2469, 'difference': 2470, 'funeral': 2471, 'tornado': 2472, 'opener': 2473, 'responsible': 2474, 'reading': 2475, 'delegation': 2476, 'gained': 2477, '62': 2478, 'longterm': 2479, 'integrated': 2480, 'delivered': 2481, 'offshore': 2482, 'scam': 2483, 'searching': 2484, 'gift': 2485, 'die': 2486, 'amy': 2487, 'creek': 2488, 'columbia': 2489, 'orlando': 2490, 'fishing': 2491, 'occurred': 2492, 'adopted': 2493, 'eve': 2494, 'onto': 2495, 'jammu': 2496, 'confident': 2497, 'jewish': 2498, 'tied': 2499, 'economist': 2500, 'manmohan': 2501, 'mississippi': 2502, 'diplomat': 2503, 'stole': 2504, 'picked': 2505, 'wage': 2506, 'celtic': 2507, 'promise': 2508, 'criticism': 2509, 'alaska': 2510, 'canceled': 2511, 'michelle': 2512, 'engagement': 2513, 'paying': 2514, 'chip': 2515, 'phase': 2516, 'born': 2517, 'ukrainian': 2518, 'targeting': 2519, 'dancing': 2520, 'p': 2521, 'trouble': 2522, 'stabbing': 2523, 'fleet': 2524, 'accepted': 2525, 'columbus': 2526, 'carried': 2527, 'bag': 2528, 'suggests': 2529, 'nominee': 2530, 'beyond': 2531, 'gunman': 2532, 'increasingly': 2533, 'landed': 2534, 'minority': 2535, 'ton': 2536, 'there': 2537, 'heavyweight': 2538, 'traditional': 2539, 'lord': 2540, 'ipad': 2541, 'remaining': 2542, 'influence': 2543, 'produced': 2544, 'responsibility': 2545, 'afp': 2546, 'bieber': 2547, '33': 2548, 'cargo': 2549, '2006': 2550, 'delayed': 2551, 'prior': 2552, 'registered': 2553, 'czech': 2554, 'sure': 2555, 'internal': 2556, 'fit': 2557, 'henry': 2558, 'chamber': 2559, 'diagnosed': 2560, 'modern': 2561, 'prominent': 2562, 'demanded': 2563, 'palin': 2564, 'copper': 2565, 'stanley': 2566, 'reaching': 2567, 'uae': 2568, 'gandhi': 2569, 'antonio': 2570, 'temporary': 2571, 'businessman': 2572, 'waste': 2573, 'honored': 2574, 'yemen': 2575, 'shanghai': 2576, 'steven': 2577, 'whole': 2578, 'defending': 2579, 'category': 2580, 'difficult': 2581, 'somali': 2582, 'duo': 2583, '600': 2584, 'probe': 2585, 'upper': 2586, 'volume': 2587, 'campbell': 2588, 'appointment': 2589, '41': 2590, 'regulatory': 2591, 'refugee': 2592, 'trophy': 2593, 'matthew': 2594, 'improving': 2595, 'beckham': 2596, 'variety': 2597, 'mostly': 2598, 'upon': 2599, 'teammate': 2600, 'drinking': 2601, 'undergoing': 2602, 'principal': 2603, 'waiting': 2604, 'interstate': 2605, 'mount': 2606, 'resign': 2607, 'earned': 2608, 'visa': 2609, 'murray': 2610, 'decide': 2611, 'jeff': 2612, 'remove': 2613, 'conviction': 2614, 'expect': 2615, 'twoyear': 2616, 'downturn': 2617, 'remark': 2618, 'nashville': 2619, 'simpson': 2620, 'asif': 2621, 'bulgaria': 2622, 'touch': 2623, 'threw': 2624, 'probably': 2625, 'cap': 2626, 'icon': 2627, 'broadway': 2628, 'custom': 2629, 'physical': 2630, 'everything': 2631, 'dan': 2632, 'pitch': 2633, 'blog': 2634, 'rallied': 2635, 'quickly': 2636, 'congressman': 2637, 'katie': 2638, 'serbia': 2639, 'islamabad': 2640, 'crossing': 2641, '150': 2642, 'visitor': 2643, 'quarterfinal': 2644, 'bulgarian': 2645, 'speaking': 2646, 'slow': 2647, 'temperature': 2648, 'roll': 2649, 'reduction': 2650, 'myanmar': 2651, 'smartphone': 2652, 'ron': 2653, 'endorsed': 2654, 'focused': 2655, 'maryland': 2656, 'drunk': 2657, 'dialogue': 2658, 'ncaa': 2659, 'fisherman': 2660, 'spotted': 2661, 'backed': 2662, 'standing': 2663, 'promised': 2664, 'emirate': 2665, 'weaker': 2666, 'written': 2667, 'nothing': 2668, 'targeted': 2669, 'howard': 2670, 'identity': 2671, '42': 2672, 'telecommunication': 2673, 'deposit': 2674, 'burn': 2675, 'merger': 2676, 'dismissed': 2677, 'insisted': 2678, 'familiar': 2679, 'contractor': 2680, 'edged': 2681, 'advantage': 2682, 'sparked': 2683, 'billionaire': 2684, 'switzerland': 2685, 'zardari': 2686, 'type': 2687, 'flooding': 2688, 'shoot': 2689, 'grew': 2690, 'rumor': 2691, 'bombing': 2692, 'wait': 2693, 'automaker': 2694, 'balance': 2695, 'coverage': 2696, 'crown': 2697, 'resumed': 2698, 'rider': 2699, 'gop': 2700, 'smoke': 2701, 'kazakhstan': 2702, 'kolkata': 2703, 'comprehensive': 2704, 'bird': 2705, 'jimmy': 2706, 'assist': 2707, 'armenian': 2708, 'josh': 2709, 'label': 2710, 'alan': 2711, 'answer': 2712, 'listed': 2713, 'shah': 2714, 'requirement': 2715, 'legislative': 2716, 'cat': 2717, 'leaf': 2718, 'ally': 2719, 'recover': 2720, 'pedestrian': 2721, 'miner': 2722, 'rookie': 2723, 'drew': 2724, 'galaxy': 2725, 'att': 2726, 'maintain': 2727, 'cultural': 2728, 'nevada': 2729, 'roster': 2730, 'postponed': 2731, 'core': 2732, 'azerbaijani': 2733, 'theater': 2734, 'mutual': 2735, 'isnt': 2736, 'battling': 2737, 'favourite': 2738, 'cincinnati': 2739, 'sean': 2740, 'everyone': 2741, 'spear': 2742, 'task': 2743, 'praised': 2744, 'thailand': 2745, 'pet': 2746, 'harris': 2747, 'hire': 2748, 'robin': 2749, 'maintenance': 2750, 'vessel': 2751, 'settle': 2752, 'broker': 2753, 'size': 2754, 'patriot': 2755, 'pledged': 2756, 'penn': 2757, 'interim': 2758, 'louisiana': 2759, 'expense': 2760, 'nhl': 2761, 'possibility': 2762, 'arkansas': 2763, 'flying': 2764, 'portland': 2765, 'tottenham': 2766, 'halt': 2767, 'disney': 2768, 'scientific': 2769, 'marking': 2770, 'compensation': 2771, 'perfect': 2772, 'spokeswoman': 2773, 'spokesperson': 2774, 'mental': 2775, 'coordinator': 2776, 'charlotte': 2777, 'publicly': 2778, 'palace': 2779, 'nominated': 2780, 'supporting': 2781, 'comedian': 2782, 'pushed': 2783, 'pull': 2784, 'joseph': 2785, 'original': 2786, 'rihanna': 2787, '76': 2788, 'condemned': 2789, 'nbc': 2790, 'raza': 2791, 'proud': 2792, 'lift': 2793, 'oneyear': 2794, 'recording': 2795, 'manslaughter': 2796, 'municipal': 2797, 'automotive': 2798, 'sudan': 2799, 'swimming': 2800, 'preseason': 2801, 'naval': 2802, 'ease': 2803, 'chennai': 2804, 'fitness': 2805, 'warren': 2806, 'withdrawn': 2807, 'sep': 2808, 'constitution': 2809, 'household': 2810, 'learning': 2811, 'structure': 2812, 'rice': 2813, 'pub': 2814, 'invasion': 2815, 'violating': 2816, 'height': 2817, 'required': 2818, 'innovative': 2819, 'quoted': 2820, 'derby': 2821, 'closure': 2822, 'caribbean': 2823, 'fixed': 2824, 'reopened': 2825, 'bell': 2826, 'marked': 2827, 'temporarily': 2828, 'dublin': 2829, 'musician': 2830, 'learn': 2831, 'underwent': 2832, 'anything': 2833, 'served': 2834, 'coffee': 2835, 'pornography': 2836, 'permanent': 2837, '2000': 2838, 'dinner': 2839, 'petroleum': 2840, 'wish': 2841, 'athletic': 2842, 'normal': 2843, 'memory': 2844, 'spill': 2845, 'tank': 2846, 'tender': 2847, 'analysis': 2848, 'quite': 2849, 'inquiry': 2850, 'urban': 2851, 'downgraded': 2852, 'jacob': 2853, 'villa': 2854, 'sweden': 2855, 'comeback': 2856, 'included': 2857, 'walked': 2858, 'steady': 2859, 'blamed': 2860, 'fatally': 2861, 'suing': 2862, 'indonesian': 2863, '34': 2864, 'intends': 2865, 'extending': 2866, 'compete': 2867, 'franklin': 2868, 'hamas': 2869, 'lok': 2870, 'ride': 2871, 'sustained': 2872, 'nicolas': 2873, 'misdemeanor': 2874, '85': 2875, 'imposed': 2876, 'ask': 2877, 'anderson': 2878, 'outfielder': 2879, 'motion': 2880, 'till': 2881, '61': 2882, 'whats': 2883, 'boosted': 2884, 'del': 2885, 'controversy': 2886, 'formed': 2887, 'guide': 2888, 'gilani': 2889, 'pti': 2890, 'dramatic': 2891, 'berlin': 2892, 'respect': 2893, 'dhabi': 2894, 'skill': 2895, 'innovation': 2896, 'opponent': 2897, 'processing': 2898, 'tower': 2899, 'trail': 2900, 'code': 2901, 'knowledge': 2902, 'favorite': 2903, 'bahrain': 2904, '10000': 2905, 'competitive': 2906, '10th': 2907, 'god': 2908, 'bp': 2909, 'seventh': 2910, 'goldman': 2911, 'directed': 2912, 'piece': 2913, 'monitor': 2914, 'mahmoud': 2915, 'legislature': 2916, 'shark': 2917, 'lankan': 2918, 'weakened': 2919, 'cnn': 2920, 'indianapolis': 2921, 'slipped': 2922, 'potentially': 2923, 'contribution': 2924, 'stepped': 2925, 'recalling': 2926, 'signal': 2927, 'yard': 2928, 'hudson': 2929, 'unique': 2930, 'suspension': 2931, 'cuban': 2932, 'ash': 2933, 'releasing': 2934, 'supermarket': 2935, 'terry': 2936, 'gaming': 2937, 'spirit': 2938, 'premium': 2939, 'prescription': 2940, 'donation': 2941, 'passing': 2942, 'sheen': 2943, 'mind': 2944, 'bone': 2945, 'plastic': 2946, 'rank': 2947, 'pleased': 2948, 'motorist': 2949, 'reveals': 2950, 'damaged': 2951, 'pattinson': 2952, 'blow': 2953, 'entry': 2954, 'captured': 2955, 'registration': 2956, 'addition': 2957, 'barbara': 2958, 'superior': 2959, 'outlet': 2960, 'marathon': 2961, 'advisor': 2962, 'forcing': 2963, 'strongly': 2964, 'upset': 2965, 'handed': 2966, 'transit': 2967, 'prepared': 2968, 'rushed': 2969, 'plus': 2970, 'sugar': 2971, 'possibly': 2972, 'maoist': 2973, 'critic': 2974, 'determined': 2975, '36': 2976, 'warrior': 2977, 'easy': 2978, 'sacramento': 2979, 'resignation': 2980, 'theyre': 2981, 'brief': 2982, 'dealing': 2983, 'suspicious': 2984, 'betting': 2985, 'roy': 2986, 'ufc': 2987, 'madonna': 2988, 'urging': 2989, 'nebraska': 2990, 'evacuated': 2991, 'destination': 2992, 'drove': 2993, 'someone': 2994, 'auckland': 2995, 'exploration': 2996, 'doubt': 2997, 'communist': 2998, 'hedge': 2999, 'tea': 3000, 'established': 3001, 'uncertainty': 3002, '700': 3003, 'outfit': 3004, 'angelina': 3005, 'wikileaks': 3006, 'ballot': 3007, 'maria': 3008, 'drunken': 3009, 'clark': 3010, 'suit': 3011, '5000': 3012, 'talking': 3013, 'string': 3014, 'ferguson': 3015, 'spoke': 3016, 'cooper': 3017, 'youtube': 3018, 'injuring': 3019, 'thief': 3020, 'either': 3021, 'cited': 3022, 'pole': 3023, 'demanding': 3024, 'insurer': 3025, 'perth': 3026, 'entering': 3027, 'britney': 3028, 'slammed': 3029, 'kenya': 3030, 'upgrade': 3031, 'exit': 3032, 'neil': 3033, 'editor': 3034, 'tribal': 3035, 'wrote': 3036, 'participate': 3037, 'alongside': 3038, 'takeover': 3039, 'affiliate': 3040, 'fla': 3041, 'linebacker': 3042, 'gap': 3043, 'craig': 3044, 'cowboy': 3045, 'ive': 3046, 'hiring': 3047, 'starring': 3048, 'encounter': 3049, 'trafficking': 3050, 'taxi': 3051, 'significantly': 3052, '100000': 3053, 'sensex': 3054, 'netherlands': 3055, 'grade': 3056, 'filmmaker': 3057, 'dow': 3058, 'immigrant': 3059, 'jump': 3060, 'dropping': 3061, 'rome': 3062, 'gujarat': 3063, 'followed': 3064, 'preparation': 3065, 'alone': 3066, 'workforce': 3067, 'milestone': 3068, 'anyone': 3069, 'sachs': 3070, 'walking': 3071, 'katy': 3072, 'obamas': 3073, 'magistrate': 3074, 'ability': 3075, 'argument': 3076, 'prepare': 3077, 'crackdown': 3078, 'rolling': 3079, 'affect': 3080, 'honour': 3081, 'corner': 3082, 'goalkeeper': 3083, 'hunter': 3084, 'zoo': 3085, 'raping': 3086, 'lincoln': 3087, 'ottawa': 3088, 'associate': 3089, 'settled': 3090, 'escape': 3091, 'rob': 3092, 'xinhua': 3093, 'rolled': 3094, 'introduce': 3095, 'beauty': 3096, 'collaboration': 3097, 'abroad': 3098, 'fastest': 3099, 'nigerian': 3100, 'nepal': 3101, 'walker': 3102, 'pat': 3103, 'hawaii': 3104, 'dick': 3105, 'knife': 3106, 'wearing': 3107, 'alexander': 3108, 'upgraded': 3109, 'concluded': 3110, 'bruce': 3111, 'aide': 3112, 'blackberry': 3113, 'kidnapped': 3114, 'pushing': 3115, 'judicial': 3116, 'pitt': 3117, 'scale': 3118, 'illegally': 3119, 'graduate': 3120, 'montreal': 3121, 'attended': 3122, 'charter': 3123, 'dark': 3124, 'restore': 3125, 'diabetes': 3126, 'donated': 3127, 'jolie': 3128, 'lakh': 3129, 'treat': 3130, 'delaware': 3131, 'fake': 3132, 'foreclosure': 3133, 'streak': 3134, 'northwestern': 3135, 'barry': 3136, 'knocked': 3137, 'andre': 3138, 'knight': 3139, 'fifa': 3140, 'terminal': 3141, 'nasa': 3142, 'attention': 3143, 'grove': 3144, 'pending': 3145, 'johannesburg': 3146, 'barclays': 3147, 'opinion': 3148, 'stepping': 3149, 'latin': 3150, 'lawrence': 3151, 'agricultural': 3152, 'burning': 3153, 'hear': 3154, 'warner': 3155, '72': 3156, 'cheryl': 3157, 'stability': 3158, 'fare': 3159, 'rafael': 3160, 'enhance': 3161, 'twenty20': 3162, 'retiring': 3163, 'trillion': 3164, 'fiji': 3165, 'winger': 3166, 'particularly': 3167, 'creative': 3168, 'cinema': 3169, 'supported': 3170, 'eased': 3171, 'shed': 3172, 'cub': 3173, '37': 3174, 'offence': 3175, 'newest': 3176, 'maine': 3177, 'reveal': 3178, 'hugo': 3179, 'suburb': 3180, 'greg': 3181, 'monitoring': 3182, 'nc': 3183, 'staterun': 3184, 'wholesale': 3185, 'bomber': 3186, 'ac': 3187, '48': 3188, 'carter': 3189, 'commonwealth': 3190, 'shipping': 3191, 'assigned': 3192, 'colleague': 3193, 'hole': 3194, 'ram': 3195, '51': 3196, 'mukherjee': 3197, 'armenia': 3198, 'register': 3199, 'defend': 3200, 'murdering': 3201, 'attending': 3202, 'priority': 3203, 'nh': 3204, 'older': 3205, 'hampshire': 3206, 'chancellor': 3207, 'crucial': 3208, 'temple': 3209, 'bihar': 3210, 'holder': 3211, 'reliance': 3212, 'hub': 3213, 'neck': 3214, 'awardwinning': 3215, 'minimum': 3216, 'chart': 3217, 'demonstration': 3218, 'tracking': 3219, 'dolphin': 3220, 'danger': 3221, 'subject': 3222, 'fiveyear': 3223, 'unexpectedly': 3224, 'flame': 3225, 'rumour': 3226, 'bangalore': 3227, 'swift': 3228, 'ricky': 3229, 'us': 3230, 'ranking': 3231, 'wear': 3232, 'bobby': 3233, 'neighbor': 3234, 'rental': 3235, 'petrol': 3236, 'murdered': 3237, 'changing': 3238, '800': 3239, 'dodger': 3240, 'demi': 3241, 'photographer': 3242, 'georgian': 3243, 'qualifier': 3244, 'hip': 3245, 'interested': 3246, 'kidnapping': 3247, 'plunged': 3248, 'revised': 3249, 'montana': 3250, 'bigger': 3251, 'twoday': 3252, 'roman': 3253, 'hopeful': 3254, 'stress': 3255, 'resolve': 3256, 'syed': 3257, 'larry': 3258, 'rush': 3259, 'telling': 3260, 'rocker': 3261, 'promoting': 3262, 'accusing': 3263, 'emission': 3264, 'shoe': 3265, 'attacking': 3266, 'vladimir': 3267, 'danny': 3268, 'wine': 3269, 'baseman': 3270, 'bradley': 3271, 'johnny': 3272, 'belarus': 3273, 'academic': 3274, 'chavez': 3275, 'collapse': 3276, 'bike': 3277, 'explosive': 3278, 'apologized': 3279, 'accept': 3280, 'nascar': 3281, 'driven': 3282, 'carl': 3283, '20yearold': 3284, 'diesel': 3285, 'kristen': 3286, 'brisbane': 3287, 'topped': 3288, 'novel': 3289, 'marry': 3290, 'lakers': 3291, 'reducing': 3292, 'path': 3293, 'smoking': 3294, '21yearold': 3295, 'duke': 3296, 'nurse': 3297, 'disappointing': 3298, '46': 3299, 'baghdad': 3300, 'discussed': 3301, 'permit': 3302, 'edge': 3303, 'thai': 3304, 'basic': 3305, 'virgin': 3306, 'sunderland': 3307, 'selection': 3308, 'rb': 3309, 'threeday': 3310, 'humanitarian': 3311, 'salman': 3312, 'peak': 3313, 'seeing': 3314, 'abdullah': 3315, 'kerala': 3316, 'heritage': 3317, 'nightclub': 3318, 'bed': 3319, 'procedure': 3320, 'jazz': 3321, 'landmark': 3322, 'dave': 3323, 'wolf': 3324, 'riot': 3325, 'unknown': 3326, 'bristol': 3327, 'rand': 3328, 'relative': 3329, 'welfare': 3330, 'replaced': 3331, 'liberty': 3332, 'drought': 3333, 'iconic': 3334, 'restriction': 3335, 'coaching': 3336, 'conspiracy': 3337, 'fa': 3338, 'sworn': 3339, 'writes': 3340, 'poland': 3341, 'reader': 3342, 'midnight': 3343, 'swept': 3344, 'dry': 3345, 'maharashtra': 3346, 'jamie': 3347, 'wealth': 3348, 'opera': 3349, 'skipper': 3350, 'posting': 3351, 'anticipated': 3352, 'restored': 3353, 'distributor': 3354, 'suggesting': 3355, '250': 3356, 'parish': 3357, 'acre': 3358, '3d': 3359, 'oneday': 3360, 'roof': 3361, 'pickup': 3362, 'jacksonville': 3363, 'crop': 3364, 'capitol': 3365, 'qualifying': 3366, 'revolution': 3367, 'refinery': 3368, 'benedict': 3369, 'tsunami': 3370, 'prove': 3371, 'parade': 3372, 'boeing': 3373, 'saved': 3374, 'accidentally': 3375, 'lay': 3376, 'sponsor': 3377, 'bat': 3378, 'brave': 3379, 'broadcaster': 3380, 'colombian': 3381, 'promoted': 3382, 'consulting': 3383, 'era': 3384, 'skin': 3385, 'vendor': 3386, 'armstrong': 3387, 'presidency': 3388, 'memphis': 3389, 'biden': 3390, 'advice': 3391, 'amendment': 3392, '44': 3393, 'surge': 3394, 'fbi': 3395, 'ace': 3396, 'margin': 3397, 'walmart': 3398, 'surrounding': 3399, 'yield': 3400, 'wound': 3401, 'gaddafi': 3402, 'toddler': 3403, 'attempting': 3404, '43': 3405, 'billy': 3406, 'interactive': 3407, 'bloomberg': 3408, 'allstar': 3409, 'crack': 3410, 'lebanese': 3411, 'completely': 3412, 'cook': 3413, 'freed': 3414, 'seed': 3415, 'chrysler': 3416, 'throwing': 3417, 'idaho': 3418, 'neighbour': 3419, 'text': 3420, 'waiver': 3421, 'quick': 3422, 'mtv': 3423, 'chest': 3424, 'detective': 3425, 'parker': 3426, 'fed': 3427, 'quoting': 3428, 'mistake': 3429, 'collided': 3430, 'manage': 3431, 'dmitry': 3432, 'shelter': 3433, 'medvedev': 3434, 'le': 3435, 'karnataka': 3436, '38': 3437, 'streaming': 3438, 'leak': 3439, 'ibm': 3440, 'shock': 3441, 'espn': 3442, '55': 3443, 'louisville': 3444, 'predicted': 3445, 'southeastern': 3446, 'hailed': 3447, 'viking': 3448, 'chosen': 3449, 'allows': 3450, 'catch': 3451, 'bishop': 3452, 'watching': 3453, '2015': 3454, 'nicole': 3455, 'datuk': 3456, 'envoy': 3457, 'petition': 3458, 'exporter': 3459, 'involvement': 3460, 'shift': 3461, 'virtual': 3462, 'softball': 3463, 'intel': 3464, 'wellington': 3465, 'viewer': 3466, 'solo': 3467, 'coroner': 3468, 'raw': 3469, 'malik': 3470, 'discount': 3471, 'raider': 3472, '911': 3473, 'lance': 3474, 'greatest': 3475, 'unless': 3476, 'drilling': 3477, 'stream': 3478, 'hilton': 3479, 'looked': 3480, 'tip': 3481, 'juan': 3482, 'titan': 3483, 'adelaide': 3484, '2005': 3485, 'efficiency': 3486, '53': 3487, 'unidentified': 3488, 'rochester': 3489, 'apa': 3490, 'delta': 3491, 'lopez': 3492, 'aston': 3493, 'offset': 3494, 'apologised': 3495, 'policeman': 3496, 'grocery': 3497, 'finger': 3498, 'fail': 3499, 'marshall': 3500, 'vision': 3501, 'banker': 3502, 'abortion': 3503, 'vaccine': 3504, 'colombia': 3505, '82': 3506, 'cyrus': 3507, 'costar': 3508, 'karachi': 3509, 'ian': 3510, 'threeyear': 3511, 'homeowner': 3512, 'affordable': 3513, 'owen': 3514, 'burned': 3515, 'integration': 3516, 'jonathan': 3517, 'uttar': 3518, 'ranked': 3519, 'cowell': 3520, 'shared': 3521, 'clothing': 3522, 'depression': 3523, 'hostage': 3524, 'magic': 3525, 'tyler': 3526, 'headline': 3527, 'climbed': 3528, 'hair': 3529, 'cyclist': 3530, 'gunpoint': 3531, 'necessary': 3532, 'vatican': 3533, '11th': 3534, 'mandela': 3535, 'definitive': 3536, '1st': 3537, 'cairo': 3538, 'unable': 3539, 'critically': 3540, 'directly': 3541, 'absence': 3542, 'disclosed': 3543, 'trainer': 3544, 'renewable': 3545, 'winehouse': 3546, 'fewer': 3547, 'remote': 3548, 'survived': 3549, 'licence': 3550, '24yearold': 3551, 'pranab': 3552, 'riding': 3553, 'angry': 3554, 'administrator': 3555, 'establish': 3556, 'exploded': 3557, 'venezuelan': 3558, 'fun': 3559, 'muhammad': 3560, 'faster': 3561, 'honda': 3562, 'tanker': 3563, 'moon': 3564, 'occasion': 3565, 'brandon': 3566, 'writing': 3567, 'slump': 3568, 'youre': 3569, 'external': 3570, 'staged': 3571, 'guarantee': 3572, 'ore': 3573, 'pleading': 3574, 'advocate': 3575, 'neutral': 3576, 'computing': 3577, 'gathered': 3578, 'broadcasting': 3579, 'firing': 3580, 'map': 3581, 'lung': 3582, 'default': 3583, 'robber': 3584, 'athens': 3585, 'afl': 3586, 'kidney': 3587, 'titled': 3588, 'bachchan': 3589, 'determine': 3590, 'disputed': 3591, 'shane': 3592, 'costa': 3593, 'detention': 3594, 'lama': 3595, 'manhattan': 3596, 'broad': 3597, 'prayer': 3598, 'achievement': 3599, 'batsman': 3600, 'watson': 3601, 'method': 3602, '54': 3603, 'prevention': 3604, 'triple': 3605, 'thompson': 3606, 'munich': 3607, 'solid': 3608, 'pervez': 3609, 'miley': 3610, 'brett': 3611, 'component': 3612, 'widespread': 3613, 'trapped': 3614, 'arson': 3615, 'jefferson': 3616, '52': 3617, 'haiti': 3618, 'watchdog': 3619, 'outdoor': 3620, 'ninth': 3621, 'hunt': 3622, 'defenseman': 3623, 'blame': 3624, 'universal': 3625, 'graham': 3626, 'comic': 3627, 'putin': 3628, 'easing': 3629, 'lloyd': 3630, 'bottom': 3631, 'douglas': 3632, 'shell': 3633, 'julia': 3634, 'reid': 3635, 'aaron': 3636, 'capability': 3637, 'switch': 3638, 'secondary': 3639, 'sterling': 3640, 'raped': 3641, 'numerous': 3642, 'drawing': 3643, 'slowing': 3644, 'glass': 3645, 'eighth': 3646, 'assignment': 3647, 'holmes': 3648, 'tibetan': 3649, 'thrown': 3650, 'sustainable': 3651, 'keith': 3652, 'function': 3653, 'nearby': 3654, 'command': 3655, 'arrival': 3656, 'fly': 3657, 'shuttle': 3658, 'smartphones': 3659, 'tmz': 3660, 'retained': 3661, 'jerusalem': 3662, 'occupied': 3663, 'beverly': 3664, 'casey': 3665, 'liam': 3666, 'suburban': 3667, 'pump': 3668, 'gene': 3669, 'iii': 3670, 'verizon': 3671, 'creation': 3672, 'bonus': 3673, 'drone': 3674, 'dean': 3675, 'yemeni': 3676, 'maritime': 3677, 'sovereign': 3678, 'kerry': 3679, '67': 3680, 'cyprus': 3681, 'bowler': 3682, 'indicated': 3683, 'flash': 3684, 'coastal': 3685, 'applied': 3686, 'hate': 3687, 'rover': 3688, 'borrowing': 3689, 'substance': 3690, 'bashar': 3691, 'conservation': 3692, 'inventory': 3693, 'roberto': 3694, 'membership': 3695, 'inter': 3696, 'harper': 3697, 'fled': 3698, 'deutsche': 3699, 'jeremy': 3700, 'walter': 3701, 'sitting': 3702, 'sporting': 3703, 'aggravated': 3704, '2004': 3705, 'holy': 3706, 'pose': 3707, 'covering': 3708, 'unchanged': 3709, 'minneapolis': 3710, 'tribune': 3711, 'flow': 3712, 'plot': 3713, 'ross': 3714, 'worse': 3715, 'bc': 3716, 'todd': 3717, 'suite': 3718, 'specialty': 3719, '3000': 3720, 'ownership': 3721, 'musharraf': 3722, 'standoff': 3723, 'jobless': 3724, 'responded': 3725, 'implement': 3726, 'surged': 3727, 'advised': 3728, 'prompting': 3729, 'nadu': 3730, 'collins': 3731, 'gross': 3732, 'brewer': 3733, 'outbreak': 3734, 'dalai': 3735, '120': 3736, 'unanimously': 3737, 'ken': 3738, 'cliff': 3739, 'amazon': 3740, 'nonprofit': 3741, 'unlikely': 3742, 'concerned': 3743, 'momentum': 3744, 'polish': 3745, 'ist': 3746, 'accepting': 3747, 'julian': 3748, 'trailer': 3749, 'lifetime': 3750, 'replacement': 3751, 'hunting': 3752, 'lightning': 3753, 'constitutional': 3754, 'serbian': 3755, 'fundraising': 3756, 'workshop': 3757, 'kuwait': 3758, 'hughes': 3759, 'fitch': 3760, 'athletics': 3761, 'chile': 3762, 'abdul': 3763, 'crystal': 3764, 'serial': 3765, 'hunger': 3766, 'hp': 3767, 'kenny': 3768, 'rogers': 3769, 'keen': 3770, 'spur': 3771, 'dairy': 3772, 'milk': 3773, 'consumption': 3774, 'sleep': 3775, 'mets': 3776, 'everton': 3777, 'blaze': 3778, 'wire': 3779, 'celebrates': 3780, 'watched': 3781, 'largely': 3782, 'poised': 3783, 'mitchell': 3784, 'oak': 3785, 'aggressive': 3786, 'vital': 3787, 'enable': 3788, 'admitting': 3789, 'achieve': 3790, 'select': 3791, 'maximum': 3792, 'spy': 3793, 'fisher': 3794, 'underway': 3795, 'councillor': 3796, 'trooper': 3797, 'administrative': 3798, 'arnold': 3799, 'recognition': 3800, 'hanging': 3801, 'producing': 3802, 'insider': 3803, 'optimism': 3804, '20th': 3805, 'reward': 3806, 'reopen': 3807, 'disorder': 3808, 'pioneer': 3809, 'pharmacy': 3810, 'server': 3811, 'seoul': 3812, 'weakness': 3813, 'brussels': 3814, 'documentary': 3815, 'overhaul': 3816, 'grain': 3817, 'intersection': 3818, 'triggered': 3819, 'frontman': 3820, 'briefly': 3821, 'anc': 3822, 'estranged': 3823, 'inspector': 3824, 'challenger': 3825, '66': 3826, 'representing': 3827, 'wasnt': 3828, 'achieved': 3829, 'kent': 3830, 'montgomery': 3831, 'sarkozy': 3832, 'publication': 3833, 'nobel': 3834, 'righthander': 3835, 'aniston': 3836, 'bullet': 3837, 'flagship': 3838, 'moderate': 3839, 'stranded': 3840, 'entitled': 3841, 'prestigious': 3842, 'segment': 3843, 'telephone': 3844, 'organized': 3845, 'salt': 3846, 'promising': 3847, 'electrical': 3848, 'apr': 3849, 'scoring': 3850, 'mt': 3851, 'insisting': 3852, 'abandoned': 3853, 'unrest': 3854, 'challenging': 3855, 'crashing': 3856, 'sensation': 3857, 'hamid': 3858, 'clinical': 3859, 'voluntary': 3860, 'slashed': 3861, '900': 3862, 'cycling': 3863, 'skip': 3864, 'strengthened': 3865, '19yearold': 3866, 'ted': 3867, 'sharing': 3868, 'chidambaram': 3869, 'mohammed': 3870, 'raven': 3871, 'ahmadinejad': 3872, 'bronco': 3873, 'extremely': 3874, 'evacuation': 3875, 'peaceful': 3876, 'southwestern': 3877, 'purpose': 3878, 'sharif': 3879, 'survivor': 3880, 'cambridge': 3881, 'austerity': 3882, 'publishing': 3883, 'obtained': 3884, '68': 3885, '22yearold': 3886, 'romania': 3887, 'defeating': 3888, 'refusing': 3889, 'mom': 3890, 'confirms': 3891, '77': 3892, 'chair': 3893, 'beer': 3894, 'inspired': 3895, 'submitted': 3896, 'kris': 3897, 'shield': 3898, 'wildfire': 3899, 'nursing': 3900, 'redskin': 3901, 'springfield': 3902, 'inquest': 3903, 'sue': 3904, 'smaller': 3905, 'weighed': 3906, 'declining': 3907, 'implementation': 3908, 'fernando': 3909, 'laboratory': 3910, 'mubarak': 3911, 'emotional': 3912, 'poverty': 3913, 'nature': 3914, 'slowed': 3915, 'blocked': 3916, 'installed': 3917, 'clothes': 3918, 'liquor': 3919, 'spectrum': 3920, 'teaching': 3921, 'curb': 3922, 'meter': 3923, 'gen': 3924, 'lying': 3925, 'richmond': 3926, 'toy': 3927, 'transition': 3928, 'hasnt': 3929, '50000': 3930, 'pupil': 3931, 'twilight': 3932, 'insurgent': 3933, 'kyle': 3934, 'mario': 3935, 'cricketer': 3936, 'triplea': 3937, 'venue': 3938, 'kosovo': 3939, 'concussion': 3940, 'ambulance': 3941, '71': 3942, 'dell': 3943, '12th': 3944, 'pregnancy': 3945, 'container': 3946, 'exposure': 3947, 'evans': 3948, 'privacy': 3949, 'kapoor': 3950, 'educational': 3951, 'guidance': 3952, 'inaugural': 3953, 'apart': 3954, 'ski': 3955, 'portugal': 3956, 'haryana': 3957, 'bound': 3958, 'priest': 3959, '56': 3960, 'hyderabad': 3961, 'brook': 3962, 'elbow': 3963, 'ward': 3964, 'overcome': 3965, 'rod': 3966, 'socalled': 3967, 'entrepreneur': 3968, 'wheel': 3969, 'formal': 3970, 'vacant': 3971, 'throw': 3972, 'presidentelect': 3973, 'ashley': 3974, 'unity': 3975, 'replacing': 3976, 'judiciary': 3977, 'gear': 3978, 'doubled': 3979, 'recycling': 3980, 'compliance': 3981, 'oldest': 3982, 'chef': 3983, 'operate': 3984, 'sick': 3985, 'closely': 3986, 'motorcyclist': 3987, 'potter': 3988, 'northeastern': 3989, 'lifestyle': 3990, 'cope': 3991, 'crossed': 3992, 'sheikh': 3993, 'younger': 3994, 'steelers': 3995, 'designated': 3996, 'recommended': 3997, 'atomic': 3998, 'slam': 3999, 'definitely': 4000, 'lp': 4001, 'reiterated': 4002, 'suggest': 4003, 'withdraw': 4004, 'originally': 4005, 'larger': 4006, 'breach': 4007, 'pilgrim': 4008, '47': 4009, 'mccartney': 4010, 'lucky': 4011, 'foster': 4012, 'offense': 4013, 'uranium': 4014, 'lt': 4015, 'investigate': 4016, 'proceeding': 4017, 'norway': 4018, 'feared': 4019, 'faith': 4020, 'operational': 4021, 'sense': 4022, 'handset': 4023, 'firearm': 4024, 'sandy': 4025, 'warehouse': 4026, 'jesse': 4027, 'punishment': 4028, 'unprecedented': 4029, 'easily': 4030, 'confessed': 4031, 'combined': 4032, 'wreck': 4033, 'wheat': 4034, 'extreme': 4035, 'widely': 4036, 'nrl': 4037, 'abusing': 4038, 'muammar': 4039, 'tommy': 4040, 'easter': 4041, 'attract': 4042, 'overturned': 4043, 'dress': 4044, 'appealing': 4045, 'bolster': 4046, 'clerk': 4047, 'lahore': 4048, '25yearold': 4049, 'footballer': 4050, 'cofounder': 4051, 'personality': 4052, 'shopper': 4053, 'behalf': 4054, 'incentive': 4055, 'rajasthan': 4056, 'asylum': 4057, 'taxpayer': 4058, '18yearold': 4059, 'concept': 4060, 'taipei': 4061, 'contain': 4062, 'alberta': 4063, 'drill': 4064, 'highlight': 4065, 'delivering': 4066, 'feed': 4067, 'leeds': 4068, 'christina': 4069, 'auburn': 4070, 'phillies': 4071, 'pizza': 4072, 'aboard': 4073, 'striking': 4074, 'investing': 4075, 'semiconductor': 4076, 'creator': 4077, 'astronaut': 4078, 'prepares': 4079, 'ethnic': 4080, 'pulling': 4081, 'imf': 4082, 'agenda': 4083, 'peninsula': 4084, 'outage': 4085, 'hybrid': 4086, 'shape': 4087, 'janata': 4088, 'understanding': 4089, 'scare': 4090, 'withdrew': 4091, 'renowned': 4092, 'stem': 4093, 'cue': 4094, 'extensive': 4095, 'tape': 4096, 'turmoil': 4097, 'maintained': 4098, 'roadside': 4099, 'infant': 4100, 'nancy': 4101, 'dumped': 4102, 'hometown': 4103, 'fix': 4104, 'pretty': 4105, 'sp': 4106, 'aside': 4107, 'slash': 4108, 'strain': 4109, 'monroe': 4110, 'donald': 4111, 'qantas': 4112, 'nj': 4113, 'tribunal': 4114, 'zuma': 4115, 'cancel': 4116, 'philip': 4117, 'execution': 4118, 'audit': 4119, 'intention': 4120, 'specie': 4121, 'pete': 4122, 'laptop': 4123, 'pga': 4124, '23yearold': 4125, 'lived': 4126, 'rodriguez': 4127, 'print': 4128, 'usbased': 4129, 'inspection': 4130, 'ahmed': 4131, 'mainly': 4132, 'marc': 4133, 'audio': 4134, 'worried': 4135, 'k': 4136, 'belgium': 4137, 'branded': 4138, 'argentine': 4139, 'protesting': 4140, 'favour': 4141, 'simple': 4142, '28yearold': 4143, 'dam': 4144, 'organised': 4145, 'finland': 4146, 'm': 4147, 'singing': 4148, 'wicket': 4149, '57': 4150, 'investigated': 4151, 'packaging': 4152, 'guitarist': 4153, 'dj': 4154, 'stemming': 4155, 'importance': 4156, 'grid': 4157, 'counter': 4158, 'behaviour': 4159, 'hindu': 4160, 'glasgow': 4161, 'heavily': 4162, 'transplant': 4163, 'screening': 4164, 'municipality': 4165, 'anne': 4166, 'surveillance': 4167, 'acquiring': 4168, 'ham': 4169, 'empire': 4170, 'kabul': 4171, 'listing': 4172, '95': 4173, 'carmaker': 4174, 'honoured': 4175, 'completion': 4176, 'recognized': 4177, 'elephant': 4178, 'benjamin': 4179, 'norwegian': 4180, 'understand': 4181, 'profile': 4182, 'desert': 4183, 'jesus': 4184, 'childhood': 4185, '2nd': 4186, 'rahul': 4187, 'invitation': 4188, 'risen': 4189, 'prostate': 4190, 'albert': 4191, 'wimbledon': 4192, 'backing': 4193, '125': 4194, 'pit': 4195, 'yes': 4196, 'disability': 4197, 'resulted': 4198, 'km': 4199, 'write': 4200, 'beef': 4201, 'pledge': 4202, 'fill': 4203, 'correspondent': 4204, 'couldnt': 4205, 'pentagon': 4206, 'metre': 4207, 'sindh': 4208, 'packer': 4209, 'motorola': 4210, 'bench': 4211, 'th': 4212, 'assured': 4213, 'bernard': 4214, 'belgian': 4215, 'enhanced': 4216, '2002': 4217, 'kitchen': 4218, 'mounting': 4219, 'vicepresident': 4220, 'resulting': 4221, 'severely': 4222, 'prosecution': 4223, 'rachel': 4224, 'bolton': 4225, 'sachin': 4226, 'discrimination': 4227, 'confirm': 4228, 'seconddegree': 4229, 'migrant': 4230, 'shipment': 4231, 'controlled': 4232, 'featured': 4233, 'abbas': 4234, 'builder': 4235, 'et': 4236, 'experienced': 4237, 'statewide': 4238, 'kanye': 4239, 'lesbian': 4240, 'regard': 4241, '83': 4242, 'mohammad': 4243, 'pattern': 4244, 'citigroup': 4245, '49': 4246, 'arrive': 4247, 'lesson': 4248, 'boss': 4249, 'participation': 4250, 'lover': 4251, 'max': 4252, '74': 4253, 'principle': 4254, 'pneumonia': 4255, 'talked': 4256, '1500': 4257, 'baku': 4258, 'electoral': 4259, 'luke': 4260, 'hull': 4261, 'steal': 4262, 'vodafone': 4263, 'lunch': 4264, 'garage': 4265, 'startup': 4266, 'theme': 4267, '86': 4268, 'opec': 4269, 'lease': 4270, 'zero': 4271, 'airbus': 4272, 'sacked': 4273, 'damascus': 4274, 'prompted': 4275, 'eddie': 4276, 'portsmouth': 4277, 'fought': 4278, 'assessment': 4279, 'subscriber': 4280, 'eating': 4281, 'thunderstorm': 4282, 'lab': 4283, 'discharged': 4284, 'mason': 4285, 'gomez': 4286, 'randy': 4287, 'theyve': 4288, 'midland': 4289, 'chicken': 4290, 'suzuki': 4291, 'fundraiser': 4292, 'albany': 4293, 'volleyball': 4294, 'gibson': 4295, 'supermodel': 4296, 'routine': 4297, 'surplus': 4298, '39': 4299, 'specific': 4300, 'phillips': 4301, 'meat': 4302, '50th': 4303, 'pink': 4304, 'verdict': 4305, 'laden': 4306, 'observed': 4307, 'peru': 4308, 'provision': 4309, 'pill': 4310, 'leon': 4311, 'rollover': 4312, 'wright': 4313, 'uefa': 4314, 'census': 4315, 'thanksgiving': 4316, 'layoff': 4317, 'permission': 4318, 'waived': 4319, 'ferry': 4320, 'tear': 4321, 'referendum': 4322, 'complication': 4323, 'guru': 4324, 'pipe': 4325, 'sonia': 4326, 'easier': 4327, 'midwest': 4328, 'meal': 4329, 'emmy': 4330, 'omaha': 4331, 'beautiful': 4332, 'sideline': 4333, 'privately': 4334, 'crunch': 4335, 'finishing': 4336, 'loved': 4337, 'consultation': 4338, 'yousuf': 4339, 'convenience': 4340, 'staying': 4341, 'adopt': 4342, 'apply': 4343, 'survive': 4344, 'thriller': 4345, 'cool': 4346, 'encourage': 4347, 'charging': 4348, 'swap': 4349, 'parole': 4350, 'xbox': 4351, 'alleging': 4352, 'modi': 4353, 'golfer': 4354, 'capture': 4355, 'buried': 4356, 'regret': 4357, 'obesity': 4358, 'thinking': 4359, 'apology': 4360, 'pricing': 4361, 'bottle': 4362, 'tire': 4363, 'brooklyn': 4364, 'therapy': 4365, 'cautious': 4366, 'cotton': 4367, 'meaning': 4368, 'cycle': 4369, 'tragedy': 4370, 'exciting': 4371, 'projected': 4372, 'seminar': 4373, 'finnish': 4374, 'diet': 4375, 'edinburgh': 4376, 'heidi': 4377, 'plain': 4378, 'executed': 4379, 'signature': 4380, 'sweep': 4381, 'locked': 4382, 'disciplinary': 4383, 'breakfast': 4384, 'gasoline': 4385, 'stick': 4386, 'appearing': 4387, 'ronaldo': 4388, 'blake': 4389, 'certificate': 4390, 'sena': 4391, 'oscarwinning': 4392, 'preferred': 4393, 'grown': 4394, '13th': 4395, 'warming': 4396, 'doping': 4397, 'earn': 4398, 'frozen': 4399, 'mineral': 4400, 'bowling': 4401, 'brokerage': 4402, 'purchased': 4403, 'valued': 4404, 'wwe': 4405, '25th': 4406, '73': 4407, 'warm': 4408, 'cooperative': 4409, 'buzz': 4410, 'mystery': 4411, 'recommendation': 4412, 'sheet': 4413, 'lie': 4414, 'inaugurated': 4415, 'slated': 4416, 'gathering': 4417, 'torn': 4418, 'calgary': 4419, 'placement': 4420, 'postal': 4421, 'battled': 4422, 'root': 4423, 'plate': 4424, 'xvi': 4425, 'multiyear': 4426, 'cruelty': 4427, 'perhaps': 4428, 'versus': 4429, 'cigarette': 4430, 'ave': 4431, 'prostitution': 4432, 'intended': 4433, 'contender': 4434, 'harassment': 4435, 'dad': 4436, 'austria': 4437, 'dennis': 4438, '15yearold': 4439, 'cop': 4440, 'responding': 4441, 'pa': 4442, 'volatile': 4443, 'edmonton': 4444, 'casualty': 4445, 'stateowned': 4446, '130': 4447, 'explain': 4448, 'rupert': 4449, 'carey': 4450, 'simply': 4451, 'hiv': 4452, 'runway': 4453, 'religion': 4454, 'freight': 4455, 'superintendent': 4456, 'jewelry': 4457, 'impressive': 4458, 'briefing': 4459, 'ultimate': 4460, 'moss': 4461, 'journey': 4462, 'badly': 4463, 'francis': 4464, 'spell': 4465, 'seal': 4466, 'commuter': 4467, 'suv': 4468, 'portion': 4469, 'expensive': 4470, 'bounced': 4471, 'tag': 4472, 'effectively': 4473, 'susan': 4474, 'blackburn': 4475, 'hacker': 4476, 'alqaeda': 4477, 'dynamic': 4478, 'challenged': 4479, 'fouryear': 4480, 'belt': 4481, 'scrap': 4482, 'unpaid': 4483, 'freeze': 4484, 'ceasefire': 4485, 'merchant': 4486, 'bout': 4487, '69': 4488, 'quebec': 4489, 'bmw': 4490, 'winnipeg': 4491, '78': 4492, 'substantial': 4493, 'wouldnt': 4494, 'antigovernment': 4495, 'norfolk': 4496, 'jaguar': 4497, 'mentally': 4498, 'ashton': 4499, 'fugitive': 4500, 'intervention': 4501, 'pride': 4502, 'seem': 4503, '17th': 4504, 'angela': 4505, 'treaty': 4506, 'modest': 4507, 'mugabe': 4508, 'mohamed': 4509, 'boycott': 4510, 'unbeaten': 4511, 'checkpoint': 4512, 'princess': 4513, 'inch': 4514, 'robinson': 4515, 'devastating': 4516, 'twotime': 4517, 'colt': 4518, 'penguin': 4519, 'accounting': 4520, 'legislator': 4521, 'organiser': 4522, 'declaring': 4523, 'instrument': 4524, 'narrowly': 4525, 'harrison': 4526, 'anchor': 4527, 'desperate': 4528, 'violated': 4529, 'swing': 4530, 'recruitment': 4531, 'forecaster': 4532, 'download': 4533, 'tweet': 4534, 'qualified': 4535, 'noted': 4536, '58': 4537, 'exwife': 4538, 'emma': 4539, 'metropolitan': 4540, 'analytics': 4541, 'spencer': 4542, 'cbi': 4543, 'influential': 4544, 'enjoy': 4545, 'portal': 4546, 'pastor': 4547, 'filming': 4548, 'norwich': 4549, 'sensitive': 4550, 'framework': 4551, 'deer': 4552, '05': 4553, 'circle': 4554, 'ubs': 4555, 'ailing': 4556, 'marion': 4557, 'leaked': 4558, 'spiritual': 4559, 'proved': 4560, 'absolutely': 4561, 'error': 4562, 'governance': 4563, 'aiming': 4564, 'rehabilitation': 4565, 'qaeda': 4566, 'mariner': 4567, 'bitter': 4568, 'repeatedly': 4569, 'odds': 4570, 'governing': 4571, 'reconciliation': 4572, 'l': 4573, 'essential': 4574, 'luis': 4575, 'kicking': 4576, 'maintaining': 4577, 'rooney': 4578, 'selena': 4579, 'turbine': 4580, 'horror': 4581, '100th': 4582, 'completing': 4583, 'guideline': 4584, 'happen': 4585, 'porn': 4586, 'participating': 4587, 'fruit': 4588, 'tobacco': 4589, 'accusation': 4590, 'arent': 4591, 'agree': 4592, 'tibet': 4593, 'graphic': 4594, 'consultant': 4595, 'ethic': 4596, 'romanian': 4597, 'speedway': 4598, 'murphy': 4599, 'ecommerce': 4600, 'torch': 4601, '14yearold': 4602, 'andhra': 4603, 'percentage': 4604, 'wonder': 4605, 'travelling': 4606, 'tendulkar': 4607, 'secondlargest': 4608, 'transmission': 4609, 'owns': 4610, 'soil': 4611, 'misconduct': 4612, 'colin': 4613, 'intent': 4614, 'newborn': 4615, 'oriole': 4616, 'donor': 4617, 'playstation': 4618, 'participant': 4619, 'soul': 4620, 'osama': 4621, 'relay': 4622, 'recruit': 4623, 'reaction': 4624, 'silvio': 4625, 'treasurer': 4626, 'firework': 4627, 'navigation': 4628, '30yearold': 4629, 'pointed': 4630, 'handle': 4631, 'enemy': 4632, 'acclaimed': 4633, 'presenter': 4634, 'refinance': 4635, 'amanda': 4636, 'cheating': 4637, 'marketplace': 4638, 'extraordinary': 4639, 'ridge': 4640, 'youngster': 4641, 'traveling': 4642, 'unveil': 4643, 'catcher': 4644, 'hosni': 4645, 'dpa': 4646, 'heroin': 4647, 'addressing': 4648, 'tumbled': 4649, 'affecting': 4650, 'shootout': 4651, '81': 4652, 'clearing': 4653, 'cardiac': 4654, 'particular': 4655, 'rebounded': 4656, 'chronic': 4657, 'magnitude': 4658, 'manila': 4659, 'appealed': 4660, 'na': 4661, 'stuck': 4662, 'manuel': 4663, 'dragged': 4664, 'kenyan': 4665, 'breakthrough': 4666, 'woe': 4667, 'incumbent': 4668, 'peer': 4669, 'christie': 4670, 'somalia': 4671, 'malta': 4672, 'willing': 4673, 'elite': 4674, 'nathan': 4675, 'suddenly': 4676, 'jakarta': 4677, 'yuan': 4678, 'sc': 4679, 'helen': 4680, 'gaining': 4681, 'da': 4682, 'juventus': 4683, 'islamist': 4684, 'ferrari': 4685, 'radical': 4686, 'scout': 4687, 'referee': 4688, 'seahawks': 4689, 'borough': 4690, '16yearold': 4691, 'bayern': 4692, 'outcome': 4693, '2020': 4694, 'logistics': 4695, 'quiet': 4696, 'grammy': 4697, 'ann': 4698, 'lottery': 4699, 'arrangement': 4700, 'plead': 4701, 'naked': 4702, 'mosque': 4703, 'jun': 4704, 'mogul': 4705, 'require': 4706, 'specifically': 4707, 'assange': 4708, 'vulnerable': 4709, 'nadal': 4710, 'publicist': 4711, 'christchurch': 4712, 'organizer': 4713, 'circumstance': 4714, 'excessive': 4715, 'levy': 4716, 'lily': 4717, 'guardian': 4718, 'firstdegree': 4719, 'sandra': 4720, 'boxer': 4721, 'bernanke': 4722, 'rehman': 4723, 'icc': 4724, 'transferred': 4725, 'yellow': 4726, 'mate': 4727, 'underground': 4728, 'blasted': 4729, 'origin': 4730, 'composer': 4731, 'speeding': 4732, 'fortune': 4733, 'relating': 4734, 'sudden': 4735, 'romantic': 4736, 'butler': 4737, 'longest': 4738, 'hinted': 4739, 'newark': 4740, '4th': 4741, 'swat': 4742, 'encouraging': 4743, 'salem': 4744, 'colombo': 4745, 'honorary': 4746, 'correction': 4747, 'f': 4748, 'martinez': 4749, 'timothy': 4750, 'posed': 4751, '15th': 4752, 'touched': 4753, 'erupted': 4754, '88': 4755, 'addressed': 4756, 'poker': 4757, 'exposed': 4758, 'furniture': 4759, 'pensioner': 4760, 'gambling': 4761, 'juvenile': 4762, 'vacation': 4763, 'enjoyed': 4764, 'strengthening': 4765, '89': 4766, 'evasion': 4767, 'castro': 4768, 'bryant': 4769, 'lashed': 4770, 'abducted': 4771, 'sank': 4772, 'mild': 4773, '110': 4774, 'gillard': 4775, 'fat': 4776, 'sharma': 4777, 'physician': 4778, 'whale': 4779, 'exclusively': 4780, 'eat': 4781, 'reference': 4782, 'proceeds': 4783, '26yearold': 4784, 'ca': 4785, 'focusing': 4786, 'newport': 4787, '79': 4788, 'surgeon': 4789, 'eur': 4790, 'berlusconi': 4791, 'crushed': 4792, 'swan': 4793, 'sheffield': 4794, 'arctic': 4795, 'concerning': 4796, 'zimbabwean': 4797, 'disruption': 4798, 'wenger': 4799, 'sioux': 4800, 'scholarship': 4801, 'controller': 4802, 'buck': 4803, 'essex': 4804, 'amitabh': 4805, 'dental': 4806, 'mo': 4807, 'planet': 4808, 'murdoch': 4809, 'brings': 4810, 'jewellery': 4811, 'availability': 4812, 'petersburg': 4813, 'dy': 4814, 'establishment': 4815, 'rainfall': 4816, 'withdrawal': 4817, 'activated': 4818, 'contestant': 4819, 'liability': 4820, 'wigan': 4821, 'netanyahu': 4822, 'picking': 4823, '91': 4824, 'inducted': 4825, 'islam': 4826, 'exam': 4827, 'vegetable': 4828, 'boulevard': 4829, 'clarke': 4830, 'hardware': 4831, 'hu': 4832, 'glen': 4833, 'suspend': 4834, 'broking': 4835, 'manny': 4836, 'pack': 4837, 'firstquarter': 4838, '18th': 4839, 'lil': 4840, '15day': 4841, '84': 4842, 'istanbul': 4843, 'sebastian': 4844, 'sponsored': 4845, 'safely': 4846, 'highland': 4847, 'represent': 4848, 'pact': 4849, 'jumping': 4850, 'congratulated': 4851, 'meant': 4852, 'lexington': 4853, 'commit': 4854, 'rapidly': 4855, 'middleton': 4856, 'homeland': 4857, 'soaring': 4858, 'runner': 4859, 'racist': 4860, 'dame': 4861, 'derivative': 4862, 'carpet': 4863, 'spreading': 4864, 'herald': 4865, 'collected': 4866, 'filled': 4867, 'gm': 4868, 'infielder': 4869, 'element': 4870, 'reservation': 4871, 'rocky': 4872, 'excited': 4873, 'installation': 4874, 'recruiting': 4875, 'compound': 4876, 'canal': 4877, 'sing': 4878, 'mahindra': 4879, 'heath': 4880, 'revealing': 4881, 'shower': 4882, 'subsidy': 4883, 'dragon': 4884, 'respond': 4885, 'robbie': 4886, 'creditor': 4887, 'booking': 4888, 'baker': 4889, 'sat': 4890, '7th': 4891, 'dvd': 4892, 'karzai': 4893, 'blockbuster': 4894, '20000': 4895, 'cornerback': 4896, 'flyer': 4897, 'wrestling': 4898, 'egg': 4899, 'filipino': 4900, 'devil': 4901, 'h1n1': 4902, 'showcase': 4903, 'medicare': 4904, 'charger': 4905, 'lynch': 4906, 'continental': 4907, 'kiss': 4908, 'awaited': 4909, 'burglar': 4910, 'eventually': 4911, 'brutal': 4912, 'narendra': 4913, 'jake': 4914, 'fierce': 4915, 'boosting': 4916, 'accessory': 4917, 'charleston': 4918, 'dubbed': 4919, 'who': 4920, 'gallery': 4921, 'drawn': 4922, 'lisa': 4923, 'processor': 4924, 'handling': 4925, 'format': 4926, 'bangkok': 4927, 'declaration': 4928, 'knew': 4929, 'ebay': 4930, 'htc': 4931, 'imported': 4932, 'sweeping': 4933, 'burst': 4934, 'mel': 4935, 'valentine': 4936, 'merkel': 4937, 'cemetery': 4938, 'sum': 4939, 'hijacked': 4940, 'austrian': 4941, 'load': 4942, 'copy': 4943, 'liver': 4944, 'falcon': 4945, 'smuggling': 4946, 'stood': 4947, 'g': 4948, 'supervisor': 4949, 'rap': 4950, 'swung': 4951, 'expo': 4952, 'billboard': 4953, 'swim': 4954, 'topic': 4955, 'uniform': 4956, 'clashed': 4957, 'else': 4958, 'symbol': 4959, 'harbor': 4960, 'geneva': 4961, 'stretch': 4962, 'capable': 4963, 'arbitration': 4964, 'jean': 4965, 'weve': 4966, 'jul': 4967, 'remember': 4968, '360': 4969, 'bang': 4970, 'crane': 4971, 'serie': 4972, 'combine': 4973, 'norman': 4974, 'lowered': 4975, 'schwarzenegger': 4976, 'panther': 4977, 'explore': 4978, 'pretax': 4979, 'robbing': 4980, 'saskatchewan': 4981, 'compromise': 4982, 'wyoming': 4983, 'unconscious': 4984, 'strict': 4985, 'berry': 4986, 'yorkshire': 4987, 'nintendo': 4988, 'ranch': 4989, '92': 4990, 'rifle': 4991, 'exactly': 4992, 'acquitted': 4993, 'reflecting': 4994, 'moody': 4995, 'domain': 4996, 'slip': 4997, 'economics': 4998, 'indefinitely': 4999, 'mclaren': 5000, 'autumn': 5001, 'blind': 5002, 'expelled': 5003, 'dna': 5004, 'denmark': 5005, 'citizenship': 5006, 'timberlake': 5007, 'observer': 5008, 'hd': 5009, 'bhd': 5010, 'declare': 5011, 'licensing': 5012, 'valuable': 5013, 'barnes': 5014, '101': 5015, 'reception': 5016, 'genocide': 5017, 'adoption': 5018, 'grave': 5019, 'nissan': 5020, 'omar': 5021, 'cardiff': 5022, 'ahmad': 5023, 'presentation': 5024, 'foreigner': 5025, 'detected': 5026, 'hiding': 5027, 'baldwin': 5028, 'buyout': 5029, 'cisco': 5030, 'amnesty': 5031, 'seller': 5032, 'telegraph': 5033, 'sweet': 5034, '17yearold': 5035, 'thus': 5036, 'aberdeen': 5037, 'sit': 5038, 'rajya': 5039, 'michele': 5040, 'survival': 5041, 'connect': 5042, 'darren': 5043, 'indefinite': 5044, 'muscle': 5045, 'civic': 5046, 'calm': 5047, 'warship': 5048, 'silence': 5049, 'sierra': 5050, 'soft': 5051, 'ivory': 5052, 'vermont': 5053, 'questioned': 5054, 'hsbc': 5055, 'newton': 5056, 'liquidity': 5057, 'gdp': 5058, 'partially': 5059, 'freddie': 5060, 'reactor': 5061, 'occupy': 5062, 'jamaica': 5063, 'bronze': 5064, 'trustee': 5065, 'spoken': 5066, 'hazare': 5067, 'crowned': 5068, 'sanchez': 5069, 'pollution': 5070, 'oath': 5071, 'soap': 5072, 'allocation': 5073, 'bradford': 5074, 'deployed': 5075, 'consultancy': 5076, 'o': 5077, 'chad': 5078, 'blair': 5079, 'choose': 5080, 'initially': 5081, 'bet': 5082, 'zambia': 5083, 'example': 5084, 'opposed': 5085, 'minn': 5086, 'orchestra': 5087, 'encouraged': 5088, 'passport': 5089, 'resigning': 5090, 'christopher': 5091, 'bullock': 5092, 'famed': 5093, 'ericsson': 5094, 'interbank': 5095, 'syracuse': 5096, 'tulsa': 5097, 'disappointed': 5098, 'housewife': 5099, 'rd': 5100, 'deployment': 5101, 'baptist': 5102, 'floyd': 5103, 'conversation': 5104, 'nude': 5105, 'multimillion': 5106, 'hawk': 5107, 'victor': 5108, 'valuation': 5109, 'deported': 5110, 'amidst': 5111, 'reputation': 5112, 'gallon': 5113, 'whitney': 5114, 'backup': 5115, 'rent': 5116, 'federer': 5117, 'trigger': 5118, 'historical': 5119, 'stripped': 5120, 'oracle': 5121, 'concession': 5122, 'joel': 5123, 'finale': 5124, 'bundesliga': 5125, 'outsourcing': 5126, 'indictment': 5127, 'cristiano': 5128, 'surprised': 5129, 'xi': 5130, 'innocent': 5131, 'sight': 5132, 'issuing': 5133, 'highprofile': 5134, 'possessing': 5135, 'heel': 5136, 'collective': 5137, 'harvard': 5138, 'shelf': 5139, 'arsene': 5140, 'competitor': 5141, 'invested': 5142, 'mini': 5143, 'connected': 5144, 'fantasy': 5145, 'subscription': 5146, 'reliever': 5147, 'agreeing': 5148, '29yearold': 5149, 'ip': 5150, 'oman': 5151, 'bharatiya': 5152, 'wellknown': 5153, 'sailor': 5154, 'slide': 5155, 'deciding': 5156, 'consideration': 5157, 'weakening': 5158, 'midday': 5159, 'sometime': 5160, 'praise': 5161, 'broader': 5162, 'popularity': 5163, 'autopsy': 5164, 'arthur': 5165, 'welsh': 5166, 'wichita': 5167, 'workout': 5168, 'brush': 5169, 'io': 5170, '25000': 5171, 'folk': 5172, 'osbourne': 5173, 'endorsement': 5174, 'restructure': 5175, 'duck': 5176, 'payroll': 5177, 'shortfall': 5178, 'jonas': 5179, 'hoped': 5180, 'setback': 5181, 'batch': 5182, 'maverick': 5183, 'thomson': 5184, 'flew': 5185, 'button': 5186, '500000': 5187, 'freshman': 5188, 'blew': 5189, 'requested': 5190, 'facilitate': 5191, 'confirming': 5192, 'attractive': 5193, '200000': 5194, 'intense': 5195, 'maple': 5196, 'lineman': 5197, 'bros': 5198, 'quinn': 5199, 'raj': 5200, 'nice': 5201, 'marcus': 5202, 'dawn': 5203, 'stayed': 5204, 'cyber': 5205, 'hungary': 5206, 'departure': 5207, 'gunshot': 5208, 'sudanese': 5209, 'parked': 5210, 'dominated': 5211, 'introducing': 5212, 'guitar': 5213, 'battered': 5214, 'gig': 5215, 'infringement': 5216, 'covered': 5217, 'grace': 5218, 'massacre': 5219, 'goa': 5220, 'reverse': 5221, 'frontier': 5222, 'efficient': 5223, 'floating': 5224, 'precious': 5225, 'offseason': 5226, 'nasdaq': 5227, 'singersongwriter': 5228, '3rd': 5229, 'questioning': 5230, 'stressed': 5231, 'bruin': 5232, 'tumor': 5233, 'warns': 5234, 'seri': 5235, 'lock': 5236, 'paso': 5237, '14th': 5238, 'elton': 5239, 'niagara': 5240, 'admission': 5241, 'equal': 5242, 'presenting': 5243, 'sometimes': 5244, 'barrier': 5245, 'sluggish': 5246, 'racial': 5247, 'harvest': 5248, 'notorious': 5249, 'sanaa': 5250, 'indicator': 5251, 'monsoon': 5252, 'sec': 5253, 'rockies': 5254, 'riverside': 5255, 'ecuador': 5256, 'railroad': 5257, 'indication': 5258, 'portuguese': 5259, 'fabio': 5260, 'globally': 5261, 'cruz': 5262, 'ppp': 5263, 'arriving': 5264, 'halted': 5265, 'stomach': 5266, 'fleeing': 5267, 'bryan': 5268, 'certification': 5269, 'coleman': 5270, 'ancient': 5271, 'opposite': 5272, 'renovation': 5273, 'stunning': 5274, 'monster': 5275, 'revive': 5276, 'fate': 5277, 'mysterious': 5278, 'paulo': 5279, 'containing': 5280, 'hang': 5281, 'urge': 5282, 'checked': 5283, 'orissa': 5284, 'kingston': 5285, 'hamstring': 5286, 'excellent': 5287, 'exgirlfriend': 5288, 'jockey': 5289, 'threatens': 5290, 'silicon': 5291, 'overdose': 5292, 'amazing': 5293, 'aware': 5294, '87': 5295, 'eliminated': 5296, 'ipl': 5297, 'shocking': 5298, 'remembered': 5299, 'chat': 5300, 'runoff': 5301, 'depot': 5302, '225': 5303, 'difficulty': 5304, 'sentencing': 5305, 'painting': 5306, 'mandate': 5307, 'repeat': 5308, 'embattled': 5309, 'bath': 5310, 'finalist': 5311, 'steep': 5312, 'billing': 5313, 'priced': 5314, 'flower': 5315, 'ounce': 5316, 'adrian': 5317, 'allrounder': 5318, 'hungarian': 5319, 'sustainability': 5320, 'derek': 5321, 'itunes': 5322, 'tattoo': 5323, 'leicester': 5324, 'patch': 5325, 'concrete': 5326, 'pond': 5327, 'aerospace': 5328, 'intensive': 5329, '4000': 5330, 'clinched': 5331, 'walsh': 5332, 'implemented': 5333, 'courthouse': 5334, 'abbott': 5335, 'sidelined': 5336, 'tap': 5337, 'consequence': 5338, 'oxford': 5339, 'eligible': 5340, 'enjoying': 5341, 'competing': 5342, 'capsized': 5343, 'wade': 5344, 'manner': 5345, 'favor': 5346, 'fred': 5347, 'lovato': 5348, 'seeker': 5349, 'aden': 5350, 'ruler': 5351, 'quest': 5352, 'overweight': 5353, 'bribery': 5354, 'europa': 5355, 'tentative': 5356, 'operated': 5357, 'yearold': 5358, 'mum': 5359, 'sailing': 5360, 'rhode': 5361, 'mad': 5362, 'insight': 5363, 'faculty': 5364, 'swansea': 5365, 'joke': 5366, 'symptom': 5367, 'thackeray': 5368, 'shiv': 5369, 'pursue': 5370, 'danish': 5371, 'fishery': 5372, 'travis': 5373, 'sand': 5374, 'romance': 5375, 'tweeted': 5376, 'somerset': 5377, 'truth': 5378, '19th': 5379, 'platinum': 5380, 'struggled': 5381, 'apps': 5382, 'throat': 5383, 'ipod': 5384, 'cedar': 5385, 'distributed': 5386, 'roughly': 5387, 'imprisonment': 5388, 'progressive': 5389, 'decrease': 5390, '21st': 5391, 'bhp': 5392, 'approve': 5393, 'fresno': 5394, 'engage': 5395, 'knot': 5396, 'tariff': 5397, 'bee': 5398, 'tripoli': 5399, 'mobility': 5400, 'subway': 5401, 'cox': 5402, 'bend': 5403, 'textile': 5404, 'length': 5405, 'rom': 5406, 'restricted': 5407, 'thunder': 5408, 'medication': 5409, 'shiite': 5410, 'plaza': 5411, '30th': 5412, 'stoke': 5413, 'premise': 5414, 'narrow': 5415, 'starter': 5416, 'brady': 5417, 'suffolk': 5418, 'surface': 5419, 'overtime': 5420, 'turner': 5421, 'hed': 5422, 'belonging': 5423, '2016': 5424, 'stating': 5425, 'constituency': 5426, 'demonstrator': 5427, 'reed': 5428, 'jointly': 5429, 'nd': 5430, 'glee': 5431, 'tucson': 5432, 'marched': 5433, 'hat': 5434, 'desire': 5435, 'altercation': 5436, 'uprising': 5437, 'secondquarter': 5438, 'alarm': 5439, 'ousted': 5440, 'soared': 5441, 'unusual': 5442, 'corn': 5443, 'qualify': 5444, 'middleweight': 5445, 'stamp': 5446, 'ambitious': 5447, 'unexpected': 5448, 'cement': 5449, 'smashed': 5450, 'lobby': 5451, 'cia': 5452, 'tractor': 5453, 'adventure': 5454, 'extremist': 5455, 'assam': 5456, 'apparel': 5457, 'legacy': 5458, 'thin': 5459, 'retain': 5460, 'tradition': 5461, 'intellectual': 5462, 'kilometre': 5463, 'jintao': 5464, 'eva': 5465, 'vincent': 5466, 'knicks': 5467, 'batting': 5468, 'glenn': 5469, 'pacquiao': 5470, 'automobile': 5471, 'archbishop': 5472, 'spin': 5473, 'gray': 5474, 'molestation': 5475, 'eliminate': 5476, 'bright': 5477, 'disorderly': 5478, 'durham': 5479, 'premiership': 5480, 'siemens': 5481, 'inappropriate': 5482, 'surrendered': 5483, 'jp': 5484, 'shook': 5485, 'imminent': 5486, 'initiated': 5487, 'booked': 5488, 'shocked': 5489, 'protecting': 5490, 'foul': 5491, '1200': 5492, 'introduction': 5493, 'serena': 5494, 'alberto': 5495, 'jane': 5496, 'generate': 5497, 'studying': 5498, 'patil': 5499, 'genetic': 5500, 'landlord': 5501, '50yearold': 5502, 'suu': 5503, 'disrupted': 5504, 'mega': 5505, '4g': 5506, 'neighbouring': 5507, 'bargain': 5508, 'accra': 5509, 'cuomo': 5510, 'md': 5511, 'classroom': 5512, 'mechanism': 5513, 'identify': 5514, 'maruti': 5515, 'rubber': 5516, 'beta': 5517, 'revival': 5518, '59': 5519, 'tel': 5520, 'mccarthy': 5521, 'daytona': 5522, 'gesture': 5523, 'newman': 5524, 'slot': 5525, 'proper': 5526, 'touring': 5527, 'delegate': 5528, 'ucla': 5529, 'aggregate': 5530, 'color': 5531, 'cheney': 5532, 'indicates': 5533, 'horizon': 5534, 'pine': 5535, 'productivity': 5536, 'caucus': 5537, '5th': 5538, 'surcharge': 5539, 'providence': 5540, '201011': 5541, 'catherine': 5542, 'stuart': 5543, 'upa': 5544, 'programming': 5545, 'pointing': 5546, 'attacker': 5547, 'toilet': 5548, 'nova': 5549, 'brawl': 5550, 'grenade': 5551, 'maybe': 5552, 'wizard': 5553, 'highspeed': 5554, 'di': 5555, 'confrontation': 5556, '350': 5557, 'aspect': 5558, 'respectively': 5559, 'voluntarily': 5560, 'suffer': 5561, '2001': 5562, 'indicating': 5563, 'hopkins': 5564, 'margaret': 5565, 'combination': 5566, 'nose': 5567, 'optimistic': 5568, 'indeed': 5569, 'plenty': 5570, 'rukh': 5571, 'kyi': 5572, 'console': 5573, 'boot': 5574, 'chuck': 5575, 'sofia': 5576, 'volatility': 5577, 'solve': 5578, 'informs': 5579, 'spice': 5580, 'greenback': 5581, 'editorial': 5582, 'raja': 5583, 'suisse': 5584, 'brent': 5585, 'commissioned': 5586, 'adjusted': 5587, 'halifax': 5588, 'gallagher': 5589, 'krishna': 5590, 'cannabis': 5591, 'washed': 5592, 'h': 5593, 'proposing': 5594, 'emerge': 5595, 'renew': 5596, 'fulham': 5597, 'automation': 5598, 'mainland': 5599, 'crazy': 5600, 'succeed': 5601, 'extradition': 5602, 'trained': 5603, 'contribute': 5604, 'fractured': 5605, '94': 5606, 'cyclone': 5607, 'satyam': 5608, 'clooney': 5609, 'polling': 5610, 'founding': 5611, 'mouth': 5612, 'santorum': 5613, 'doug': 5614, 'escalating': 5615, 'hammer': 5616, 'belfast': 5617, 'vijay': 5618, 'spree': 5619, 'khalifa': 5620, 'imran': 5621, 'tesco': 5622, 'ex': 5623, 'joy': 5624, 'dominique': 5625, 'beyonce': 5626, 'spray': 5627, 'tragic': 5628, 'formation': 5629, 'grass': 5630, 'snap': 5631, 'conrad': 5632, 'trevor': 5633, 'impose': 5634, 'swimmer': 5635, 'par': 5636, 'puerto': 5637, 'remake': 5638, 'contained': 5639, 'aung': 5640, '35yearold': 5641, 'attitude': 5642, 'marlin': 5643, '3g': 5644, 'uncertain': 5645, 'sleeping': 5646, 'felipe': 5647, 'protected': 5648, 'criticised': 5649, 'riley': 5650, 'amazoncom': 5651, 'habit': 5652, 'statue': 5653, 'wed': 5654, 'certainly': 5655, 'hartford': 5656, 'bold': 5657, 'disclosure': 5658, 'taste': 5659, 'damaging': 5660, 'consolidation': 5661, 'bloc': 5662, 'bailey': 5663, 'steam': 5664, 'troy': 5665, 'ellen': 5666, 'victorian': 5667, 'pune': 5668, '16th': 5669, 'relegation': 5670, 'infamous': 5671, 'lap': 5672, 'huntington': 5673, 'wallace': 5674, 'institutional': 5675, 'invitational': 5676, 'penny': 5677, 'henderson': 5678, 'nyc': 5679, 'wilmington': 5680, 'biopic': 5681, 'desktop': 5682, 'bounce': 5683, 'wet': 5684, 'generic': 5685, '31yearold': 5686, 'ea': 5687, 'conn': 5688, 'nawaz': 5689, 'rudd': 5690, 'distance': 5691, 'unified': 5692, 'carnival': 5693, 'sorry': 5694, '02': 5695, 'examination': 5696, 'barn': 5697, 'trump': 5698, 'revolutionary': 5699, 'spark': 5700, 'bolt': 5701, 'recognize': 5702, 'restraining': 5703, 'alassad': 5704, 'placing': 5705, 'slain': 5706, 'anonymous': 5707, 'convertible': 5708, 'ripped': 5709, 'burden': 5710, 'sap': 5711, 'helm': 5712, 'exhusband': 5713, 'diving': 5714, 'wounding': 5715, 'reckless': 5716, 'banning': 5717, 'traveler': 5718, 'laundering': 5719, 'pig': 5720, 'anger': 5721, 'bloody': 5722, 'oprah': 5723, 'sort': 5724, '04': 5725, 'universe': 5726, 'lyon': 5727, 'operates': 5728, 'partial': 5729, 'nationally': 5730, 'alltime': 5731, 'cheap': 5732, 'touchdown': 5733, 'gubernatorial': 5734, 'widened': 5735, 'doubleheader': 5736, 'indecent': 5737, 'slid': 5738, 'obrien': 5739, '13yearold': 5740, 'betty': 5741, 'describing': 5742, 'kutcher': 5743, 'stance': 5744, 'packed': 5745, 'internationally': 5746, 'mandatory': 5747, 'ipo': 5748, 'lansing': 5749, 'nugget': 5750, 'dying': 5751, 'obligation': 5752, 'pursuit': 5753, 'sergio': 5754, 'aaa': 5755, 'spa': 5756, 'millionaire': 5757, 'ramp': 5758, '6th': 5759, 'laying': 5760, 'torture': 5761, 'blogger': 5762, 'radiation': 5763, 'organ': 5764, '000': 5765, 'follower': 5766, 'displaced': 5767, 'stamford': 5768, 'fullback': 5769, 'sponsorship': 5770, 'lsu': 5771, 'padre': 5772, 'shutdown': 5773, 'slight': 5774, 'seasonal': 5775, 'saga': 5776, 'epic': 5777, 'removal': 5778, 'drummer': 5779, 'wrist': 5780, '201112': 5781, 'solidarity': 5782, 'underage': 5783, 'gender': 5784, 'columnist': 5785, 'dirty': 5786, 'welterweight': 5787, 'addiction': 5788, 'requiring': 5789, 'lieutenant': 5790, 'hanged': 5791, 'prepaid': 5792, 'boom': 5793, 'anil': 5794, 'appliance': 5795, 'hugh': 5796, 'formerly': 5797, 'hazard': 5798, 'claire': 5799, 'arraigned': 5800, 'amber': 5801, 'stint': 5802, 'canberra': 5803, 'remainder': 5804, 'du': 5805, 'plotting': 5806, 'duncan': 5807, 'chandigarh': 5808, 'ria': 5809, 'sm': 5810, 'distribute': 5811, 'rough': 5812, 'hispanic': 5813, 'headon': 5814, 'tunisia': 5815, 'arguing': 5816, 'ak': 5817, 'carson': 5818, 'wembley': 5819, 'organic': 5820, 'fever': 5821, 'worsening': 5822, 'bribe': 5823, 'comfortable': 5824, 'collect': 5825, 'linking': 5826, '32yearold': 5827, 'consensus': 5828, 'cheaper': 5829, 'castle': 5830, 'lighting': 5831, 'fourthquarter': 5832, 'tyson': 5833, 'vehicular': 5834, 'mansion': 5835, 'cosmetic': 5836, 'submit': 5837, 'toss': 5838, 'goaltender': 5839, 'marie': 5840, 'medicaid': 5841, 'shadow': 5842, 'surpassed': 5843, 'banerjee': 5844, 'transparency': 5845, 'turkmenistan': 5846, 'persistent': 5847, 'earning': 5848, 'windsor': 5849, '2003': 5850, 'ronnie': 5851, 'rebuild': 5852, 'contemporary': 5853, 'cooperate': 5854, 'wbc': 5855, '2500': 5856, 'gossip': 5857, 'sparking': 5858, 'warn': 5859, 'explained': 5860, 'lionel': 5861, 'monica': 5862, 'trio': 5863, 'approached': 5864, 'posing': 5865, 'conglomerate': 5866, 'vince': 5867, 'assassination': 5868, 'arlington': 5869, 'laura': 5870, 'workplace': 5871, 'compact': 5872, 'arrives': 5873, 'tenn': 5874, 'endorse': 5875, 'westminster': 5876, 'paisa': 5877, 'self': 5878, 'slovenia': 5879, 'hornet': 5880, 'punched': 5881, 'lambert': 5882, 'climb': 5883, 'dayton': 5884, 'forming': 5885, 'reviewing': 5886, 'integrity': 5887, 'noble': 5888, 'calf': 5889, 'truly': 5890, 'appropriate': 5891, 'accelerated': 5892, 'stalled': 5893, 'stern': 5894, 'passage': 5895, 'mercury': 5896, 'pacer': 5897, 'stevens': 5898, 'campaigner': 5899, 'equality': 5900, 'evaluation': 5901, 'besides': 5902, 'bombay': 5903, 'openly': 5904, 'karl': 5905, 'removing': 5906, 'approaching': 5907, 'install': 5908, 'brendan': 5909, 'boyle': 5910, 'opted': 5911, 'nielsen': 5912, 'humanity': 5913, 'cellular': 5914, 'criticized': 5915, 'ab': 5916, 'gym': 5917, 'bruno': 5918, 'upheld': 5919, 'rig': 5920, 'greenhouse': 5921, 'hidden': 5922, 'nile': 5923, 'downgrade': 5924, 'myers': 5925, 'profitability': 5926, 'quitting': 5927, 'rocked': 5928, 'prof': 5929, 'behavior': 5930, 'annually': 5931, 'cream': 5932, 'interesting': 5933, 'veto': 5934, 'fiery': 5935, 'logo': 5936, 'continent': 5937, 'amsterdam': 5938, 'tightened': 5939, 'morrison': 5940, 'founded': 5941, 'bust': 5942, 'hamburg': 5943, 'dipped': 5944, 'isle': 5945, 'griffin': 5946, 'performer': 5947, 'tan': 5948, 'lucas': 5949, 'rbi': 5950, 'mouse': 5951, 'spare': 5952, 'poisoning': 5953, '27yearold': 5954, 'mariah': 5955, 'thirdquarter': 5956, 'canyon': 5957, 'avoided': 5958, 'novak': 5959, 'patel': 5960, 'parkway': 5961, 'wifi': 5962, 'kuwaiti': 5963, 'blaming': 5964, 'shortstop': 5965, 'printing': 5966, 'secretly': 5967, 'separatist': 5968, 'generating': 5969, 'dissident': 5970, 'teach': 5971, 'attendant': 5972, 'harbour': 5973, 'freeway': 5974, '12yearold': 5975, 'successor': 5976, 'vanessa': 5977, 'bancorp': 5978, 'tougher': 5979, 'empty': 5980, 'heating': 5981, 'metric': 5982, 'tinto': 5983, '1100': 5984, 'mix': 5985, 'plymouth': 5986, 'en': 5987, 'wrap': 5988, 'preventing': 5989, 'mamata': 5990, 'seizure': 5991, 'anthem': 5992, 'joey': 5993, 'conjunction': 5994, 'hiphop': 5995, 'becomes': 5996, 'gala': 5997, 'bourse': 5998, 'upbeat': 5999, 'undergone': 6000, 'pepper': 6001, 'quake': 6002, 'devastated': 6003, 'firstround': 6004, 'sample': 6005, 'consortium': 6006, 'dressed': 6007, 'kirk': 6008, 'caution': 6009, 'preserve': 6010, 'sore': 6011, 'vernon': 6012, 'speaks': 6013, 'hart': 6014, 'entrance': 6015, 'slumped': 6016, 'appetite': 6017, 'ok': 6018, 'est': 6019, 'croatian': 6020, 'bathroom': 6021, 'albuquerque': 6022, 'boris': 6023, 'thank': 6024, 'dismissal': 6025, 'vienna': 6026, 'prodemocracy': 6027, 'harm': 6028, 'richie': 6029, 'affirmed': 6030, 'reflect': 6031, '23rd': 6032, 'clipper': 6033, 'pyongyang': 6034, 'suspending': 6035, 'samajwadi': 6036, 'represents': 6037, 'pancreatic': 6038, 'skype': 6039, 'wider': 6040, 'jacket': 6041, 'spotlight': 6042, 'valencia': 6043, 'chocolate': 6044, 'hassan': 6045, 'id': 6046, 'molesting': 6047, 'loaded': 6048, 'flick': 6049, 'frankfurt': 6050, 'adaptation': 6051, 'manning': 6052, 'successive': 6053, 'fundamental': 6054, 'jd': 6055, 'florence': 6056, 'theory': 6057, 'snack': 6058, 'panasonic': 6059, 'reversing': 6060, 'grandmother': 6061, '01': 6062, 'christ': 6063, 'reorganization': 6064, 'abused': 6065, 'servant': 6066, 'crush': 6067, 'cry': 6068, 'browser': 6069, 'dominican': 6070, 'prairie': 6071, 'tune': 6072, 'guinea': 6073, 'tiny': 6074, 'sexy': 6075, 'discipline': 6076, 'ordinary': 6077, 'mayer': 6078, 'beatles': 6079, 'lecture': 6080, 'disappeared': 6081, 'sharon': 6082, 'ryder': 6083, 'ditch': 6084, '39yearold': 6085, 'dip': 6086, 'marco': 6087, 'cooking': 6088, 'shaun': 6089, 'mph': 6090, 'slowly': 6091, 'monument': 6092, 'dhaka': 6093, 'tory': 6094, 'carlo': 6095, 'oval': 6096, 'avalanche': 6097, 'kyrgyz': 6098, 'repeated': 6099, 'assurance': 6100, 'rogue': 6101, 'garcia': 6102, 'noel': 6103, 'lucknow': 6104, 'asean': 6105, 'lg': 6106, 'landslide': 6107, 'amtrak': 6108, 'morris': 6109, 'undercover': 6110, 'miguel': 6111, 'widow': 6112, 'ear': 6113, 'meltdown': 6114, 'regain': 6115, 'calendar': 6116, 'yearonyear': 6117, 'hussain': 6118, 'orbit': 6119, 'narrowed': 6120, 'securing': 6121, 'courtroom': 6122, 'nazi': 6123, 'uganda': 6124, 'snapped': 6125, 'sequel': 6126, 'reese': 6127, 'witherspoon': 6128, 'turtle': 6129, 'awaiting': 6130, 'dated': 6131, 'fiance': 6132, 'ehud': 6133, 'burlington': 6134, 'raleigh': 6135, 'sitcom': 6136, 'contrary': 6137, 'pitched': 6138, 'indoor': 6139, 'conducting': 6140, 'spectacular': 6141, 'novosti': 6142, 'depth': 6143, '15000': 6144, 'powell': 6145, 'raided': 6146, 'showdown': 6147, 'ibrahim': 6148, '47yearold': 6149, 'shahid': 6150, 'disturbance': 6151, 'robust': 6152, '1970s': 6153, 'lancaster': 6154, 'statistical': 6155, 'onevehicle': 6156, 'walt': 6157, 'kit': 6158, 'comparison': 6159, 'prop': 6160, 'jharkhand': 6161, 'learnt': 6162, 'buffett': 6163, 'yacht': 6164, 'antony': 6165, 'wanderer': 6166, 'supposed': 6167, 'fixture': 6168, 'cellphone': 6169, 'attendance': 6170, 'dancer': 6171, 'destroy': 6172, 'prostitute': 6173, 'strained': 6174, '730': 6175, 'consolidate': 6176, 'giffords': 6177, 'wash': 6178, 'bankrupt': 6179, 'complained': 6180, 'dodge': 6181, 'automatic': 6182, 'aftermath': 6183, 'cheated': 6184, 'bennett': 6185, '40th': 6186, 'vow': 6187, 'reynolds': 6188, 'paint': 6189, 'unite': 6190, 'glory': 6191, 'pitching': 6192, 'scotia': 6193, 'detainee': 6194, 'wrapped': 6195, 'beverage': 6196, 'permanently': 6197, '30000': 6198, 'totally': 6199, 'tmobile': 6200, 'frame': 6201, 'grabbed': 6202, 'dictator': 6203, 'hindi': 6204, 'territorial': 6205, 'billiton': 6206, 'pratt': 6207, 'td': 6208, 'conceded': 6209, 'considers': 6210, 'vietnamese': 6211, 'brit': 6212, 'reddy': 6213, 'mercy': 6214, 'shale': 6215, 'messaging': 6216, 'protested': 6217, 'miranda': 6218, 'recreation': 6219, 'jackie': 6220, 'facial': 6221, 'fiat': 6222, 'appoint': 6223, 'volcano': 6224, 'withdrawing': 6225, 'issuer': 6226, 'excellence': 6227, 'autism': 6228, 'rescuer': 6229, 'bestselling': 6230, 'measuring': 6231, 'chaos': 6232, 'yoga': 6233, 'fielder': 6234, 'aguilera': 6235, 'mich': 6236, 'lodged': 6237, '96': 6238, 'acute': 6239, 'eyed': 6240, 'quote': 6241, 'manitoba': 6242, 'rage': 6243, 'bullish': 6244, 'injection': 6245, 'farewell': 6246, 'surrey': 6247, 'inn': 6248, 'michel': 6249, 'lowcost': 6250, 'amateur': 6251, 'purchasing': 6252, 'texan': 6253, 'maiden': 6254, 'cousin': 6255, 'righthanded': 6256, 'nikkei': 6257, 'sullivan': 6258, 'mourinho': 6259, 'bite': 6260, 'overwhelming': 6261, 'pearl': 6262, 'songwriter': 6263, 'reject': 6264, 'palmer': 6265, 'moines': 6266, 'climbing': 6267, 'banner': 6268, 'betterthanexpected': 6269, 'loose': 6270, 'reliable': 6271, 'cancellation': 6272, 'urgent': 6273, 'neglect': 6274, 'arabian': 6275, '160': 6276, 'hague': 6277, 'hostile': 6278, 'accidental': 6279, 'hurdle': 6280, 'inauguration': 6281, 'physically': 6282, 'miliband': 6283, 'norm': 6284, 'lockout': 6285, 'treating': 6286, 'oliver': 6287, 'endangered': 6288, 'entity': 6289, 'repeal': 6290, 'natalie': 6291, 'ashok': 6292, 'ministerial': 6293, 'reef': 6294, 'pierce': 6295, 'acknowledged': 6296, 'chopra': 6297, 'fairfield': 6298, 'defamation': 6299, '140': 6300, 'resolved': 6301, 'tsvangirai': 6302, 'expression': 6303, 'poet': 6304, 'favre': 6305, 'hacking': 6306, 'cannon': 6307, 'hospitalised': 6308, 'usual': 6309, 'liquid': 6310, 'johansson': 6311, 'auditorium': 6312, 'exhibit': 6313, 'spike': 6314, 'reinstated': 6315, 'cafe': 6316, 'prolonged': 6317, 'preston': 6318, 'aviv': 6319, 'disgraced': 6320, 'ghost': 6321, 'clearly': 6322, 'erie': 6323, 'groin': 6324, 'depp': 6325, 'dentist': 6326, 'repay': 6327, 'gather': 6328, 'judgment': 6329, 'jayz': 6330, 'goodwill': 6331, 'scholar': 6332, 'derailed': 6333, 'beloved': 6334, 'vast': 6335, 'reelected': 6336, 'gonzalez': 6337, 'rev': 6338, '38yearold': 6339, 'dramatically': 6340, 'certified': 6341, 'hacked': 6342, 'strait': 6343, 'shutting': 6344, 'carlisle': 6345, 'prosperity': 6346, 'greene': 6347, 'doha': 6348, 'cage': 6349, 'firmly': 6350, 'tipped': 6351, 'tuition': 6352, 'sanford': 6353, 'ligament': 6354, 'boundary': 6355, 'tenant': 6356, 'winfrey': 6357, 'safer': 6358, 'hr': 6359, 'hathaway': 6360, 'breakdown': 6361, 'sad': 6362, 'nutrition': 6363, 'sander': 6364, 'samuel': 6365, 'trademark': 6366, 'tube': 6367, 'tanzania': 6368, 'clayton': 6369, 'aa': 6370, 'consulate': 6371, 'katrina': 6372, 'testify': 6373, 'promoter': 6374, 'hospitality': 6375, 'casting': 6376, 'requires': 6377, 'ethiopia': 6378, 'sting': 6379, 'paterson': 6380, 'lined': 6381, 'disposal': 6382, 'faulty': 6383, 'highlighted': 6384, 'slower': 6385, 'macedonia': 6386, 'confirmation': 6387, 'convert': 6388, 'wrestler': 6389, 'highlighting': 6390, 'fragile': 6391, 'architect': 6392, 'businessmen': 6393, 'chilean': 6394, 'explains': 6395, 'sprained': 6396, 'diaz': 6397, 'importer': 6398, 'alien': 6399, 'disappointment': 6400, 'raymond': 6401, 'soviet': 6402, 'samantha': 6403, 'heather': 6404, 'aol': 6405, 'anand': 6406, 'sole': 6407, '10year': 6408, 'paralympic': 6409, 'distributing': 6410, 'burma': 6411, 'moral': 6412, 'script': 6413, 'refuse': 6414, 'etihad': 6415, 'reaffirmed': 6416, 'stanford': 6417, 'atletico': 6418, 'durban': 6419, 'diana': 6420, 'surfaced': 6421, 'pocket': 6422, 'jpmorgan': 6423, '102': 6424, 'destruction': 6425, 'column': 6426, 'detailed': 6427, 'kuala': 6428, 'turnover': 6429, 'constituent': 6430, 'santos': 6431, 'felix': 6432, 'onetime': 6433, 'geithner': 6434, 'funny': 6435, 'planting': 6436, 'ceiling': 6437, 'lagos': 6438, 'chose': 6439, '03': 6440, 'aussie': 6441, '®': 6442, 'dump': 6443, 'georgetown': 6444, 'junction': 6445, 'desk': 6446, 'newsday': 6447, 'noting': 6448, 'mirror': 6449, 'neighboring': 6450, 'blackhawks': 6451, 'ge': 6452, 'youngest': 6453, 'richards': 6454, 'boutique': 6455, 'deepening': 6456, 'retreat': 6457, 'symphony': 6458, 'webber': 6459, 'establishing': 6460, 'ukbased': 6461, 'imaging': 6462, 'tunnel': 6463, 'peterson': 6464, 'module': 6465, 'tycoon': 6466, 'richardson': 6467, 'otherwise': 6468, 'ltte': 6469, 'longawaited': 6470, 'plug': 6471, 'hbo': 6472, 'g20': 6473, 'villager': 6474, 'object': 6475, 'colonial': 6476, 'backdrop': 6477, 'afc': 6478, 'anchorage': 6479, 'steroid': 6480, 'graduation': 6481, 'scanner': 6482, 'merrill': 6483, 'carroll': 6484, 'menu': 6485, 'nearing': 6486, 'publish': 6487, 'wholly': 6488, 'tale': 6489, 'unemployed': 6490, 'starbucks': 6491, 'croatia': 6492, 'scarlett': 6493, 'puppy': 6494, '11yearold': 6495, 'umpire': 6496, 'itv': 6497, 'mentor': 6498, 'li': 6499, 'canuck': 6500, 'colour': 6501, 'cab': 6502, '9th': 6503, 'palo': 6504, 'staple': 6505, 'treasure': 6506, 'astros': 6507, 'transformation': 6508, 'toxic': 6509, 'sao': 6510, 'consent': 6511, 'fourday': 6512, 'touching': 6513, 'acid': 6514, '27th': 6515, 'panic': 6516, 'sunshine': 6517, 'aamir': 6518, 'duchess': 6519, 'cleric': 6520, 'gateway': 6521, 'pared': 6522, 'witnessed': 6523, 'ana': 6524, 'photograph': 6525, 'ammunition': 6526, 'payable': 6527, 'shortterm': 6528, 'negotiating': 6529, 'chaudhry': 6530, 'gabrielle': 6531, 'counsel': 6532, 'scenario': 6533, 'cavalier': 6534, 'gilbert': 6535, 'sprinter': 6536, 'portable': 6537, 'pier': 6538, 'copyright': 6539, 'fork': 6540, 'strausskahn': 6541, 'indicate': 6542, 'vista': 6543, 'weeklong': 6544, 'remarkable': 6545, 'expenditure': 6546, 'coral': 6547, 'contracted': 6548, 'doherty': 6549, 'micro': 6550, 'tyre': 6551, 'coup': 6552, 'tracy': 6553, 'dhoni': 6554, 'outgoing': 6555, 'socialist': 6556, 'jorge': 6557, 'capello': 6558, 'liberation': 6559, 'searched': 6560, 'renault': 6561, 'blagojevich': 6562, 'herman': 6563, 'salisbury': 6564, 'database': 6565, 'cow': 6566, 'tier': 6567, 'filling': 6568, 'testified': 6569, 'geological': 6570, 'leonardo': 6571, 'forever': 6572, 'upside': 6573, 'therapeutic': 6574, 'myrtle': 6575, 'incorporated': 6576, 'down': 6577, 'strictly': 6578, 'typhoon': 6579, 'ranging': 6580, 'ra': 6581, 'aging': 6582, 'amended': 6583, 'technique': 6584, 'honolulu': 6585, 'delighted': 6586, 'srinagar': 6587, 'expires': 6588, 'yorkbased': 6589, 'reunion': 6590, 'daytime': 6591, 'reconstruction': 6592, 'suggestion': 6593, 'denying': 6594, 'rcmp': 6595, 'kg': 6596, 'rossi': 6597, 'recognised': 6598, 'lightweight': 6599, 'hide': 6600, 'lynn': 6601, 'bachmann': 6602, 'nottingham': 6603, 'sixmonth': 6604, 'wi': 6605, 'ml': 6606, 'bharti': 6607, 'airtel': 6608, 'visual': 6609, 'cattle': 6610, 'seasonally': 6611, 'ensuring': 6612, 'barton': 6613, 'councilman': 6614, 'johan': 6615, 'cathedral': 6616, 'kamal': 6617, 'nervous': 6618, 'volkswagen': 6619, 'yusuf': 6620, 'finalized': 6621, 'ingredient': 6622, 'abduction': 6623, 'cave': 6624, 'watford': 6625, 'militia': 6626, 'bulldog': 6627, 'carrie': 6628, 'royalty': 6629, '40000': 6630, 'megan': 6631, 'longrunning': 6632, 'properly': 6633, 'aliyev': 6634, 'malaria': 6635, 'relatively': 6636, 'wii': 6637, 'mesa': 6638, 'constable': 6639, 'rory': 6640, 'diamondback': 6641, '07': 6642, 'marginally': 6643, 'surrender': 6644, '400000': 6645, 'halloween': 6646, 'knoxville': 6647, 'classified': 6648, 'bangladeshi': 6649, 'coyote': 6650, 'albion': 6651, 'lone': 6652, 'rico': 6653, 'examiner': 6654, 'composite': 6655, 'mick': 6656, 'toledo': 6657, 'burger': 6658, 'animated': 6659, 'lawn': 6660, 'unanimous': 6661, 'diva': 6662, 'ethiopian': 6663, 'naomi': 6664, 'elsewhere': 6665, 'traveller': 6666, 'kickoff': 6667, 'cal': 6668, 'punch': 6669, 'remanded': 6670, 'spate': 6671, 'pretoria': 6672, 'dealership': 6673, 'blockade': 6674, 'splitting': 6675, 'basin': 6676, 'quota': 6677, 'afraid': 6678, 'supplement': 6679, 'virtually': 6680, 'cain': 6681, 'djokovic': 6682, 'zsa': 6683, 'laureate': 6684, 'amongst': 6685, 'fairfax': 6686, 'raul': 6687, 'twenty': 6688, 'malcolm': 6689, 'fertilizer': 6690, 'oral': 6691, 'dylan': 6692, 'reunited': 6693, 'sunny': 6694, 'firmer': 6695, 'litre': 6696, 'bale': 6697, 'tsx': 6698, 'mode': 6699, 'committing': 6700, 'loud': 6701, 'baton': 6702, '22nd': 6703, 'alqaida': 6704, 'explorer': 6705, 'shahbaz': 6706, 'outskirt': 6707, 'paving': 6708, 'comfort': 6709, 'indigenous': 6710, 'friendship': 6711, 'alto': 6712, 'respiratory': 6713, 'appreciation': 6714, 'teeth': 6715, 'array': 6716, 'grip': 6717, 'berkeley': 6718, 'donate': 6719, 'reno': 6720, 'der': 6721, 'briton': 6722, 'elder': 6723, 'martial': 6724, 'oppose': 6725, 'wallaby': 6726, 'achieving': 6727, 'bnp': 6728, 'eden': 6729, 'crawford': 6730, 'vick': 6731, 'sinking': 6732, 'whopping': 6733, 'merge': 6734, 'testimony': 6735, 'narcotic': 6736, 'groundbreaking': 6737, 'jeffrey': 6738, 'f1': 6739, 'proof': 6740, '97': 6741, '180': 6742, 'paramedic': 6743, 'evacuate': 6744, 'lumpur': 6745, 'inform': 6746, 'usain': 6747, '105': 6748, 'heated': 6749, 'skating': 6750, 'attracted': 6751, '28th': 6752, 'shrank': 6753, 'notebook': 6754, 'playboy': 6755, 'faction': 6756, 'therefore': 6757, 'bracing': 6758, 'locker': 6759, 'confederation': 6760, 'coronation': 6761, 'gearing': 6762, 'holland': 6763, 'nobody': 6764, 'sanjay': 6765, 'corrupt': 6766, 'counterfeit': 6767, 'pursuing': 6768, 'freeagent': 6769, '45yearold': 6770, 'advani': 6771, 'breakaway': 6772, '93': 6773, 'allied': 6774, 'accountability': 6775, 'zurich': 6776, 'infected': 6777, 'passion': 6778, 'commenced': 6779, 'fda': 6780, 'malawi': 6781, 'rim': 6782, 'satisfaction': 6783, 'reservoir': 6784, 'mae': 6785, 'javier': 6786, 'harvey': 6787, 'flown': 6788, 'kurt': 6789, 'bedroom': 6790, 'correctional': 6791, 'nicki': 6792, 'radar': 6793, 'seemed': 6794, 'conclusion': 6795, 'o2': 6796, 'notre': 6797, 'nitish': 6798, '00': 6799, 'aurora': 6800, 'sedan': 6801, 'highlevel': 6802, 'viktor': 6803, 'rouge': 6804, 'grab': 6805, 'kashmiri': 6806, 'iceland': 6807, 'enters': 6808, 'mounted': 6809, 'pass': 6810, 'obtain': 6811, '41yearold': 6812, 'chapel': 6813, 'demonstrated': 6814, '1960s': 6815, 'predict': 6816, 'statutory': 6817, '250000': 6818, '450': 6819, 'airplane': 6820, 'tense': 6821, 'cocacola': 6822, 'restoration': 6823, 'ramesh': 6824, 'gazprom': 6825, 'motel': 6826, '09': 6827, 'elect': 6828, 'lifting': 6829, 'crow': 6830, 'laser': 6831, 'grey': 6832, 'craft': 6833, 'costcutting': 6834, 'endeavour': 6835, 'occupation': 6836, 'convinced': 6837, 'discussing': 6838, 'detection': 6839, 'palestine': 6840, 'ideal': 6841, 'outperform': 6842, 'lengthy': 6843, 'belmont': 6844, 'runaway': 6845, 'ryanair': 6846, 'reacted': 6847, 'silva': 6848, 'triggering': 6849, 'marshal': 6850, 'mercedes': 6851, 'upward': 6852, 'experimental': 6853, 'surrounded': 6854, 'controlling': 6855, 'salvation': 6856, 'drake': 6857, 'willie': 6858, 'printer': 6859, 'trim': 6860, 'myspace': 6861, 'exceeded': 6862, 'mancini': 6863, 'nv': 6864, 'animation': 6865, 'isolated': 6866, 'semi': 6867, 'letting': 6868, 'colony': 6869, 'contamination': 6870, 'stopping': 6871, 'coventry': 6872, 'mahinda': 6873, 'serb': 6874, 'auditor': 6875, 'allowance': 6876, 'aleague': 6877, 'slugger': 6878, '8000': 6879, 'whatever': 6880, 'jew': 6881, 'himachal': 6882, 'lodge': 6883, 'benitez': 6884, 'hotspur': 6885, 'dock': 6886, 'surging': 6887, 'asiapacific': 6888, 'alley': 6889, 'juror': 6890, 'footprint': 6891, 'discover': 6892, 'stalking': 6893, 'plunge': 6894, 'garbage': 6895, 'vacancy': 6896, 'sussex': 6897, 'intoxicated': 6898, 'intensified': 6899, 'realtime': 6900, 'marketer': 6901, 'hood': 6902, 'gps': 6903, 'basket': 6904, 'ike': 6905, 'nyse': 6906, 'havana': 6907, 'breathing': 6908, 'invite': 6909, 'uzbekistan': 6910, 'entertainer': 6911, 'minaj': 6912, 'hiked': 6913, 'sergeant': 6914, 'saeed': 6915, 'lte': 6916, 'manufacture': 6917, 'bicycle': 6918, 'belgrade': 6919, 'minsk': 6920, 'none': 6921, 'havent': 6922, 'kay': 6923, 'intelligent': 6924, 'addict': 6925, 'preview': 6926, 'honoring': 6927, 'eliminating': 6928, 'bean': 6929, '1600': 6930, 'rated': 6931, 'looming': 6932, 'stimulate': 6933, 'bizarre': 6934, 'math': 6935, 'mayo': 6936, 'gerard': 6937, 'telekom': 6938, '201213': 6939, 'coordination': 6940, 'actively': 6941, '42yearold': 6942, 'mediterranean': 6943, 'predicting': 6944, 'greenville': 6945, 'luck': 6946, 'cypriot': 6947, 'khyber': 6948, 'harsh': 6949, 'instant': 6950, 'oneal': 6951, 'biotechnology': 6952, 'anticipation': 6953, 'caroline': 6954, 'chartered': 6955, 'implication': 6956, 'commentator': 6957, 'unlawful': 6958, 'lebron': 6959, 'attached': 6960, 'letterman': 6961, 'stormed': 6962, 'firsthalf': 6963, 'pictured': 6964, 'everywhere': 6965, 'simmons': 6966, 'johnston': 6967, 'corridor': 6968, 'revelation': 6969, 'mvp': 6970, 'demolition': 6971, 'talented': 6972, 'jam': 6973, 'trafford': 6974, 'punk': 6975, 'vettel': 6976, 'bargaining': 6977, 'rutgers': 6978, 'shifted': 6979, 'whilst': 6980, 'happens': 6981, 'hemsworth': 6982, 'inflow': 6983, 'diver': 6984, 'piracy': 6985, 'revenge': 6986, 'afford': 6987, 'destroying': 6988, 'exile': 6989, 'min': 6990, 'va': 6991, 'adjourned': 6992, 'pratibha': 6993, 'knox': 6994, 'prefer': 6995, 'cure': 6996, 'debris': 6997, 'purdue': 6998, 'participated': 6999, 'islander': 7000, 'paula': 7001, 'davy': 7002, 'anywhere': 7003, '8th': 7004, 'humphries': 7005, 'partly': 7006, 'sovereignty': 7007, 'grizzly': 7008, 'surprising': 7009, 'quietly': 7010, 'cohost': 7011, 'respective': 7012, 'ejected': 7013, 'sikh': 7014, 'predator': 7015, 'threetime': 7016, 'freestyle': 7017, 'longoria': 7018, 'twovehicle': 7019, 'tevez': 7020, 'clemson': 7021, 'balloon': 7022, 'sabah': 7023, 'hodgson': 7024, 'renewal': 7025, 'sharapova': 7026, 'selloff': 7027, 'delaying': 7028, 'ind': 7029, 'mercantile': 7030, 'background': 7031, '135': 7032, 'absolute': 7033, 'usc': 7034, 'except': 7035, 'subdued': 7036, 'accelerate': 7037, 'marsh': 7038, 'lefthander': 7039, 'scrapped': 7040, 'mayoral': 7041, 'odi': 7042, 'burton': 7043, 'fails': 7044, 'tightening': 7045, 'gotten': 7046, 'landscape': 7047, 'ftse': 7048, 'handing': 7049, 'motogp': 7050, 'here': 7051, 'cleaning': 7052, 'turnaround': 7053, 'taiwanese': 7054, 'rib': 7055, 'referred': 7056, 'exercised': 7057, 'hannah': 7058, 'batman': 7059, 'kurdish': 7060, 'neither': 7061, 'ponting': 7062, 'historian': 7063, 'freezing': 7064, 'ahmedabad': 7065, 'barely': 7066, 'bernie': 7067, 'isaac': 7068, 'govt': 7069, 'bump': 7070, 'deeper': 7071, 'instructor': 7072, 'beirut': 7073, 'overwhelmingly': 7074, '33yearold': 7075, 'enables': 7076, 'retreated': 7077, 'robot': 7078, 'literally': 7079, 'tribe': 7080, 'champ': 7081, 'boil': 7082, 'flee': 7083, 'negotiate': 7084, 'slogan': 7085, 'grandfather': 7086, 'stunned': 7087, 'coin': 7088, 'borrower': 7089, 'bart': 7090, 'experiencing': 7091, 'blackpool': 7092, 'worcester': 7093, 'contributed': 7094, 'ft': 7095, 'complaining': 7096, 'convoy': 7097, 'rid': 7098, 'surprisingly': 7099, 'ethanol': 7100, 'ordinance': 7101, 'fault': 7102, 'brunswick': 7103, 'wheelchair': 7104, 'directing': 7105, 'deportation': 7106, 'viral': 7107, 'lacrosse': 7108, 'lafayette': 7109, 'bhutto': 7110, 'rawalpindi': 7111, 'steering': 7112, 'exploitation': 7113, '300000': 7114, 'campaigning': 7115, '10yearold': 7116, 'bingo': 7117, 'angola': 7118, 'cornwall': 7119, 'twoyearold': 7120, 'transparent': 7121, 'tone': 7122, 'vandalism': 7123, 'pal': 7124, 'adobe': 7125, 'nbcs': 7126, 'yadav': 7127, 'bulk': 7128, 'machinery': 7129, 'concentrate': 7130, 'triumph': 7131, 'revamped': 7132, 'pike': 7133, 'homer': 7134, '34yearold': 7135, 'marina': 7136, 'powered': 7137, '6000': 7138, 'sultan': 7139, 'fracture': 7140, 'willis': 7141, 'mob': 7142, 'diane': 7143, 'anaheim': 7144, 'counting': 7145, '1400': 7146, 'sophomore': 7147, 'handful': 7148, 'bible': 7149, 'uncle': 7150, 'salon': 7151, 'abraham': 7152, 'generally': 7153, 'restive': 7154, 'furious': 7155, 'barred': 7156, 'latter': 7157, 'se': 7158, 'finalised': 7159, 'emotion': 7160, 'deploy': 7161, 'skilled': 7162, 'levi': 7163, 'surviving': 7164, 'accord': 7165, 'reopening': 7166, 'peruvian': 7167, 'downward': 7168, 'scorer': 7169, 'backyard': 7170, 'abdominal': 7171, 'ferdinand': 7172, 'sara': 7173, 'voiced': 7174, 'mri': 7175, '24th': 7176, '175': 7177, 'clemens': 7178, 'kraft': 7179, 'southampton': 7180, 'nonstop': 7181, 'forgery': 7182, 'gunfire': 7183, 'pad': 7184, 'impossible': 7185, 'lou': 7186, 'knockout': 7187, 'damon': 7188, 'negotiator': 7189, 'liga': 7190, 'jamaican': 7191, 'serf': 7192, 'monkey': 7193, 'weighing': 7194, 'booming': 7195, 'sandusky': 7196, 'separated': 7197, 'thermal': 7198, 'congo': 7199, 'advocacy': 7200, 'schumacher': 7201, 'commencement': 7202, 'cabin': 7203, 'crossborder': 7204, 'refuge': 7205, 'halle': 7206, 'knocking': 7207, 'canterbury': 7208, 'handgun': 7209, 'bias': 7210, 'firstever': 7211, 'guinness': 7212, 'outing': 7213, 'oasis': 7214, 'wipro': 7215, 'harare': 7216, 'novelist': 7217, '40yearold': 7218, 'bandit': 7219, 'rajapaksa': 7220, 'augusta': 7221, 'hernandez': 7222, 'rwanda': 7223, 'delicious': 7224, 'threegame': 7225, 'consolidated': 7226, 'architecture': 7227, 'klitschko': 7228, 'melissa': 7229, 'vampire': 7230, 'salmonella': 7231, 'deliberately': 7232, 'hayden': 7233, 'macau': 7234, 'forestry': 7235, 'rumored': 7236, 'elli': 7237, '99': 7238, 'ankara': 7239, 'threeyearold': 7240, 'coma': 7241, 'olmert': 7242, 'chrome': 7243, 'scrutiny': 7244, 'algeria': 7245, 'mirza': 7246, 'lingering': 7247, 'leonard': 7248, 'donating': 7249, 'irene': 7250, 'rica': 7251, 'gradually': 7252, 'dengue': 7253, 'manufactured': 7254, 'stranger': 7255, 'attracting': 7256, 'irvine': 7257, 'boise': 7258, 'unfair': 7259, 'cease': 7260, 'sgt': 7261, 'dealt': 7262, 'baba': 7263, 'eager': 7264, 'webb': 7265, 'pile': 7266, 'dale': 7267, 'accreditation': 7268, 'webster': 7269, 'iris': 7270, 'transmitted': 7271, 'competitiveness': 7272, 'personally': 7273, 'trent': 7274, 'pleasant': 7275, 'incredibly': 7276, 'strange': 7277, 'usled': 7278, 'supervision': 7279, 'syndrome': 7280, 'usually': 7281, 'diversified': 7282, 'cartoon': 7283, 'eugene': 7284, '150000': 7285, 'stunt': 7286, 'transform': 7287, '06': 7288, 'bse': 7289, 'purse': 7290, 'pierre': 7291, 'contempt': 7292, 'grande': 7293, 'shrink': 7294, 'ambition': 7295, 'slovakia': 7296, 'frederick': 7297, 'denounced': 7298, 'spinner': 7299, 'nigel': 7300, 'cleanup': 7301, 'ga': 7302, 'pulse': 7303, 'richest': 7304, 'ho': 7305, 'assess': 7306, 'sewer': 7307, 'collecting': 7308, 'bahraini': 7309, 'iftikhar': 7310, 'contaminated': 7311, 'bahamas': 7312, 'happiness': 7313, 'supremo': 7314, 'sacrifice': 7315, 'fukushima': 7316, 'literature': 7317, 'antidoping': 7318, 'crusader': 7319, 'vale': 7320, 'mosquito': 7321, 'ralph': 7322, 'alexandria': 7323, 'settler': 7324, 'viewing': 7325, 'burke': 7326, 'capped': 7327, 'panda': 7328, 'fm': 7329, 'frequent': 7330, 'fence': 7331, 'teaming': 7332, '200809': 7333, 'rebate': 7334, 'joan': 7335, 'cumberland': 7336, '115': 7337, 'fedex': 7338, 'assad': 7339, 'cannes': 7340, 'checking': 7341, 'hewitt': 7342, 'denies': 7343, 'hampton': 7344, 'conway': 7345, 'happening': 7346, '108': 7347, 'autonomous': 7348, 'wee': 7349, 'immunity': 7350, 'cd': 7351, 'minogue': 7352, 'secretarygeneral': 7353, 'â€': 7354, 'lucrative': 7355, 'fatality': 7356, 'fulltime': 7357, 'loyal': 7358, 'amir': 7359, 'contentious': 7360, 'ngo': 7361, 'protocol': 7362, 'dining': 7363, 'shepherd': 7364, 'hon': 7365, 'aj': 7366, 'medalist': 7367, '750': 7368, 'starred': 7369, 'morocco': 7370, 'macon': 7371, 'cult': 7372, 'leaking': 7373, 'julius': 7374, 'fastgrowing': 7375, 'jenkins': 7376, 'substitute': 7377, 'dogg': 7378, 'lauren': 7379, 'redknapp': 7380, 'topeka': 7381, 'memorandum': 7382, 'actual': 7383, 'miracle': 7384, '26th': 7385, 'daredevil': 7386, 'scared': 7387, 'manipur': 7388, 'daylight': 7389, 'chairperson': 7390, 'ramirez': 7391, 'bread': 7392, 'filmed': 7393, 'improves': 7394, '103': 7395, 'chess': 7396, 'makeover': 7397, 'kobe': 7398, 'scan': 7399, 'mali': 7400, 'enabling': 7401, 'pot': 7402, 'smile': 7403, 'ledger': 7404, 'tore': 7405, 'peacefully': 7406, 'admit': 7407, 'uruguay': 7408, 'kiwi': 7409, 'balanced': 7410, 'icici': 7411, 'epidemic': 7412, 'clara': 7413, 'fullyear': 7414, 'kidman': 7415, 'mw': 7416, 'intercontinental': 7417, 'casual': 7418, 'didier': 7419, 'contributing': 7420, 'hook': 7421, 'mcdonalds': 7422, 'breached': 7423, 'strongest': 7424, 'multinational': 7425, 'deserve': 7426, 'disc': 7427, 'promotional': 7428, 'forbes': 7429, 'biological': 7430, 'pen': 7431, 'clue': 7432, 'lokpal': 7433, 'incredible': 7434, 'rodgers': 7435, 'pedro': 7436, 'atp': 7437, 'eid': 7438, '630': 7439, 'punching': 7440, 'defendant': 7441, 'garrett': 7442, 'ipswich': 7443, 'monaco': 7444, 'underwood': 7445, '1300': 7446, 'bullion': 7447, 'wore': 7448, 'bride': 7449, 'understands': 7450, 'gabriel': 7451, 'raft': 7452, 'telstra': 7453, 'sensor': 7454, 'burnley': 7455, 'wa': 7456, 'connectivity': 7457, 'vocal': 7458, 'archive': 7459, 'luncheon': 7460, 'marred': 7461, 'busiest': 7462, 'perspective': 7463, 'wondering': 7464, 'icy': 7465, 'restart': 7466, 'infosys': 7467, 'motivated': 7468, 'predicts': 7469, 'nassau': 7470, 'inked': 7471, 'fraudulent': 7472, 'downing': 7473, 'breaching': 7474, 'endorsing': 7475, 'solicitor': 7476, 'wen': 7477, 'rejecting': 7478, 'zac': 7479, 'relevant': 7480, 'lancashire': 7481, 'alonso': 7482, 'verge': 7483, 'brilliant': 7484, 'ordering': 7485, 'geo': 7486, 'portman': 7487, '49ers': 7488, 'wba': 7489, 'acted': 7490, 'panama': 7491, 'volvo': 7492, 'crushing': 7493, 'guantanamo': 7494, 'butt': 7495, 'slapped': 7496, 'logan': 7497, 'lisbon': 7498, 'unsecured': 7499, 'evan': 7500, 'log': 7501, 'aka': 7502, 'asthma': 7503, 'stakeholder': 7504, 'snake': 7505, 'perez': 7506, 'decisive': 7507, 'nickel': 7508, 'maturity': 7509, 'surfer': 7510, 'safeguard': 7511, 'leone': 7512, 'dual': 7513, 'arquette': 7514, 'bug': 7515, 'gosselin': 7516, 'medallist': 7517, 'lehigh': 7518, 'aire': 7519, 'havoc': 7520, 'licensed': 7521, 'tide': 7522, 'credited': 7523, 'tomas': 7524, 'huffington': 7525, 'lorry': 7526, 'alicia': 7527, 'asserted': 7528, 'inner': 7529, 'nz': 7530, 'driveby': 7531, 'unnamed': 7532, 'duet': 7533, 'flexible': 7534, 'airlifted': 7535, 'anticorruption': 7536, 'bass': 7537, 'curfew': 7538, 'linda': 7539, 'impressed': 7540, 'jared': 7541, 'stockholder': 7542, 'headquartered': 7543, 'moammar': 7544, '200910': 7545, 'buoyed': 7546, 'rear': 7547, 'yeddyurappa': 7548, 'employed': 7549, 'copa': 7550, 'slim': 7551, 'intimate': 7552, 'booth': 7553, 'underlying': 7554, 'jermaine': 7555, 'youve': 7556, 'pfizer': 7557, 'cord': 7558, 'exceed': 7559, 'shrine': 7560, 'richter': 7561, 'evolution': 7562, 'shaw': 7563, 'timber': 7564, 'burnt': 7565, 'haley': 7566, 'rss': 7567, 'commemorate': 7568, 'auctioned': 7569, 'surgical': 7570, 'decreased': 7571, 'vaccination': 7572, 'whip': 7573, 'gmt': 7574, 'adele': 7575, 'alumnus': 7576, 'improper': 7577, 'rampage': 7578, 'dundee': 7579, '107': 7580, 'rodham': 7581, 'vandal': 7582, 'endangerment': 7583, 'confidential': 7584, 'lehman': 7585, 'chan': 7586, '104': 7587, 'connecting': 7588, 'mahendra': 7589, 'bafana': 7590, 'gingrich': 7591, 'darling': 7592, 'collector': 7593, 'tenure': 7594, 'murderer': 7595, 'repurchase': 7596, 'newfoundland': 7597, 'constant': 7598, 'curry': 7599, 'bidder': 7600, 'collapsing': 7601, 'sheboygan': 7602, 'politically': 7603, 'entirely': 7604, 'fragrance': 7605, 'generator': 7606, 'socialite': 7607, 'introduces': 7608, 'primetime': 7609, 'nitin': 7610, 'zach': 7611, 'blade': 7612, 'abandon': 7613, 'leap': 7614, '106': 7615, 'bacteria': 7616, 'silent': 7617, 'caretaker': 7618, 'unlike': 7619, 'catching': 7620, 'funded': 7621, 'pure': 7622, 'busch': 7623, 'maldives': 7624, 'mickey': 7625, 'hazardous': 7626, 'bash': 7627, 'deeply': 7628, 'integrate': 7629, 'pistol': 7630, 'ailment': 7631, 'examine': 7632, 'roommate': 7633, 'devon': 7634, 'hezbollah': 7635, 'partnered': 7636, 'diary': 7637, 'legally': 7638, 'freak': 7639, 'tebow': 7640, 'poster': 7641, 'bullpen': 7642, 'shooter': 7643, 'impending': 7644, 'paparazzo': 7645, 'carol': 7646, 'alzheimers': 7647, '31st': 7648, 'oneill': 7649, 'gangster': 7650, 'objection': 7651, 'mayweather': 7652, 'recovers': 7653, 'vitamin': 7654, 'helena': 7655, 'standout': 7656, 'ratio': 7657, 'nerve': 7658, 'megastar': 7659, 'equivalent': 7660, 'maradona': 7661, 'llp': 7662, 'kochi': 7663, 'attraction': 7664, 'kingfisher': 7665, 'basu': 7666, 'spokane': 7667, 'buenos': 7668, 'leisure': 7669, 'longstanding': 7670, 'undefeated': 7671, 'advancing': 7672, 'soybean': 7673, 'choppy': 7674, 'pietersen': 7675, 'deemed': 7676, 'tabloid': 7677, 'nano': 7678, 'cork': 7679, 'klum': 7680, 'dana': 7681, 'expressing': 7682, 'iphones': 7683, 'wrongful': 7684, 'overshadowed': 7685, 'interface': 7686, 'profession': 7687, 'pr': 7688, 'lennon': 7689, 'sealed': 7690, '98': 7691, 'woodland': 7692, 'clay': 7693, 'thirdlargest': 7694, 'assailant': 7695, 'singlevehicle': 7696, 'please': 7697, 'washing': 7698, 'pmln': 7699, 'mian': 7700, 'cpi': 7701, 'hm': 7702, 'eli': 7703, 'rao': 7704, 'tighten': 7705, 'courtesy': 7706, 'turk': 7707, 'sidney': 7708, 'crosby': 7709, 'rein': 7710, 'carr': 7711, 'shifting': 7712, 'advertisement': 7713, 'bret': 7714, 'correct': 7715, 'pharma': 7716, 'gp': 7717, 'anz': 7718, 'libel': 7719, 'psychological': 7720, 'emily': 7721, 'owed': 7722, 'listen': 7723, 'concord': 7724, 'deepika': 7725, 'jubilee': 7726, 'snoop': 7727, 'onboard': 7728, 'persian': 7729, 'drain': 7730, 'lobbyist': 7731, 'unveiling': 7732, 'clip': 7733, 'wouldbe': 7734, 'lure': 7735, 'avoiding': 7736, 'busted': 7737, 'gavin': 7738, 'twoweek': 7739, 'outreach': 7740, 'protein': 7741, 'surf': 7742, 'kazakh': 7743, 'divided': 7744, 'shannon': 7745, 'kodak': 7746, 'smashing': 7747, 'closest': 7748, 'bronx': 7749, 'affiliated': 7750, 'performanceenhancing': 7751, 'supplying': 7752, 'stan': 7753, 'shia': 7754, 'messi': 7755, 'goalless': 7756, 'blocking': 7757, 'obese': 7758, 'bakery': 7759, 'clot': 7760, 'matchup': 7761, '230': 7762, 'expired': 7763, 'obsessed': 7764, 'janet': 7765, 'pan': 7766, 'fiveday': 7767, 'christine': 7768, 'seng': 7769, 'shawn': 7770, 'chronicle': 7771, 'westwood': 7772, 'newcomer': 7773, 'axe': 7774, 'africanamerican': 7775, 'hillsborough': 7776, 'chester': 7777, 'bosnian': 7778, 'highend': 7779, 'hospice': 7780, 'threaten': 7781, '1800': 7782, 'maestro': 7783, 'stray': 7784, 'obstruction': 7785, 'cnbc': 7786, 'follows': 7787, 'earl': 7788, 'smash': 7789, 'doncaster': 7790, 'buccaneer': 7791, 'submarine': 7792, 'multimedia': 7793, 'naming': 7794, 'stricken': 7795, 'jaw': 7796, 'livestock': 7797, 'leigh': 7798, 'costume': 7799, 'fraser': 7800, 'schoolgirl': 7801, 'jackpot': 7802, 'regardless': 7803, 'livingston': 7804, 'threemonth': 7805, 'staging': 7806, 'authorized': 7807, 'boulder': 7808, 'headache': 7809, 'mood': 7810, 'nail': 7811, 'conversion': 7812, 'predecessor': 7813, 'pawlenty': 7814, 'usage': 7815, 'von': 7816, 'prasad': 7817, 'realty': 7818, 'cm': 7819, 'jade': 7820, 'aquino': 7821, 'secretariat': 7822, 'mitsubishi': 7823, 'fantastic': 7824, '29th': 7825, 'balochistan': 7826, 'sunni': 7827, 'allamerican': 7828, 'methamphetamine': 7829, 'secondround': 7830, 'bt': 7831, 'harlem': 7832, 'drum': 7833, 'switched': 7834, 'vetoed': 7835, 'dissent': 7836, 'procurement': 7837, '08': 7838, 'bruised': 7839, 'seventime': 7840, 'newt': 7841, 'organising': 7842, 'pea': 7843, 'interfax': 7844, 'exploring': 7845, 'cautioned': 7846, 'advertiser': 7847, 'fog': 7848, 'baron': 7849, 'welcoming': 7850, 'clock': 7851, 'rubbish': 7852, 'flooded': 7853, 'ci': 7854, 'automated': 7855, 'commonly': 7856, 'sail': 7857, 'jenson': 7858, 'phrase': 7859, 'dish': 7860, 'dawson': 7861, 'slaying': 7862, 'rainbow': 7863, 'gill': 7864, 'zimmerman': 7865, 'immune': 7866, 'petrochemical': 7867, 'sergei': 7868, 'brace': 7869, 'motorway': 7870, 'bismarck': 7871, 'loser': 7872, 'audition': 7873, 'il': 7874, 'bae': 7875, 'ultimately': 7876, 'rebecca': 7877, 'thrilling': 7878, 'locally': 7879, 'londonbased': 7880, 'refund': 7881, 'dustin': 7882, 'tent': 7883, 'ecosystem': 7884, 'sacred': 7885, 'rai': 7886, 'franco': 7887, 'colon': 7888, 'polar': 7889, 'crowded': 7890, 'switching': 7891, 'choosing': 7892, 'parkinson': 7893, 'admiral': 7894, 'impaired': 7895, 'akbar': 7896, 'accordance': 7897, 'roethlisberger': 7898, 'excess': 7899, 'bolivia': 7900, 'yerevan': 7901, 'costing': 7902, 'chasing': 7903, '2018': 7904, 'expands': 7905, 'wonderful': 7906, 'embezzlement': 7907, 'spying': 7908, 'merit': 7909, 'binghamton': 7910, 'lea': 7911, '112': 7912, 'tactic': 7913, 'galway': 7914, 'cheltenham': 7915, 'comcast': 7916, 'imagine': 7917, 'wbo': 7918, 'primarily': 7919, 'insurgency': 7920, 'exist': 7921, 'oversight': 7922, 'trash': 7923, 'jaipur': 7924, '12000': 7925, 'saskatoon': 7926, 'jain': 7927, 'jiabao': 7928, 'lk': 7929, 'slur': 7930, 'autobiography': 7931, 'marilyn': 7932, 'mid': 7933, 'reversed': 7934, 'convict': 7935, 'misleading': 7936, 'turnout': 7937, 'deck': 7938, 'delivers': 7939, 'daly': 7940, 'rosa': 7941, 'snapping': 7942, 'bikini': 7943, 'mainstream': 7944, 'commenting': 7945, 'reunite': 7946, 'throne': 7947, 'tajikistan': 7948, 'horrific': 7949, 'hottest': 7950, 'shetty': 7951, 'defect': 7952, 'gloucester': 7953, 'grower': 7954, 'cartel': 7955, 'methodist': 7956, 'propaganda': 7957, 'nun': 7958, 'mentioned': 7959, 'pelosi': 7960, 'prevented': 7961, 'bachelor': 7962, 'dementia': 7963, 'continuous': 7964, 'priyanka': 7965, 'brutally': 7966, 'blunt': 7967, 'guild': 7968, 'dumping': 7969, 'intentionally': 7970, 'convince': 7971, 'brooke': 7972, 'horn': 7973, 'bypass': 7974, 'beau': 7975, 'twelve': 7976, 'stuff': 7977, 'sufficient': 7978, 'halftime': 7979, 'prolific': 7980, 'alice': 7981, 'abbey': 7982, 'deteriorating': 7983, 'duluth': 7984, 'bipartisan': 7985, 'enrollment': 7986, 'kerr': 7987, 'imposing': 7988, 'demonstrate': 7989, 'jacques': 7990, 'festive': 7991, 'dismal': 7992, 'hogan': 7993, 'dust': 7994, 'poured': 7995, 'wartorn': 7996, 'opposing': 7997, 'salina': 7998, 'wanting': 7999, 'raceway': 8000, 'barrack': 8001, 'literacy': 8002, 'smoker': 8003, 'unofficial': 8004, 'tendon': 8005, 'intoxication': 8006, 'nod': 8007, 'shake': 8008, 'waziristan': 8009, 'ashore': 8010, 'profitable': 8011, 'interviewed': 8012, 'hank': 8013, 'wooden': 8014, 'telangana': 8015, 'apprentice': 8016, '2g': 8017, 'neighbourhood': 8018, 'sr': 8019, 'wealthy': 8020, 'fallout': 8021, 'lied': 8022, 'implementing': 8023, 'telugu': 8024, 'subdivision': 8025, 'najib': 8026, 'comprising': 8027, 'memoir': 8028, 'ambush': 8029, 'lucie': 8030, 'elk': 8031, 'boone': 8032, 'doll': 8033, 'terrible': 8034, 'adequate': 8035, 'cubic': 8036, 'unilever': 8037, 'assumed': 8038, 'everyday': 8039, 'gwyneth': 8040, 'ala': 8041, 'porsche': 8042, 'traveled': 8043, 'garner': 8044, 'bentley': 8045, 'protestors': 8046, 'publicity': 8047, 'gloria': 8048, 'sanctuary': 8049, 'widening': 8050, 'reign': 8051, 'regina': 8052, 'pistorius': 8053, 'nagar': 8054, 'ilham': 8055, 'deadliest': 8056, '44yearold': 8057, 'clarkson': 8058, 'laurent': 8059, 'negligent': 8060, 'conan': 8061, 'heineken': 8062, 'leinster': 8063, 'wallet': 8064, 'spaniard': 8065, 'brighton': 8066, 'enrichment': 8067, 'powerhouse': 8068, 'katherine': 8069, 'vogue': 8070, 'pianist': 8071, 'receives': 8072, 'marvel': 8073, 'rehearsal': 8074, 'whistleblower': 8075, 'interaction': 8076, 'mtn': 8077, 'answered': 8078, 'optical': 8079, 'extent': 8080, 'belarusian': 8081, 'millennium': 8082, 'msnbc': 8083, 'belong': 8084, 'chevrolet': 8085, 'netflix': 8086, 'upstate': 8087, 'costly': 8088, 'twist': 8089, 'accountant': 8090, '1997': 8091, 'antitrust': 8092, 'applying': 8093, 'eligibility': 8094, 'curtis': 8095, 'shirt': 8096, 'luxembourg': 8097, 'monte': 8098, 'adjustment': 8099, 'copenhagen': 8100, 'outlined': 8101, '37yearold': 8102, 'harder': 8103, 'bidding': 8104, 'skiing': 8105, 'deny': 8106, '220': 8107, 'cambodia': 8108, 'smooth': 8109, 'skier': 8110, '60th': 8111, 'tab': 8112, 'evil': 8113, 'wellness': 8114, 'listening': 8115, '3yearold': 8116, 'wta': 8117, 'madoff': 8118, 'berkshire': 8119, 'prediction': 8120, 'regularly': 8121, 'subprime': 8122, 'fannie': 8123, 'nephew': 8124, 'papua': 8125, 'mozambique': 8126, 'downside': 8127, 'atmosphere': 8128, 'java': 8129, 'regained': 8130, 'prescribed': 8131, 'pursuant': 8132, 'nepali': 8133, 'drag': 8134, 'financially': 8135, 'benazir': 8136, 'anfield': 8137, 'colonel': 8138, 'locality': 8139, 'theyll': 8140, '1999': 8141, 'fiber': 8142, 'maori': 8143, 'directive': 8144, 'migration': 8145, 'demolished': 8146, 'punish': 8147, 'hepatitis': 8148, 'patriarch': 8149, 'khloe': 8150, 'elena': 8151, 'condemning': 8152, 'kwazulunatal': 8153, 'televised': 8154, 'gadhafi': 8155, 'crocodile': 8156, 'reinstate': 8157, 'holocaust': 8158, 'vigil': 8159, 'credential': 8160, 'sketch': 8161, '49yearold': 8162, 'trusted': 8163, 'acceptance': 8164, 'mgm': 8165, 'educator': 8166, 'hung': 8167, 'exboyfriend': 8168, 'rotary': 8169, 'frequently': 8170, 'roland': 8171, 'gore': 8172, 'jairam': 8173, 'hop': 8174, 'beam': 8175, 'reply': 8176, 'blizzard': 8177, 'fabrice': 8178, 'precautionary': 8179, 'teamed': 8180, 'cautiously': 8181, 'pled': 8182, 'toshiba': 8183, 'smallest': 8184, 'andrea': 8185, 'bursa': 8186, 'cory': 8187, 'dover': 8188, 'festivity': 8189, 'weigh': 8190, 'technological': 8191, 'describe': 8192, 'habitat': 8193, 'alexandra': 8194, 'winslet': 8195, 'horry': 8196, 'robertson': 8197, 'cleaner': 8198, '7yearold': 8199, 'arbor': 8200, 'clegg': 8201, 'tunisian': 8202, 'rattled': 8203, 'cavendish': 8204, 'referring': 8205, 'niger': 8206, 'bal': 8207, 'sword': 8208, 'hewlettpackard': 8209, 'aired': 8210, 'paterno': 8211, 'jc': 8212, 'engulfed': 8213, 'restoring': 8214, 'audi': 8215, 'hungry': 8216, 'dominant': 8217, 'mla': 8218, 'joked': 8219, 'avert': 8220, 'revoked': 8221, 'chevron': 8222, 'hitter': 8223, 'patna': 8224, 'aviva': 8225, 'norton': 8226, 'leftist': 8227, 'accompanied': 8228, 'spite': 8229, '24kg': 8230, 'sabre': 8231, 'baxter': 8232, 'lastminute': 8233, 'airspace': 8234, 'hai': 8235, 'eastman': 8236, 'collaborative': 8237, 'drowning': 8238, 'halfway': 8239, 'cooling': 8240, 'milton': 8241, 'huntsman': 8242, 'edt': 8243, 'embezzling': 8244, 'bullying': 8245, 'resolving': 8246, 'trinamool': 8247, 'rahman': 8248, 'pressed': 8249, 'bluff': 8250, 'twomonth': 8251, 'arrow': 8252, 'fiction': 8253, 'weaken': 8254, 'whollyowned': 8255, 'exchanged': 8256, 'slept': 8257, 'farming': 8258, 'ivan': 8259, 'prospective': 8260, 'adverse': 8261, 'persuade': 8262, '113': 8263, 'sang': 8264, 'seaside': 8265, 'ossetia': 8266, 'chesapeake': 8267, 'debit': 8268, 'cardiovascular': 8269, 'junk': 8270, 'fayetteville': 8271, 'basement': 8272, 'donovan': 8273, 'feedback': 8274, 'dynamo': 8275, 'patron': 8276, 'bucharest': 8277, 'leno': 8278, 'moratorium': 8279, 'bakersfield': 8280, 'deepen': 8281, 'highness': 8282, 'feat': 8283, 'ramdev': 8284, 'haul': 8285, 'camden': 8286, 'inviting': 8287, 'contention': 8288, 'samesex': 8289, 'termination': 8290, 'mcdonald': 8291, 'representation': 8292, 'ballistic': 8293, 'naples': 8294, 'shropshire': 8295, 'sevilla': 8296, 'credible': 8297, 'guaranteed': 8298, 'identification': 8299, 'trace': 8300, 'detect': 8301, 'gerrard': 8302, 'gerald': 8303, 'catastrophic': 8304, '1980s': 8305, 'choir': 8306, 'branding': 8307, 'namibia': 8308, 'ulster': 8309, '830': 8310, 'ramon': 8311, 'panetta': 8312, 'bearish': 8313, 'input': 8314, '430': 8315, 'kimoon': 8316, 'curve': 8317, 'yang': 8318, 'ignored': 8319, 'extradited': 8320, 'tired': 8321, 'reshuffle': 8322, 'terminated': 8323, 'ranbir': 8324, 'argued': 8325, 'breeder': 8326, 'determination': 8327, 'barrett': 8328, 'madhya': 8329, 'bharat': 8330, 'stab': 8331, 'circus': 8332, 'borrow': 8333, 'qld': 8334, 'middlesbrough': 8335, 'consistent': 8336, 'instruction': 8337, 'frustrated': 8338, 'abruptly': 8339, 'rebounding': 8340, 'monk': 8341, 'fiancee': 8342, 'pearson': 8343, 'boca': 8344, 'revolving': 8345, 'eleven': 8346, 'paribas': 8347, 'aluminum': 8348, 'disclose': 8349, 'vicious': 8350, '24hour': 8351, 'elimination': 8352, 'corey': 8353, '43yearold': 8354, '650': 8355, 'ethical': 8356, 'imperial': 8357, 'pepsi': 8358, 'piper': 8359, 'psychiatric': 8360, 'owes': 8361, 'paltrow': 8362, 'tolerance': 8363, 'enhancing': 8364, 'bernardino': 8365, 'downloads': 8366, 'broward': 8367, 'hiatus': 8368, '3500': 8369, 'everybody': 8370, 'scifi': 8371, 'flexibility': 8372, 'lindsey': 8373, 'thrashed': 8374, 'cambodian': 8375, 'timing': 8376, 'curtain': 8377, 'diagnostic': 8378, 'speedy': 8379, 'northampton': 8380, 'respected': 8381, 'lowering': 8382, 'mercer': 8383, 'mcilroy': 8384, 'zuckerberg': 8385, 'rodney': 8386, '1994': 8387, 'bookmark': 8388, 'lpga': 8389, 'ink': 8390, '111': 8391, 'synthetic': 8392, 'kandahar': 8393, 'proving': 8394, 'outline': 8395, 'balotelli': 8396, '1700': 8397, 'splash': 8398, 'nixon': 8399, 'afridi': 8400, 'ep': 8401, 'owing': 8402, 'chhattisgarh': 8403, 'wished': 8404, 'quits': 8405, 'contributor': 8406, 'budapest': 8407, 'jude': 8408, 'ajay': 8409, 'gupta': 8410, 'degeneres': 8411, 'honduras': 8412, 'goodbye': 8413, 'nairobi': 8414, 'cheat': 8415, 'shirley': 8416, 'yonhap': 8417, 'otago': 8418, 'knock': 8419, 'taught': 8420, 'glove': 8421, 'lautner': 8422, 'grammywinning': 8423, 'shipyard': 8424, 'aground': 8425, 'beck': 8426, 'sylvester': 8427, 'stallone': 8428, 'waterloo': 8429, '930': 8430, 'loving': 8431, 'luther': 8432, 'postseason': 8433, 'oneoff': 8434, 'midst': 8435, 'semester': 8436, 'motorbike': 8437, 'ugandan': 8438, 'accurate': 8439, 'schmidt': 8440, 'separation': 8441, 'foiled': 8442, 'dmk': 8443, 'mellon': 8444, 'graeme': 8445, 'password': 8446, 'doctorate': 8447, 'ariz': 8448, 'blackout': 8449, 'pageant': 8450, 'karen': 8451, 'olivia': 8452, 'guam': 8453, 'macquarie': 8454, 'fond': 8455, 'disrupt': 8456, 'lounge': 8457, 'torres': 8458, 'meth': 8459, 'phillip': 8460, 'albania': 8461, 'snowfall': 8462, 'defenceman': 8463, 'mitch': 8464, 'timely': 8465, 'nate': 8466, 'warplane': 8467, 'gloomy': 8468, 'fluid': 8469, 'grounded': 8470, 'ronson': 8471, 'etc': 8472, 'bloom': 8473, 'represented': 8474, 'candidacy': 8475, 'diocese': 8476, 'khurshid': 8477, 'showroom': 8478, 'nfc': 8479, 'fidel': 8480, 'stall': 8481, 'yearlong': 8482, 'lewd': 8483, 'coveted': 8484, 'rancho': 8485, 'brewing': 8486, 'steelmaker': 8487, 'aboriginal': 8488, 'patterson': 8489, 'refining': 8490, 'ups': 8491, 'limelight': 8492, 'turf': 8493, 'braced': 8494, 'hovered': 8495, 'kenneth': 8496, 'specializing': 8497, 'piston': 8498, 'nextgeneration': 8499, 'broadly': 8500, 'memo': 8501, 'gymnastics': 8502, 'mcdonnell': 8503, 'summoned': 8504, 'nexus': 8505, 'performs': 8506, 'candy': 8507, 'moose': 8508, 'salvador': 8509, 'kiev': 8510, 'plagued': 8511, 'injunction': 8512, 'slumping': 8513, 'muamba': 8514, 'selector': 8515, 'pressing': 8516, 'pawar': 8517, 'divorced': 8518, 'maid': 8519, 'tapped': 8520, 'mere': 8521, 'granting': 8522, 'peterborough': 8523, 'judging': 8524, 'remembrance': 8525, 'akhtar': 8526, 'existence': 8527, 'ubisoft': 8528, 'bluray': 8529, 'beaver': 8530, 'nike': 8531, 'fiancé': 8532, 'citi': 8533, 'tall': 8534, 'brigade': 8535, 'ghanaian': 8536, 'decent': 8537, 'lend': 8538, 'experiment': 8539, 'spiderman': 8540, 'karan': 8541, 'depending': 8542, 'gutted': 8543, 'osce': 8544, 'qb': 8545, 'courtney': 8546, 'buckingham': 8547, 'cameroon': 8548, 'transformer': 8549, 'hayes': 8550, 'bhopal': 8551, 'abhishek': 8552, 'mask': 8553, 'bali': 8554, 'labourer': 8555, 'goody': 8556, 'receipt': 8557, 'dirt': 8558, 'approving': 8559, 'stronghold': 8560, 'kathleen': 8561, 'bicyclist': 8562, 'pressured': 8563, 'portrait': 8564, 'chased': 8565, 'quantity': 8566, 'registering': 8567, 'importing': 8568, 'extramarital': 8569, 'weston': 8570, 'heaven': 8571, 'califbased': 8572, 'lens': 8573, 'lauderdale': 8574, 'banquet': 8575, 'pt': 8576, 'eyeing': 8577, 'xavier': 8578, 'bow': 8579, 'blown': 8580, 'outrage': 8581, 'ruth': 8582, 'stockholm': 8583, 'waited': 8584, 'valve': 8585, 'ti': 8586, '30year': 8587, 'bayer': 8588, 'lately': 8589, 'sectarian': 8590, 'bermuda': 8591, 'shakeup': 8592, 'contested': 8593, 'adopting': 8594, 'gartner': 8595, 'anytime': 8596, 'eau': 8597, 'dicaprio': 8598, 'enhancement': 8599, 'montag': 8600, 'peshawar': 8601, 'ballet': 8602, 'loyalty': 8603, 'informal': 8604, 'chandler': 8605, 'matching': 8606, 'ole': 8607, 'develops': 8608, 'pave': 8609, 'labrador': 8610, 'appalachian': 8611, 'harrisburg': 8612, 'ugly': 8613, 'princeton': 8614, 'hyundai': 8615, 'alcoa': 8616, 'confusion': 8617, 'colbert': 8618, 'smuggler': 8619, 'ronald': 8620, 'pleasure': 8621, 'agitation': 8622, 'settling': 8623, 'redundancy': 8624, 'benefiting': 8625, 'canadiens': 8626, 'precision': 8627, 'superb': 8628, 'meaningful': 8629, 'commando': 8630, 'benghazi': 8631, 'chattanooga': 8632, 'marvin': 8633, 'solomon': 8634, 'hancock': 8635, 'wilkinson': 8636, 'shattered': 8637, 'compiled': 8638, 'chemistry': 8639, 'negotiated': 8640, 'coat': 8641, 'hanoi': 8642, 'olive': 8643, 'costars': 8644, 'sounded': 8645, 'rat': 8646, '1030': 8647, 'morale': 8648, 'kathmandu': 8649, 'vulnerability': 8650, 'menace': 8651, 'scope': 8652, 'grandson': 8653, 'tbilisi': 8654, 'julio': 8655, 'conspiring': 8656, 'lyric': 8657, 'mongolia': 8658, 'antiterrorism': 8659, 'unwanted': 8660, 'stationed': 8661, 'toe': 8662, 'itartass': 8663, 'sophisticated': 8664, 'dominate': 8665, 'syndicate': 8666, 'crist': 8667, 'reminded': 8668, 'rely': 8669, 'paraguay': 8670, 'trinidad': 8671, 'stupid': 8672, 'forged': 8673, 'leopard': 8674, 'playmaker': 8675, 'parallel': 8676, 'guerrilla': 8677, 'conditional': 8678, 'escort': 8679, 'petraeus': 8680, 'poultry': 8681, 'wildcat': 8682, 'directorial': 8683, 'alcoholic': 8684, 'gareth': 8685, '550': 8686, 'atop': 8687, 'carpenter': 8688, 'mention': 8689, 'caterpillar': 8690, 'berth': 8691, 'bolstering': 8692, 'paypal': 8693, 'spared': 8694, 'keegan': 8695, 'slashing': 8696, 'lasting': 8697, 'emc': 8698, 'slipping': 8699, 'tissue': 8700, 'profittaking': 8701, 'sally': 8702, 'footage': 8703, 'bobcat': 8704, 'slate': 8705, 'burmese': 8706, 'random': 8707, 'maintains': 8708, 'objective': 8709, 'frustration': 8710, 'corning': 8711, 'mideast': 8712, '7000': 8713, 'cherokee': 8714, 'mlb': 8715, 'interrogation': 8716, 'acc': 8717, 'shotgun': 8718, 'edging': 8719, 'lethal': 8720, '18000': 8721, 'parcel': 8722, 'intruder': 8723, 'reeling': 8724, 'wesley': 8725, 'd': 8726, 'gunned': 8727, 'modified': 8728, 'condolence': 8729, 'soar': 8730, 'propose': 8731, 'pray': 8732, 'jindal': 8733, 'tortured': 8734, 'asheville': 8735, 'stormy': 8736, 'homage': 8737, 'yy': 8738, 'kan': 8739, 'hilary': 8740, 'capsule': 8741, 'mahama': 8742, 'honey': 8743, 'denise': 8744, 'mechanic': 8745, 'considerable': 8746, 'visible': 8747, '55yearold': 8748, 'oslo': 8749, 'fremont': 8750, 'edwin': 8751, 'vic': 8752, 'sonny': 8753, 'recipient': 8754, 'optimization': 8755, 'recreational': 8756, 'latenight': 8757, 'putnam': 8758, 'canton': 8759, 'warfare': 8760, 'gadkari': 8761, 'thumb': 8762, 'osborne': 8763, 'emmanuel': 8764, 'lefthanded': 8765, 'landfill': 8766, 'ark': 8767, 'knowles': 8768, 'embrace': 8769, 'sienna': 8770, 'meyer': 8771, 'stateoftheart': 8772, 'pardon': 8773, 'enthusiast': 8774, 'preschool': 8775, 'practical': 8776, 'prakash': 8777, 'totaling': 8778, 'mohali': 8779, 'rivera': 8780, 'raptor': 8781, 'expertise': 8782, 'nest': 8783, 'carlton': 8784, 'gainesville': 8785, 'nda': 8786, 'measured': 8787, 'contracting': 8788, 'superhero': 8789, 'quincy': 8790, 'ponzi': 8791, 'patience': 8792, 'shaken': 8793, 'allergy': 8794, 'urgently': 8795, 'cloudbased': 8796, 'rejoin': 8797, 'pepsico': 8798, 'bitten': 8799, 'humane': 8800, 'regulate': 8801, 'forget': 8802, '2611': 8803, 'pavilion': 8804, 'odonnell': 8805, 'rite': 8806, 'blvd': 8807, 'thereby': 8808, 'jerome': 8809, 'tenth': 8810, 'crippled': 8811, 'straw': 8812, 'shakespeare': 8813, 'comply': 8814, 'renewing': 8815, 'postpone': 8816, 'hotspot': 8817, 'taxation': 8818, 'fellowship': 8819, 'francois': 8820, 'cheese': 8821, 'economically': 8822, 'conditioning': 8823, 'notch': 8824, 'reagan': 8825, 'sahara': 8826, 'pasadena': 8827, 'exposing': 8828, 'algerian': 8829, 'rift': 8830, 'massa': 8831, 'avatar': 8832, 'potato': 8833, 'counted': 8834, 'moses': 8835, 'kissing': 8836, 'decree': 8837, 'nightmare': 8838, 'misery': 8839, 'haitian': 8840, 'clause': 8841, 'inflationary': 8842, '51yearold': 8843, 'carnegie': 8844, 'igor': 8845, 'knifepoint': 8846, 'handled': 8847, 'hawkes': 8848, 'paradise': 8849, 'sunrise': 8850, 'revived': 8851, 'burial': 8852, 'ecb': 8853, 'ta': 8854, 'cairn': 8855, 'foray': 8856, 'jenna': 8857, 'seafood': 8858, 'plunging': 8859, 'imprisoned': 8860, 'macedonian': 8861, 'petty': 8862, 'angelesbased': 8863, 'ligue': 8864, 'eyewitness': 8865, 'diversity': 8866, 'zombie': 8867, '117': 8868, 'blazer': 8869, 'enjoys': 8870, 'jungle': 8871, 'toppled': 8872, 'prevailing': 8873, 'frontline': 8874, 'intend': 8875, 'hebron': 8876, 'roanoke': 8877, '190': 8878, 'graffiti': 8879, 'tumour': 8880, 'useful': 8881, 'elvis': 8882, 'kindle': 8883, 'icelandic': 8884, 'photography': 8885, 'lingerie': 8886, 'heartthrob': 8887, '48yearold': 8888, 'roadway': 8889, 'submission': 8890, 'q': 8891, 'laurel': 8892, 'irrigation': 8893, 'malayalam': 8894, 'wakefield': 8895, 'threematch': 8896, 'nationalist': 8897, 'polk': 8898, 'outer': 8899, 'questionable': 8900, 'whenever': 8901, 'jj': 8902, 'bcci': 8903, 'clinch': 8904, 'oscarnominated': 8905, 'sends': 8906, 'enormous': 8907, 'secondhalf': 8908, 'unnecessary': 8909, 'doc': 8910, 'easton': 8911, 'firsttime': 8912, 'defrauding': 8913, 'sharad': 8914, 'beleaguered': 8915, 'embargo': 8916, 'mechanical': 8917, 'vmware': 8918, '330': 8919, 'greeted': 8920, 'jessie': 8921, 'hitler': 8922, 'shriver': 8923, 'martha': 8924, 'karunanidhi': 8925, 'timberwolves': 8926, 'commented': 8927, 'accommodation': 8928, 'convenient': 8929, 'registry': 8930, 'displayed': 8931, 'exploit': 8932, 'shoaib': 8933, 'precaution': 8934, '144': 8935, 'fx': 8936, 'premature': 8937, 'outlaw': 8938, 'shy': 8939, 'prefers': 8940, 'joyce': 8941, 'senegal': 8942, 'colo': 8943, 'varsity': 8944, 'derry': 8945, 'ratified': 8946, 'identifying': 8947, 'moroccan': 8948, '850': 8949, 'cheer': 8950, 'mistakenly': 8951, 'sliding': 8952, 'rebuilding': 8953, 'atlantis': 8954, 'latino': 8955, 'exporting': 8956, 'inland': 8957, 'protective': 8958, 'darfur': 8959, 'apollo': 8960, 'roshan': 8961, 'arcelormittal': 8962, 'anxiety': 8963, 'shutout': 8964, 'deceased': 8965, 'uc': 8966, 'sooner': 8967, 'relieved': 8968, 'aziz': 8969, 'jihad': 8970, 'scratched': 8971, 'sibling': 8972, 'psychologist': 8973, 'cougar': 8974, 'debated': 8975, 'mastermind': 8976, 'etf': 8977, 'carla': 8978, 'icahn': 8979, 'mogadishu': 8980, 'diverse': 8981, 'planted': 8982, 'ravi': 8983, 'barrymore': 8984, 'linux': 8985, 'hectare': 8986, 'jaime': 8987, 'flint': 8988, 'intensify': 8989, 'pioneering': 8990, 'tackling': 8991, 'boating': 8992, 'digit': 8993, 'mila': 8994, 'dwight': 8995, 'attributed': 8996, 'arvind': 8997, 'wachovia': 8998, 'prom': 8999, 'supplied': 9000, 'goodman': 9001, 'gadget': 9002, 'benson': 9003, 'airtran': 9004, 'efron': 9005, 'gamble': 9006, 'nolan': 9007, 'ondemand': 9008, 'napa': 9009, 'provisional': 9010, 'dismiss': 9011, 'reduces': 9012, 'phelps': 9013, 'refusal': 9014, 'perjury': 9015, 'jse': 9016, 'plantation': 9017, 'grim': 9018, 'gmbh': 9019, '155': 9020, '36yearold': 9021, 'paternity': 9022, 'shoplifting': 9023, 'offduty': 9024, 'mayawati': 9025, 'unacceptable': 9026, 'dutt': 9027, 'trek': 9028, 'aloud': 9029, 'doubling': 9030, 'franc': 9031, 'savannah': 9032, 'singaporean': 9033, 'nl': 9034, 'hooker': 9035, 'lifeline': 9036, 'scratch': 9037, 'reviewed': 9038, 'thatcher': 9039, 'freeman': 9040, 'sack': 9041, 'tna': 9042, 'kane': 9043, 'caucasus': 9044, 'vowing': 9045, 'lac': 9046, 'ce': 9047, 'farmington': 9048, 'guatemala': 9049, 'punter': 9050, 'monthlong': 9051, 'thirddegree': 9052, 'spinal': 9053, 'impacted': 9054, 'driveway': 9055, '145': 9056, 'hint': 9057, 'packet': 9058, 'journalism': 9059, 'pandemic': 9060, 'cutler': 9061, 'hurley': 9062, 'ramadan': 9063, 'alpha': 9064, 'intimidation': 9065, 'roddick': 9066, 'webcast': 9067, 'unesco': 9068, 'scottsdale': 9069, 'trafficker': 9070, 'truce': 9071, 'buddhist': 9072, 'breakup': 9073, 'cv': 9074, 'aer': 9075, 'sewage': 9076, 'marker': 9077, 'exceptional': 9078, 'nicholas': 9079, 'woody': 9080, 'wisdom': 9081, 'stephanie': 9082, 'rapist': 9083, 'disqualified': 9084, 'scooter': 9085, 'furlough': 9086, 'presley': 9087, 'skull': 9088, 'usher': 9089, 'deepened': 9090, 'passionate': 9091, 'limiting': 9092, 'barker': 9093, 'diverted': 9094, 'cohen': 9095, 'expire': 9096, 'alma': 9097, 'zaman': 9098, 'kaira': 9099, '275': 9100, 'megawatt': 9101, 'planner': 9102, 'cherry': 9103, 'marseille': 9104, 'newtown': 9105, 'hawaiian': 9106, 'firstteam': 9107, 'klein': 9108, 'dwi': 9109, 'nordstrom': 9110, 'santana': 9111, 'airasia': 9112, 'eviction': 9113, 'bigg': 9114, 'syndicated': 9115, 'outpost': 9116, 'resumption': 9117, 'relaunched': 9118, 'viable': 9119, 'mastercard': 9120, 'aspen': 9121, 'knightley': 9122, 'influenza': 9123, 'laugh': 9124, 'lithuania': 9125, 'tasmania': 9126, 'larceny': 9127, 'bud': 9128, 'aluminium': 9129, 'diagnosis': 9130, 'defined': 9131, 'brink': 9132, 'sonoma': 9133, 'revision': 9134, 'penney': 9135, 'deepwater': 9136, 'ancelotti': 9137, 'painted': 9138, 'crosse': 9139, 'groupon': 9140, 'polanski': 9141, '114': 9142, 'extinction': 9143, 'andor': 9144, 'karim': 9145, 'evangelist': 9146, 'munster': 9147, 'wideranging': 9148, 'fletcher': 9149, 'anita': 9150, 'ont': 9151, 'outspoken': 9152, 'blend': 9153, 'span': 9154, 'duff': 9155, 'riskier': 9156, 'orchard': 9157, 'midway': 9158, 'seize': 9159, 'cayman': 9160, 'ritchie': 9161, 'ky': 9162, 'wholesaler': 9163, 'relocate': 9164, 'obtaining': 9165, 'oiler': 9166, 'disrupting': 9167, 'rhino': 9168, 'installment': 9169, 'microsofts': 9170, 'reflected': 9171, 'virtualization': 9172, 'dependence': 9173, 'desperately': 9174, 'herbert': 9175, 'communicate': 9176, 'clearance': 9177, 'initiate': 9178, 'embarrassing': 9179, 'fertiliser': 9180, 'kidnap': 9181, '4yearold': 9182, 'sexiest': 9183, 'nordic': 9184, 'stiff': 9185, 'marcos': 9186, '600000': 9187, 'tina': 9188, 'charitable': 9189, 'steadily': 9190, 'largescale': 9191, 'verbal': 9192, 'brunei': 9193, 'chi': 9194, 'bubble': 9195, 'achilles': 9196, 'cancelling': 9197, 'notification': 9198, 'triangle': 9199, 'hurting': 9200, 'fivetime': 9201, 'cake': 9202, 'criticizing': 9203, 'oh': 9204, 'dressing': 9205, 'rashid': 9206, 'qureshi': 9207, 'sears': 9208, 'airwave': 9209, 'rajesh': 9210, 'intraday': 9211, 'shahrukh': 9212, 'rumoured': 9213, 'foe': 9214, 'keane': 9215, 'kunis': 9216, 'poison': 9217, 'deserves': 9218, 'enrolled': 9219, 'deserved': 9220, 'edgar': 9221, '1990': 9222, '1995': 9223, 'installing': 9224, 'accessible': 9225, 'kremlin': 9226, 'rivalry': 9227, 'gauteng': 9228, 'snyder': 9229, 'suicidal': 9230, 'literary': 9231, 'holly': 9232, 'gram': 9233, 'hanover': 9234, 'coldplay': 9235, 'cnns': 9236, 'aggression': 9237, 'desmond': 9238, 'bosnia': 9239, 'ba': 9240, 'beneficial': 9241, 'diluted': 9242, 'denial': 9243, 'legion': 9244, 'sunil': 9245, 'judy': 9246, 'indy': 9247, 'anymore': 9248, 'daryl': 9249, 'diplomacy': 9250, 'motorsports': 9251, 'erased': 9252, 'biting': 9253, 'conductor': 9254, 'referral': 9255, 'kia': 9256, 'aerial': 9257, 'closet': 9258, 'denny': 9259, 'guyana': 9260, 'pledging': 9261, '1993': 9262, 'steele': 9263, 'worship': 9264, 'heathrow': 9265, 'rematch': 9266, 'contador': 9267, 'negligence': 9268, 'commence': 9269, 'amar': 9270, 'detector': 9271, 'byrne': 9272, 'limerick': 9273, 'assemblyman': 9274, 'thames': 9275, 'parenthood': 9276, 'feeding': 9277, 'financials': 9278, '1990s': 9279, 'pulitzer': 9280, 'dunn': 9281, 'bogus': 9282, 'ayatollah': 9283, 'loyalist': 9284, 'painful': 9285, 'calvin': 9286, 'describes': 9287, 'stockpile': 9288, 'playground': 9289, 'gregory': 9290, 'sim': 9291, 'merged': 9292, 'await': 9293, 'dismissing': 9294, 'graf': 9295, 'trauma': 9296, 'middletown': 9297, 'chivas': 9298, 'uncovered': 9299, 'bleeding': 9300, 'palermo': 9301, 'satisfied': 9302, 'mishap': 9303, '5yearold': 9304, '124': 9305, '530': 9306, 'runnerup': 9307, 'intensifying': 9308, 'resisting': 9309, 'makeshift': 9310, 'readiness': 9311, 'brake': 9312, 'hobbit': 9313, 'undermine': 9314, 'extremism': 9315, '149': 9316, 'carling': 9317, 'dixon': 9318, 'artistic': 9319, 'inspire': 9320, 'malibu': 9321, 'fuelled': 9322, 'clarified': 9323, 'recruited': 9324, 'greeting': 9325, 'genuine': 9326, 'evicted': 9327, 'bravo': 9328, 'policing': 9329, 'espionage': 9330, 'slumdog': 9331, 'clarksville': 9332, 'lille': 9333, 'gosling': 9334, 'indira': 9335, 'rainy': 9336, 'qamar': 9337, 'chemotherapy': 9338, 'hayward': 9339, '9000': 9340, 'drogba': 9341, 'lit': 9342, 'liz': 9343, 'powder': 9344, 'cfo': 9345, 'symposium': 9346, 'goodell': 9347, 'mn': 9348, 'converted': 9349, 'tally': 9350, 'practiced': 9351, 'rey': 9352, 'curriculum': 9353, 'keira': 9354, 'positioned': 9355, 'borrowed': 9356, 'husky': 9357, 'cadet': 9358, 'rutherford': 9359, 'yulia': 9360, 'dirk': 9361, 'alfred': 9362, 'mat': 9363, 'byron': 9364, 'vibrant': 9365, 'makeup': 9366, 'proudly': 9367, 'kitten': 9368, 'garment': 9369, 'belle': 9370, 'stepfather': 9371, 'joplin': 9372, 'irna': 9373, 'astana': 9374, '17000': 9375, 'congresswoman': 9376, 'byrd': 9377, 'loses': 9378, 'bcs': 9379, 'theo': 9380, 'prague': 9381, 'qpr': 9382, 'sharjah': 9383, 'pundit': 9384, 'medic': 9385, 'eminem': 9386, 'remittance': 9387, 'lotus': 9388, 'payne': 9389, 'lubbock': 9390, 'bassist': 9391, 'jenny': 9392, 'vocalist': 9393, 'fearing': 9394, 'durable': 9395, 'bb': 9396, 'angolan': 9397, 'dear': 9398, 'viewed': 9399, 'qualification': 9400, 'soup': 9401, 'salmon': 9402, 'accountable': 9403, 'hurling': 9404, 'harold': 9405, 'keynote': 9406, 'feud': 9407, 'repayment': 9408, 'geoff': 9409, 'bridgeport': 9410, 'warne': 9411, 'milo': 9412, 'hardline': 9413, 'nasty': 9414, '109': 9415, 'booker': 9416, 'playwright': 9417, 'involuntary': 9418, 'clint': 9419, 'waterfront': 9420, 'asks': 9421, 'rbc': 9422, 'pork': 9423, 'patricia': 9424, 'rightwing': 9425, 'vk': 9426, 'dev': 9427, 'keeper': 9428, 'eastenders': 9429, 'warden': 9430, 'relegated': 9431, 'luggage': 9432, 'poorly': 9433, 'santiago': 9434, 'arroyo': 9435, 'bryce': 9436, 'iv': 9437, 'tumbling': 9438, 'corresponding': 9439, 'suffers': 9440, 'artificial': 9441, 'modestly': 9442, 'fiveyearold': 9443, 'screened': 9444, 'frequency': 9445, 'uniteds': 9446, 'projection': 9447, 'edison': 9448, 'underwater': 9449, 'hay': 9450, 'landfall': 9451, 'chen': 9452, 'stats': 9453, 'extract': 9454, 'shilpa': 9455, 'echo': 9456, 'structural': 9457, 'seth': 9458, 'exceeding': 9459, 'middlesex': 9460, 'unconstitutional': 9461, 'confiscated': 9462, 'knowing': 9463, 'atm': 9464, 'negro': 9465, 'stylish': 9466, 'wr': 9467, 'lazio': 9468, 'kelsey': 9469, 'somewhat': 9470, 'demographic': 9471, 'transporter': 9472, 'fibre': 9473, 'presiding': 9474, 'gibbs': 9475, 'footstep': 9476, 'undermining': 9477, 'insolvency': 9478, 'lamb': 9479, 'biel': 9480, 'monopoly': 9481, 'interference': 9482, 'qualcomm': 9483, 'penske': 9484, 'famer': 9485, 'sheep': 9486, 'harding': 9487, 'topranked': 9488, 'scuffle': 9489, 'venus': 9490, 'conventional': 9491, 'bury': 9492, 'cocoa': 9493, 'californiabased': 9494, 'congestion': 9495, 'schalke': 9496, 'capping': 9497, 'zinc': 9498, 'lcd': 9499, 'reggie': 9500, 'jaya': 9501, 'eclipse': 9502, 'crippling': 9503, 'werent': 9504, 'incoming': 9505, 'optioned': 9506, 'footwear': 9507, 'flurry': 9508, 'exported': 9509, 'mikhail': 9510, 'wang': 9511, 'hutchison': 9512, 'arising': 9513, 'eastbound': 9514, 'trick': 9515, 'jo': 9516, 'allahabad': 9517, 'northbound': 9518, 'directorate': 9519, 'engulfing': 9520, 'orthodox': 9521, '8yearold': 9522, 'stafford': 9523, 'unrelated': 9524, 'paddy': 9525, '70000': 9526, 'akron': 9527, 'malicious': 9528, 'counseling': 9529, 'bremen': 9530, 'greenwich': 9531, 'mirren': 9532, 'patriotic': 9533, 'substantially': 9534, 'mlbcom': 9535, 'defying': 9536, 'sunset': 9537, 'xperia': 9538, 'salvage': 9539, 'mcafee': 9540, 'alec': 9541, 'sandwich': 9542, 'boyd': 9543, 'reluctant': 9544, 'mm': 9545, 'noida': 9546, 'caregiver': 9547, 'espns': 9548, 'thrilled': 9549, 'avery': 9550, 'flynn': 9551, 'mammoth': 9552, 'nagornokarabakh': 9553, 'pesticide': 9554, 'condom': 9555, 'dekalb': 9556, 'regent': 9557, 'butter': 9558, 'hulk': 9559, 'acoustic': 9560, 'underwear': 9561, 'selective': 9562, 'volcanic': 9563, 'dire': 9564, 'bunker': 9565, 'congratulate': 9566, 'investigative': 9567, 'intact': 9568, 'restrict': 9569, 'glendale': 9570, 'captive': 9571, 'handheld': 9572, 'serzh': 9573, 'lowe': 9574, 'illicit': 9575, 'recommend': 9576, 'rex': 9577, 'sherman': 9578, 'steadied': 9579, 'composition': 9580, 'intercepted': 9581, 'radcliffe': 9582, 'milford': 9583, 'antique': 9584, 'lankas': 9585, 'fixing': 9586, 'solicitation': 9587, 'asda': 9588, 'khalid': 9589, 'impeachment': 9590, 'pinto': 9591, 'multibillion': 9592, 'meteorological': 9593, 'breeding': 9594, 'context': 9595, 'engaging': 9596, 'airliner': 9597, 'derbyshire': 9598, 'tow': 9599, 'spotify': 9600, 'spilled': 9601, 'retaliation': 9602, 'seminole': 9603, 'tongue': 9604, 'arthroscopic': 9605, 'disturbing': 9606, 'cadre': 9607, 'obvious': 9608, 'cesar': 9609, 'pre': 9610, 'commanding': 9611, 'dunedin': 9612, 'davidson': 9613, 'uncomfortable': 9614, 'paulson': 9615, 'practitioner': 9616, 'explicit': 9617, 'massage': 9618, 'lucy': 9619, 'molecule': 9620, 'vera': 9621, 'huron': 9622, 'ansari': 9623, 'tymoshenko': 9624, 'churchill': 9625, 'battlefield': 9626, 'ricardo': 9627, 'corbett': 9628, 'ignoring': 9629, 'procession': 9630, 'ar': 9631, 'kourtney': 9632, 'bare': 9633, 'idiot': 9634, 'overcame': 9635, 'frenchman': 9636, 'aishwarya': 9637, 'glamour': 9638, 'yearend': 9639, 'collaborate': 9640, 'lamar': 9641, 'scary': 9642, 'mln': 9643, 'inevitable': 9644, 'geelong': 9645, 'dragging': 9646, 'peacekeeping': 9647, 'spurred': 9648, 'slovenian': 9649, 'sargsyan': 9650, 'apologise': 9651, 'goodluck': 9652, 'gee': 9653, 'classical': 9654, 'ventura': 9655, 'seemingly': 9656, 'rabies': 9657, 'mess': 9658, 'travelled': 9659, 'implant': 9660, 'outburst': 9661, 'onstage': 9662, 'perpetrator': 9663, 'californian': 9664, 'circulating': 9665, 'benton': 9666, 'mistress': 9667, 'skate': 9668, 'qatari': 9669, 'contraction': 9670, 'airstrikes': 9671, 'stark': 9672, 'fairly': 9673, 'slew': 9674, 'coupon': 9675, '200th': 9676, 'privilege': 9677, 'regulated': 9678, 'snowmobile': 9679, 'beth': 9680, 'trinity': 9681, 'gazette': 9682, 'capt': 9683, 'mourning': 9684, '90th': 9685, 'electrocuted': 9686, 'noise': 9687, 'ortiz': 9688, 'rhythm': 9689, 'recommending': 9690, 'dupont': 9691, 'janeiro': 9692, 'rushing': 9693, 'paedophile': 9694, 'mackay': 9695, 'soda': 9696, 'revolt': 9697, 'amr': 9698, 'noah': 9699, 'vat': 9700, 'kapil': 9701, '200m': 9702, 'alba': 9703, 'upgrading': 9704, 'kaif': 9705, 'artery': 9706, 'financier': 9707, 'anybody': 9708, 'ritual': 9709, 'refinancing': 9710, 'secondbiggest': 9711, '118': 9712, 'erdogan': 9713, 'nowhere': 9714, 'comptroller': 9715, 'bedford': 9716, 'westchester': 9717, 'cocktail': 9718, 'ignore': 9719, 'nvidia': 9720, 'improperly': 9721, 'rip': 9722, 'fdi': 9723, 'aquarium': 9724, 'tripled': 9725, 'ballpark': 9726, 'consul': 9727, 'haye': 9728, 'homemade': 9729, '20102011': 9730, 'arresting': 9731, 'hitachi': 9732, 'crux': 9733, 'wan': 9734, 'hussein': 9735, 'ultra': 9736, 'preparedness': 9737, 'racer': 9738, 'barney': 9739, 'racism': 9740, 'bookmaker': 9741, 'stun': 9742, 'zoning': 9743, 'exemption': 9744, 'exception': 9745, 'carlyle': 9746, 'collingwood': 9747, 'dominic': 9748, 'condominium': 9749, 'defiant': 9750, 'jong': 9751, 'reigning': 9752, 'fielding': 9753, 'zayed': 9754, 'trayvon': 9755, 'wandering': 9756, 'fitting': 9757, 'lent': 9758, 'overwhelmed': 9759, 'gardner': 9760, 'woo': 9761, 'sake': 9762, 'mound': 9763, 'sudbury': 9764, 'wrapping': 9765, 'erik': 9766, 'pueblo': 9767, 'polo': 9768, 'anton': 9769, 'mediation': 9770, 'timor': 9771, 'clive': 9772, 'merchandise': 9773, 'dal': 9774, 'bynes': 9775, 'tumultuous': 9776, 'peso': 9777, 'sixyear': 9778, 'inclusion': 9779, 'brick': 9780, 'threeweek': 9781, 'innovator': 9782, '170': 9783, 'postelection': 9784, 'disastrous': 9785, 'swindon': 9786, 'sustain': 9787, 'wiltshire': 9788, 'softer': 9789, 'jordanian': 9790, 'microsystems': 9791, 'perkins': 9792, 'imphal': 9793, 'beneficiary': 9794, 'lin': 9795, 'divide': 9796, 'abkhazia': 9797, 'suitable': 9798, 'practicing': 9799, 'indycar': 9800, '1998': 9801, 'recurring': 9802, 'guess': 9803, 'whereby': 9804, 'fortnight': 9805, 'motoring': 9806, 'sin': 9807, 'amend': 9808, 'decides': 9809, '13000': 9810, 'booster': 9811, 'kyiv': 9812, 'springbok': 9813, 'slalom': 9814, 'no1': 9815, 'lampard': 9816, 'spouse': 9817, 'residency': 9818, 'excise': 9819, '37th': 9820, 'stuttgart': 9821, 'homecoming': 9822, 'brotherhood': 9823, 'proceed': 9824, 'reasonable': 9825, 'fe': 9826, 'pep': 9827, 'granite': 9828, 'hitandrun': 9829, 'paramilitary': 9830, 'oreilly': 9831, 'unborn': 9832, 'montenegro': 9833, 'tryout': 9834, 'repaired': 9835, 'shedding': 9836, 'guillermo': 9837, 'unfortunately': 9838, 'applicant': 9839, 'graduated': 9840, '1992': 9841, 'axed': 9842, 'q1': 9843, 'hail': 9844, 'impersonating': 9845, 'sticking': 9846, 'distinguished': 9847, 'liberia': 9848, 'goat': 9849, 'westfield': 9850, 'ipads': 9851, 'bon': 9852, 'impress': 9853, 'missionary': 9854, 'banda': 9855, 'microwave': 9856, '1130': 9857, 'hammered': 9858, 'countdown': 9859, 'santander': 9860, 'blessing': 9861, 'frontrunner': 9862, 'writedowns': 9863, 'basel': 9864, 'ebooks': 9865, 'scaling': 9866, 'flipped': 9867, 'calhoun': 9868, 'inadequate': 9869, 'bouncing': 9870, 'generated': 9871, 'omalley': 9872, 'oj': 9873, 'jenner': 9874, 'hefty': 9875, 'liner': 9876, 'ict': 9877, 'wrongly': 9878, '185': 9879, 'structured': 9880, 'sk': 9881, '9yearold': 9882, 'lockheed': 9883, 'productive': 9884, 'resuming': 9885, 'maxwell': 9886, 'equipped': 9887, '70th': 9888, 'extortion': 9889, 'irving': 9890, 'villarreal': 9891, 'sheila': 9892, 'criterion': 9893, 'trap': 9894, 'pic': 9895, 'worsened': 9896, 'ernie': 9897, 'muchneeded': 9898, 'thrasher': 9899, '2017': 9900, 'voip': 9901, 'sundance': 9902, 'perception': 9903, 'buddy': 9904, 'assessed': 9905, 'bookstore': 9906, 'rescheduled': 9907, 'bolstered': 9908, 'romeo': 9909, 'fairbanks': 9910, 'bald': 9911, 'unarmed': 9912, 'mateo': 9913, '1984': 9914, 'reminding': 9915, '1950s': 9916, 'opt': 9917, 'abilene': 9918, 'erin': 9919, 'forge': 9920, 'liberian': 9921, 'biology': 9922, 'needing': 9923, 'luanda': 9924, 'hoax': 9925, 'rallying': 9926, 'remembering': 9927, 'instability': 9928, 'tacoma': 9929, 'hollyoaks': 9930, 'meningitis': 9931, 'thigh': 9932, 'asbestos': 9933, 'gurgaon': 9934, 'venice': 9935, 'relaunch': 9936, 'oriental': 9937, 'motherhood': 9938, 'usb': 9939, 'ibf': 9940, 'asleep': 9941, 'excuse': 9942, 'sculpture': 9943, 'wardrobe': 9944, 'malfunction': 9945, 'bladder': 9946, 'butte': 9947, 'napoli': 9948, 'nicky': 9949, 'tend': 9950, 'enclave': 9951, 'bonanza': 9952, 'moldova': 9953, 'paolo': 9954, 'caspian': 9955, 'considerably': 9956, 'richland': 9957, 'lenny': 9958, 'wiz': 9959, 'deaf': 9960, 'dalglish': 9961, 'organizing': 9962, 'mosley': 9963, 'albanian': 9964, 'fold': 9965, 'barbados': 9966, 'mock': 9967, 'mf': 9968, 'exact': 9969, 'demo': 9970, 'dome': 9971, 'perdue': 9972, 'vodka': 9973, 'blowing': 9974, 'painkiller': 9975, 'effectiveness': 9976, 'loc': 9977, 'hormone': 9978, '129': 9979, 'blanket': 9980, 'oxygen': 9981, 'devoted': 9982, 'hightech': 9983, 'appropriation': 9984, 'sania': 9985, 'rwandan': 9986, 'tasmanian': 9987, 'derrick': 9988, 'missoula': 9989, 'barge': 9990, 'kannada': 9991, 'constructed': 9992, 'monarch': 9993, 'fossil': 9994, 'shreveport': 9995, 'unhappy': 9996, 'unveils': 9997, 'fueled': 9998, 'subsequent': 9999}\n",
      "[('said', 19880), ('new', 15262), ('year', 10272), ('today', 9661), ('u', 8445), ('announced', 7571), ('state', 7275), ('tuesday', 7261), ('two', 7248), ('police', 7119), ('wednesday', 6875), ('say', 6866), ('thursday', 6840), ('monday', 6796), ('man', 6771), ('friday', 6516), ('first', 6280), ('president', 5419), ('week', 5368), ('according', 5332), ('company', 5188), ('one', 5073), ('last', 5064), ('former', 5038), ('saturday', 4836), ('world', 4711), ('day', 4686), ('city', 4636), ('sunday', 4627), ('report', 4616), ('minister', 4577), ('county', 4482), ('month', 4389), ('million', 4285), ('time', 4249), ('official', 4225), ('service', 4202), ('country', 4194), ('government', 4074), ('home', 3994), ('night', 3963), ('woman', 3929), ('people', 3880), ('market', 3683), ('three', 3593), ('may', 3559), ('morning', 3524), ('bank', 3511), ('died', 3432), ('national', 3339), ('school', 3321), ('reported', 3282), ('next', 3238), ('court', 3177), ('would', 3067), ('group', 3056), ('plan', 3043), ('south', 3034), ('price', 2921), ('set', 2852), ('team', 2849), ('business', 2840), ('game', 2807), ('india', 2782), ('second', 2752), ('international', 2665), ('charge', 2662), ('news', 2633), ('season', 2618), ('star', 2610), ('killed', 2575), ('inc', 2549), ('found', 2540), ('yesterday', 2540), ('following', 2513), ('could', 2490), ('early', 2484), ('show', 2465), ('back', 2447), ('leader', 2387), ('high', 2374), ('house', 2359), ('united', 2351), ('american', 2310), ('car', 2309), ('part', 2289), ('global', 2260), ('stock', 2258), ('north', 2222), ('arrested', 2210), ('chief', 2208), ('child', 2193), ('york', 2159), ('office', 2130), ('four', 2118), ('league', 2094), ('fire', 2073), ('security', 2062), ('public', 2062), ('federal', 2061), ('oil', 2047), ('made', 2046), ('help', 2042), ('hospital', 2022), ('open', 2006), ('area', 2003), ('china', 1984), ('share', 1982), ('released', 1975), ('billion', 1962), ('near', 1959), ('hit', 1939), ('obama', 1932), ('launched', 1930), ('end', 1911), ('charged', 1907), ('2012', 1903), ('financial', 1899), ('death', 1897), ('job', 1884), ('economic', 1877), ('health', 1877), ('local', 1872), ('party', 1857), ('make', 1855), ('per', 1830), ('west', 1827), ('told', 1812), ('take', 1811), ('indian', 1791), ('10', 1767), ('cut', 1751), ('right', 1746), ('life', 1741), ('officer', 1738), ('coach', 1725), ('department', 1723), ('sale', 1714), ('university', 1706), ('street', 1691), ('work', 1686), ('five', 1679), ('center', 1678), ('percent', 1674), ('top', 1670), ('student', 1669), ('system', 1669), ('deal', 1655), ('left', 1649), ('major', 1649), ('record', 1636), ('face', 1633), ('district', 1626), ('pakistan', 1623), ('due', 1621), ('march', 1616), ('rate', 1611), ('club', 1609), ('general', 1609), ('medium', 1605), ('british', 1604), ('since', 1600), ('john', 1600), ('including', 1599), ('afternoon', 1597), ('authority', 1582), ('power', 1574), ('expected', 1571), ('held', 1566), ('family', 1559), ('industry', 1554), ('european', 1553), ('member', 1549), ('drug', 1545), ('get', 1537), ('prime', 1523), ('road', 1516), ('election', 1515), ('third', 1514), ('force', 1513), ('called', 1512), ('1', 1507), ('agency', 1506), ('attack', 1491), ('weekend', 1488), ('win', 1487), ('player', 1484), ('another', 1480), ('film', 1477), ('accused', 1476), ('guilty', 1473), ('2010', 1473), ('dollar', 1468), ('support', 1464), ('head', 1456), ('play', 1450), ('june', 1450), ('london', 1448), ('cup', 1447), ('nation', 1446), ('return', 1445), ('energy', 1444), ('economy', 1442), ('signed', 1433), ('fell', 1426), ('despite', 1416), ('foreign', 1408), ('case', 1388), ('series', 1386), ('online', 1381), ('trade', 1379), ('capital', 1379), ('april', 1378), ('director', 1375), ('development', 1364), ('leading', 1362), ('bill', 1361), ('way', 1360), ('central', 1359), ('shot', 1355), ('uk', 1352), ('revealed', 1349), ('2011', 1345), ('six', 1339), ('point', 1337), ('technology', 1327), ('corp', 1312), ('want', 1311), ('number', 1310), ('barack', 1307), ('men', 1304), ('firm', 1298), ('final', 1296), ('across', 1295), ('start', 1295), ('around', 1291), ('park', 1287), ('meeting', 1287), ('provider', 1275), ('board', 1265), ('manager', 1258), ('actor', 1252), ('loss', 1251), ('air', 1249), ('20', 1245), ('late', 1245), ('still', 1243), ('talk', 1242), ('girl', 1241), ('saying', 1239), ('allegedly', 1238), ('mobile', 1236), ('like', 1235), ('australian', 1235), ('gas', 1232), ('confirmed', 1231), ('free', 1230), ('quarter', 1228), ('st', 1224), ('fund', 1223), ('move', 1218), ('military', 1215), ('network', 1214), ('largest', 1213), ('community', 1211), ('release', 1209), ('2013', 1207), ('data', 1207), ('program', 1204), ('investor', 1204), ('product', 1202), ('research', 1202), ('store', 1201), ('washington', 1200), ('several', 1198), ('union', 1196), ('issue', 1194), ('tax', 1194), ('east', 1193), ('launch', 1192), ('project', 1192), ('recently', 1191), ('future', 1188), ('2009', 1188), ('recent', 1187), ('water', 1185), ('11', 1183), ('hour', 1182), ('cent', 1177), ('law', 1173), ('run', 1173), ('well', 1172), ('campaign', 1171), ('injury', 1168), ('dead', 1167), ('close', 1162), ('investment', 1162), ('council', 1158), ('champion', 1158), ('july', 1157), ('2', 1147), ('football', 1146), ('visit', 1139), ('contract', 1136), ('australia', 1136), ('test', 1135), ('tour', 1132), ('latest', 1132), ('injured', 1131), ('go', 1128), ('food', 1126), ('need', 1123), ('conference', 1122), ('study', 1121), ('many', 1119), ('pm', 1118), ('region', 1115), ('best', 1112), ('management', 1106), ('operation', 1102), ('los', 1101), ('big', 1099), ('opened', 1096), ('annual', 1095), ('level', 1090), ('line', 1089), ('good', 1087), ('town', 1087), ('press', 1086), ('30', 1085), ('worker', 1078), ('place', 1078), ('rose', 1077), ('senior', 1070), ('david', 1061), ('demand', 1058), ('crash', 1058), ('12', 1056), ('result', 1056), ('crisis', 1053), ('growth', 1052), ('actress', 1051), ('fall', 1051), ('updated', 1051), ('cost', 1050), ('change', 1048), ('pleaded', 1047), ('san', 1045), ('also', 1044), ('side', 1041), ('source', 1039), ('age', 1038), ('increase', 1035), ('angeles', 1034), ('england', 1033), ('15', 1030), ('political', 1018), ('prison', 1018), ('offer', 1016), ('nearly', 1016), ('even', 1016), ('secretary', 1015), ('cancer', 1003), ('money', 1001), ('come', 1000), ('lead', 997), ('filed', 995), ('private', 993), ('award', 992), ('body', 990), ('medical', 989), ('tv', 989), ('order', 988), ('agreement', 987), ('executive', 984), ('pay', 981), ('event', 981), ('chinese', 980), ('america', 979), ('agreed', 978), ('giant', 976), ('site', 976), ('3', 975), ('host', 972), ('ago', 971), ('ministry', 971), ('closed', 968), ('january', 965), ('white', 964), ('singer', 964), ('republican', 963), ('airline', 960), ('taking', 956), ('music', 955), ('making', 954), ('college', 954), ('premier', 950), ('earlier', 948), ('young', 946), ('2008', 946), ('action', 945), ('solution', 943), ('customer', 942), ('vehicle', 939), ('consumer', 937), ('presidential', 936), ('building', 936), ('fan', 933), ('centre', 932), ('ahead', 929), ('reportedly', 928), ('took', 928), ('amid', 924), ('southern', 918), ('budget', 915), ('long', 913), ('sport', 913), ('information', 911), ('boy', 909), ('going', 909), ('match', 909), ('september', 908), ('judge', 908), ('iran', 907), ('higher', 907), ('february', 906), ('claim', 906), ('afghanistan', 905), ('mark', 902), ('driver', 899), ('special', 897), ('resident', 892), ('war', 890), ('debt', 890), ('call', 889), ('past', 886), ('michael', 884), ('wife', 884), ('5', 884), ('french', 880), ('murder', 879), ('policy', 878), ('use', 877), ('delhi', 873), ('chairman', 871), ('gold', 871), ('red', 867), ('interest', 866), ('production', 866), ('exchange', 865), ('plant', 865), ('congress', 865), ('become', 864), ('evening', 862), ('effort', 861), ('issued', 858), ('november', 856), ('station', 854), ('governor', 854), ('profit', 851), ('buy', 848), ('least', 848), ('race', 846), ('russian', 845), ('social', 844), ('role', 844), ('trial', 844), ('away', 844), ('title', 843), ('association', 841), ('california', 839), ('trading', 838), ('europe', 835), ('sector', 834), ('video', 834), ('summer', 830), ('credit', 829), ('candidate', 826), ('canada', 825), ('coast', 824), ('lost', 823), ('texas', 822), ('old', 819), ('live', 818), ('africa', 818), ('fight', 818), ('4', 817), ('meet', 816), ('strong', 815), ('island', 812), ('care', 812), ('website', 810), ('r', 810), ('property', 808), ('shooting', 807), ('hold', 804), ('working', 804), ('likely', 803), ('lower', 801), ('japan', 799), ('term', 798), ('small', 798), ('round', 798), ('condition', 796), ('continue', 796), ('received', 794), ('october', 793), ('movie', 792), ('taken', 791), ('25', 790), ('victory', 790), ('key', 789), ('led', 787), ('sign', 785), ('december', 782), ('seven', 782), ('software', 782), ('without', 781), ('northern', 781), ('14', 780), ('sentenced', 780), ('real', 780), ('russia', 779), ('owner', 779), ('facing', 779), ('surgery', 777), ('statement', 775), ('16', 773), ('21', 772), ('much', 772), ('got', 771), ('championship', 771), ('ended', 770), ('cash', 768), ('baby', 768), ('corporation', 767), ('soldier', 765), ('senate', 764), ('bid', 763), ('fourth', 759), ('partner', 757), ('see', 755), ('heart', 755), ('grand', 754), ('august', 753), ('accident', 753), ('flight', 751), ('concern', 750), ('brand', 750), ('half', 749), ('human', 749), ('maker', 748), ('education', 748), ('opening', 748), ('planning', 745), ('la', 745), ('florida', 744), ('session', 744), ('18', 741), ('hope', 741), ('beat', 740), ('german', 740), ('airport', 739), ('control', 738), ('current', 737), ('coming', 737), ('forward', 735), ('finance', 735), ('offering', 735), ('nuclear', 734), ('sex', 732), ('100', 730), ('canadian', 730), ('employee', 730), ('great', 727), ('co', 727), ('army', 726), ('phone', 723), ('river', 723), ('used', 722), ('internet', 722), ('emergency', 721), ('later', 720), ('13', 720), ('biggest', 716), ('protest', 716), ('upcoming', 715), ('guard', 711), ('problem', 710), ('put', 710), ('6', 709), ('korea', 708), ('look', 707), ('field', 706), ('paul', 705), ('loan', 703), ('assault', 702), ('stop', 701), ('commission', 701), ('give', 701), ('holding', 699), ('named', 697), ('claimed', 696), ('killing', 695), ('committee', 694), ('looking', 693), ('8', 693), ('soon', 693), ('friend', 693), ('asian', 693), ('along', 693), ('traffic', 690), ('euro', 690), ('france', 690), ('post', 690), ('7', 689), ('admitted', 689), ('western', 689), ('domestic', 688), ('gain', 685), ('keep', 685), ('supply', 683), ('deputy', 681), ('low', 679), ('manchester', 679), ('warned', 679), ('lake', 678), ('hollywood', 676), ('gov', 676), ('border', 675), ('african', 670), ('performance', 668), ('step', 668), ('among', 665), ('bus', 665), ('eight', 662), ('black', 661), ('career', 660), ('24', 659), ('target', 658), ('veteran', 657), ('hotel', 656), ('israel', 656), ('chicago', 656), ('parliament', 653), ('facility', 651), ('based', 651), ('tonight', 650), ('britain', 650), ('son', 649), ('jail', 649), ('decision', 649), ('17', 648), ('regional', 648), ('thousand', 647), ('full', 647), ('ltd', 646), ('strike', 646), ('apple', 644), ('raised', 644), ('robert', 643), ('training', 642), ('vote', 642), ('getting', 641), ('showed', 641), ('sold', 640), ('outside', 640), ('risk', 638), ('unit', 636), ('insurance', 636), ('running', 635), ('album', 635), ('figure', 633), ('person', 633), ('george', 632), ('22', 631), ('hall', 629), ('reserve', 628), ('driving', 627), ('james', 627), ('investigating', 625), ('raise', 624), ('50', 624), ('television', 623), ('better', 623), ('couple', 623), ('begin', 623), ('israeli', 622), ('continued', 618), ('rise', 617), ('act', 616), ('mother', 616), ('brown', 615), ('safety', 614), ('suspended', 612), ('interview', 612), ('teacher', 611), ('little', 611), ('sell', 611), ('opposition', 610), ('name', 609), ('trying', 609), ('staff', 609), ('google', 608), ('stage', 607), ('alleged', 607), ('behind', 607), ('arrest', 606), ('incident', 604), ('crime', 604), ('cricket', 604), ('sent', 603), ('sheriff', 602), ('weather', 602), ('within', 602), ('construction', 601), ('almost', 600), ('approved', 600), ('leave', 599), ('love', 597), ('bond', 596), ('known', 596), ('wall', 595), ('green', 594), ('history', 592), ('using', 591), ('rating', 590), ('spring', 589), ('growing', 589), ('book', 588), ('whose', 587), ('operator', 587), ('officially', 587), ('given', 586), ('missing', 585), ('returned', 582), ('recovery', 582), ('practice', 581), ('justice', 581), ('victim', 580), ('he', 580), ('daily', 578), ('rock', 578), ('know', 578), ('democratic', 578), ('survey', 577), ('chris', 573), ('asked', 572), ('declared', 572), ('retail', 571), ('doctor', 571), ('increased', 570), ('agent', 570), ('motor', 568), ('search', 568), ('mortgage', 567), ('middle', 567), ('train', 567), ('fuel', 567), ('communication', 564), ('space', 564), ('single', 563), ('attorney', 562), ('sen', 562), ('storm', 562), ('rival', 560), ('decided', 559), ('palestinian', 559), ('ready', 559), ('starting', 558), ('acquired', 558), ('ever', 558), ('possible', 557), ('troop', 557), ('19', 556), ('eastern', 556), ('administration', 556), ('producer', 556), ('seen', 555), ('dr', 555), ('zealand', 553), ('division', 553), ('mumbai', 552), ('bay', 550), ('beach', 550), ('highway', 549), ('king', 549), ('sri', 547), ('revenue', 547), ('join', 546), ('spending', 546), ('went', 546), ('provide', 546), ('protection', 545), ('worth', 544), ('joined', 544), ('total', 544), ('9', 543), ('met', 543), ('calif', 541), ('hill', 541), ('captain', 540), ('31', 540), ('battle', 540), ('defence', 539), ('reached', 539), ('husband', 538), ('de', 537), ('popular', 536), ('stadium', 536), ('spokesman', 536), ('patient', 535), ('pressure', 535), ('affair', 534), ('turned', 534), ('valley', 534), ('japanese', 533), ('singh', 532), ('debut', 530), ('boost', 530), ('truck', 530), ('analyst', 530), ('index', 529), ('failed', 527), ('olympic', 527), ('violence', 526), ('passed', 526), ('less', 526), ('remain', 526), ('common', 526), ('26', 525), ('benefit', 524), ('appointed', 523), ('leaving', 522), ('asset', 521), ('drive', 521), ('completed', 520), ('struck', 520), ('church', 520), ('suffered', 518), ('23', 518), ('province', 518), ('germany', 518), ('scheduled', 516), ('threat', 516), ('mayor', 514), ('already', 514), ('started', 513), ('joint', 513), ('criminal', 513), ('ban', 512), ('legal', 512), ('crashed', 512), ('peace', 511), ('decade', 511), ('newspaper', 510), ('continues', 509), ('holiday', 509), ('find', 508), ('published', 508), ('defense', 508), ('bankruptcy', 508), ('housing', 506), ('position', 506), ('list', 506), ('sexual', 506), ('arrived', 506), ('dropped', 505), ('turkey', 505), ('gun', 504), ('selling', 504), ('mexico', 504), ('think', 502), ('resource', 502), ('organization', 502), ('main', 502), ('dog', 501), ('radio', 501), ('brother', 501), ('facebook', 500), ('27', 500), ('serious', 499), ('class', 499), ('natural', 498), ('rule', 498), ('track', 498), ('band', 498), ('land', 498), ('festival', 497), ('asia', 497), ('daughter', 497), ('application', 496), ('commercial', 496), ('equity', 495), ('added', 495), ('investigation', 494), ('whether', 494), ('front', 494), ('challenge', 494), ('italian', 494), ('ground', 494), ('posted', 493), ('hand', 493), ('positive', 492), ('aid', 491), ('art', 490), ('large', 490), ('heavy', 490), ('nine', 489), ('light', 489), ('senator', 489), ('warning', 488), ('winning', 486), ('activity', 486), ('web', 486), ('travel', 485), ('period', 484), ('connection', 483), ('iraq', 482), ('model', 482), ('father', 482), ('vice', 482), ('fiscal', 481), ('basketball', 480), ('finally', 480), ('magazine', 479), ('yet', 478), ('poll', 478), ('card', 477), ('village', 477), ('pakistani', 477), ('every', 476), ('focus', 476), ('rep', 476), ('carolina', 474), ('passenger', 474), ('export', 474), ('plane', 474), ('rally', 473), ('might', 472), ('28', 470), ('user', 470), ('straight', 470), ('suspect', 470), ('remains', 469), ('boston', 468), ('process', 468), ('break', 467), ('robbery', 465), ('ceremony', 465), ('jan', 465), ('royal', 465), ('giving', 465), ('retailer', 464), ('researcher', 464), ('paid', 464), ('caused', 464), ('parent', 463), ('anniversary', 462), ('fired', 462), ('view', 462), ('blue', 462), ('mike', 461), ('writer', 461), ('began', 461), ('platform', 460), ('40', 460), ('unveiled', 459), ('channel', 458), ('measure', 458), ('hundred', 457), ('un', 456), ('miss', 456), ('feel', 455), ('broke', 455), ('build', 454), ('disease', 453), ('suicide', 451), ('striker', 450), ('sydney', 450), ('far', 450), ('bring', 449), ('falling', 449), ('treatment', 449), ('lady', 449), ('civil', 448), ('developer', 448), ('digital', 447), ('seeking', 447), ('al', 447), ('came', 447), ('confidence', 445), ('proposed', 445), ('goal', 445), ('expert', 444), ('damage', 444), ('institute', 442), ('fear', 441), ('baseball', 441), ('attempt', 440), ('georgia', 438), ('must', 438), ('playing', 438), ('independent', 438), ('relation', 437), ('stay', 437), ('christmas', 437), ('calling', 436), ('activist', 435), ('device', 435), ('winter', 434), ('previous', 432), ('convicted', 432), ('iranian', 431), ('forced', 431), ('dont', 431), ('tournament', 431), ('never', 430), ('seek', 430), ('super', 430), ('bomb', 430), ('joe', 430), ('turn', 430), ('supreme', 428), ('helped', 428), ('ceo', 428), ('question', 427), ('wind', 427), ('others', 427), ('currency', 427), ('computer', 426), ('range', 426), ('reform', 426), ('armed', 426), ('camp', 425), ('personal', 425), ('together', 425), ('account', 425), ('winner', 425), ('recession', 424), ('suspected', 424), ('jackson', 424), ('youth', 423), ('manufacturer', 422), ('base', 422), ('twitter', 421), ('programme', 419), ('mp', 419), ('review', 418), ('funding', 418), ('tomorrow', 418), ('available', 418), ('midfielder', 417), ('peter', 417), ('feb', 417), ('fashion', 417), ('double', 417), ('inflation', 416), ('toronto', 415), ('sea', 415), ('cause', 415), ('restaurant', 415), ('rising', 415), ('compared', 415), ('ohio', 415), ('ruled', 414), ('date', 414), ('potential', 414), ('assembly', 414), ('massive', 413), ('overnight', 413), ('earnings', 412), ('access', 412), ('science', 411), ('29', 411), ('caught', 410), ('banking', 410), ('estate', 410), ('partnership', 409), ('net', 409), ('marriage', 409), ('minnesota', 408), ('minor', 408), ('form', 408), ('tie', 408), ('effect', 407), ('competition', 407), ('tiger', 407), ('im', 407), ('fraud', 407), ('scientist', 405), ('involved', 405), ('nfl', 405), ('spanish', 405), ('inside', 404), ('smith', 404), ('aug', 404), ('currently', 404), ('representative', 404), ('room', 403), ('bos', 403), ('militant', 403), ('pop', 403), ('moving', 402), ('lawyer', 402), ('moved', 402), ('thing', 402), ('gave', 401), ('concert', 401), ('corporate', 401), ('johnson', 401), ('barrel', 400), ('stake', 400), ('primary', 399), ('urged', 399), ('stand', 398), ('controversial', 398), ('suffering', 398), ('adding', 397), ('drop', 397), ('spain', 397), ('industrial', 397), ('reporter', 397), ('tom', 396), ('bush', 396), ('save', 396), ('improve', 395), ('microsoft', 395), ('khan', 395), ('watch', 395), ('metal', 395), ('houston', 394), ('planned', 394), ('port', 394), ('standard', 394), ('expand', 394), ('crew', 393), ('turkish', 393), ('jet', 393), ('minute', 392), ('afghan', 392), ('ship', 391), ('lot', 391), ('gulf', 389), ('announce', 389), ('though', 388), ('reduce', 388), ('mr', 388), ('citizen', 387), ('earthquake', 387), ('michigan', 387), ('democrat', 387), ('extended', 386), ('worldwide', 386), ('ali', 386), ('limited', 385), ('ordered', 385), ('martin', 385), ('played', 385), ('apartment', 384), ('bridge', 384), ('dec', 384), ('felony', 384), ('average', 384), ('flu', 384), ('rain', 383), ('block', 383), ('marketing', 382), ('resigned', 382), ('value', 382), ('venture', 381), ('professional', 380), ('song', 380), ('gay', 380), ('address', 379), ('entertainment', 379), ('heard', 379), ('window', 379), ('short', 378), ('abuse', 377), ('attacked', 377), ('offered', 376), ('ambassador', 376), ('situation', 376), ('womens', 376), ('living', 376), ('carrier', 375), ('cooperation', 375), ('reporting', 374), ('voted', 374), ('create', 373), ('society', 373), ('cell', 373), ('female', 373), ('forecast', 373), ('williams', 372), ('introduced', 372), ('crude', 371), ('response', 371), ('bar', 371), ('ireland', 370), ('prosecutor', 370), ('appeal', 369), ('foot', 369), ('steve', 368), ('payment', 368), ('jersey', 367), ('syrian', 367), ('charity', 367), ('birth', 366), ('fox', 366), ('pound', 366), ('fifth', 365), ('denied', 365), ('dispute', 365), ('story', 364), ('dubai', 364), ('course', 364), ('operating', 364), ('weapon', 364), ('boat', 363), ('commissioner', 363), ('beginning', 363), ('auto', 362), ('flood', 362), ('beating', 362), ('dealer', 362), ('queen', 362), ('environment', 361), ('discus', 361), ('jury', 361), ('chance', 361), ('scheme', 361), ('nov', 361), ('illegal', 361), ('comment', 361), ('option', 360), ('kansa', 360), ('tried', 359), ('ryan', 359), ('manufacturing', 359), ('fresh', 359), ('chain', 358), ('lawsuit', 358), ('steel', 358), ('teen', 358), ('celebrity', 358), ('belief', 358), ('italy', 358), ('girlfriend', 357), ('hard', 357), ('corruption', 356), ('allow', 356), ('count', 356), ('korean', 356), ('reach', 356), ('andrew', 356), ('downtown', 355), ('firefighter', 355), ('different', 354), ('celebrated', 354), ('prince', 354), ('ending', 353), ('jones', 353), ('poor', 353), ('losing', 352), ('labor', 352), ('arm', 352), ('banned', 352), ('entered', 352), ('saw', 352), ('rebel', 351), ('lawmaker', 351), ('defender', 350), ('split', 350), ('jailed', 350), ('wood', 350), ('500', 350), ('citing', 350), ('became', 349), ('remained', 349), ('animal', 348), ('tony', 348), ('income', 348), ('enough', 348), ('wont', 348), ('singapore', 348), ('liverpool', 347), ('hearing', 347), ('effective', 347), ('soccer', 346), ('mining', 345), ('clash', 345), ('republic', 345), ('quality', 345), ('quarterback', 345), ('acquisition', 344), ('bad', 344), ('photo', 344), ('legend', 344), ('wanted', 344), ('scored', 343), ('oct', 343), ('voter', 342), ('route', 342), ('rest', 342), ('defeat', 342), ('justin', 342), ('louis', 341), ('feature', 341), ('academy', 339), ('present', 339), ('weak', 339), ('involving', 338), ('note', 337), ('vega', 337), ('pilot', 337), ('various', 336), ('highest', 336), ('acquire', 336), ('virginia', 335), ('brought', 335), ('farmer', 335), ('terrorist', 335), ('tree', 335), ('decline', 335), ('equipment', 334), ('kevin', 334), ('fee', 334), ('deficit', 333), ('try', 332), ('towards', 332), ('iowa', 332), ('lee', 332), ('nato', 331), ('buying', 331), ('enterprise', 331), ('saudi', 331), ('muslim', 330), ('lanka', 330), ('becoming', 330), ('60', 330), ('committed', 329), ('fighting', 329), ('mission', 329), ('miami', 329), ('package', 329), ('draft', 328), ('colorado', 328), ('jim', 328), ('clinton', 328), ('shes', 328), ('ongoing', 327), ('cabinet', 327), ('paris', 327), ('bringing', 327), ('cutting', 327), ('birthday', 326), ('subsidiary', 326), ('broken', 326), ('returning', 325), ('scott', 325), ('iphone', 325), ('syria', 324), ('200', 324), ('protect', 323), ('launching', 323), ('beijing', 323), ('pulled', 322), ('aimed', 322), ('arizona', 322), ('leg', 322), ('threatened', 321), ('fort', 321), ('aircraft', 321), ('bollywood', 321), ('farm', 320), ('quarterly', 320), ('hurricane', 320), ('philippine', 319), ('rugby', 319), ('atlanta', 318), ('zone', 318), ('strategic', 318), ('detroit', 318), ('relationship', 318), ('journalist', 317), ('draw', 317), ('trip', 317), ('via', 317), ('trend', 316), ('taiwan', 316), ('strategy', 316), ('seat', 316), ('believe', 316), ('direct', 315), ('shop', 315), ('hockey', 315), ('opportunity', 314), ('separate', 314), ('successful', 314), ('ticket', 314), ('coal', 314), ('spot', 313), ('row', 313), ('signing', 313), ('additional', 313), ('closing', 313), ('2007', 313), ('grant', 312), ('message', 312), ('mountain', 312), ('chelsea', 312), ('unemployment', 312), ('taliban', 311), ('summit', 311), ('doesnt', 311), ('gaza', 311), ('illinois', 310), ('considering', 310), ('shareholder', 309), ('fair', 309), ('journal', 309), ('studio', 309), ('purchase', 309), ('transport', 309), ('version', 309), ('retirement', 308), ('egypt', 308), ('image', 308), ('eu', 307), ('allegation', 307), ('related', 307), ('nba', 307), ('knee', 306), ('wireless', 305), ('causing', 305), ('design', 304), ('apparently', 303), ('impact', 303), ('transfer', 303), ('taylor', 303), ('squad', 302), ('boyfriend', 302), ('memorial', 302), ('mile', 302), ('diego', 302), ('francisco', 302), ('tell', 302), ('wake', 301), ('robbed', 301), ('throughout', 301), ('able', 301), ('avenue', 301), ('english', 301), ('ten', 301), ('brazil', 300), ('advanced', 300), ('solar', 300), ('madrid', 300), ('associated', 300), ('showing', 299), ('developed', 299), ('stabbed', 299), ('paper', 299), ('reality', 298), ('increasing', 298), ('ap', 298), ('reason', 298), ('proposal', 297), ('divorce', 297), ('alex', 297), ('blood', 297), ('gone', 297), ('important', 297), ('expects', 297), ('kashmir', 297), ('celebrate', 296), ('rescue', 295), ('material', 295), ('stolen', 295), ('door', 295), ('content', 295), ('wide', 294), ('adam', 294), ('greece', 294), ('complex', 294), ('headed', 294), ('wedding', 294), ('dozen', 294), ('forest', 293), ('raising', 293), ('mass', 293), ('flat', 293), ('slightly', 293), ('helping', 292), ('labour', 292), ('trust', 292), ('dividend', 291), ('ranger', 291), ('client', 291), ('tim', 290), ('bear', 290), ('elected', 290), ('regular', 289), ('expectation', 289), ('malaysia', 289), ('branch', 289), ('theft', 288), ('severe', 288), ('let', 288), ('township', 288), ('appear', 287), ('debate', 287), ('rape', 287), ('really', 286), ('multiple', 286), ('snow', 286), ('pacific', 286), ('stealing', 285), ('cloud', 285), ('sir', 285), ('irish', 285), ('contest', 285), ('pick', 284), ('perform', 284), ('custody', 284), ('assistant', 284), ('worst', 284), ('kid', 284), ('comedy', 284), ('hong', 284), ('telecom', 283), ('artist', 283), ('designed', 283), ('sentence', 283), ('huge', 283), ('foundation', 283), ('statistic', 282), ('morgan', 282), ('experience', 282), ('tourist', 282), ('nationwide', 282), ('announces', 281), ('location', 281), ('missouri', 280), ('clear', 280), ('healthcare', 280), ('replace', 280), ('didnt', 280), ('providing', 280), ('indiana', 280), ('protester', 279), ('seriously', 279), ('fame', 279), ('elderly', 279), ('dallas', 278), ('commerce', 278), ('ben', 277), ('visited', 277), ('jennifer', 277), ('capacity', 277), ('disaster', 277), ('sept', 277), ('letter', 277), ('arab', 277), ('critical', 276), ('mine', 276), ('alliance', 276), ('teenager', 275), ('avoid', 275), ('previously', 275), ('tribute', 275), ('conduct', 274), ('santa', 274), ('wisconsin', 274), ('christian', 273), ('twin', 273), ('shut', 273), ('kim', 273), ('campus', 272), ('receiver', 272), ('claiming', 272), ('classic', 271), ('check', 271), ('romney', 271), ('majority', 271), ('joining', 271), ('richard', 271), ('greek', 270), ('significant', 270), ('announcement', 270), ('overall', 270), ('engine', 270), ('technical', 270), ('created', 270), ('outlook', 269), ('lender', 269), ('climate', 269), ('patrol', 269), ('van', 269), ('v', 269), ('ruling', 268), ('pregnant', 268), ('edward', 268), ('bob', 268), ('generation', 268), ('environmental', 268), ('fatal', 268), ('philadelphia', 267), ('weekly', 267), ('married', 267), ('brian', 267), ('cover', 266), ('square', 266), ('failure', 266), ('eye', 266), ('seized', 266), ('infrastructure', 266), ('plc', 266), ('tennis', 266), ('delivery', 266), ('electric', 266), ('thought', 266), ('kong', 266), ('chemical', 266), ('leadership', 266), ('hot', 265), ('cruise', 265), ('import', 265), ('discovered', 265), ('struggling', 265), ('consecutive', 265), ('sun', 264), ('kill', 264), ('bail', 264), ('x', 264), ('movement', 264), ('serving', 263), ('thanks', 263), ('hired', 263), ('distribution', 263), ('needed', 263), ('southwest', 263), ('document', 263), ('golf', 263), ('ill', 263), ('navy', 262), ('trader', 262), ('speech', 262), ('picture', 262), ('progress', 261), ('mean', 261), ('receive', 260), ('speculation', 260), ('failing', 260), ('initiative', 260), ('cross', 260), ('appeared', 260), ('azerbaijan', 259), ('andy', 259), ('tourism', 259), ('expansion', 259), ('factor', 259), ('fine', 259), ('scotland', 258), ('scandal', 258), ('airway', 258), ('continuing', 258), ('engaged', 258), ('develop', 258), ('deadly', 257), ('quit', 257), ('brazilian', 257), ('milan', 257), ('refused', 256), ('headquarters', 256), ('rescued', 256), ('medal', 256), ('box', 255), ('helicopter', 255), ('seattle', 255), ('wayne', 255), ('matt', 254), ('spent', 254), ('stated', 254), ('jose', 254), ('developing', 254), ('prevent', 254), ('secret', 254), ('duty', 253), ('ensure', 253), ('founder', 253), ('selected', 253), ('brain', 253), ('amount', 253), ('setting', 253), ('territory', 252), ('islamic', 252), ('historic', 252), ('punjab', 252), ('moscow', 252), ('rural', 252), ('theatre', 252), ('harry', 252), ('matter', 252), ('defensive', 251), ('complete', 251), ('pirate', 251), ('always', 251), ('word', 251), ('libya', 250), ('tackle', 250), ('william', 250), ('crore', 250), ('although', 249), ('placed', 249), ('email', 249), ('32', 249), ('cable', 249), ('treasury', 249), ('shopping', 248), ('supplier', 248), ('master', 248), ('electronics', 248), ('satellite', 248), ('attempted', 248), ('70', 248), ('scene', 247), ('cleveland', 247), ('dc', 247), ('rick', 247), ('pitcher', 247), ('rejected', 246), ('indicted', 246), ('auction', 246), ('saving', 246), ('oscar', 246), ('relief', 246), ('barcelona', 246), ('terror', 246), ('appearance', 246), ('visiting', 246), ('bought', 245), ('advertising', 245), ('tamil', 245), ('embassy', 245), ('electronic', 245), ('forum', 245), ('fast', 245), ('melbourne', 244), ('hospitalized', 244), ('expanded', 244), ('carrying', 244), ('complaint', 244), ('located', 244), ('sending', 244), ('stephen', 244), ('toward', 244), ('voice', 243), ('add', 243), ('ice', 243), ('parliamentary', 243), ('safe', 243), ('closer', 243), ('agriculture', 242), ('bowl', 242), ('kentucky', 242), ('celebration', 242), ('repair', 242), ('conservative', 242), ('panel', 241), ('fact', 241), ('perry', 241), ('receiving', 241), ('bin', 241), ('offensive', 240), ('ii', 240), ('author', 240), ('done', 240), ('interior', 239), ('detained', 239), ('evidence', 239), ('surprise', 239), ('usa', 238), ('destroyed', 238), ('overseas', 238), ('delay', 238), ('engineering', 238), ('improved', 238), ('adult', 237), ('certain', 237), ('individual', 237), ('mitt', 237), ('resume', 237), ('success', 237), ('heat', 237), ('arsenal', 237), ('rupee', 237), ('patent', 236), ('strip', 236), ('bbc', 236), ('metro', 236), ('commodity', 235), ('reuters', 235), ('fined', 235), ('cant', 235), ('aim', 235), ('garden', 235), ('sharply', 235), ('institution', 235), ('speed', 234), ('page', 234), ('bull', 234), ('superstar', 234), ('railway', 234), ('happy', 234), ('pradesh', 234), ('possession', 234), ('instead', 234), ('recovering', 234), ('racing', 233), ('simon', 233), ('mexican', 233), ('file', 233), ('cleared', 232), ('promote', 232), ('longtime', 232), ('chase', 232), ('jason', 232), ('sox', 231), ('schedule', 231), ('vowed', 231), ('update', 231), ('daniel', 231), ('approval', 231), ('marine', 231), ('coalition', 231), ('wale', 231), ('speaker', 230), ('recovered', 230), ('tennessee', 230), ('kelly', 230), ('cast', 230), ('nomination', 230), ('pharmaceutical', 230), ('motorcycle', 230), ('kept', 229), ('fellow', 229), ('mixed', 229), ('newly', 229), ('northwest', 228), ('screen', 228), ('ford', 228), ('tool', 228), ('b', 228), ('serve', 227), ('pace', 227), ('witness', 226), ('indonesia', 226), ('regulator', 226), ('playoff', 226), ('successfully', 226), ('orleans', 226), ('landing', 226), ('electricity', 226), ('politics', 226), ('battery', 226), ('resort', 225), ('idol', 225), ('victoria', 225), ('lack', 225), ('invest', 225), ('sexually', 224), ('swiss', 224), ('rare', 224), ('dutch', 224), ('jr', 224), ('bjp', 224), ('threatening', 224), ('owned', 224), ('bureau', 223), ('awarded', 223), ('begun', 223), ('famous', 223), ('egyptian', 223), ('chapter', 223), ('stone', 223), ('thomas', 223), ('believed', 222), ('ukraine', 222), ('settlement', 222), ('aged', 222), ('allowed', 221), ('gordon', 221), ('identified', 221), ('supporter', 221), ('negotiation', 221), ('honor', 221), ('jack', 221), ('shown', 221), ('rather', 221), ('hosting', 221), ('detail', 221), ('musical', 220), ('denver', 220), ('immigration', 220), ('sanction', 220), ('charles', 220), ('violent', 220), ('attend', 220), ('mccain', 220), ('tokyo', 219), ('35', 219), ('thats', 219), ('80', 218), ('plea', 218), ('existing', 218), ('collapsed', 218), ('collection', 218), ('swine', 218), ('longer', 218), ('horse', 218), ('oklahoma', 218), ('camera', 217), ('breaking', 217), ('civilian', 217), ('disabled', 217), ('expecting', 217), ('bangladesh', 217), ('75', 217), ('1000', 217), ('ed', 216), ('terrorism', 216), ('however', 216), ('fighter', 216), ('olympics', 216), ('prisoner', 215), ('elementary', 215), ('violation', 215), ('grow', 215), ('strength', 215), ('designer', 215), ('stimulus', 215), ('utility', 215), ('app', 215), ('lion', 215), ('alcohol', 214), ('illness', 214), ('wounded', 214), ('burglary', 214), ('sister', 214), ('kate', 214), ('tough', 214), ('spend', 214), ('el', 214), ('organisation', 214), ('prize', 213), ('improvement', 213), ('lindsay', 213), ('eagle', 213), ('ring', 213), ('license', 213), ('welcomed', 213), ('prospect', 212), ('portfolio', 212), ('finish', 212), ('charlie', 212), ('freedom', 212), ('catholic', 212), ('retire', 212), ('massachusetts', 212), ('push', 212), ('conflict', 211), ('advisory', 211), ('ocean', 211), ('greater', 211), ('informed', 211), ('missile', 211), ('ontario', 210), ('produce', 210), ('expanding', 210), ('heading', 210), ('democracy', 210), ('hurt', 210), ('assaulting', 210), ('include', 210), ('yankee', 210), ('presence', 209), ('monetary', 209), ('ad', 209), ('rocket', 209), ('mar', 209), ('promotion', 209), ('admits', 209), ('homicide', 209), ('sixth', 208), ('hero', 208), ('cape', 208), ('filing', 208), ('link', 208), ('sarah', 208), ('stopped', 208), ('tech', 207), ('congressional', 207), ('keeping', 207), ('arena', 207), ('silver', 207), ('true', 207), ('granted', 207), ('marijuana', 207), ('pair', 207), ('rail', 207), ('jay', 207), ('extension', 207), ('southeast', 207), ('scottish', 206), ('anthony', 206), ('drama', 206), ('exercise', 206), ('teenage', 206), ('inning', 206), ('fully', 206), ('cbs', 206), ('dream', 206), ('broadband', 206), ('golden', 206), ('semifinal', 206), ('score', 206), ('approximately', 206), ('jumped', 205), ('highly', 205), ('nifty', 205), ('advance', 205), ('formally', 205), ('rapper', 205), ('factory', 205), ('2014', 205), ('tension', 205), ('abc', 205), ('brad', 205), ('kicked', 205), ('formula', 205), ('missed', 205), ('allen', 204), ('powerful', 204), ('friendly', 204), ('specialist', 204), ('exclusive', 204), ('legendary', 204), ('immediate', 203), ('sought', 203), ('ball', 203), ('pension', 203), ('learned', 203), ('limit', 202), ('culture', 202), ('sa', 202), ('commander', 202), ('gary', 202), ('especially', 201), ('baltimore', 201), ('stroke', 201), ('hamilton', 201), ('penalty', 201), ('talent', 201), ('negative', 201), ('300', 201), ('wild', 201), ('linked', 201), ('reelection', 200), ('apparent', 200), ('45', 200), ('retired', 200), ('library', 200), ('regarding', 200), ('stewart', 199), ('immediately', 199), ('sharp', 199), ('lohan', 199), ('outstanding', 199), ('prix', 199), ('walk', 199), ('basis', 198), ('zimbabwe', 198), ('express', 198), ('patrick', 198), ('pro', 198), ('alabama', 198), ('escaped', 198), ('dating', 198), ('junior', 198), ('celebrating', 198), ('conducted', 198), ('elizabeth', 198), ('presented', 197), ('estimate', 197), ('iraqi', 197), ('iron', 197), ('changed', 197), ('built', 197), ('w', 196), ('recall', 196), ('pain', 196), ('renewed', 196), ('intelligence', 195), ('lewis', 195), ('direction', 195), ('spread', 195), ('entire', 195), ('idea', 195), ('residence', 195), ('initial', 195), ('voting', 195), ('toyota', 195), ('contact', 195), ('qatar', 195), ('palm', 194), ('circuit', 194), ('residential', 194), ('parking', 194), ('enforcement', 194), ('legislation', 194), ('extra', 194), ('creating', 194), ('appears', 194), ('moment', 194), ('―', 194), ('nick', 193), ('putting', 193), ('offender', 193), ('arabia', 193), ('saint', 193), ('religious', 193), ('childrens', 192), ('diplomatic', 192), ('blast', 192), ('beaten', 192), ('speak', 192), ('gaga', 192), ('preparing', 192), ('consider', 192), ('politician', 192), ('libyan', 192), ('volunteer', 192), ('troubled', 192), ('orange', 192), ('inmate', 191), ('90', 191), ('request', 191), ('sabha', 191), ('announcing', 191), ('can', 190), ('suspicion', 190), ('cold', 190), ('regime', 190), ('tampa', 190), ('bailout', 190), ('deliver', 190), ('diamond', 190), ('phoenix', 190), ('mill', 190), ('asking', 190), ('davis', 189), ('pittsburgh', 189), ('secure', 189), ('acting', 189), ('pennsylvania', 189), ('hitting', 189), ('samsung', 189), ('ray', 188), ('traded', 188), ('stronger', 188), ('treated', 188), ('enter', 188), ('mail', 188), ('status', 188), ('lifted', 188), ('dangerous', 187), ('gate', 187), ('explosion', 187), ('sentiment', 187), ('reduced', 187), ('assistance', 187), ('clinic', 186), ('twice', 186), ('bit', 186), ('employer', 186), ('carbon', 186), ('storage', 186), ('frank', 186), ('fc', 186), ('museum', 186), ('toll', 186), ('weight', 186), ('employment', 186), ('kardashian', 186), ('cameron', 185), ('provincial', 185), ('worked', 185), ('monthly', 185), ('tehran', 185), ('queensland', 185), ('buyer', 185), ('affected', 185), ('nelson', 185), ('medicine', 185), ('franchise', 185), ('yen', 185), ('lowest', 185), ('tonne', 184), ('guy', 184), ('oakland', 184), ('lose', 184), ('native', 184), ('cocaine', 184), ('section', 184), ('welcome', 184), ('commitment', 184), ('item', 184), ('often', 184), ('degree', 184), ('hillary', 184), ('networking', 183), ('actually', 183), ('eric', 183), ('choice', 183), ('neighborhood', 183), ('pas', 183), ('liberal', 183), ('expressed', 183), ('sony', 183), ('send', 183), ('emerging', 183), ('yahoo', 183), ('wrong', 183), ('ghana', 183), ('kennedy', 183), ('tested', 183), ('400', 183), ('llc', 182), ('buffalo', 182), ('recorded', 182), ('suggested', 182), ('hosted', 182), ('aviation', 182), ('declined', 182), ('bengal', 181), ('dedicated', 181), ('approach', 181), ('collision', 181), ('finished', 181), ('recalled', 181), ('russell', 181), ('laid', 181), ('athlete', 180), ('lane', 180), ('healthy', 180), ('includes', 180), ('provides', 180), ('floor', 180), ('adviser', 179), ('lending', 179), ('shoulder', 179), ('combat', 179), ('testing', 179), ('professor', 179), ('luxury', 179), ('provided', 179), ('crowd', 179), ('64', 179), ('counterpart', 179), ('cancelled', 179), ('milwaukee', 179), ('notice', 179), ('century', 179), ('e', 179), ('sky', 179), ('language', 178), ('considered', 178), ('not', 178), ('jordan', 178), ('investigator', 178), ('transportation', 178), ('oregon', 178), ('roger', 178), ('clean', 178), ('sam', 178), ('hell', 178), ('warrant', 178), ('deadline', 177), ('northeast', 177), ('pool', 177), ('vietnam', 177), ('male', 177), ('noon', 177), ('raid', 177), ('eurozone', 176), ('connecticut', 176), ('independence', 176), ('worry', 176), ('benchmark', 176), ('turning', 176), ('feeling', 176), ('breast', 176), ('killer', 176), ('tablet', 176), ('wave', 176), ('jessica', 176), ('earth', 176), ('sound', 175), ('article', 175), ('active', 175), ('alternative', 175), ('gang', 175), ('convention', 174), ('extend', 174), ('federation', 174), ('busy', 174), ('defeated', 174), ('c', 174), ('cole', 174), ('mall', 174), ('jon', 174), ('wing', 174), ('awareness', 174), ('austin', 174), ('hoping', 174), ('tata', 173), ('abu', 173), ('rapid', 173), ('edition', 173), ('swedish', 173), ('fargo', 173), ('tropical', 173), ('regulation', 173), ('featuring', 172), ('undisclosed', 172), ('ny', 172), ('exhibition', 172), ('pope', 172), ('drink', 172), ('nigeria', 172), ('strengthen', 172), ('kumar', 172), ('machine', 172), ('performing', 172), ('discovery', 172), ('cardinal', 171), ('kind', 171), ('population', 171), ('estimated', 171), ('episode', 171), ('read', 171), ('restructuring', 171), ('dance', 171), ('publisher', 170), ('transaction', 170), ('preliminary', 170), ('assaulted', 170), ('resolution', 170), ('ran', 170), ('audience', 170), ('display', 170), ('sprint', 170), ('struggle', 170), ('finding', 170), ('kick', 170), ('forthcoming', 170), ('style', 170), ('managed', 170), ('felt', 170), ('utah', 169), ('n', 169), ('android', 169), ('casino', 169), ('anna', 169), ('false', 169), ('defended', 169), ('mary', 168), ('shortage', 168), ('slowdown', 168), ('flag', 168), ('vancouver', 168), ('performed', 168), ('rio', 168), ('alert', 168), ('shortly', 168), ('broadcast', 167), ('removed', 167), ('seems', 167), ('fallen', 167), ('63', 167), ('similar', 167), ('something', 167), ('nsw', 167), ('described', 167), ('lineup', 166), ('cuba', 166), ('drowned', 166), ('sued', 166), ('character', 166), ('venezuela', 166), ('ag', 166), ('usd', 166), ('resistance', 166), ('output', 166), ('moore', 165), ('malaysian', 165), ('rich', 165), ('boxing', 165), ('virus', 165), ('smart', 165), ('wilson', 165), ('homeless', 165), ('mac', 165), ('discussion', 165), ('managing', 165), ('ankle', 164), ('premiere', 164), ('rebound', 164), ('jerry', 164), ('fish', 164), ('rehab', 164), ('financing', 164), ('bilateral', 164), ('globe', 164), ('faced', 164), ('newcastle', 164), ('stable', 164), ('emerged', 164), ('infection', 163), ('secured', 163), ('deep', 163), ('miller', 163), ('pc', 163), ('kyrgyzstan', 163), ('atlantic', 163), ('salary', 163), ('guest', 163), ('lebanon', 163), ('birmingham', 163), ('madison', 163), ('j', 163), ('engineer', 162), ('probation', 162), ('invited', 162), ('tight', 162), ('kingdom', 162), ('65', 162), ('table', 162), ('undergo', 162), ('allowing', 162), ('indie', 162), ('hike', 162), ('carlos', 162), ('phil', 162), ('angel', 161), ('alive', 161), ('nokia', 161), ('carry', 161), ('happened', 161), ('wildlife', 161), ('insists', 161), ('follow', 161), ('pipeline', 161), ('dakota', 161), ('personnel', 160), ('argentina', 160), ('shore', 160), ('difference', 160), ('funeral', 160), ('tornado', 160), ('opener', 160), ('responsible', 160), ('reading', 160), ('delegation', 160), ('gained', 160), ('62', 160), ('longterm', 160), ('integrated', 160), ('delivered', 160), ('offshore', 160), ('scam', 160), ('searching', 160), ('gift', 160), ('die', 159), ('amy', 159), ('creek', 159), ('columbia', 159), ('orlando', 159), ('fishing', 159), ('occurred', 159), ('adopted', 159), ('eve', 159), ('onto', 159), ('jammu', 159), ('confident', 159), ('jewish', 159), ('tied', 159), ('economist', 158), ('manmohan', 158), ('mississippi', 158), ('diplomat', 158), ('stole', 158), ('picked', 158), ('wage', 158), ('celtic', 158), ('promise', 158), ('criticism', 158), ('alaska', 158), ('canceled', 158), ('michelle', 158), ('engagement', 157), ('paying', 157), ('chip', 157), ('phase', 157), ('born', 157), ('ukrainian', 157), ('targeting', 157), ('dancing', 157), ('p', 157), ('trouble', 156), ('stabbing', 156), ('fleet', 156), ('accepted', 156), ('columbus', 156), ('carried', 156), ('bag', 156), ('suggests', 156), ('nominee', 156), ('beyond', 156), ('gunman', 156), ('increasingly', 156), ('landed', 156), ('minority', 156), ('ton', 156), ('there', 156), ('heavyweight', 156), ('traditional', 155), ('lord', 155), ('ipad', 155), ('remaining', 155), ('influence', 155), ('produced', 155), ('responsibility', 155), ('afp', 155), ('bieber', 155), ('33', 154), ('cargo', 154), ('2006', 154), ('delayed', 154), ('prior', 154), ('registered', 154), ('czech', 154), ('sure', 154), ('internal', 154), ('fit', 154), ('henry', 154), ('chamber', 154), ('diagnosed', 154), ('modern', 154), ('prominent', 154), ('demanded', 154), ('palin', 154), ('copper', 154), ('stanley', 153), ('reaching', 153), ('uae', 153), ('gandhi', 153), ('antonio', 153), ('temporary', 153), ('businessman', 153), ('waste', 153), ('honored', 152), ('yemen', 152), ('shanghai', 152), ('steven', 152), ('whole', 152), ('defending', 152), ('category', 152), ('difficult', 152), ('somali', 152), ('duo', 152), ('600', 152), ('probe', 152), ('upper', 152), ('volume', 152), ('campbell', 152), ('appointment', 151), ('41', 151), ('regulatory', 151), ('refugee', 151), ('trophy', 151), ('matthew', 151), ('improving', 151), ('beckham', 151), ('variety', 151), ('mostly', 151), ('upon', 151), ('teammate', 151), ('drinking', 151), ('undergoing', 151), ('principal', 151), ('waiting', 151), ('interstate', 150), ('mount', 150), ('resign', 150), ('earned', 150), ('visa', 150), ('murray', 150), ('decide', 150), ('jeff', 150), ('remove', 150), ('conviction', 150), ('expect', 150), ('twoyear', 150), ('downturn', 150), ('remark', 150), ('nashville', 150), ('simpson', 150), ('asif', 150), ('bulgaria', 150), ('touch', 150), ('threw', 150), ('probably', 150), ('cap', 150), ('icon', 150), ('broadway', 149), ('custom', 149), ('physical', 149), ('everything', 149), ('dan', 149), ('pitch', 149), ('blog', 149), ('rallied', 149), ('quickly', 149), ('congressman', 149), ('katie', 149), ('serbia', 149), ('islamabad', 149), ('crossing', 149), ('150', 149), ('visitor', 149), ('quarterfinal', 149), ('bulgarian', 149), ('speaking', 149), ('slow', 148), ('temperature', 148), ('roll', 148), ('reduction', 148), ('myanmar', 148), ('smartphone', 148), ('ron', 148), ('endorsed', 148), ('focused', 148), ('maryland', 148), ('drunk', 148), ('dialogue', 148), ('ncaa', 148), ('fisherman', 147), ('spotted', 147), ('backed', 147), ('standing', 147), ('promised', 147), ('emirate', 147), ('weaker', 147), ('written', 147), ('nothing', 147), ('targeted', 147), ('howard', 147), ('identity', 147), ('42', 147), ('telecommunication', 147), ('deposit', 147), ('burn', 147), ('merger', 147), ('dismissed', 146), ('insisted', 146), ('familiar', 146), ('contractor', 146), ('edged', 146), ('advantage', 146), ('sparked', 146), ('billionaire', 146), ('switzerland', 146), ('zardari', 146), ('type', 146), ('flooding', 146), ('shoot', 146), ('grew', 145), ('rumor', 145), ('bombing', 145), ('wait', 145), ('automaker', 145), ('balance', 145), ('coverage', 145), ('crown', 145), ('resumed', 145), ('rider', 145), ('gop', 145), ('smoke', 145), ('kazakhstan', 145), ('kolkata', 145), ('comprehensive', 145), ('bird', 144), ('jimmy', 144), ('assist', 144), ('armenian', 144), ('josh', 144), ('label', 144), ('alan', 144), ('answer', 144), ('listed', 144), ('shah', 144), ('requirement', 144), ('legislative', 144), ('cat', 144), ('leaf', 144), ('ally', 144), ('recover', 144), ('pedestrian', 144), ('miner', 143), ('rookie', 143), ('drew', 143), ('galaxy', 143), ('att', 143), ('maintain', 143), ('cultural', 143), ('nevada', 143), ('roster', 143), ('postponed', 142), ('core', 142), ('azerbaijani', 142), ('theater', 142), ('mutual', 142), ('isnt', 142), ('battling', 142), ('favourite', 142), ('cincinnati', 142), ('sean', 142), ('everyone', 142), ('spear', 141), ('task', 141), ('praised', 141), ('thailand', 141), ('pet', 141), ('harris', 141), ('hire', 141), ('robin', 141), ('maintenance', 141), ('vessel', 141), ('settle', 141), ('broker', 141), ('size', 141), ('patriot', 141), ('pledged', 141), ('penn', 141), ('interim', 141), ('louisiana', 141), ('expense', 141), ('nhl', 141), ('possibility', 141), ('arkansas', 140), ('flying', 140), ('portland', 140), ('tottenham', 140), ('halt', 140), ('disney', 140), ('scientific', 140), ('marking', 140), ('compensation', 140), ('perfect', 140), ('spokeswoman', 140), ('spokesperson', 140), ('mental', 140), ('coordinator', 140), ('charlotte', 140), ('publicly', 140), ('palace', 140), ('nominated', 139), ('supporting', 139), ('comedian', 139), ('pushed', 139), ('pull', 139), ('joseph', 139), ('original', 139), ('rihanna', 139), ('76', 139), ('condemned', 139), ('nbc', 139), ('raza', 139), ('proud', 139), ('lift', 139), ('oneyear', 139), ('recording', 139), ('manslaughter', 138), ('municipal', 138), ('automotive', 138), ('sudan', 138), ('swimming', 138), ('preseason', 138), ('naval', 138), ('ease', 138), ('chennai', 138), ('fitness', 138), ('warren', 138), ('withdrawn', 138), ('sep', 138), ('constitution', 138), ('household', 138), ('learning', 138), ('structure', 138), ('rice', 138), ('pub', 138), ('invasion', 137), ('violating', 137), ('height', 137), ('required', 137), ('innovative', 137), ('quoted', 137), ('derby', 137), ('closure', 137), ('caribbean', 137), ('fixed', 137), ('reopened', 137), ('bell', 137), ('marked', 137), ('temporarily', 137), ('dublin', 136), ('musician', 136), ('learn', 136), ('underwent', 136), ('anything', 136), ('served', 136), ('coffee', 136), ('pornography', 136), ('permanent', 136), ('2000', 136), ('dinner', 136), ('petroleum', 136), ('wish', 136), ('athletic', 136), ('normal', 136), ('memory', 135), ('spill', 135), ('tank', 135), ('tender', 135), ('analysis', 135), ('quite', 135), ('inquiry', 135), ('urban', 135), ('downgraded', 135), ('jacob', 135), ('villa', 135), ('sweden', 135), ('comeback', 135), ('included', 135), ('walked', 134), ('steady', 134), ('blamed', 134), ('fatally', 134), ('suing', 134), ('indonesian', 134), ('34', 134), ('intends', 134), ('extending', 134), ('compete', 134), ('franklin', 134), ('hamas', 134), ('lok', 134), ('ride', 134), ('sustained', 134), ('nicolas', 134), ('misdemeanor', 134), ('85', 134), ('imposed', 134), ('ask', 133), ('anderson', 133), ('outfielder', 133), ('motion', 133), ('till', 133), ('61', 133), ('whats', 133), ('boosted', 133), ('del', 133), ('controversy', 133), ('formed', 133), ('guide', 133), ('gilani', 133), ('pti', 133), ('dramatic', 133), ('berlin', 133), ('respect', 132), ('dhabi', 132), ('skill', 132), ('innovation', 132), ('opponent', 132), ('processing', 132), ('tower', 132), ('trail', 132), ('code', 132), ('knowledge', 132), ('favorite', 132), ('bahrain', 132), ('10000', 132), ('competitive', 132), ('10th', 132), ('god', 132), ('bp', 132), ('seventh', 132), ('goldman', 132), ('directed', 132), ('piece', 132), ('monitor', 132), ('mahmoud', 131), ('legislature', 131), ('shark', 131), ('lankan', 131), ('weakened', 131), ('cnn', 131), ('indianapolis', 131), ('slipped', 131), ('potentially', 131), ('contribution', 131), ('stepped', 131), ('recalling', 131), ('signal', 131), ('yard', 131), ('hudson', 131), ('unique', 130), ('suspension', 130), ('cuban', 130), ('ash', 130), ('releasing', 130), ('supermarket', 130), ('terry', 130), ('gaming', 130), ('spirit', 130), ('premium', 130), ('prescription', 130), ('donation', 130), ('passing', 130), ('sheen', 130), ('mind', 130), ('bone', 130), ('plastic', 130), ('rank', 130), ('pleased', 130), ('motorist', 129), ('reveals', 129), ('damaged', 129), ('pattinson', 129), ('blow', 129), ('entry', 129), ('captured', 129), ('registration', 129), ('addition', 129), ('barbara', 129), ('superior', 129), ('outlet', 129), ('marathon', 129), ('advisor', 129), ('forcing', 129), ('strongly', 129), ('upset', 129), ('handed', 129), ('transit', 129), ('prepared', 129), ('rushed', 129), ('plus', 129), ('sugar', 128), ('possibly', 128), ('maoist', 128), ('critic', 128), ('determined', 128), ('36', 128), ('warrior', 128), ('easy', 128), ('sacramento', 128), ('resignation', 128), ('theyre', 128), ('brief', 128), ('dealing', 128), ('suspicious', 128), ('betting', 128), ('roy', 128), ('ufc', 128), ('madonna', 127), ('urging', 127), ('nebraska', 127), ('evacuated', 127), ('destination', 127), ('drove', 127), ('someone', 127), ('auckland', 127), ('exploration', 127), ('doubt', 127), ('communist', 127), ('hedge', 127), ('tea', 127), ('established', 127), ('uncertainty', 127), ('700', 127), ('outfit', 127), ('angelina', 127), ('wikileaks', 127), ('ballot', 127), ('maria', 127), ('drunken', 126), ('clark', 126), ('suit', 126), ('5000', 126), ('talking', 126), ('string', 126), ('ferguson', 126), ('spoke', 126), ('cooper', 126), ('youtube', 126), ('injuring', 126), ('thief', 126), ('either', 126), ('cited', 126), ('pole', 126), ('demanding', 126), ('insurer', 126), ('perth', 126), ('entering', 125), ('britney', 125), ('slammed', 125), ('kenya', 125), ('upgrade', 125), ('exit', 125), ('neil', 125), ('editor', 125), ('tribal', 125), ('wrote', 125), ('participate', 125), ('alongside', 125), ('takeover', 125), ('affiliate', 125), ('fla', 125), ('linebacker', 125), ('gap', 125), ('craig', 125), ('cowboy', 125), ('ive', 125), ('hiring', 125), ('starring', 125), ('encounter', 124), ('trafficking', 124), ('taxi', 124), ('significantly', 124), ('100000', 124), ('sensex', 124), ('netherlands', 124), ('grade', 124), ('filmmaker', 124), ('dow', 124), ('immigrant', 124), ('jump', 124), ('dropping', 124), ('rome', 124), ('gujarat', 124), ('followed', 124), ('preparation', 124), ('alone', 124), ('workforce', 124), ('milestone', 124), ('anyone', 124), ('sachs', 124), ('walking', 124), ('katy', 124), ('obamas', 124), ('magistrate', 124), ('ability', 124), ('argument', 123), ('prepare', 123), ('crackdown', 123), ('rolling', 123), ('affect', 123), ('honour', 123), ('corner', 123), ('goalkeeper', 123), ('hunter', 123), ('zoo', 123), ('raping', 123), ('lincoln', 123), ('ottawa', 123), ('associate', 123), ('settled', 123), ('escape', 123), ('rob', 123), ('xinhua', 123), ('rolled', 123), ('introduce', 122), ('beauty', 122), ('collaboration', 122), ('abroad', 122), ('fastest', 122), ('nigerian', 122), ('nepal', 122), ('walker', 122), ('pat', 122), ('hawaii', 122), ('dick', 122), ('knife', 122), ('wearing', 122), ('alexander', 122), ('upgraded', 122), ('concluded', 122), ('bruce', 122), ('aide', 122), ('blackberry', 122), ('kidnapped', 122), ('pushing', 122), ('judicial', 122), ('pitt', 122), ('scale', 121), ('illegally', 121), ('graduate', 121), ('montreal', 121), ('attended', 121), ('charter', 121), ('dark', 121), ('restore', 121), ('diabetes', 121), ('donated', 121), ('jolie', 121), ('lakh', 121), ('treat', 121), ('delaware', 120), ('fake', 120), ('foreclosure', 120), ('streak', 120), ('northwestern', 120), ('barry', 120), ('knocked', 120), ('andre', 120), ('knight', 120), ('fifa', 120), ('terminal', 120), ('nasa', 120), ('attention', 120), ('grove', 120), ('pending', 119), ('johannesburg', 119), ('barclays', 119), ('opinion', 119), ('stepping', 119), ('latin', 119), ('lawrence', 119), ('agricultural', 119), ('burning', 119), ('hear', 119), ('warner', 119), ('72', 119), ('cheryl', 119), ('stability', 119), ('fare', 119), ('rafael', 119), ('enhance', 119), ('twenty20', 119), ('retiring', 119), ('trillion', 119), ('fiji', 119), ('winger', 118), ('particularly', 118), ('creative', 118), ('cinema', 118), ('supported', 118), ('eased', 118), ('shed', 118), ('cub', 118), ('37', 118), ('offence', 118), ('newest', 118), ('maine', 118), ('reveal', 118), ('hugo', 118), ('suburb', 118), ('greg', 118), ('monitoring', 118), ('nc', 118), ('staterun', 118), ('wholesale', 118), ('bomber', 118), ('ac', 118), ('48', 117), ('carter', 117), ('commonwealth', 117), ('shipping', 117), ('assigned', 117), ('colleague', 117), ('hole', 117), ('ram', 117), ('51', 117), ('mukherjee', 117), ('armenia', 117), ('register', 117), ('defend', 117), ('murdering', 117), ('attending', 117), ('priority', 117), ('nh', 117), ('older', 117), ('hampshire', 117), ('chancellor', 117), ('crucial', 117), ('temple', 117), ('bihar', 117), ('holder', 117), ('reliance', 117), ('hub', 117), ('neck', 116), ('awardwinning', 116), ('minimum', 116), ('chart', 116), ('demonstration', 116), ('tracking', 116), ('dolphin', 116), ('danger', 116), ('subject', 116), ('fiveyear', 116), ('unexpectedly', 116), ('flame', 116), ('rumour', 116), ('bangalore', 116), ('swift', 116), ('ricky', 116), ('us', 116), ('ranking', 116), ('wear', 116), ('bobby', 116), ('neighbor', 116), ('rental', 116), ('petrol', 115), ('murdered', 115), ('changing', 115), ('800', 115), ('dodger', 115), ('demi', 115), ('photographer', 115), ('georgian', 115), ('qualifier', 115), ('hip', 115), ('interested', 115), ('kidnapping', 115), ('plunged', 115), ('revised', 115), ('montana', 115), ('bigger', 115), ('twoday', 115), ('roman', 115), ('hopeful', 115), ('stress', 115), ('resolve', 115), ('syed', 115), ('larry', 115), ('rush', 115), ('telling', 115), ('rocker', 115), ('promoting', 115), ('accusing', 115), ('emission', 115), ('shoe', 114), ('attacking', 114), ('vladimir', 114), ('danny', 114), ('wine', 114), ('baseman', 114), ('bradley', 114), ('johnny', 114), ('belarus', 114), ('academic', 114), ('chavez', 114), ('collapse', 114), ('bike', 114), ('explosive', 114), ('apologized', 114), ('accept', 114), ('nascar', 114), ('driven', 114), ('carl', 114), ('20yearold', 114), ('diesel', 113), ('kristen', 113), ('brisbane', 113), ('topped', 113), ('novel', 113), ('marry', 113), ('lakers', 113), ('reducing', 113), ('path', 113), ('smoking', 113), ('21yearold', 113), ('duke', 113), ('nurse', 113), ('disappointing', 113), ('46', 113), ('baghdad', 113), ('discussed', 113), ('permit', 113), ('edge', 113), ('thai', 113), ('basic', 113), ('virgin', 113), ('sunderland', 113), ('selection', 113), ('rb', 113), ('threeday', 113), ('humanitarian', 113), ('salman', 112), ('peak', 112), ('seeing', 112), ('abdullah', 112), ('kerala', 112), ('heritage', 112), ('nightclub', 112), ('bed', 112), ('procedure', 112), ('jazz', 112), ('landmark', 112), ('dave', 112), ('wolf', 112), ('riot', 112), ('unknown', 112), ('bristol', 112), ('rand', 111), ('relative', 111), ('welfare', 111), ('replaced', 111), ('liberty', 111), ('drought', 111), ('iconic', 111), ('restriction', 111), ('coaching', 111), ('conspiracy', 111), ('fa', 111), ('sworn', 111), ('writes', 111), ('poland', 111), ('reader', 111), ('midnight', 111), ('swept', 111), ('dry', 111), ('maharashtra', 111), ('jamie', 111), ('wealth', 111), ('opera', 111), ('skipper', 111), ('posting', 111), ('anticipated', 111), ('restored', 111), ('distributor', 111), ('suggesting', 111), ('250', 111), ('parish', 111), ('acre', 111), ('3d', 111), ('oneday', 110), ('roof', 110), ('pickup', 110), ('jacksonville', 110), ('crop', 110), ('capitol', 110), ('qualifying', 110), ('revolution', 110), ('refinery', 110), ('benedict', 110), ('tsunami', 110), ('prove', 110), ('parade', 110), ('boeing', 110), ('saved', 110), ('accidentally', 110), ('lay', 110), ('sponsor', 110), ('bat', 110), ('brave', 110), ('broadcaster', 110), ('colombian', 110), ('promoted', 110), ('consulting', 109), ('era', 109), ('skin', 109), ('vendor', 109), ('armstrong', 109), ('presidency', 109), ('memphis', 109), ('biden', 109), ('advice', 109), ('amendment', 109), ('44', 109), ('surge', 109), ('fbi', 109), ('ace', 109), ('margin', 109), ('walmart', 109), ('surrounding', 109), ('yield', 109), ('wound', 108), ('gaddafi', 108), ('toddler', 108), ('attempting', 108), ('43', 108), ('billy', 108), ('interactive', 108), ('bloomberg', 108), ('allstar', 108), ('crack', 108), ('lebanese', 108), ('completely', 108), ('cook', 108), ('freed', 108), ('seed', 108), ('chrysler', 108), ('throwing', 108), ('idaho', 108), ('neighbour', 108), ('text', 108), ('waiver', 108), ('quick', 108), ('mtv', 108), ('chest', 108), ('detective', 108), ('parker', 108), ('fed', 107), ('quoting', 107), ('mistake', 107), ('collided', 107), ('manage', 107), ('dmitry', 107), ('shelter', 107), ('medvedev', 107), ('le', 107), ('karnataka', 107), ('38', 107), ('streaming', 107), ('leak', 107), ('ibm', 107), ('shock', 107), ('espn', 107), ('55', 107), ('louisville', 107), ('predicted', 106), ('southeastern', 106), ('hailed', 106), ('viking', 106), ('chosen', 106), ('allows', 106), ('catch', 106), ('bishop', 106), ('watching', 106), ('2015', 106), ('nicole', 106), ('datuk', 106), ('envoy', 106), ('petition', 106), ('exporter', 106), ('involvement', 106), ('shift', 106), ('virtual', 106), ('softball', 106), ('intel', 106), ('wellington', 106), ('viewer', 106), ('solo', 106), ('coroner', 105), ('raw', 105), ('malik', 105), ('discount', 105), ('raider', 105), ('911', 105), ('lance', 105), ('greatest', 105), ('unless', 105), ('drilling', 105), ('stream', 105), ('hilton', 105), ('looked', 105), ('tip', 105), ('juan', 105), ('titan', 105), ('adelaide', 105), ('2005', 105), ('efficiency', 105), ('53', 105), ('unidentified', 105), ('rochester', 105), ('apa', 105), ('delta', 105), ('lopez', 105), ('aston', 105), ('offset', 105), ('apologised', 105), ('policeman', 105), ('grocery', 104), ('finger', 104), ('fail', 104), ('marshall', 104), ('vision', 104), ('banker', 104), ('abortion', 104), ('vaccine', 104), ('colombia', 104), ('82', 104), ('cyrus', 104), ('costar', 104), ('karachi', 104), ('ian', 104), ('threeyear', 104), ('homeowner', 104), ('affordable', 104), ('owen', 104), ('burned', 104), ('integration', 104), ('jonathan', 104), ('uttar', 104), ('ranked', 104), ('cowell', 104), ('shared', 104), ('clothing', 103), ('depression', 103), ('hostage', 103), ('magic', 103), ('tyler', 103), ('headline', 103), ('climbed', 103), ('hair', 103), ('cyclist', 103), ('gunpoint', 103), ('necessary', 103), ('vatican', 103), ('11th', 103), ('mandela', 103), ('definitive', 103), ('1st', 103), ('cairo', 103), ('unable', 103), ('critically', 103), ('directly', 103), ('absence', 103), ('disclosed', 103), ('trainer', 103), ('renewable', 102), ('winehouse', 102), ('fewer', 102), ('remote', 102), ('survived', 102), ('licence', 102), ('24yearold', 102), ('pranab', 102), ('riding', 102), ('angry', 102), ('administrator', 102), ('establish', 102), ('exploded', 102), ('venezuelan', 102), ('fun', 102), ('muhammad', 102), ('faster', 102), ('honda', 102), ('tanker', 102), ('moon', 102), ('occasion', 102), ('brandon', 102), ('writing', 102), ('slump', 102), ('youre', 101), ('external', 101), ('staged', 101), ('guarantee', 101), ('ore', 101), ('pleading', 101), ('advocate', 101), ('neutral', 101), ('computing', 101), ('gathered', 101), ('broadcasting', 101), ('firing', 101), ('map', 101), ('lung', 101), ('default', 101), ('robber', 101), ('athens', 101), ('afl', 101), ('kidney', 101), ('titled', 101), ('bachchan', 101), ('determine', 101), ('disputed', 101), ('shane', 101), ('costa', 101), ('detention', 101), ('lama', 101), ('manhattan', 101), ('broad', 100), ('prayer', 100), ('achievement', 100), ('batsman', 100), ('watson', 100), ('method', 100), ('54', 100), ('prevention', 100), ('triple', 100), ('thompson', 100), ('munich', 100), ('solid', 100), ('pervez', 100), ('miley', 100), ('brett', 100), ('component', 100), ('widespread', 100), ('trapped', 100), ('arson', 100), ('jefferson', 100), ('52', 100), ('haiti', 100), ('watchdog', 100), ('outdoor', 100), ('ninth', 100), ('hunt', 100), ('defenseman', 100), ('blame', 100), ('universal', 99), ('graham', 99), ('comic', 99), ('putin', 99), ('easing', 99), ('lloyd', 99), ('bottom', 99), ('douglas', 99), ('shell', 99), ('julia', 99), ('reid', 99), ('aaron', 99), ('capability', 99), ('switch', 99), ('secondary', 99), ('sterling', 99), ('raped', 99), ('numerous', 99), ('drawing', 99), ('slowing', 99), ('glass', 99), ('eighth', 99), ('assignment', 99), ('holmes', 99), ('tibetan', 99), ('thrown', 98), ('sustainable', 98), ('keith', 98), ('function', 98), ('nearby', 98), ('command', 98), ('arrival', 98), ('fly', 98), ('shuttle', 98), ('smartphones', 98), ('tmz', 98), ('retained', 98), ('jerusalem', 98), ('occupied', 98), ('beverly', 98), ('casey', 98), ('liam', 98), ('suburban', 98), ('pump', 98), ('gene', 98), ('iii', 98), ('verizon', 98), ('creation', 97), ('bonus', 97), ('drone', 97), ('dean', 97), ('yemeni', 97), ('maritime', 97), ('sovereign', 97), ('kerry', 97), ('67', 97), ('cyprus', 97), ('bowler', 97), ('indicated', 97), ('flash', 97), ('coastal', 97), ('applied', 97), ('hate', 97), ('rover', 97), ('borrowing', 97), ('substance', 97), ('bashar', 97), ('conservation', 97), ('inventory', 97), ('roberto', 97), ('membership', 97), ('inter', 97), ('harper', 97), ('fled', 97), ('deutsche', 97), ('jeremy', 97), ('walter', 97), ('sitting', 97), ('sporting', 96), ('aggravated', 96), ('2004', 96), ('holy', 96), ('pose', 96), ('covering', 96), ('unchanged', 96), ('minneapolis', 96), ('tribune', 96), ('flow', 96), ('plot', 96), ('ross', 96), ('worse', 96), ('bc', 96), ('todd', 96), ('suite', 96), ('specialty', 96), ('3000', 96), ('ownership', 96), ('musharraf', 96), ('standoff', 96), ('jobless', 96), ('responded', 96), ('implement', 96), ('surged', 96), ('advised', 96), ('prompting', 96), ('nadu', 96), ('collins', 96), ('gross', 96), ('brewer', 96), ('outbreak', 96), ('dalai', 96), ('120', 96), ('unanimously', 96), ('ken', 95), ('cliff', 95), ('amazon', 95), ('nonprofit', 95), ('unlikely', 95), ('concerned', 95), ('momentum', 95), ('polish', 95), ('ist', 95), ('accepting', 95), ('julian', 95), ('trailer', 95), ('lifetime', 95), ('replacement', 95), ('hunting', 95), ('lightning', 95), ('constitutional', 95), ('serbian', 95), ('fundraising', 95), ('workshop', 95), ('kuwait', 95), ('hughes', 95), ('fitch', 95), ('athletics', 95), ('chile', 95), ('abdul', 95), ('crystal', 95), ('serial', 95), ('hunger', 95), ('hp', 94), ('kenny', 94), ('rogers', 94), ('keen', 94), ('spur', 94), ('dairy', 94), ('milk', 94), ('consumption', 94), ('sleep', 94), ('mets', 94), ('everton', 94), ('blaze', 94), ('wire', 94), ('celebrates', 94), ('watched', 94), ('largely', 94), ('poised', 94), ('mitchell', 94), ('oak', 94), ('aggressive', 94), ('vital', 94), ('enable', 94), ('admitting', 94), ('achieve', 94), ('select', 94), ('maximum', 94), ('spy', 94), ('fisher', 94), ('underway', 94), ('councillor', 94), ('trooper', 94), ('administrative', 94), ('arnold', 94), ('recognition', 94), ('hanging', 94), ('producing', 94), ('insider', 93), ('optimism', 93), ('20th', 93), ('reward', 93), ('reopen', 93), ('disorder', 93), ('pioneer', 93), ('pharmacy', 93), ('server', 93), ('seoul', 93), ('weakness', 93), ('brussels', 93), ('documentary', 93), ('overhaul', 93), ('grain', 93), ('intersection', 93), ('triggered', 93), ('frontman', 93), ('briefly', 93), ('anc', 93), ('estranged', 93), ('inspector', 93), ('challenger', 93), ('66', 93), ('representing', 93), ('wasnt', 93), ('achieved', 93), ('kent', 93), ('montgomery', 93), ('sarkozy', 93), ('publication', 93), ('nobel', 93), ('righthander', 93), ('aniston', 92), ('bullet', 92), ('flagship', 92), ('moderate', 92), ('stranded', 92), ('entitled', 92), ('prestigious', 92), ('segment', 92), ('telephone', 92), ('organized', 92), ('salt', 92), ('promising', 92), ('electrical', 92), ('apr', 92), ('scoring', 92), ('mt', 92), ('insisting', 92), ('abandoned', 92), ('unrest', 92), ('challenging', 92), ('crashing', 92), ('sensation', 92), ('hamid', 92), ('clinical', 92), ('voluntary', 92), ('slashed', 92), ('900', 92), ('cycling', 92), ('skip', 92), ('strengthened', 92), ('19yearold', 92), ('ted', 92), ('sharing', 92), ('chidambaram', 92), ('mohammed', 92), ('raven', 91), ('ahmadinejad', 91), ('bronco', 91), ('extremely', 91), ('evacuation', 91), ('peaceful', 91), ('southwestern', 91), ('purpose', 91), ('sharif', 91), ('survivor', 91), ('cambridge', 91), ('austerity', 91), ('publishing', 91), ('obtained', 91), ('68', 91), ('22yearold', 91), ('romania', 91), ('defeating', 91), ('refusing', 91), ('mom', 91), ('confirms', 91), ('77', 91), ('chair', 91), ('beer', 91), ('inspired', 91), ('submitted', 91), ('kris', 91), ('shield', 91), ('wildfire', 91), ('nursing', 91), ('redskin', 91), ('springfield', 91), ('inquest', 90), ('sue', 90), ('smaller', 90), ('weighed', 90), ('declining', 90), ('implementation', 90), ('fernando', 90), ('laboratory', 90), ('mubarak', 90), ('emotional', 90), ('poverty', 90), ('nature', 90), ('slowed', 90), ('blocked', 90), ('installed', 90), ('clothes', 90), ('liquor', 90), ('spectrum', 90), ('teaching', 90), ('curb', 90), ('meter', 90), ('gen', 90), ('lying', 90), ('richmond', 90), ('toy', 90), ('transition', 90), ('hasnt', 90), ('50000', 90), ('pupil', 90), ('twilight', 90), ('insurgent', 90), ('kyle', 90), ('mario', 90), ('cricketer', 90), ('triplea', 90), ('venue', 90), ('kosovo', 90), ('concussion', 90), ('ambulance', 90), ('71', 89), ('dell', 89), ('12th', 89), ('pregnancy', 89), ('container', 89), ('exposure', 89), ('evans', 89), ('privacy', 89), ('kapoor', 89), ('educational', 89), ('guidance', 89), ('inaugural', 89), ('apart', 89), ('ski', 89), ('portugal', 89), ('haryana', 89), ('bound', 89), ('priest', 89), ('56', 89), ('hyderabad', 89), ('brook', 89), ('elbow', 89), ('ward', 89), ('overcome', 89), ('rod', 89), ('socalled', 89), ('entrepreneur', 89), ('wheel', 89), ('formal', 89), ('vacant', 89), ('throw', 89), ('presidentelect', 89), ('ashley', 89), ('unity', 89), ('replacing', 89), ('judiciary', 88), ('gear', 88), ('doubled', 88), ('recycling', 88), ('compliance', 88), ('oldest', 88), ('chef', 88), ('operate', 88), ('sick', 88), ('closely', 88), ('motorcyclist', 88), ('potter', 88), ('northeastern', 88), ('lifestyle', 88), ('cope', 88), ('crossed', 88), ('sheikh', 88), ('younger', 88), ('steelers', 88), ('designated', 88), ('recommended', 88), ('atomic', 88), ('slam', 88), ('definitely', 88), ('lp', 88), ('reiterated', 88), ('suggest', 88), ('withdraw', 88), ('originally', 87), ('larger', 87), ('breach', 87), ('pilgrim', 87), ('47', 87), ('mccartney', 87), ('lucky', 87), ('foster', 87), ('offense', 87), ('uranium', 87), ('lt', 87), ('investigate', 87), ('proceeding', 87), ('norway', 87), ('feared', 87), ('faith', 87), ('operational', 87), ('sense', 87), ('handset', 87), ('firearm', 87), ('sandy', 87), ('warehouse', 87), ('jesse', 87), ('punishment', 87), ('unprecedented', 87), ('easily', 87), ('confessed', 87), ('combined', 87), ('wreck', 86), ('wheat', 86), ('extreme', 86), ('widely', 86), ('nrl', 86), ('abusing', 86), ('muammar', 86), ('tommy', 86), ('easter', 86), ('attract', 86), ('overturned', 86), ('dress', 86), ('appealing', 86), ('bolster', 86), ('clerk', 86), ('lahore', 86), ('25yearold', 86), ('footballer', 86), ('cofounder', 86), ('personality', 86), ('shopper', 86), ('behalf', 86), ('incentive', 86), ('rajasthan', 86), ('asylum', 86), ('taxpayer', 86), ('18yearold', 85), ('concept', 85), ('taipei', 85), ('contain', 85), ('alberta', 85), ('drill', 85), ('highlight', 85), ('delivering', 85), ('feed', 85), ('leeds', 85), ('christina', 85), ('auburn', 85), ('phillies', 85), ('pizza', 85), ('aboard', 85), ('striking', 85), ('investing', 85), ('semiconductor', 85), ('creator', 85), ('astronaut', 85), ('prepares', 85), ('ethnic', 85), ('pulling', 85), ('imf', 85), ('agenda', 85), ('peninsula', 85), ('outage', 85), ('hybrid', 85), ('shape', 85), ('janata', 85), ('understanding', 85), ('scare', 84), ('withdrew', 84), ('renowned', 84), ('stem', 84), ('cue', 84), ('extensive', 84), ('tape', 84), ('turmoil', 84), ('maintained', 84), ('roadside', 84), ('infant', 84), ('nancy', 84), ('dumped', 84), ('hometown', 84), ('fix', 84), ('pretty', 84), ('sp', 84), ('aside', 84), ('slash', 84), ('strain', 84), ('monroe', 84), ('donald', 84), ('qantas', 84), ('nj', 84), ('tribunal', 84), ('zuma', 84), ('cancel', 84), ('philip', 84), ('execution', 84), ('audit', 84), ('intention', 84), ('specie', 84), ('pete', 84), ('laptop', 84), ('pga', 84), ('23yearold', 84), ('lived', 84), ('rodriguez', 84), ('print', 84), ('usbased', 84), ('inspection', 84), ('ahmed', 84), ('mainly', 84), ('marc', 84), ('audio', 84), ('worried', 84), ('k', 84), ('belgium', 84), ('branded', 84), ('argentine', 84), ('protesting', 84), ('favour', 84), ('simple', 83), ('28yearold', 83), ('dam', 83), ('organised', 83), ('finland', 83), ('m', 83), ('singing', 83), ('wicket', 83), ('57', 83), ('investigated', 83), ('packaging', 83), ('guitarist', 83), ('dj', 83), ('stemming', 83), ('importance', 83), ('grid', 83), ('counter', 83), ('behaviour', 83), ('hindu', 83), ('glasgow', 83), ('heavily', 83), ('transplant', 83), ('screening', 83), ('municipality', 83), ('anne', 83), ('surveillance', 83), ('acquiring', 83), ('ham', 83), ('empire', 83), ('kabul', 83), ('listing', 82), ('95', 82), ('carmaker', 82), ('honoured', 82), ('completion', 82), ('recognized', 82), ('elephant', 82), ('benjamin', 82), ('norwegian', 82), ('understand', 82), ('profile', 82), ('desert', 82), ('jesus', 82), ('childhood', 82), ('2nd', 82), ('rahul', 82), ('invitation', 82), ('risen', 82), ('prostate', 82), ('albert', 82), ('wimbledon', 82), ('backing', 82), ('125', 82), ('pit', 82), ('yes', 82), ('disability', 82), ('resulted', 82), ('km', 82), ('write', 82), ('beef', 82), ('pledge', 82), ('fill', 82), ('correspondent', 82), ('couldnt', 82), ('pentagon', 82), ('metre', 82), ('sindh', 82), ('packer', 81), ('motorola', 81), ('bench', 81), ('th', 81), ('assured', 81), ('bernard', 81), ('belgian', 81), ('enhanced', 81), ('2002', 81), ('kitchen', 81), ('mounting', 81), ('vicepresident', 81), ('resulting', 81), ('severely', 81), ('prosecution', 81), ('rachel', 81), ('bolton', 81), ('sachin', 81), ('discrimination', 81), ('confirm', 81), ('seconddegree', 81), ('migrant', 81), ('shipment', 81), ('controlled', 81), ('featured', 81), ('abbas', 81), ('builder', 81), ('et', 81), ('experienced', 81), ('statewide', 81), ('kanye', 81), ('lesbian', 81), ('regard', 81), ('83', 81), ('mohammad', 81), ('pattern', 81), ('citigroup', 81), ('49', 81), ('arrive', 81), ('lesson', 81), ('boss', 81), ('participation', 81), ('lover', 80), ('max', 80), ('74', 80), ('principle', 80), ('pneumonia', 80), ('talked', 80), ('1500', 80), ('baku', 80), ('electoral', 80), ('luke', 80), ('hull', 80), ('steal', 80), ('vodafone', 80), ('lunch', 80), ('garage', 80), ('startup', 80), ('theme', 80), ('86', 80), ('opec', 80), ('lease', 80), ('zero', 80), ('airbus', 80), ('sacked', 80), ('damascus', 80), ('prompted', 80), ('eddie', 80), ('portsmouth', 80), ('fought', 80), ('assessment', 80), ('subscriber', 80), ('eating', 80), ('thunderstorm', 80), ('lab', 80), ('discharged', 80), ('mason', 80), ('gomez', 80), ('randy', 80), ('theyve', 79), ('midland', 79), ('chicken', 79), ('suzuki', 79), ('fundraiser', 79), ('albany', 79), ('volleyball', 79), ('gibson', 79), ('supermodel', 79), ('routine', 79), ('surplus', 79), ('39', 79), ('specific', 79), ('phillips', 79), ('meat', 79), ('50th', 79), ('pink', 79), ('verdict', 79), ('laden', 79), ('observed', 79), ('peru', 79), ('provision', 79), ('pill', 79), ('leon', 79), ('rollover', 79), ('wright', 79), ('uefa', 79), ('census', 79), ('thanksgiving', 78), ('layoff', 78), ('permission', 78), ('waived', 78), ('ferry', 78), ('tear', 78), ('referendum', 78), ('complication', 78), ('guru', 78), ('pipe', 78), ('sonia', 78), ('easier', 78), ('midwest', 78), ('meal', 78), ('emmy', 78), ('omaha', 78), ('beautiful', 78), ('sideline', 78), ('privately', 78), ('crunch', 78), ('finishing', 78), ('loved', 78), ('consultation', 78), ('yousuf', 78), ('convenience', 78), ('staying', 78), ('adopt', 78), ('apply', 78), ('survive', 78), ('thriller', 78), ('cool', 78), ('encourage', 78), ('charging', 78), ('swap', 78), ('parole', 78), ('xbox', 78), ('alleging', 78), ('modi', 78), ('golfer', 78), ('capture', 78), ('buried', 78), ('regret', 78), ('obesity', 78), ('thinking', 77), ('apology', 77), ('pricing', 77), ('bottle', 77), ('tire', 77), ('brooklyn', 77), ('therapy', 77), ('cautious', 77), ('cotton', 77), ('meaning', 77), ('cycle', 77), ('tragedy', 77), ('exciting', 77), ('projected', 77), ('seminar', 77), ('finnish', 77), ('diet', 77), ('edinburgh', 77), ('heidi', 77), ('plain', 77), ('executed', 77), ('signature', 77), ('sweep', 77), ('locked', 77), ('disciplinary', 77), ('breakfast', 77), ('gasoline', 77), ('stick', 77), ('appearing', 77), ('ronaldo', 77), ('blake', 77), ('certificate', 77), ('sena', 77), ('oscarwinning', 77), ('preferred', 77), ('grown', 77), ('13th', 77), ('warming', 77), ('doping', 77), ('earn', 77), ('frozen', 77), ('mineral', 77), ('bowling', 77), ('brokerage', 77), ('purchased', 77), ('valued', 77), ('wwe', 77), ('25th', 76), ('73', 76), ('warm', 76), ('cooperative', 76), ('buzz', 76), ('mystery', 76), ('recommendation', 76), ('sheet', 76), ('lie', 76), ('inaugurated', 76), ('slated', 76), ('gathering', 76), ('torn', 76), ('calgary', 76), ('placement', 76), ('postal', 76), ('battled', 76), ('root', 76), ('plate', 76), ('xvi', 76), ('multiyear', 76), ('cruelty', 76), ('perhaps', 76), ('versus', 76), ('cigarette', 76), ('ave', 76), ('prostitution', 76), ('intended', 76), ('contender', 76), ('harassment', 76), ('dad', 76), ('austria', 76), ('dennis', 76), ('15yearold', 76), ('cop', 76), ('responding', 76), ('pa', 76), ('volatile', 76), ('edmonton', 76), ('casualty', 76), ('stateowned', 76), ('130', 76), ('explain', 76), ('rupert', 76), ('carey', 76), ('simply', 76), ('hiv', 75), ('runway', 75), ('religion', 75), ('freight', 75), ('superintendent', 75), ('jewelry', 75), ('impressive', 75), ('briefing', 75), ('ultimate', 75), ('moss', 75), ('journey', 75), ('badly', 75), ('francis', 75), ('spell', 75), ('seal', 75), ('commuter', 75), ('suv', 75), ('portion', 75), ('expensive', 75), ('bounced', 75), ('tag', 75), ('effectively', 75), ('susan', 75), ('blackburn', 75), ('hacker', 75), ('alqaeda', 75), ('dynamic', 75), ('challenged', 75), ('fouryear', 75), ('belt', 75), ('scrap', 75), ('unpaid', 75), ('freeze', 75), ('ceasefire', 75), ('merchant', 75), ('bout', 75), ('69', 75), ('quebec', 75), ('bmw', 75), ('winnipeg', 75), ('78', 75), ('substantial', 75), ('wouldnt', 75), ('antigovernment', 74), ('norfolk', 74), ('jaguar', 74), ('mentally', 74), ('ashton', 74), ('fugitive', 74), ('intervention', 74), ('pride', 74), ('seem', 74), ('17th', 74), ('angela', 74), ('treaty', 74), ('modest', 74), ('mugabe', 74), ('mohamed', 74), ('boycott', 74), ('unbeaten', 74), ('checkpoint', 74), ('princess', 74), ('inch', 74), ('robinson', 74), ('devastating', 74), ('twotime', 74), ('colt', 74), ('penguin', 74), ('accounting', 74), ('legislator', 74), ('organiser', 74), ('declaring', 74), ('instrument', 74), ('narrowly', 74), ('harrison', 74), ('anchor', 74), ('desperate', 74), ('violated', 74), ('swing', 74), ('recruitment', 74), ('forecaster', 74), ('download', 74), ('tweet', 74), ('qualified', 74), ('noted', 74), ('58', 74), ('exwife', 74), ('emma', 74), ('metropolitan', 74), ('analytics', 74), ('spencer', 74), ('cbi', 74), ('influential', 73), ('enjoy', 73), ('portal', 73), ('pastor', 73), ('filming', 73), ('norwich', 73), ('sensitive', 73), ('framework', 73), ('deer', 73), ('05', 73), ('circle', 73), ('ubs', 73), ('ailing', 73), ('marion', 73), ('leaked', 73), ('spiritual', 73), ('proved', 73), ('absolutely', 73), ('error', 73), ('governance', 73), ('aiming', 73), ('rehabilitation', 73), ('qaeda', 73), ('mariner', 73), ('bitter', 73), ('repeatedly', 73), ('odds', 73), ('governing', 73), ('reconciliation', 73), ('l', 73), ('essential', 73), ('luis', 73), ('kicking', 73), ('maintaining', 73), ('rooney', 73), ('selena', 73), ('turbine', 73), ('horror', 73), ('100th', 73), ('completing', 73), ('guideline', 73), ('happen', 73), ('porn', 72), ('participating', 72), ('fruit', 72), ('tobacco', 72), ('accusation', 72), ('arent', 72), ('agree', 72), ('tibet', 72), ('graphic', 72), ('consultant', 72), ('ethic', 72), ('romanian', 72), ('speedway', 72), ('murphy', 72), ('ecommerce', 72), ('torch', 72), ('14yearold', 72), ('andhra', 72), ('percentage', 72), ('wonder', 72), ('travelling', 72), ('tendulkar', 72), ('secondlargest', 72), ('transmission', 72), ('owns', 72), ('soil', 72), ('misconduct', 72), ('colin', 72), ('intent', 72), ('newborn', 72), ('oriole', 72), ('donor', 72), ('playstation', 72), ('participant', 72), ('soul', 72), ('osama', 72), ('relay', 72), ('recruit', 72), ('reaction', 72), ('silvio', 72), ('treasurer', 72), ('firework', 72), ('navigation', 72), ('30yearold', 72), ('pointed', 72), ('handle', 72), ('enemy', 72), ('acclaimed', 72), ('presenter', 72), ('refinance', 72), ('amanda', 72), ('cheating', 71), ('marketplace', 71), ('extraordinary', 71), ('ridge', 71), ('youngster', 71), ('traveling', 71), ('unveil', 71), ('catcher', 71), ('hosni', 71), ('dpa', 71), ('heroin', 71), ('addressing', 71), ('tumbled', 71), ('affecting', 71), ('shootout', 71), ('81', 71), ('clearing', 71), ('cardiac', 71), ('particular', 71), ('rebounded', 71), ('chronic', 71), ('magnitude', 71), ('manila', 71), ('appealed', 71), ('na', 71), ('stuck', 71), ('manuel', 71), ('dragged', 71), ('kenyan', 71), ('breakthrough', 71), ('woe', 71), ('incumbent', 71), ('peer', 71), ('christie', 71), ('somalia', 71), ('malta', 71), ('willing', 71), ('elite', 70), ('nathan', 70), ('suddenly', 70), ('jakarta', 70), ('yuan', 70), ('sc', 70), ('helen', 70), ('gaining', 70), ('da', 70), ('juventus', 70), ('islamist', 70), ('ferrari', 70), ('radical', 70), ('scout', 70), ('referee', 70), ('seahawks', 70), ('borough', 70), ('16yearold', 70), ('bayern', 70), ('outcome', 70), ('2020', 70), ('logistics', 70), ('quiet', 70), ('grammy', 70), ('ann', 70), ('lottery', 70), ('arrangement', 70), ('plead', 70), ('naked', 70), ('mosque', 70), ('jun', 70), ('mogul', 70), ('require', 70), ('specifically', 70), ('assange', 70), ('vulnerable', 70), ('nadal', 70), ('publicist', 70), ('christchurch', 70), ('organizer', 70), ('circumstance', 70), ('excessive', 70), ('levy', 70), ('lily', 70), ('guardian', 70), ('firstdegree', 70), ('sandra', 70), ('boxer', 70), ('bernanke', 69), ('rehman', 69), ('icc', 69), ('transferred', 69), ('yellow', 69), ('mate', 69), ('underground', 69), ('blasted', 69), ('origin', 69), ('composer', 69), ('speeding', 69), ('fortune', 69), ('relating', 69), ('sudden', 69), ('romantic', 69), ('butler', 69), ('longest', 69), ('hinted', 69), ('newark', 69), ('4th', 69), ('swat', 69), ('encouraging', 69), ('salem', 69), ('colombo', 69), ('honorary', 69), ('correction', 69), ('f', 69), ('martinez', 69), ('timothy', 69), ('posed', 69), ('15th', 69), ('touched', 69), ('erupted', 69), ('88', 69), ('addressed', 69), ('poker', 69), ('exposed', 69), ('furniture', 69), ('pensioner', 69), ('gambling', 69), ('juvenile', 69), ('vacation', 69), ('enjoyed', 69), ('strengthening', 68), ('89', 68), ('evasion', 68), ('castro', 68), ('bryant', 68), ('lashed', 68), ('abducted', 68), ('sank', 68), ('mild', 68), ('110', 68), ('gillard', 68), ('fat', 68), ('sharma', 68), ('physician', 68), ('whale', 68), ('exclusively', 68), ('eat', 68), ('reference', 68), ('proceeds', 68), ('26yearold', 68), ('ca', 68), ('focusing', 68), ('newport', 68), ('79', 68), ('surgeon', 68), ('eur', 68), ('berlusconi', 68), ('crushed', 68), ('swan', 68), ('sheffield', 68), ('arctic', 68), ('concerning', 68), ('zimbabwean', 68), ('disruption', 68), ('wenger', 68), ('sioux', 68), ('scholarship', 68), ('controller', 68), ('buck', 68), ('essex', 68), ('amitabh', 68), ('dental', 68), ('mo', 68), ('planet', 68), ('murdoch', 68), ('brings', 68), ('jewellery', 68), ('availability', 68), ('petersburg', 67), ('dy', 67), ('establishment', 67), ('rainfall', 67), ('withdrawal', 67), ('activated', 67), ('contestant', 67), ('liability', 67), ('wigan', 67), ('netanyahu', 67), ('picking', 67), ('91', 67), ('inducted', 67), ('islam', 67), ('exam', 67), ('vegetable', 67), ('boulevard', 67), ('clarke', 67), ('hardware', 67), ('hu', 67), ('glen', 67), ('suspend', 67), ('broking', 67), ('manny', 67), ('pack', 67), ('firstquarter', 67), ('18th', 67), ('lil', 67), ('15day', 67), ('84', 67), ('istanbul', 67), ('sebastian', 67), ('sponsored', 67), ('safely', 67), ('highland', 67), ('represent', 67), ('pact', 67), ('jumping', 67), ('congratulated', 67), ('meant', 67), ('lexington', 67), ('commit', 67), ('rapidly', 67), ('middleton', 67), ('homeland', 67), ('soaring', 67), ('runner', 67), ('racist', 67), ('dame', 67), ('derivative', 67), ('carpet', 66), ('spreading', 66), ('herald', 66), ('collected', 66), ('filled', 66), ('gm', 66), ('infielder', 66), ('element', 66), ('reservation', 66), ('rocky', 66), ('excited', 66), ('installation', 66), ('recruiting', 66), ('compound', 66), ('canal', 66), ('sing', 66), ('mahindra', 66), ('heath', 66), ('revealing', 66), ('shower', 66), ('subsidy', 66), ('dragon', 66), ('respond', 66), ('robbie', 66), ('creditor', 66), ('booking', 66), ('baker', 66), ('sat', 66), ('7th', 66), ('dvd', 66), ('karzai', 66), ('blockbuster', 66), ('20000', 66), ('cornerback', 66), ('flyer', 66), ('wrestling', 66), ('egg', 66), ('filipino', 66), ('devil', 66), ('h1n1', 66), ('showcase', 66), ('medicare', 66), ('charger', 66), ('lynch', 66), ('continental', 66), ('kiss', 66), ('awaited', 66), ('burglar', 66), ('eventually', 66), ('brutal', 66), ('narendra', 66), ('jake', 66), ('fierce', 66), ('boosting', 66), ('accessory', 66), ('charleston', 66), ('dubbed', 66), ('who', 66), ('gallery', 66), ('drawn', 66), ('lisa', 66), ('processor', 66), ('handling', 65), ('format', 65), ('bangkok', 65), ('declaration', 65), ('knew', 65), ('ebay', 65), ('htc', 65), ('imported', 65), ('sweeping', 65), ('burst', 65), ('mel', 65), ('valentine', 65), ('merkel', 65), ('cemetery', 65), ('sum', 65), ('hijacked', 65), ('austrian', 65), ('load', 65), ('copy', 65), ('liver', 65), ('falcon', 65), ('smuggling', 65), ('stood', 65), ('g', 65), ('supervisor', 65), ('rap', 65), ('swung', 65), ('expo', 65), ('billboard', 65), ('swim', 65), ('topic', 65), ('uniform', 65), ('clashed', 65), ('else', 65), ('symbol', 65), ('harbor', 65), ('geneva', 65), ('stretch', 65), ('capable', 65), ('arbitration', 65), ('jean', 65), ('weve', 65), ('jul', 65), ('remember', 65), ('360', 65), ('bang', 65), ('crane', 65), ('serie', 65), ('combine', 65), ('norman', 65), ('lowered', 65), ('schwarzenegger', 65), ('panther', 65), ('explore', 65), ('pretax', 65), ('robbing', 64), ('saskatchewan', 64), ('compromise', 64), ('wyoming', 64), ('unconscious', 64), ('strict', 64), ('berry', 64), ('yorkshire', 64), ('nintendo', 64), ('ranch', 64), ('92', 64), ('rifle', 64), ('exactly', 64), ('acquitted', 64), ('reflecting', 64), ('moody', 64), ('domain', 64), ('slip', 64), ('economics', 64), ('indefinitely', 64), ('mclaren', 64), ('autumn', 64), ('blind', 64), ('expelled', 64), ('dna', 64), ('denmark', 64), ('citizenship', 64), ('timberlake', 64), ('observer', 64), ('hd', 64), ('bhd', 64), ('declare', 64), ('licensing', 64), ('valuable', 64), ('barnes', 64), ('101', 64), ('reception', 64), ('genocide', 64), ('adoption', 64), ('grave', 64), ('nissan', 64), ('omar', 64), ('cardiff', 64), ('ahmad', 64), ('presentation', 64), ('foreigner', 64), ('detected', 64), ('hiding', 64), ('baldwin', 64), ('buyout', 63), ('cisco', 63), ('amnesty', 63), ('seller', 63), ('telegraph', 63), ('sweet', 63), ('17yearold', 63), ('thus', 63), ('aberdeen', 63), ('sit', 63), ('rajya', 63), ('michele', 63), ('survival', 63), ('connect', 63), ('darren', 63), ('indefinite', 63), ('muscle', 63), ('civic', 63), ('calm', 63), ('warship', 63), ('silence', 63), ('sierra', 63), ('soft', 63), ('ivory', 63), ('vermont', 63), ('questioned', 63), ('hsbc', 63), ('newton', 63), ('liquidity', 63), ('gdp', 63), ('partially', 63), ('freddie', 63), ('reactor', 63), ('occupy', 63), ('jamaica', 63), ('bronze', 63), ('trustee', 63), ('spoken', 63), ('hazare', 63), ('crowned', 63), ('sanchez', 63), ('pollution', 63), ('oath', 63), ('soap', 63), ('allocation', 63), ('bradford', 63), ('deployed', 63), ('consultancy', 63), ('o', 63), ('chad', 63), ('blair', 63), ('choose', 63), ('initially', 63), ('bet', 63), ('zambia', 63), ('example', 63), ('opposed', 63), ('minn', 63), ('orchestra', 63), ('encouraged', 63), ('passport', 63), ('resigning', 63), ('christopher', 63), ('bullock', 63), ('famed', 63), ('ericsson', 63), ('interbank', 62), ('syracuse', 62), ('tulsa', 62), ('disappointed', 62), ('housewife', 62), ('rd', 62), ('deployment', 62), ('baptist', 62), ('floyd', 62), ('conversation', 62), ('nude', 62), ('multimillion', 62), ('hawk', 62), ('victor', 62), ('valuation', 62), ('deported', 62), ('amidst', 62), ('reputation', 62), ('gallon', 62), ('whitney', 62), ('backup', 62), ('rent', 62), ('federer', 62), ('trigger', 62), ('historical', 62), ('stripped', 62), ('oracle', 62), ('concession', 62), ('joel', 62), ('finale', 62), ('bundesliga', 62), ('outsourcing', 62), ('indictment', 62), ('cristiano', 62), ('surprised', 62), ('xi', 62), ('innocent', 62), ('sight', 62), ('issuing', 62), ('highprofile', 62), ('possessing', 62), ('heel', 62), ('collective', 62), ('harvard', 62), ('shelf', 62), ('arsene', 62), ('competitor', 62), ('invested', 62), ('mini', 62), ('connected', 62), ('fantasy', 62), ('subscription', 62), ('reliever', 62), ('agreeing', 62), ('29yearold', 62), ('ip', 62), ('oman', 62), ('bharatiya', 62), ('wellknown', 62), ('sailor', 62), ('slide', 62), ('deciding', 62), ('consideration', 62), ('weakening', 61), ('midday', 61), ('sometime', 61), ('praise', 61), ('broader', 61), ('popularity', 61), ('autopsy', 61), ('arthur', 61), ('welsh', 61), ('wichita', 61), ('workout', 61), ('brush', 61), ('io', 61), ('25000', 61), ('folk', 61), ('osbourne', 61), ('endorsement', 61), ('restructure', 61), ('duck', 61), ('payroll', 61), ('shortfall', 61), ('jonas', 61), ('hoped', 61), ('setback', 61), ('batch', 61), ('maverick', 61), ('thomson', 61), ('flew', 61), ('button', 61), ('500000', 61), ('freshman', 61), ('blew', 61), ('requested', 61), ('facilitate', 61), ('confirming', 61), ('attractive', 61), ('200000', 61), ('intense', 61), ('maple', 61), ('lineman', 61), ('bros', 61), ('quinn', 61), ('raj', 61), ('nice', 61), ('marcus', 61), ('dawn', 61), ('stayed', 61), ('cyber', 61), ('hungary', 61), ('departure', 61), ('gunshot', 61), ('sudanese', 61), ('parked', 61), ('dominated', 60), ('introducing', 60), ('guitar', 60), ('battered', 60), ('gig', 60), ('infringement', 60), ('covered', 60), ('grace', 60), ('massacre', 60), ('goa', 60), ('reverse', 60), ('frontier', 60), ('efficient', 60), ('floating', 60), ('precious', 60), ('offseason', 60), ('nasdaq', 60), ('singersongwriter', 60), ('3rd', 60), ('questioning', 60), ('stressed', 60), ('bruin', 60), ('tumor', 60), ('warns', 60), ('seri', 60), ('lock', 60), ('paso', 60), ('14th', 60), ('elton', 60), ('niagara', 60), ('admission', 60), ('equal', 60), ('presenting', 60), ('sometimes', 60), ('barrier', 60), ('sluggish', 60), ('racial', 60), ('harvest', 60), ('notorious', 60), ('sanaa', 60), ('indicator', 60), ('monsoon', 60), ('sec', 60), ('rockies', 60), ('riverside', 60), ('ecuador', 60), ('railroad', 60), ('indication', 60), ('portuguese', 60), ('fabio', 60), ('globally', 60), ('cruz', 60), ('ppp', 60), ('arriving', 60), ('halted', 60), ('stomach', 60), ('fleeing', 60), ('bryan', 60), ('certification', 60), ('coleman', 60), ('ancient', 60), ('opposite', 59), ('renovation', 59), ('stunning', 59), ('monster', 59), ('revive', 59), ('fate', 59), ('mysterious', 59), ('paulo', 59), ('containing', 59), ('hang', 59), ('urge', 59), ('checked', 59), ('orissa', 59), ('kingston', 59), ('hamstring', 59), ('excellent', 59), ('exgirlfriend', 59), ('jockey', 59), ('threatens', 59), ('silicon', 59), ('overdose', 59), ('amazing', 59), ('aware', 59), ('87', 59), ('eliminated', 59), ('ipl', 59), ('shocking', 59), ('remembered', 59), ('chat', 59), ('runoff', 59), ('depot', 59), ('225', 59), ('difficulty', 59), ('sentencing', 59), ('painting', 59), ('mandate', 59), ('repeat', 59), ('embattled', 59), ('bath', 59), ('finalist', 59), ('steep', 59), ('billing', 59), ('priced', 59), ('flower', 59), ('ounce', 59), ('adrian', 59), ('allrounder', 59), ('hungarian', 59), ('sustainability', 59), ('derek', 59), ('itunes', 59), ('tattoo', 59), ('leicester', 59), ('patch', 59), ('concrete', 59), ('pond', 59), ('aerospace', 59), ('intensive', 59), ('4000', 59), ('clinched', 59), ('walsh', 58), ('implemented', 58), ('courthouse', 58), ('abbott', 58), ('sidelined', 58), ('tap', 58), ('consequence', 58), ('oxford', 58), ('eligible', 58), ('enjoying', 58), ('competing', 58), ('capsized', 58), ('wade', 58), ('manner', 58), ('favor', 58), ('fred', 58), ('lovato', 58), ('seeker', 58), ('aden', 58), ('ruler', 58), ('quest', 58), ('overweight', 58), ('bribery', 58), ('europa', 58), ('tentative', 58), ('operated', 58), ('yearold', 58), ('mum', 58), ('sailing', 58), ('rhode', 58), ('mad', 58), ('insight', 58), ('faculty', 58), ('swansea', 58), ('joke', 58), ('symptom', 58), ('thackeray', 58), ('shiv', 58), ('pursue', 58), ('danish', 58), ('fishery', 58), ('travis', 58), ('sand', 58), ('romance', 58), ('tweeted', 58), ('somerset', 58), ('truth', 58), ('19th', 58), ('platinum', 58), ('struggled', 58), ('apps', 58), ('throat', 58), ('ipod', 58), ('cedar', 58), ('distributed', 58), ('roughly', 58), ('imprisonment', 58), ('progressive', 58), ('decrease', 58), ('21st', 58), ('bhp', 58), ('approve', 58), ('fresno', 58), ('engage', 58), ('knot', 58), ('tariff', 57), ('bee', 57), ('tripoli', 57), ('mobility', 57), ('subway', 57), ('cox', 57), ('bend', 57), ('textile', 57), ('length', 57), ('rom', 57), ('restricted', 57), ('thunder', 57), ('medication', 57), ('shiite', 57), ('plaza', 57), ('30th', 57), ('stoke', 57), ('premise', 57), ('narrow', 57), ('starter', 57), ('brady', 57), ('suffolk', 57), ('surface', 57), ('overtime', 57), ('turner', 57), ('hed', 57), ('belonging', 57), ('2016', 57), ('stating', 57), ('constituency', 57), ('demonstrator', 57), ('reed', 57), ('jointly', 57), ('nd', 57), ('glee', 57), ('tucson', 57), ('marched', 57), ('hat', 57), ('desire', 57), ('altercation', 57), ('uprising', 57), ('secondquarter', 57), ('alarm', 57), ('ousted', 57), ('soared', 57), ('unusual', 57), ('corn', 57), ('qualify', 57), ('middleweight', 57), ('stamp', 57), ('ambitious', 57), ('unexpected', 57), ('cement', 57), ('smashed', 57), ('lobby', 56), ('cia', 56), ('tractor', 56), ('adventure', 56), ('extremist', 56), ('assam', 56), ('apparel', 56), ('legacy', 56), ('thin', 56), ('retain', 56), ('tradition', 56), ('intellectual', 56), ('kilometre', 56), ('jintao', 56), ('eva', 56), ('vincent', 56), ('knicks', 56), ('batting', 56), ('glenn', 56), ('pacquiao', 56), ('automobile', 56), ('archbishop', 56), ('spin', 56), ('gray', 56), ('molestation', 56), ('eliminate', 56), ('bright', 56), ('disorderly', 56), ('durham', 56), ('premiership', 56), ('siemens', 56), ('inappropriate', 56), ('surrendered', 56), ('jp', 56), ('shook', 56), ('imminent', 56), ('initiated', 56), ('booked', 56), ('shocked', 56), ('protecting', 56), ('foul', 56), ('1200', 56), ('introduction', 56), ('serena', 56), ('alberto', 56), ('jane', 56), ('generate', 56), ('studying', 56), ('patil', 56), ('genetic', 56), ('landlord', 56), ('50yearold', 56), ('suu', 56), ('disrupted', 56), ('mega', 56), ('4g', 56), ('neighbouring', 56), ('bargain', 56), ('accra', 56), ('cuomo', 56), ('md', 56), ('classroom', 56), ('mechanism', 55), ('identify', 55), ('maruti', 55), ('rubber', 55), ('beta', 55), ('revival', 55), ('59', 55), ('tel', 55), ('mccarthy', 55), ('daytona', 55), ('gesture', 55), ('newman', 55), ('slot', 55), ('proper', 55), ('touring', 55), ('delegate', 55), ('ucla', 55), ('aggregate', 55), ('color', 55), ('cheney', 55), ('indicates', 55), ('horizon', 55), ('pine', 55), ('productivity', 55), ('caucus', 55), ('5th', 55), ('surcharge', 55), ('providence', 55), ('201011', 55), ('catherine', 55), ('stuart', 55), ('upa', 55), ('programming', 55), ('pointing', 55), ('attacker', 55), ('toilet', 55), ('nova', 55), ('brawl', 55), ('grenade', 55), ('maybe', 55), ('wizard', 55), ('highspeed', 55), ('di', 55), ('confrontation', 55), ('350', 55), ('aspect', 55), ('respectively', 55), ('voluntarily', 55), ('suffer', 55), ('2001', 55), ('indicating', 55), ('hopkins', 55), ('margaret', 55), ('combination', 55), ('nose', 55), ('optimistic', 55), ('indeed', 55), ('plenty', 55), ('rukh', 55), ('kyi', 55), ('console', 55), ('boot', 55), ('chuck', 55), ('sofia', 55), ('volatility', 55), ('solve', 55), ('informs', 55), ('spice', 55), ('greenback', 55), ('editorial', 55), ('raja', 55), ('suisse', 55), ('brent', 55), ('commissioned', 54), ('adjusted', 54), ('halifax', 54), ('gallagher', 54), ('krishna', 54), ('cannabis', 54), ('washed', 54), ('h', 54), ('proposing', 54), ('emerge', 54), ('renew', 54), ('fulham', 54), ('automation', 54), ('mainland', 54), ('crazy', 54), ('succeed', 54), ('extradition', 54), ('trained', 54), ('contribute', 54), ('fractured', 54), ('94', 54), ('cyclone', 54), ('satyam', 54), ('clooney', 54), ('polling', 54), ('founding', 54), ('mouth', 54), ('santorum', 54), ('doug', 54), ('escalating', 54), ('hammer', 54), ('belfast', 54), ('vijay', 54), ('spree', 54), ('khalifa', 54), ('imran', 54), ('tesco', 54), ('ex', 54), ('joy', 54), ('dominique', 54), ('beyonce', 54), ('spray', 54), ('tragic', 54), ('formation', 54), ('grass', 54), ('snap', 54), ('conrad', 54), ('trevor', 54), ('impose', 54), ('swimmer', 54), ('par', 54), ('puerto', 54), ('remake', 54), ('contained', 54), ('aung', 54), ('35yearold', 54), ('attitude', 54), ('marlin', 54), ('3g', 54), ('uncertain', 54), ('sleeping', 54), ('felipe', 54), ('protected', 54), ('criticised', 54), ('riley', 54), ('amazoncom', 54), ('habit', 54), ('statue', 54), ('wed', 54), ('certainly', 54), ('hartford', 54), ('bold', 54), ('disclosure', 54), ('taste', 53), ('damaging', 53), ('consolidation', 53), ('bloc', 53), ('bailey', 53), ('steam', 53), ('troy', 53), ('ellen', 53), ('victorian', 53), ('pune', 53), ('16th', 53), ('relegation', 53), ('infamous', 53), ('lap', 53), ('huntington', 53), ('wallace', 53), ('institutional', 53), ('invitational', 53), ('penny', 53), ('henderson', 53), ('nyc', 53), ('wilmington', 53), ('biopic', 53), ('desktop', 53), ('bounce', 53), ('wet', 53), ('generic', 53), ('31yearold', 53), ('ea', 53), ('conn', 53), ('nawaz', 53), ('rudd', 53), ('distance', 53), ('unified', 53), ('carnival', 53), ('sorry', 53), ('02', 53), ('examination', 53), ('barn', 53), ('trump', 53), ('revolutionary', 53), ('spark', 53), ('bolt', 53), ('recognize', 53), ('restraining', 53), ('alassad', 53), ('placing', 53), ('slain', 53), ('anonymous', 53), ('convertible', 53), ('ripped', 53), ('burden', 53), ('sap', 53), ('helm', 53), ('exhusband', 53), ('diving', 53), ('wounding', 53), ('reckless', 53), ('banning', 53), ('traveler', 53), ('laundering', 53), ('pig', 53), ('anger', 53), ('bloody', 53), ('oprah', 53), ('sort', 53), ('04', 53), ('universe', 53), ('lyon', 53), ('operates', 53), ('partial', 53), ('nationally', 53), ('alltime', 53), ('cheap', 53), ('touchdown', 53), ('gubernatorial', 53), ('widened', 53), ('doubleheader', 53), ('indecent', 53), ('slid', 53), ('obrien', 53), ('13yearold', 53), ('betty', 52), ('describing', 52), ('kutcher', 52), ('stance', 52), ('packed', 52), ('internationally', 52), ('mandatory', 52), ('ipo', 52), ('lansing', 52), ('nugget', 52), ('dying', 52), ('obligation', 52), ('pursuit', 52), ('sergio', 52), ('aaa', 52), ('spa', 52), ('millionaire', 52), ('ramp', 52), ('6th', 52), ('laying', 52), ('torture', 52), ('blogger', 52), ('radiation', 52), ('organ', 52), ('000', 52), ('follower', 52), ('displaced', 52), ('stamford', 52), ('fullback', 52), ('sponsorship', 52), ('lsu', 52), ('padre', 52), ('shutdown', 52), ('slight', 52), ('seasonal', 52), ('saga', 52), ('epic', 52), ('removal', 52), ('drummer', 52), ('wrist', 52), ('201112', 52), ('solidarity', 52), ('underage', 52), ('gender', 52), ('columnist', 52), ('dirty', 52), ('welterweight', 52), ('addiction', 52), ('requiring', 52), ('lieutenant', 52), ('hanged', 52), ('prepaid', 52), ('boom', 52), ('anil', 52), ('appliance', 52), ('hugh', 52), ('formerly', 52), ('hazard', 52), ('claire', 52), ('arraigned', 52), ('amber', 52), ('stint', 52), ('canberra', 52), ('remainder', 52), ('du', 52), ('plotting', 52), ('duncan', 51), ('chandigarh', 51), ('ria', 51), ('sm', 51), ('distribute', 51), ('rough', 51), ('hispanic', 51), ('headon', 51), ('tunisia', 51), ('arguing', 51), ('ak', 51), ('carson', 51), ('wembley', 51), ('organic', 51), ('fever', 51), ('worsening', 51), ('bribe', 51), ('comfortable', 51), ('collect', 51), ('linking', 51), ('32yearold', 51), ('consensus', 51), ('cheaper', 51), ('castle', 51), ('lighting', 51), ('fourthquarter', 51), ('tyson', 51), ('vehicular', 51), ('mansion', 51), ('cosmetic', 51), ('submit', 51), ('toss', 51), ('goaltender', 51), ('marie', 51), ('medicaid', 51), ('shadow', 51), ('surpassed', 51), ('banerjee', 51), ('transparency', 51), ('turkmenistan', 51), ('persistent', 51), ('earning', 51), ('windsor', 51), ('2003', 51), ('ronnie', 51), ('rebuild', 51), ('contemporary', 51), ('cooperate', 51), ('wbc', 51), ('2500', 51), ('gossip', 51), ('sparking', 51), ('warn', 51), ('explained', 51), ('lionel', 51), ('monica', 51), ('trio', 51), ('approached', 51), ('posing', 51), ('conglomerate', 51), ('vince', 51), ('assassination', 51), ('arlington', 51), ('laura', 51), ('workplace', 51), ('compact', 51), ('arrives', 51), ('tenn', 51), ('endorse', 51), ('westminster', 51), ('paisa', 51), ('self', 51), ('slovenia', 51), ('hornet', 50), ('punched', 50), ('lambert', 50), ('climb', 50), ('dayton', 50), ('forming', 50), ('reviewing', 50), ('integrity', 50), ('noble', 50), ('calf', 50), ('truly', 50), ('appropriate', 50), ('accelerated', 50), ('stalled', 50), ('stern', 50), ('passage', 50), ('mercury', 50), ('pacer', 50), ('stevens', 50), ('campaigner', 50), ('equality', 50), ('evaluation', 50), ('besides', 50), ('bombay', 50), ('openly', 50), ('karl', 50), ('removing', 50), ('approaching', 50), ('install', 50), ('brendan', 50), ('boyle', 50), ('opted', 50), ('nielsen', 50), ('humanity', 50), ('cellular', 50), ('criticized', 50), ('ab', 50), ('gym', 50), ('bruno', 50), ('upheld', 50), ('rig', 50), ('greenhouse', 50), ('hidden', 50), ('nile', 50), ('downgrade', 50), ('myers', 50), ('profitability', 50), ('quitting', 50), ('rocked', 50), ('prof', 50), ('behavior', 50), ('annually', 50), ('cream', 50), ('interesting', 50), ('veto', 50), ('fiery', 50), ('logo', 50), ('continent', 50), ('amsterdam', 50), ('tightened', 50), ('morrison', 50), ('founded', 50), ('bust', 50), ('hamburg', 50), ('dipped', 50), ('isle', 50), ('griffin', 50), ('performer', 50), ('tan', 50), ('lucas', 50), ('rbi', 50), ('mouse', 50), ('spare', 50), ('poisoning', 50), ('27yearold', 50), ('mariah', 50), ('thirdquarter', 50), ('canyon', 50), ('avoided', 50), ('novak', 50), ('patel', 50), ('parkway', 50), ('wifi', 50), ('kuwaiti', 50), ('blaming', 50), ('shortstop', 49), ('printing', 49), ('secretly', 49), ('separatist', 49), ('generating', 49), ('dissident', 49), ('teach', 49), ('attendant', 49), ('harbour', 49), ('freeway', 49), ('12yearold', 49), ('successor', 49), ('vanessa', 49), ('bancorp', 49), ('tougher', 49), ('empty', 49), ('heating', 49), ('metric', 49), ('tinto', 49), ('1100', 49), ('mix', 49), ('plymouth', 49), ('en', 49), ('wrap', 49), ('preventing', 49), ('mamata', 49), ('seizure', 49), ('anthem', 49), ('joey', 49), ('conjunction', 49), ('hiphop', 49), ('becomes', 49), ('gala', 49), ('bourse', 49), ('upbeat', 49), ('undergone', 49), ('pepper', 49), ('quake', 49), ('devastated', 49), ('firstround', 49), ('sample', 49), ('consortium', 49), ('dressed', 49), ('kirk', 49), ('caution', 49), ('preserve', 49), ('sore', 49), ('vernon', 49), ('speaks', 49), ('hart', 49), ('entrance', 49), ('slumped', 49), ('appetite', 49), ('ok', 49), ('est', 49), ('croatian', 49), ('bathroom', 49), ('albuquerque', 49), ('boris', 49), ('thank', 49), ('dismissal', 49), ('vienna', 49), ('prodemocracy', 49), ('harm', 49), ('richie', 49), ('affirmed', 49), ('reflect', 49), ('23rd', 49), ('clipper', 49), ('pyongyang', 49), ('suspending', 49), ('samajwadi', 49), ('represents', 49), ('pancreatic', 49), ('skype', 49), ('wider', 49), ('jacket', 49), ('spotlight', 49), ('valencia', 49), ('chocolate', 49), ('hassan', 49), ('id', 49), ('molesting', 48), ('loaded', 48), ('flick', 48), ('frankfurt', 48), ('adaptation', 48), ('manning', 48), ('successive', 48), ('fundamental', 48), ('jd', 48), ('florence', 48), ('theory', 48), ('snack', 48), ('panasonic', 48), ('reversing', 48), ('grandmother', 48), ('01', 48), ('christ', 48), ('reorganization', 48), ('abused', 48), ('servant', 48), ('crush', 48), ('cry', 48), ('browser', 48), ('dominican', 48), ('prairie', 48), ('tune', 48), ('guinea', 48), ('tiny', 48), ('sexy', 48), ('discipline', 48), ('ordinary', 48), ('mayer', 48), ('beatles', 48), ('lecture', 48), ('disappeared', 48), ('sharon', 48), ('ryder', 48), ('ditch', 48), ('39yearold', 48), ('dip', 48), ('marco', 48), ('cooking', 48), ('shaun', 48), ('mph', 48), ('slowly', 48), ('monument', 48), ('dhaka', 48), ('tory', 48), ('carlo', 48), ('oval', 48), ('avalanche', 48), ('kyrgyz', 48), ('repeated', 48), ('assurance', 48), ('rogue', 48), ('garcia', 48), ('noel', 48), ('lucknow', 48), ('asean', 48), ('lg', 48), ('landslide', 48), ('amtrak', 48), ('morris', 48), ('undercover', 48), ('miguel', 48), ('widow', 48), ('ear', 48), ('meltdown', 48), ('regain', 48), ('calendar', 48), ('yearonyear', 48), ('hussain', 48), ('orbit', 48), ('narrowed', 48), ('securing', 48), ('courtroom', 48), ('nazi', 48), ('uganda', 48), ('snapped', 48), ('sequel', 48), ('reese', 48), ('witherspoon', 48), ('turtle', 48), ('awaiting', 48), ('dated', 48), ('fiance', 48), ('ehud', 48), ('burlington', 48), ('raleigh', 48), ('sitcom', 48), ('contrary', 48), ('pitched', 48), ('indoor', 47), ('conducting', 47), ('spectacular', 47), ('novosti', 47), ('depth', 47), ('15000', 47), ('powell', 47), ('raided', 47), ('showdown', 47), ('ibrahim', 47), ('47yearold', 47), ('shahid', 47), ('disturbance', 47), ('robust', 47), ('1970s', 47), ('lancaster', 47), ('statistical', 47), ('onevehicle', 47), ('walt', 47), ('kit', 47), ('comparison', 47), ('prop', 47), ('jharkhand', 47), ('learnt', 47), ('buffett', 47), ('yacht', 47), ('antony', 47), ('wanderer', 47), ('supposed', 47), ('fixture', 47), ('cellphone', 47), ('attendance', 47), ('dancer', 47), ('destroy', 47), ('prostitute', 47), ('strained', 47), ('730', 47), ('consolidate', 47), ('giffords', 47), ('wash', 47), ('bankrupt', 47), ('complained', 47), ('dodge', 47), ('automatic', 47), ('aftermath', 47), ('cheated', 47), ('bennett', 47), ('40th', 47), ('vow', 47), ('reynolds', 47), ('paint', 47), ('unite', 47), ('glory', 47), ('pitching', 47), ('scotia', 47), ('detainee', 47), ('wrapped', 47), ('beverage', 47), ('permanently', 47), ('30000', 47), ('totally', 47), ('tmobile', 47), ('frame', 47), ('grabbed', 47), ('dictator', 47), ('hindi', 47), ('territorial', 47), ('billiton', 47), ('pratt', 47), ('td', 47), ('conceded', 47), ('considers', 47), ('vietnamese', 47), ('brit', 47), ('reddy', 47), ('mercy', 47), ('shale', 47), ('messaging', 47), ('protested', 46), ('miranda', 46), ('recreation', 46), ('jackie', 46), ('facial', 46), ('fiat', 46), ('appoint', 46), ('volcano', 46), ('withdrawing', 46), ('issuer', 46), ('excellence', 46), ('autism', 46), ('rescuer', 46), ('bestselling', 46), ('measuring', 46), ('chaos', 46), ('yoga', 46), ('fielder', 46), ('aguilera', 46), ('mich', 46), ('lodged', 46), ('96', 46), ('acute', 46), ('eyed', 46), ('quote', 46), ('manitoba', 46), ('rage', 46), ('bullish', 46), ('injection', 46), ('farewell', 46), ('surrey', 46), ('inn', 46), ('michel', 46), ('lowcost', 46), ('amateur', 46), ('purchasing', 46), ('texan', 46), ('maiden', 46), ('cousin', 46), ('righthanded', 46), ('nikkei', 46), ('sullivan', 46), ('mourinho', 46), ('bite', 46), ('overwhelming', 46), ('pearl', 46), ('songwriter', 46), ('reject', 46), ('palmer', 46), ('moines', 46), ('climbing', 46), ('banner', 46), ('betterthanexpected', 46), ('loose', 46), ('reliable', 46), ('cancellation', 46), ('urgent', 46), ('neglect', 46), ('arabian', 46), ('160', 46), ('hague', 46), ('hostile', 46), ('accidental', 46), ('hurdle', 46), ('inauguration', 46), ('physically', 46), ('miliband', 46), ('norm', 46), ('lockout', 46), ('treating', 46), ('oliver', 46), ('endangered', 46), ('entity', 46), ('repeal', 46), ('natalie', 46), ('ashok', 46), ('ministerial', 46), ('reef', 46), ('pierce', 46), ('acknowledged', 46), ('chopra', 46), ('fairfield', 46), ('defamation', 46), ('140', 46), ('resolved', 46), ('tsvangirai', 46), ('expression', 46), ('poet', 46), ('favre', 46), ('hacking', 46), ('cannon', 46), ('hospitalised', 46), ('usual', 46), ('liquid', 45), ('johansson', 45), ('auditorium', 45), ('exhibit', 45), ('spike', 45), ('reinstated', 45), ('cafe', 45), ('prolonged', 45), ('preston', 45), ('aviv', 45), ('disgraced', 45), ('ghost', 45), ('clearly', 45), ('erie', 45), ('groin', 45), ('depp', 45), ('dentist', 45), ('repay', 45), ('gather', 45), ('judgment', 45), ('jayz', 45), ('goodwill', 45), ('scholar', 45), ('derailed', 45), ('beloved', 45), ('vast', 45), ('reelected', 45), ('gonzalez', 45), ('rev', 45), ('38yearold', 45), ('dramatically', 45), ('certified', 45), ('hacked', 45), ('strait', 45), ('shutting', 45), ('carlisle', 45), ('prosperity', 45), ('greene', 45), ('doha', 45), ('cage', 45), ('firmly', 45), ('tipped', 45), ('tuition', 45), ('sanford', 45), ('ligament', 45), ('boundary', 45), ('tenant', 45), ('winfrey', 45), ('safer', 45), ('hr', 45), ('hathaway', 45), ('breakdown', 45), ('sad', 45), ('nutrition', 45), ('sander', 45), ('samuel', 45), ('trademark', 45), ('tube', 45), ('tanzania', 45), ('clayton', 45), ('aa', 45), ('consulate', 45), ('katrina', 45), ('testify', 45), ('promoter', 45), ('hospitality', 45), ('casting', 45), ('requires', 45), ('ethiopia', 45), ('sting', 45), ('paterson', 45), ('lined', 45), ('disposal', 45), ('faulty', 45), ('highlighted', 45), ('slower', 45), ('macedonia', 45), ('confirmation', 45), ('convert', 45), ('wrestler', 45), ('highlighting', 45), ('fragile', 45), ('architect', 45), ('businessmen', 44), ('chilean', 44), ('explains', 44), ('sprained', 44), ('diaz', 44), ('importer', 44), ('alien', 44), ('disappointment', 44), ('raymond', 44), ('soviet', 44), ('samantha', 44), ('heather', 44), ('aol', 44), ('anand', 44), ('sole', 44), ('10year', 44), ('paralympic', 44), ('distributing', 44), ('burma', 44), ('moral', 44), ('script', 44), ('refuse', 44), ('etihad', 44), ('reaffirmed', 44), ('stanford', 44), ('atletico', 44), ('durban', 44), ('diana', 44), ('surfaced', 44), ('pocket', 44), ('jpmorgan', 44), ('102', 44), ('destruction', 44), ('column', 44), ('detailed', 44), ('kuala', 44), ('turnover', 44), ('constituent', 44), ('santos', 44), ('felix', 44), ('onetime', 44), ('geithner', 44), ('funny', 44), ('planting', 44), ('ceiling', 44), ('lagos', 44), ('chose', 44), ('03', 44), ('aussie', 44), ('®', 44), ('dump', 44), ('georgetown', 44), ('junction', 44), ('desk', 44), ('newsday', 44), ('noting', 44), ('mirror', 44), ('neighboring', 44), ('blackhawks', 44), ('ge', 44), ('youngest', 44), ('richards', 44), ('boutique', 44), ('deepening', 44), ('retreat', 44), ('symphony', 44), ('webber', 44), ('establishing', 44), ('ukbased', 44), ('imaging', 44), ('tunnel', 44), ('peterson', 44), ('module', 44), ('tycoon', 44), ('richardson', 44), ('otherwise', 44), ('ltte', 44), ('longawaited', 44), ('plug', 44), ('hbo', 44), ('g20', 44), ('villager', 44), ('object', 44), ('colonial', 44), ('backdrop', 44), ('afc', 44), ('anchorage', 44), ('steroid', 44), ('graduation', 44), ('scanner', 44), ('merrill', 44), ('carroll', 44), ('menu', 44), ('nearing', 44), ('publish', 44), ('wholly', 44), ('tale', 44), ('unemployed', 44), ('starbucks', 44), ('croatia', 43), ('scarlett', 43), ('puppy', 43), ('11yearold', 43), ('umpire', 43), ('itv', 43), ('mentor', 43), ('li', 43), ('canuck', 43), ('colour', 43), ('cab', 43), ('9th', 43), ('palo', 43), ('staple', 43), ('treasure', 43), ('astros', 43), ('transformation', 43), ('toxic', 43), ('sao', 43), ('consent', 43), ('fourday', 43), ('touching', 43), ('acid', 43), ('27th', 43), ('panic', 43), ('sunshine', 43), ('aamir', 43), ('duchess', 43), ('cleric', 43), ('gateway', 43), ('pared', 43), ('witnessed', 43), ('ana', 43), ('photograph', 43), ('ammunition', 43), ('payable', 43), ('shortterm', 43), ('negotiating', 43), ('chaudhry', 43), ('gabrielle', 43), ('counsel', 43), ('scenario', 43), ('cavalier', 43), ('gilbert', 43), ('sprinter', 43), ('portable', 43), ('pier', 43), ('copyright', 43), ('fork', 43), ('strausskahn', 43), ('indicate', 43), ('vista', 43), ('weeklong', 43), ('remarkable', 43), ('expenditure', 43), ('coral', 43), ('contracted', 43), ('doherty', 43), ('micro', 43), ('tyre', 43), ('coup', 43), ('tracy', 43), ('dhoni', 43), ('outgoing', 43), ('socialist', 43), ('jorge', 43), ('capello', 43), ('liberation', 43), ('searched', 43), ('renault', 43), ('blagojevich', 43), ('herman', 43), ('salisbury', 43), ('database', 43), ('cow', 43), ('tier', 43), ('filling', 43), ('testified', 43), ('geological', 43), ('leonardo', 43), ('forever', 43), ('upside', 43), ('therapeutic', 43), ('myrtle', 43), ('incorporated', 43), ('down', 43), ('strictly', 43), ('typhoon', 43), ('ranging', 43), ('ra', 43), ('aging', 43), ('amended', 43), ('technique', 43), ('honolulu', 43), ('delighted', 43), ('srinagar', 43), ('expires', 42), ('yorkbased', 42), ('reunion', 42), ('daytime', 42), ('reconstruction', 42), ('suggestion', 42), ('denying', 42), ('rcmp', 42), ('kg', 42), ('rossi', 42), ('recognised', 42), ('lightweight', 42), ('hide', 42), ('lynn', 42), ('bachmann', 42), ('nottingham', 42), ('sixmonth', 42), ('wi', 42), ('ml', 42), ('bharti', 42), ('airtel', 42), ('visual', 42), ('cattle', 42), ('seasonally', 42), ('ensuring', 42), ('barton', 42), ('councilman', 42), ('johan', 42), ('cathedral', 42), ('kamal', 42), ('nervous', 42), ('volkswagen', 42), ('yusuf', 42), ('finalized', 42), ('ingredient', 42), ('abduction', 42), ('cave', 42), ('watford', 42), ('militia', 42), ('bulldog', 42), ('carrie', 42), ('royalty', 42), ('40000', 42), ('megan', 42), ('longrunning', 42), ('properly', 42), ('aliyev', 42), ('malaria', 42), ('relatively', 42), ('wii', 42), ('mesa', 42), ('constable', 42), ('rory', 42), ('diamondback', 42), ('07', 42), ('marginally', 42), ('surrender', 42), ('400000', 42), ('halloween', 42), ('knoxville', 42), ('classified', 42), ('bangladeshi', 42), ('coyote', 42), ('albion', 42), ('lone', 42), ('rico', 42), ('examiner', 42), ('composite', 42), ('mick', 42), ('toledo', 42), ('burger', 42), ('animated', 42), ('lawn', 42), ('unanimous', 42), ('diva', 42), ('ethiopian', 42), ('naomi', 42), ('elsewhere', 42), ('traveller', 42), ('kickoff', 42), ('cal', 42), ('punch', 42), ('remanded', 42), ('spate', 42), ('pretoria', 42), ('dealership', 42), ('blockade', 42), ('splitting', 42), ('basin', 42), ('quota', 42), ('afraid', 42), ('supplement', 42), ('virtually', 42), ('cain', 42), ('djokovic', 42), ('zsa', 42), ('laureate', 42), ('amongst', 42), ('fairfax', 42), ('raul', 42), ('twenty', 42), ('malcolm', 42), ('fertilizer', 42), ('oral', 42), ('dylan', 42), ('reunited', 42), ('sunny', 41), ('firmer', 41), ('litre', 41), ('bale', 41), ('tsx', 41), ('mode', 41), ('committing', 41), ('loud', 41), ('baton', 41), ('22nd', 41), ('alqaida', 41), ('explorer', 41), ('shahbaz', 41), ('outskirt', 41), ('paving', 41), ('comfort', 41), ('indigenous', 41), ('friendship', 41), ('alto', 41), ('respiratory', 41), ('appreciation', 41), ('teeth', 41), ('array', 41), ('grip', 41), ('berkeley', 41), ('donate', 41), ('reno', 41), ('der', 41), ('briton', 41), ('elder', 41), ('martial', 41), ('oppose', 41), ('wallaby', 41), ('achieving', 41), ('bnp', 41), ('eden', 41), ('crawford', 41), ('vick', 41), ('sinking', 41), ('whopping', 41), ('merge', 41), ('testimony', 41), ('narcotic', 41), ('groundbreaking', 41), ('jeffrey', 41), ('f1', 41), ('proof', 41), ('97', 41), ('180', 41), ('paramedic', 41), ('evacuate', 41), ('lumpur', 41), ('inform', 41), ('usain', 41), ('105', 41), ('heated', 41), ('skating', 41), ('attracted', 41), ('28th', 41), ('shrank', 41), ('notebook', 41), ('playboy', 41), ('faction', 41), ('therefore', 41), ('bracing', 41), ('locker', 41), ('confederation', 41), ('coronation', 41), ('gearing', 41), ('holland', 41), ('nobody', 41), ('sanjay', 41), ('corrupt', 41), ('counterfeit', 41), ('pursuing', 41), ('freeagent', 41), ('45yearold', 41), ('advani', 41), ('breakaway', 41), ('93', 41), ('allied', 41), ('accountability', 41), ('zurich', 41), ('infected', 41), ('passion', 41), ('commenced', 41), ('fda', 41), ('malawi', 41), ('rim', 41), ('satisfaction', 41), ('reservoir', 41), ('mae', 41), ('javier', 41), ('harvey', 41), ('flown', 41), ('kurt', 41), ('bedroom', 41), ('correctional', 41), ('nicki', 41), ('radar', 41), ('seemed', 41), ('conclusion', 41), ('o2', 41), ('notre', 41), ('nitish', 41), ('00', 41), ('aurora', 41), ('sedan', 40), ('highlevel', 40), ('viktor', 40), ('rouge', 40), ('grab', 40), ('kashmiri', 40), ('iceland', 40), ('enters', 40), ('mounted', 40), ('pass', 40), ('obtain', 40), ('41yearold', 40), ('chapel', 40), ('demonstrated', 40), ('1960s', 40), ('predict', 40), ('statutory', 40), ('250000', 40), ('450', 40), ('airplane', 40), ('tense', 40), ('cocacola', 40), ('restoration', 40), ('ramesh', 40), ('gazprom', 40), ('motel', 40), ('09', 40), ('elect', 40), ('lifting', 40), ('crow', 40), ('laser', 40), ('grey', 40), ('craft', 40), ('costcutting', 40), ('endeavour', 40), ('occupation', 40), ('convinced', 40), ('discussing', 40), ('detection', 40), ('palestine', 40), ('ideal', 40), ('outperform', 40), ('lengthy', 40), ('belmont', 40), ('runaway', 40), ('ryanair', 40), ('reacted', 40), ('silva', 40), ('triggering', 40), ('marshal', 40), ('mercedes', 40), ('upward', 40), ('experimental', 40), ('surrounded', 40), ('controlling', 40), ('salvation', 40), ('drake', 40), ('willie', 40), ('printer', 40), ('trim', 40), ('myspace', 40), ('exceeded', 40), ('mancini', 40), ('nv', 40), ('animation', 40), ('isolated', 40), ('semi', 40), ('letting', 40), ('colony', 40), ('contamination', 40), ('stopping', 40), ('coventry', 40), ('mahinda', 40), ('serb', 40), ('auditor', 40), ('allowance', 40), ('aleague', 40), ('slugger', 40), ('8000', 40), ('whatever', 40), ('jew', 40), ('himachal', 40), ('lodge', 40), ('benitez', 40), ('hotspur', 40), ('dock', 40), ('surging', 40), ('asiapacific', 40), ('alley', 40), ('juror', 40), ('footprint', 40), ('discover', 40), ('stalking', 40), ('plunge', 40), ('garbage', 40), ('vacancy', 40), ('sussex', 40), ('intoxicated', 40), ('intensified', 40), ('realtime', 40), ('marketer', 40), ('hood', 40), ('gps', 40), ('basket', 40), ('ike', 40), ('nyse', 40), ('havana', 40), ('breathing', 40), ('invite', 40), ('uzbekistan', 40), ('entertainer', 40), ('minaj', 40), ('hiked', 40), ('sergeant', 40), ('saeed', 40), ('lte', 40), ('manufacture', 40), ('bicycle', 40), ('belgrade', 40), ('minsk', 40), ('none', 40), ('havent', 39), ('kay', 39), ('intelligent', 39), ('addict', 39), ('preview', 39), ('honoring', 39), ('eliminating', 39), ('bean', 39), ('1600', 39), ('rated', 39), ('looming', 39), ('stimulate', 39), ('bizarre', 39), ('math', 39), ('mayo', 39), ('gerard', 39), ('telekom', 39), ('201213', 39), ('coordination', 39), ('actively', 39), ('42yearold', 39), ('mediterranean', 39), ('predicting', 39), ('greenville', 39), ('luck', 39), ('cypriot', 39), ('khyber', 39), ('harsh', 39), ('instant', 39), ('oneal', 39), ('biotechnology', 39), ('anticipation', 39), ('caroline', 39), ('chartered', 39), ('implication', 39), ('commentator', 39), ('unlawful', 39), ('lebron', 39), ('attached', 39), ('letterman', 39), ('stormed', 39), ('firsthalf', 39), ('pictured', 39), ('everywhere', 39), ('simmons', 39), ('johnston', 39), ('corridor', 39), ('revelation', 39), ('mvp', 39), ('demolition', 39), ('talented', 39), ('jam', 39), ('trafford', 39), ('punk', 39), ('vettel', 39), ('bargaining', 39), ('rutgers', 39), ('shifted', 39), ('whilst', 39), ('happens', 39), ('hemsworth', 39), ('inflow', 39), ('diver', 39), ('piracy', 39), ('revenge', 39), ('afford', 39), ('destroying', 39), ('exile', 39), ('min', 39), ('va', 39), ('adjourned', 39), ('pratibha', 39), ('knox', 39), ('prefer', 39), ('cure', 39), ('debris', 39), ('purdue', 39), ('participated', 39), ('islander', 39), ('paula', 39), ('davy', 39), ('anywhere', 39), ('8th', 39), ('humphries', 39), ('partly', 39), ('sovereignty', 39), ('grizzly', 39), ('surprising', 39), ('quietly', 39), ('cohost', 39), ('respective', 39), ('ejected', 39), ('sikh', 39), ('predator', 39), ('threetime', 39), ('freestyle', 39), ('longoria', 39), ('twovehicle', 39), ('tevez', 39), ('clemson', 39), ('balloon', 39), ('sabah', 39), ('hodgson', 39), ('renewal', 39), ('sharapova', 39), ('selloff', 39), ('delaying', 39), ('ind', 39), ('mercantile', 39), ('background', 39), ('135', 39), ('absolute', 39), ('usc', 39), ('except', 39), ('subdued', 39), ('accelerate', 39), ('marsh', 39), ('lefthander', 39), ('scrapped', 38), ('mayoral', 38), ('odi', 38), ('burton', 38), ('fails', 38), ('tightening', 38), ('gotten', 38), ('landscape', 38), ('ftse', 38), ('handing', 38), ('motogp', 38), ('here', 38), ('cleaning', 38), ('turnaround', 38), ('taiwanese', 38), ('rib', 38), ('referred', 38), ('exercised', 38), ('hannah', 38), ('batman', 38), ('kurdish', 38), ('neither', 38), ('ponting', 38), ('historian', 38), ('freezing', 38), ('ahmedabad', 38), ('barely', 38), ('bernie', 38), ('isaac', 38), ('govt', 38), ('bump', 38), ('deeper', 38), ('instructor', 38), ('beirut', 38), ('overwhelmingly', 38), ('33yearold', 38), ('enables', 38), ('retreated', 38), ('robot', 38), ('literally', 38), ('tribe', 38), ('champ', 38), ('boil', 38), ('flee', 38), ('negotiate', 38), ('slogan', 38), ('grandfather', 38), ('stunned', 38), ('coin', 38), ('borrower', 38), ('bart', 38), ('experiencing', 38), ('blackpool', 38), ('worcester', 38), ('contributed', 38), ('ft', 38), ('complaining', 38), ('convoy', 38), ('rid', 38), ('surprisingly', 38), ('ethanol', 38), ('ordinance', 38), ('fault', 38), ('brunswick', 38), ('wheelchair', 38), ('directing', 38), ('deportation', 38), ('viral', 38), ('lacrosse', 38), ('lafayette', 38), ('bhutto', 38), ('rawalpindi', 38), ('steering', 38), ('exploitation', 38), ('300000', 38), ('campaigning', 38), ('10yearold', 38), ('bingo', 38), ('angola', 38), ('cornwall', 38), ('twoyearold', 38), ('transparent', 38), ('tone', 38), ('vandalism', 38), ('pal', 38), ('adobe', 38), ('nbcs', 38), ('yadav', 38), ('bulk', 38), ('machinery', 38), ('concentrate', 38), ('triumph', 38), ('revamped', 38), ('pike', 38), ('homer', 38), ('34yearold', 38), ('marina', 38), ('powered', 38), ('6000', 38), ('sultan', 38), ('fracture', 38), ('willis', 38), ('mob', 38), ('diane', 38), ('anaheim', 38), ('counting', 38), ('1400', 38), ('sophomore', 38), ('handful', 38), ('bible', 38), ('uncle', 38), ('salon', 37), ('abraham', 37), ('generally', 37), ('restive', 37), ('furious', 37), ('barred', 37), ('latter', 37), ('se', 37), ('finalised', 37), ('emotion', 37), ('deploy', 37), ('skilled', 37), ('levi', 37), ('surviving', 37), ('accord', 37), ('reopening', 37), ('peruvian', 37), ('downward', 37), ('scorer', 37), ('backyard', 37), ('abdominal', 37), ('ferdinand', 37), ('sara', 37), ('voiced', 37), ('mri', 37), ('24th', 37), ('175', 37), ('clemens', 37), ('kraft', 37), ('southampton', 37), ('nonstop', 37), ('forgery', 37), ('gunfire', 37), ('pad', 37), ('impossible', 37), ('lou', 37), ('knockout', 37), ('damon', 37), ('negotiator', 37), ('liga', 37), ('jamaican', 37), ('serf', 37), ('monkey', 37), ('weighing', 37), ('booming', 37), ('sandusky', 37), ('separated', 37), ('thermal', 37), ('congo', 37), ('advocacy', 37), ('schumacher', 37), ('commencement', 37), ('cabin', 37), ('crossborder', 37), ('refuge', 37), ('halle', 37), ('knocking', 37), ('canterbury', 37), ('handgun', 37), ('bias', 37), ('firstever', 37), ('guinness', 37), ('outing', 37), ('oasis', 37), ('wipro', 37), ('harare', 37), ('novelist', 37), ('40yearold', 37), ('bandit', 37), ('rajapaksa', 37), ('augusta', 37), ('hernandez', 37), ('rwanda', 37), ('delicious', 37), ('threegame', 37), ('consolidated', 37), ('architecture', 37), ('klitschko', 37), ('melissa', 37), ('vampire', 37), ('salmonella', 37), ('deliberately', 37), ('hayden', 37), ('macau', 37), ('forestry', 37), ('rumored', 37), ('elli', 37), ('99', 37), ('ankara', 37), ('threeyearold', 37), ('coma', 37), ('olmert', 37), ('chrome', 37), ('scrutiny', 37), ('algeria', 37), ('mirza', 37), ('lingering', 37), ('leonard', 37), ('donating', 37), ('irene', 37), ('rica', 37), ('gradually', 37), ('dengue', 37), ('manufactured', 37), ('stranger', 37), ('attracting', 37), ('irvine', 37), ('boise', 37), ('unfair', 37), ('cease', 37), ('sgt', 37), ('dealt', 37), ('baba', 37), ('eager', 37), ('webb', 37), ('pile', 37), ('dale', 37), ('accreditation', 37), ('webster', 37), ('iris', 37), ('transmitted', 36), ('competitiveness', 36), ('personally', 36), ('trent', 36), ('pleasant', 36), ('incredibly', 36), ('strange', 36), ('usled', 36), ('supervision', 36), ('syndrome', 36), ('usually', 36), ('diversified', 36), ('cartoon', 36), ('eugene', 36), ('150000', 36), ('stunt', 36), ('transform', 36), ('06', 36), ('bse', 36), ('purse', 36), ('pierre', 36), ('contempt', 36), ('grande', 36), ('shrink', 36), ('ambition', 36), ('slovakia', 36), ('frederick', 36), ('denounced', 36), ('spinner', 36), ('nigel', 36), ('cleanup', 36), ('ga', 36), ('pulse', 36), ('richest', 36), ('ho', 36), ('assess', 36), ('sewer', 36), ('collecting', 36), ('bahraini', 36), ('iftikhar', 36), ('contaminated', 36), ('bahamas', 36), ('happiness', 36), ('supremo', 36), ('sacrifice', 36), ('fukushima', 36), ('literature', 36), ('antidoping', 36), ('crusader', 36), ('vale', 36), ('mosquito', 36), ('ralph', 36), ('alexandria', 36), ('settler', 36), ('viewing', 36), ('burke', 36), ('capped', 36), ('panda', 36), ('fm', 36), ('frequent', 36), ('fence', 36), ('teaming', 36), ('200809', 36), ('rebate', 36), ('joan', 36), ('cumberland', 36), ('115', 36), ('fedex', 36), ('assad', 36), ('cannes', 36), ('checking', 36), ('hewitt', 36), ('denies', 36), ('hampton', 36), ('conway', 36), ('happening', 36), ('108', 36), ('autonomous', 36), ('wee', 36), ('immunity', 36), ('cd', 36), ('minogue', 36), ('secretarygeneral', 36), ('â€', 36), ('lucrative', 36), ('fatality', 36), ('fulltime', 36), ('loyal', 36), ('amir', 36), ('contentious', 36), ('ngo', 36), ('protocol', 36), ('dining', 36), ('shepherd', 36), ('hon', 36), ('aj', 36), ('medalist', 36), ('750', 36), ('starred', 36), ('morocco', 36), ('macon', 36), ('cult', 36), ('leaking', 36), ('julius', 36), ('fastgrowing', 36), ('jenkins', 36), ('substitute', 36), ('dogg', 36), ('lauren', 36), ('redknapp', 36), ('topeka', 36), ('memorandum', 36), ('actual', 36), ('miracle', 36), ('26th', 36), ('daredevil', 36), ('scared', 36), ('manipur', 35), ('daylight', 35), ('chairperson', 35), ('ramirez', 35), ('bread', 35), ('filmed', 35), ('improves', 35), ('103', 35), ('chess', 35), ('makeover', 35), ('kobe', 35), ('scan', 35), ('mali', 35), ('enabling', 35), ('pot', 35), ('smile', 35), ('ledger', 35), ('tore', 35), ('peacefully', 35), ('admit', 35), ('uruguay', 35), ('kiwi', 35), ('balanced', 35), ('icici', 35), ('epidemic', 35), ('clara', 35), ('fullyear', 35), ('kidman', 35), ('mw', 35), ('intercontinental', 35), ('casual', 35), ('didier', 35), ('contributing', 35), ('hook', 35), ('mcdonalds', 35), ('breached', 35), ('strongest', 35), ('multinational', 35), ('deserve', 35), ('disc', 35), ('promotional', 35), ('forbes', 35), ('biological', 35), ('pen', 35), ('clue', 35), ('lokpal', 35), ('incredible', 35), ('rodgers', 35), ('pedro', 35), ('atp', 35), ('eid', 35), ('630', 35), ('punching', 35), ('defendant', 35), ('garrett', 35), ('ipswich', 35), ('monaco', 35), ('underwood', 35), ('1300', 35), ('bullion', 35), ('wore', 35), ('bride', 35), ('understands', 35), ('gabriel', 35), ('raft', 35), ('telstra', 35), ('sensor', 35), ('burnley', 35), ('wa', 35), ('connectivity', 35), ('vocal', 35), ('archive', 35), ('luncheon', 35), ('marred', 35), ('busiest', 35), ('perspective', 35), ('wondering', 35), ('icy', 35), ('restart', 35), ('infosys', 35), ('motivated', 35), ('predicts', 35), ('nassau', 35), ('inked', 35), ('fraudulent', 35), ('downing', 35), ('breaching', 35), ('endorsing', 35), ('solicitor', 35), ('wen', 35), ('rejecting', 35), ('zac', 35), ('relevant', 35), ('lancashire', 35), ('alonso', 35), ('verge', 35), ('brilliant', 35), ('ordering', 35), ('geo', 35), ('portman', 35), ('49ers', 35), ('wba', 35), ('acted', 35), ('panama', 35), ('volvo', 35), ('crushing', 35), ('guantanamo', 35), ('butt', 35), ('slapped', 35), ('logan', 35), ('lisbon', 35), ('unsecured', 35), ('evan', 35), ('log', 35), ('aka', 35), ('asthma', 35), ('stakeholder', 35), ('snake', 35), ('perez', 35), ('decisive', 35), ('nickel', 35), ('maturity', 35), ('surfer', 35), ('safeguard', 35), ('leone', 34), ('dual', 34), ('arquette', 34), ('bug', 34), ('gosselin', 34), ('medallist', 34), ('lehigh', 34), ('aire', 34), ('havoc', 34), ('licensed', 34), ('tide', 34), ('credited', 34), ('tomas', 34), ('huffington', 34), ('lorry', 34), ('alicia', 34), ('asserted', 34), ('inner', 34), ('nz', 34), ('driveby', 34), ('unnamed', 34), ('duet', 34), ('flexible', 34), ('airlifted', 34), ('anticorruption', 34), ('bass', 34), ('curfew', 34), ('linda', 34), ('impressed', 34), ('jared', 34), ('stockholder', 34), ('headquartered', 34), ('moammar', 34), ('200910', 34), ('buoyed', 34), ('rear', 34), ('yeddyurappa', 34), ('employed', 34), ('copa', 34), ('slim', 34), ('intimate', 34), ('booth', 34), ('underlying', 34), ('jermaine', 34), ('youve', 34), ('pfizer', 34), ('cord', 34), ('exceed', 34), ('shrine', 34), ('richter', 34), ('evolution', 34), ('shaw', 34), ('timber', 34), ('burnt', 34), ('haley', 34), ('rss', 34), ('commemorate', 34), ('auctioned', 34), ('surgical', 34), ('decreased', 34), ('vaccination', 34), ('whip', 34), ('gmt', 34), ('adele', 34), ('alumnus', 34), ('improper', 34), ('rampage', 34), ('dundee', 34), ('107', 34), ('rodham', 34), ('vandal', 34), ('endangerment', 34), ('confidential', 34), ('lehman', 34), ('chan', 34), ('104', 34), ('connecting', 34), ('mahendra', 34), ('bafana', 34), ('gingrich', 34), ('darling', 34), ('collector', 34), ('tenure', 34), ('murderer', 34), ('repurchase', 34), ('newfoundland', 34), ('constant', 34), ('curry', 34), ('bidder', 34), ('collapsing', 34), ('sheboygan', 34), ('politically', 34), ('entirely', 34), ('fragrance', 34), ('generator', 34), ('socialite', 34), ('introduces', 34), ('primetime', 34), ('nitin', 34), ('zach', 34), ('blade', 34), ('abandon', 34), ('leap', 34), ('106', 34), ('bacteria', 34), ('silent', 34), ('caretaker', 34), ('unlike', 34), ('catching', 34), ('funded', 34), ('pure', 34), ('busch', 34), ('maldives', 34), ('mickey', 34), ('hazardous', 34), ('bash', 34), ('deeply', 34), ('integrate', 34), ('pistol', 34), ('ailment', 34), ('examine', 34), ('roommate', 34), ('devon', 34), ('hezbollah', 34), ('partnered', 34), ('diary', 34), ('legally', 34), ('freak', 34), ('tebow', 34), ('poster', 34), ('bullpen', 34), ('shooter', 34), ('impending', 34), ('paparazzo', 34), ('carol', 34), ('alzheimers', 34), ('31st', 34), ('oneill', 34), ('gangster', 34), ('objection', 34), ('mayweather', 34), ('recovers', 34), ('vitamin', 33), ('helena', 33), ('standout', 33), ('ratio', 33), ('nerve', 33), ('megastar', 33), ('equivalent', 33), ('maradona', 33), ('llp', 33), ('kochi', 33), ('attraction', 33), ('kingfisher', 33), ('basu', 33), ('spokane', 33), ('buenos', 33), ('leisure', 33), ('longstanding', 33), ('undefeated', 33), ('advancing', 33), ('soybean', 33), ('choppy', 33), ('pietersen', 33), ('deemed', 33), ('tabloid', 33), ('nano', 33), ('cork', 33), ('klum', 33), ('dana', 33), ('expressing', 33), ('iphones', 33), ('wrongful', 33), ('overshadowed', 33), ('interface', 33), ('profession', 33), ('pr', 33), ('lennon', 33), ('sealed', 33), ('98', 33), ('woodland', 33), ('clay', 33), ('thirdlargest', 33), ('assailant', 33), ('singlevehicle', 33), ('please', 33), ('washing', 33), ('pmln', 33), ('mian', 33), ('cpi', 33), ('hm', 33), ('eli', 33), ('rao', 33), ('tighten', 33), ('courtesy', 33), ('turk', 33), ('sidney', 33), ('crosby', 33), ('rein', 33), ('carr', 33), ('shifting', 33), ('advertisement', 33), ('bret', 33), ('correct', 33), ('pharma', 33), ('gp', 33), ('anz', 33), ('libel', 33), ('psychological', 33), ('emily', 33), ('owed', 33), ('listen', 33), ('concord', 33), ('deepika', 33), ('jubilee', 33), ('snoop', 33), ('onboard', 33), ('persian', 33), ('drain', 33), ('lobbyist', 33), ('unveiling', 33), ('clip', 33), ('wouldbe', 33), ('lure', 33), ('avoiding', 33), ('busted', 33), ('gavin', 33), ('twoweek', 33), ('outreach', 33), ('protein', 33), ('surf', 33), ('kazakh', 33), ('divided', 33), ('shannon', 33), ('kodak', 33), ('smashing', 33), ('closest', 33), ('bronx', 33), ('affiliated', 33), ('performanceenhancing', 33), ('supplying', 33), ('stan', 33), ('shia', 33), ('messi', 33), ('goalless', 33), ('blocking', 33), ('obese', 33), ('bakery', 33), ('clot', 33), ('matchup', 33), ('230', 33), ('expired', 33), ('obsessed', 33), ('janet', 33), ('pan', 33), ('fiveday', 33), ('christine', 33), ('seng', 33), ('shawn', 33), ('chronicle', 33), ('westwood', 33), ('newcomer', 33), ('axe', 33), ('africanamerican', 33), ('hillsborough', 33), ('chester', 33), ('bosnian', 33), ('highend', 33), ('hospice', 33), ('threaten', 33), ('1800', 33), ('maestro', 33), ('stray', 33), ('obstruction', 33), ('cnbc', 33), ('follows', 33), ('earl', 33), ('smash', 33), ('doncaster', 33), ('buccaneer', 33), ('submarine', 33), ('multimedia', 33), ('naming', 33), ('stricken', 33), ('jaw', 33), ('livestock', 33), ('leigh', 33), ('costume', 33), ('fraser', 33), ('schoolgirl', 33), ('jackpot', 33), ('regardless', 33), ('livingston', 33), ('threemonth', 33), ('staging', 33), ('authorized', 33), ('boulder', 33), ('headache', 33), ('mood', 33), ('nail', 33), ('conversion', 33), ('predecessor', 33), ('pawlenty', 33), ('usage', 33), ('von', 33), ('prasad', 33), ('realty', 33), ('cm', 33), ('jade', 32), ('aquino', 32), ('secretariat', 32), ('mitsubishi', 32), ('fantastic', 32), ('29th', 32), ('balochistan', 32), ('sunni', 32), ('allamerican', 32), ('methamphetamine', 32), ('secondround', 32), ('bt', 32), ('harlem', 32), ('drum', 32), ('switched', 32), ('vetoed', 32), ('dissent', 32), ('procurement', 32), ('08', 32), ('bruised', 32), ('seventime', 32), ('newt', 32), ('organising', 32), ('pea', 32), ('interfax', 32), ('exploring', 32), ('cautioned', 32), ('advertiser', 32), ('fog', 32), ('baron', 32), ('welcoming', 32), ('clock', 32), ('rubbish', 32), ('flooded', 32), ('ci', 32), ('automated', 32), ('commonly', 32), ('sail', 32), ('jenson', 32), ('phrase', 32), ('dish', 32), ('dawson', 32), ('slaying', 32), ('rainbow', 32), ('gill', 32), ('zimmerman', 32), ('immune', 32), ('petrochemical', 32), ('sergei', 32), ('brace', 32), ('motorway', 32), ('bismarck', 32), ('loser', 32), ('audition', 32), ('il', 32), ('bae', 32), ('ultimately', 32), ('rebecca', 32), ('thrilling', 32), ('locally', 32), ('londonbased', 32), ('refund', 32), ('dustin', 32), ('tent', 32), ('ecosystem', 32), ('sacred', 32), ('rai', 32), ('franco', 32), ('colon', 32), ('polar', 32), ('crowded', 32), ('switching', 32), ('choosing', 32), ('parkinson', 32), ('admiral', 32), ('impaired', 32), ('akbar', 32), ('accordance', 32), ('roethlisberger', 32), ('excess', 32), ('bolivia', 32), ('yerevan', 32), ('costing', 32), ('chasing', 32), ('2018', 32), ('expands', 32), ('wonderful', 32), ('embezzlement', 32), ('spying', 32), ('merit', 32), ('binghamton', 32), ('lea', 32), ('112', 32), ('tactic', 32), ('galway', 32), ('cheltenham', 32), ('comcast', 32), ('imagine', 32), ('wbo', 32), ('primarily', 32), ('insurgency', 32), ('exist', 32), ('oversight', 32), ('trash', 32), ('jaipur', 32), ('12000', 32), ('saskatoon', 32), ('jain', 32), ('jiabao', 32), ('lk', 32), ('slur', 32), ('autobiography', 32), ('marilyn', 32), ('mid', 32), ('reversed', 32), ('convict', 32), ('misleading', 32), ('turnout', 32), ('deck', 32), ('delivers', 32), ('daly', 32), ('rosa', 32), ('snapping', 32), ('bikini', 32), ('mainstream', 32), ('commenting', 32), ('reunite', 32), ('throne', 32), ('tajikistan', 32), ('horrific', 32), ('hottest', 32), ('shetty', 32), ('defect', 32), ('gloucester', 32), ('grower', 32), ('cartel', 32), ('methodist', 32), ('propaganda', 32), ('nun', 32), ('mentioned', 32), ('pelosi', 32), ('prevented', 32), ('bachelor', 32), ('dementia', 32), ('continuous', 32), ('priyanka', 32), ('brutally', 32), ('blunt', 32), ('guild', 32), ('dumping', 32), ('intentionally', 32), ('convince', 32), ('brooke', 32), ('horn', 32), ('bypass', 32), ('beau', 32), ('twelve', 32), ('stuff', 32), ('sufficient', 32), ('halftime', 32), ('prolific', 32), ('alice', 32), ('abbey', 32), ('deteriorating', 32), ('duluth', 32), ('bipartisan', 32), ('enrollment', 32), ('kerr', 31), ('imposing', 31), ('demonstrate', 31), ('jacques', 31), ('festive', 31), ('dismal', 31), ('hogan', 31), ('dust', 31), ('poured', 31), ('wartorn', 31), ('opposing', 31), ('salina', 31), ('wanting', 31), ('raceway', 31), ('barrack', 31), ('literacy', 31), ('smoker', 31), ('unofficial', 31), ('tendon', 31), ('intoxication', 31), ('nod', 31), ('shake', 31), ('waziristan', 31), ('ashore', 31), ('profitable', 31), ('interviewed', 31), ('hank', 31), ('wooden', 31), ('telangana', 31), ('apprentice', 31), ('2g', 31), ('neighbourhood', 31), ('sr', 31), ('wealthy', 31), ('fallout', 31), ('lied', 31), ('implementing', 31), ('telugu', 31), ('subdivision', 31), ('najib', 31), ('comprising', 31), ('memoir', 31), ('ambush', 31), ('lucie', 31), ('elk', 31), ('boone', 31), ('doll', 31), ('terrible', 31), ('adequate', 31), ('cubic', 31), ('unilever', 31), ('assumed', 31), ('everyday', 31), ('gwyneth', 31), ('ala', 31), ('porsche', 31), ('traveled', 31), ('garner', 31), ('bentley', 31), ('protestors', 31), ('publicity', 31), ('gloria', 31), ('sanctuary', 31), ('widening', 31), ('reign', 31), ('regina', 31), ('pistorius', 31), ('nagar', 31), ('ilham', 31), ('deadliest', 31), ('44yearold', 31), ('clarkson', 31), ('laurent', 31), ('negligent', 31), ('conan', 31), ('heineken', 31), ('leinster', 31), ('wallet', 31), ('spaniard', 31), ('brighton', 31), ('enrichment', 31), ('powerhouse', 31), ('katherine', 31), ('vogue', 31), ('pianist', 31), ('receives', 31), ('marvel', 31), ('rehearsal', 31), ('whistleblower', 31), ('interaction', 31), ('mtn', 31), ('answered', 31), ('optical', 31), ('extent', 31), ('belarusian', 31), ('millennium', 31), ('msnbc', 31), ('belong', 31), ('chevrolet', 31), ('netflix', 31), ('upstate', 31), ('costly', 31), ('twist', 31), ('accountant', 31), ('1997', 31), ('antitrust', 31), ('applying', 31), ('eligibility', 31), ('curtis', 31), ('shirt', 31), ('luxembourg', 31), ('monte', 31), ('adjustment', 31), ('copenhagen', 31), ('outlined', 31), ('37yearold', 31), ('harder', 31), ('bidding', 31), ('skiing', 31), ('deny', 31), ('220', 31), ('cambodia', 31), ('smooth', 31), ('skier', 31), ('60th', 31), ('tab', 31), ('evil', 31), ('wellness', 31), ('listening', 31), ('3yearold', 31), ('wta', 31), ('madoff', 31), ('berkshire', 31), ('prediction', 31), ('regularly', 31), ('subprime', 31), ('fannie', 31), ('nephew', 31), ('papua', 31), ('mozambique', 31), ('downside', 31), ('atmosphere', 31), ('java', 31), ('regained', 31), ('prescribed', 31), ('pursuant', 31), ('nepali', 31), ('drag', 31), ('financially', 31), ('benazir', 31), ('anfield', 31), ('colonel', 31), ('locality', 31), ('theyll', 31), ('1999', 31), ('fiber', 31), ('maori', 31), ('directive', 31), ('migration', 31), ('demolished', 31), ('punish', 31), ('hepatitis', 31), ('patriarch', 31), ('khloe', 31), ('elena', 31), ('condemning', 31), ('kwazulunatal', 30), ('televised', 30), ('gadhafi', 30), ('crocodile', 30), ('reinstate', 30), ('holocaust', 30), ('vigil', 30), ('credential', 30), ('sketch', 30), ('49yearold', 30), ('trusted', 30), ('acceptance', 30), ('mgm', 30), ('educator', 30), ('hung', 30), ('exboyfriend', 30), ('rotary', 30), ('frequently', 30), ('roland', 30), ('gore', 30), ('jairam', 30), ('hop', 30), ('beam', 30), ('reply', 30), ('blizzard', 30), ('fabrice', 30), ('precautionary', 30), ('teamed', 30), ('cautiously', 30), ('pled', 30), ('toshiba', 30), ('smallest', 30), ('andrea', 30), ('bursa', 30), ('cory', 30), ('dover', 30), ('festivity', 30), ('weigh', 30), ('technological', 30), ('describe', 30), ('habitat', 30), ('alexandra', 30), ('winslet', 30), ('horry', 30), ('robertson', 30), ('cleaner', 30), ('7yearold', 30), ('arbor', 30), ('clegg', 30), ('tunisian', 30), ('rattled', 30), ('cavendish', 30), ('referring', 30), ('niger', 30), ('bal', 30), ('sword', 30), ('hewlettpackard', 30), ('aired', 30), ('paterno', 30), ('jc', 30), ('engulfed', 30), ('restoring', 30), ('audi', 30), ('hungry', 30), ('dominant', 30), ('mla', 30), ('joked', 30), ('avert', 30), ('revoked', 30), ('chevron', 30), ('hitter', 30), ('patna', 30), ('aviva', 30), ('norton', 30), ('leftist', 30), ('accompanied', 30), ('spite', 30), ('24kg', 30), ('sabre', 30), ('baxter', 30), ('lastminute', 30), ('airspace', 30), ('hai', 30), ('eastman', 30), ('collaborative', 30), ('drowning', 30), ('halfway', 30), ('cooling', 30), ('milton', 30), ('huntsman', 30), ('edt', 30), ('embezzling', 30), ('bullying', 30), ('resolving', 30), ('trinamool', 30), ('rahman', 30), ('pressed', 30), ('bluff', 30), ('twomonth', 30), ('arrow', 30), ('fiction', 30), ('weaken', 30), ('whollyowned', 30), ('exchanged', 30), ('slept', 30), ('farming', 30), ('ivan', 30), ('prospective', 30), ('adverse', 30), ('persuade', 30), ('113', 30), ('sang', 30), ('seaside', 30), ('ossetia', 30), ('chesapeake', 30), ('debit', 30), ('cardiovascular', 30), ('junk', 30), ('fayetteville', 30), ('basement', 30), ('donovan', 30), ('feedback', 30), ('dynamo', 30), ('patron', 30), ('bucharest', 30), ('leno', 30), ('moratorium', 30), ('bakersfield', 30), ('deepen', 30), ('highness', 30), ('feat', 30), ('ramdev', 30), ('haul', 30), ('camden', 30), ('inviting', 30), ('contention', 30), ('samesex', 30), ('termination', 30), ('mcdonald', 30), ('representation', 30), ('ballistic', 30), ('naples', 30), ('shropshire', 30), ('sevilla', 30), ('credible', 30), ('guaranteed', 30), ('identification', 30), ('trace', 30), ('detect', 30), ('gerrard', 30), ('gerald', 30), ('catastrophic', 30), ('1980s', 30), ('choir', 30), ('branding', 30), ('namibia', 30), ('ulster', 30), ('830', 30), ('ramon', 30), ('panetta', 30), ('bearish', 30), ('input', 30), ('430', 30), ('kimoon', 30), ('curve', 29), ('yang', 29), ('ignored', 29), ('extradited', 29), ('tired', 29), ('reshuffle', 29), ('terminated', 29), ('ranbir', 29), ('argued', 29), ('breeder', 29), ('determination', 29), ('barrett', 29), ('madhya', 29), ('bharat', 29), ('stab', 29), ('circus', 29), ('borrow', 29), ('qld', 29), ('middlesbrough', 29), ('consistent', 29), ('instruction', 29), ('frustrated', 29), ('abruptly', 29), ('rebounding', 29), ('monk', 29), ('fiancee', 29), ('pearson', 29), ('boca', 29), ('revolving', 29), ('eleven', 29), ('paribas', 29), ('aluminum', 29), ('disclose', 29), ('vicious', 29), ('24hour', 29), ('elimination', 29), ('corey', 29), ('43yearold', 29), ('650', 29), ('ethical', 29), ('imperial', 29), ('pepsi', 29), ('piper', 29), ('psychiatric', 29), ('owes', 29), ('paltrow', 29), ('tolerance', 29), ('enhancing', 29), ('bernardino', 29), ('downloads', 29), ('broward', 29), ('hiatus', 29), ('3500', 29), ('everybody', 29), ('scifi', 29), ('flexibility', 29), ('lindsey', 29), ('thrashed', 29), ('cambodian', 29), ('timing', 29), ('curtain', 29), ('diagnostic', 29), ('speedy', 29), ('northampton', 29), ('respected', 29), ('lowering', 29), ('mercer', 29), ('mcilroy', 29), ('zuckerberg', 29), ('rodney', 29), ('1994', 29), ('bookmark', 29), ('lpga', 29), ('ink', 29), ('111', 29), ('synthetic', 29), ('kandahar', 29), ('proving', 29), ('outline', 29), ('balotelli', 29), ('1700', 29), ('splash', 29), ('nixon', 29), ('afridi', 29), ('ep', 29), ('owing', 29), ('chhattisgarh', 29), ('wished', 29), ('quits', 29), ('contributor', 29), ('budapest', 29), ('jude', 29), ('ajay', 29), ('gupta', 29), ('degeneres', 29), ('honduras', 29), ('goodbye', 29), ('nairobi', 29), ('cheat', 29), ('shirley', 29), ('yonhap', 29), ('otago', 29), ('knock', 29), ('taught', 29), ('glove', 29), ('lautner', 29), ('grammywinning', 29), ('shipyard', 29), ('aground', 29), ('beck', 29), ('sylvester', 29), ('stallone', 29), ('waterloo', 29), ('930', 29), ('loving', 29), ('luther', 29), ('postseason', 29), ('oneoff', 29), ('midst', 29), ('semester', 29), ('motorbike', 29), ('ugandan', 29), ('accurate', 29), ('schmidt', 29), ('separation', 29), ('foiled', 29), ('dmk', 29), ('mellon', 29), ('graeme', 29), ('password', 29), ('doctorate', 29), ('ariz', 29), ('blackout', 29), ('pageant', 29), ('karen', 29), ('olivia', 29), ('guam', 29), ('macquarie', 29), ('fond', 29), ('disrupt', 29), ('lounge', 29), ('torres', 29), ('meth', 29), ('phillip', 29), ('albania', 29), ('snowfall', 29), ('defenceman', 29), ('mitch', 29), ('timely', 29), ('nate', 29), ('warplane', 29), ('gloomy', 29), ('fluid', 29), ('grounded', 29), ('ronson', 29), ('etc', 29), ('bloom', 29), ('represented', 29), ('candidacy', 29), ('diocese', 29), ('khurshid', 28), ('showroom', 28), ('nfc', 28), ('fidel', 28), ('stall', 28), ('yearlong', 28), ('lewd', 28), ('coveted', 28), ('rancho', 28), ('brewing', 28), ('steelmaker', 28), ('aboriginal', 28), ('patterson', 28), ('refining', 28), ('ups', 28), ('limelight', 28), ('turf', 28), ('braced', 28), ('hovered', 28), ('kenneth', 28), ('specializing', 28), ('piston', 28), ('nextgeneration', 28), ('broadly', 28), ('memo', 28), ('gymnastics', 28), ('mcdonnell', 28), ('summoned', 28), ('nexus', 28), ('performs', 28), ('candy', 28), ('moose', 28), ('salvador', 28), ('kiev', 28), ('plagued', 28), ('injunction', 28), ('slumping', 28), ('muamba', 28), ('selector', 28), ('pressing', 28), ('pawar', 28), ('divorced', 28), ('maid', 28), ('tapped', 28), ('mere', 28), ('granting', 28), ('peterborough', 28), ('judging', 28), ('remembrance', 28), ('akhtar', 28), ('existence', 28), ('ubisoft', 28), ('bluray', 28), ('beaver', 28), ('nike', 28), ('fiancé', 28), ('citi', 28), ('tall', 28), ('brigade', 28), ('ghanaian', 28), ('decent', 28), ('lend', 28), ('experiment', 28), ('spiderman', 28), ('karan', 28), ('depending', 28), ('gutted', 28), ('osce', 28), ('qb', 28), ('courtney', 28), ('buckingham', 28), ('cameroon', 28), ('transformer', 28), ('hayes', 28), ('bhopal', 28), ('abhishek', 28), ('mask', 28), ('bali', 28), ('labourer', 28), ('goody', 28), ('receipt', 28), ('dirt', 28), ('approving', 28), ('stronghold', 28), ('kathleen', 28), ('bicyclist', 28), ('pressured', 28), ('portrait', 28), ('chased', 28), ('quantity', 28), ('registering', 28), ('importing', 28), ('extramarital', 28), ('weston', 28), ('heaven', 28), ('califbased', 28), ('lens', 28), ('lauderdale', 28), ('banquet', 28), ('pt', 28), ('eyeing', 28), ('xavier', 28), ('bow', 28), ('blown', 28), ('outrage', 28), ('ruth', 28), ('stockholm', 28), ('waited', 28), ('valve', 28), ('ti', 28), ('30year', 28), ('bayer', 28), ('lately', 28), ('sectarian', 28), ('bermuda', 28), ('shakeup', 28), ('contested', 28), ('adopting', 28), ('gartner', 28), ('anytime', 28), ('eau', 28), ('dicaprio', 28), ('enhancement', 28), ('montag', 28), ('peshawar', 28), ('ballet', 28), ('loyalty', 28), ('informal', 28), ('chandler', 28), ('matching', 28), ('ole', 28), ('develops', 28), ('pave', 28), ('labrador', 28), ('appalachian', 28), ('harrisburg', 28), ('ugly', 28), ('princeton', 28), ('hyundai', 28), ('alcoa', 28), ('confusion', 28), ('colbert', 28), ('smuggler', 28), ('ronald', 28), ('pleasure', 28), ('agitation', 28), ('settling', 28), ('redundancy', 28), ('benefiting', 28), ('canadiens', 28), ('precision', 28), ('superb', 28), ('meaningful', 28), ('commando', 28), ('benghazi', 28), ('chattanooga', 28), ('marvin', 28), ('solomon', 28), ('hancock', 28), ('wilkinson', 28), ('shattered', 28), ('compiled', 28), ('chemistry', 28), ('negotiated', 28), ('coat', 28), ('hanoi', 28), ('olive', 28), ('costars', 28), ('sounded', 28), ('rat', 27), ('1030', 27), ('morale', 27), ('kathmandu', 27), ('vulnerability', 27), ('menace', 27), ('scope', 27), ('grandson', 27), ('tbilisi', 27), ('julio', 27), ('conspiring', 27), ('lyric', 27), ('mongolia', 27), ('antiterrorism', 27), ('unwanted', 27), ('stationed', 27), ('toe', 27), ('itartass', 27), ('sophisticated', 27), ('dominate', 27), ('syndicate', 27), ('crist', 27), ('reminded', 27), ('rely', 27), ('paraguay', 27), ('trinidad', 27), ('stupid', 27), ('forged', 27), ('leopard', 27), ('playmaker', 27), ('parallel', 27), ('guerrilla', 27), ('conditional', 27), ('escort', 27), ('petraeus', 27), ('poultry', 27), ('wildcat', 27), ('directorial', 27), ('alcoholic', 27), ('gareth', 27), ('550', 27), ('atop', 27), ('carpenter', 27), ('mention', 27), ('caterpillar', 27), ('berth', 27), ('bolstering', 27), ('paypal', 27), ('spared', 27), ('keegan', 27), ('slashing', 27), ('lasting', 27), ('emc', 27), ('slipping', 27), ('tissue', 27), ('profittaking', 27), ('sally', 27), ('footage', 27), ('bobcat', 27), ('slate', 27), ('burmese', 27), ('random', 27), ('maintains', 27), ('objective', 27), ('frustration', 27), ('corning', 27), ('mideast', 27), ('7000', 27), ('cherokee', 27), ('mlb', 27), ('interrogation', 27), ('acc', 27), ('shotgun', 27), ('edging', 27), ('lethal', 27), ('18000', 27), ('parcel', 27), ('intruder', 27), ('reeling', 27), ('wesley', 27), ('d', 27), ('gunned', 27), ('modified', 27), ('condolence', 27), ('soar', 27), ('propose', 27), ('pray', 27), ('jindal', 27), ('tortured', 27), ('asheville', 27), ('stormy', 27), ('homage', 27), ('yy', 27), ('kan', 27), ('hilary', 27), ('capsule', 27), ('mahama', 27), ('honey', 27), ('denise', 27), ('mechanic', 27), ('considerable', 27), ('visible', 27), ('55yearold', 27), ('oslo', 27), ('fremont', 27), ('edwin', 27), ('vic', 27), ('sonny', 27), ('recipient', 27), ('optimization', 27), ('recreational', 27), ('latenight', 27), ('putnam', 27), ('canton', 27), ('warfare', 27), ('gadkari', 27), ('thumb', 27), ('osborne', 27), ('emmanuel', 27), ('lefthanded', 27), ('landfill', 27), ('ark', 27), ('knowles', 27), ('embrace', 27), ('sienna', 27), ('meyer', 27), ('stateoftheart', 27), ('pardon', 27), ('enthusiast', 27), ('preschool', 27), ('practical', 27), ('prakash', 27), ('totaling', 27), ('mohali', 27), ('rivera', 27), ('raptor', 27), ('expertise', 27), ('nest', 27), ('carlton', 27), ('gainesville', 27), ('nda', 27), ('measured', 27), ('contracting', 27), ('superhero', 27), ('quincy', 27), ('ponzi', 27), ('patience', 27), ('shaken', 27), ('allergy', 27), ('urgently', 27), ('cloudbased', 27), ('rejoin', 27), ('pepsico', 27), ('bitten', 27), ('humane', 27), ('regulate', 27), ('forget', 27), ('2611', 27), ('pavilion', 27), ('odonnell', 27), ('rite', 27), ('blvd', 27), ('thereby', 27), ('jerome', 27), ('tenth', 27), ('crippled', 27), ('straw', 27), ('shakespeare', 27), ('comply', 27), ('renewing', 27), ('postpone', 27), ('hotspot', 27), ('taxation', 27), ('fellowship', 27), ('francois', 27), ('cheese', 27), ('economically', 27), ('conditioning', 27), ('notch', 27), ('reagan', 27), ('sahara', 27), ('pasadena', 27), ('exposing', 27), ('algerian', 27), ('rift', 27), ('massa', 27), ('avatar', 27), ('potato', 27), ('counted', 27), ('moses', 27), ('kissing', 27), ('decree', 27), ('nightmare', 27), ('misery', 27), ('haitian', 27), ('clause', 27), ('inflationary', 27), ('51yearold', 27), ('carnegie', 27), ('igor', 27), ('knifepoint', 27), ('handled', 27), ('hawkes', 27), ('paradise', 27), ('sunrise', 27), ('revived', 27), ('burial', 27), ('ecb', 27), ('ta', 27), ('cairn', 27), ('foray', 27), ('jenna', 27), ('seafood', 27), ('plunging', 27), ('imprisoned', 27), ('macedonian', 27), ('petty', 27), ('angelesbased', 27), ('ligue', 26), ('eyewitness', 26), ('diversity', 26), ('zombie', 26), ('117', 26), ('blazer', 26), ('enjoys', 26), ('jungle', 26), ('toppled', 26), ('prevailing', 26), ('frontline', 26), ('intend', 26), ('hebron', 26), ('roanoke', 26), ('190', 26), ('graffiti', 26), ('tumour', 26), ('useful', 26), ('elvis', 26), ('kindle', 26), ('icelandic', 26), ('photography', 26), ('lingerie', 26), ('heartthrob', 26), ('48yearold', 26), ('roadway', 26), ('submission', 26), ('q', 26), ('laurel', 26), ('irrigation', 26), ('malayalam', 26), ('wakefield', 26), ('threematch', 26), ('nationalist', 26), ('polk', 26), ('outer', 26), ('questionable', 26), ('whenever', 26), ('jj', 26), ('bcci', 26), ('clinch', 26), ('oscarnominated', 26), ('sends', 26), ('enormous', 26), ('secondhalf', 26), ('unnecessary', 26), ('doc', 26), ('easton', 26), ('firsttime', 26), ('defrauding', 26), ('sharad', 26), ('beleaguered', 26), ('embargo', 26), ('mechanical', 26), ('vmware', 26), ('330', 26), ('greeted', 26), ('jessie', 26), ('hitler', 26), ('shriver', 26), ('martha', 26), ('karunanidhi', 26), ('timberwolves', 26), ('commented', 26), ('accommodation', 26), ('convenient', 26), ('registry', 26), ('displayed', 26), ('exploit', 26), ('shoaib', 26), ('precaution', 26), ('144', 26), ('fx', 26), ('premature', 26), ('outlaw', 26), ('shy', 26), ('prefers', 26), ('joyce', 26), ('senegal', 26), ('colo', 26), ('varsity', 26), ('derry', 26), ('ratified', 26), ('identifying', 26), ('moroccan', 26), ('850', 26), ('cheer', 26), ('mistakenly', 26), ('sliding', 26), ('rebuilding', 26), ('atlantis', 26), ('latino', 26), ('exporting', 26), ('inland', 26), ('protective', 26), ('darfur', 26), ('apollo', 26), ('roshan', 26), ('arcelormittal', 26), ('anxiety', 26), ('shutout', 26), ('deceased', 26), ('uc', 26), ('sooner', 26), ('relieved', 26), ('aziz', 26), ('jihad', 26), ('scratched', 26), ('sibling', 26), ('psychologist', 26), ('cougar', 26), ('debated', 26), ('mastermind', 26), ('etf', 26), ('carla', 26), ('icahn', 26), ('mogadishu', 26), ('diverse', 26), ('planted', 26), ('ravi', 26), ('barrymore', 26), ('linux', 26), ('hectare', 26), ('jaime', 26), ('flint', 26), ('intensify', 26), ('pioneering', 26), ('tackling', 26), ('boating', 26), ('digit', 26), ('mila', 26), ('dwight', 26), ('attributed', 26), ('arvind', 26), ('wachovia', 26), ('prom', 26), ('supplied', 26), ('goodman', 26), ('gadget', 26), ('benson', 26), ('airtran', 26), ('efron', 26), ('gamble', 26), ('nolan', 26), ('ondemand', 26), ('napa', 26), ('provisional', 26), ('dismiss', 26), ('reduces', 26), ('phelps', 26), ('refusal', 26), ('perjury', 26), ('jse', 26), ('plantation', 26), ('grim', 26), ('gmbh', 26), ('155', 26), ('36yearold', 26), ('paternity', 26), ('shoplifting', 26), ('offduty', 26), ('mayawati', 26), ('unacceptable', 26), ('dutt', 26), ('trek', 26), ('aloud', 26), ('doubling', 26), ('franc', 26), ('savannah', 26), ('singaporean', 26), ('nl', 26), ('hooker', 26), ('lifeline', 26), ('scratch', 26), ('reviewed', 26), ('thatcher', 26), ('freeman', 26), ('sack', 26), ('tna', 26), ('kane', 26), ('caucasus', 26), ('vowing', 26), ('lac', 26), ('ce', 26), ('farmington', 26), ('guatemala', 26), ('punter', 26), ('monthlong', 26), ('thirddegree', 26), ('spinal', 26), ('impacted', 26), ('driveway', 26), ('145', 26), ('hint', 26), ('packet', 26), ('journalism', 26), ('pandemic', 26), ('cutler', 26), ('hurley', 26), ('ramadan', 25), ('alpha', 25), ('intimidation', 25), ('roddick', 25), ('webcast', 25), ('unesco', 25), ('scottsdale', 25), ('trafficker', 25), ('truce', 25), ('buddhist', 25), ('breakup', 25), ('cv', 25), ('aer', 25), ('sewage', 25), ('marker', 25), ('exceptional', 25), ('nicholas', 25), ('woody', 25), ('wisdom', 25), ('stephanie', 25), ('rapist', 25), ('disqualified', 25), ('scooter', 25), ('furlough', 25), ('presley', 25), ('skull', 25), ('usher', 25), ('deepened', 25), ('passionate', 25), ('limiting', 25), ('barker', 25), ('diverted', 25), ('cohen', 25), ('expire', 25), ('alma', 25), ('zaman', 25), ('kaira', 25), ('275', 25), ('megawatt', 25), ('planner', 25), ('cherry', 25), ('marseille', 25), ('newtown', 25), ('hawaiian', 25), ('firstteam', 25), ('klein', 25), ('dwi', 25), ('nordstrom', 25), ('santana', 25), ('airasia', 25), ('eviction', 25), ('bigg', 25), ('syndicated', 25), ('outpost', 25), ('resumption', 25), ('relaunched', 25), ('viable', 25), ('mastercard', 25), ('aspen', 25), ('knightley', 25), ('influenza', 25), ('laugh', 25), ('lithuania', 25), ('tasmania', 25), ('larceny', 25), ('bud', 25), ('aluminium', 25), ('diagnosis', 25), ('defined', 25), ('brink', 25), ('sonoma', 25), ('revision', 25), ('penney', 25), ('deepwater', 25), ('ancelotti', 25), ('painted', 25), ('crosse', 25), ('groupon', 25), ('polanski', 25), ('114', 25), ('extinction', 25), ('andor', 25), ('karim', 25), ('evangelist', 25), ('munster', 25), ('wideranging', 25), ('fletcher', 25), ('anita', 25), ('ont', 25), ('outspoken', 25), ('blend', 25), ('span', 25), ('duff', 25), ('riskier', 25), ('orchard', 25), ('midway', 25), ('seize', 25), ('cayman', 25), ('ritchie', 25), ('ky', 25), ('wholesaler', 25), ('relocate', 25), ('obtaining', 25), ('oiler', 25), ('disrupting', 25), ('rhino', 25), ('installment', 25), ('microsofts', 25), ('reflected', 25), ('virtualization', 25), ('dependence', 25), ('desperately', 25), ('herbert', 25), ('communicate', 25), ('clearance', 25), ('initiate', 25), ('embarrassing', 25), ('fertiliser', 25), ('kidnap', 25), ('4yearold', 25), ('sexiest', 25), ('nordic', 25), ('stiff', 25), ('marcos', 25), ('600000', 25), ('tina', 25), ('charitable', 25), ('steadily', 25), ('largescale', 25), ('verbal', 25), ('brunei', 25), ('chi', 25), ('bubble', 25), ('achilles', 25), ('cancelling', 25), ('notification', 25), ('triangle', 25), ('hurting', 25), ('fivetime', 25), ('cake', 25), ('criticizing', 25), ('oh', 25), ('dressing', 25), ('rashid', 25), ('qureshi', 25), ('sears', 25), ('airwave', 25), ('rajesh', 25), ('intraday', 25), ('shahrukh', 25), ('rumoured', 25), ('foe', 25), ('keane', 25), ('kunis', 25), ('poison', 25), ('deserves', 25), ('enrolled', 25), ('deserved', 25), ('edgar', 25), ('1990', 25), ('1995', 25), ('installing', 25), ('accessible', 25), ('kremlin', 25), ('rivalry', 25), ('gauteng', 25), ('snyder', 25), ('suicidal', 25), ('literary', 25), ('holly', 25), ('gram', 25), ('hanover', 25), ('coldplay', 25), ('cnns', 25), ('aggression', 25), ('desmond', 25), ('bosnia', 25), ('ba', 25), ('beneficial', 25), ('diluted', 25), ('denial', 25), ('legion', 25), ('sunil', 25), ('judy', 25), ('indy', 25), ('anymore', 25), ('daryl', 25), ('diplomacy', 25), ('motorsports', 25), ('erased', 25), ('biting', 25), ('conductor', 25), ('referral', 25), ('kia', 25), ('aerial', 25), ('closet', 25), ('denny', 25), ('guyana', 25), ('pledging', 25), ('1993', 25), ('steele', 25), ('worship', 25), ('heathrow', 25), ('rematch', 25), ('contador', 25), ('negligence', 25), ('commence', 25), ('amar', 25), ('detector', 25), ('byrne', 25), ('limerick', 25), ('assemblyman', 25), ('thames', 25), ('parenthood', 25), ('feeding', 25), ('financials', 25), ('1990s', 25), ('pulitzer', 25), ('dunn', 25), ('bogus', 25), ('ayatollah', 25), ('loyalist', 25), ('painful', 25), ('calvin', 25), ('describes', 24), ('stockpile', 24), ('playground', 24), ('gregory', 24), ('sim', 24), ('merged', 24), ('await', 24), ('dismissing', 24), ('graf', 24), ('trauma', 24), ('middletown', 24), ('chivas', 24), ('uncovered', 24), ('bleeding', 24), ('palermo', 24), ('satisfied', 24), ('mishap', 24), ('5yearold', 24), ('124', 24), ('530', 24), ('runnerup', 24), ('intensifying', 24), ('resisting', 24), ('makeshift', 24), ('readiness', 24), ('brake', 24), ('hobbit', 24), ('undermine', 24), ('extremism', 24), ('149', 24), ('carling', 24), ('dixon', 24), ('artistic', 24), ('inspire', 24), ('malibu', 24), ('fuelled', 24), ('clarified', 24), ('recruited', 24), ('greeting', 24), ('genuine', 24), ('evicted', 24), ('bravo', 24), ('policing', 24), ('espionage', 24), ('slumdog', 24), ('clarksville', 24), ('lille', 24), ('gosling', 24), ('indira', 24), ('rainy', 24), ('qamar', 24), ('chemotherapy', 24), ('hayward', 24), ('9000', 24), ('drogba', 24), ('lit', 24), ('liz', 24), ('powder', 24), ('cfo', 24), ('symposium', 24), ('goodell', 24), ('mn', 24), ('converted', 24), ('tally', 24), ('practiced', 24), ('rey', 24), ('curriculum', 24), ('keira', 24), ('positioned', 24), ('borrowed', 24), ('husky', 24), ('cadet', 24), ('rutherford', 24), ('yulia', 24), ('dirk', 24), ('alfred', 24), ('mat', 24), ('byron', 24), ('vibrant', 24), ('makeup', 24), ('proudly', 24), ('kitten', 24), ('garment', 24), ('belle', 24), ('stepfather', 24), ('joplin', 24), ('irna', 24), ('astana', 24), ('17000', 24), ('congresswoman', 24), ('byrd', 24), ('loses', 24), ('bcs', 24), ('theo', 24), ('prague', 24), ('qpr', 24), ('sharjah', 24), ('pundit', 24), ('medic', 24), ('eminem', 24), ('remittance', 24), ('lotus', 24), ('payne', 24), ('lubbock', 24), ('bassist', 24), ('jenny', 24), ('vocalist', 24), ('fearing', 24), ('durable', 24), ('bb', 24), ('angolan', 24), ('dear', 24), ('viewed', 24), ('qualification', 24), ('soup', 24), ('salmon', 24), ('accountable', 24), ('hurling', 24), ('harold', 24), ('keynote', 24), ('feud', 24), ('repayment', 24), ('geoff', 24), ('bridgeport', 24), ('warne', 24), ('milo', 24), ('hardline', 24), ('nasty', 24), ('109', 24), ('booker', 24), ('playwright', 24), ('involuntary', 24), ('clint', 24), ('waterfront', 24), ('asks', 24), ('rbc', 24), ('pork', 24), ('patricia', 24), ('rightwing', 24), ('vk', 24), ('dev', 24), ('keeper', 24), ('eastenders', 24), ('warden', 24), ('relegated', 24), ('luggage', 24), ('poorly', 24), ('santiago', 24), ('arroyo', 24), ('bryce', 24), ('iv', 24), ('tumbling', 24), ('corresponding', 24), ('suffers', 24), ('artificial', 24), ('modestly', 24), ('fiveyearold', 24), ('screened', 24), ('frequency', 24), ('uniteds', 24), ('projection', 24), ('edison', 24), ('underwater', 24), ('hay', 24), ('landfall', 24), ('chen', 24), ('stats', 24), ('extract', 24), ('shilpa', 24), ('echo', 24), ('structural', 24), ('seth', 24), ('exceeding', 24), ('middlesex', 24), ('unconstitutional', 24), ('confiscated', 24), ('knowing', 24), ('atm', 24), ('negro', 24), ('stylish', 24), ('wr', 24), ('lazio', 24), ('kelsey', 24), ('somewhat', 24), ('demographic', 24), ('transporter', 24), ('fibre', 24), ('presiding', 24), ('gibbs', 24), ('footstep', 24), ('undermining', 24), ('insolvency', 24), ('lamb', 24), ('biel', 24), ('monopoly', 24), ('interference', 24), ('qualcomm', 24), ('penske', 24), ('famer', 24), ('sheep', 24), ('harding', 24), ('topranked', 24), ('scuffle', 24), ('venus', 24), ('conventional', 24), ('bury', 24), ('cocoa', 24), ('californiabased', 24), ('congestion', 24), ('schalke', 24), ('capping', 24), ('zinc', 24), ('lcd', 24), ('reggie', 24), ('jaya', 24), ('eclipse', 24), ('crippling', 24), ('werent', 24), ('incoming', 24), ('optioned', 24), ('footwear', 24), ('flurry', 24), ('exported', 24), ('mikhail', 24), ('wang', 24), ('hutchison', 24), ('arising', 24), ('eastbound', 24), ('trick', 24), ('jo', 24), ('allahabad', 24), ('northbound', 24), ('directorate', 24), ('engulfing', 24), ('orthodox', 24), ('8yearold', 24), ('stafford', 24), ('unrelated', 24), ('paddy', 24), ('70000', 24), ('akron', 24), ('malicious', 24), ('counseling', 24), ('bremen', 24), ('greenwich', 24), ('mirren', 24), ('patriotic', 24), ('substantially', 24), ('mlbcom', 24), ('defying', 24), ('sunset', 24), ('xperia', 24), ('salvage', 24), ('mcafee', 24), ('alec', 24), ('sandwich', 24), ('boyd', 24), ('reluctant', 24), ('mm', 24), ('noida', 24), ('caregiver', 24), ('espns', 24), ('thrilled', 24), ('avery', 24), ('flynn', 24), ('mammoth', 24), ('nagornokarabakh', 23), ('pesticide', 23), ('condom', 23), ('dekalb', 23), ('regent', 23), ('butter', 23), ('hulk', 23), ('acoustic', 23), ('underwear', 23), ('selective', 23), ('volcanic', 23), ('dire', 23), ('bunker', 23), ('congratulate', 23), ('investigative', 23), ('intact', 23), ('restrict', 23), ('glendale', 23), ('captive', 23), ('handheld', 23), ('serzh', 23), ('lowe', 23), ('illicit', 23), ('recommend', 23), ('rex', 23), ('sherman', 23), ('steadied', 23), ('composition', 23), ('intercepted', 23), ('radcliffe', 23), ('milford', 23), ('antique', 23), ('lankas', 23), ('fixing', 23), ('solicitation', 23), ('asda', 23), ('khalid', 23), ('impeachment', 23), ('pinto', 23), ('multibillion', 23), ('meteorological', 23), ('breeding', 23), ('context', 23), ('engaging', 23), ('airliner', 23), ('derbyshire', 23), ('tow', 23), ('spotify', 23), ('spilled', 23), ('retaliation', 23), ('seminole', 23), ('tongue', 23), ('arthroscopic', 23), ('disturbing', 23), ('cadre', 23), ('obvious', 23), ('cesar', 23), ('pre', 23), ('commanding', 23), ('dunedin', 23), ('davidson', 23), ('uncomfortable', 23), ('paulson', 23), ('practitioner', 23), ('explicit', 23), ('massage', 23), ('lucy', 23), ('molecule', 23), ('vera', 23), ('huron', 23), ('ansari', 23), ('tymoshenko', 23), ('churchill', 23), ('battlefield', 23), ('ricardo', 23), ('corbett', 23), ('ignoring', 23), ('procession', 23), ('ar', 23), ('kourtney', 23), ('bare', 23), ('idiot', 23), ('overcame', 23), ('frenchman', 23), ('aishwarya', 23), ('glamour', 23), ('yearend', 23), ('collaborate', 23), ('lamar', 23), ('scary', 23), ('mln', 23), ('inevitable', 23), ('geelong', 23), ('dragging', 23), ('peacekeeping', 23), ('spurred', 23), ('slovenian', 23), ('sargsyan', 23), ('apologise', 23), ('goodluck', 23), ('gee', 23), ('classical', 23), ('ventura', 23), ('seemingly', 23), ('rabies', 23), ('mess', 23), ('travelled', 23), ('implant', 23), ('outburst', 23), ('onstage', 23), ('perpetrator', 23), ('californian', 23), ('circulating', 23), ('benton', 23), ('mistress', 23), ('skate', 23), ('qatari', 23), ('contraction', 23), ('airstrikes', 23), ('stark', 23), ('fairly', 23), ('slew', 23), ('coupon', 23), ('200th', 23), ('privilege', 23), ('regulated', 23), ('snowmobile', 23), ('beth', 23), ('trinity', 23), ('gazette', 23), ('capt', 23), ('mourning', 23), ('90th', 23), ('electrocuted', 23), ('noise', 23), ('ortiz', 23), ('rhythm', 23), ('recommending', 23), ('dupont', 23), ('janeiro', 23), ('rushing', 23), ('paedophile', 23), ('mackay', 23), ('soda', 23), ('revolt', 23), ('amr', 23), ('noah', 23), ('vat', 23), ('kapil', 23), ('200m', 23), ('alba', 23), ('upgrading', 23), ('kaif', 23), ('artery', 23), ('financier', 23), ('anybody', 23), ('ritual', 23), ('refinancing', 23), ('secondbiggest', 23), ('118', 23), ('erdogan', 23), ('nowhere', 23), ('comptroller', 23), ('bedford', 23), ('westchester', 23), ('cocktail', 23), ('ignore', 23), ('nvidia', 23), ('improperly', 23), ('rip', 23), ('fdi', 23), ('aquarium', 23), ('tripled', 23), ('ballpark', 23), ('consul', 23), ('haye', 23), ('homemade', 23), ('20102011', 23), ('arresting', 23), ('hitachi', 23), ('crux', 23), ('wan', 23), ('hussein', 23), ('ultra', 23), ('preparedness', 23), ('racer', 23), ('barney', 23), ('racism', 23), ('bookmaker', 23), ('stun', 23), ('zoning', 23), ('exemption', 23), ('exception', 23), ('carlyle', 23), ('collingwood', 23), ('dominic', 23), ('condominium', 23), ('defiant', 23), ('jong', 23), ('reigning', 23), ('fielding', 23), ('zayed', 23), ('trayvon', 23), ('wandering', 23), ('fitting', 23), ('lent', 23), ('overwhelmed', 23), ('gardner', 23), ('woo', 23), ('sake', 23), ('mound', 23), ('sudbury', 23), ('wrapping', 23), ('erik', 23), ('pueblo', 23), ('polo', 23), ('anton', 23), ('mediation', 23), ('timor', 23), ('clive', 23), ('merchandise', 23), ('dal', 23), ('bynes', 23), ('tumultuous', 23), ('peso', 23), ('sixyear', 23), ('inclusion', 23), ('brick', 23), ('threeweek', 23), ('innovator', 23), ('170', 23), ('postelection', 23), ('disastrous', 23), ('swindon', 23), ('sustain', 23), ('wiltshire', 23), ('softer', 23), ('jordanian', 23), ('microsystems', 23), ('perkins', 23), ('imphal', 23), ('beneficiary', 23), ('lin', 23), ('divide', 23), ('abkhazia', 23), ('suitable', 23), ('practicing', 23), ('indycar', 23), ('1998', 23), ('recurring', 23), ('guess', 23), ('whereby', 23), ('fortnight', 23), ('motoring', 23), ('sin', 23), ('amend', 23), ('decides', 23), ('13000', 23), ('booster', 23), ('kyiv', 23), ('springbok', 23), ('slalom', 23), ('no1', 23), ('lampard', 23), ('spouse', 23), ('residency', 22), ('excise', 22), ('37th', 22), ('stuttgart', 22), ('homecoming', 22), ('brotherhood', 22), ('proceed', 22), ('reasonable', 22), ('fe', 22), ('pep', 22), ('granite', 22), ('hitandrun', 22), ('paramilitary', 22), ('oreilly', 22), ('unborn', 22), ('montenegro', 22), ('tryout', 22), ('repaired', 22), ('shedding', 22), ('guillermo', 22), ('unfortunately', 22), ('applicant', 22), ('graduated', 22), ('1992', 22), ('axed', 22), ('q1', 22), ('hail', 22), ('impersonating', 22), ('sticking', 22), ('distinguished', 22), ('liberia', 22), ('goat', 22), ('westfield', 22), ('ipads', 22), ('bon', 22), ('impress', 22), ('missionary', 22), ('banda', 22), ('microwave', 22), ('1130', 22), ('hammered', 22), ('countdown', 22), ('santander', 22), ('blessing', 22), ('frontrunner', 22), ('writedowns', 22), ('basel', 22), ('ebooks', 22), ('scaling', 22), ('flipped', 22), ('calhoun', 22), ('inadequate', 22), ('bouncing', 22), ('generated', 22), ('omalley', 22), ('oj', 22), ('jenner', 22), ('hefty', 22), ('liner', 22), ('ict', 22), ('wrongly', 22), ('185', 22), ('structured', 22), ('sk', 22), ('9yearold', 22), ('lockheed', 22), ('productive', 22), ('resuming', 22), ('maxwell', 22), ('equipped', 22), ('70th', 22), ('extortion', 22), ('irving', 22), ('villarreal', 22), ('sheila', 22), ('criterion', 22), ('trap', 22), ('pic', 22), ('worsened', 22), ('ernie', 22), ('muchneeded', 22), ('thrasher', 22), ('2017', 22), ('voip', 22), ('sundance', 22), ('perception', 22), ('buddy', 22), ('assessed', 22), ('bookstore', 22), ('rescheduled', 22), ('bolstered', 22), ('romeo', 22), ('fairbanks', 22), ('bald', 22), ('unarmed', 22), ('mateo', 22), ('1984', 22), ('reminding', 22), ('1950s', 22), ('opt', 22), ('abilene', 22), ('erin', 22), ('forge', 22), ('liberian', 22), ('biology', 22), ('needing', 22), ('luanda', 22), ('hoax', 22), ('rallying', 22), ('remembering', 22), ('instability', 22), ('tacoma', 22), ('hollyoaks', 22), ('meningitis', 22), ('thigh', 22), ('asbestos', 22), ('gurgaon', 22), ('venice', 22), ('relaunch', 22), ('oriental', 22), ('motherhood', 22), ('usb', 22), ('ibf', 22), ('asleep', 22), ('excuse', 22), ('sculpture', 22), ('wardrobe', 22), ('malfunction', 22), ('bladder', 22), ('butte', 22), ('napoli', 22), ('nicky', 22), ('tend', 22), ('enclave', 22), ('bonanza', 22), ('moldova', 22), ('paolo', 22), ('caspian', 22), ('considerably', 22), ('richland', 22), ('lenny', 22), ('wiz', 22), ('deaf', 22), ('dalglish', 22), ('organizing', 22), ('mosley', 22), ('albanian', 22), ('fold', 22), ('barbados', 22), ('mock', 22), ('mf', 22), ('exact', 22), ('demo', 22), ('dome', 22), ('perdue', 22), ('vodka', 22), ('blowing', 22), ('painkiller', 22), ('effectiveness', 22), ('loc', 22), ('hormone', 22), ('129', 22), ('blanket', 22), ('oxygen', 22), ('devoted', 22), ('hightech', 22), ('appropriation', 22), ('sania', 22), ('rwandan', 22), ('tasmanian', 22), ('derrick', 22), ('missoula', 22), ('barge', 22), ('kannada', 22), ('constructed', 22), ('monarch', 22), ('fossil', 22), ('shreveport', 22), ('unhappy', 22), ('unveils', 22), ('fueled', 22), ('subsequent', 22)]\n"
     ]
    }
   ],
   "source": [
    "vocab_size = 10_000\n",
    "vocab = vocab_counter.most_common(vocab_size)\n",
    "token_to_id = {word: i for i, (word, _) in enumerate(vocab)}\n",
    "print(token_to_id)"
   ]
  },
  {
   "cell_type": "markdown",
   "metadata": {
    "collapsed": false,
    "jupyter": {
     "outputs_hidden": false
    },
    "pycharm": {
     "name": "#%% md\n"
    }
   },
   "source": [
    "<a name='e4'></a>\n",
    "### Exercise 4: Bag of Words\n",
    "(1p) Here we will create the bag-of-words representation of the sentences. The function will take a single sentence (list of tokens) and return an array of size `vocab_size` with the counts of each word in the vocabulary. The\n",
    "`vocab_size` is calculated as the length of the passed `token_to_id` dictionary. The resulting array should have zeros everywhere but the indices corresponding to the words in the vocabulary where it should have the counts of the words in the sentence. For example, if the sentence is `['fox', 'and', 'deer']` and the vocabulary is `{'fox': 0, 'and': 1, 'deer': 2}`, the resulting array should be `[1, 1, 1]`. If the sentence is `['fox', 'and', 'fox', 'deer']`, the resulting array should be `[2, 1, 1]`."
   ]
  },
  {
   "cell_type": "code",
   "execution_count": 139,
   "metadata": {
    "jupyter": {
     "source_hidden": true
    },
    "pycharm": {
     "name": "#%%\n"
    }
   },
   "outputs": [],
   "source": [
    "def bag_of_words(sentence, token_to_id):\n",
    "    \"\"\"\n",
    "    Creates a bag-of-words representation of the sentence\n",
    "    Args:\n",
    "        sentence: a list of tokens\n",
    "        token_to_id: a dictionary mapping each word to an index in the vocabulary\n",
    "\n",
    "    Returns: a numpy array of size vocab_size with the counts of each word in the vocabulary\n",
    "\n",
    "    \"\"\"\n",
    "    vocab_size = len(token_to_id)\n",
    "    bow = np.zeros(vocab_size, dtype=int)\n",
    "\n",
    "    ### YOUR CODE HERE\n",
    "\n",
    "    # iterate through words\n",
    "    for word in sentence:\n",
    "        # if a word is in vocabulary\n",
    "        if(word in token_to_id):\n",
    "            # add one to the cout of this particular word in numpy array\n",
    "            bow[token_to_id[word]] += 1\n",
    "\n",
    "    ### YOUR CODE ENDS HERE\n",
    "\n",
    "    return bow"
   ]
  },
  {
   "cell_type": "markdown",
   "metadata": {
    "collapsed": false,
    "jupyter": {
     "outputs_hidden": false
    },
    "pycharm": {
     "name": "#%% md\n"
    }
   },
   "source": [
    "Let's see how the function works on a single sentence. The output should be a numpy array of size `vocab_size` with the counts of each word in the vocabulary."
   ]
  },
  {
   "cell_type": "code",
   "execution_count": 140,
   "metadata": {
    "collapsed": false,
    "jupyter": {
     "outputs_hidden": false
    },
    "pycharm": {
     "name": "#%%\n"
    }
   },
   "outputs": [
    {
     "name": "stdout",
     "output_type": "stream",
     "text": [
      "Tokenized sentence:\n",
      "['edwinstowe', 'motorist', 'died', 'losing', 'control', 'highperformance', 'car', 'colliding', 'traffic', 'opposite', 'side', 'road', 'inquest', 'told']\n",
      "Bag of words:\n",
      "[0 0 0 ... 0 0 0]\n",
      "Type of bag of words:\n",
      "<class 'numpy.ndarray'>\n",
      "Shape of bag of words:\n",
      "(10000,)\n",
      "Non-zero elements in bag of words:\n",
      "[  48   84  127  176  349  563  611 1265 2949 3903 5272]\n"
     ]
    }
   ],
   "source": [
    "print('Tokenized sentence:')\n",
    "print(tokenized_sentences[0])\n",
    "sentence_bow = bag_of_words(tokenized_sentences[0], token_to_id)\n",
    "\n",
    "print('Bag of words:')\n",
    "print(sentence_bow)\n",
    "print('Type of bag of words:')\n",
    "print(type(sentence_bow))\n",
    "print('Shape of bag of words:')\n",
    "print(sentence_bow.shape)\n",
    "print('Non-zero elements in bag of words:')\n",
    "print(np.nonzero(sentence_bow)[0])"
   ]
  },
  {
   "cell_type": "markdown",
   "metadata": {
    "collapsed": false,
    "jupyter": {
     "outputs_hidden": false
    },
    "pycharm": {
     "name": "#%% md\n"
    }
   },
   "source": [
    "We can also check in detail what words and their counts are in the bag-of-words representation."
   ]
  },
  {
   "cell_type": "code",
   "execution_count": 141,
   "metadata": {
    "pycharm": {
     "name": "#%%\n"
    }
   },
   "outputs": [
    {
     "name": "stdout",
     "output_type": "stream",
     "text": [
      "Non-zero elements in bag of words:\n",
      "[  48   84  127  176  349  563  611 1265 2949 3903 5272]\n",
      "died : 1\n",
      "car : 1\n",
      "told : 1\n",
      "road : 1\n",
      "side : 1\n",
      "control : 1\n",
      "traffic : 1\n",
      "losing : 1\n",
      "motorist : 1\n",
      "inquest : 1\n",
      "opposite : 1\n"
     ]
    }
   ],
   "source": [
    "sentence_non_zero_bow = np.nonzero(sentence_bow)[0]\n",
    "print('Non-zero elements in bag of words:')\n",
    "print(sentence_non_zero_bow)\n",
    "for i in sentence_non_zero_bow:\n",
    "    print(vocab[i][0], ':', sentence_bow[i])"
   ]
  },
  {
   "cell_type": "markdown",
   "metadata": {
    "collapsed": false,
    "jupyter": {
     "outputs_hidden": false
    },
    "pycharm": {
     "name": "#%% md\n"
    }
   },
   "source": [
    "The following function will apply all the steps we implemented to a single sentence. It returns a bag of words representation that we will use to calculate the similarity between different sentences."
   ]
  },
  {
   "cell_type": "code",
   "execution_count": 103,
   "metadata": {
    "collapsed": false,
    "jupyter": {
     "outputs_hidden": false
    },
    "pycharm": {
     "name": "#%%\n"
    }
   },
   "outputs": [],
   "source": [
    "def embed_text(text, clean_fn, tokenize_fn, embed_fn):\n",
    "    cleaned = clean_fn(text)\n",
    "    tokens = tokenize_fn(cleaned)\n",
    "    embedding = embed_fn(tokens)\n",
    "    return embedding"
   ]
  },
  {
   "cell_type": "markdown",
   "metadata": {
    "collapsed": false,
    "jupyter": {
     "outputs_hidden": false
    },
    "pycharm": {
     "name": "#%% md\n"
    }
   },
   "source": [
    "<a name='e5'></a>\n",
    "### Exercise 5: Cosine Similarity between two vectors\n",
    "\n",
    "(1p) Complete the following function that given any two vectors will compute the cosine similarity. If you don't remember the formula for the cosine similarity, revisit the course material. Notice that the function receives numpy arrays and recall that you can express cosine similarity as a dot product. Use numpy functions to write an efficient implementation."
   ]
  },
  {
   "cell_type": "code",
   "execution_count": null,
   "metadata": {
    "collapsed": false,
    "jupyter": {
     "outputs_hidden": false
    },
    "pycharm": {
     "name": "#%%\n"
    }
   },
   "outputs": [],
   "source": [
    "def cosine_similarity(vector1, vector2):\n",
    "    \"\"\"\n",
    "    Computes the cosine similarity between two vectors\n",
    "    Args:\n",
    "        vector1: numpy array of the first vector\n",
    "        vector2: numpy array of the second vector\n",
    "\n",
    "    Returns: cosine similarity\n",
    "\n",
    "    \"\"\"\n",
    "    ### YOUR CODE HERE\n",
    "    \n",
    "    # calculate the numenator and the denumenator of the formula\n",
    "    numerator = np.dot(vector1, vector2)\n",
    "    denom = np.linalg.norm(vector1) * np.linalg.norm(vector2)\n",
    "    # return calculated cosine similarities between vectors using the formula if the denominator is non zero, and 0 otherwise\n",
    "    return np.divide(numerator, denom, out=np.zeros_like(numerator), where=denom!=0)\n",
    "\n",
    "    ### YOUR CODE ENDS HERE"
   ]
  },
  {
   "cell_type": "code",
   "execution_count": 107,
   "metadata": {
    "collapsed": false,
    "jupyter": {
     "outputs_hidden": false
    },
    "pycharm": {
     "name": "#%%\n"
    }
   },
   "outputs": [
    {
     "data": {
      "text/plain": [
       "0.9999999999999998"
      ]
     },
     "execution_count": 107,
     "metadata": {},
     "output_type": "execute_result"
    }
   ],
   "source": [
    "cosine_similarity(np.array([0, 1, 2]), np.array([0, 2, 4]))"
   ]
  },
  {
   "cell_type": "code",
   "execution_count": 108,
   "metadata": {
    "collapsed": false,
    "jupyter": {
     "outputs_hidden": false
    },
    "pycharm": {
     "name": "#%%\n"
    }
   },
   "outputs": [
    {
     "name": "stdout",
     "output_type": "stream",
     "text": [
      "Query: fox and deer\n",
      "Cosine Similarity: 0.3162 - Sentence: The quick brown fox jumps over the lazy dog.\n",
      "Cosine Similarity: 0.0000 - Sentence: Some interesting document containin sentences.\n",
      "Cosine Similarity: 0.2887 - Sentence: The quick brown fox jumps over the lazy cat and some other stuff.\n",
      "Cosine Similarity: 0.8165 - Sentence: Fox and deer are not friends.\n",
      "Cosine Similarity: 0.3651 - Sentence: Fox and deer are not friends. But this document is a lot longer than the previous one. We can add sentence by sentence and see how the embeddings change.\n"
     ]
    }
   ],
   "source": [
    "sentences = [\n",
    "    'The quick brown fox jumps over the lazy dog.',\n",
    "    'Some interesting document containin sentences.',\n",
    "    'The quick brown fox jumps over the lazy cat and some other stuff.',\n",
    "    'Fox and deer are not friends.',\n",
    "    'Fox and deer are not friends. But this document is a lot longer than the previous one. We can add sentence by sentence and see how the embeddings change.',\n",
    "]\n",
    "embedded_sentences = [\n",
    "    embed_text(sentence, clean, tokenize, lambda x: bag_of_words(x, token_to_id))\n",
    "    for sentence in sentences\n",
    "]\n",
    "\n",
    "query = 'fox and deer'\n",
    "embedded_query = embed_text(query, clean, tokenize, lambda x: bag_of_words(x, token_to_id))\n",
    "\n",
    "cosine_similarities = [\n",
    "    cosine_similarity(embedded_query, embedded_sentence)\n",
    "    for embedded_sentence in embedded_sentences\n",
    "]\n",
    "print(f'Query: {query}')\n",
    "for sent, cos_sim in zip(sentences, cosine_similarities):\n",
    "    print(f'Cosine Similarity: {cos_sim:.4f} - Sentence: {sent}')"
   ]
  },
  {
   "cell_type": "markdown",
   "metadata": {
    "collapsed": false,
    "jupyter": {
     "outputs_hidden": false
    },
    "pycharm": {
     "name": "#%% md\n"
    }
   },
   "source": [
    "We will apply the function to the whole dataset. This might take a while, so be patient. The result will be stored in the `sentence_bow` and `compressed_bow` fields of the dataset."
   ]
  },
  {
   "cell_type": "code",
   "execution_count": 137,
   "metadata": {
    "collapsed": false,
    "jupyter": {
     "outputs_hidden": false
    },
    "pycharm": {
     "name": "#%%\n"
    }
   },
   "outputs": [],
   "source": [
    "def bag_of_words_dataset(example):\n",
    "    \"\"\"\n",
    "    Creates a bag-of-words representation of the sentence and compressed sentence in the example from the Dataset\n",
    "    Args:\n",
    "        example: an example from the Dataset\n",
    "\n",
    "    Returns: updated example with 'sentence_bow' and 'compressed_bow' columns\n",
    "\n",
    "    \"\"\"\n",
    "    sentence_tokens = example['sentence_tokens']\n",
    "    compressed_tokens = example['compressed_tokens']\n",
    "\n",
    "    sentence_bow = bag_of_words(sentence_tokens, token_to_id)\n",
    "    compressed_bow = bag_of_words(compressed_tokens, token_to_id)\n",
    "\n",
    "    example['sentence_bow'] = sentence_bow\n",
    "    example['compressed_bow'] = compressed_bow\n",
    "    return example"
   ]
  },
  {
   "cell_type": "markdown",
   "metadata": {
    "collapsed": false,
    "jupyter": {
     "outputs_hidden": false
    },
    "pycharm": {
     "name": "#%% md\n"
    }
   },
   "source": [
    "The following cell will apply the function to the whole dataset. The result will be stored in the `sentence_bow` and `compressed_bow` fields of the dataset. We will also convert the dataset's fields `sentence_bow` and `compressed_bow` to numpy format for easier manipulation."
   ]
  },
  {
   "cell_type": "code",
   "execution_count": 138,
   "metadata": {
    "collapsed": false,
    "jupyter": {
     "outputs_hidden": false
    },
    "pycharm": {
     "name": "#%%\n"
    }
   },
   "outputs": [
    {
     "name": "stdout",
     "output_type": "stream",
     "text": [
      "Dataset({\n",
      "    features: ['set', 'clean_sentence', 'clean_compressed', 'sentence_tokens', 'compressed_tokens', 'sentence_bow', 'compressed_bow'],\n",
      "    num_rows: 36000\n",
      "})\n"
     ]
    }
   ],
   "source": [
    "test_ds = split_ds['test'].map(bag_of_words_dataset)\n",
    "test_ds = test_ds.with_format('np', columns=['sentence_bow', 'compressed_bow'], dtype=float)\n",
    "print(test_ds)"
   ]
  },
  {
   "cell_type": "markdown",
   "metadata": {
    "collapsed": false,
    "jupyter": {
     "outputs_hidden": false
    },
    "pycharm": {
     "name": "#%% md\n"
    }
   },
   "source": [
    "Let's check the results. The `sentence_bow` and `compressed_bow` fields should contain the bag-of-words representation of the sentences and compressed sentences, respectively."
   ]
  },
  {
   "cell_type": "code",
   "execution_count": 142,
   "metadata": {
    "collapsed": false,
    "jupyter": {
     "outputs_hidden": false
    },
    "pycharm": {
     "name": "#%%\n"
    }
   },
   "outputs": [
    {
     "name": "stdout",
     "output_type": "stream",
     "text": [
      "{'sentence_bow': array([0., 0., 0., ..., 0., 0., 0.]), 'compressed_bow': array([0., 0., 0., ..., 0., 0., 0.])}\n",
      "Non-zero elements in bag of words:\n",
      "[  14   27   32  139  148  308  408  429  675 1275 2861 5686 6345 9829]\n",
      "man : 0\n",
      "city : 0\n",
      "month : 0\n",
      "street : 0\n",
      "left : 0\n",
      "injured : 0\n",
      "centre : 0\n",
      "driver : 0\n",
      "22 : 0\n",
      "jailed : 0\n",
      "fatally : 0\n",
      "31yearold : 0\n",
      "carlisle : 0\n",
      "hitandrun : 0\n"
     ]
    }
   ],
   "source": [
    "print(test_ds[0])\n",
    "sentence_non_zero_bow = np.nonzero(test_ds[0]['sentence_bow'])[0]\n",
    "print('Non-zero elements in bag of words:')\n",
    "print(sentence_non_zero_bow)\n",
    "for i in sentence_non_zero_bow:\n",
    "    print(vocab[i][0], ':', sentence_bow[i])"
   ]
  },
  {
   "cell_type": "code",
   "execution_count": 112,
   "metadata": {
    "collapsed": false,
    "jupyter": {
     "outputs_hidden": false
    },
    "pycharm": {
     "name": "#%%\n"
    }
   },
   "outputs": [
    {
     "name": "stdout",
     "output_type": "stream",
     "text": [
      "(36000, 10000)\n"
     ]
    }
   ],
   "source": [
    "sentences_bows = test_ds['sentence_bow']\n",
    "print(sentences_bows.shape)"
   ]
  },
  {
   "cell_type": "markdown",
   "metadata": {
    "collapsed": false,
    "jupyter": {
     "outputs_hidden": false
    },
    "pycharm": {
     "name": "#%% md\n"
    }
   },
   "source": [
    "Now we can start building a retriever based on the bag of words representation. The first step is to calculate the cosine similarity between two vectors."
   ]
  },
  {
   "cell_type": "markdown",
   "metadata": {
    "collapsed": false,
    "jupyter": {
     "outputs_hidden": false
    },
    "pycharm": {
     "name": "#%% md\n"
    }
   },
   "source": [
    "<a name='e6'></a>\n",
    "### Exercise 6: Cosine Similarity between a vector and an array of vectors\n",
    "\n",
    "(2p) The next step in our retrieval system, would be to calculate the proximity of a query to our retrieval corpus (in our case that is all the sentences).\n",
    "\n",
    "Complete the following function to calculate the cosine similarity between a vector (first parameter `vector`, that will usually be the query vector) and all other vectors (second parameter `other_vectors`, that will be the sentence embeddings in our case). Note that the `other_vectors` parameter is a single numpy array of size `N x D`, where $N$ is the number of vectors and $D$ is the dimension of each vector.\n",
    "\n",
    "For maximum efficiency (we will need it) do not use loops. Try to write the implementation with numpy functions. Hint: matrix multiplication can be seen as calculating the dot product between rows and columns of the multiplied matrices."
   ]
  },
  {
   "cell_type": "code",
   "execution_count": null,
   "metadata": {
    "id": "LgaV2b3fpSOR",
    "pycharm": {
     "name": "#%%\n"
    }
   },
   "outputs": [],
   "source": [
    "def cosine_similarity_1_to_n(vector, other_vectors):\n",
    "    \"\"\"\n",
    "    Calculates the cosine similarity between a single vector and other vectors.\n",
    "    Args:\n",
    "        vector: a numpy array representing a vector of D dimensions\n",
    "        other_vectors: a 2D numpy array representing other vectors (of the size NxD, where N is the number of vectors and D is their dimension)\n",
    "\n",
    "    Returns: a 1D numpy array of size N containing the cosine similarity between the vector and all the other vectors\n",
    "\n",
    "    \"\"\"\n",
    "\n",
    "    #### YOUR CODE HERE\n",
    "\n",
    "    # calculate the numenator and the denumenator of the formula\n",
    "    numerator = np.dot(other_vectors, vector)\n",
    "    denom = np.linalg.norm(vector) * np.linalg.norm(other_vectors, axis=1)\n",
    "    # return calculated cosine similarities between vectors using the formula if the denominator is non zero, and 0 otherwise\n",
    "    return np.divide(numerator, denom, out=np.zeros_like(numerator), where=denom!=0)\n",
    "\n",
    "    ### YOUR CODE ENDS HERE"
   ]
  },
  {
   "cell_type": "markdown",
   "metadata": {
    "collapsed": false,
    "id": "irNqAJZLpSOR",
    "jupyter": {
     "outputs_hidden": false
    },
    "pycharm": {
     "name": "#%% md\n"
    }
   },
   "source": [
    "We will use the function to calculate the similarity of all sentences in the dataset to our query."
   ]
  },
  {
   "cell_type": "code",
   "execution_count": 165,
   "metadata": {
    "collapsed": false,
    "jupyter": {
     "outputs_hidden": false
    },
    "pycharm": {
     "name": "#%%\n"
    }
   },
   "outputs": [],
   "source": [
    "query = 'fox and deer'\n",
    "embedded_query = embed_text(query, clean, tokenize, lambda x: bag_of_words(x, token_to_id))"
   ]
  },
  {
   "cell_type": "code",
   "execution_count": 166,
   "metadata": {
    "id": "uD9mVAhYpSOR",
    "pycharm": {
     "name": "#%%\n"
    }
   },
   "outputs": [
    {
     "name": "stdout",
     "output_type": "stream",
     "text": [
      "(36000,)\n"
     ]
    }
   ],
   "source": [
    "query_similarity = cosine_similarity_1_to_n(embedded_query, sentences_bows)\n",
    "print(query_similarity.shape)\n",
    "for notnan in query_similarity:\n",
    "    if notnan is np.nan:\n",
    "        print(notnan)"
   ]
  },
  {
   "cell_type": "markdown",
   "metadata": {
    "collapsed": false,
    "id": "_l3erVTNpSOR",
    "jupyter": {
     "outputs_hidden": false
    },
    "pycharm": {
     "name": "#%% md\n"
    }
   },
   "source": [
    "The following cell will select the most similar sentence."
   ]
  },
  {
   "cell_type": "code",
   "execution_count": null,
   "metadata": {
    "id": "0wWa4AWHpSOR",
    "pycharm": {
     "name": "#%%\n"
    }
   },
   "outputs": [
    {
     "name": "stdout",
     "output_type": "stream",
     "text": [
      "16940\n",
      "0.34299717028501764\n",
      "Fox has apologized to Asians after a Fox Sports report made fun of Asian students' accents and knowledge of college football.\n"
     ]
    }
   ],
   "source": [
    "most_similar = int(np.argmax(query_similarity))\n",
    "print(most_similar)\n",
    "print(query_similarity[most_similar])\n",
    "print(split_ds['test'][most_similar]['set'][0])"
   ]
  },
  {
   "cell_type": "markdown",
   "metadata": {
    "collapsed": false,
    "id": "fpdJHFD1pSOR",
    "jupyter": {
     "outputs_hidden": false
    },
    "pycharm": {
     "name": "#%% md\n"
    }
   },
   "source": [
    "The following function will return the indices of the top-k elements in the array."
   ]
  },
  {
   "cell_type": "code",
   "execution_count": 169,
   "metadata": {
    "id": "QFUNI9elpSOS",
    "pycharm": {
     "name": "#%%\n"
    }
   },
   "outputs": [],
   "source": [
    "def top_k_indices(array, k, sorted=True):\n",
    "    \"\"\"\n",
    "    Returns top-k indices from the 1D array. If `sorted` is `True` the returned indices are sorted in the descending order\n",
    "    Args:\n",
    "        array: a 1D numpy array\n",
    "        k: a number of top indices to return\n",
    "        sorted: if True, the returned indices are sorted in descending order\n",
    "\n",
    "    Returns: a 1D array containing top-k indices\n",
    "\n",
    "    \"\"\"\n",
    "    top_k = np.argpartition(array, -k)[-k:]\n",
    "    if sorted:\n",
    "        selected = array[top_k]\n",
    "        sorted_selected = (-selected).argsort()\n",
    "        top_k = top_k[sorted_selected]\n",
    "    return top_k"
   ]
  },
  {
   "cell_type": "code",
   "execution_count": 170,
   "metadata": {
    "id": "nY8vvJdepSOS",
    "pycharm": {
     "name": "#%%\n"
    }
   },
   "outputs": [
    {
     "name": "stdout",
     "output_type": "stream",
     "text": [
      "Deer Isle - A Deer Isle woman charged with Manslaughter in connection to the September death of her boyfriend is free on bail.\n",
      "similarity: 0.34299717028501764\n",
      "Fox has apologized to Asians after a Fox Sports report made fun of Asian students' accents and knowledge of college football.\n",
      "similarity: 0.34299717028501764\n",
      "Former top-tanked tennis star Andy Roddick will join ``FOX Sports Live'' as a co-host of the sports news show when FOX Sports 1 debuts Aug. 17, FOX Sports announced Tuesday.\n",
      "similarity: 0.3312945782245396\n",
      "Police are looking for a truck, or possibly bus, that caused a diesel fuel spill on Fox Hill and Fox Hollow roads, shutting them down for several hours into early Wednesday morning.\n",
      "similarity: 0.3086066999241838\n",
      "An aggressive fox bit two people and a dog in Pittsfield.\n",
      "similarity: 0.2886751345948129\n",
      "Megan Fox is set to make her Broadway debut in November!\n",
      "similarity: 0.26726124191242434\n",
      "Conan O'Brien is bringing a 30-minute medical comedy sitcom to Fox.\n",
      "similarity: 0.26726124191242434\n",
      "DL Hughley stops by Fox 10 before he performs at CityScape in downtown Phoenix this weekend.\n",
      "similarity: 0.26726124191242434\n",
      "Idina Menzel is in talks to join the cast of Fox's ``Glee,'' reports E!\n",
      "similarity: 0.26726124191242434\n",
      "CHEYENNE, Wyo. Several foxes have been found dead just north of Cheyenne over the last week.\n",
      "similarity: 0.26726124191242434\n"
     ]
    }
   ],
   "source": [
    "top_indices = top_k_indices(query_similarity, k=10).tolist()\n",
    "for idx in top_indices:\n",
    "    print(split_ds['test'][idx]['set'][0])\n",
    "    print(f'similarity: {query_similarity[idx]}')"
   ]
  },
  {
   "cell_type": "markdown",
   "metadata": {
    "collapsed": false,
    "id": "BuRI2JzQpSOS",
    "jupyter": {
     "outputs_hidden": false
    },
    "pycharm": {
     "name": "#%% md\n"
    }
   },
   "source": [
    "<a name='e7'></a>\n",
    "### Exercise 7: Analyzing and improving BOW search results\n",
    "\n",
    "Experiment with different queries (taking into account the nature of the dataset and your insights from the analysis so far).\n",
    "Answer the following questions:\n",
    "- (5p) Does the search perform well? When does it fail? Discuss several examples that are we get an expected but also unexpected results (find at least 3 from each category). Provide reasons for the good/bad result in each case (e.g. is there some error in the data, is there some linguistic phenomenon that we don't capture, is something wrong with our modeling with average embeddings, ...)\n",
    "- (5p) If you see problems with search, how could you improve your implementation? Change the functions above, if you think there is room for improvement. Describe your changes and how they made the search better or (in case you made no changes) explain what made the search robust enough to work well."
   ]
  },
  {
   "cell_type": "code",
   "execution_count": null,
   "metadata": {
    "id": "sEQKHAvcpSOS",
    "pycharm": {
     "name": "#%%\n"
    }
   },
   "outputs": [],
   "source": [
    "#### YOUR CODE HERE\n",
    "\n",
    "\n",
    "\n",
    "### YOUR CODE ENDS HERE"
   ]
  },
  {
   "cell_type": "markdown",
   "metadata": {
    "id": "eiIGTfq6eFI5",
    "pycharm": {
     "name": "#%% md\n"
    }
   },
   "source": [
    "// your comments"
   ]
  },
  {
   "cell_type": "markdown",
   "metadata": {
    "collapsed": false,
    "jupyter": {
     "outputs_hidden": false
    },
    "pycharm": {
     "name": "#%% md\n"
    }
   },
   "source": [
    "## 3. Term Frequency - Inverse Document Frequency (TF-IDF)\n",
    "\n",
    "In this section we will implement the TF-IDF algorithm. While BOW is a simple way to represent the documents, it has some limitations. For example, it does not take into account the importance of each word in the document. TF-IDF representation takes into account the frequency of each word in the document and the frequency of the word in the whole dataset. It is a widely used technique in information retrieval and text mining. Refer to the lecture slides for more details."
   ]
  },
  {
   "cell_type": "markdown",
   "metadata": {
    "collapsed": false,
    "jupyter": {
     "outputs_hidden": false
    },
    "pycharm": {
     "name": "#%% md\n"
    }
   },
   "source": [
    "<a name='e8'></a>\n",
    "### Exercise 8: Inverse Document Frequency (IDF)\n",
    "(5p) In this exercise, you will implement the TF-IDF algorithm. First, calculate Inverse Document Frequency (IDF) for each word in the vocabulary. Intuitively, it is a measure of how informative a word is based on the whole dataset. Consult the lecture slides for the details. The IDF is calculated as follows:\n",
    "$$\n",
    "IDF(t) = log_{10}(N/df(t))$$\n",
    "where $N$ is the total number of documents (sentences) in the dataset and $df(t)$ is the number of documents containing the word $t$.\n"
   ]
  },
  {
   "cell_type": "code",
   "execution_count": null,
   "metadata": {
    "collapsed": false,
    "jupyter": {
     "outputs_hidden": false
    },
    "pycharm": {
     "name": "#%%\n"
    }
   },
   "outputs": [],
   "source": [
    "def calculate_idf(bows):\n",
    "    \"\"\"\n",
    "    Calculates the IDF for each word in the vocabulary\n",
    "    Args:\n",
    "        bows: numpty array of size (N x D) where N is the number of documents and D is the vocabulary size\n",
    "\n",
    "    Returns: a numpy array of size D with IDF values for each token\n",
    "    \"\"\"\n",
    "\n",
    "    ### YOUR CODE HERE\n",
    "\n",
    "\n",
    "\n",
    "    ### YOUR CODE ENDS HERE\n",
    "\n",
    "idf = calculate_idf(sentences_bows)"
   ]
  },
  {
   "cell_type": "markdown",
   "metadata": {
    "collapsed": false,
    "jupyter": {
     "outputs_hidden": false
    },
    "pycharm": {
     "name": "#%% md\n"
    }
   },
   "source": [
    "<a name='e9'></a>\n",
    "### Exercise 9: TF-IDF\n",
    "- (5p) Calculate TF-IDF on the `test` subset of the dataset.\n",
    "- (5p) Analyze the search results based on your implemented TF-IDF. Does the search perform well? When does it fail? Discuss several examples that are we get an expected but also unexpected results (find at least 3 from each category). Provide reasons for the good/bad result in each case (e.g. is there some error in the data, is there some linguistic phenomenon that we don't capture, is something wrong with our modeling with average embeddings, ...)\n",
    "- (5p) Compare the results with the ones you got with the bag-of-words representation. Discuss the differences and similarities. Do you think TF-IDF is a better representation for this task? Why or why not? Provide examples to support your arguments.\n"
   ]
  },
  {
   "cell_type": "code",
   "execution_count": null,
   "metadata": {
    "collapsed": false,
    "jupyter": {
     "outputs_hidden": false
    },
    "pycharm": {
     "name": "#%%\n"
    }
   },
   "outputs": [],
   "source": [
    "### YOUR CODE HERE\n",
    "\n",
    "\n",
    "\n",
    "\n",
    "### YOUR CODE ENDS HERE\n",
    "\n",
    "### YOU CAN ADD MORE CELLS"
   ]
  },
  {
   "cell_type": "markdown",
   "metadata": {
    "collapsed": false,
    "jupyter": {
     "outputs_hidden": false
    },
    "pycharm": {
     "name": "#%% md\n"
    }
   },
   "source": [
    "// your comments"
   ]
  },
  {
   "cell_type": "markdown",
   "metadata": {
    "collapsed": false,
    "jupyter": {
     "outputs_hidden": false
    },
    "pycharm": {
     "name": "#%% md\n"
    }
   },
   "source": [
    "## 4. Word Embeddings\n",
    "\n",
    "In this section you will load the pre-trained word embeddings model - Glove. You can read more about it [here](https://aclanthology.org/D14-1162/) ([https://aclanthology.org/D14-1162/](https://aclanthology.org/D14-1162/)). The embeddings are trained on a large corpus of text and are available in different dimensions. We will start with the dimension of 100, but later you will be asked to experiment with other dimensions.\n",
    "Gensim library maintains a storage containing some pre-trained models. You can read more about it [here](https://github.com/piskvorky/gensim-data) ([https://github.com/piskvorky/gensim-data](https://github.com/piskvorky/gensim-data)). Be sure to read the README of this repository.\n",
    "\n",
    "Let's first load the info of what models are available."
   ]
  },
  {
   "cell_type": "code",
   "execution_count": null,
   "metadata": {
    "collapsed": false,
    "jupyter": {
     "outputs_hidden": false
    },
    "pycharm": {
     "name": "#%%\n"
    }
   },
   "outputs": [],
   "source": [
    "import json\n",
    "import gensim.downloader as api\n",
    "\n",
    "info = api.info()  # show info about available models/datasets\n",
    "print(json.dumps(info['models'], indent=2))"
   ]
  },
  {
   "cell_type": "code",
   "execution_count": null,
   "metadata": {
    "collapsed": false,
    "jupyter": {
     "outputs_hidden": false
    },
    "pycharm": {
     "name": "#%%\n"
    }
   },
   "outputs": [],
   "source": [
    "glove_model = api.load(\"glove-wiki-gigaword-100\")"
   ]
  },
  {
   "cell_type": "markdown",
   "metadata": {
    "collapsed": false,
    "jupyter": {
     "outputs_hidden": false
    },
    "pycharm": {
     "name": "#%% md\n"
    }
   },
   "source": [
    "We can use the loaded model's `key_to_index` attribute to retrieve the whole vocabulary (aka for how many words we learned embeddings for)."
   ]
  },
  {
   "cell_type": "code",
   "execution_count": null,
   "metadata": {
    "collapsed": false,
    "jupyter": {
     "outputs_hidden": false
    },
    "pycharm": {
     "name": "#%%\n"
    }
   },
   "outputs": [],
   "source": [
    "vocab = list(glove_model.key_to_index)\n",
    "print(len(vocab))"
   ]
  },
  {
   "cell_type": "markdown",
   "metadata": {
    "collapsed": false,
    "jupyter": {
     "outputs_hidden": false
    },
    "pycharm": {
     "name": "#%% md\n"
    }
   },
   "source": [
    "Let's explore a bit further the embeddings. In the following cells, the embedding of a single word is returned. Double-check the dimensions (as sanity check). This is like inspecting the `W` matrix (weights) that we discussed in the lecture."
   ]
  },
  {
   "cell_type": "code",
   "execution_count": null,
   "metadata": {
    "collapsed": false,
    "jupyter": {
     "outputs_hidden": false
    },
    "pycharm": {
     "name": "#%%\n"
    }
   },
   "outputs": [],
   "source": [
    "# vector of a particular model. note that it is 100 dimensional as specified.\n",
    "glove_model['what']"
   ]
  },
  {
   "cell_type": "markdown",
   "metadata": {
    "collapsed": false,
    "jupyter": {
     "outputs_hidden": false
    },
    "pycharm": {
     "name": "#%% md\n"
    }
   },
   "source": [
    "Gensim objects offers different methods to easily run very common tasks. For example, there are different functions to find the most similar words.\n",
    "\n",
    "Check the documentation on how [`most_similar`](https://tedboy.github.io/nlps/generated/generated/gensim.models.Word2Vec.most_similar.html) and [`similar_by_word`](https://tedboy.github.io/nlps/generated/generated/gensim.models.Word2Vec.similar_by_word.html) can be used."
   ]
  },
  {
   "cell_type": "code",
   "execution_count": null,
   "metadata": {
    "collapsed": false,
    "jupyter": {
     "outputs_hidden": false
    },
    "pycharm": {
     "name": "#%%\n"
    }
   },
   "outputs": [],
   "source": [
    "# most similar words to a given word\n",
    "print(glove_model.most_similar('what', topn=10))\n",
    "\n",
    "# also u can use\n",
    "print(glove_model.similar_by_word('miss', topn=5))"
   ]
  },
  {
   "cell_type": "code",
   "execution_count": null,
   "metadata": {
    "collapsed": false,
    "jupyter": {
     "outputs_hidden": false
    },
    "pycharm": {
     "name": "#%%\n"
    }
   },
   "outputs": [],
   "source": [
    "print(glove_model.most_similar('why', topn=10))"
   ]
  },
  {
   "cell_type": "code",
   "execution_count": null,
   "metadata": {
    "collapsed": false,
    "jupyter": {
     "outputs_hidden": false
    },
    "pycharm": {
     "name": "#%%\n"
    }
   },
   "outputs": [],
   "source": [
    "print(glove_model.similar_by_word('who', topn=5))"
   ]
  },
  {
   "cell_type": "markdown",
   "metadata": {
    "collapsed": false,
    "jupyter": {
     "outputs_hidden": false
    },
    "pycharm": {
     "name": "#%% md\n"
    }
   },
   "source": [
    "We can now compare our implementation with the one in the pre-trained model and confirm what we already expected."
   ]
  },
  {
   "cell_type": "code",
   "execution_count": null,
   "metadata": {
    "collapsed": false,
    "jupyter": {
     "outputs_hidden": false
    },
    "pycharm": {
     "name": "#%%\n"
    }
   },
   "outputs": [],
   "source": [
    "# simalarity between two words\n",
    "word1 = 'alive'\n",
    "word2 = 'biology'\n",
    "print(glove_model.similarity(word1, word2))\n",
    "print(cosine_similarity(glove_model[word1], glove_model[word2]))"
   ]
  },
  {
   "cell_type": "code",
   "execution_count": null,
   "metadata": {
    "collapsed": false,
    "jupyter": {
     "outputs_hidden": false
    },
    "pycharm": {
     "name": "#%%\n"
    }
   },
   "outputs": [],
   "source": [
    "# simalarity between two words. similar words\n",
    "word1 = 'alive'\n",
    "word2 = 'life'\n",
    "print(glove_model.similarity(word1, word2))\n",
    "print(cosine_similarity(glove_model[word1], glove_model[word2]))"
   ]
  },
  {
   "cell_type": "code",
   "execution_count": null,
   "metadata": {
    "collapsed": false,
    "jupyter": {
     "outputs_hidden": false
    },
    "pycharm": {
     "name": "#%%\n"
    }
   },
   "outputs": [],
   "source": [
    "# simalarity between two words. dissimilar words\n",
    "word1 = 'alive'\n",
    "word2 = 'dead'\n",
    "print(glove_model.similarity(word1, word2))\n",
    "print(cosine_similarity(glove_model[word1], glove_model[word2]))"
   ]
  },
  {
   "cell_type": "code",
   "execution_count": null,
   "metadata": {
    "collapsed": false,
    "jupyter": {
     "outputs_hidden": false
    },
    "pycharm": {
     "name": "#%%\n"
    }
   },
   "outputs": [],
   "source": [
    "# simalarity between two words. unrelated words\n",
    "word1 = 'alive'\n",
    "word2 = 'horse'\n",
    "print(glove_model.similarity(word1, word2))\n",
    "print(cosine_similarity(glove_model[word1], glove_model[word2]))"
   ]
  },
  {
   "cell_type": "code",
   "execution_count": null,
   "metadata": {
    "collapsed": false,
    "jupyter": {
     "outputs_hidden": false
    },
    "pycharm": {
     "name": "#%%\n"
    }
   },
   "outputs": [],
   "source": [
    "# simalarity between two SAME words\n",
    "glove_model.similarity('equal', 'equal')\n",
    "word1 = 'equal'\n",
    "word2 = 'equal'\n",
    "print(glove_model.similarity(word1, word2))\n",
    "print(cosine_similarity(glove_model[word1], glove_model[word2]))"
   ]
  },
  {
   "cell_type": "markdown",
   "metadata": {
    "collapsed": false,
    "jupyter": {
     "outputs_hidden": false
    },
    "pycharm": {
     "name": "#%% md\n"
    }
   },
   "source": [
    "The next function contains the code to plot a similarity matrix between multiple words (e.g. if we want to compare 10 words and their pair-wise similarities). It requires a matrix with similarities (as input) and labels (aka the words) to display in the final figure."
   ]
  },
  {
   "cell_type": "code",
   "execution_count": null,
   "metadata": {
    "collapsed": false,
    "jupyter": {
     "outputs_hidden": false
    },
    "pycharm": {
     "name": "#%%\n"
    }
   },
   "outputs": [],
   "source": [
    "def plot_similarity_matrix(matrix, labels):\n",
    "    \"\"\"\n",
    "    Displays a plot of the `matrix` of size (N x N) with the labels specified as a list of size N\n",
    "    Args:\n",
    "        matrix: a square-sized (N x N) numpy array\n",
    "        labels: a list of strings of hte size N\n",
    "    \"\"\"\n",
    "\n",
    "    fig, ax = plt.subplots()\n",
    "    im = ax.imshow(matrix)\n",
    "\n",
    "    # Show all ticks and label them with the respective list entries\n",
    "    ax.set_xticks(np.arange(len(labels)), labels=labels)\n",
    "    ax.set_yticks(np.arange(len(labels)), labels=labels)\n",
    "\n",
    "    # Rotate the tick labels and set their alignment.\n",
    "    plt.setp(ax.get_xticklabels(), rotation=45, ha=\"right\",\n",
    "             rotation_mode=\"anchor\")\n",
    "\n",
    "    # Loop over data dimensions and create text annotations.\n",
    "    for i in range(len(labels)):\n",
    "        for j in range(len(labels)):\n",
    "            text = ax.text(j, i, f'{matrix[i, j]:.2f}',\n",
    "                           ha=\"center\", va=\"center\", color=\"w\")\n",
    "\n",
    "    # ax.set_title(\"Give a title if you want\")\n",
    "    fig.tight_layout()\n",
    "    plt.show()"
   ]
  },
  {
   "cell_type": "markdown",
   "metadata": {
    "collapsed": false,
    "jupyter": {
     "outputs_hidden": false
    },
    "pycharm": {
     "name": "#%% md\n"
    }
   },
   "source": [
    "<a name='e10'></a>\n",
    "### Exercise 10: Plotting similarities between words\n",
    "\n",
    "(10p) In the following, we will explore some properties of word embeddings through some examples. We will use 6 example words for this purpose but experiment with other set of words as well. Fill in the next cell to create a similarity matrix between a list of words.\n",
    "\n",
    "Experiment with different words and their similarities plotted. Try at least 3 different sets of words of at least 6 words each. Use the `plot_similarity_matrix` function to visualize the results.\n",
    "Comment on the results. Do they make sense? Why some words are closer to each other than others? What does it mean?"
   ]
  },
  {
   "cell_type": "code",
   "execution_count": null,
   "metadata": {
    "collapsed": false,
    "jupyter": {
     "outputs_hidden": false
    },
    "pycharm": {
     "name": "#%%\n"
    }
   },
   "outputs": [],
   "source": [
    "list_of_words = ['love', 'hate', 'life', 'equal', 'alive', 'dead']\n",
    "\n",
    "similarity_matrix = np.zeros((len(list_of_words), len(list_of_words)), dtype=float)\n",
    "\n",
    "### YOUR CODE HERE\n",
    "\n",
    "\n",
    "\n",
    "\n",
    "\n",
    "### YOUR CODE ENDS HERE\n",
    "\n",
    "\n",
    "plot_similarity_matrix(similarity_matrix, list_of_words)"
   ]
  },
  {
   "cell_type": "code",
   "execution_count": null,
   "metadata": {
    "collapsed": false,
    "jupyter": {
     "outputs_hidden": false
    },
    "pycharm": {
     "name": "#%%\n"
    }
   },
   "outputs": [],
   "source": [
    "#### YOUR CODE HERE\n",
    "\n",
    "\n",
    "\n",
    "### YOUR CODE ENDS HERE"
   ]
  },
  {
   "cell_type": "markdown",
   "metadata": {
    "collapsed": false,
    "jupyter": {
     "outputs_hidden": false
    },
    "pycharm": {
     "name": "#%% md\n"
    }
   },
   "source": [
    "<a name='e11'></a>\n",
    "### Exercise 11: Other pre-trained word embeddings\n",
    "(10p) For this exercise, experiment with at least one different word embedding model. You can choose Glove with different dimensions or other pre-trained models. Use the gensim library to download and use the models.\n",
    "Plot similarity matrices between sets of words you used in the previous exercise and compare the results. Are there noticeable differences? Why (not)?"
   ]
  },
  {
   "cell_type": "code",
   "execution_count": null,
   "metadata": {
    "collapsed": false,
    "jupyter": {
     "outputs_hidden": false
    },
    "pycharm": {
     "name": "#%%\n"
    }
   },
   "outputs": [],
   "source": [
    "#### YOUR CODE HERE\n",
    "\n",
    "\n",
    "\n",
    "### YOUR CODE ENDS HERE"
   ]
  },
  {
   "cell_type": "markdown",
   "metadata": {
    "collapsed": false,
    "jupyter": {
     "outputs_hidden": false
    },
    "pycharm": {
     "name": "#%% md\n"
    }
   },
   "source": [
    "// your comments"
   ]
  },
  {
   "cell_type": "markdown",
   "metadata": {
    "collapsed": false,
    "jupyter": {
     "outputs_hidden": false
    },
    "pycharm": {
     "name": "#%% md\n"
    }
   },
   "source": [
    "## 5. Sentence Embeddings by Averaging Word Embeddings\n",
    "\n",
    "Word embeddings are a powerful model for representing words and their meaning (in terms of distributional similarity). As we discussed in class, we can use them in a wide variety of tasks with more complex architectures. Word vectors offer a dense vector for each word. What if we wanted to represent a sentence (or a document) based on word vectors. How can we do that?\n",
    "\n",
    "In the course, we will see different architectures that take into account the sequence of words (by combining their vectors). A first naive but simple and sometimes (as we are going to see) quite effective approach would be to represent a sentence with an embedding vector that is the average of the word vectors that form the sentence.\n",
    "\n",
    "So formally, this is what we are aiming for:\n",
    "\n",
    "$\n",
    "\\text{Sentence_Embedding} = \\frac{1}{N} \\sum_{i=1}^{N} \\text{Word_Embedding}_i\n",
    "$\n",
    "\n",
    "where:\n",
    "* $N$ is the number of words in a sentence\n",
    "* $\\text{Word_Embedding}_i$ is the word vector for the $i$-th in the sentence.\n",
    "\n",
    "Things to note:\n",
    "* The embedding vector for the sentence will obviously have the same dimension as the word embedding.\n",
    "* This representation ignores the word order (like bag-of-words). During the course we will see how we can overcome this limitation by using sequence models."
   ]
  },
  {
   "cell_type": "markdown",
   "metadata": {
    "collapsed": false,
    "jupyter": {
     "outputs_hidden": false
    },
    "pycharm": {
     "name": "#%% md\n"
    }
   },
   "source": [
    "<a name='e12'></a>\n",
    "### Exercise 12: Sentence Embedding\n",
    "\n",
    "(10p) Complete the function below that takes as input the sentence in the form of tokens (so it's a list of words) and calculates the sentence embedding vector. First, we would need to retrieve the word embeddings for each word from our loaded model and then average the vectors.\n",
    "\n",
    "Note: There can be cases where all tokens from a sentence are out-of-vocabulary words (OOV). Think what to do in this case and make sure to discuss it in the report."
   ]
  },
  {
   "cell_type": "code",
   "execution_count": null,
   "metadata": {
    "collapsed": false,
    "jupyter": {
     "outputs_hidden": false
    },
    "pycharm": {
     "name": "#%%\n"
    }
   },
   "outputs": [],
   "source": [
    "def embed_sentence_word_model(tokens, model):\n",
    "    \"\"\"\n",
    "    Calculates the sentence embedding by averaging the embeddings of the tokens\n",
    "    Args:\n",
    "        tokens: a list of words from the sentence\n",
    "        model: a trained word embeddings model\n",
    "\n",
    "    Returns: a numpy array of the sentence embedding\n",
    "\n",
    "    \"\"\"\n",
    "    #### YOUR CODE HERE\n",
    "    #### CAUTION: be sure to cover the case where all tokens are out-of-vocabulary!!!\n",
    "\n",
    "\n",
    "\n",
    "\n",
    "    ### YOUR CODE ENDS HERE"
   ]
  },
  {
   "cell_type": "markdown",
   "metadata": {
    "collapsed": false,
    "jupyter": {
     "outputs_hidden": false
    },
    "pycharm": {
     "name": "#%% md\n"
    }
   },
   "source": [
    "Now we can apply the function to the whole dataset. Here we do it both for the sentence and the compressed version. You should know it by now, but this operation might take some time. The next cells will apply your function to the whole dataset."
   ]
  },
  {
   "cell_type": "code",
   "execution_count": null,
   "metadata": {
    "collapsed": false,
    "jupyter": {
     "outputs_hidden": false
    },
    "pycharm": {
     "name": "#%%\n"
    }
   },
   "outputs": [],
   "source": [
    "def embed_sentence_word_model_dataset(example, model):\n",
    "    \"\"\"\n",
    "    Embeds the sentence and the compressed sentence in the example from the Dataset\n",
    "    Args:\n",
    "        example: an example from the Dataset\n",
    "        model: a trained word embeddings model\n",
    "\n",
    "    Returns: updated example with 'sentence_embedding' and 'compressed_embedding' columns\n",
    "\n",
    "    \"\"\"\n",
    "    sentence_tokens = example['sentence_tokens']\n",
    "    clean_compressed = example['clean_compressed']\n",
    "    compressed_tokens = tokenize(clean_compressed)\n",
    "\n",
    "    sentence_embedding = embed_sentence_word_model(sentence_tokens, model)\n",
    "    compressed_embedding = embed_sentence_word_model(compressed_tokens, model)\n",
    "\n",
    "    example['sentence_embedding'] = sentence_embedding\n",
    "    example['compressed_embedding'] = compressed_embedding\n",
    "    return example"
   ]
  },
  {
   "cell_type": "code",
   "execution_count": null,
   "metadata": {
    "collapsed": false,
    "jupyter": {
     "outputs_hidden": false
    },
    "pycharm": {
     "name": "#%%\n"
    }
   },
   "outputs": [],
   "source": [
    "test_ds = test_ds.map(embed_sentence_word_model_dataset, fn_kwargs={'model': glove_model})\n",
    "print(test_ds)"
   ]
  },
  {
   "cell_type": "code",
   "execution_count": null,
   "metadata": {
    "collapsed": false,
    "jupyter": {
     "outputs_hidden": false
    },
    "pycharm": {
     "name": "#%%\n"
    }
   },
   "outputs": [],
   "source": [
    "for i in range(10):\n",
    "    print(test_ds[i])"
   ]
  },
  {
   "cell_type": "markdown",
   "metadata": {
    "collapsed": false,
    "jupyter": {
     "outputs_hidden": false
    },
    "pycharm": {
     "name": "#%% md\n"
    }
   },
   "source": [
    "Here you can see that the new dataset returned a single numpy array containing all sentence embeddings in our dataset. This is a lot more efficient than returning a list of arrays (which is the default behaviour). Below we check the type and the dimensionality.\n",
    "\n",
    "We will be using `text` subset from our dataset to not use too much RAM."
   ]
  },
  {
   "cell_type": "code",
   "execution_count": null,
   "metadata": {
    "collapsed": false,
    "jupyter": {
     "outputs_hidden": false
    },
    "pycharm": {
     "name": "#%%\n"
    }
   },
   "outputs": [],
   "source": [
    "sent_embedding = test_ds['sentence_embedding']\n",
    "compr_embedding = test_ds['compressed_embedding']\n",
    "print(type(sent_embedding))\n",
    "print(sent_embedding.shape)\n",
    "print(type(compr_embedding))\n",
    "print(compr_embedding.shape)"
   ]
  },
  {
   "cell_type": "markdown",
   "metadata": {
    "collapsed": false,
    "jupyter": {
     "outputs_hidden": false
    },
    "pycharm": {
     "name": "#%% md\n"
    }
   },
   "source": [
    "Next we try the condensed representatin based on a simple query. Feel free to try different queries with different words. What happens if we have OOV words in a query?"
   ]
  },
  {
   "cell_type": "code",
   "execution_count": null,
   "metadata": {
    "collapsed": false,
    "jupyter": {
     "outputs_hidden": false
    },
    "pycharm": {
     "name": "#%%\n"
    }
   },
   "outputs": [],
   "source": [
    "query = 'fox and deer'\n",
    "print(query)\n",
    "\n",
    "query_embedding = embed_text(query, clean, tokenize, lambda x: embed_sentence_word_model(x, glove_model))\n",
    "print(query_embedding.shape)\n",
    "print(query_embedding)"
   ]
  },
  {
   "cell_type": "markdown",
   "metadata": {
    "collapsed": false,
    "jupyter": {
     "outputs_hidden": false
    },
    "pycharm": {
     "name": "#%% md\n"
    }
   },
   "source": [
    "<a name='e13'></a>\n",
    "### Exercise 13: Analyze sentence embeddings\n",
    "- (5p) Calculate similarity between the word embeddings representations of the selected queries and the dataset sentences.\n",
    "- (5p) Analyze the search results. Does the search work as expected? Discuss the results.\n",
    "- (5p) Compare the results with the ones you got with the bag-of-words and TF-IDF representation. Discuss the differences and similarities."
   ]
  },
  {
   "cell_type": "code",
   "execution_count": null,
   "metadata": {
    "collapsed": false,
    "jupyter": {
     "outputs_hidden": false
    },
    "pycharm": {
     "name": "#%%\n"
    }
   },
   "outputs": [],
   "source": [
    "### YOUR CODE HERE\n",
    "\n",
    "\n",
    "\n",
    "\n",
    "### YOUR CODE ENDS HERE"
   ]
  },
  {
   "cell_type": "markdown",
   "metadata": {
    "id": "ZY2jouFmeHOg",
    "pycharm": {
     "name": "#%% md\n"
    }
   },
   "source": [
    "## 6. Evaluating Retrieval\n",
    "\n",
    "In this last section we will try to evaluate how good our sentence retrieval system is. To keep the computational resources manageable, we will use the test set for that as its size is more manageable.\n",
    "\n",
    "Recall from the lecture in IR that there are several metrics to evaluate retrieval performance by taking into account the relevance of the retrieved results to the query. We will use Recall@K here (for more metrics and more details refer to the lecture slides and the textbooks).\n",
    "\n",
    "RRecall@K is a metric used to measure the effectiveness of a search system in retrieving relevant documents within the top $K$ retrieved documents. It calculates the proportion of relevant documents retrieved within the top-$K$ results, compared to the total number of relevant documents in the collection.\n",
    "\n",
    "$\n",
    "\\text{Recall@K} = \\frac{\\text{Number of relevant documents retrieved in the top }-K}{\\text{Total number of relevant documents}}\n",
    "$\n",
    "\n",
    "In our case, we have a sentence, and it's compressed version. To test our system, we will treat compressed sentences as the queries. Each query will have only a single relevant sentence - the corresponding uncompressed sentence.\n",
    "\n",
    "Therefore, for the calculation of Recall@K we will take into account whether the correct retrieved result is contained within the first $K$ retrieved results. For example, if for a query (i.e. a compressed sentence) we retrieve 10 results and within these we see the relevant one (i.e. the full sentence), then Recall@10 = 1."
   ]
  },
  {
   "cell_type": "markdown",
   "metadata": {
    "id": "QUKPtG-uem9f",
    "pycharm": {
     "name": "#%% md\n"
    }
   },
   "source": [
    "<a name='e14'></a>\n",
    "### Exercise 14: Cosine similarity between two sets of vectors\n",
    "\n",
    "(3p) In this exercise you will revisit your implementation of the cosine similarity. Generalize it so that it can accept two arrays containing two sets of vectors (first one containing $M$ vectors and the second one $N$ vectors). Compute the cosine similarity between each pair of vectors coming from the two sets. The result should be an array of size $M x N$.\n",
    "\n",
    "Once again, try to write an efficient code. This means no loops. Remember the relation between matrix multiplication and dot product. (Depending on your implementation of the previous function calculating cosine similarity, this one can be almost the same)"
   ]
  },
  {
   "cell_type": "code",
   "execution_count": null,
   "metadata": {
    "id": "xKiHDrN9eld7",
    "pycharm": {
     "name": "#%%\n"
    }
   },
   "outputs": [],
   "source": [
    "def cosine_similarity_m_to_n(vectors, other_vectors):\n",
    "    \"\"\"\n",
    "    Calculates the cosine similarity between a multiple vectors and other vectors.\n",
    "    Args:\n",
    "        vectors: a numpy array representing M number of vectors of D dimensions (of the size MxD)\n",
    "        other_vectors: a 2D numpy array representing other vectors (of the size NxD, where N is the number of vectors and D is their dimension)\n",
    "\n",
    "    Returns: a numpy array of cosine similarity between all the vectors and all the other vectors\n",
    "\n",
    "    \"\"\"\n",
    "\n",
    "    #### YOUR CODE HERE\n",
    "\n",
    "\n",
    "\n",
    "\n",
    "    ### YOUR CODE ENDS HERE"
   ]
  },
  {
   "cell_type": "markdown",
   "metadata": {
    "id": "qQ-Yhl1Sgoka",
    "pycharm": {
     "name": "#%% md\n"
    }
   },
   "source": [
    "The following function will use your implementation to calculate Recall@K based on the similarity matrix."
   ]
  },
  {
   "cell_type": "code",
   "execution_count": null,
   "metadata": {
    "id": "z0sLS3uRCfdh",
    "pycharm": {
     "name": "#%%\n"
    }
   },
   "outputs": [],
   "source": [
    "def calculate_recall(queries, sentences, k, batch_size=1000):\n",
    "    \"\"\"\n",
    "    Calculates recall@k given the embeddings of the queries and sentences.\n",
    "    Assumes that only a single sentence with the same index as query is relevant.\n",
    "    Batching is implemented to avoid high memory usage.\n",
    "    Args:\n",
    "        queries: a numpy array with the embeddings of N queries\n",
    "        sentences: a numpy array with the embeddings of N sentences available for retrieval\n",
    "        k: number of top results to search for the relevant sentence\n",
    "        batch_size: number of queries to process at a time\n",
    "\n",
    "    Returns: calculated recall@k\n",
    "\n",
    "    \"\"\"\n",
    "    n_queries = queries.shape[0]\n",
    "    correct = np.zeros(n_queries, dtype=bool)\n",
    "\n",
    "    with tqdm.tqdm(total=n_queries) as pbar:\n",
    "        for batch_start in range(0, n_queries, batch_size):\n",
    "            batch_end = min(batch_start + batch_size, n_queries)\n",
    "            queries_batch = queries[batch_start:batch_end]\n",
    "            batch_similarity = cosine_similarity_m_to_n(queries_batch, sentences)\n",
    "\n",
    "            for i, similarity_row in enumerate(batch_similarity):\n",
    "                query_index = batch_start + i\n",
    "                top_k = top_k_indices(similarity_row, k=k, sorted=False)\n",
    "\n",
    "                if query_index in top_k:\n",
    "                    correct[query_index] = True\n",
    "\n",
    "                pbar.update(1)\n",
    "\n",
    "    recall = np.sum(correct) / n_queries\n",
    "    return recall"
   ]
  },
  {
   "cell_type": "markdown",
   "metadata": {
    "id": "3QgAgMiDgw8m",
    "pycharm": {
     "name": "#%% md\n"
    }
   },
   "source": [
    "You can use it like so:"
   ]
  },
  {
   "cell_type": "code",
   "execution_count": null,
   "metadata": {
    "id": "Yxpex7ZxHM7c",
    "pycharm": {
     "name": "#%%\n"
    }
   },
   "outputs": [],
   "source": [
    "recall_at_1 = calculate_recall(compr_embedding, sent_embedding, k=1, batch_size=1000)\n",
    "print(f'\\n{recall_at_1 * 100:.2f}%')"
   ]
  },
  {
   "cell_type": "markdown",
   "metadata": {
    "id": "zY5ZVq5ogzMI",
    "pycharm": {
     "name": "#%% md\n"
    }
   },
   "source": [
    "<a name='e15'></a>\n",
    "### Exercise 15: Evaluating retrieval methods\n",
    "\n",
    "(10p) Calculate recall for different values of $K$ for all methods:\n",
    "- BOW,\n",
    "- TF-IDF,\n",
    "- Pre-trained embeddings.\n",
    "\n",
    "Discuss the results.\n",
    "Comment on how recall changes based on the value of $K$. Are the results expected or surprising?"
   ]
  },
  {
   "cell_type": "code",
   "execution_count": null,
   "metadata": {
    "collapsed": false,
    "jupyter": {
     "outputs_hidden": false
    },
    "pycharm": {
     "name": "#%%\n"
    }
   },
   "outputs": [],
   "source": [
    "#### YOUR CODE HERE\n",
    "\n",
    "\n",
    "\n",
    "### YOUR CODE ENDS HERE"
   ]
  },
  {
   "cell_type": "markdown",
   "metadata": {
    "collapsed": false,
    "jupyter": {
     "outputs_hidden": false
    },
    "pycharm": {
     "name": "#%% md\n"
    }
   },
   "source": [
    "<a name='e16'></a>\n",
    "### Exercise 16: Improving retrieval\n",
    "\n",
    "(10p) Imagine that you work at a company and are tasked with delivering the best retrieval method. Select the most promising one and try to improve the scores (e.g. by changing the vocab size, loading different model, etc.).\n",
    "Discuss the results you achieve, even if you didn't manage to improve the scores."
   ]
  },
  {
   "cell_type": "code",
   "execution_count": null,
   "metadata": {
    "id": "YA9bEm5ehMq8",
    "pycharm": {
     "name": "#%%\n"
    }
   },
   "outputs": [],
   "source": [
    "#### YOUR CODE HERE\n",
    "\n",
    "\n",
    "\n",
    "### YOUR CODE ENDS HERE"
   ]
  },
  {
   "cell_type": "markdown",
   "metadata": {
    "collapsed": false,
    "jupyter": {
     "outputs_hidden": false
    },
    "pycharm": {
     "name": "#%% md\n"
    }
   },
   "source": [
    "// your comments"
   ]
  }
 ],
 "metadata": {
  "colab": {
   "provenance": [],
   "toc_visible": true
  },
  "kernelspec": {
   "display_name": "Python 3",
   "language": "python",
   "name": "python3"
  },
  "language_info": {
   "codemirror_mode": {
    "name": "ipython",
    "version": 3
   },
   "file_extension": ".py",
   "mimetype": "text/x-python",
   "name": "python",
   "nbconvert_exporter": "python",
   "pygments_lexer": "ipython3",
   "version": "3.12.2"
  }
 },
 "nbformat": 4,
 "nbformat_minor": 4
}
