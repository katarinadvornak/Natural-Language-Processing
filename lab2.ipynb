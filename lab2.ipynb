{
 "cells": [
  {
   "cell_type": "markdown",
   "metadata": {
    "collapsed": false,
    "id": "od2YkWY8pSOC",
    "jupyter": {
     "outputs_hidden": false
    },
    "pycharm": {
     "name": "#%% md\n"
    }
   },
   "source": [
    "# NLP 2025\n",
    "# Lab 2: Word Vectors and Information Retrieval\n",
    "\n",
    "During the first few weeks, we discussed various ways to represent text 📝. One key question was: What should be the basic unit of representation? Words are the fundamental building blocks 🧱.\n",
    "\n",
    "In this lab, we will explore different text representation models, such as Bag-of-Words (BoW), TF-IDF and word embeddings 🔤➡️🔢. Among these, word embeddings are the most effective in terms of performance. They represent each word as a vector of numbers, where each vector captures the meaning of the word 🧠📊.\n",
    "\n",
    "These numerical representations (or weights) are learned using machine learning models 🤖. We’ll dive deeper into how these vectors are learned in the next lecture 📚.\n",
    "\n",
    "For now, we’ll focus on how different representation methods affect performance in an information retrieval task 🔍."
   ]
  },
  {
   "cell_type": "markdown",
   "metadata": {
    "collapsed": false,
    "id": "s93LS5bspSOD",
    "jp-MarkdownHeadingCollapsed": true,
    "jupyter": {
     "outputs_hidden": false
    },
    "pycharm": {
     "name": "#%% md\n"
    }
   },
   "source": [
    "By the end of this lab, you should be able to:\n",
    "\n",
    "+ 🧼🔁 Implement and/or use built-in functions to preprocess your data (once again!)\n",
    "+ 🧱👜 Build a Bag-of-Words representation of the dataset\n",
    "+ 📊✨ Implement TF-IDF\n",
    "+ 📥🔤 Load pre-trained word embeddings\n",
    "+ 🔍🧠 Inspect and test word embedding properties\n",
    "+ 🗣️➡️📐 Use word embeddings to get sentence representations (aka sentence embeddings)\n",
    "+ 🧩🔎 Use sentence embeddings to solve more complex tasks like information retrieval\n",
    "+ 🧪📏 Design evaluation frameworks for specific NLP tasks and assess their difficulty\n",
    "\n",
    "### Score breakdown\n",
    "\n",
    "| Exercise            | Points |\n",
    "|---------------------|--------|\n",
    "| [Exercise 1](#e1)   | 1      |\n",
    "| [Exercise 2](#e2)   | 1      |\n",
    "| [Exercise 3](#e3)   | 1      |\n",
    "| [Exercise 4](#e4)   | 1      |\n",
    "| [Exercise 5](#e5)   | 1      |\n",
    "| [Exercise 6](#e6)   | 2      |\n",
    "| [Exercise 7](#e7)   | 10     |\n",
    "| [Exercise 8](#e8)   | 5      |\n",
    "| [Exercise 9](#e9)   | 15     |\n",
    "| [Exercise 10](#e10) | 10     |\n",
    "| [Exercise 11](#e11) | 10     |\n",
    "| [Exercise 12](#e12) | 5      |\n",
    "| [Exercise 13](#e13) | 15     |\n",
    "| [Exercise 14](#e14) | 3      |\n",
    "| [Exercise 15](#e15) | 10     |\n",
    "| [Exercise 16](#e16) | 10     |\n",
    "| Total               | 100    |\n",
    "\n",
    "This score will be scaled down to 1 and that will be your final lab score.\n",
    "\n",
    "### 📌 **Instructions for Delivery** (📅 **Deadline: 18/Apr 18:00**, 🎭 *wildcards possible*)\n",
    "\n",
    "✅ **Submission Requirements**\n",
    "+ 📄 You need to submit a **PDF of your report** (use the templates provided in **LaTeX** 🖋️ (*preferred*) or **Word** 📑) and a **copy of your notebook** 📓 with the code.\n",
    "+ ⚡ Make sure that **all cells are executed properly** ⚙️ and that **all figures/results/plots** 📊 you include in the report are also visible in your **executed notebook**.\n",
    "\n",
    "✅ **Collaboration & Integrity**\n",
    "+ 🗣️ While you may **discuss** the lab with others, you must **write your solutions with your group only**. If you **discuss specific tasks** with others, please **include their names** in the appendix of the report.\n",
    "+ 📜 **Honor Code applies** to this lab. For more details, check **Syllabus §7.2** ⚖️.\n",
    "+ 📢 **Mandatory Disclosure**:\n",
    "   - Any **websites** 🌐 (e.g., **Stack Overflow** 💡) or **other resources** used must be **listed and disclosed**.\n",
    "   - Any **GenAI tools** 🤖 (e.g., **ChatGPT**) used must be **explicitly mentioned**.\n",
    "   - 🚨 **Failure to disclose these resources is a violation of academic integrity**. See **Syllabus §7.3** for details."
   ]
  },
  {
   "cell_type": "markdown",
   "metadata": {
    "collapsed": false,
    "id": "aHYGq5RUpSOD",
    "jupyter": {
     "outputs_hidden": false
    },
    "pycharm": {
     "name": "#%% md\n"
    }
   },
   "source": [
    "## 0. Setup\n",
    "\n",
    "As in the last lab, we will be using huggingface datasets library ([https://huggingface.co/datasets](https://huggingface.co/datasets)). You can find the detailed documentation and tutorials here: [https://huggingface.co/docs/datasets/en/index](https://huggingface.co/docs/datasets/en/index)\n",
    "\n",
    "If you don't have it installed you can run the code below or install it via `pip` in your terminal. If you are using Google Colab, you can uncomment and run the code below in a code cell. Restarting of the runtime may be required after installation (Runtime/Restart session)."
   ]
  },
  {
   "cell_type": "code",
   "execution_count": 1,
   "metadata": {
    "id": "rhEG8hKrpSOE",
    "pycharm": {
     "name": "#%%\n"
    }
   },
   "outputs": [],
   "source": [
    "# ! pip install -U datasets~=3.5.0\n",
    "# ! pip install -U gensim\n",
    "# ! python -m pip install -U matplotlib\n",
    "# ! pip install nltk\n",
    "# ! pip install -U scikit-learn"
   ]
  },
  {
   "cell_type": "markdown",
   "metadata": {
    "collapsed": false,
    "jupyter": {
     "outputs_hidden": false
    },
    "pycharm": {
     "name": "#%% md\n"
    }
   },
   "source": [
    "Previously installed datasets library version of 3.2.0 had an error when combined with numpy version >2. If you encounter an error at some point it might require to update the datasets library to the newer version. You can do that by running the code below. If you are using Google Colab, you can run the code below in a code cell. If you are using Jupyter Notebook, you can run the code below in a code cell or in a terminal."
   ]
  },
  {
   "cell_type": "code",
   "execution_count": 2,
   "metadata": {
    "collapsed": false,
    "jupyter": {
     "outputs_hidden": false
    },
    "pycharm": {
     "name": "#%%\n"
    }
   },
   "outputs": [],
   "source": [
    "# ! pip install --upgrade --force-reinstall datasets"
   ]
  },
  {
   "cell_type": "markdown",
   "metadata": {
    "collapsed": false,
    "id": "5CCI1TPJpSOF",
    "jupyter": {
     "outputs_hidden": false
    },
    "pycharm": {
     "name": "#%% md\n"
    }
   },
   "source": [
    "As usual, we start by importing some essential Python libraries and we will be using. Apart from `gensim` (which is going to be used for word embeddings), we have already seen the others."
   ]
  },
  {
   "cell_type": "code",
   "execution_count": 1,
   "metadata": {
    "id": "CRe8W4hKpSOF",
    "pycharm": {
     "name": "#%%\n"
    }
   },
   "outputs": [
    {
     "name": "stderr",
     "output_type": "stream",
     "text": [
      "[nltk_data] Downloading package stopwords to\n",
      "[nltk_data]     /home/moonshrike/nltk_data...\n",
      "[nltk_data]   Package stopwords is already up-to-date!\n",
      "[nltk_data] Error loading word_tokenize: Package 'word_tokenize' not\n",
      "[nltk_data]     found in index\n",
      "[nltk_data] Downloading package wordnet to\n",
      "[nltk_data]     /home/moonshrike/nltk_data...\n",
      "[nltk_data]   Package wordnet is already up-to-date!\n"
     ]
    }
   ],
   "source": [
    "import re\n",
    "\n",
    "import numpy as np\n",
    "import matplotlib.pyplot as plt\n",
    "import datasets\n",
    "import tqdm\n",
    "import gensim\n",
    "import ssl\n",
    "import string\n",
    "\n",
    "import nltk\n",
    "nltk.download('stopwords')\n",
    "from nltk.corpus import stopwords\n",
    "nltk.download('word_tokenize')\n",
    "from nltk.tokenize import word_tokenize\n",
    "nltk.download('wordnet')\n",
    "from nltk.stem import WordNetLemmatizer\n",
    "\n",
    "\n",
    "try:\n",
    "    _create_unverified_https_context = ssl._create_unverified_context\n",
    "except AttributeError:\n",
    "    pass\n",
    "else:\n",
    "    ssl._create_default_https_context = _create_unverified_https_context\n",
    "\n"
   ]
  },
  {
   "cell_type": "markdown",
   "metadata": {
    "collapsed": false,
    "id": "NXy-1KiCpSOF",
    "jupyter": {
     "outputs_hidden": false
    },
    "pycharm": {
     "name": "#%% md\n"
    }
   },
   "source": [
    "## 1. Load and Preprocess Data\n",
    "\n",
    "*Sentence compression* involves rephrasing sentences to make them shorter while still retaining the original meaning. A reliable compression system would be valuable for mobile devices and could also serve as a component in an extractive summarization system.\n",
    "\n",
    "The dataset we are going to use can be found on [Huggingface](https://huggingface.co/datasets/embedding-data/sentence-compression). It concerns a set of 180,000 pairs of sentences, aka it is a parallel corpus of sentences and their equivalent compressions. It has been collected by harvesting news articles from the Internet where the headline appears to be similar to the first sentence and that property is used to find an \"extractive\" compression of the sentence.\n",
    "\n",
    "For example, for the sentence\n",
    "\n",
    "`\"Regulators Friday shut down a small Florida bank, bringing to 119 the number of US bank failures this year amid mounting loan defaults\"`\n",
    "\n",
    "the compressed equivalent (based on the dataset) is:\n",
    "\n",
    "`\"Regulators shut down small Florida bank\"`.\n",
    "\n",
    "\n",
    "For more information you can read the original paper (from Google) [here](https://aclanthology.org/D13-1155.pdf). We strongly recommend going over the paper to gain further insights. Notice that the paper is from 2013, therefore word embeddings have not been widely introduced yet in NLP tasks, meaning that the methods applied were based on the traditional NLP pipeline (feature extraction + ML)."
   ]
  },
  {
   "cell_type": "markdown",
   "metadata": {
    "collapsed": false,
    "id": "ztJX2GRVpSOF",
    "jupyter": {
     "outputs_hidden": false
    },
    "pycharm": {
     "name": "#%% md\n"
    }
   },
   "source": [
    "### 1.1 Loading the Dataset\n",
    "\n",
    "The dataset will be loaded as a Pandas DataFrame. This may take a few minutes because of the large size of the data.\n",
    "\n",
    "Make sure to inspect the dataset and make sure it is imported properly."
   ]
  },
  {
   "cell_type": "code",
   "execution_count": 2,
   "metadata": {
    "id": "tay2NXPTpSOG",
    "pycharm": {
     "name": "#%%\n"
    }
   },
   "outputs": [
    {
     "name": "stdout",
     "output_type": "stream",
     "text": [
      "DatasetDict({\n",
      "    train: Dataset({\n",
      "        features: ['set'],\n",
      "        num_rows: 180000\n",
      "    })\n",
      "})\n"
     ]
    }
   ],
   "source": [
    "ds = datasets.load_dataset('embedding-data/sentence-compression')\n",
    "print(ds)"
   ]
  },
  {
   "cell_type": "code",
   "execution_count": 3,
   "metadata": {
    "id": "bUud3eZVpSOH",
    "pycharm": {
     "name": "#%%\n"
    }
   },
   "outputs": [
    {
     "name": "stdout",
     "output_type": "stream",
     "text": [
      "{'set': [\"The USHL completed an expansion draft on Monday as 10 players who were on the rosters of USHL teams during the 2009-10 season were selected by the League's two newest entries, the Muskegon Lumberjacks and Dubuque Fighting Saints.\", 'USHL completes expansion draft']}\n",
      "{'set': ['Major League Baseball Commissioner Bud Selig will be speaking at St. Norbert College next month.', 'Bud Selig to speak at St. Norbert College']}\n",
      "{'set': [\"It's fresh cherry time in Michigan and the best time to enjoy this delicious and nutritious fruit.\", \"It's cherry time\"]}\n",
      "{'set': ['An Evesham man is facing charges in Pennsylvania after he allegedly dragged his girlfriend from the side of his pickup truck on the campus of Kutztown University in the early morning hours of Dec. 5, police said.', 'Evesham man faces charges for Pa.']}\n",
      "{'set': [\"NRT LLC, one of the nation's largest residential real estate brokerage companies, announced several executive appointments within its Coldwell Banker Residential Brokerage operations in Southern California.\", 'NRT announces executive appointments at its Coldwell Banker operations in Southern California']}\n",
      "{'set': ['THE JSE kept toying with an all time high by midday today as resources continued to fuel the bourse.', 'JSE keeps toying with all time high']}\n",
      "{'set': ['The government is defending the latest police crime statistics despite a worrying rise in the recorded amount of violent offending.', 'Government defends crime statistics']}\n",
      "{'set': ['The renovated Marappalam bridge, which had been opened for two-wheelers last week, was opened for other vehicles also on Friday.', 'Marappalam bridge opened']}\n",
      "{'set': ['A new survey shows 30 percent of Californians use Twitter, and more and more of us are using our smart phones to go online.', 'Survey: 30 percent of Californians use Twitter']}\n",
      "{'set': ['Brightpoint ,a provider of logistic services to the mobile industry, has started operations in the Turkish market.', 'Brightpoint starts operations on Turkish market']}\n"
     ]
    }
   ],
   "source": [
    "for i in range(10):\n",
    "    print(ds['train'][i])"
   ]
  },
  {
   "cell_type": "markdown",
   "metadata": {},
   "source": [
    "### "
   ]
  },
  {
   "cell_type": "markdown",
   "metadata": {
    "collapsed": false,
    "id": "HfJSiWxrpSOH",
    "jupyter": {
     "outputs_hidden": false
    },
    "pycharm": {
     "name": "#%% md\n"
    }
   },
   "source": [
    "The dataset comes with only the `train` split so we will have to split it ourselves."
   ]
  },
  {
   "cell_type": "code",
   "execution_count": 4,
   "metadata": {
    "id": "tATL53MWpSOH",
    "pycharm": {
     "name": "#%%\n"
    }
   },
   "outputs": [
    {
     "name": "stdout",
     "output_type": "stream",
     "text": [
      "DatasetDict({\n",
      "    train: Dataset({\n",
      "        features: ['set'],\n",
      "        num_rows: 144000\n",
      "    })\n",
      "    test: Dataset({\n",
      "        features: ['set'],\n",
      "        num_rows: 36000\n",
      "    })\n",
      "})\n"
     ]
    }
   ],
   "source": [
    "split_ds = ds['train'].train_test_split(test_size=0.2)\n",
    "print(split_ds)"
   ]
  },
  {
   "cell_type": "markdown",
   "metadata": {
    "collapsed": false,
    "id": "L133t3CqpSOH",
    "jupyter": {
     "outputs_hidden": false
    },
    "pycharm": {
     "name": "#%% md\n"
    }
   },
   "source": [
    "### 1.2 Preprocessing the dataset\n",
    "In this section we will prepare the dataset, aka clean the sentences and tokenize.\n",
    "\n",
    "First, let's write the function to clean the text. It can be similar to the one from the previous lab (Lab1) but make sure that it makes sense for this dataset and task.\n",
    "\n",
    "More specifically, think about lower-casing, punctuation, stop-words and lemmatization/stemming and the impact it might have on the dataset. Also reflect on the fact that with word embeddings we want to uncover semantic relationships between words, whereas with bag-of-words we were trying to capture different morphological variations."
   ]
  },
  {
   "cell_type": "markdown",
   "metadata": {
    "collapsed": false,
    "id": "mQszN6GNpSOH",
    "jupyter": {
     "outputs_hidden": false
    },
    "pycharm": {
     "name": "#%% md\n"
    }
   },
   "source": [
    "<a name='e1'></a>\n",
    "### Exercise 1: Clean function\n",
    "(1p) Fill in the following function ot clean the dataset. Implement at least 3 different steps."
   ]
  },
  {
   "cell_type": "code",
   "execution_count": 5,
   "metadata": {
    "id": "TxjfLQj6pSOH",
    "pycharm": {
     "name": "#%%\n"
    }
   },
   "outputs": [],
   "source": [
    "# initialize once for more efficiency\n",
    "stop_words = stopwords.words('english')\n",
    "lemmatizer = lemmantizer = WordNetLemmatizer()\n",
    "\n",
    "def clean(text):\n",
    "    \"\"\"\n",
    "    Cleans the given text\n",
    "    Args:\n",
    "        text: a str with the text to clean\n",
    "\n",
    "    Returns: a str with the cleaned text\n",
    "\n",
    "    \"\"\"\n",
    "\n",
    "    # Empty text\n",
    "    if text == '':\n",
    "        return text\n",
    "\n",
    "    # 'text' from the example can be of type numpy.str_, let's convert it to a python str\n",
    "    text = str(text)\n",
    "\n",
    "    #you might need more\n",
    "    #add them here\n",
    "\n",
    "    ### YOUR CODE HERE\n",
    "    \n",
    "    # make all letters lowercase\n",
    "    text = text.lower()\n",
    "\n",
    "    # remove puncation\n",
    "    for char in text:\n",
    "        if (char in string.punctuation ):\n",
    "            text = text.replace(char,\"\")\n",
    "        \n",
    "    # split text into words\n",
    "    text_words = text.split()\n",
    "    \n",
    "    # remove stop words\n",
    "    cleared_words = [] # cleared text as an array\n",
    "    lemmantizer = WordNetLemmatizer() # create a lemmantizer\n",
    "    for word in text_words:\n",
    "        # add only non-stop words and lemantise them before adding\n",
    "        if(word not in stop_words):\n",
    "            cleared_words.append(lemmantizer.lemmatize(word))\n",
    "        \n",
    "    text = ' '.join(cleared_words) # cleared text as a string\n",
    "\n",
    "    ### YOUR CODE ENDS HERE\n",
    "\n",
    "    text = text.strip()\n",
    "\n",
    "    # Update the example with the cleaned text\n",
    "    return text\n",
    "\n"
   ]
  },
  {
   "cell_type": "code",
   "execution_count": 6,
   "metadata": {},
   "outputs": [],
   "source": [
    "\n",
    "#print(clean(\"I was running with my 2 dogs and I saw a cat.\"))"
   ]
  },
  {
   "cell_type": "markdown",
   "metadata": {
    "collapsed": false,
    "id": "gAqf1AoupSOJ",
    "jupyter": {
     "outputs_hidden": false
    },
    "pycharm": {
     "name": "#%% md\n"
    }
   },
   "source": [
    "The following function will apply the function (sic) you just wrote to the whole dataset. More specifically, it takes the first entry (`sentence`) from the set of uncompressed/compressed pairs, applies the `clean` function and saves the processed sentence in the field `clean_sentence`. The same is dome for the compressed version of the sentence (saved as `clean_compressed`)."
   ]
  },
  {
   "cell_type": "code",
   "execution_count": 7,
   "metadata": {
    "id": "WZn-M4_vpSOJ",
    "pycharm": {
     "name": "#%%\n"
    }
   },
   "outputs": [],
   "source": [
    "def clean_dataset(example):\n",
    "    \"\"\"\n",
    "    Cleans the sentence and compressed sentence in the example from the Dataset\n",
    "    Args:\n",
    "        example: an example from the Dataset\n",
    "\n",
    "    Returns: updated example with 'clean_sentence' and 'clean_compressed' cleaned\n",
    "\n",
    "    \"\"\"\n",
    "    sentence, compressed = example['set']\n",
    "    clean_sentence = clean(sentence)\n",
    "    clean_compressed = clean(compressed)\n",
    "    example['clean_sentence'] = clean_sentence\n",
    "    example['clean_compressed'] = clean_compressed\n",
    "    return example\n",
    "\n"
   ]
  },
  {
   "cell_type": "markdown",
   "metadata": {
    "collapsed": false,
    "id": "_KVujosKpSOJ",
    "jupyter": {
     "outputs_hidden": false
    },
    "pycharm": {
     "name": "#%% md\n"
    }
   },
   "source": [
    "Below we apply the function to the whole dataset (using `map`) and we can also inspect the result."
   ]
  },
  {
   "cell_type": "code",
   "execution_count": 8,
   "metadata": {
    "id": "NBS1JbISpSOJ",
    "pycharm": {
     "name": "#%%\n"
    }
   },
   "outputs": [
    {
     "data": {
      "application/vnd.jupyter.widget-view+json": {
       "model_id": "b65f9fce325a48eb94d8109ac1d4b546",
       "version_major": 2,
       "version_minor": 0
      },
      "text/plain": [
       "Map:   0%|          | 0/144000 [00:00<?, ? examples/s]"
      ]
     },
     "metadata": {},
     "output_type": "display_data"
    },
    {
     "data": {
      "application/vnd.jupyter.widget-view+json": {
       "model_id": "2b2cc0dde53445248d535ababda1c9be",
       "version_major": 2,
       "version_minor": 0
      },
      "text/plain": [
       "Map:   0%|          | 0/36000 [00:00<?, ? examples/s]"
      ]
     },
     "metadata": {},
     "output_type": "display_data"
    },
    {
     "name": "stdout",
     "output_type": "stream",
     "text": [
      "DatasetDict({\n",
      "    train: Dataset({\n",
      "        features: ['set', 'clean_sentence', 'clean_compressed'],\n",
      "        num_rows: 144000\n",
      "    })\n",
      "    test: Dataset({\n",
      "        features: ['set', 'clean_sentence', 'clean_compressed'],\n",
      "        num_rows: 36000\n",
      "    })\n",
      "})\n"
     ]
    }
   ],
   "source": [
    "split_ds = split_ds.map(clean_dataset)\n",
    "print(split_ds)\n",
    "\n"
   ]
  },
  {
   "cell_type": "markdown",
   "metadata": {
    "collapsed": false,
    "id": "X_ThE9H-pSOJ",
    "jupyter": {
     "outputs_hidden": false
    },
    "pycharm": {
     "name": "#%% md\n"
    }
   },
   "source": [
    "Let's examine some examples from the dataset and make sure that we got the results we wanted. At this step, it might be necessary to revisit some pre-processing steps if you are not happy with the results."
   ]
  },
  {
   "cell_type": "code",
   "execution_count": 9,
   "metadata": {
    "id": "hP-qOPijpSOJ",
    "pycharm": {
     "name": "#%%\n"
    }
   },
   "outputs": [
    {
     "name": "stdout",
     "output_type": "stream",
     "text": [
      "{'set': ['Jeremy Hellickson of the Tampa Bay Rays has been named the American League rookie of the year by the Baseball Writers Association of America.', 'Jeremy Hellickson named American league rookie of the year'], 'clean_sentence': 'jeremy hellickson tampa bay ray named american league rookie year baseball writer association america', 'clean_compressed': 'jeremy hellickson named american league rookie year'}\n",
      "{'set': ['A US delegation on Monday met Tibetan spiritual leader, the Dalai Lama, in this north Indian town to finalise details of his proposed US visit next month, a Tibetan official said.', 'US delegation meets Dalai Lama'], 'clean_sentence': 'u delegation monday met tibetan spiritual leader dalai lama north indian town finalise detail proposed u visit next month tibetan official said', 'clean_compressed': 'u delegation meet dalai lama'}\n",
      "{'set': ['Foreign Minister Shah Mehmood Qureshi on Sunday said that Faisal Shahzad, the man involved in failed attack at Times Squre, is not a Pakistani but a naturalized American citizen.', 'Faisal Shahzad is not a Pakistani:'], 'clean_sentence': 'foreign minister shah mehmood qureshi sunday said faisal shahzad man involved failed attack time squre pakistani naturalized american citizen', 'clean_compressed': 'faisal shahzad pakistani'}\n",
      "{'set': ['Prime Minister of Ukraine Yulia Tymoshenko says that there is no corruption in her team.', 'There is no corruption in our team --'], 'clean_sentence': 'prime minister ukraine yulia tymoshenko say corruption team', 'clean_compressed': 'corruption team'}\n",
      "{'set': ['Russian President Dmitry Medvedev said on Wednesday that Turkey and Russia were real strategic partners.', \"Medvedev says Turkey and Russia ``real strategic partners''\"], 'clean_sentence': 'russian president dmitry medvedev said wednesday turkey russia real strategic partner', 'clean_compressed': 'medvedev say turkey russia real strategic partner'}\n",
      "{'set': ['Lawyers of Iraqi interpreters who worked with the British army lost their court battle to have their asylum conditions relaxed yesterday.', 'Iraqi interpreters lose court battle'], 'clean_sentence': 'lawyer iraqi interpreter worked british army lost court battle asylum condition relaxed yesterday', 'clean_compressed': 'iraqi interpreter lose court battle'}\n",
      "{'set': [\"MANCHESTER, England -Brazil striker Robinho said Tuesday he has no dispute with Manchester City and is ``committed'' to helping the team become a force in the Premier League.\", 'Robinho says he has no dispute with Man City'], 'clean_sentence': 'manchester england brazil striker robinho said tuesday dispute manchester city committed helping team become force premier league', 'clean_compressed': 'robinho say dispute man city'}\n",
      "{'set': ['European stock markets took a breather Wednesday following big gains the previous day as investors awaited key economic news out of the US Meanwhile, gold struck another new record high as the dollar continued to weaken.', 'European stocks take a breather'], 'clean_sentence': 'european stock market took breather wednesday following big gain previous day investor awaited key economic news u meanwhile gold struck another new record high dollar continued weaken', 'clean_compressed': 'european stock take breather'}\n",
      "{'set': ['Actor Shammi Kapoor, who ruled the film industry in the 1950s and 1960s with his flamboyant, charismatic personality, is no more.', 'Shammi Kapoor is no more'], 'clean_sentence': 'actor shammi kapoor ruled film industry 1950s 1960s flamboyant charismatic personality', 'clean_compressed': 'shammi kapoor'}\n",
      "{'set': ['Arsenal are planning to offer Arsene Wenger a job for life in an attempt to hold on to the Frenchman after his current deal with the club expires in 2011.', 'Arsenal to offer Arsene Wenger a job for life'], 'clean_sentence': 'arsenal planning offer arsene wenger job life attempt hold frenchman current deal club expires 2011', 'clean_compressed': 'arsenal offer arsene wenger job life'}\n"
     ]
    }
   ],
   "source": [
    "for i in range(10):\n",
    "    print(split_ds['train'][i])"
   ]
  },
  {
   "cell_type": "markdown",
   "metadata": {
    "collapsed": false,
    "id": "7LI2KlfypSOJ",
    "jupyter": {
     "outputs_hidden": false
    },
    "pycharm": {
     "name": "#%% md\n"
    }
   },
   "source": [
    "<a name='e2'></a>\n",
    "### Exercise 2: Tokenize function\n",
    "\n",
    "(1p) As always, we will need to tokenize the dataset in order to create bat-of-words and TF-IDF representations in the next sections. We will use the [Natural Language Toolkit (NLTK) library]([https://www.nltk.org/]) (https://www.nltk.org/). Complete the following function to split the text into tokens using the `word_tokenize()` function. Check the [documentation](https://www.nltk.org/api/nltk.tokenize.word_tokenize.html?highlight=word_tokenize) first.\n",
    "Note that there are different tokenizers e.g. `RegexpTokenizer` where you can enter your own regexp, `WhitespaceTokenizer` (similar to Python's string.split()) and `BlanklineTokenizer`."
   ]
  },
  {
   "cell_type": "code",
   "execution_count": 10,
   "metadata": {
    "id": "sb-M3V6ApSOK",
    "pycharm": {
     "name": "#%%\n"
    }
   },
   "outputs": [],
   "source": [
    "def tokenize(text):\n",
    "    \"\"\"\n",
    "    Tokenizes the `text` parameter using nltk library\n",
    "    Args:\n",
    "        text: a string representing a sentence to be tokenized\n",
    "\n",
    "    Returns: a list of tokens (strings)\n",
    "\n",
    "    \"\"\"\n",
    "\n",
    "    ### YOUR CODE HERE\n",
    "\n",
    "    tokens = word_tokenize(text)\n",
    "\n",
    "    ### YOUR CODE ENDS HERE\n",
    "    return tokens"
   ]
  },
  {
   "cell_type": "markdown",
   "metadata": {
    "collapsed": false,
    "id": "gwsHqZc9pSOK",
    "jupyter": {
     "outputs_hidden": false
    },
    "pycharm": {
     "name": "#%% md\n"
    }
   },
   "source": [
    "Next, the function will be applied to the whole dataset (as we did with the pre-processing) and `sentence_tokens` field will be created to store the result."
   ]
  },
  {
   "cell_type": "code",
   "execution_count": 11,
   "metadata": {
    "id": "6sTX-AcTpSOK",
    "pycharm": {
     "name": "#%%\n"
    }
   },
   "outputs": [],
   "source": [
    "def tokenize_dataset(example):\n",
    "    \"\"\"\n",
    "    Tokenizes 'clean_sentence' columns in the example from the Dataset\n",
    "    Args:\n",
    "        example: an example from the Dataset\n",
    "\n",
    "    Returns: updated example with 'sentence_tokens' columns\n",
    "\n",
    "    \"\"\"\n",
    "    example['sentence_tokens'] = tokenize(example['clean_sentence'])\n",
    "    example['compressed_tokens'] = tokenize(example['clean_compressed'])\n",
    "    return example"
   ]
  },
  {
   "cell_type": "code",
   "execution_count": 12,
   "metadata": {
    "id": "jvwmXLj2pSOK",
    "pycharm": {
     "name": "#%%\n"
    }
   },
   "outputs": [
    {
     "data": {
      "application/vnd.jupyter.widget-view+json": {
       "model_id": "99739fec9b7f46329943c296564a29c6",
       "version_major": 2,
       "version_minor": 0
      },
      "text/plain": [
       "Map:   0%|          | 0/144000 [00:00<?, ? examples/s]"
      ]
     },
     "metadata": {},
     "output_type": "display_data"
    },
    {
     "data": {
      "application/vnd.jupyter.widget-view+json": {
       "model_id": "f9236e59e53a4bb0b9bf663b3d04adca",
       "version_major": 2,
       "version_minor": 0
      },
      "text/plain": [
       "Map:   0%|          | 0/36000 [00:00<?, ? examples/s]"
      ]
     },
     "metadata": {},
     "output_type": "display_data"
    }
   ],
   "source": [
    "split_ds = split_ds.map(tokenize_dataset)"
   ]
  },
  {
   "cell_type": "code",
   "execution_count": 13,
   "metadata": {
    "id": "yXnje31SpSOK",
    "pycharm": {
     "name": "#%%\n"
    }
   },
   "outputs": [
    {
     "name": "stdout",
     "output_type": "stream",
     "text": [
      "{'set': ['Jeremy Hellickson of the Tampa Bay Rays has been named the American League rookie of the year by the Baseball Writers Association of America.', 'Jeremy Hellickson named American league rookie of the year'], 'clean_sentence': 'jeremy hellickson tampa bay ray named american league rookie year baseball writer association america', 'clean_compressed': 'jeremy hellickson named american league rookie year', 'sentence_tokens': ['jeremy', 'hellickson', 'tampa', 'bay', 'ray', 'named', 'american', 'league', 'rookie', 'year', 'baseball', 'writer', 'association', 'america'], 'compressed_tokens': ['jeremy', 'hellickson', 'named', 'american', 'league', 'rookie', 'year']}\n",
      "{'set': ['A US delegation on Monday met Tibetan spiritual leader, the Dalai Lama, in this north Indian town to finalise details of his proposed US visit next month, a Tibetan official said.', 'US delegation meets Dalai Lama'], 'clean_sentence': 'u delegation monday met tibetan spiritual leader dalai lama north indian town finalise detail proposed u visit next month tibetan official said', 'clean_compressed': 'u delegation meet dalai lama', 'sentence_tokens': ['u', 'delegation', 'monday', 'met', 'tibetan', 'spiritual', 'leader', 'dalai', 'lama', 'north', 'indian', 'town', 'finalise', 'detail', 'proposed', 'u', 'visit', 'next', 'month', 'tibetan', 'official', 'said'], 'compressed_tokens': ['u', 'delegation', 'meet', 'dalai', 'lama']}\n",
      "{'set': ['Foreign Minister Shah Mehmood Qureshi on Sunday said that Faisal Shahzad, the man involved in failed attack at Times Squre, is not a Pakistani but a naturalized American citizen.', 'Faisal Shahzad is not a Pakistani:'], 'clean_sentence': 'foreign minister shah mehmood qureshi sunday said faisal shahzad man involved failed attack time squre pakistani naturalized american citizen', 'clean_compressed': 'faisal shahzad pakistani', 'sentence_tokens': ['foreign', 'minister', 'shah', 'mehmood', 'qureshi', 'sunday', 'said', 'faisal', 'shahzad', 'man', 'involved', 'failed', 'attack', 'time', 'squre', 'pakistani', 'naturalized', 'american', 'citizen'], 'compressed_tokens': ['faisal', 'shahzad', 'pakistani']}\n",
      "{'set': ['Prime Minister of Ukraine Yulia Tymoshenko says that there is no corruption in her team.', 'There is no corruption in our team --'], 'clean_sentence': 'prime minister ukraine yulia tymoshenko say corruption team', 'clean_compressed': 'corruption team', 'sentence_tokens': ['prime', 'minister', 'ukraine', 'yulia', 'tymoshenko', 'say', 'corruption', 'team'], 'compressed_tokens': ['corruption', 'team']}\n",
      "{'set': ['Russian President Dmitry Medvedev said on Wednesday that Turkey and Russia were real strategic partners.', \"Medvedev says Turkey and Russia ``real strategic partners''\"], 'clean_sentence': 'russian president dmitry medvedev said wednesday turkey russia real strategic partner', 'clean_compressed': 'medvedev say turkey russia real strategic partner', 'sentence_tokens': ['russian', 'president', 'dmitry', 'medvedev', 'said', 'wednesday', 'turkey', 'russia', 'real', 'strategic', 'partner'], 'compressed_tokens': ['medvedev', 'say', 'turkey', 'russia', 'real', 'strategic', 'partner']}\n",
      "{'set': ['Lawyers of Iraqi interpreters who worked with the British army lost their court battle to have their asylum conditions relaxed yesterday.', 'Iraqi interpreters lose court battle'], 'clean_sentence': 'lawyer iraqi interpreter worked british army lost court battle asylum condition relaxed yesterday', 'clean_compressed': 'iraqi interpreter lose court battle', 'sentence_tokens': ['lawyer', 'iraqi', 'interpreter', 'worked', 'british', 'army', 'lost', 'court', 'battle', 'asylum', 'condition', 'relaxed', 'yesterday'], 'compressed_tokens': ['iraqi', 'interpreter', 'lose', 'court', 'battle']}\n",
      "{'set': [\"MANCHESTER, England -Brazil striker Robinho said Tuesday he has no dispute with Manchester City and is ``committed'' to helping the team become a force in the Premier League.\", 'Robinho says he has no dispute with Man City'], 'clean_sentence': 'manchester england brazil striker robinho said tuesday dispute manchester city committed helping team become force premier league', 'clean_compressed': 'robinho say dispute man city', 'sentence_tokens': ['manchester', 'england', 'brazil', 'striker', 'robinho', 'said', 'tuesday', 'dispute', 'manchester', 'city', 'committed', 'helping', 'team', 'become', 'force', 'premier', 'league'], 'compressed_tokens': ['robinho', 'say', 'dispute', 'man', 'city']}\n",
      "{'set': ['European stock markets took a breather Wednesday following big gains the previous day as investors awaited key economic news out of the US Meanwhile, gold struck another new record high as the dollar continued to weaken.', 'European stocks take a breather'], 'clean_sentence': 'european stock market took breather wednesday following big gain previous day investor awaited key economic news u meanwhile gold struck another new record high dollar continued weaken', 'clean_compressed': 'european stock take breather', 'sentence_tokens': ['european', 'stock', 'market', 'took', 'breather', 'wednesday', 'following', 'big', 'gain', 'previous', 'day', 'investor', 'awaited', 'key', 'economic', 'news', 'u', 'meanwhile', 'gold', 'struck', 'another', 'new', 'record', 'high', 'dollar', 'continued', 'weaken'], 'compressed_tokens': ['european', 'stock', 'take', 'breather']}\n",
      "{'set': ['Actor Shammi Kapoor, who ruled the film industry in the 1950s and 1960s with his flamboyant, charismatic personality, is no more.', 'Shammi Kapoor is no more'], 'clean_sentence': 'actor shammi kapoor ruled film industry 1950s 1960s flamboyant charismatic personality', 'clean_compressed': 'shammi kapoor', 'sentence_tokens': ['actor', 'shammi', 'kapoor', 'ruled', 'film', 'industry', '1950s', '1960s', 'flamboyant', 'charismatic', 'personality'], 'compressed_tokens': ['shammi', 'kapoor']}\n",
      "{'set': ['Arsenal are planning to offer Arsene Wenger a job for life in an attempt to hold on to the Frenchman after his current deal with the club expires in 2011.', 'Arsenal to offer Arsene Wenger a job for life'], 'clean_sentence': 'arsenal planning offer arsene wenger job life attempt hold frenchman current deal club expires 2011', 'clean_compressed': 'arsenal offer arsene wenger job life', 'sentence_tokens': ['arsenal', 'planning', 'offer', 'arsene', 'wenger', 'job', 'life', 'attempt', 'hold', 'frenchman', 'current', 'deal', 'club', 'expires', '2011'], 'compressed_tokens': ['arsenal', 'offer', 'arsene', 'wenger', 'job', 'life']}\n"
     ]
    }
   ],
   "source": [
    "for i in range(10):\n",
    "    print(split_ds['train'][i])"
   ]
  },
  {
   "cell_type": "markdown",
   "metadata": {
    "collapsed": false,
    "id": "FeF0wFd0pSOL",
    "jupyter": {
     "outputs_hidden": false
    },
    "pycharm": {
     "name": "#%% md\n"
    }
   },
   "source": [
    "Since we will need the tokenized sentences, we can use the following statement to extract them from the `train` split of our dataset."
   ]
  },
  {
   "cell_type": "code",
   "execution_count": 14,
   "metadata": {
    "id": "qYKfXFxQpSOL",
    "pycharm": {
     "name": "#%%\n"
    }
   },
   "outputs": [
    {
     "name": "stdout",
     "output_type": "stream",
     "text": [
      "144000\n",
      "[['jeremy', 'hellickson', 'tampa', 'bay', 'ray', 'named', 'american', 'league', 'rookie', 'year', 'baseball', 'writer', 'association', 'america'], ['u', 'delegation', 'monday', 'met', 'tibetan', 'spiritual', 'leader', 'dalai', 'lama', 'north', 'indian', 'town', 'finalise', 'detail', 'proposed', 'u', 'visit', 'next', 'month', 'tibetan', 'official', 'said'], ['foreign', 'minister', 'shah', 'mehmood', 'qureshi', 'sunday', 'said', 'faisal', 'shahzad', 'man', 'involved', 'failed', 'attack', 'time', 'squre', 'pakistani', 'naturalized', 'american', 'citizen'], ['prime', 'minister', 'ukraine', 'yulia', 'tymoshenko', 'say', 'corruption', 'team'], ['russian', 'president', 'dmitry', 'medvedev', 'said', 'wednesday', 'turkey', 'russia', 'real', 'strategic', 'partner'], ['lawyer', 'iraqi', 'interpreter', 'worked', 'british', 'army', 'lost', 'court', 'battle', 'asylum', 'condition', 'relaxed', 'yesterday'], ['manchester', 'england', 'brazil', 'striker', 'robinho', 'said', 'tuesday', 'dispute', 'manchester', 'city', 'committed', 'helping', 'team', 'become', 'force', 'premier', 'league'], ['european', 'stock', 'market', 'took', 'breather', 'wednesday', 'following', 'big', 'gain', 'previous', 'day', 'investor', 'awaited', 'key', 'economic', 'news', 'u', 'meanwhile', 'gold', 'struck', 'another', 'new', 'record', 'high', 'dollar', 'continued', 'weaken'], ['actor', 'shammi', 'kapoor', 'ruled', 'film', 'industry', '1950s', '1960s', 'flamboyant', 'charismatic', 'personality'], ['arsenal', 'planning', 'offer', 'arsene', 'wenger', 'job', 'life', 'attempt', 'hold', 'frenchman', 'current', 'deal', 'club', 'expires', '2011']]\n"
     ]
    }
   ],
   "source": [
    "tokenized_sentences = split_ds['train']['sentence_tokens']\n",
    "print(len(tokenized_sentences))\n",
    "print(tokenized_sentences[:10])"
   ]
  },
  {
   "cell_type": "code",
   "execution_count": 15,
   "metadata": {
    "collapsed": false,
    "jupyter": {
     "outputs_hidden": false
    },
    "pycharm": {
     "name": "#%%\n"
    }
   },
   "outputs": [
    {
     "name": "stdout",
     "output_type": "stream",
     "text": [
      "144000\n",
      "[['jeremy', 'hellickson', 'named', 'american', 'league', 'rookie', 'year'], ['u', 'delegation', 'meet', 'dalai', 'lama'], ['faisal', 'shahzad', 'pakistani'], ['corruption', 'team'], ['medvedev', 'say', 'turkey', 'russia', 'real', 'strategic', 'partner'], ['iraqi', 'interpreter', 'lose', 'court', 'battle'], ['robinho', 'say', 'dispute', 'man', 'city'], ['european', 'stock', 'take', 'breather'], ['shammi', 'kapoor'], ['arsenal', 'offer', 'arsene', 'wenger', 'job', 'life']]\n"
     ]
    }
   ],
   "source": [
    "tokenized_compressed = split_ds['train']['compressed_tokens']\n",
    "print(len(tokenized_compressed))\n",
    "print(tokenized_compressed[:10])"
   ]
  },
  {
   "cell_type": "markdown",
   "metadata": {
    "id": "ZDGwEiZeCA5U",
    "pycharm": {
     "name": "#%% md\n"
    }
   },
   "source": [
    "Notice the difference in the types of the different structures we use. Run the following cell to check the types. Do they make sense to you?"
   ]
  },
  {
   "cell_type": "code",
   "execution_count": 16,
   "metadata": {
    "id": "wKrkFmcZCtOd",
    "pycharm": {
     "name": "#%%\n"
    }
   },
   "outputs": [
    {
     "name": "stdout",
     "output_type": "stream",
     "text": [
      "<class 'datasets.dataset_dict.DatasetDict'>\n",
      "--\n",
      "{'set': ['A US delegation on Monday met Tibetan spiritual leader, the Dalai Lama, in this north Indian town to finalise details of his proposed US visit next month, a Tibetan official said.', 'US delegation meets Dalai Lama'], 'clean_sentence': 'u delegation monday met tibetan spiritual leader dalai lama north indian town finalise detail proposed u visit next month tibetan official said', 'clean_compressed': 'u delegation meet dalai lama', 'sentence_tokens': ['u', 'delegation', 'monday', 'met', 'tibetan', 'spiritual', 'leader', 'dalai', 'lama', 'north', 'indian', 'town', 'finalise', 'detail', 'proposed', 'u', 'visit', 'next', 'month', 'tibetan', 'official', 'said'], 'compressed_tokens': ['u', 'delegation', 'meet', 'dalai', 'lama']}\n",
      "<class 'dict'>\n",
      "--\n",
      "u delegation monday met tibetan spiritual leader dalai lama north indian town finalise detail proposed u visit next month tibetan official said\n",
      "<class 'str'>\n",
      "--\n",
      "['u', 'delegation', 'monday', 'met', 'tibetan', 'spiritual', 'leader', 'dalai', 'lama', 'north', 'indian', 'town', 'finalise', 'detail', 'proposed', 'u', 'visit', 'next', 'month', 'tibetan', 'official', 'said']\n",
      "<class 'list'>\n",
      "--\n"
     ]
    }
   ],
   "source": [
    "#type of original dataset\n",
    "print(type(split_ds))\n",
    "print(\"--\")\n",
    "#type of original sentence\n",
    "print(split_ds['train'][1])\n",
    "print(type(split_ds['train'][1]))\n",
    "print(\"--\")\n",
    "#type of pre-proceesed sentence\n",
    "print(split_ds['train']['clean_sentence'][1])\n",
    "print(type(split_ds['train']['clean_sentence'][1]))\n",
    "print(\"--\")\n",
    "#type of tokenized sentence\n",
    "print(split_ds['train']['sentence_tokens'][1])\n",
    "print(type(split_ds['train']['sentence_tokens'][1]))\n",
    "print(\"--\")"
   ]
  },
  {
   "cell_type": "markdown",
   "metadata": {
    "collapsed": false,
    "jupyter": {
     "outputs_hidden": false
    },
    "pycharm": {
     "name": "#%% md\n"
    }
   },
   "source": [
    "## 2. Bag of Words\n",
    "In this section you will built a bag-of-words representation of the dataset. We will use numpy arrays to store the results. The bag-of-words representation is a simple and effective way to represent text data. It involves creating a vocabulary of unique words from the dataset and representing each sentence as a vector of word counts. We first need the vocabulary, which we will build from both the full sentences and the compressed sentences. Similar to the first lab, the vocabulary will be a list of unique words from the dataset."
   ]
  },
  {
   "cell_type": "markdown",
   "metadata": {
    "collapsed": false,
    "jupyter": {
     "outputs_hidden": false
    },
    "pycharm": {
     "name": "#%% md\n"
    }
   },
   "source": [
    "<a name='e3'></a>\n",
    "### Exercise 3: Extracting vocabulary counts\n",
    "\n",
    "(1p) In the following cell, you will implement a function that takes a list of tokenized sentences and returns a dictionary with the counts of each word in the vocabulary. The dictionary should be of the form {word: count}. As in previous lab, you will use the `Counter` class from the `collections` module to do this."
   ]
  },
  {
   "cell_type": "code",
   "execution_count": 17,
   "metadata": {
    "collapsed": false,
    "jupyter": {
     "outputs_hidden": false
    },
    "pycharm": {
     "name": "#%%\n"
    }
   },
   "outputs": [],
   "source": [
    "from collections import Counter\n",
    "\n",
    "\n",
    "def extract_vocabulary_counts(tokenized_sentences):\n",
    "    \"\"\"\n",
    "    Extracts the vocabulary from the tokenized sentences\n",
    "    Args:\n",
    "        tokenized_sentences: a list of lists of tokens\n",
    "\n",
    "    Returns: a Counter object with the counts of each word in the vocabulary\n",
    "    \"\"\"\n",
    "\n",
    "    ### YOUR CODE HERE\n",
    "\n",
    "    # retun token count for all sentences in tokenized_sentences\n",
    "    return Counter(token for sentence in tokenized_sentences for token in sentence)\n",
    "\n",
    "    ### YOUR CODE ENDS HERE"
   ]
  },
  {
   "cell_type": "code",
   "execution_count": 18,
   "metadata": {
    "collapsed": false,
    "jupyter": {
     "outputs_hidden": false
    },
    "pycharm": {
     "name": "#%%\n"
    }
   },
   "outputs": [
    {
     "name": "stdout",
     "output_type": "stream",
     "text": [
      "111524\n",
      "[('new', 20259), ('said', 19924), ('year', 12255), ('man', 12153), ('u', 11607), ('today', 10136), ('police', 9782), ('two', 9317), ('state', 8957), ('say', 8843)]\n"
     ]
    }
   ],
   "source": [
    "vocab_counter = extract_vocabulary_counts(tokenized_sentences + tokenized_compressed)\n",
    "print(len(vocab_counter))\n",
    "print(vocab_counter.most_common(10))"
   ]
  },
  {
   "cell_type": "markdown",
   "metadata": {
    "collapsed": false,
    "jupyter": {
     "outputs_hidden": false
    },
    "pycharm": {
     "name": "#%% md\n"
    }
   },
   "source": [
    "As you can see the size of the vocabulary is quite large. Like the last time, we will limit the vocabulary to the most frequent words. The next cell will create a dictionary that maps each word to an index in the vocabulary. This will be used to create the bag-of-words representation of the sentences."
   ]
  },
  {
   "cell_type": "code",
   "execution_count": 19,
   "metadata": {
    "collapsed": false,
    "jupyter": {
     "outputs_hidden": false
    },
    "pycharm": {
     "name": "#%%\n"
    }
   },
   "outputs": [],
   "source": [
    "vocab_size = 10_000\n",
    "vocab = vocab_counter.most_common(vocab_size)\n",
    "token_to_id = {word: i for i, (word, _) in enumerate(vocab)}\n",
    "#print(token_to_id)"
   ]
  },
  {
   "cell_type": "markdown",
   "metadata": {
    "collapsed": false,
    "jupyter": {
     "outputs_hidden": false
    },
    "pycharm": {
     "name": "#%% md\n"
    }
   },
   "source": [
    "<a name='e4'></a>\n",
    "### Exercise 4: Bag of Words\n",
    "(1p) Here we will create the bag-of-words representation of the sentences. The function will take a single sentence (list of tokens) and return an array of size `vocab_size` with the counts of each word in the vocabulary. The\n",
    "`vocab_size` is calculated as the length of the passed `token_to_id` dictionary. The resulting array should have zeros everywhere but the indices corresponding to the words in the vocabulary where it should have the counts of the words in the sentence. For example, if the sentence is `['fox', 'and', 'deer']` and the vocabulary is `{'fox': 0, 'and': 1, 'deer': 2}`, the resulting array should be `[1, 1, 1]`. If the sentence is `['fox', 'and', 'fox', 'deer']`, the resulting array should be `[2, 1, 1]`."
   ]
  },
  {
   "cell_type": "code",
   "execution_count": 20,
   "metadata": {
    "pycharm": {
     "name": "#%%\n"
    }
   },
   "outputs": [],
   "source": [
    "def bag_of_words(sentence, token_to_id):\n",
    "    \"\"\"\n",
    "    Creates a bag-of-words representation of the sentence\n",
    "    Args:\n",
    "        sentence: a list of tokens\n",
    "        token_to_id: a dictionary mapping each word to an index in the vocabulary\n",
    "\n",
    "    Returns: a numpy array of size vocab_size with the counts of each word in the vocabulary\n",
    "\n",
    "    \"\"\"\n",
    "    vocab_size = len(token_to_id)\n",
    "    bow = np.zeros(vocab_size, dtype=int)\n",
    "\n",
    "    ### YOUR CODE HERE\n",
    "\n",
    "    # iterate through words\n",
    "    for word in sentence:\n",
    "        if word in token_to_id:\n",
    "            bow[token_to_id[word]] += 1\n",
    "\n",
    "    ### YOUR CODE ENDS HERE\n",
    "\n",
    "    return bow\n",
    "\n",
    "def bag_of_words_boost(sentence, token_to_id):\n",
    "    vocab_size = len(token_to_id)\n",
    "    bow = np.zeros(vocab_size, dtype=int)\n",
    "    \n",
    "    for word in sentence:\n",
    "            # if a word is in vocabulary\n",
    "            if(word in token_to_id):\n",
    "                idx = token_to_id[word]\n",
    "                if vocab_counts:\n",
    "                    # boost rare words using inverse frequency\n",
    "                    word_freq = vocab_counts.get(word, 1)\n",
    "                    boost = 1 + np.log10(1 + 1 / word_freq)\n",
    "                    bow[idx] += boost\n",
    "                else:\n",
    "                    # regular count\n",
    "                    bow[idx] += 1\n",
    "    \n",
    "\n",
    "    return bow\n"
   ]
  },
  {
   "cell_type": "markdown",
   "metadata": {
    "collapsed": false,
    "jupyter": {
     "outputs_hidden": false
    },
    "pycharm": {
     "name": "#%% md\n"
    }
   },
   "source": [
    "Let's see how the function works on a single sentence. The output should be a numpy array of size `vocab_size` with the counts of each word in the vocabulary."
   ]
  },
  {
   "cell_type": "code",
   "execution_count": 21,
   "metadata": {
    "collapsed": false,
    "jupyter": {
     "outputs_hidden": false
    },
    "pycharm": {
     "name": "#%%\n"
    }
   },
   "outputs": [
    {
     "name": "stdout",
     "output_type": "stream",
     "text": [
      "Tokenized sentence:\n",
      "['jeremy', 'hellickson', 'tampa', 'bay', 'ray', 'named', 'american', 'league', 'rookie', 'year', 'baseball', 'writer', 'association', 'america']\n",
      "Bag of words:\n",
      "[0 0 1 ... 0 0 0]\n",
      "Type of bag of words:\n",
      "<class 'numpy.ndarray'>\n",
      "Shape of bag of words:\n",
      "(10000,)\n",
      "Non-zero elements in bag of words:\n",
      "[   2   89  125  359  466  612  798  962 1130 2031 2400 2884 3366]\n"
     ]
    }
   ],
   "source": [
    "print('Tokenized sentence:')\n",
    "print(tokenized_sentences[0])\n",
    "sentence_bow = bag_of_words(tokenized_sentences[0], token_to_id)\n",
    "\n",
    "print('Bag of words:')\n",
    "print(sentence_bow)\n",
    "print('Type of bag of words:')\n",
    "print(type(sentence_bow))\n",
    "print('Shape of bag of words:')\n",
    "print(sentence_bow.shape)\n",
    "print('Non-zero elements in bag of words:')\n",
    "print(np.nonzero(sentence_bow)[0])"
   ]
  },
  {
   "cell_type": "markdown",
   "metadata": {
    "collapsed": false,
    "jupyter": {
     "outputs_hidden": false
    },
    "pycharm": {
     "name": "#%% md\n"
    }
   },
   "source": [
    "We can also check in detail what words and their counts are in the bag-of-words representation."
   ]
  },
  {
   "cell_type": "code",
   "execution_count": 22,
   "metadata": {
    "pycharm": {
     "name": "#%%\n"
    }
   },
   "outputs": [
    {
     "name": "stdout",
     "output_type": "stream",
     "text": [
      "Non-zero elements in bag of words:\n",
      "[   2   89  125  359  466  612  798  962 1130 2031 2400 2884 3366]\n",
      "year : 1\n",
      "american : 1\n",
      "league : 1\n",
      "america : 1\n",
      "named : 1\n",
      "association : 1\n",
      "bay : 1\n",
      "baseball : 1\n",
      "writer : 1\n",
      "ray : 1\n",
      "tampa : 1\n",
      "rookie : 1\n",
      "jeremy : 1\n"
     ]
    }
   ],
   "source": [
    "sentence_non_zero_bow = np.nonzero(sentence_bow)[0]\n",
    "print('Non-zero elements in bag of words:')\n",
    "print(sentence_non_zero_bow)\n",
    "for i in sentence_non_zero_bow:\n",
    "    print(vocab[i][0], ':', sentence_bow[i])"
   ]
  },
  {
   "cell_type": "markdown",
   "metadata": {
    "collapsed": false,
    "jupyter": {
     "outputs_hidden": false
    },
    "pycharm": {
     "name": "#%% md\n"
    }
   },
   "source": [
    "The following function will apply all the steps we implemented to a single sentence. It returns a bag of words representation that we will use to calculate the similarity between different sentences."
   ]
  },
  {
   "cell_type": "code",
   "execution_count": 23,
   "metadata": {
    "collapsed": false,
    "jupyter": {
     "outputs_hidden": false
    },
    "pycharm": {
     "name": "#%%\n"
    }
   },
   "outputs": [],
   "source": [
    "def embed_text(text, clean_fn, tokenize_fn, embed_fn):\n",
    "    cleaned = clean_fn(text)\n",
    "    tokens = tokenize_fn(cleaned)\n",
    "    embedding = embed_fn(tokens)\n",
    "    return embedding"
   ]
  },
  {
   "cell_type": "markdown",
   "metadata": {
    "collapsed": false,
    "jupyter": {
     "outputs_hidden": false
    },
    "pycharm": {
     "name": "#%% md\n"
    }
   },
   "source": [
    "<a name='e5'></a>\n",
    "### Exercise 5: Cosine Similarity between two vectors\n",
    "\n",
    "(1p) Complete the following function that given any two vectors will compute the cosine similarity. If you don't remember the formula for the cosine similarity, revisit the course material. Notice that the function receives numpy arrays and recall that you can express cosine similarity as a dot product. Use numpy functions to write an efficient implementation."
   ]
  },
  {
   "cell_type": "code",
   "execution_count": 24,
   "metadata": {
    "collapsed": false,
    "jupyter": {
     "outputs_hidden": false
    },
    "pycharm": {
     "name": "#%%\n"
    }
   },
   "outputs": [],
   "source": [
    "def cosine_similarity1(vector1, vector2):\n",
    "    \"\"\"\n",
    "    Computes the cosine similarity between two vectors\n",
    "    Args:\n",
    "        vector1: numpy array of the first vector\n",
    "        vector2: numpy array of the second vector\n",
    "\n",
    "    Returns: cosine similarity\n",
    "\n",
    "    \"\"\"\n",
    "    ### YOUR CODE HERE\n",
    "    \n",
    "    # calculate the numenator and the denumenator of the formula\n",
    "    numerator = np.dot(vector1, vector2)\n",
    "    denom = np.linalg.norm(vector1) * np.linalg.norm(vector2)\n",
    "    # return calculated cosine similarities between vectors using the formula if the denominator is non zero, and 0 otherwise\n",
    "    similarity = np.divide(numerator, denom, out=np.zeros_like(numerator), where=denom!=0)[0]\n",
    "\n",
    "    return similarity\n",
    "    ### YOUR CODE ENDS HERE"
   ]
  },
  {
   "cell_type": "code",
   "execution_count": 25,
   "metadata": {},
   "outputs": [],
   "source": [
    "def cosine_similarity(vector1, vector2):\n",
    "    \"\"\"\n",
    "    Computes the cosine similarity between two vectors\n",
    "    Args:\n",
    "        vector1: numpy array of the first vector\n",
    "        vector2: numpy array of the second vector\n",
    "\n",
    "    Returns: cosine similarity\n",
    "    \"\"\"\n",
    "    numerator = np.dot(vector1, vector2)\n",
    "    denom = np.linalg.norm(vector1) * np.linalg.norm(vector2)\n",
    "    \n",
    "    if denom != 0:\n",
    "        return numerator / denom\n",
    "    else:\n",
    "        return 0.0\n"
   ]
  },
  {
   "cell_type": "code",
   "execution_count": 26,
   "metadata": {
    "collapsed": false,
    "jupyter": {
     "outputs_hidden": false
    },
    "pycharm": {
     "name": "#%%\n"
    }
   },
   "outputs": [
    {
     "data": {
      "text/plain": [
       "0.9999999999999998"
      ]
     },
     "execution_count": 26,
     "metadata": {},
     "output_type": "execute_result"
    }
   ],
   "source": [
    "cosine_similarity(np.array([0, 1, 2]), np.array([0, 2, 4]))"
   ]
  },
  {
   "cell_type": "code",
   "execution_count": 27,
   "metadata": {
    "collapsed": false,
    "jupyter": {
     "outputs_hidden": false
    },
    "pycharm": {
     "name": "#%%\n"
    }
   },
   "outputs": [
    {
     "name": "stdout",
     "output_type": "stream",
     "text": [
      "Query: fox and deer\n",
      "Cosine Similarity: 0.3162 - Sentence: The quick brown fox jumps over the lazy dog.\n",
      "Cosine Similarity: 0.0000 - Sentence: Some interesting document containin sentences.\n",
      "Cosine Similarity: 0.2887 - Sentence: The quick brown fox jumps over the lazy cat and some other stuff.\n",
      "Cosine Similarity: 0.8165 - Sentence: Fox and deer are not friends.\n",
      "Cosine Similarity: 0.3651 - Sentence: Fox and deer are not friends. But this document is a lot longer than the previous one. We can add sentence by sentence and see how the embeddings change.\n"
     ]
    }
   ],
   "source": [
    "sentences = [\n",
    "    'The quick brown fox jumps over the lazy dog.',\n",
    "    'Some interesting document containin sentences.',\n",
    "    'The quick brown fox jumps over the lazy cat and some other stuff.',\n",
    "    'Fox and deer are not friends.',\n",
    "    'Fox and deer are not friends. But this document is a lot longer than the previous one. We can add sentence by sentence and see how the embeddings change.',\n",
    "]\n",
    "embedded_sentences = [\n",
    "    embed_text(sentence, clean, tokenize, lambda x: bag_of_words(x, token_to_id))\n",
    "    for sentence in sentences\n",
    "]\n",
    "\n",
    "query = 'fox and deer'\n",
    "embedded_query = embed_text(query, clean, tokenize, lambda x: bag_of_words(x, token_to_id))\n",
    "\n",
    "cosine_similarities = [\n",
    "    cosine_similarity(embedded_query, embedded_sentence)\n",
    "    for embedded_sentence in embedded_sentences\n",
    "]\n",
    "print(f'Query: {query}')\n",
    "for sent, cos_sim in zip(sentences, cosine_similarities):\n",
    "    print(f'Cosine Similarity: {cos_sim:.4f} - Sentence: {sent}')"
   ]
  },
  {
   "cell_type": "markdown",
   "metadata": {
    "collapsed": false,
    "jupyter": {
     "outputs_hidden": false
    },
    "pycharm": {
     "name": "#%% md\n"
    }
   },
   "source": [
    "We will apply the function to the whole dataset. This might take a while, so be patient. The result will be stored in the `sentence_bow` and `compressed_bow` fields of the dataset."
   ]
  },
  {
   "cell_type": "code",
   "execution_count": 28,
   "metadata": {
    "collapsed": false,
    "jupyter": {
     "outputs_hidden": false
    },
    "pycharm": {
     "name": "#%%\n"
    }
   },
   "outputs": [],
   "source": [
    "def bag_of_words_dataset(example):\n",
    "    \"\"\"\n",
    "    Creates a bag-of-words representation of the sentence and compressed sentence in the example from the Dataset\n",
    "    Args:\n",
    "        example: an example from the Dataset\n",
    "\n",
    "    Returns: updated example with 'sentence_bow' and 'compressed_bow' columns\n",
    "\n",
    "    \"\"\"\n",
    "    sentence_tokens = example['sentence_tokens']\n",
    "    compressed_tokens = example['compressed_tokens']\n",
    "\n",
    "    sentence_bow = bag_of_words(sentence_tokens, token_to_id)\n",
    "    compressed_bow = bag_of_words(compressed_tokens, token_to_id)\n",
    "\n",
    "    example['sentence_bow'] = sentence_bow\n",
    "    example['compressed_bow'] = compressed_bow\n",
    "    return example"
   ]
  },
  {
   "cell_type": "markdown",
   "metadata": {
    "collapsed": false,
    "jupyter": {
     "outputs_hidden": false
    },
    "pycharm": {
     "name": "#%% md\n"
    }
   },
   "source": [
    "The following cell will apply the function to the whole dataset. The result will be stored in the `sentence_bow` and `compressed_bow` fields of the dataset. We will also convert the dataset's fields `sentence_bow` and `compressed_bow` to numpy format for easier manipulation."
   ]
  },
  {
   "cell_type": "code",
   "execution_count": 29,
   "metadata": {
    "collapsed": false,
    "jupyter": {
     "outputs_hidden": false
    },
    "pycharm": {
     "name": "#%%\n"
    }
   },
   "outputs": [
    {
     "data": {
      "application/vnd.jupyter.widget-view+json": {
       "model_id": "081321274384457685198e236a461406",
       "version_major": 2,
       "version_minor": 0
      },
      "text/plain": [
       "Map:   0%|          | 0/36000 [00:00<?, ? examples/s]"
      ]
     },
     "metadata": {},
     "output_type": "display_data"
    },
    {
     "name": "stdout",
     "output_type": "stream",
     "text": [
      "Dataset({\n",
      "    features: ['set', 'clean_sentence', 'clean_compressed', 'sentence_tokens', 'compressed_tokens', 'sentence_bow', 'compressed_bow'],\n",
      "    num_rows: 36000\n",
      "})\n"
     ]
    }
   ],
   "source": [
    "test_ds = split_ds['test'].map(bag_of_words_dataset)\n",
    "test_ds = test_ds.with_format('np', columns=['sentence_bow', 'compressed_bow'], dtype=float)\n",
    "print(test_ds)"
   ]
  },
  {
   "cell_type": "markdown",
   "metadata": {
    "collapsed": false,
    "jupyter": {
     "outputs_hidden": false
    },
    "pycharm": {
     "name": "#%% md\n"
    }
   },
   "source": [
    "Let's check the results. The `sentence_bow` and `compressed_bow` fields should contain the bag-of-words representation of the sentences and compressed sentences, respectively."
   ]
  },
  {
   "cell_type": "code",
   "execution_count": 30,
   "metadata": {
    "collapsed": false,
    "jupyter": {
     "outputs_hidden": false
    },
    "pycharm": {
     "name": "#%%\n"
    }
   },
   "outputs": [
    {
     "name": "stdout",
     "output_type": "stream",
     "text": [
      "{'sentence_bow': array([0., 1., 0., ..., 0., 0., 0.]), 'compressed_bow': array([0., 0., 0., ..., 0., 0., 0.])}\n",
      "Non-zero elements in bag of words:\n",
      "[   1    3   29   60   66   85  328  503 1603]\n",
      "said : 0\n",
      "man : 0\n",
      "service : 0\n",
      "found : 0\n",
      "fire : 0\n",
      "house : 0\n",
      "body : 0\n",
      "emergency : 0\n",
      "severe : 0\n"
     ]
    }
   ],
   "source": [
    "print(test_ds[0])\n",
    "sentence_non_zero_bow = np.nonzero(test_ds[0]['sentence_bow'])[0]\n",
    "print('Non-zero elements in bag of words:')\n",
    "print(sentence_non_zero_bow)\n",
    "for i in sentence_non_zero_bow:\n",
    "    print(vocab[i][0], ':', sentence_bow[i])"
   ]
  },
  {
   "cell_type": "code",
   "execution_count": 31,
   "metadata": {
    "collapsed": false,
    "jupyter": {
     "outputs_hidden": false
    },
    "pycharm": {
     "name": "#%%\n"
    }
   },
   "outputs": [
    {
     "name": "stdout",
     "output_type": "stream",
     "text": [
      "(36000, 10000)\n"
     ]
    }
   ],
   "source": [
    "sentences_bows = test_ds['sentence_bow']\n",
    "print(sentences_bows.shape)"
   ]
  },
  {
   "cell_type": "markdown",
   "metadata": {
    "collapsed": false,
    "jupyter": {
     "outputs_hidden": false
    },
    "pycharm": {
     "name": "#%% md\n"
    }
   },
   "source": [
    "Now we can start building a retriever based on the bag of words representation. The first step is to calculate the cosine similarity between two vectors."
   ]
  },
  {
   "cell_type": "markdown",
   "metadata": {
    "collapsed": false,
    "jupyter": {
     "outputs_hidden": false
    },
    "pycharm": {
     "name": "#%% md\n"
    }
   },
   "source": [
    "<a name='e6'></a>\n",
    "### Exercise 6: Cosine Similarity between a vector and an array of vectors\n",
    "\n",
    "(2p) The next step in our retrieval system, would be to calculate the proximity of a query to our retrieval corpus (in our case that is all the sentences).\n",
    "\n",
    "Complete the following function to calculate the cosine similarity between a vector (first parameter `vector`, that will usually be the query vector) and all other vectors (second parameter `other_vectors`, that will be the sentence embeddings in our case). Note that the `other_vectors` parameter is a single numpy array of size `N x D`, where $N$ is the number of vectors and $D$ is the dimension of each vector.\n",
    "\n",
    "For maximum efficiency (we will need it) do not use loops. Try to write the implementation with numpy functions. Hint: matrix multiplication can be seen as calculating the dot product between rows and columns of the multiplied matrices."
   ]
  },
  {
   "cell_type": "code",
   "execution_count": 32,
   "metadata": {
    "id": "LgaV2b3fpSOR",
    "pycharm": {
     "name": "#%%\n"
    }
   },
   "outputs": [],
   "source": [
    "def cosine_similarity_1_to_n(vector, other_vectors):\n",
    "    \"\"\"\n",
    "    Calculates the cosine similarity between a single vector and other vectors.\n",
    "    Args:\n",
    "        vector: a numpy array representing a vector of D dimensions\n",
    "        other_vectors: a 2D numpy array representing other vectors (of the size NxD, where N is the number of vectors and D is their dimension)\n",
    "\n",
    "    Returns: a 1D numpy array of size N containing the cosine similarity between the vector and all the other vectors\n",
    "\n",
    "    \"\"\"\n",
    "\n",
    "    #### YOUR CODE HERE\n",
    "\n",
    "    # calculate the numenator and the denumenator of the formula\n",
    "    numerator = np.dot(other_vectors, vector)\n",
    "    denom = np.linalg.norm(vector) * np.linalg.norm(other_vectors, axis=1)\n",
    "    # return calculated cosine similarities between vectors using the formula if the denominator is non zero, and 0 otherwise\n",
    "    return np.divide(numerator, denom, out=np.zeros_like(numerator), where=denom!=0)\n",
    "\n",
    "    ### YOUR CODE ENDS HERE"
   ]
  },
  {
   "cell_type": "markdown",
   "metadata": {
    "collapsed": false,
    "id": "irNqAJZLpSOR",
    "jupyter": {
     "outputs_hidden": false
    },
    "pycharm": {
     "name": "#%% md\n"
    }
   },
   "source": [
    "We will use the function to calculate the similarity of all sentences in the dataset to our query."
   ]
  },
  {
   "cell_type": "code",
   "execution_count": 33,
   "metadata": {
    "collapsed": false,
    "jupyter": {
     "outputs_hidden": false
    },
    "pycharm": {
     "name": "#%%\n"
    }
   },
   "outputs": [],
   "source": [
    "query = 'fox and deer'\n",
    "embedded_query = embed_text(query, clean, tokenize, lambda x: bag_of_words(x, token_to_id))"
   ]
  },
  {
   "cell_type": "code",
   "execution_count": 34,
   "metadata": {
    "id": "uD9mVAhYpSOR",
    "pycharm": {
     "name": "#%%\n"
    }
   },
   "outputs": [
    {
     "name": "stdout",
     "output_type": "stream",
     "text": [
      "(36000,)\n"
     ]
    }
   ],
   "source": [
    "query_similarity = cosine_similarity_1_to_n(embedded_query, sentences_bows)\n",
    "print(query_similarity.shape)\n",
    "for notnan in query_similarity:\n",
    "    if notnan is np.nan:\n",
    "        print(notnan)"
   ]
  },
  {
   "cell_type": "markdown",
   "metadata": {
    "collapsed": false,
    "id": "_l3erVTNpSOR",
    "jupyter": {
     "outputs_hidden": false
    },
    "pycharm": {
     "name": "#%% md\n"
    }
   },
   "source": [
    "The following cell will select the most similar sentence."
   ]
  },
  {
   "cell_type": "code",
   "execution_count": 35,
   "metadata": {
    "id": "0wWa4AWHpSOR",
    "pycharm": {
     "name": "#%%\n"
    }
   },
   "outputs": [
    {
     "name": "stdout",
     "output_type": "stream",
     "text": [
      "18943\n",
      "0.4472135954999579\n",
      "Information is being sought in a deer poaching case east of Deer Lodge this week.\n"
     ]
    }
   ],
   "source": [
    "most_similar = int(np.argmax(query_similarity))\n",
    "print(most_similar)\n",
    "print(query_similarity[most_similar])\n",
    "print(split_ds['test'][most_similar]['set'][0])"
   ]
  },
  {
   "cell_type": "markdown",
   "metadata": {
    "collapsed": false,
    "id": "fpdJHFD1pSOR",
    "jupyter": {
     "outputs_hidden": false
    },
    "pycharm": {
     "name": "#%% md\n"
    }
   },
   "source": [
    "The following function will return the indices of the top-k elements in the array."
   ]
  },
  {
   "cell_type": "code",
   "execution_count": 36,
   "metadata": {
    "id": "QFUNI9elpSOS",
    "pycharm": {
     "name": "#%%\n"
    }
   },
   "outputs": [],
   "source": [
    "def top_k_indices(array, k, sorted=True):\n",
    "    \"\"\"\n",
    "    Returns top-k indices from the 1D array. If `sorted` is `True` the returned indices are sorted in the descending order\n",
    "    Args:\n",
    "        array: a 1D numpy array\n",
    "        k: a number of top indices to return\n",
    "        sorted: if True, the returned indices are sorted in descending order\n",
    "\n",
    "    Returns: a 1D array containing top-k indices\n",
    "\n",
    "    \"\"\"\n",
    "    top_k = np.argpartition(array, -k)[-k:]\n",
    "    if sorted:\n",
    "        selected = array[top_k]\n",
    "        sorted_selected = (-selected).argsort()\n",
    "        top_k = top_k[sorted_selected]\n",
    "    return top_k"
   ]
  },
  {
   "cell_type": "code",
   "execution_count": 37,
   "metadata": {
    "id": "nY8vvJdepSOS",
    "pycharm": {
     "name": "#%%\n"
    }
   },
   "outputs": [
    {
     "name": "stdout",
     "output_type": "stream",
     "text": [
      "Information is being sought in a deer poaching case east of Deer Lodge this week.\n",
      "similarity: 0.4472135954999579\n",
      "Fox News announced Friday that it has hired Herman Cain, the spirited former presidential candidate and ex-pizza CEO, as a contributor for Fox News Channel and Fox Business Network.\n",
      "similarity: 0.41602514716892186\n",
      "Deer ticks are apparently on the rise.\n",
      "similarity: 0.40824829046386296\n",
      "A Deer Lodge man was shot and killed in a weekend hunting accident at a campground southeast of Deer Lodge.\n",
      "similarity: 0.36514837167011066\n",
      "Large-scale power upgrades being eyed for the Red Deer region fail to look at renewable alternatives, says a Red Deer city councillor.\n",
      "similarity: 0.32444284226152503\n",
      "The Red Sox today claimed Twins pitcher Matt Fox on waivers, less than a week after Fox made a strong start for Minnesota in his major league debut.\n",
      "similarity: 0.3086066999241838\n",
      "-Megan Fox is to play Catwoman in the next Batman film.\n",
      "similarity: 0.2886751345948129\n",
      "In his broadcast pilot directing debut, Allen Hughes just signed on to direct the Fox drama pilot Gang Related, from 20th Century Fox TV and Imagine TV.\n",
      "similarity: 0.282842712474619\n",
      "Sean Hannity has re-signed a multi-year deal with FOX News Channel to continue hosting both Hannity & Colmes and Hannity's America, announced Bill Shine, Senior Vice President of Programming for FOX News Channel.\n",
      "similarity: 0.2773500981126146\n",
      "Megan Fox is set to make her Broadway debut in November!\n",
      "similarity: 0.26726124191242434\n"
     ]
    }
   ],
   "source": [
    "top_indices = top_k_indices(query_similarity, k=10).tolist()\n",
    "for idx in top_indices:\n",
    "    print(split_ds['test'][idx]['set'][0])\n",
    "    print(f'similarity: {query_similarity[idx]}')"
   ]
  },
  {
   "cell_type": "markdown",
   "metadata": {
    "collapsed": false,
    "id": "BuRI2JzQpSOS",
    "jupyter": {
     "outputs_hidden": false
    },
    "pycharm": {
     "name": "#%% md\n"
    }
   },
   "source": [
    "<a name='e7'></a>\n",
    "### Exercise 7: Analyzing and improving BOW search results\n",
    "\n",
    "Experiment with different queries (taking into account the nature of the dataset and your insights from the analysis so far).\n",
    "Answer the following questions:\n",
    "- (5p) Does the search perform well? When does it fail? Discuss several examples that are we get an expected but also unexpected results (find at least 3 from each category). Provide reasons for the good/bad result in each case (e.g. is there some error in the data, is there some linguistic phenomenon that we don't capture, is something wrong with our modeling with average embeddings, ...)\n",
    "- (5p) If you see problems with search, how could you improve your implementation? Change the functions above, if you think there is room for improvement. Describe your changes and how they made the search better or (in case you made no changes) explain what made the search robust enough to work well."
   ]
  },
  {
   "cell_type": "code",
   "execution_count": 38,
   "metadata": {},
   "outputs": [],
   "source": [
    "vocab_counts = Counter(word for sentence in tokenized_sentences for word in sentence)"
   ]
  },
  {
   "cell_type": "code",
   "execution_count": null,
   "metadata": {},
   "outputs": [],
   "source": []
  },
  {
   "cell_type": "code",
   "execution_count": null,
   "metadata": {},
   "outputs": [],
   "source": []
  },
  {
   "cell_type": "code",
   "execution_count": 39,
   "metadata": {
    "id": "sEQKHAvcpSOS",
    "pycharm": {
     "name": "#%%\n"
    }
   },
   "outputs": [
    {
     "name": "stdout",
     "output_type": "stream",
     "text": [
      "\n",
      "Query: 'police arrest'\n",
      "Rank 1:\n",
      "Original:   A man is under arrest Tuesday morning after leading police on a chase, ramming a police cruiser, and then trying to run from officers.\n",
      "Compressed: Man arrested after ramming police cruiser\n",
      "Similarity: 0.5669\n",
      "\n",
      "Rank 2:\n",
      "Original:   The man who claims Wilkes-Barre police used excessive force to arrest him was formally charged Thursday with resisting arrest and disorderly conduct.\n",
      "Compressed: Man charged with resisting arrest\n",
      "Similarity: 0.5477\n",
      "\n",
      "Rank 3:\n",
      "Original:   A Honolulu Police officer lost part of his finger during an arrest.\n",
      "Compressed: Officer loses part of finger during arrest\n",
      "Similarity: 0.5345\n",
      "\n",
      "\n",
      "Query: 'house fire'\n",
      "Rank 1:\n",
      "Original:   A Clarksville house caught fire Friday afternoon after a back-porch grill exploded, igniting the house in flames, authorities said.\n",
      "Compressed: Clarksville house catches fire\n",
      "Similarity: 0.6124\n",
      "\n",
      "Rank 2:\n",
      "Original:   A house in the Huntley area surrounded by floodwaters caught fire over the weekend.\n",
      "Compressed: House surrounded by floodwaters catches fire\n",
      "Similarity: 0.5774\n",
      "\n",
      "Rank 3:\n",
      "Original:   A MAN has died in a house fire in southwest NSW.\n",
      "Compressed: Man dies in house fire\n",
      "Similarity: 0.5774\n",
      "\n",
      "\n",
      "Query: 'dog barking'\n",
      "Rank 1:\n",
      "Original:   A Waynesboro police officer was bitten by a dog on Friday after he responded to reports of the dog running at large.\n",
      "Compressed: Waynesboro officer bitten by dog\n",
      "Similarity: 0.5774\n",
      "\n",
      "Rank 2:\n",
      "Original:   As tweeted by Dog Days manga illustrator Fujima Takuya during FlonyaFestival 2012, a Dog Days event held last night in Tokyo, it was announced that the anime Dog Days will be getting a 3rd anime season in the future.\n",
      "Compressed: ``Dog Days'' anime gets 3rd season\n",
      "Similarity: 0.5477\n",
      "\n",
      "Rank 3:\n",
      "Original:   The Humane Society of Missouri says it rescued more than 150 dogs and a Bengal tiger from a substandard dog breeder near the southwest Missouri town of Seneca.\n",
      "Compressed: Humane Society rescues dogs, tiger\n",
      "Similarity: 0.4588\n",
      "\n",
      "\n",
      "Query: 'man died'\n",
      "Rank 1:\n",
      "Original:   A Letcher man died this morning in a crash in Sanborn County.\n",
      "Compressed: Letcher man dies in crash\n",
      "Similarity: 0.6325\n",
      "\n",
      "Rank 2:\n",
      "Original:   A man has died after falling from a second-storey flat in Cupar this morning.\n",
      "Compressed: Man dies after falling from flat in Cupar\n",
      "Similarity: 0.6325\n",
      "\n",
      "Rank 3:\n",
      "Original:   A Texas man has died in the crash of a small plane that also claimed the life of a man from Massachusetts.\n",
      "Compressed: Texas man dies in crash of small plane\n",
      "Similarity: 0.5883\n",
      "\n",
      "\n",
      "Query: 'a woman reading a book'\n",
      "Rank 1:\n",
      "Original:   My husband and I have been reading your book ``Men are from Mars, Women are from Venus'' and the concept of the ``cave'' is confusing us.\n",
      "Compressed: Men are from Mars, women are from Venus\n",
      "Similarity: 0.5477\n",
      "\n",
      "Rank 2:\n",
      "Original:   How to attract women is not all about good looks, men need to have the right mindset, and have the belief that they are desirable to women, women find them interesting, thus they deserve to go out with beautiful women.\n",
      "Compressed: How to attract women is not all about good looks\n",
      "Similarity: 0.4288\n",
      "\n",
      "Rank 3:\n",
      "Original:   A Myrtle Beach woman was charged with stabbing another woman after they argued because the women are dating the same person, according to a police report.\n",
      "Compressed: Myrtle Beach woman charged with stabbing another woman\n",
      "Similarity: 0.3974\n",
      "\n",
      "\n",
      "Query: 'a dog is chasing a cat'\n",
      "Rank 1:\n",
      "Original:   A Duke University study suggests that evolution can behave as differently as dogs and cats.\n",
      "Compressed: Evolution can behave as differently as dogs and cats\n",
      "Similarity: 0.4364\n",
      "\n",
      "Rank 2:\n",
      "Original:   A Waynesboro police officer was bitten by a dog on Friday after he responded to reports of the dog running at large.\n",
      "Compressed: Waynesboro officer bitten by dog\n",
      "Similarity: 0.3333\n",
      "\n",
      "Rank 3:\n",
      "Original:   As tweeted by Dog Days manga illustrator Fujima Takuya during FlonyaFestival 2012, a Dog Days event held last night in Tokyo, it was announced that the anime Dog Days will be getting a 3rd anime season in the future.\n",
      "Compressed: ``Dog Days'' anime gets 3rd season\n",
      "Similarity: 0.3162\n",
      "\n",
      "\n",
      "Query: 'he discussed neutrinos'\n",
      "Rank 1:\n",
      "Original:   Already much spoken and discussed dolphinarium is to be opened today.\n",
      "Compressed: Dolphinarium is to be opened today\n",
      "Similarity: 0.4082\n",
      "\n",
      "Rank 2:\n",
      "Original:   President Napolitano has approved the austerity package which now will have to be discussed in the Parliament.\n",
      "Compressed: President Napolitano approves austerity package\n",
      "Similarity: 0.4082\n",
      "\n",
      "Rank 3:\n",
      "Original:   Abbott and Falcon discussed the regional voting system during campaign stops in the Okanagan on Wednesday.\n",
      "Compressed: Abbott, Falcon discuss voting system\n",
      "Similarity: 0.3333\n",
      "\n",
      "\n",
      "Query: 'she saw a bat'\n",
      "Rank 1:\n",
      "Original:   Mullane's column is ``What I saw at the Gosnell trial.''\n",
      "Compressed: What he saw at the Gosnell trial\n",
      "Similarity: 0.4082\n",
      "\n",
      "Rank 2:\n",
      "Original:   A bat virus has killed an 8-year-old boy in Australia, and medical experts are concerned that contact with bats may cause the disease to spread.\n",
      "Compressed: Bat virus kills boy:\n",
      "Similarity: 0.3536\n",
      "\n",
      "Rank 3:\n",
      "Original:   rabid bat found in a Barrington home drove the Lake County Health Department to issue a warning Thursday urging residents to avoid contact with bats.\n",
      "Compressed: Rabid bat found in Barrington\n",
      "Similarity: 0.3333\n",
      "\n",
      "\n",
      "Query: 'money bank'\n",
      "Rank 1:\n",
      "Original:   Nooresh Merani, AMSEC Research is of the view that UCO Bank, Bank of Baroda, Canara Bank may slip further.\n",
      "Compressed: UCO Bank, bob, Canara Bank may slip further:\n",
      "Similarity: 0.5883\n",
      "\n",
      "Rank 2:\n",
      "Original:   Instead, he claimed in a lecture entitled ``what banks do and what banks should do'' that many investment bank trades had ``no economic value''.\n",
      "Compressed: What banks do and what banks should do\n",
      "Similarity: 0.5000\n",
      "\n",
      "Rank 3:\n",
      "Original:   I just want to say that weight watchers points aren't like money in a bank.\n",
      "Compressed: Just wanted to say.\n",
      "Similarity: 0.5000\n",
      "\n",
      "\n",
      "Query: 'river bank'\n",
      "Rank 1:\n",
      "Original:   Nooresh Merani, AMSEC Research is of the view that UCO Bank, Bank of Baroda, Canara Bank may slip further.\n",
      "Compressed: UCO Bank, bob, Canara Bank may slip further:\n",
      "Similarity: 0.5883\n",
      "\n",
      "Rank 2:\n",
      "Original:   Instead, he claimed in a lecture entitled ``what banks do and what banks should do'' that many investment bank trades had ``no economic value''.\n",
      "Compressed: What banks do and what banks should do\n",
      "Similarity: 0.5000\n",
      "\n",
      "Rank 3:\n",
      "Original:   In a time when banks are in trouble, new banks are popping up all over town.\n",
      "Compressed: Banks popping up all over town\n",
      "Similarity: 0.5000\n",
      "\n",
      "\n",
      "Query: 'shoots suspect'\n",
      "Rank 1:\n",
      "Original:   Good Samaritans foiled a purse snatching in Cookeville after chasing down the suspect.\n",
      "Compressed: Good Samaritans foil purse snatching in Cookeville\n",
      "Similarity: 0.3162\n",
      "\n",
      "Rank 2:\n",
      "Original:   Two Steubenville rape suspects were found guilty on Sunday.\n",
      "Compressed: Steubenville rape suspects found guilty\n",
      "Similarity: 0.2887\n",
      "\n",
      "Rank 3:\n",
      "Original:   An Evansville man is accused of threatening to shoot down planes at this weekend's Shrinersfest.\n",
      "Compressed: Man accused of threatening to shoot down planes at Shrinersfest\n",
      "Similarity: 0.2887\n",
      "\n",
      "\n",
      "Query: 'suspect shoots'\n",
      "Rank 1:\n",
      "Original:   Good Samaritans foiled a purse snatching in Cookeville after chasing down the suspect.\n",
      "Compressed: Good Samaritans foil purse snatching in Cookeville\n",
      "Similarity: 0.3162\n",
      "\n",
      "Rank 2:\n",
      "Original:   Two Steubenville rape suspects were found guilty on Sunday.\n",
      "Compressed: Steubenville rape suspects found guilty\n",
      "Similarity: 0.2887\n",
      "\n",
      "Rank 3:\n",
      "Original:   An Evansville man is accused of threatening to shoot down planes at this weekend's Shrinersfest.\n",
      "Compressed: Man accused of threatening to shoot down planes at Shrinersfest\n",
      "Similarity: 0.2887\n",
      "\n"
     ]
    }
   ],
   "source": [
    "#### YOUR CODE HERE\n",
    "\n",
    "queries = [\n",
    "    \"police arrest\",\n",
    "    \"house fire\",\n",
    "    \"dog barking\",\n",
    "    \"man died\",\n",
    "    \"a woman reading a book\",     \n",
    "    \"a dog is chasing a cat\",\n",
    "    \"he discussed neutrinos\",\n",
    "    \"she saw a bat\",\n",
    "    \"money bank\",\n",
    "    \"river bank\",\n",
    "   \"shoots suspect\",\n",
    "    \"suspect shoots\"\n",
    "]\n",
    "\n",
    "for query in queries:\n",
    "    print(f\"\\nQuery: '{query}'\")\n",
    "\n",
    "    embedded_query = embed_text(query, clean, tokenize, lambda x: bag_of_words(x, token_to_id))\n",
    "\n",
    "    similarity_scores = cosine_similarity_1_to_n(embedded_query, test_ds[\"sentence_bow\"])\n",
    "\n",
    "    top_indices = top_k_indices(similarity_scores, k=3)\n",
    "\n",
    "    for rank, idx in enumerate(top_indices):\n",
    "        idx = int(idx)\n",
    "        original_sentence = split_ds[\"test\"][idx][\"set\"][0]\n",
    "        compressed_version = split_ds[\"test\"][idx][\"set\"][1]\n",
    "        score = similarity_scores[idx]\n",
    "        print(f\"Rank {rank + 1}:\")\n",
    "        print(f\"Original:   {original_sentence}\")\n",
    "        print(f\"Compressed: {compressed_version}\")\n",
    "        print(f\"Similarity: {score:.4f}\\n\")\n",
    "\n",
    "\n",
    "### YOUR CODE ENDS HERE"
   ]
  },
  {
   "cell_type": "markdown",
   "metadata": {
    "id": "eiIGTfq6eFI5",
    "pycharm": {
     "name": "#%% md\n"
    }
   },
   "source": [
    "// your comments"
   ]
  },
  {
   "cell_type": "markdown",
   "metadata": {
    "collapsed": false,
    "jupyter": {
     "outputs_hidden": false
    },
    "pycharm": {
     "name": "#%% md\n"
    }
   },
   "source": [
    "## 3. Term Frequency - Inverse Document Frequency (TF-IDF)\n",
    "\n",
    "In this section we will implement the TF-IDF algorithm. While BOW is a simple way to represent the documents, it has some limitations. For example, it does not take into account the importance of each word in the document. TF-IDF representation takes into account the frequency of each word in the document and the frequency of the word in the whole dataset. It is a widely used technique in information retrieval and text mining. Refer to the lecture slides for more details."
   ]
  },
  {
   "cell_type": "markdown",
   "metadata": {
    "collapsed": false,
    "jupyter": {
     "outputs_hidden": false
    },
    "pycharm": {
     "name": "#%% md\n"
    }
   },
   "source": [
    "<a name='e8'></a>\n",
    "### Exercise 8: Inverse Document Frequency (IDF)\n",
    "(5p) In this exercise, you will implement the TF-IDF algorithm. First, calculate Inverse Document Frequency (IDF) for each word in the vocabulary. Intuitively, it is a measure of how informative a word is based on the whole dataset. Consult the lecture slides for the details. The IDF is calculated as follows:\n",
    "$$\n",
    "IDF(t) = log_{10}(N/df(t))$$\n",
    "where $N$ is the total number of documents (sentences) in the dataset and $df(t)$ is the number of documents containing the word $t$.\n"
   ]
  },
  {
   "cell_type": "code",
   "execution_count": 40,
   "metadata": {
    "collapsed": false,
    "jupyter": {
     "outputs_hidden": false
    },
    "pycharm": {
     "name": "#%%\n"
    }
   },
   "outputs": [],
   "source": [
    "def calculate_idf(bows):\n",
    "    \"\"\"\n",
    "    Calculates the IDF for each word in the vocabulary\n",
    "    Args:\n",
    "        bows: numpty array of size (N x D) where N is the number of documents and D is the vocabulary size\n",
    "\n",
    "    Returns: a numpy array of size D with IDF values for each token\n",
    "    \"\"\"\n",
    "\n",
    "    ### YOUR CODE HERE\n",
    "\n",
    "    N = bows.shape[0] # number of documents\n",
    "    df = np.sum(bows > 0, axis = 0) # document frequency = how many documents contain each word\n",
    "    idf = np.log10(N / (df + 1)) # smoothing to avoid division by zero\n",
    "\n",
    "    return idf\n",
    "\n",
    "    ### YOUR CODE ENDS HERE\n",
    "\n",
    "idf = calculate_idf(sentences_bows)"
   ]
  },
  {
   "cell_type": "markdown",
   "metadata": {
    "collapsed": false,
    "jupyter": {
     "outputs_hidden": false
    },
    "pycharm": {
     "name": "#%% md\n"
    }
   },
   "source": [
    "<a name='e9'></a>\n",
    "### Exercise 9: TF-IDF\n",
    "- (5p) Calculate TF-IDF on the `test` subset of the dataset.\n",
    "- (5p) Analyze the search results based on your implemented TF-IDF. Does the search perform well? When does it fail? Discuss several examples that are we get an expected but also unexpected results (find at least 3 from each category). Provide reasons for the good/bad result in each case (e.g. is there some error in the data, is there some linguistic phenomenon that we don't capture, is something wrong with our modeling with average embeddings, ...)\n",
    "- (5p) Compare the results with the ones you got with the bag-of-words representation. Discuss the differences and similarities. Do you think TF-IDF is a better representation for this task? Why or why not? Provide examples to support your arguments.\n"
   ]
  },
  {
   "cell_type": "code",
   "execution_count": 41,
   "metadata": {
    "pycharm": {
     "name": "#%%\n"
    }
   },
   "outputs": [],
   "source": [
    "### YOUR CODE HERE\n",
    "\n",
    "def calculate_tfidf(bows, idf):\n",
    "    \"\"\"\n",
    "    Calculates the TF- IDF matrix from BoW and IDF values\n",
    "    Args:\n",
    "        bows: numpy array of size (N x D) where N is the number of documents and D is the vocabulary size\n",
    "        idf: numpy array of size D with IDF values for each token\n",
    "    Returns: \n",
    "        tfidf_matrix: numpy array of size (N x D) with TF-IDF values\n",
    "    \"\"\"\n",
    "\n",
    "    # TF formula\n",
    "    tf = np.log10(1 + bows)\n",
    "\n",
    "    # multiply TF x IDF\n",
    "    tfidf = tf * idf\n",
    "\n",
    "    return tfidf\n",
    "\n",
    "\n",
    "### YOUR CODE ENDS HERE\n",
    "\n",
    "### YOU CAN ADD MORE CELLS"
   ]
  },
  {
   "cell_type": "code",
   "execution_count": 42,
   "metadata": {},
   "outputs": [
    {
     "name": "stdout",
     "output_type": "stream",
     "text": [
      "TF-IDF shape: (36000, 10000)\n"
     ]
    }
   ],
   "source": [
    "# calculate TF-IDF on the test subset \n",
    "test_tfidf_sentence = calculate_tfidf(test_ds[\"sentence_bow\"], idf).astype(np.float32)\n",
    "test_tfidf_compressed = calculate_tfidf(test_ds[\"compressed_bow\"], idf).astype(np.float32)\n",
    "print(\"TF-IDF shape:\", test_tfidf_compressed.shape)\n"
   ]
  },
  {
   "cell_type": "code",
   "execution_count": 45,
   "metadata": {
    "collapsed": false,
    "jupyter": {
     "outputs_hidden": false
    },
    "pycharm": {
     "name": "#%% md\n"
    },
    "scrolled": true
   },
   "outputs": [
    {
     "name": "stdout",
     "output_type": "stream",
     "text": [
      "\n",
      "Query: 'volcano eruption'\n",
      "Query TF-IDF: [0. 0. 0. ... 0. 0. 0.]\n",
      "Sum TF-IDF: 1.0843281035708567\n",
      "Rank 1:\n",
      "Original:   Big Island police are investigating two shooting incidents in Volcano late Tuesday.\n",
      "Compressed: Big Island police investigate two shootings\n",
      "Similarity: 0.5148\n",
      "\n",
      "Rank 2:\n",
      "Original:   Katy Perry has climbed a volcano, taken up meditation and got ``s**t out of her chakras''.\n",
      "Compressed: Katy Perry climbs volcano\n",
      "Similarity: 0.4774\n",
      "\n",
      "Rank 3:\n",
      "Original:   Philippines authorities warned that Mayon, one of the country's most active volcanoes, is showing signs of life and could erupt again soon.\n",
      "Compressed: Philippines warns Mayon volcano may erupt soon\n",
      "Similarity: 0.4414\n",
      "\n"
     ]
    }
   ],
   "source": [
    "queries = [\n",
    "    #\"house explosion\", \n",
    "    \"volcano eruption\",\n",
    "    #\"child kidnapped\",\n",
    "   # \"child abducted\",\n",
    "    #\"earthquake damage\",\n",
    "   # \"wildfire\",\n",
    "  #  \"ebola\",\n",
    "   # \"woman killed\",\n",
    "   # \"female dies\",\n",
    "    \n",
    "    #\"police arrest\",\n",
    "   #\"house fire\",\n",
    "   #\"dog barking\",\n",
    "   #\"man died\",\n",
    "   #\"a woman reading a book\",     \n",
    "   #\"a dog is chasing a cat\",\n",
    "    #\"he discussed neutrinos\",\n",
    "   # \"she saw a bat\",\n",
    "   #\"money bank\",\n",
    "  # \"river bank\",\n",
    "  # \"shoots suspect\",\n",
    "  # \"suspect shoots\"\n",
    "]\n",
    "\n",
    "for query in queries:\n",
    "    print(f\"\\nQuery: '{query}'\")\n",
    "\n",
    "    embedded_query = embed_text(query, clean, tokenize, lambda x: bag_of_words(x, token_to_id))\n",
    "\n",
    "    query_tfidf = np.log10(1 + embedded_query) * idf \n",
    "\n",
    "    similarity_scores = cosine_similarity_1_to_n(query_tfidf, test_tfidf_sentence)\n",
    "\n",
    "    top_indices = top_k_indices(similarity_scores, k=3)\n",
    "\n",
    "    #print(f\"Query BoW: {query_bow}\")\n",
    "    print(f\"Query TF-IDF: {query_tfidf}\")\n",
    "    print(f\"Sum TF-IDF: {np.sum(query_tfidf)}\")\n",
    "\n",
    "    for rank, idx in enumerate(top_indices):\n",
    "        idx = int(idx)\n",
    "        original_sentence = split_ds[\"test\"][idx][\"set\"][0]\n",
    "        compressed_version = split_ds[\"test\"][idx][\"set\"][1]\n",
    "        score = similarity_scores[idx]\n",
    "        print(f\"Rank {rank + 1}:\")\n",
    "        print(f\"Original:   {original_sentence}\")\n",
    "        print(f\"Compressed: {compressed_version}\")\n",
    "        print(f\"Similarity: {score:.4f}\\n\")"
   ]
  },
  {
   "cell_type": "markdown",
   "metadata": {
    "collapsed": false,
    "jupyter": {
     "outputs_hidden": false
    },
    "pycharm": {
     "name": "#%% md\n"
    }
   },
   "source": [
    "## 4. Word Embeddings\n",
    "\n",
    "In this section you will load the pre-trained word embeddings model - Glove. You can read more about it [here](https://aclanthology.org/D14-1162/) ([https://aclanthology.org/D14-1162/](https://aclanthology.org/D14-1162/)). The embeddings are trained on a large corpus of text and are available in different dimensions. We will start with the dimension of 100, but later you will be asked to experiment with other dimensions.\n",
    "Gensim library maintains a storage containing some pre-trained models. You can read more about it [here](https://github.com/piskvorky/gensim-data) ([https://github.com/piskvorky/gensim-data](https://github.com/piskvorky/gensim-data)). Be sure to read the README of this repository.\n",
    "\n",
    "Let's first load the info of what models are available."
   ]
  },
  {
   "cell_type": "code",
   "execution_count": 47,
   "metadata": {
    "collapsed": false,
    "jupyter": {
     "outputs_hidden": false
    },
    "pycharm": {
     "name": "#%%\n"
    }
   },
   "outputs": [
    {
     "name": "stdout",
     "output_type": "stream",
     "text": [
      "{\n",
      "  \"fasttext-wiki-news-subwords-300\": {\n",
      "    \"num_records\": 999999,\n",
      "    \"file_size\": 1005007116,\n",
      "    \"base_dataset\": \"Wikipedia 2017, UMBC webbase corpus and statmt.org news dataset (16B tokens)\",\n",
      "    \"reader_code\": \"https://github.com/RaRe-Technologies/gensim-data/releases/download/fasttext-wiki-news-subwords-300/__init__.py\",\n",
      "    \"license\": \"https://creativecommons.org/licenses/by-sa/3.0/\",\n",
      "    \"parameters\": {\n",
      "      \"dimension\": 300\n",
      "    },\n",
      "    \"description\": \"1 million word vectors trained on Wikipedia 2017, UMBC webbase corpus and statmt.org news dataset (16B tokens).\",\n",
      "    \"read_more\": [\n",
      "      \"https://fasttext.cc/docs/en/english-vectors.html\",\n",
      "      \"https://arxiv.org/abs/1712.09405\",\n",
      "      \"https://arxiv.org/abs/1607.01759\"\n",
      "    ],\n",
      "    \"checksum\": \"de2bb3a20c46ce65c9c131e1ad9a77af\",\n",
      "    \"file_name\": \"fasttext-wiki-news-subwords-300.gz\",\n",
      "    \"parts\": 1\n",
      "  },\n",
      "  \"conceptnet-numberbatch-17-06-300\": {\n",
      "    \"num_records\": 1917247,\n",
      "    \"file_size\": 1225497562,\n",
      "    \"base_dataset\": \"ConceptNet, word2vec, GloVe, and OpenSubtitles 2016\",\n",
      "    \"reader_code\": \"https://github.com/RaRe-Technologies/gensim-data/releases/download/conceptnet-numberbatch-17-06-300/__init__.py\",\n",
      "    \"license\": \"https://github.com/commonsense/conceptnet-numberbatch/blob/master/LICENSE.txt\",\n",
      "    \"parameters\": {\n",
      "      \"dimension\": 300\n",
      "    },\n",
      "    \"description\": \"ConceptNet Numberbatch consists of state-of-the-art semantic vectors (also known as word embeddings) that can be used directly as a representation of word meanings or as a starting point for further machine learning. ConceptNet Numberbatch is part of the ConceptNet open data project. ConceptNet provides lots of ways to compute with word meanings, one of which is word embeddings. ConceptNet Numberbatch is a snapshot of just the word embeddings. It is built using an ensemble that combines data from ConceptNet, word2vec, GloVe, and OpenSubtitles 2016, using a variation on retrofitting.\",\n",
      "    \"read_more\": [\n",
      "      \"http://aaai.org/ocs/index.php/AAAI/AAAI17/paper/view/14972\",\n",
      "      \"https://github.com/commonsense/conceptnet-numberbatch\",\n",
      "      \"http://conceptnet.io/\"\n",
      "    ],\n",
      "    \"checksum\": \"fd642d457adcd0ea94da0cd21b150847\",\n",
      "    \"file_name\": \"conceptnet-numberbatch-17-06-300.gz\",\n",
      "    \"parts\": 1\n",
      "  },\n",
      "  \"word2vec-ruscorpora-300\": {\n",
      "    \"num_records\": 184973,\n",
      "    \"file_size\": 208427381,\n",
      "    \"base_dataset\": \"Russian National Corpus (about 250M words)\",\n",
      "    \"reader_code\": \"https://github.com/RaRe-Technologies/gensim-data/releases/download/word2vec-ruscorpora-300/__init__.py\",\n",
      "    \"license\": \"https://creativecommons.org/licenses/by/4.0/deed.en\",\n",
      "    \"parameters\": {\n",
      "      \"dimension\": 300,\n",
      "      \"window_size\": 10\n",
      "    },\n",
      "    \"description\": \"Word2vec Continuous Skipgram vectors trained on full Russian National Corpus (about 250M words). The model contains 185K words.\",\n",
      "    \"preprocessing\": \"The corpus was lemmatized and tagged with Universal PoS\",\n",
      "    \"read_more\": [\n",
      "      \"https://www.academia.edu/24306935/WebVectors_a_Toolkit_for_Building_Web_Interfaces_for_Vector_Semantic_Models\",\n",
      "      \"http://rusvectores.org/en/\",\n",
      "      \"https://github.com/RaRe-Technologies/gensim-data/issues/3\"\n",
      "    ],\n",
      "    \"checksum\": \"9bdebdc8ae6d17d20839dd9b5af10bc4\",\n",
      "    \"file_name\": \"word2vec-ruscorpora-300.gz\",\n",
      "    \"parts\": 1\n",
      "  },\n",
      "  \"word2vec-google-news-300\": {\n",
      "    \"num_records\": 3000000,\n",
      "    \"file_size\": 1743563840,\n",
      "    \"base_dataset\": \"Google News (about 100 billion words)\",\n",
      "    \"reader_code\": \"https://github.com/RaRe-Technologies/gensim-data/releases/download/word2vec-google-news-300/__init__.py\",\n",
      "    \"license\": \"not found\",\n",
      "    \"parameters\": {\n",
      "      \"dimension\": 300\n",
      "    },\n",
      "    \"description\": \"Pre-trained vectors trained on a part of the Google News dataset (about 100 billion words). The model contains 300-dimensional vectors for 3 million words and phrases. The phrases were obtained using a simple data-driven approach described in 'Distributed Representations of Words and Phrases and their Compositionality' (https://code.google.com/archive/p/word2vec/).\",\n",
      "    \"read_more\": [\n",
      "      \"https://code.google.com/archive/p/word2vec/\",\n",
      "      \"https://arxiv.org/abs/1301.3781\",\n",
      "      \"https://arxiv.org/abs/1310.4546\",\n",
      "      \"https://www.microsoft.com/en-us/research/publication/linguistic-regularities-in-continuous-space-word-representations/?from=http%3A%2F%2Fresearch.microsoft.com%2Fpubs%2F189726%2Frvecs.pdf\"\n",
      "    ],\n",
      "    \"checksum\": \"a5e5354d40acb95f9ec66d5977d140ef\",\n",
      "    \"file_name\": \"word2vec-google-news-300.gz\",\n",
      "    \"parts\": 1\n",
      "  },\n",
      "  \"glove-wiki-gigaword-50\": {\n",
      "    \"num_records\": 400000,\n",
      "    \"file_size\": 69182535,\n",
      "    \"base_dataset\": \"Wikipedia 2014 + Gigaword 5 (6B tokens, uncased)\",\n",
      "    \"reader_code\": \"https://github.com/RaRe-Technologies/gensim-data/releases/download/glove-wiki-gigaword-50/__init__.py\",\n",
      "    \"license\": \"http://opendatacommons.org/licenses/pddl/\",\n",
      "    \"parameters\": {\n",
      "      \"dimension\": 50\n",
      "    },\n",
      "    \"description\": \"Pre-trained vectors based on Wikipedia 2014 + Gigaword, 5.6B tokens, 400K vocab, uncased (https://nlp.stanford.edu/projects/glove/).\",\n",
      "    \"preprocessing\": \"Converted to w2v format with `python -m gensim.scripts.glove2word2vec -i <fname> -o glove-wiki-gigaword-50.txt`.\",\n",
      "    \"read_more\": [\n",
      "      \"https://nlp.stanford.edu/projects/glove/\",\n",
      "      \"https://nlp.stanford.edu/pubs/glove.pdf\"\n",
      "    ],\n",
      "    \"checksum\": \"c289bc5d7f2f02c6dc9f2f9b67641813\",\n",
      "    \"file_name\": \"glove-wiki-gigaword-50.gz\",\n",
      "    \"parts\": 1\n",
      "  },\n",
      "  \"glove-wiki-gigaword-100\": {\n",
      "    \"num_records\": 400000,\n",
      "    \"file_size\": 134300434,\n",
      "    \"base_dataset\": \"Wikipedia 2014 + Gigaword 5 (6B tokens, uncased)\",\n",
      "    \"reader_code\": \"https://github.com/RaRe-Technologies/gensim-data/releases/download/glove-wiki-gigaword-100/__init__.py\",\n",
      "    \"license\": \"http://opendatacommons.org/licenses/pddl/\",\n",
      "    \"parameters\": {\n",
      "      \"dimension\": 100\n",
      "    },\n",
      "    \"description\": \"Pre-trained vectors based on Wikipedia 2014 + Gigaword 5.6B tokens, 400K vocab, uncased (https://nlp.stanford.edu/projects/glove/).\",\n",
      "    \"preprocessing\": \"Converted to w2v format with `python -m gensim.scripts.glove2word2vec -i <fname> -o glove-wiki-gigaword-100.txt`.\",\n",
      "    \"read_more\": [\n",
      "      \"https://nlp.stanford.edu/projects/glove/\",\n",
      "      \"https://nlp.stanford.edu/pubs/glove.pdf\"\n",
      "    ],\n",
      "    \"checksum\": \"40ec481866001177b8cd4cb0df92924f\",\n",
      "    \"file_name\": \"glove-wiki-gigaword-100.gz\",\n",
      "    \"parts\": 1\n",
      "  },\n",
      "  \"glove-wiki-gigaword-200\": {\n",
      "    \"num_records\": 400000,\n",
      "    \"file_size\": 264336934,\n",
      "    \"base_dataset\": \"Wikipedia 2014 + Gigaword 5 (6B tokens, uncased)\",\n",
      "    \"reader_code\": \"https://github.com/RaRe-Technologies/gensim-data/releases/download/glove-wiki-gigaword-200/__init__.py\",\n",
      "    \"license\": \"http://opendatacommons.org/licenses/pddl/\",\n",
      "    \"parameters\": {\n",
      "      \"dimension\": 200\n",
      "    },\n",
      "    \"description\": \"Pre-trained vectors based on Wikipedia 2014 + Gigaword, 5.6B tokens, 400K vocab, uncased (https://nlp.stanford.edu/projects/glove/).\",\n",
      "    \"preprocessing\": \"Converted to w2v format with `python -m gensim.scripts.glove2word2vec -i <fname> -o glove-wiki-gigaword-200.txt`.\",\n",
      "    \"read_more\": [\n",
      "      \"https://nlp.stanford.edu/projects/glove/\",\n",
      "      \"https://nlp.stanford.edu/pubs/glove.pdf\"\n",
      "    ],\n",
      "    \"checksum\": \"59652db361b7a87ee73834a6c391dfc1\",\n",
      "    \"file_name\": \"glove-wiki-gigaword-200.gz\",\n",
      "    \"parts\": 1\n",
      "  },\n",
      "  \"glove-wiki-gigaword-300\": {\n",
      "    \"num_records\": 400000,\n",
      "    \"file_size\": 394362229,\n",
      "    \"base_dataset\": \"Wikipedia 2014 + Gigaword 5 (6B tokens, uncased)\",\n",
      "    \"reader_code\": \"https://github.com/RaRe-Technologies/gensim-data/releases/download/glove-wiki-gigaword-300/__init__.py\",\n",
      "    \"license\": \"http://opendatacommons.org/licenses/pddl/\",\n",
      "    \"parameters\": {\n",
      "      \"dimension\": 300\n",
      "    },\n",
      "    \"description\": \"Pre-trained vectors based on Wikipedia 2014 + Gigaword, 5.6B tokens, 400K vocab, uncased (https://nlp.stanford.edu/projects/glove/).\",\n",
      "    \"preprocessing\": \"Converted to w2v format with `python -m gensim.scripts.glove2word2vec -i <fname> -o glove-wiki-gigaword-300.txt`.\",\n",
      "    \"read_more\": [\n",
      "      \"https://nlp.stanford.edu/projects/glove/\",\n",
      "      \"https://nlp.stanford.edu/pubs/glove.pdf\"\n",
      "    ],\n",
      "    \"checksum\": \"29e9329ac2241937d55b852e8284e89b\",\n",
      "    \"file_name\": \"glove-wiki-gigaword-300.gz\",\n",
      "    \"parts\": 1\n",
      "  },\n",
      "  \"glove-twitter-25\": {\n",
      "    \"num_records\": 1193514,\n",
      "    \"file_size\": 109885004,\n",
      "    \"base_dataset\": \"Twitter (2B tweets, 27B tokens, 1.2M vocab, uncased)\",\n",
      "    \"reader_code\": \"https://github.com/RaRe-Technologies/gensim-data/releases/download/glove-twitter-25/__init__.py\",\n",
      "    \"license\": \"http://opendatacommons.org/licenses/pddl/\",\n",
      "    \"parameters\": {\n",
      "      \"dimension\": 25\n",
      "    },\n",
      "    \"description\": \"Pre-trained vectors based on 2B tweets, 27B tokens, 1.2M vocab, uncased (https://nlp.stanford.edu/projects/glove/).\",\n",
      "    \"preprocessing\": \"Converted to w2v format with `python -m gensim.scripts.glove2word2vec -i <fname> -o glove-twitter-25.txt`.\",\n",
      "    \"read_more\": [\n",
      "      \"https://nlp.stanford.edu/projects/glove/\",\n",
      "      \"https://nlp.stanford.edu/pubs/glove.pdf\"\n",
      "    ],\n",
      "    \"checksum\": \"50db0211d7e7a2dcd362c6b774762793\",\n",
      "    \"file_name\": \"glove-twitter-25.gz\",\n",
      "    \"parts\": 1\n",
      "  },\n",
      "  \"glove-twitter-50\": {\n",
      "    \"num_records\": 1193514,\n",
      "    \"file_size\": 209216938,\n",
      "    \"base_dataset\": \"Twitter (2B tweets, 27B tokens, 1.2M vocab, uncased)\",\n",
      "    \"reader_code\": \"https://github.com/RaRe-Technologies/gensim-data/releases/download/glove-twitter-50/__init__.py\",\n",
      "    \"license\": \"http://opendatacommons.org/licenses/pddl/\",\n",
      "    \"parameters\": {\n",
      "      \"dimension\": 50\n",
      "    },\n",
      "    \"description\": \"Pre-trained vectors based on 2B tweets, 27B tokens, 1.2M vocab, uncased (https://nlp.stanford.edu/projects/glove/)\",\n",
      "    \"preprocessing\": \"Converted to w2v format with `python -m gensim.scripts.glove2word2vec -i <fname> -o glove-twitter-50.txt`.\",\n",
      "    \"read_more\": [\n",
      "      \"https://nlp.stanford.edu/projects/glove/\",\n",
      "      \"https://nlp.stanford.edu/pubs/glove.pdf\"\n",
      "    ],\n",
      "    \"checksum\": \"c168f18641f8c8a00fe30984c4799b2b\",\n",
      "    \"file_name\": \"glove-twitter-50.gz\",\n",
      "    \"parts\": 1\n",
      "  },\n",
      "  \"glove-twitter-100\": {\n",
      "    \"num_records\": 1193514,\n",
      "    \"file_size\": 405932991,\n",
      "    \"base_dataset\": \"Twitter (2B tweets, 27B tokens, 1.2M vocab, uncased)\",\n",
      "    \"reader_code\": \"https://github.com/RaRe-Technologies/gensim-data/releases/download/glove-twitter-100/__init__.py\",\n",
      "    \"license\": \"http://opendatacommons.org/licenses/pddl/\",\n",
      "    \"parameters\": {\n",
      "      \"dimension\": 100\n",
      "    },\n",
      "    \"description\": \"Pre-trained vectors based on  2B tweets, 27B tokens, 1.2M vocab, uncased (https://nlp.stanford.edu/projects/glove/)\",\n",
      "    \"preprocessing\": \"Converted to w2v format with `python -m gensim.scripts.glove2word2vec -i <fname> -o glove-twitter-100.txt`.\",\n",
      "    \"read_more\": [\n",
      "      \"https://nlp.stanford.edu/projects/glove/\",\n",
      "      \"https://nlp.stanford.edu/pubs/glove.pdf\"\n",
      "    ],\n",
      "    \"checksum\": \"b04f7bed38756d64cf55b58ce7e97b15\",\n",
      "    \"file_name\": \"glove-twitter-100.gz\",\n",
      "    \"parts\": 1\n",
      "  },\n",
      "  \"glove-twitter-200\": {\n",
      "    \"num_records\": 1193514,\n",
      "    \"file_size\": 795373100,\n",
      "    \"base_dataset\": \"Twitter (2B tweets, 27B tokens, 1.2M vocab, uncased)\",\n",
      "    \"reader_code\": \"https://github.com/RaRe-Technologies/gensim-data/releases/download/glove-twitter-200/__init__.py\",\n",
      "    \"license\": \"http://opendatacommons.org/licenses/pddl/\",\n",
      "    \"parameters\": {\n",
      "      \"dimension\": 200\n",
      "    },\n",
      "    \"description\": \"Pre-trained vectors based on 2B tweets, 27B tokens, 1.2M vocab, uncased (https://nlp.stanford.edu/projects/glove/).\",\n",
      "    \"preprocessing\": \"Converted to w2v format with `python -m gensim.scripts.glove2word2vec -i <fname> -o glove-twitter-200.txt`.\",\n",
      "    \"read_more\": [\n",
      "      \"https://nlp.stanford.edu/projects/glove/\",\n",
      "      \"https://nlp.stanford.edu/pubs/glove.pdf\"\n",
      "    ],\n",
      "    \"checksum\": \"e52e8392d1860b95d5308a525817d8f9\",\n",
      "    \"file_name\": \"glove-twitter-200.gz\",\n",
      "    \"parts\": 1\n",
      "  },\n",
      "  \"__testing_word2vec-matrix-synopsis\": {\n",
      "    \"description\": \"[THIS IS ONLY FOR TESTING] Word vecrors of the movie matrix.\",\n",
      "    \"parameters\": {\n",
      "      \"dimensions\": 50\n",
      "    },\n",
      "    \"preprocessing\": \"Converted to w2v using a preprocessed corpus. Converted to w2v format with `python3.5 -m gensim.models.word2vec -train <input_filename> -iter 50 -output <output_filename>`.\",\n",
      "    \"read_more\": [],\n",
      "    \"checksum\": \"534dcb8b56a360977a269b7bfc62d124\",\n",
      "    \"file_name\": \"__testing_word2vec-matrix-synopsis.gz\",\n",
      "    \"parts\": 1\n",
      "  }\n",
      "}\n"
     ]
    }
   ],
   "source": [
    "import json\n",
    "import gensim.downloader as api\n",
    "\n",
    "info = api.info()  # show info about available models/datasets\n",
    "print(json.dumps(info['models'], indent=2))"
   ]
  },
  {
   "cell_type": "code",
   "execution_count": 48,
   "metadata": {
    "collapsed": false,
    "jupyter": {
     "outputs_hidden": false
    },
    "pycharm": {
     "name": "#%%\n"
    }
   },
   "outputs": [],
   "source": [
    "glove_model = api.load(\"glove-wiki-gigaword-100\")"
   ]
  },
  {
   "cell_type": "markdown",
   "metadata": {
    "collapsed": false,
    "jupyter": {
     "outputs_hidden": false
    },
    "pycharm": {
     "name": "#%% md\n"
    }
   },
   "source": [
    "We can use the loaded model's `key_to_index` attribute to retrieve the whole vocabulary (aka for how many words we learned embeddings for)."
   ]
  },
  {
   "cell_type": "code",
   "execution_count": 49,
   "metadata": {
    "collapsed": false,
    "jupyter": {
     "outputs_hidden": false
    },
    "pycharm": {
     "name": "#%%\n"
    }
   },
   "outputs": [
    {
     "name": "stdout",
     "output_type": "stream",
     "text": [
      "400000\n"
     ]
    }
   ],
   "source": [
    "vocab = list(glove_model.key_to_index)\n",
    "print(len(vocab))"
   ]
  },
  {
   "cell_type": "markdown",
   "metadata": {
    "collapsed": false,
    "jupyter": {
     "outputs_hidden": false
    },
    "pycharm": {
     "name": "#%% md\n"
    }
   },
   "source": [
    "Let's explore a bit further the embeddings. In the following cells, the embedding of a single word is returned. Double-check the dimensions (as sanity check). This is like inspecting the `W` matrix (weights) that we discussed in the lecture."
   ]
  },
  {
   "cell_type": "code",
   "execution_count": 49,
   "metadata": {
    "collapsed": false,
    "jupyter": {
     "outputs_hidden": false
    },
    "pycharm": {
     "name": "#%%\n"
    }
   },
   "outputs": [
    {
     "data": {
      "text/plain": [
       "array([-1.5180e-01,  3.8409e-01,  8.9340e-01, -4.2421e-01, -9.2161e-01,\n",
       "        3.7988e-02, -3.2026e-01,  3.4119e-03,  2.2101e-01, -2.2045e-01,\n",
       "        1.6661e-01,  2.1956e-01,  2.5325e-01, -2.9267e-01,  1.0171e-01,\n",
       "       -7.5491e-02, -6.0406e-02,  2.8194e-01, -5.8519e-01,  4.8271e-01,\n",
       "        1.7504e-02, -1.2086e-01, -1.0990e-01, -6.9554e-01,  1.5600e-01,\n",
       "        7.0558e-02, -1.5058e-01, -8.1811e-01, -1.8535e-01, -3.6863e-01,\n",
       "        3.1650e-02,  7.6616e-01,  8.4041e-02,  2.6928e-03, -2.7440e-01,\n",
       "        2.1815e-01, -3.5157e-02,  3.2569e-01,  1.0032e-01, -6.0932e-01,\n",
       "       -7.0316e-01,  1.8299e-01,  3.3134e-01, -1.2416e-01, -9.0542e-01,\n",
       "       -3.9157e-02,  4.4719e-01, -5.7338e-01, -4.0172e-01, -8.2234e-01,\n",
       "        5.5740e-01,  1.5101e-01,  2.4598e-01,  1.0113e+00, -4.6626e-01,\n",
       "       -2.7133e+00,  4.3273e-01, -1.6314e-01,  1.5828e+00,  5.5081e-01,\n",
       "       -2.4738e-01,  1.4184e+00, -1.6867e-02, -1.9368e-01,  1.0090e+00,\n",
       "       -5.9864e-02,  9.1853e-01,  4.3022e-01, -2.0624e-01,  7.6127e-02,\n",
       "        2.1595e-01, -2.6834e-01, -3.3342e-01, -3.7151e-01,  4.5197e-01,\n",
       "       -8.2460e-02,  3.2984e-01, -5.7376e-01, -1.3042e+00,  2.7121e-01,\n",
       "        6.6277e-01, -7.9626e-02, -7.9167e-01, -5.3662e-03, -1.7916e+00,\n",
       "       -3.3298e-01, -3.0698e-01, -3.3980e-01, -5.5618e-01, -6.9471e-01,\n",
       "        2.7427e-01, -2.1898e-01, -2.6714e-01,  2.2561e-03, -5.0178e-01,\n",
       "       -3.2775e-01, -4.5670e-01, -2.7123e-01,  2.2157e-01,  9.2112e-01],\n",
       "      dtype=float32)"
      ]
     },
     "execution_count": 49,
     "metadata": {},
     "output_type": "execute_result"
    }
   ],
   "source": [
    "# vector of a particular model. note that it is 100 dimensional as specified.\n",
    "glove_model['what']"
   ]
  },
  {
   "cell_type": "markdown",
   "metadata": {
    "collapsed": false,
    "jupyter": {
     "outputs_hidden": false
    },
    "pycharm": {
     "name": "#%% md\n"
    }
   },
   "source": [
    "Gensim objects offers different methods to easily run very common tasks. For example, there are different functions to find the most similar words.\n",
    "\n",
    "Check the documentation on how [`most_similar`](https://tedboy.github.io/nlps/generated/generated/gensim.models.Word2Vec.most_similar.html) and [`similar_by_word`](https://tedboy.github.io/nlps/generated/generated/gensim.models.Word2Vec.similar_by_word.html) can be used."
   ]
  },
  {
   "cell_type": "code",
   "execution_count": 50,
   "metadata": {
    "collapsed": false,
    "jupyter": {
     "outputs_hidden": false
    },
    "pycharm": {
     "name": "#%%\n"
    }
   },
   "outputs": [
    {
     "name": "stdout",
     "output_type": "stream",
     "text": [
      "[('how', 0.9303215742111206), ('why', 0.9196363091468811), ('fact', 0.906943678855896), ('know', 0.8876389265060425), ('that', 0.8810365796089172), ('think', 0.8772969841957092), ('so', 0.8753098249435425), ('even', 0.8751895427703857), ('something', 0.874744176864624), ('if', 0.8702542781829834)]\n",
      "[('play', 0.6266524791717529), ('missed', 0.608065128326416), ('she', 0.596325695514679), ('chance', 0.5839369297027588), ('tournament', 0.572258710861206)]\n"
     ]
    }
   ],
   "source": [
    "# most similar words to a given word\n",
    "print(glove_model.most_similar('what', topn=10))\n",
    "\n",
    "# also u can use\n",
    "print(glove_model.similar_by_word('miss', topn=5))"
   ]
  },
  {
   "cell_type": "code",
   "execution_count": 51,
   "metadata": {
    "collapsed": false,
    "jupyter": {
     "outputs_hidden": false
    },
    "pycharm": {
     "name": "#%%\n"
    }
   },
   "outputs": [
    {
     "name": "stdout",
     "output_type": "stream",
     "text": [
      "[('know', 0.944094181060791), ('what', 0.9196362495422363), ('think', 0.9086559414863586), ('how', 0.9020735621452332), ('tell', 0.8923122882843018), (\"n't\", 0.8890628814697266), ('sure', 0.8870969414710999), ('thought', 0.8747684955596924), ('believe', 0.8745115399360657), ('say', 0.8730075359344482)]\n"
     ]
    }
   ],
   "source": [
    "print(glove_model.most_similar('why', topn=10))"
   ]
  },
  {
   "cell_type": "code",
   "execution_count": 52,
   "metadata": {
    "collapsed": false,
    "jupyter": {
     "outputs_hidden": false
    },
    "pycharm": {
     "name": "#%%\n"
    }
   },
   "outputs": [
    {
     "name": "stdout",
     "output_type": "stream",
     "text": [
      "[('whom', 0.8642492890357971), ('he', 0.8201969861984253), ('whose', 0.8143677711486816), ('had', 0.8035843968391418), ('others', 0.7708418965339661)]\n"
     ]
    }
   ],
   "source": [
    "print(glove_model.similar_by_word('who', topn=5))"
   ]
  },
  {
   "cell_type": "markdown",
   "metadata": {
    "collapsed": false,
    "jupyter": {
     "outputs_hidden": false
    },
    "pycharm": {
     "name": "#%% md\n"
    }
   },
   "source": [
    "We can now compare our implementation with the one in the pre-trained model and confirm what we already expected."
   ]
  },
  {
   "cell_type": "code",
   "execution_count": null,
   "metadata": {
    "collapsed": false,
    "jupyter": {
     "outputs_hidden": false
    },
    "pycharm": {
     "name": "#%%\n"
    }
   },
   "outputs": [],
   "source": [
    "# simalarity between two words\n",
    "word1 = 'alive'\n",
    "word2 = 'biology'\n",
    "print(glove_model.similarity(word1, word2))\n",
    "print(cosine_similarity(glove_model[word1], glove_model[word2]))"
   ]
  },
  {
   "cell_type": "code",
   "execution_count": null,
   "metadata": {
    "collapsed": false,
    "jupyter": {
     "outputs_hidden": false
    },
    "pycharm": {
     "name": "#%%\n"
    }
   },
   "outputs": [],
   "source": [
    "# simalarity between two words. similar words\n",
    "word1 = 'alive'\n",
    "word2 = 'life'\n",
    "print(glove_model.similarity(word1, word2))\n",
    "print(cosine_similarity(glove_model[word1], glove_model[word2]))"
   ]
  },
  {
   "cell_type": "code",
   "execution_count": null,
   "metadata": {
    "collapsed": false,
    "jupyter": {
     "outputs_hidden": false
    },
    "pycharm": {
     "name": "#%%\n"
    }
   },
   "outputs": [],
   "source": [
    "# simalarity between two words. dissimilar words\n",
    "word1 = 'alive'\n",
    "word2 = 'dead'\n",
    "print(glove_model.similarity(word1, word2))\n",
    "print(cosine_similarity(glove_model[word1], glove_model[word2]))"
   ]
  },
  {
   "cell_type": "code",
   "execution_count": null,
   "metadata": {
    "collapsed": false,
    "jupyter": {
     "outputs_hidden": false
    },
    "pycharm": {
     "name": "#%%\n"
    }
   },
   "outputs": [],
   "source": [
    "# simalarity between two words. unrelated words\n",
    "word1 = 'alive'\n",
    "word2 = 'horse'\n",
    "print(glove_model.similarity(word1, word2))\n",
    "print(cosine_similarity(glove_model[word1], glove_model[word2]))"
   ]
  },
  {
   "cell_type": "code",
   "execution_count": null,
   "metadata": {
    "collapsed": false,
    "jupyter": {
     "outputs_hidden": false
    },
    "pycharm": {
     "name": "#%%\n"
    }
   },
   "outputs": [],
   "source": [
    "# simalarity between two SAME words\n",
    "glove_model.similarity('equal', 'equal')\n",
    "word1 = 'equal'\n",
    "word2 = 'equal'\n",
    "print(glove_model.similarity(word1, word2))\n",
    "print(cosine_similarity(glove_model[word1], glove_model[word2]))"
   ]
  },
  {
   "cell_type": "markdown",
   "metadata": {
    "collapsed": false,
    "jupyter": {
     "outputs_hidden": false
    },
    "pycharm": {
     "name": "#%% md\n"
    }
   },
   "source": [
    "The next function contains the code to plot a similarity matrix between multiple words (e.g. if we want to compare 10 words and their pair-wise similarities). It requires a matrix with similarities (as input) and labels (aka the words) to display in the final figure."
   ]
  },
  {
   "cell_type": "code",
   "execution_count": null,
   "metadata": {
    "collapsed": false,
    "jupyter": {
     "outputs_hidden": false
    },
    "pycharm": {
     "name": "#%%\n"
    }
   },
   "outputs": [],
   "source": [
    "def plot_similarity_matrix(matrix, labels):\n",
    "    \"\"\"\n",
    "    Displays a plot of the `matrix` of size (N x N) with the labels specified as a list of size N\n",
    "    Args:\n",
    "        matrix: a square-sized (N x N) numpy array\n",
    "        labels: a list of strings of hte size N\n",
    "    \"\"\"\n",
    "\n",
    "    fig, ax = plt.subplots()\n",
    "    im = ax.imshow(matrix)\n",
    "\n",
    "    # Show all ticks and label them with the respective list entries\n",
    "    ax.set_xticks(np.arange(len(labels)), labels=labels)\n",
    "    ax.set_yticks(np.arange(len(labels)), labels=labels)\n",
    "\n",
    "    # Rotate the tick labels and set their alignment.\n",
    "    plt.setp(ax.get_xticklabels(), rotation=45, ha=\"right\",\n",
    "             rotation_mode=\"anchor\")\n",
    "\n",
    "    # Loop over data dimensions and create text annotations.\n",
    "    for i in range(len(labels)):\n",
    "        for j in range(len(labels)):\n",
    "            text = ax.text(j, i, f'{matrix[i, j]:.2f}',\n",
    "                           ha=\"center\", va=\"center\", color=\"w\")\n",
    "\n",
    "    # ax.set_title(\"Give a title if you want\")\n",
    "    fig.tight_layout()\n",
    "    plt.show()"
   ]
  },
  {
   "cell_type": "markdown",
   "metadata": {
    "collapsed": false,
    "jupyter": {
     "outputs_hidden": false
    },
    "pycharm": {
     "name": "#%% md\n"
    }
   },
   "source": [
    "<a name='e10'></a>\n",
    "### Exercise 10: Plotting similarities between words\n",
    "\n",
    "(10p) In the following, we will explore some properties of word embeddings through some examples. We will use 6 example words for this purpose but experiment with other set of words as well. Fill in the next cell to create a similarity matrix between a list of words.\n",
    "\n",
    "Experiment with different words and their similarities plotted. Try at least 3 different sets of words of at least 6 words each. Use the `plot_similarity_matrix` function to visualize the results.\n",
    "Comment on the results. Do they make sense? Why some words are closer to each other than others? What does it mean?"
   ]
  },
  {
   "cell_type": "code",
   "execution_count": null,
   "metadata": {
    "collapsed": false,
    "jupyter": {
     "outputs_hidden": false
    },
    "pycharm": {
     "name": "#%%\n"
    }
   },
   "outputs": [],
   "source": [
    "list_of_words = ['love', 'hate', 'life', 'equal', 'alive', 'dead']\n",
    "\n",
    "similarity_matrix = np.zeros((len(list_of_words), len(list_of_words)), dtype=float)\n",
    "\n",
    "### YOUR CODE HERE\n",
    "\n",
    "embeddings = [glove_model[word] for word in list_of_words] # get embeddings from the glove_model\n",
    "\n",
    "for i in range (len(list_of_words)):\n",
    "    for j in range (len(list_of_words)):\n",
    "        similarity_matrix[i, j] = glove_model.similarity(list_of_words[i], list_of_words[j])\n",
    "        \n",
    "\n",
    "### YOUR CODE ENDS HERE\n",
    "\n",
    "plot_similarity_matrix(similarity_matrix, list_of_words)"
   ]
  },
  {
   "cell_type": "code",
   "execution_count": null,
   "metadata": {},
   "outputs": [],
   "source": [
    "def get_similarity_matrix(word_list, model):\n",
    "    \"\"\"\n",
    "    Computes the cosine similarity matrix for a list of words using a given Gensim model.\n",
    "    \n",
    "    Args:\n",
    "        word_list (list): List of words (strings) to compare.\n",
    "        model (KeyedVectors): Pretrained word embedding model.\n",
    "    \n",
    "    Returns:\n",
    "        np.ndarray: Square similarity matrix (len(word_list) x len(word_list)).\n",
    "    \"\"\"\n",
    "    size = len(word_list)\n",
    "    sim_matrix = np.zeros((size, size))\n",
    "\n",
    "    for i in range(size):\n",
    "        for j in range(size):\n",
    "            try:\n",
    "                sim_matrix[i, j] = model.similarity(word_list[i], word_list[j])\n",
    "            except KeyError:\n",
    "                sim_matrix[i, j] = np.nan  # in case word is not in vocabulary\n",
    "\n",
    "    return sim_matrix\n"
   ]
  },
  {
   "cell_type": "code",
   "execution_count": null,
   "metadata": {
    "collapsed": false,
    "jupyter": {
     "outputs_hidden": false
    },
    "pycharm": {
     "name": "#%%\n"
    }
   },
   "outputs": [],
   "source": [
    "#### YOUR CODE HERE\n",
    "\n",
    "# countries and capitals\n",
    "list_of_words1 = ['france', 'paris', 'italy', 'rome', 'germany', 'berlin']\n",
    "matrix1 = get_similarity_matrix(list_of_words1, glove_model)\n",
    "plot_similarity_matrix(matrix1, list_of_words1)\n",
    "\n",
    "# technology\n",
    "list_of_words2 = ['computer', 'keyboard', 'internet', 'email', 'phone', 'screen']\n",
    "matrix2 = get_similarity_matrix(list_of_words2, glove_model)\n",
    "plot_similarity_matrix(matrix2, list_of_words2)\n",
    "\n",
    "# fruit and vegetables\n",
    "list_of_words3 = ['apple', 'banana', 'orange', 'fruit', 'vegetable', 'cucumber', 'carrot']\n",
    "matrix3 = get_similarity_matrix(list_of_words3, glove_model)\n",
    "plot_similarity_matrix(matrix3, list_of_words3)\n",
    "\n",
    "# multiple meanings of bank \n",
    "list_of_words4 = ['bank', 'river', 'loan', 'water', 'money', 'shore']\n",
    "matrix4 = get_similarity_matrix(list_of_words4, glove_model)\n",
    "plot_similarity_matrix(matrix4, list_of_words4)\n",
    "\n",
    "# animals\n",
    "list_of_words5 = ['dog', 'cat', 'mouse', 'lion', 'tiger', 'wolf']\n",
    "matrix5 = get_similarity_matrix(list_of_words5, glove_model)\n",
    "plot_similarity_matrix(matrix5, list_of_words5)\n",
    "\n",
    "# emotions\n",
    "list_of_words6 = ['happy', 'sad', 'angry', 'joyful', 'depressed', 'excited']\n",
    "matrix6 = get_similarity_matrix(list_of_words6, glove_model)\n",
    "plot_similarity_matrix(matrix6, list_of_words6)\n",
    "\n",
    "# animals\n",
    "list_of_words7 = ['doctor', 'nurse', 'teacher', 'housekeeper', 'scientist', 'engineer', 'man', 'woman']\n",
    "matrix7 = get_similarity_matrix(list_of_words7, glove_model)\n",
    "plot_similarity_matrix(matrix7, list_of_words7)\n",
    "\n",
    "\n",
    "### YOUR CODE ENDS HERE"
   ]
  },
  {
   "cell_type": "markdown",
   "metadata": {
    "collapsed": false,
    "jupyter": {
     "outputs_hidden": false
    },
    "pycharm": {
     "name": "#%% md\n"
    }
   },
   "source": [
    "<a name='e11'></a>\n",
    "### Exercise 11: Other pre-trained word embeddings\n",
    "(10p) For this exercise, experiment with at least one different word embedding model. You can choose Glove with different dimensions or other pre-trained models. Use the gensim library to download and use the models.\n",
    "Plot similarity matrices between sets of words you used in the previous exercise and compare the results. Are there noticeable differences? Why (not)?"
   ]
  },
  {
   "cell_type": "code",
   "execution_count": null,
   "metadata": {},
   "outputs": [],
   "source": [
    "#### YOUR CODE HERE\n",
    "# Glove with 200 dimensions\n",
    "glove_model_200 = api.load(\"glove-wiki-gigaword-200\")\n",
    "\n",
    "# PLOT SIMILARITY MATRICES\n",
    "# emotions and cocepts\n",
    "list_of_words0 = ['love', 'hate', 'life', 'equal', 'alive', 'dead']\n",
    "matrix0 = get_similarity_matrix(list_of_words0, glove_model_200)\n",
    "plot_similarity_matrix(matrix0, list_of_words0)\n",
    "\n",
    "# countries and capitals\n",
    "list_of_words1 = ['france', 'paris', 'italy', 'rome', 'germany', 'berlin']\n",
    "matrix1 = get_similarity_matrix(list_of_words1, glove_model_200)\n",
    "plot_similarity_matrix(matrix1, list_of_words1)\n",
    "\n",
    "# technology\n",
    "list_of_words2 = ['computer', 'keyboard', 'internet', 'email', 'phone', 'screen']\n",
    "matrix2 = get_similarity_matrix(list_of_words2, glove_model_200)\n",
    "plot_similarity_matrix(matrix2, list_of_words2)\n",
    "\n",
    "# fruit and vegetables\n",
    "list_of_words3 = ['apple', 'banana', 'orange', 'fruit', 'vegetable', 'cucumber', 'carrot']\n",
    "matrix3 = get_similarity_matrix(list_of_words3, glove_model_200)\n",
    "plot_similarity_matrix(matrix3, list_of_words3)\n",
    "\n",
    "# multiple meanings of bank \n",
    "list_of_words4 = ['bank', 'river', 'loan', 'water', 'money', 'shore']\n",
    "matrix4 = get_similarity_matrix(list_of_words4, glove_model_200)\n",
    "plot_similarity_matrix(matrix4, list_of_words4)\n",
    "\n",
    "# animals\n",
    "list_of_words5 = ['dog', 'cat', 'mouse', 'lion', 'tiger', 'wolf']\n",
    "matrix5 = get_similarity_matrix(list_of_words5, glove_model_200)\n",
    "plot_similarity_matrix(matrix5, list_of_words5)\n",
    "\n",
    "# emotions\n",
    "list_of_words6 = ['happy', 'sad', 'angry', 'joyful', 'depressed', 'excited']\n",
    "matrix6 = get_similarity_matrix(list_of_words6, glove_model_200)\n",
    "plot_similarity_matrix(matrix6, list_of_words6)\n",
    "\n",
    "# animals\n",
    "list_of_words7 = ['doctor', 'nurse', 'teacher', 'housekeeper', 'scientist', 'engineer', 'man', 'woman']\n",
    "matrix7 = get_similarity_matrix(list_of_words7, glove_model_200)\n",
    "plot_similarity_matrix(matrix7, list_of_words7)\n",
    "\n",
    "\n",
    "### YOUR CODE ENDS HERE"
   ]
  },
  {
   "cell_type": "code",
   "execution_count": null,
   "metadata": {
    "collapsed": false,
    "jupyter": {
     "outputs_hidden": false
    },
    "pycharm": {
     "name": "#%%\n"
    }
   },
   "outputs": [],
   "source": [
    "#### YOUR CODE HERE\n",
    "# Glove with 200 dimensions\n",
    "glove_model_300 = api.load(\"glove-wiki-gigaword-300\")\n",
    "\n",
    "# PLOT SIMILARITY MATRICES\n",
    "# emotions and cocepts\n",
    "list_of_words0 = ['love', 'hate', 'life', 'equal', 'alive', 'dead']\n",
    "matrix0 = get_similarity_matrix(list_of_words0, glove_model_300)\n",
    "plot_similarity_matrix(matrix0, list_of_words0)\n",
    "\n",
    "# countries and capitals\n",
    "list_of_words1 = ['france', 'paris', 'italy', 'rome', 'germany', 'berlin']\n",
    "matrix1 = get_similarity_matrix(list_of_words1, glove_model_300)\n",
    "plot_similarity_matrix(matrix1, list_of_words1)\n",
    "\n",
    "# technology\n",
    "list_of_words2 = ['computer', 'keyboard', 'internet', 'email', 'phone', 'screen']\n",
    "matrix2 = get_similarity_matrix(list_of_words2, glove_model_300)\n",
    "plot_similarity_matrix(matrix2, list_of_words2)\n",
    "\n",
    "# fruit and vegetables\n",
    "list_of_words3 = ['apple', 'banana', 'orange', 'fruit', 'vegetable', 'cucumber', 'carrot']\n",
    "matrix3 = get_similarity_matrix(list_of_words3, glove_model_300)\n",
    "plot_similarity_matrix(matrix3, list_of_words3)\n",
    "\n",
    "# multiple meanings of bank \n",
    "list_of_words4 = ['bank', 'river', 'loan', 'water', 'money', 'shore']\n",
    "matrix4 = get_similarity_matrix(list_of_words4, glove_model_300)\n",
    "plot_similarity_matrix(matrix4, list_of_words4)\n",
    "\n",
    "# animals\n",
    "list_of_words5 = ['dog', 'cat', 'mouse', 'lion', 'tiger', 'wolf']\n",
    "matrix5 = get_similarity_matrix(list_of_words5, glove_model_300)\n",
    "plot_similarity_matrix(matrix5, list_of_words5)\n",
    "\n",
    "# emotions\n",
    "list_of_words6 = ['happy', 'sad', 'angry', 'joyful', 'depressed', 'excited']\n",
    "matrix6 = get_similarity_matrix(list_of_words6, glove_model_300)\n",
    "plot_similarity_matrix(matrix6, list_of_words6)\n",
    "\n",
    "# animals\n",
    "list_of_words7 = ['doctor', 'nurse', 'teacher', 'housekeeper', 'scientist', 'engineer', 'man', 'woman']\n",
    "matrix7 = get_similarity_matrix(list_of_words7, glove_model_300)\n",
    "plot_similarity_matrix(matrix7, list_of_words7)\n",
    "\n",
    "\n",
    "### YOUR CODE ENDS HERE"
   ]
  },
  {
   "cell_type": "markdown",
   "metadata": {
    "collapsed": false,
    "jupyter": {
     "outputs_hidden": false
    },
    "pycharm": {
     "name": "#%% md\n"
    }
   },
   "source": [
    "// your comments"
   ]
  },
  {
   "cell_type": "markdown",
   "metadata": {
    "collapsed": false,
    "jupyter": {
     "outputs_hidden": false
    },
    "pycharm": {
     "name": "#%% md\n"
    }
   },
   "source": [
    "## 5. Sentence Embeddings by Averaging Word Embeddings\n",
    "\n",
    "Word embeddings are a powerful model for representing words and their meaning (in terms of distributional similarity). As we discussed in class, we can use them in a wide variety of tasks with more complex architectures. Word vectors offer a dense vector for each word. What if we wanted to represent a sentence (or a document) based on word vectors. How can we do that?\n",
    "\n",
    "In the course, we will see different architectures that take into account the sequence of words (by combining their vectors). A first naive but simple and sometimes (as we are going to see) quite effective approach would be to represent a sentence with an embedding vector that is the average of the word vectors that form the sentence.\n",
    "\n",
    "So formally, this is what we are aiming for:\n",
    "\n",
    "$\n",
    "\\text{Sentence_Embedding} = \\frac{1}{N} \\sum_{i=1}^{N} \\text{Word_Embedding}_i\n",
    "$\n",
    "\n",
    "where:\n",
    "* $N$ is the number of words in a sentence\n",
    "* $\\text{Word_Embedding}_i$ is the word vector for the $i$-th in the sentence.\n",
    "\n",
    "Things to note:\n",
    "* The embedding vector for the sentence will obviously have the same dimension as the word embedding.\n",
    "* This representation ignores the word order (like bag-of-words). During the course we will see how we can overcome this limitation by using sequence models."
   ]
  },
  {
   "cell_type": "markdown",
   "metadata": {
    "collapsed": false,
    "jupyter": {
     "outputs_hidden": false
    },
    "pycharm": {
     "name": "#%% md\n"
    }
   },
   "source": [
    "<a name='e12'></a>\n",
    "### Exercise 12: Sentence Embedding\n",
    "\n",
    "(10p) Complete the function below that takes as input the sentence in the form of tokens (so it's a list of words) and calculates the sentence embedding vector. First, we would need to retrieve the word embeddings for each word from our loaded model and then average the vectors.\n",
    "\n",
    "Note: There can be cases where all tokens from a sentence are out-of-vocabulary words (OOV). Think what to do in this case and make sure to discuss it in the report."
   ]
  },
  {
   "cell_type": "code",
   "execution_count": 43,
   "metadata": {
    "collapsed": false,
    "jupyter": {
     "outputs_hidden": false
    },
    "pycharm": {
     "name": "#%%\n"
    }
   },
   "outputs": [],
   "source": [
    "def embed_sentence_word_model(tokens, model):\n",
    "    \"\"\"\n",
    "    Calculates the sentence embedding by averaging the embeddings of the tokens\n",
    "    Args:\n",
    "        tokens: a list of words from the sentence\n",
    "        model: a trained word embeddings model\n",
    "\n",
    "    Returns: a numpy array of the sentence embedding\n",
    "\n",
    "    \"\"\"\n",
    "    #### YOUR CODE HERE\n",
    "    #### CAUTION: be sure to cover the case where all tokens are out-of-vocabulary!!!\n",
    "    \n",
    "    embeddings = []\n",
    "\n",
    "    for token in tokens:\n",
    "        if token in model:\n",
    "            embeddings.append(model[token])\n",
    "    \n",
    "    if embeddings:\n",
    "        return np.mean(embeddings, axis=0).astype(np.float32)\n",
    "    else:\n",
    "        return np.zeros(model.vector_size, dtype=np.float32)\n",
    "\n",
    "\n",
    "    ### YOUR CODE ENDS HERE"
   ]
  },
  {
   "cell_type": "markdown",
   "metadata": {
    "collapsed": false,
    "jupyter": {
     "outputs_hidden": false
    },
    "pycharm": {
     "name": "#%% md\n"
    }
   },
   "source": [
    "Now we can apply the function to the whole dataset. Here we do it both for the sentence and the compressed version. You should know it by now, but this operation might take some time. The next cells will apply your function to the whole dataset."
   ]
  },
  {
   "cell_type": "code",
   "execution_count": 44,
   "metadata": {
    "collapsed": false,
    "jupyter": {
     "outputs_hidden": false
    },
    "pycharm": {
     "name": "#%%\n"
    }
   },
   "outputs": [],
   "source": [
    "def embed_sentence_word_model_dataset(batch, model):\n",
    "    \"\"\"\n",
    "    Embeds the sentence and the compressed sentence in the example from the Dataset\n",
    "    Args:\n",
    "        example: an example from the Dataset\n",
    "        model: a trained word embeddings model\n",
    "\n",
    "    Returns: updated example with 'sentence_embedding' and 'compressed_embedding' columns\n",
    "\n",
    "    \"\"\"\n",
    "    sentence_embeddings = []\n",
    "    compressed_embeddings = []\n",
    "\n",
    "    for sentence_tokens, clean_compressed in zip(batch['sentence_tokens'], batch['clean_compressed']):\n",
    "        compressed_tokens = tokenize(clean_compressed)\n",
    "\n",
    "        sentence_emb = embed_sentence_word_model(sentence_tokens, model)\n",
    "        compressed_emb = embed_sentence_word_model(compressed_tokens, model)\n",
    "\n",
    "        sentence_embeddings.append(sentence_emb)\n",
    "        compressed_embeddings.append(compressed_emb)\n",
    "\n",
    "    return {\n",
    "        'sentence_embedding': sentence_embeddings,\n",
    "        'compressed_embedding': compressed_embeddings\n",
    "    }"
   ]
  },
  {
   "cell_type": "code",
   "execution_count": 45,
   "metadata": {},
   "outputs": [],
   "source": [
    "# print(embed_sentence_word_model(tokenize(test_ds[\"clean_compressed\"][9000]), glove_model))"
   ]
  },
  {
   "cell_type": "code",
   "execution_count": 50,
   "metadata": {
    "collapsed": false,
    "jupyter": {
     "outputs_hidden": false
    },
    "pycharm": {
     "name": "#%%\n"
    },
    "scrolled": true
   },
   "outputs": [
    {
     "data": {
      "application/vnd.jupyter.widget-view+json": {
       "model_id": "940d12258f42492fbbcf4e165bd20db8",
       "version_major": 2,
       "version_minor": 0
      },
      "text/plain": [
       "Map:   0%|          | 0/36000 [00:00<?, ? examples/s]"
      ]
     },
     "metadata": {},
     "output_type": "display_data"
    },
    {
     "name": "stdout",
     "output_type": "stream",
     "text": [
      "Dataset({\n",
      "    features: ['set', 'clean_sentence', 'clean_compressed', 'sentence_tokens', 'compressed_tokens', 'sentence_bow', 'compressed_bow', 'sentence_embedding', 'compressed_embedding'],\n",
      "    num_rows: 36000\n",
      "})\n"
     ]
    }
   ],
   "source": [
    "# print(test_ds)\n",
    "# test_ds = test_ds.drop(labels=[3998,3999,4000], axis=0)\n",
    "test_ds = test_ds.map(embed_sentence_word_model_dataset, batched=True, fn_kwargs={'model': glove_model})\n",
    "print(test_ds)"
   ]
  },
  {
   "cell_type": "code",
   "execution_count": 51,
   "metadata": {
    "collapsed": false,
    "jupyter": {
     "outputs_hidden": false
    },
    "pycharm": {
     "name": "#%%\n"
    }
   },
   "outputs": [
    {
     "name": "stdout",
     "output_type": "stream",
     "text": [
      "{'sentence_bow': array([0., 1., 0., ..., 0., 0., 0.]), 'compressed_bow': array([0., 0., 0., ..., 0., 0., 0.]), 'sentence_embedding': array([-0.14741662,  0.07123321,  0.10402681, -0.10834732, -0.15147848,\n",
      "        0.205651  , -0.099011  ,  0.54496443, -0.0609332 ,  0.21596679,\n",
      "       -0.07181107, -0.00627701,  0.45264497,  0.21881101,  0.1735857 ,\n",
      "       -0.071009  ,  0.1037539 , -0.08429476, -0.54376632, -0.041152  ,\n",
      "        0.136438  ,  0.0103625 ,  0.24306491, -0.21950999,  0.06047898,\n",
      "        0.09458999, -0.26778138, -0.2930851 , -0.27239969,  0.19758835,\n",
      "        0.25323242,  0.11666069, -0.13734141,  0.13306598, -0.10340102,\n",
      "        0.104436  , -0.0991879 ,  0.10467128,  0.36001641,  0.16786169,\n",
      "       -0.54087913, -0.25011152,  0.28711182, -0.26517931,  0.393758  ,\n",
      "        0.20817521, -0.10303351, -0.04896061,  0.0264765 , -0.42847919,\n",
      "        0.1686606 , -0.30473787,  0.20146599,  0.88145906, -0.060067  ,\n",
      "       -1.99929404, -0.05896598, -0.1532636 ,  1.46415293,  0.68316501,\n",
      "        0.07677247,  0.53251886,  0.10802031,  0.26688212,  0.56508434,\n",
      "       -0.08765522,  0.30030853,  0.10299511,  0.22643772, -0.18350449,\n",
      "       -0.027565  , -0.21692112,  0.15119469, -0.35379359,  0.4763647 ,\n",
      "        0.0638331 ,  0.0281148 ,  0.21640062, -0.84374702, -0.0679812 ,\n",
      "        0.67102599,  0.04237112, -0.21504161,  0.0091378 , -0.90438807,\n",
      "       -0.29087505,  0.1820351 , -0.12193809, -0.21986549, -0.161798  ,\n",
      "        0.47514939, -0.35107166,  0.037693  ,  0.32909551, -0.38537401,\n",
      "        0.25695699, -0.0476802 , -0.3392868 ,  0.4942382 , -0.26713651]), 'compressed_embedding': array([ 1.76601708e-02,  1.96272507e-01,  2.24807516e-01, -4.00598019e-01,\n",
      "       -1.00796200e-01,  6.24137521e-01,  3.03399980e-01,  4.72479224e-01,\n",
      "       -4.70144972e-02,  2.47741252e-01,  2.93323249e-02,  1.15957499e-01,\n",
      "        7.85477459e-01,  2.90672511e-01,  2.07237497e-01,  1.24825001e-01,\n",
      "        3.16920489e-01, -9.70069990e-02, -5.87145746e-01,  1.40179992e-01,\n",
      "        3.40647519e-01, -1.55802250e-01,  1.63372502e-01, -2.55439997e-01,\n",
      "        3.11940968e-01,  2.77099997e-01, -3.57057512e-01, -4.63527501e-01,\n",
      "       -8.55499506e-03,  3.48396242e-01,  3.15701753e-01,  1.07654244e-01,\n",
      "       -3.20763499e-01,  1.03319988e-01,  8.48874971e-02, -4.35837507e-01,\n",
      "       -1.50099754e-01,  1.85127482e-01,  4.98144984e-01,  1.11841999e-01,\n",
      "       -6.19607449e-01, -2.83781230e-01,  4.26230013e-01, -4.01809990e-01,\n",
      "        2.45527491e-01,  3.55764985e-01, -2.42703736e-01,  1.83811486e-01,\n",
      "       -1.25371248e-01, -4.00105000e-01,  1.99744999e-01, -1.00832239e-01,\n",
      "        1.37910992e-01,  1.31992006e+00, -1.88597500e-01, -2.17592502e+00,\n",
      "       -5.16127527e-01, -6.47015050e-02,  1.54647493e+00,  6.73502505e-01,\n",
      "        2.75682479e-01,  9.59602535e-01, -8.22042599e-02,  4.03910011e-01,\n",
      "        6.18524969e-01,  3.21999192e-04,  4.42362487e-01,  1.01241753e-01,\n",
      "       -7.88882449e-02, -6.69412464e-02,  1.43317506e-01, -3.38157475e-01,\n",
      "        5.18347502e-01, -1.45688504e-01,  3.80941778e-01, -7.24372491e-02,\n",
      "        1.33870006e-01, -2.76197493e-01, -9.01464939e-01, -8.85550082e-02,\n",
      "        5.87610006e-01,  3.10160011e-01, -3.20316494e-01, -1.27590492e-01,\n",
      "       -8.76560032e-01, -5.13364971e-01,  1.89185247e-01, -8.66404921e-02,\n",
      "       -1.95460737e-01, -1.77180059e-02,  3.76130998e-01, -5.10879993e-01,\n",
      "        5.63600063e-02,  4.20033753e-01, -2.54947484e-01,  2.22849011e-01,\n",
      "       -4.53565001e-01, -6.85292482e-01,  5.73329508e-01, -3.22232246e-01])}\n",
      "{'sentence_bow': array([0., 1., 0., ..., 0., 0., 0.]), 'compressed_bow': array([0., 0., 0., ..., 0., 0., 0.]), 'sentence_embedding': array([-0.15866287,  0.19642   ,  0.29585004,  0.12627955,  0.28527501,\n",
      "       -0.28855157, -0.08289778,  0.02219663, -0.17620425,  0.20113751,\n",
      "       -0.01061052, -0.13590232,  0.27056307, -0.02267006, -0.13697153,\n",
      "       -0.17889306,  0.30130154,  0.09726016, -0.62157142, -0.11704389,\n",
      "        0.06184394, -0.13943353,  0.37869412,  0.11296509, -0.12415411,\n",
      "        0.15190524,  0.23484322, -0.14222884, -0.10889139,  0.10461124,\n",
      "       -0.1085237 ,  0.40560499, -0.07176815,  0.12576561, -0.16036151,\n",
      "        0.13085705, -0.04172388,  0.19650605, -0.32172087, -0.05166153,\n",
      "       -0.65605021,  0.03427122,  0.4323408 , -0.24558143, -0.08012399,\n",
      "       -0.02016717,  0.17963889,  0.0388346 , -0.30726916, -0.42259383,\n",
      "        0.03565918,  0.00679765,  0.10334754,  0.87649155,  0.02260495,\n",
      "       -1.52477515, -0.15742663,  0.11170824,  1.25780106,  0.3375943 ,\n",
      "       -0.04808806,  0.26135418, -0.02003678, -0.24099955,  0.57054436,\n",
      "        0.09505864,  0.26693872,  0.4000333 ,  0.2569373 ,  0.00171621,\n",
      "        0.18440524, -0.1031872 , -0.20724161, -0.3860811 , -0.020143  ,\n",
      "       -0.00317195, -0.20418975, -0.03145925, -0.94886857, -0.03505971,\n",
      "        0.57363594, -0.04692655, -0.0841597 ,  0.01678356, -0.81001204,\n",
      "       -0.03312515, -0.24515171, -0.01616714, -0.02935835, -0.34247023,\n",
      "        0.12373479,  0.00486364, -0.08891911,  0.09234676, -0.2858029 ,\n",
      "        0.16059487, -0.11508045, -0.40867585,  0.34788129,  0.20959027]), 'compressed_embedding': array([ 1.07872203e-01,  5.81812859e-01,  4.60515976e-01,  1.96101010e-01,\n",
      "        3.88660014e-01, -1.86333984e-01, -3.23172033e-01,  8.14995170e-02,\n",
      "        3.64000793e-03,  2.61358023e-01,  2.81063199e-01, -8.36816058e-02,\n",
      "        2.21439987e-01, -2.17378810e-01, -1.43403798e-01, -7.51139969e-02,\n",
      "        4.13666010e-01,  3.34551990e-01, -6.44313991e-01, -1.82637393e-01,\n",
      "        1.31317988e-01, -2.38959976e-02,  6.99341416e-01, -3.51240002e-02,\n",
      "        1.75976008e-01, -1.53241038e-01,  4.24171910e-02, -4.91773970e-02,\n",
      "        1.14657998e-01,  1.09012008e-01, -2.81675965e-01,  4.29658234e-01,\n",
      "       -1.77082613e-01,  2.70911995e-02,  4.19678986e-01,  1.15901992e-01,\n",
      "       -1.48962200e-01,  3.72816205e-01, -3.99990022e-01, -2.30312750e-01,\n",
      "       -5.44823527e-01, -1.90853402e-01,  3.01968008e-01, -8.64444003e-02,\n",
      "        2.07340065e-02,  8.57280008e-03,  2.37949997e-01, -1.42176196e-01,\n",
      "        2.33696215e-02, -4.89564031e-01, -2.59605974e-01,  1.62540004e-01,\n",
      "        8.72644037e-02,  1.12287796e+00,  9.36787948e-02, -2.34755993e+00,\n",
      "        5.58380000e-02,  1.14294603e-01,  1.82102013e+00,  5.17143786e-01,\n",
      "       -9.67200026e-02,  2.87931979e-01, -1.33541554e-01, -1.71948001e-01,\n",
      "        6.55897975e-01,  5.29260049e-03,  1.45906033e-02,  1.25248015e-01,\n",
      "        5.05784571e-01, -4.31277990e-01,  1.42826989e-01, -9.50201899e-02,\n",
      "       -5.99200130e-02, -2.21410200e-01,  5.94239905e-02,  2.41899933e-03,\n",
      "       -5.10240011e-02, -9.22660008e-02, -6.75050020e-01, -1.69386789e-01,\n",
      "        6.21267974e-01,  1.92903414e-01, -2.97813803e-01,  2.62937814e-01,\n",
      "       -1.01043403e+00,  1.15490399e-01, -2.34535024e-01, -8.10659081e-02,\n",
      "        1.39859912e-03, -4.78978120e-02,  7.06290007e-02,  1.53232008e-01,\n",
      "        5.35982065e-02,  1.71064213e-01, -1.42986014e-01, -6.46829978e-02,\n",
      "       -3.66823792e-01, -6.40204012e-01,  6.59532011e-01,  4.69060004e-01])}\n",
      "{'sentence_bow': array([0., 0., 0., ..., 0., 0., 0.]), 'compressed_bow': array([0., 0., 0., ..., 0., 0., 0.]), 'sentence_embedding': array([ 1.24875136e-01,  1.91886425e-02,  1.11490756e-03, -9.87055525e-02,\n",
      "        1.43950999e-01, -2.77768150e-02, -1.07233189e-01,  3.48581284e-01,\n",
      "       -8.56887177e-02, -1.44592682e-02,  1.49281606e-01,  2.52878815e-01,\n",
      "       -2.63584435e-01,  2.99384482e-02,  2.32843742e-01, -1.45266354e-01,\n",
      "        2.23599181e-01, -3.17319892e-02,  6.98969066e-02,  3.83240916e-02,\n",
      "        2.05129907e-01,  1.18442819e-01, -1.35820895e-01,  2.49620348e-01,\n",
      "        1.94923654e-01, -3.54445904e-01, -9.49013531e-02, -5.46159089e-01,\n",
      "       -2.88929027e-02, -2.30519064e-02,  1.82172358e-01,  5.98789752e-01,\n",
      "       -3.69450867e-01, -5.31624928e-02,  1.80653736e-01,  7.16843680e-02,\n",
      "       -1.07730635e-01, -8.88241678e-02, -6.37326995e-03, -4.06857193e-01,\n",
      "        1.74877986e-01, -4.22621340e-01,  5.41789196e-02,  1.02580003e-01,\n",
      "       -3.75480913e-02, -1.65667444e-01, -1.40126348e-02, -4.50105458e-01,\n",
      "       -1.07896000e-01, -7.40104318e-01,  1.36583909e-01,  1.08194821e-01,\n",
      "        1.42642006e-01,  6.79650903e-01, -2.34889254e-01, -1.54833555e+00,\n",
      "        4.88095395e-02, -4.53253061e-01,  1.73502088e+00,  4.01162893e-01,\n",
      "       -3.72113548e-02,  8.27147439e-02, -3.55836302e-02, -8.79885405e-02,\n",
      "        2.55122095e-01, -9.57843587e-02, -2.08660960e-02,  3.40556353e-01,\n",
      "        5.37646234e-01, -3.29130799e-01, -2.45620906e-01, -1.44317821e-01,\n",
      "       -2.34436139e-01, -3.45743656e-01, -1.15258187e-01,  2.13948160e-01,\n",
      "       -2.53867321e-02,  2.85523608e-02, -8.25208247e-01, -6.86806366e-02,\n",
      "        1.04890358e+00, -1.69028983e-01, -3.14840913e-01, -3.36758971e-01,\n",
      "       -1.07021177e+00, -2.46831998e-01, -9.55300108e-02, -2.21256360e-01,\n",
      "        3.63450497e-01, -6.58297688e-02, -2.78988630e-01,  3.87737095e-01,\n",
      "        6.21763505e-02, -5.73993623e-01, -2.96638638e-01, -5.69863580e-02,\n",
      "        3.44911844e-01,  1.00534558e-02,  7.78967261e-01, -1.40787005e-01]), 'compressed_embedding': array([ 1.51249990e-01, -1.86834991e-01,  1.21664010e-01, -3.25275153e-01,\n",
      "        2.95994997e-01,  1.81391656e-01, -1.83790013e-01,  1.18538998e-01,\n",
      "        1.86793342e-01,  2.10678831e-01, -6.05144985e-02,  3.06206673e-01,\n",
      "       -3.89050335e-01,  3.11429173e-01,  2.55429536e-01, -1.89533383e-02,\n",
      "        5.15543640e-01,  7.95273855e-02, -9.55246612e-02, -7.83364885e-05,\n",
      "        1.00271493e-01,  7.23866746e-02, -1.66690256e-02,  1.27757177e-01,\n",
      "       -7.78099969e-02, -1.80049524e-01, -4.78766672e-02, -3.92444998e-01,\n",
      "        1.11546822e-01, -9.38076749e-02,  3.39810967e-01,  8.36299956e-01,\n",
      "       -5.29721677e-01, -1.18123395e-02,  2.82634228e-01, -9.66584980e-02,\n",
      "       -8.23760107e-02, -1.67665377e-04,  1.31272331e-01, -5.82872331e-01,\n",
      "        2.72309989e-01, -6.56560004e-01,  9.42454934e-02,  1.08179986e-01,\n",
      "       -7.55138323e-02, -5.22136651e-02,  3.30040187e-01, -2.34484985e-01,\n",
      "       -3.07209998e-01, -7.72976637e-01,  1.22847997e-01,  4.08763856e-01,\n",
      "        9.45803449e-02,  6.82836592e-01, -1.54254094e-01, -1.65236998e+00,\n",
      "        8.15995038e-04, -4.40130681e-01,  1.60570514e+00,  4.34875011e-01,\n",
      "        5.37649775e-03, -5.88579960e-02,  1.82249352e-01, -3.01461723e-02,\n",
      "        3.90471697e-01, -2.48823002e-01,  1.33653834e-01,  5.30550003e-01,\n",
      "        6.87669992e-01, -2.09349990e-01, -3.98728520e-01, -2.25644335e-01,\n",
      "       -1.82974324e-01, -5.15573323e-01,  2.93558370e-02,  3.08103353e-01,\n",
      "       -1.10105053e-02,  9.20676589e-02, -9.16424990e-01,  2.60684993e-02,\n",
      "        1.17868495e+00, -2.67900676e-01, -5.51634967e-01, -1.88648272e-02,\n",
      "       -1.16365504e+00, -1.70510009e-01, -1.92949966e-01, -3.10653329e-01,\n",
      "        4.68640476e-01, -2.37343416e-01, -3.05636644e-01,  4.63537455e-01,\n",
      "        3.19064498e-01, -5.29841721e-01, -1.05992496e-01, -1.92906652e-02,\n",
      "        1.86752006e-01, -1.28051668e-01,  6.34934962e-01, -1.78494994e-02])}\n",
      "{'sentence_bow': array([0., 0., 0., ..., 0., 0., 0.]), 'compressed_bow': array([0., 0., 0., ..., 0., 0., 0.]), 'sentence_embedding': array([-1.86851561e-01, -1.69676065e-01,  2.94600755e-01, -4.15976882e-01,\n",
      "       -3.29432338e-02,  1.03937328e-01,  3.62638891e-01,  1.49417877e-01,\n",
      "       -1.91987142e-01, -1.10416256e-01,  1.39955431e-01,  1.26718711e-02,\n",
      "        1.38024405e-01,  7.00078085e-02,  3.67579460e-02, -7.18176141e-02,\n",
      "        3.49451512e-01, -2.74221122e-01, -5.05455017e-01,  2.09958494e-01,\n",
      "        3.32519740e-01, -1.59123063e-01,  3.80222313e-03,  3.99610817e-01,\n",
      "        2.35539541e-01,  9.54562426e-03,  1.08775750e-01, -1.30197495e-01,\n",
      "       -2.66323444e-02,  2.49137908e-01,  1.27466708e-01,  3.04303199e-01,\n",
      "       -1.03623383e-01,  2.65363663e-01, -1.10243261e-01, -5.23835123e-02,\n",
      "       -1.90112367e-02,  1.80809036e-01,  7.16889501e-02,  1.15607813e-01,\n",
      "       -3.54251862e-01, -1.76541552e-01, -9.68024433e-02, -8.49661306e-02,\n",
      "        1.47686005e-01, -1.95698738e-01, -2.18211025e-01, -3.17081064e-01,\n",
      "        4.42499854e-03, -5.01659393e-01,  5.38409874e-02, -4.55174968e-02,\n",
      "        5.27002700e-02,  6.82035983e-01, -1.91152543e-01, -1.73812878e+00,\n",
      "       -2.82933533e-01,  1.50774606e-03,  1.25992954e+00,  4.74826574e-01,\n",
      "       -1.31972626e-01,  5.92556655e-01, -1.62436813e-01, -2.12951034e-01,\n",
      "        4.69525456e-01,  1.50856879e-02,  1.61553025e-01,  3.07788610e-01,\n",
      "        7.85433799e-02,  4.75216478e-01, -1.06178813e-01, -1.58187881e-01,\n",
      "        1.35886803e-01,  1.09499972e-02, -1.93977520e-01,  2.88976636e-02,\n",
      "        2.10197881e-01, -3.12856282e-03, -8.64667416e-01, -2.48503298e-01,\n",
      "        5.11702478e-01, -9.01805013e-02, -8.50457847e-02, -1.28787607e-01,\n",
      "       -5.44864655e-01, -4.71595883e-01, -1.00839064e-01, -1.91958919e-02,\n",
      "        2.89804377e-02, -1.24544062e-01,  3.74191254e-01, -3.76080908e-03,\n",
      "        9.94818732e-02,  1.83211103e-01, -5.28368711e-01,  2.50226200e-01,\n",
      "       -7.41951354e-03, -1.95298567e-01,  5.12979865e-01, -4.31493483e-02]), 'compressed_embedding': array([-2.12172508e-01, -3.85449976e-02,  4.37290013e-01, -6.70127511e-01,\n",
      "        5.27485535e-02,  4.48588252e-01, -2.02836096e-03,  1.94499254e-01,\n",
      "       -8.87549892e-02, -4.04625088e-02, -1.11394502e-01, -4.06225175e-02,\n",
      "        1.70364007e-01,  1.27498001e-01,  8.74422491e-02, -9.58392471e-02,\n",
      "        1.73789501e-01, -1.57427251e-01, -3.83182526e-01,  7.35476255e-01,\n",
      "        1.47917479e-01, -5.34694791e-01,  1.34515002e-01, -4.78172451e-02,\n",
      "        6.68810010e-01,  1.87365010e-01,  1.49317503e-01, -9.86075103e-02,\n",
      "        2.85816520e-01,  2.74607480e-01, -6.19432479e-02,  8.77972484e-01,\n",
      "        1.36334002e-01,  1.59895003e-01,  2.92074978e-01, -7.77249038e-03,\n",
      "       -4.95370030e-01, -3.98752503e-02,  3.37000191e-02,  1.25631511e-01,\n",
      "       -2.62012511e-01,  1.15493253e-01, -1.07992508e-01, -4.38999943e-02,\n",
      "        3.14655513e-01,  1.05834998e-01, -3.95258754e-01, -2.10938245e-01,\n",
      "       -2.72037506e-01, -4.44114983e-01, -5.31314969e-01,  8.46045092e-02,\n",
      "        2.68945009e-01,  1.19108498e+00, -6.92627504e-02, -2.06535006e+00,\n",
      "       -5.79275012e-01,  3.09974492e-01,  1.07674241e+00,  3.36330265e-01,\n",
      "       -3.25042605e-02,  8.14245045e-01, -1.28962517e-01, -5.70397496e-01,\n",
      "        9.79025006e-01,  2.43265748e-01,  3.58062506e-01,  4.92297769e-01,\n",
      "       -2.35772267e-01,  2.65339792e-01,  2.89949998e-02, -4.77945030e-01,\n",
      "        7.54724890e-02, -3.32999695e-03, -1.09880000e-01,  9.46377441e-02,\n",
      "        1.92529500e-01, -1.98730007e-01, -4.90522504e-01,  2.03247517e-01,\n",
      "        5.84519982e-01, -1.26747504e-01, -1.08634241e-01, -1.66215003e-01,\n",
      "       -1.12848258e+00, -2.18500257e-01, -2.57107496e-01,  5.56667507e-01,\n",
      "        1.46586746e-01, -1.89994991e-01,  4.83805001e-01, -5.56875058e-02,\n",
      "        4.56645012e-01, -8.07962567e-02, -5.17189980e-01, -1.39181510e-01,\n",
      "       -1.96669996e-01, -1.99225008e-01,  5.44789493e-01, -7.86575079e-02])}\n",
      "{'sentence_bow': array([0., 0., 0., ..., 0., 0., 0.]), 'compressed_bow': array([0., 0., 0., ..., 0., 0., 0.]), 'sentence_embedding': array([ 0.17237583, -0.01619385,  0.37956464, -0.24539521, -0.14095822,\n",
      "        0.15264222, -0.14331163,  0.12232415,  0.28525227, -0.27213323,\n",
      "        0.0237227 ,  0.07291337, -0.13642256, -0.08844414,  0.08252645,\n",
      "        0.10306723,  0.29594532,  0.19396807, -0.03019261,  0.47873375,\n",
      "       -0.09392847,  0.04132792, -0.03249924, -0.01519722,  0.31700924,\n",
      "        0.38993597,  0.03616377, -0.40138146,  0.11169791, -0.07394923,\n",
      "        0.11144269,  0.15488234,  0.29832071,  0.01166638,  0.13003823,\n",
      "       -0.02473869, -0.04209377,  0.10589291,  0.06763824, -0.01892592,\n",
      "       -0.24245638,  0.29848057, -0.12431814,  0.00849908, -0.15492862,\n",
      "       -0.13236515, -0.20516914, -0.17459077,  0.08669099, -0.274492  ,\n",
      "        0.16832724, -0.13194638,  0.05812987,  0.42626536,  0.07018362,\n",
      "       -1.05771768, -0.13823408,  0.12589797,  0.40588233, -0.01039307,\n",
      "        0.02908538,  0.68107003, -0.31312159,  0.01315038,  0.39132845,\n",
      "       -0.09598462,  0.57162464,  0.27861041, -0.17402944,  0.22389239,\n",
      "        0.17764224, -0.05437678, -0.072662  ,  0.19029577,  0.09282382,\n",
      "        0.14684086,  0.2070543 , -0.1133757 , -0.17405322, -0.10636946,\n",
      "        0.07260569, -0.16065325, -0.10369396, -0.05336613, -0.83000237,\n",
      "       -0.28770709, -0.02043247,  0.02376884,  0.0113263 , -0.27898675,\n",
      "        0.07810415, -0.05259876,  0.21411623, -0.23272918,  0.17836562,\n",
      "       -0.04899053, -0.09674969, -0.07577716, -0.18578283,  0.20769614]), 'compressed_embedding': array([ 0.24968097,  0.03878874,  0.37279713, -0.20335875, -0.40152502,\n",
      "        0.17568332, -0.27723551,  0.36002937,  0.48283496, -0.47944999,\n",
      "        0.38349625,  0.4153989 ,  0.16509099, -0.12026375,  0.12547612,\n",
      "        0.18006538,  0.03354988,  0.29638624, -0.32953176,  0.26265112,\n",
      "        0.00588249,  0.25115389, -0.05628737, -0.17554873,  0.22256875,\n",
      "        0.23308325,  0.03748899, -0.4074145 ,  0.38891676, -0.16040623,\n",
      "       -0.0686925 ,  0.21045616,  0.17638752, -0.15850325,  0.18880013,\n",
      "       -0.13982664, -0.20635149,  0.19499102,  0.06661901,  0.03816125,\n",
      "       -0.21137251,  0.27140439, -0.17498174, -0.04565575, -0.44969499,\n",
      "       -0.28452623, -0.21842235, -0.12621188, -0.11996499, -0.2846179 ,\n",
      "       -0.01168775,  0.05467963, -0.00654856,  0.31779623, -0.19922824,\n",
      "       -1.01157856,  0.11901714, -0.01783368,  0.34851378, -0.25492501,\n",
      "        0.05735875,  0.56512499, -0.54619503,  0.04347487,  0.47856298,\n",
      "        0.02610651,  0.5030793 ,  0.22582874, -0.14516251,  0.13998838,\n",
      "        0.09077025, -0.19292775, -0.10825064, -0.18679462,  0.15126485,\n",
      "        0.25269312,  0.18077451, -0.13880101, -0.02284501, -0.35316712,\n",
      "        0.37279275, -0.37947997, -0.36883882, -0.05632985, -0.87204874,\n",
      "       -0.30179149, -0.0658914 , -0.03970562, -0.04217376, -0.09645626,\n",
      "        0.13211301, -0.12787551,  0.46226075, -0.20049661,  0.15254538,\n",
      "        0.08889937,  0.00527225, -0.18082274, -0.11376299,  0.31689376])}\n",
      "{'sentence_bow': array([0., 0., 0., ..., 0., 0., 0.]), 'compressed_bow': array([0., 0., 0., ..., 0., 0., 0.]), 'sentence_embedding': array([-3.19974005e-01, -1.36902869e-01,  1.62902176e-01, -1.01196811e-01,\n",
      "        1.07437372e-01,  1.18556097e-01, -6.72779009e-02,  2.01460987e-01,\n",
      "       -3.26049514e-02,  5.81423819e-01, -8.54791850e-02, -1.46362439e-01,\n",
      "        6.62939131e-01,  9.10062790e-02,  3.96067239e-02, -1.06971189e-01,\n",
      "        1.03554397e-03, -6.63389266e-01, -7.84338236e-01,  2.39969343e-01,\n",
      "        7.04812109e-01, -2.43026212e-01,  4.31128412e-01,  3.65472771e-02,\n",
      "       -1.43045366e-01, -1.41658634e-01,  1.78434908e-01,  6.73090965e-02,\n",
      "        1.29326314e-01,  1.03580065e-01,  2.38927737e-01, -7.10880756e-03,\n",
      "       -2.26911649e-01,  2.15493571e-02,  7.63566121e-02, -3.15739185e-01,\n",
      "        4.19878326e-02,  2.37960324e-01,  5.97500056e-02,  2.94050813e-01,\n",
      "       -7.31712878e-01,  8.39706361e-02,  4.90187287e-01,  3.45860384e-02,\n",
      "        4.01039302e-01, -2.67435819e-01, -3.98886353e-02, -3.29091735e-02,\n",
      "       -3.25876325e-02, -5.10602713e-01, -2.10143104e-01,  1.42114162e-01,\n",
      "        2.16215804e-01,  1.19849265e+00, -2.07181111e-01, -1.88821638e+00,\n",
      "       -2.33671650e-01, -3.77488822e-01,  1.68677819e+00,  6.84970140e-01,\n",
      "       -4.04996313e-02,  4.86590266e-01, -8.86081811e-03, -2.63792753e-01,\n",
      "        4.09406155e-01,  2.45903730e-01,  4.02387045e-02,  2.94246972e-01,\n",
      "        3.85423541e-01,  5.09790480e-01,  1.97144553e-01, -6.46008432e-01,\n",
      "       -1.91687107e-01, -3.78789544e-01,  6.60202801e-02, -3.91567200e-02,\n",
      "        1.22276284e-01,  1.62334085e-01, -1.14351547e+00,  2.67504722e-01,\n",
      "        8.06753576e-01, -1.61556914e-01, -7.07072765e-02, -1.54461518e-01,\n",
      "       -7.65199065e-01, -1.04690738e-01,  2.95135491e-02,  1.91016808e-01,\n",
      "       -1.50962263e-01,  9.21633467e-02,  4.64364529e-01,  3.20842713e-02,\n",
      "       -3.25919181e-01,  7.59996613e-03, -9.06540096e-01,  5.58166206e-01,\n",
      "        7.48896748e-02,  1.43763637e-02,  4.69205886e-01, -7.89658260e-03]), 'compressed_embedding': array([-4.57082033e-01, -2.76691932e-03, -2.80440096e-02, -8.49700049e-02,\n",
      "        8.70439932e-02,  3.38331193e-01, -1.55231014e-01, -3.54373991e-01,\n",
      "       -2.38525987e-01,  7.65346646e-01,  2.48560786e-01, -8.80494043e-02,\n",
      "        5.48494220e-01,  1.97093412e-01,  1.91548005e-01,  5.59946075e-02,\n",
      "       -1.35607794e-01, -4.80564982e-01, -7.75786042e-01,  5.87060571e-01,\n",
      "        8.94704044e-01, -6.37372017e-01,  4.04356003e-01, -1.51083797e-01,\n",
      "       -1.60286993e-01,  2.32870221e-01, -4.38419916e-02, -2.92170376e-01,\n",
      "        4.03535545e-01,  1.19442143e-01,  1.56015605e-01,  3.66345197e-01,\n",
      "       -1.36837602e-01, -3.29472780e-01, -1.05701052e-01, -2.80206025e-01,\n",
      "       -1.35199856e-02,  1.22082196e-01,  2.74799973e-01,  3.11512768e-01,\n",
      "       -7.53494024e-01,  2.46091396e-01,  5.52908003e-01, -6.25001173e-03,\n",
      "        6.46106005e-01, -3.28722000e-01, -1.59124181e-01,  6.35637864e-02,\n",
      "       -2.97532022e-01, -3.11645985e-01, -2.74177998e-01,  1.65452808e-01,\n",
      "        1.96035996e-01,  1.23353195e+00, -2.26504609e-01, -1.38397193e+00,\n",
      "       -4.05160010e-01, -3.63811582e-01,  1.71924591e+00,  5.49414217e-01,\n",
      "        4.29299958e-02,  4.43805397e-01, -1.28059392e-03, -9.31599960e-02,\n",
      "        5.61855972e-01,  4.44604009e-01,  8.23146030e-02,  3.23577225e-01,\n",
      "        1.88189939e-01,  3.86403978e-01,  3.16463977e-01, -8.83520007e-01,\n",
      "       -3.43873978e-01, -2.88448006e-01, -1.02969408e-01,  6.76596188e-04,\n",
      "        1.55693606e-01, -4.36026081e-02, -7.58207917e-01,  1.80767804e-01,\n",
      "        8.52450013e-01, -2.54417986e-01, -2.15070009e-01, -1.99058399e-01,\n",
      "       -7.10409999e-01, -2.62223985e-02,  5.06012440e-01,  3.36497992e-01,\n",
      "       -3.52834053e-02,  1.82088405e-01,  9.43448022e-02, -5.39219975e-02,\n",
      "       -2.28886217e-01, -1.45356804e-01, -7.27088034e-01,  1.62933797e-01,\n",
      "        3.32316048e-02,  1.19947597e-01,  2.03663990e-01,  3.83154005e-02])}\n",
      "{'sentence_bow': array([0., 0., 0., ..., 0., 0., 0.]), 'compressed_bow': array([0., 0., 0., ..., 0., 0., 0.]), 'sentence_embedding': array([-0.03399438, -0.14216729,  0.16466826, -0.21680993, -0.02080827,\n",
      "        0.34027132,  0.03034666,  0.691733  ,  0.0606798 ,  0.07267837,\n",
      "       -0.13342759,  0.1879402 ,  0.36309162, -0.02378406,  0.08825915,\n",
      "       -0.28534642,  0.16409571, -0.34577867, -0.81578344,  0.22066973,\n",
      "        0.32149047, -0.01003643,  0.17236689,  0.20337313, -0.00930335,\n",
      "        0.0306168 , -0.07917285, -0.29006633,  0.06326757,  0.19914772,\n",
      "       -0.1294976 , -0.05804653,  0.0879813 ,  0.26771504, -0.04763418,\n",
      "       -0.26577273, -0.0867822 ,  0.2179904 ,  0.42790464,  0.25902942,\n",
      "       -0.47651979, -0.35121864,  0.11876666, -0.13026366,  0.42859018,\n",
      "        0.26740927, -0.10900683, -0.28624445,  0.07424413, -0.26117852,\n",
      "        0.04448541, -0.22144799,  0.24966025,  0.91566795, -0.3005704 ,\n",
      "       -1.67327058, -0.57003838,  0.05071163,  1.19136596,  0.49149865,\n",
      "       -0.17634997,  0.57221985,  0.07747453,  0.07231087,  0.26738113,\n",
      "       -0.1433958 ,  0.25685325,  0.12021287,  0.06081174,  0.24847306,\n",
      "       -0.45117623, -0.36329514, -0.0191614 , -0.05257933,  0.32284996,\n",
      "        0.18674926,  0.45655146, -0.04704332, -0.86329728, -0.09231959,\n",
      "        0.39782587,  0.09794827, -0.16283754,  0.0102576 , -0.60117131,\n",
      "       -0.26433107,  0.00898353,  0.19753453, -0.09762041, -0.08344214,\n",
      "        0.53997988, -0.22543922, -0.06919997,  0.25780293, -0.56539094,\n",
      "        0.56570131, -0.1961289 , -0.04546074,  0.24835686, -0.07921697]), 'compressed_embedding': array([ 0.05269926, -0.16003999,  0.15270402, -0.16740996, -0.072596  ,\n",
      "        0.29155394,  0.113328  ,  0.39596   ,  0.51941001,  0.24241939,\n",
      "       -0.02668219,  0.54556596,  0.81939203,  0.02355941,  0.29173404,\n",
      "       -0.1062086 ,  0.1710114 , -0.41518798, -0.77451438,  0.48961401,\n",
      "        0.59390402, -0.2546038 ,  0.30582181,  0.06417842,  0.10085118,\n",
      "       -0.09391399, -0.33589596, -0.250249  ,  0.288674  ,  0.18276399,\n",
      "        0.09095799,  0.2401844 ,  0.138154  ,  0.090173  , -0.09741201,\n",
      "       -0.49102539, -0.18936801,  0.13277462,  0.65357006,  0.62953001,\n",
      "       -0.532013  , -0.02433   ,  0.35198003, -0.15928599,  0.51197469,\n",
      "        0.392526  ,  0.07684999, -0.0779562 , -0.21559   , -0.29707542,\n",
      "        0.28280202, -0.18315741,  0.0972148 ,  1.31379807, -0.15809399,\n",
      "       -1.47650599, -0.53343934,  0.2017    ,  1.5076499 ,  0.76949799,\n",
      "       -0.02404799,  0.89595807,  0.18372141, -0.0418292 ,  0.42243201,\n",
      "        0.145694  ,  0.19736755, -0.11843121,  0.107026  ,  0.42876238,\n",
      "       -0.48019201, -0.4985756 ,  0.158764  ,  0.20470603,  0.48372197,\n",
      "        0.207782  ,  0.68912399, -0.1932532 , -0.91731769, -0.35113198,\n",
      "        0.47961497,  0.214184  , -0.10080199, -0.0087864 , -1.03980994,\n",
      "       -0.47284198, -0.0557964 , -0.121704  , -0.59429675, -0.067403  ,\n",
      "        0.59786761, -0.192476  ,  0.00276801,  0.07017661, -0.42127562,\n",
      "        0.60539401, -0.20077828, -0.29617459,  0.1959288 , -0.63461459])}\n",
      "{'sentence_bow': array([0., 0., 0., ..., 0., 0., 0.]), 'compressed_bow': array([0., 0., 0., ..., 0., 0., 0.]), 'sentence_embedding': array([ 0.06081489, -0.15798916,  0.12861006, -0.59997505, -0.03089715,\n",
      "        0.34262195,  0.024228  ,  0.17101224, -0.17578816,  0.01444159,\n",
      "        0.06154317,  0.20132166,  0.31064606,  0.18968081,  0.10830626,\n",
      "       -0.10268214,  0.35799101, -0.22218168, -0.85105586,  0.39333487,\n",
      "        0.46808395, -0.10695542,  0.25221628, -0.05456717,  0.19859241,\n",
      "       -0.03233083, -0.03831415, -0.43345019,  0.01295433,  0.36595973,\n",
      "        0.04513082,  0.18192983, -0.14269726,  0.28824726, -0.06650083,\n",
      "       -0.38531342, -0.20389424,  0.32421777,  0.31539401,  0.23224984,\n",
      "       -0.18025582, -0.10706767,  0.2959511 , -0.063275  ,  0.23079501,\n",
      "        0.07662083, -0.07310268, -0.1189345 ,  0.01728916, -0.07762309,\n",
      "        0.21096082, -0.19541506,  0.14017993,  0.77883655, -0.10437416,\n",
      "       -1.54092836, -0.44105831, -0.16675675,  0.75000954,  0.49005952,\n",
      "       -0.1343195 ,  0.54672247,  0.07833075,  0.06735707,  0.3786529 ,\n",
      "       -0.15424591,  0.41668463,  0.32279292, -0.11462732,  0.28079519,\n",
      "       -0.19544517, -0.12947705,  0.07459133, -0.27113658,  0.31658223,\n",
      "       -0.03697693,  0.10357401, -0.17585708, -0.7338655 ,  0.06621516,\n",
      "        0.41889605,  0.13571925, -0.17818524, -0.08977834, -0.53281951,\n",
      "       -0.21142776, -0.02777308, -0.11948025, -0.10029483,  0.01366767,\n",
      "        0.19584446, -0.44427547,  0.02111167, -0.01557567, -0.53060156,\n",
      "        0.18708892,  0.02158825, -0.2550914 ,  0.1099459 , -0.17558789]), 'compressed_embedding': array([-0.00388019, -0.03138786,  0.24857286, -0.3989186 ,  0.03759774,\n",
      "        0.29980642, -0.07287729,  0.1566267 ,  0.07718744,  0.13080044,\n",
      "        0.02509086,  0.09258284,  0.42422286, -0.02381328,  0.07967857,\n",
      "       -0.14092414,  0.51243609, -0.0894616 , -0.77666283,  0.4299643 ,\n",
      "        0.31697717, -0.03710701,  0.20304339, -0.14829342,  0.02828842,\n",
      "       -0.11284857, -0.03601567, -0.44323888,  0.08962857,  0.2014437 ,\n",
      "        0.26455399,  0.206772  , -0.17643483,  0.27396858, -0.06305571,\n",
      "       -0.15333585, -0.24756701,  0.26895601,  0.31988573,  0.04007686,\n",
      "       -0.33159858, -0.15252087,  0.28651828, -0.26788285,  0.10681714,\n",
      "        0.23490527, -0.02558358,  0.08326828, -0.11684001, -0.12816857,\n",
      "        0.17611428, -0.26303357,  0.38118657,  0.92824709, -0.16511142,\n",
      "       -1.66214859, -0.47537428, -0.28523028,  1.24087918,  0.42689148,\n",
      "       -0.02708457,  0.65830284,  0.04884385,  0.02259883,  0.52509999,\n",
      "        0.0946547 ,  0.49370998,  0.24027228, -0.090684  ,  0.01494386,\n",
      "       -0.17984714, -0.26440257,  0.06332371, -0.24512914,  0.43365243,\n",
      "       -0.06245359,  0.01835144, -0.12585215, -0.76189744, -0.04623914,\n",
      "        0.40720859,  0.23398471, -0.28571227,  0.02229143, -0.8650257 ,\n",
      "       -0.23786572,  0.13699557, -0.05327686, -0.29681829,  0.03395458,\n",
      "        0.13206901, -0.42352718,  0.16791286, -0.02787772, -0.6537286 ,\n",
      "        0.03484843, -0.22141142, -0.408703  ,  0.33090013, -0.16953287])}\n",
      "{'sentence_bow': array([0., 0., 0., ..., 0., 0., 0.]), 'compressed_bow': array([0., 0., 0., ..., 0., 0., 0.]), 'sentence_embedding': array([-2.75155269e-02, -5.92847951e-02,  4.14867789e-01, -1.65434480e-01,\n",
      "       -1.65504083e-01,  2.73834407e-01,  2.18033828e-02,  3.03840309e-01,\n",
      "       -3.98056090e-01, -1.70981899e-01,  1.39644429e-01, -8.50137919e-02,\n",
      "       -2.03928217e-01, -8.22247490e-02,  2.29716778e-01, -1.90977883e-02,\n",
      "        4.70854163e-01,  2.12594479e-01, -1.43757224e-01,  1.64542317e-01,\n",
      "        1.98518768e-01, -1.53069034e-01, -2.56536505e-03,  1.46327063e-01,\n",
      "        2.49598652e-01,  2.62441579e-02, -5.74673228e-02, -1.02453426e-01,\n",
      "       -1.40045788e-02, -1.12370051e-01, -5.27420759e-01,  1.46820530e-01,\n",
      "       -3.30443382e-02,  4.18149456e-02,  2.03188956e-01, -3.68283130e-02,\n",
      "       -2.04297528e-01,  2.35247090e-01, -2.89232522e-01, -1.32507041e-01,\n",
      "        3.91374268e-02, -6.72797933e-02,  2.46092275e-01, -7.62433186e-02,\n",
      "        3.41815740e-01,  6.41592965e-02,  1.50169834e-01, -2.15666696e-01,\n",
      "        2.22866416e-01, -3.23885590e-01, -1.59784615e-01, -1.44237161e-01,\n",
      "        3.74992155e-02,  4.51587826e-01,  2.62969080e-02, -1.41808283e+00,\n",
      "       -4.38951641e-01,  9.92737859e-02,  6.20947361e-01,  2.60027587e-01,\n",
      "       -3.15269470e-01,  4.31968331e-01, -2.75649846e-01, -1.48855254e-01,\n",
      "        8.59899372e-02,  2.28865761e-02,  1.21975347e-01,  3.57320100e-01,\n",
      "       -1.86529845e-01, -2.10146844e-01,  1.60566419e-02, -2.02273756e-01,\n",
      "       -1.48181841e-01, -5.18789887e-01,  8.59678909e-02,  7.72945175e-04,\n",
      "       -1.85039163e-01, -3.31272483e-02, -3.11550319e-01,  9.44735780e-02,\n",
      "        3.03945810e-01, -1.85052320e-01, -2.08920807e-01,  9.35964659e-02,\n",
      "       -4.82709944e-01, -1.42418995e-01, -1.98863059e-01,  2.71374196e-01,\n",
      "        2.33557206e-02,  2.14282684e-02, -5.09880409e-02, -1.16079794e-02,\n",
      "       -1.16300441e-01,  1.57681346e-01, -3.50846350e-01, -1.50928888e-02,\n",
      "        1.58753898e-02,  2.20661536e-01,  4.29491550e-01,  7.28887916e-02]), 'compressed_embedding': array([ 0.10583825, -0.48185372,  0.46636748,  0.16536677, -0.15648501,\n",
      "        0.47554252,  0.23628749,  0.45507002, -0.34987622, -0.0585775 ,\n",
      "        0.20093751, -0.54089206, -0.20430598,  0.29158375,  0.5499025 ,\n",
      "        0.32848251,  0.7476275 ,  0.36801249, -0.45029253,  0.3945975 ,\n",
      "        0.01214456, -0.34731251, -0.22773725,  0.3833625 ,  0.302717  ,\n",
      "        0.61269724,  0.19592777,  0.13417475, -0.17991251, -0.15805501,\n",
      "       -0.58616   , -0.10435501, -0.27131501, -0.01382999, -0.09522548,\n",
      "       -0.10514775, -0.15069824,  0.2178075 ,  0.05461501, -0.13898975,\n",
      "        0.02851   ,  0.2384425 , -0.0195125 ,  0.49716002,  0.49015003,\n",
      "       -0.33859998,  0.42881754, -0.17181832,  0.28559002, -0.19275974,\n",
      "       -0.45928502, -0.1574575 ,  0.06601751,  0.18924502, -0.47843677,\n",
      "       -0.57411748, -0.53583503,  0.32913274, -0.32055128,  0.21062037,\n",
      "        0.13629675,  0.3126125 , -0.07685502, -0.15673999, -0.24937001,\n",
      "        0.01523474,  0.2258555 ,  0.34693998, -0.2437425 , -0.30926248,\n",
      "       -0.2289765 ,  0.06748499, -0.47186679, -0.65898567,  0.0668625 ,\n",
      "       -0.0045225 , -0.4167276 , -0.22191475, -0.0140495 , -0.3673225 ,\n",
      "       -0.18174748, -0.23270324, -0.10058749,  0.4248375 ,  0.18709177,\n",
      "       -0.22396249, -0.26884499,  0.1139185 ,  0.08366644,  0.53316498,\n",
      "       -0.25281999,  0.38078034, -0.05302   ,  0.38222188, -0.1241675 ,\n",
      "        0.0566675 ,  0.1187475 ,  0.46863499,  0.30990499,  0.08379   ])}\n",
      "{'sentence_bow': array([0., 0., 0., ..., 0., 0., 0.]), 'compressed_bow': array([0., 0., 0., ..., 0., 0., 0.]), 'sentence_embedding': array([ 1.22398496e-01,  1.95957214e-01,  1.91474035e-01, -2.89873481e-01,\n",
      "        2.10533828e-01,  3.79096001e-01, -1.24407448e-01,  4.54911113e-01,\n",
      "        1.77770779e-01,  1.92681119e-01, -4.52121682e-02, -4.06491041e-01,\n",
      "        9.43199992e-02, -1.52113922e-02,  2.67499462e-02, -2.50555456e-01,\n",
      "        3.41244996e-01,  2.22099155e-01, -2.81508178e-01,  8.62139786e-05,\n",
      "        4.85037059e-01,  1.63945615e-01, -1.49300992e-01, -7.57300854e-02,\n",
      "        4.82973941e-02, -1.64955586e-01,  9.02747065e-02, -4.62526917e-01,\n",
      "       -3.23562287e-02, -4.37386669e-02,  9.90486667e-02,  1.65935934e-01,\n",
      "        9.62179378e-02,  1.50001705e-01, -6.26430362e-02,  1.49936154e-01,\n",
      "        2.15592071e-01, -1.44410664e-02, -4.01287787e-02, -1.87326327e-01,\n",
      "       -5.19477725e-02, -3.82159650e-01,  6.49499893e-02, -4.87602025e-01,\n",
      "        2.71848828e-01,  1.00148387e-01, -9.68485773e-02, -1.12181129e-02,\n",
      "       -1.16520151e-01, -1.77344278e-01, -1.25577554e-01, -1.75913945e-01,\n",
      "        4.56071272e-02,  4.23550040e-01, -2.50835866e-01, -1.62374628e+00,\n",
      "       -2.86957383e-01, -2.21780576e-02,  1.32477272e+00,  2.36853361e-01,\n",
      "       -1.96051031e-01,  3.05823356e-01, -6.71677366e-02,  1.26282230e-01,\n",
      "        2.47409642e-01, -4.64633293e-03,  2.52680182e-01,  2.43350685e-01,\n",
      "        9.51856077e-02,  3.09752785e-02,  2.48161447e-03, -6.03665924e-03,\n",
      "       -1.90188602e-01, -4.15605009e-02,  4.86133824e-04, -1.46293445e-02,\n",
      "        5.53176589e-02, -2.08508670e-02, -7.25301564e-01,  8.30027759e-02,\n",
      "        3.60256225e-01, -1.76747546e-01, -2.79707551e-01,  1.18962951e-01,\n",
      "       -8.06792498e-01, -2.12612957e-01,  9.15010497e-02, -1.59472600e-01,\n",
      "        3.14056613e-02,  9.09301117e-02,  2.73427844e-01,  1.25924861e-02,\n",
      "       -6.56188875e-02, -7.52924979e-02, -6.27054811e-01,  8.15461203e-02,\n",
      "       -1.11276165e-01,  1.06872253e-01,  6.44895554e-01, -5.34995012e-02]), 'compressed_embedding': array([ 0.07819036,  0.083946  ,  0.35496134, -0.37065589,  0.29139268,\n",
      "        0.38163731, -0.02515889,  0.5088653 ,  0.24860978,  0.20317666,\n",
      "       -0.06385389, -0.44469944, -0.04865   ,  0.20860299,  0.08649933,\n",
      "       -0.26982233,  0.50786871,  0.30014068, -0.01109079, -0.116113  ,\n",
      "        0.45531356,  0.16485333, -0.31234789,  0.05812858,  0.19463666,\n",
      "        0.2024    ,  0.041173  , -0.60299784, -0.04894967, -0.06355744,\n",
      "       -0.06261578,  0.22962965,  0.20240255,  0.26072988, -0.085015  ,\n",
      "        0.00929567,  0.27800655,  0.07415844,  0.04459477, -0.12738633,\n",
      "       -0.036063  , -0.38638446,  0.14909667, -0.55031836,  0.30368668,\n",
      "        0.01996089, -0.25115925,  0.0812    , -0.09070778, -0.26809633,\n",
      "       -0.04355624, -0.13463667,  0.04601888,  0.42568669, -0.15253823,\n",
      "       -1.87609804, -0.41302669,  0.14884546,  1.51617992,  0.30175686,\n",
      "       -0.35809866,  0.34932888, -0.14007288, -0.03241534,  0.24695879,\n",
      "       -0.1062669 ,  0.36673781,  0.06791499, -0.10945988,  0.21314886,\n",
      "       -0.06984377,  0.00593823, -0.18544775,  0.12288756,  0.12964334,\n",
      "       -0.00492223,  0.17520019, -0.01534531, -0.64460218,  0.15787533,\n",
      "        0.42127556, -0.160992  , -0.35228169, -0.03881777, -0.93612003,\n",
      "       -0.22279422, -0.04584999, -0.11140999, -0.05580557,  0.01203011,\n",
      "        0.27534449,  0.00289655,  0.02825779, -0.07827689, -0.27267277,\n",
      "        0.12667888, -0.1208389 , -0.05296671,  0.60581332, -0.09986113])}\n"
     ]
    }
   ],
   "source": [
    "for i in range(10):\n",
    "    print(test_ds[i])"
   ]
  },
  {
   "cell_type": "markdown",
   "metadata": {
    "collapsed": false,
    "jupyter": {
     "outputs_hidden": false
    },
    "pycharm": {
     "name": "#%% md\n"
    }
   },
   "source": [
    "Here you can see that the new dataset returned a single numpy array containing all sentence embeddings in our dataset. This is a lot more efficient than returning a list of arrays (which is the default behaviour). Below we check the type and the dimensionality.\n",
    "\n",
    "We will be using `text` subset from our dataset to not use too much RAM."
   ]
  },
  {
   "cell_type": "code",
   "execution_count": 52,
   "metadata": {
    "collapsed": false,
    "jupyter": {
     "outputs_hidden": false
    },
    "pycharm": {
     "name": "#%%\n"
    }
   },
   "outputs": [
    {
     "name": "stdout",
     "output_type": "stream",
     "text": [
      "<class 'numpy.ndarray'>\n",
      "(36000, 100)\n",
      "<class 'numpy.ndarray'>\n",
      "(36000, 100)\n"
     ]
    }
   ],
   "source": [
    "sent_embedding = test_ds['sentence_embedding']\n",
    "compr_embedding = test_ds['compressed_embedding']\n",
    "print(type(sent_embedding))\n",
    "print(sent_embedding.shape)\n",
    "print(type(compr_embedding))\n",
    "print(compr_embedding.shape)"
   ]
  },
  {
   "cell_type": "markdown",
   "metadata": {
    "collapsed": false,
    "jupyter": {
     "outputs_hidden": false
    },
    "pycharm": {
     "name": "#%% md\n"
    }
   },
   "source": [
    "Next we try the condensed representatin based on a simple query. Feel free to try different queries with different words. What happens if we have OOV words in a query?"
   ]
  },
  {
   "cell_type": "code",
   "execution_count": 53,
   "metadata": {
    "collapsed": false,
    "jupyter": {
     "outputs_hidden": false
    },
    "pycharm": {
     "name": "#%%\n"
    }
   },
   "outputs": [
    {
     "name": "stdout",
     "output_type": "stream",
     "text": [
      "fox and deer\n",
      "(100,)\n",
      "[-0.083385   -0.63719     0.254075   -0.65408504 -0.12458149 -0.57695\n",
      "  0.1151895   0.47937998 -0.05304    -1.16922    -0.479265   -0.117604\n",
      "  0.67665505 -0.2181845   0.86132     0.46395     0.149115    0.352275\n",
      " -0.00642499  0.42123    -0.108593    0.51331     0.1666895  -0.19212\n",
      "  0.552625    0.777605   -0.17123    -0.00441501 -0.62225     0.180445\n",
      "  0.263865    0.50187397  0.22722     0.504755    0.49651998  0.29571\n",
      " -0.273479    0.186705    0.66161     0.42644    -0.10568     0.00512\n",
      " -0.715195    0.4271345  -0.19899699  0.007035    0.217155   -0.270865\n",
      " -0.20389499 -0.205845   -0.847275   -0.370445    0.102978    0.56117\n",
      " -0.4170775  -1.50664    -0.1817145   0.170645    0.528605    0.030635\n",
      "  0.0378895   0.82403004  0.55395997 -0.18147999  1.257       0.539876\n",
      "  0.069414   -0.21291    -0.002545    1.04205    -0.26154    -0.20421065\n",
      " -0.1738185  -0.096082   -0.14954099 -0.209345   -0.749255    0.131181\n",
      " -0.7742      0.45635498  0.2506     -0.2636805  -0.01942    -0.479955\n",
      " -0.233609    0.10405    -0.441785    0.35395798  0.71454     0.4964\n",
      " -0.123225   -1.070775    0.348805   -0.19064    -1.2590001  -0.74045503\n",
      " -0.618595   -0.032615    0.564905   -0.28883   ]\n"
     ]
    }
   ],
   "source": [
    "query = 'fox and deer'\n",
    "print(query)\n",
    "\n",
    "query_embedding = embed_text(query, clean, tokenize, lambda x: embed_sentence_word_model(x, glove_model))\n",
    "print(query_embedding.shape)\n",
    "print(query_embedding)"
   ]
  },
  {
   "cell_type": "markdown",
   "metadata": {
    "collapsed": false,
    "jupyter": {
     "outputs_hidden": false
    },
    "pycharm": {
     "name": "#%% md\n"
    }
   },
   "source": [
    "<a name='e13'></a>\n",
    "### Exercise 13: Analyze sentence embeddings\n",
    "- (5p) Calculate similarity between the word embeddings representations of the selected queries and the dataset sentences.\n",
    "- (5p) Analyze the search results. Does the search work as expected? Discuss the results.\n",
    "- (5p) Compare the results with the ones you got with the bag-of-words and TF-IDF representation. Discuss the differences and similarities."
   ]
  },
  {
   "cell_type": "code",
   "execution_count": 54,
   "metadata": {
    "collapsed": false,
    "jupyter": {
     "outputs_hidden": false
    },
    "pycharm": {
     "name": "#%%\n"
    }
   },
   "outputs": [
    {
     "name": "stdout",
     "output_type": "stream",
     "text": [
      "\n",
      "Query: 'police arrest'\n",
      "Rank 1:\n",
      "Original:   A Cumberland veteran is in custody after threatening to shoot police officers if they tried to arrest him.\n",
      "Compressed: Cumberland veteran 'threatened to shoot police'\n",
      "Similarity Original: 0.9005\n",
      "\n",
      "Similarity Compressed: 0.7945\n",
      "\n",
      "Rank 2:\n",
      "Original:   Easley police are investigating an attempted armed robbery of a cash-advance store, according to police.\n",
      "Compressed: Easley police investigating attempted robbery\n",
      "Similarity Original: 0.8968\n",
      "\n",
      "Similarity Compressed: 0.8383\n",
      "\n",
      "Rank 3:\n",
      "Original:   A man, who was arrested on the charge of pilferage of copper wire, allegedly committed suicide in police custody at Dehri police station in Bihar's Rohtas district on Saturday, police said.\n",
      "Compressed: Man allegedly commits suicide in police custody\n",
      "Similarity Original: 0.8863\n",
      "\n",
      "Similarity Compressed: 0.8690\n",
      "\n",
      "\n",
      "Query: 'house fire'\n",
      "Rank 1:\n",
      "Original:   A Clarksville house caught fire Friday afternoon after a back-porch grill exploded, igniting the house in flames, authorities said.\n",
      "Compressed: Clarksville house catches fire\n",
      "Similarity Original: 0.9187\n",
      "\n",
      "Similarity Compressed: 0.9105\n",
      "\n",
      "Rank 2:\n",
      "Original:   Earlville firefighters using water and a resident making an initial attack with a fire extinguisher contained a house fire to one room Saturday morning.\n",
      "Compressed: Earlville fire contained to one room\n",
      "Similarity Original: 0.9096\n",
      "\n",
      "Similarity Compressed: 0.8690\n",
      "\n",
      "Rank 3:\n",
      "Original:   One pet was killed in a Tippecanoe County house fire Friday afternoon.\n",
      "Compressed: Pet killed in Tippecanoe County house fire\n",
      "Similarity Original: 0.8884\n",
      "\n",
      "Similarity Compressed: 0.8668\n",
      "\n",
      "\n",
      "Query: 'dog barking'\n",
      "Rank 1:\n",
      "Original:   The Pike County dog warden is facing animal cruelty charges after live puppies were found in a bag at the pound Tuesday.\n",
      "Compressed: Dog warden faces animal cruelty charges\n",
      "Similarity Original: 0.6306\n",
      "\n",
      "Similarity Compressed: 0.6444\n",
      "\n",
      "Rank 2:\n",
      "Original:   Authorities say a 3-foot-tall pet monkey escaped from its cage and terrorized an Indiana family, injuring a boy and a dog.\n",
      "Compressed: Monkey escapes from cage, terrorizes family\n",
      "Similarity Original: 0.6270\n",
      "\n",
      "Similarity Compressed: 0.5034\n",
      "\n",
      "Rank 3:\n",
      "Original:   The SeaWorld trainer who was drowned by a killer whale died after her hair got caught in the animal's mouth.\n",
      "Compressed: SeaWorld trainer died after 'hair got caught'\n",
      "Similarity Original: 0.6198\n",
      "\n",
      "Similarity Compressed: 0.5339\n",
      "\n",
      "\n",
      "Query: 'man died'\n",
      "Rank 1:\n",
      "Original:   The young daughter of a former Leyland man killed in a horror car crash has died in hospital of her injuries.\n",
      "Compressed: Daughter of former Leyland man dies\n",
      "Similarity Original: 0.9210\n",
      "\n",
      "Similarity Compressed: 0.6960\n",
      "\n",
      "Rank 2:\n",
      "Original:   The mother of murdered London schoolboy Damilola Taylor has died of a suspected heart attack at the age of 57.\n",
      "Compressed: Mother of murdered schoolboy Damilola Taylor dies of heart attack\n",
      "Similarity Original: 0.9078\n",
      "\n",
      "Similarity Compressed: 0.7957\n",
      "\n",
      "Rank 3:\n",
      "Original:   Another mentally ill man killed his wife and daughter and later committed suicide but did not die last Thursday, September 24,in Sitio Malogo, Brgy.\n",
      "Compressed: Mentally ill man kills wife, daughter\n",
      "Similarity Original: 0.8989\n",
      "\n",
      "Similarity Compressed: 0.8528\n",
      "\n",
      "\n",
      "Query: 'a woman reading a book'\n",
      "Rank 1:\n",
      "Original:   We're looking for these young authors -- the ones who spin yarns and write stories or poems.\n",
      "Compressed: We're looking for young authors\n",
      "Similarity Original: 0.8812\n",
      "\n",
      "Similarity Compressed: 0.8313\n",
      "\n",
      "Rank 2:\n",
      "Original:   My husband and I have been reading your book ``Men are from Mars, Women are from Venus'' and the concept of the ``cave'' is confusing us.\n",
      "Compressed: Men are from Mars, women are from Venus\n",
      "Similarity Original: 0.8796\n",
      "\n",
      "Similarity Compressed: 0.6520\n",
      "\n",
      "Rank 3:\n",
      "Original:   The book is titled, ``Go the (expletive) to Sleep,'' and is described as a ``children's book for adults,'' by the author, according to The New York Times .\n",
      "Compressed: 'Go the (expletive) to Sleep' book...\n",
      "Similarity Original: 0.8709\n",
      "\n",
      "Similarity Compressed: 0.7204\n",
      "\n",
      "\n",
      "Query: 'a dog is chasing a cat'\n",
      "Rank 1:\n",
      "Original:   British model-turned-singer Samantha Fox has been cleared of rabies after she was bitten by a stray cat in Thailand.\n",
      "Compressed: Samantha Fox cleared of rabies\n",
      "Similarity Original: 0.7615\n",
      "\n",
      "Similarity Compressed: 0.5450\n",
      "\n",
      "Rank 2:\n",
      "Original:   The SeaWorld trainer who was drowned by a killer whale died after her hair got caught in the animal's mouth.\n",
      "Compressed: SeaWorld trainer died after 'hair got caught'\n",
      "Similarity Original: 0.7519\n",
      "\n",
      "Similarity Compressed: 0.6799\n",
      "\n",
      "Rank 3:\n",
      "Original:   A captive lion like the on pictured mauled a man at a Kansas animal refuge.\n",
      "Compressed: Lion mauls man at Kansas refuge\n",
      "Similarity Original: 0.7499\n",
      "\n",
      "Similarity Compressed: 0.6405\n",
      "\n",
      "\n",
      "Query: 'he discussed neutrinos'\n",
      "Rank 1:\n",
      "Original:   A new study in the journal Communication Theory explored the impact of gender, demographic differences, and emotion on the experience of jury deliberation.\n",
      "Compressed: Study explores impact of gender, demographics and emotion on the experience of jury deliberation\n",
      "Similarity Original: 0.5250\n",
      "\n",
      "Similarity Compressed: 0.4939\n",
      "\n",
      "Rank 2:\n",
      "Original:   Scientists from around the world gather in Taupo today to explore the potential for geothermal energy.\n",
      "Compressed: Scientists gather in Taupo\n",
      "Similarity Original: 0.5033\n",
      "\n",
      "Similarity Compressed: 0.4065\n",
      "\n",
      "Rank 3:\n",
      "Original:   Researchers on Monday said that for the first time they had printed 3D objects using human embryonic stem cells, furthering the quest to fabricate transplantable organs.\n",
      "Compressed: Researchers 'print' 3D objects with stem cells\n",
      "Similarity Original: 0.4907\n",
      "\n",
      "Similarity Compressed: 0.3801\n",
      "\n",
      "\n",
      "Query: 'she saw a bat'\n",
      "Rank 1:\n",
      "Original:   Sachin Tendulkar was presented with 200 bats here on Tuesday by the fans for becoming the first batsman to crack a ODI double century.\n",
      "Compressed: Tendulkar presented with 200 bats by fans\n",
      "Similarity Original: 0.7942\n",
      "\n",
      "Similarity Compressed: 0.7985\n",
      "\n",
      "Rank 2:\n",
      "Original:   ``Pakistan cricket is going through its darkest era, ``says the Rawalpindi Express, Shoaib Akhtar. He slammed the coach and staff for not making any valuable contribution to the team and went onto say that players are not in right frame of mind. He also slammed Kamran Akmal, who has not been able to perform well, either with the gloves or with the bat.\n",
      "Compressed: Pakistan cricket is going through its darkest era:\n",
      "Similarity Original: 0.7938\n",
      "\n",
      "Similarity Compressed: 0.6723\n",
      "\n",
      "Rank 3:\n",
      "Original:   Live Sport Reports Prior confident of battling back England's batsmen came up short against the swinging ball at Eden Park, but are confident they can still fight back in the second innings of the final Test.\n",
      "Compressed: Live Sport Reports Prior confident of battling back\n",
      "Similarity Original: 0.7914\n",
      "\n",
      "Similarity Compressed: 0.6553\n",
      "\n",
      "\n",
      "Query: 'money bank'\n",
      "Rank 1:\n",
      "Original:   Both Bank of America and Morgan Stanley were in the bond market Friday to sell debt backed by their own credit, meeting a condition to return money borrowed from the government.\n",
      "Compressed: Bank of America, Morgan Stanley selling debt\n",
      "Similarity Original: 0.9038\n",
      "\n",
      "Similarity Compressed: 0.8802\n",
      "\n",
      "Rank 2:\n",
      "Original:   Public sector lender Dena Bank seeks to grow its balance sheet to ensure that it is not gobbled up by bigger banks, a top bank official said.\n",
      "Compressed: Dena bank seeks to grow balance sheet\n",
      "Similarity Original: 0.9020\n",
      "\n",
      "Similarity Compressed: 0.8052\n",
      "\n",
      "Rank 3:\n",
      "Original:   Instead, he claimed in a lecture entitled ``what banks do and what banks should do'' that many investment bank trades had ``no economic value''.\n",
      "Compressed: What banks do and what banks should do\n",
      "Similarity Original: 0.8899\n",
      "\n",
      "Similarity Compressed: 0.9006\n",
      "\n",
      "\n",
      "Query: 'river bank'\n",
      "Rank 1:\n",
      "Original:   To Mr. Iyer's averment that ``Periyar is not an inter-State river,'' I would like to point out that a river whose catchment lies in more than one State is an inter-State river.\n",
      "Compressed: 'Periyar is an inter-State river'\n",
      "Similarity Original: 0.8254\n",
      "\n",
      "Similarity Compressed: 0.7229\n",
      "\n",
      "Rank 2:\n",
      "Original:   As if it weren't hard enough to get around with the Blanchard River and its tributaries running out of their banks, an Amanda Township bridge has been closed.\n",
      "Compressed: Amanda Township bridge closed\n",
      "Similarity Original: 0.8187\n",
      "\n",
      "Similarity Compressed: 0.6760\n",
      "\n",
      "Rank 3:\n",
      "Original:   EEL Creek may be just one example of the bridges and other river crossings that are just too far gone in our region.\n",
      "Compressed: Bridges too far gone\n",
      "Similarity Original: 0.7979\n",
      "\n",
      "Similarity Compressed: 0.6232\n",
      "\n",
      "\n",
      "Query: 'shoots suspect'\n",
      "Rank 1:\n",
      "Original:   Winnipeg police have charged one of their officers with attempted murder and another with fabricating evidence in the shooting of man they mistakenly thought was a robbery suspect.\n",
      "Compressed: Winnipeg police charge officer with attempted murder, fabricating evidence\n",
      "Similarity Original: 0.8290\n",
      "\n",
      "Similarity Compressed: 0.7263\n",
      "\n",
      "Rank 2:\n",
      "Original:   A murdered Philippine politician caught his killer on camera just moments before he was shot dead, with the photograph leading to the arrest of the suspected gunman, police said Tuesday.\n",
      "Compressed: Philippine politician catches 'killer' on camera\n",
      "Similarity Original: 0.8275\n",
      "\n",
      "Similarity Compressed: 0.7529\n",
      "\n",
      "Rank 3:\n",
      "Original:   Police claimed to have traced two cases of blind murders, arrested suspects and recovered murder weapons from them here on Sunday.\n",
      "Compressed: Police claim tracing two blind murders\n",
      "Similarity Original: 0.8090\n",
      "\n",
      "Similarity Compressed: 0.7433\n",
      "\n",
      "\n",
      "Query: 'suspect shoots'\n",
      "Rank 1:\n",
      "Original:   Winnipeg police have charged one of their officers with attempted murder and another with fabricating evidence in the shooting of man they mistakenly thought was a robbery suspect.\n",
      "Compressed: Winnipeg police charge officer with attempted murder, fabricating evidence\n",
      "Similarity Original: 0.8290\n",
      "\n",
      "Similarity Compressed: 0.7263\n",
      "\n",
      "Rank 2:\n",
      "Original:   A murdered Philippine politician caught his killer on camera just moments before he was shot dead, with the photograph leading to the arrest of the suspected gunman, police said Tuesday.\n",
      "Compressed: Philippine politician catches 'killer' on camera\n",
      "Similarity Original: 0.8275\n",
      "\n",
      "Similarity Compressed: 0.7529\n",
      "\n",
      "Rank 3:\n",
      "Original:   Police claimed to have traced two cases of blind murders, arrested suspects and recovered murder weapons from them here on Sunday.\n",
      "Compressed: Police claim tracing two blind murders\n",
      "Similarity Original: 0.8090\n",
      "\n",
      "Similarity Compressed: 0.7433\n",
      "\n"
     ]
    }
   ],
   "source": [
    "### YOUR CODE HERE\n",
    "queries = [\n",
    "    \"police arrest\",\n",
    "    \"house fire\",\n",
    "    \"dog barking\",\n",
    "    \"man died\",\n",
    "    \"a woman reading a book\",     \n",
    "    \"a dog is chasing a cat\",\n",
    "    \"he discussed neutrinos\",\n",
    "    \"she saw a bat\",\n",
    "    \"money bank\",\n",
    "    \"river bank\",\n",
    "    \"shoots suspect\",\n",
    "    \"suspect shoots\"\n",
    "]\n",
    "\n",
    "for query in queries:\n",
    "    print(f\"\\nQuery: '{query}'\")\n",
    "\n",
    "    query_embedding = embed_text(query, clean, tokenize, lambda x: embed_sentence_word_model(x, glove_model))\n",
    "\n",
    "    similarity_scores_sentence = cosine_similarity_1_to_n(query_embedding, test_ds['sentence_embedding'])\n",
    "    similarity_scores_compressed = cosine_similarity_1_to_n(query_embedding, test_ds['compressed_embedding'])\n",
    "\n",
    "\n",
    "    top_indices = top_k_indices(similarity_scores_sentence, k=3)\n",
    "\n",
    "    for rank, idx in enumerate(top_indices):\n",
    "        idx = int(idx)\n",
    "        original_sentence = split_ds[\"test\"][idx][\"set\"][0]\n",
    "        compressed_version = split_ds[\"test\"][idx][\"set\"][1]\n",
    "        score_sent = similarity_scores_sentence[idx]\n",
    "        scire_comp = similarity_scores_compressed[idx]\n",
    "        print(f\"Rank {rank + 1}:\")\n",
    "        print(f\"Original:   {original_sentence}\")\n",
    "        print(f\"Compressed: {compressed_version}\")\n",
    "        print(f\"Similarity Original: {score_sent:.4f}\\n\")\n",
    "        print(f\"Similarity Compressed: {scire_comp:.4f}\\n\")\n",
    "\n",
    "\n",
    "\n",
    "# To be discussed in the report\n",
    "\n",
    "### YOUR CODE ENDS HERE"
   ]
  },
  {
   "cell_type": "markdown",
   "metadata": {
    "id": "ZY2jouFmeHOg",
    "pycharm": {
     "name": "#%% md\n"
    }
   },
   "source": [
    "## 6. Evaluating Retrieval\n",
    "\n",
    "In this last section we will try to evaluate how good our sentence retrieval system is. To keep the computational resources manageable, we will use the test set for that as its size is more manageable.\n",
    "\n",
    "Recall from the lecture in IR that there are several metrics to evaluate retrieval performance by taking into account the relevance of the retrieved results to the query. We will use Recall@K here (for more metrics and more details refer to the lecture slides and the textbooks).\n",
    "\n",
    "RRecall@K is a metric used to measure the effectiveness of a search system in retrieving relevant documents within the top $K$ retrieved documents. It calculates the proportion of relevant documents retrieved within the top-$K$ results, compared to the total number of relevant documents in the collection.\n",
    "\n",
    "$\n",
    "\\text{Recall@K} = \\frac{\\text{Number of relevant documents retrieved in the top }-K}{\\text{Total number of relevant documents}}\n",
    "$\n",
    "\n",
    "In our case, we have a sentence, and it's compressed version. To test our system, we will treat compressed sentences as the queries. Each query will have only a single relevant sentence - the corresponding uncompressed sentence.\n",
    "\n",
    "Therefore, for the calculation of Recall@K we will take into account whether the correct retrieved result is contained within the first $K$ retrieved results. For example, if for a query (i.e. a compressed sentence) we retrieve 10 results and within these we see the relevant one (i.e. the full sentence), then Recall@10 = 1."
   ]
  },
  {
   "cell_type": "markdown",
   "metadata": {
    "id": "QUKPtG-uem9f",
    "pycharm": {
     "name": "#%% md\n"
    }
   },
   "source": [
    "<a name='e14'></a>\n",
    "### Exercise 14: Cosine similarity between two sets of vectors\n",
    "\n",
    "(3p) In this exercise you will revisit your implementation of the cosine similarity. Generalize it so that it can accept two arrays containing two sets of vectors (first one containing $M$ vectors and the second one $N$ vectors). Compute the cosine similarity between each pair of vectors coming from the two sets. The result should be an array of size $M x N$.\n",
    "\n",
    "Once again, try to write an efficient code. This means no loops. Remember the relation between matrix multiplication and dot product. (Depending on your implementation of the previous function calculating cosine similarity, this one can be almost the same)"
   ]
  },
  {
   "cell_type": "code",
   "execution_count": 55,
   "metadata": {
    "id": "xKiHDrN9eld7",
    "pycharm": {
     "name": "#%%\n"
    }
   },
   "outputs": [],
   "source": [
    "def cosine_similarity_m_to_n(vectors, other_vectors):\n",
    "    \"\"\"\n",
    "    Calculates the cosine similarity between a multiple vectors and other vectors.\n",
    "    Args:\n",
    "        vectors: a numpy array representing M number of vectors of D dimensions (of the size MxD)\n",
    "        other_vectors: a 2D numpy array representing other vectors (of the size NxD, where N is the number of vectors and D is their dimension)\n",
    "\n",
    "    Returns: a numpy array of cosine similarity between all the vectors and all the other vectors\n",
    "\n",
    "    \"\"\"\n",
    "\n",
    "    #### YOUR CODE HERE\n",
    "    \n",
    "    dot_product = np.dot(vectors, other_vectors.T)  # shape: (M, N)\n",
    "\n",
    "    # Compute norms\n",
    "    vectors_norm = np.linalg.norm(vectors, axis=1, keepdims=True)  # shape: (M, 1)\n",
    "    other_vectors_norm = np.linalg.norm(other_vectors, axis=1, keepdims=True).T  # shape: (1, N)\n",
    "\n",
    "    # Compute cosine similarity\n",
    "    denom = vectors_norm * other_vectors_norm  # shape: (M, N)\n",
    "    cosine_sim = np.divide(dot_product, denom, out=np.zeros_like(dot_product), where=denom!=0)\n",
    "\n",
    "    return cosine_sim\n",
    "\n",
    "    ### YOUR CODE ENDS HERE"
   ]
  },
  {
   "cell_type": "markdown",
   "metadata": {
    "id": "qQ-Yhl1Sgoka",
    "pycharm": {
     "name": "#%% md\n"
    }
   },
   "source": [
    "The following function will use your implementation to calculate Recall@K based on the similarity matrix."
   ]
  },
  {
   "cell_type": "code",
   "execution_count": 56,
   "metadata": {
    "id": "z0sLS3uRCfdh",
    "pycharm": {
     "name": "#%%\n"
    }
   },
   "outputs": [],
   "source": [
    "def calculate_recall(queries, sentences, k, batch_size=1000):\n",
    "    \"\"\"\n",
    "    Calculates recall@k given the embeddings of the queries and sentences.\n",
    "    Assumes that only a single sentence with the same index as query is relevant.\n",
    "    Batching is implemented to avoid high memory usage.\n",
    "    Args:\n",
    "        queries: a numpy array with the embeddings of N queries\n",
    "        sentences: a numpy array with the embeddings of N sentences available for retrieval\n",
    "        k: number of top results to search for the relevant sentence\n",
    "        batch_size: number of queries to process at a time\n",
    "\n",
    "    Returns: calculated recall@k\n",
    "\n",
    "    \"\"\"\n",
    "    n_queries = queries.shape[0]\n",
    "    correct = np.zeros(n_queries, dtype=bool)\n",
    "\n",
    "    with tqdm.tqdm(total=n_queries) as pbar:\n",
    "        for batch_start in range(0, n_queries, batch_size):\n",
    "            batch_end = min(batch_start + batch_size, n_queries)\n",
    "            queries_batch = queries[batch_start:batch_end]\n",
    "            batch_similarity = cosine_similarity_m_to_n(queries_batch, sentences)\n",
    "\n",
    "            for i, similarity_row in enumerate(batch_similarity):\n",
    "                query_index = batch_start + i\n",
    "                top_k = top_k_indices(similarity_row, k=k, sorted=False)\n",
    "\n",
    "                if query_index in top_k:\n",
    "                    correct[query_index] = True\n",
    "\n",
    "                pbar.update(1)\n",
    "\n",
    "    recall = np.sum(correct) / n_queries\n",
    "    return recall"
   ]
  },
  {
   "cell_type": "markdown",
   "metadata": {
    "id": "3QgAgMiDgw8m",
    "pycharm": {
     "name": "#%% md\n"
    }
   },
   "source": [
    "You can use it like so:"
   ]
  },
  {
   "cell_type": "code",
   "execution_count": null,
   "metadata": {
    "id": "Yxpex7ZxHM7c",
    "pycharm": {
     "name": "#%%\n"
    }
   },
   "outputs": [],
   "source": [
    "recall_at_1 = calculate_recall(compr_embedding, sent_embedding, k=3, batch_size=100)\n",
    "print(f'\\n{recall_at_1 * 100:.2f}%')"
   ]
  },
  {
   "cell_type": "markdown",
   "metadata": {
    "id": "zY5ZVq5ogzMI",
    "pycharm": {
     "name": "#%% md\n"
    }
   },
   "source": [
    "<a name='e15'></a>\n",
    "### Exercise 15: Evaluating retrieval methods\n",
    "\n",
    "(10p) Calculate recall for different values of $K$ for all methods:\n",
    "- BOW,\n",
    "- TF-IDF,\n",
    "- Pre-trained embeddings.\n",
    "\n",
    "Discuss the results.\n",
    "Comment on how recall changes based on the value of $K$. Are the results expected or surprising?"
   ]
  },
  {
   "cell_type": "code",
   "execution_count": 57,
   "metadata": {},
   "outputs": [
    {
     "name": "stdout",
     "output_type": "stream",
     "text": [
      "Dataset({\n",
      "    features: ['set', 'clean_sentence', 'clean_compressed', 'sentence_tokens', 'compressed_tokens', 'sentence_bow', 'compressed_bow', 'sentence_embedding', 'compressed_embedding'],\n",
      "    num_rows: 36000\n",
      "})\n"
     ]
    }
   ],
   "source": [
    "print(test_ds)"
   ]
  },
  {
   "cell_type": "code",
   "execution_count": 58,
   "metadata": {
    "collapsed": false,
    "jupyter": {
     "outputs_hidden": false
    },
    "pycharm": {
     "name": "#%%\n"
    }
   },
   "outputs": [
    {
     "name": "stdout",
     "output_type": "stream",
     "text": [
      "\n",
      "Evaluating method: BOW\n"
     ]
    },
    {
     "name": "stderr",
     "output_type": "stream",
     "text": [
      "100%|███████████████████████████████████████████████| 36000/36000 [06:14<00:00, 96.18it/s]\n"
     ]
    },
    {
     "name": "stdout",
     "output_type": "stream",
     "text": [
      "Recall@1: 78.97%\n"
     ]
    },
    {
     "name": "stderr",
     "output_type": "stream",
     "text": [
      "100%|███████████████████████████████████████████████| 36000/36000 [06:18<00:00, 95.14it/s]\n"
     ]
    },
    {
     "name": "stdout",
     "output_type": "stream",
     "text": [
      "Recall@3: 88.73%\n"
     ]
    },
    {
     "name": "stderr",
     "output_type": "stream",
     "text": [
      "100%|███████████████████████████████████████████████| 36000/36000 [06:46<00:00, 88.52it/s]\n"
     ]
    },
    {
     "name": "stdout",
     "output_type": "stream",
     "text": [
      "Recall@5: 91.31%\n"
     ]
    },
    {
     "name": "stderr",
     "output_type": "stream",
     "text": [
      "100%|███████████████████████████████████████████████| 36000/36000 [07:14<00:00, 82.93it/s]\n"
     ]
    },
    {
     "name": "stdout",
     "output_type": "stream",
     "text": [
      "Recall@10: 93.86%\n",
      "\n",
      "Evaluating method: TFIDF\n"
     ]
    },
    {
     "name": "stderr",
     "output_type": "stream",
     "text": [
      "100%|██████████████████████████████████████████████| 36000/36000 [03:53<00:00, 153.92it/s]\n"
     ]
    },
    {
     "name": "stdout",
     "output_type": "stream",
     "text": [
      "Recall@1: 80.43%\n"
     ]
    },
    {
     "name": "stderr",
     "output_type": "stream",
     "text": [
      "100%|██████████████████████████████████████████████| 36000/36000 [02:43<00:00, 219.57it/s]\n"
     ]
    },
    {
     "name": "stdout",
     "output_type": "stream",
     "text": [
      "Recall@3: 89.71%\n"
     ]
    },
    {
     "name": "stderr",
     "output_type": "stream",
     "text": [
      "100%|██████████████████████████████████████████████| 36000/36000 [02:28<00:00, 241.62it/s]\n"
     ]
    },
    {
     "name": "stdout",
     "output_type": "stream",
     "text": [
      "Recall@5: 92.28%\n"
     ]
    },
    {
     "name": "stderr",
     "output_type": "stream",
     "text": [
      "100%|██████████████████████████████████████████████| 36000/36000 [02:31<00:00, 237.90it/s]\n"
     ]
    },
    {
     "name": "stdout",
     "output_type": "stream",
     "text": [
      "Recall@10: 94.59%\n",
      "\n",
      "Evaluating method: model\n"
     ]
    },
    {
     "name": "stderr",
     "output_type": "stream",
     "text": [
      "100%|█████████████████████████████████████████████| 36000/36000 [00:14<00:00, 2507.00it/s]\n"
     ]
    },
    {
     "name": "stdout",
     "output_type": "stream",
     "text": [
      "Recall@1: 62.64%\n"
     ]
    },
    {
     "name": "stderr",
     "output_type": "stream",
     "text": [
      "100%|█████████████████████████████████████████████| 36000/36000 [00:23<00:00, 1512.66it/s]\n"
     ]
    },
    {
     "name": "stdout",
     "output_type": "stream",
     "text": [
      "Recall@3: 73.52%\n"
     ]
    },
    {
     "name": "stderr",
     "output_type": "stream",
     "text": [
      "100%|█████████████████████████████████████████████| 36000/36000 [00:23<00:00, 1531.26it/s]\n"
     ]
    },
    {
     "name": "stdout",
     "output_type": "stream",
     "text": [
      "Recall@5: 77.58%\n"
     ]
    },
    {
     "name": "stderr",
     "output_type": "stream",
     "text": [
      "100%|█████████████████████████████████████████████| 36000/36000 [00:22<00:00, 1622.58it/s]"
     ]
    },
    {
     "name": "stdout",
     "output_type": "stream",
     "text": [
      "Recall@10: 82.41%\n"
     ]
    },
    {
     "name": "stderr",
     "output_type": "stream",
     "text": [
      "\n"
     ]
    }
   ],
   "source": [
    "#### YOUR CODE HERE\n",
    "\n",
    "methods = {\n",
    "    \"BOW\" : (test_ds[\"sentence_bow\"], test_ds[\"compressed_bow\"]),\n",
    "    \"TFIDF\" : (test_tfidf_sentence, test_tfidf_compressed),\n",
    "    \"model\" : (test_ds[\"sentence_embedding\"], test_ds[\"compressed_embedding\"])\n",
    "}\n",
    "\n",
    "k_vals = [1, 3, 5, 10]\n",
    "\n",
    "# results = {}\n",
    "\n",
    "for method, (sentences, queries) in methods.items():\n",
    "    print(f\"\\nEvaluating method: {method}\")\n",
    "    # results[method] = []\n",
    "    for k in k_vals:\n",
    "        recall = calculate_recall(queries, sentences, k=k, batch_size=1000)\n",
    "        print(f\"Recall@{k}: {recall * 100:.2f}%\")\n",
    "        # results[method].append((k, recall))\n",
    "\n",
    "\n",
    "### YOUR CODE ENDS HERE"
   ]
  },
  {
   "cell_type": "code",
   "execution_count": null,
   "metadata": {},
   "outputs": [],
   "source": [
    "# discussion in the report"
   ]
  },
  {
   "cell_type": "markdown",
   "metadata": {
    "collapsed": false,
    "jupyter": {
     "outputs_hidden": false
    },
    "pycharm": {
     "name": "#%% md\n"
    }
   },
   "source": [
    "<a name='e16'></a>\n",
    "### Exercise 16: Improving retrieval\n",
    "\n",
    "(10p) Imagine that you work at a company and are tasked with delivering the best retrieval method. Select the most promising one and try to improve the scores (e.g. by changing the vocab size, loading different model, etc.).\n",
    "Discuss the results you achieve, even if you didn't manage to improve the scores."
   ]
  },
  {
   "cell_type": "code",
   "execution_count": null,
   "metadata": {},
   "outputs": [],
   "source": [
    "\n"
   ]
  },
  {
   "cell_type": "code",
   "execution_count": null,
   "metadata": {},
   "outputs": [
    {
     "name": "stdout",
     "output_type": "stream",
     "text": [
      "[====----------------------------------------------] 9.7% 113.0/1168.7MB downloaded"
     ]
    },
    {
     "name": "stderr",
     "output_type": "stream",
     "text": [
      "IOPub message rate exceeded.\n",
      "The Jupyter server will temporarily stop sending output\n",
      "to the client in order to avoid crashing it.\n",
      "To change this limit, set the config variable\n",
      "`--ServerApp.iopub_msg_rate_limit`.\n",
      "\n",
      "Current values:\n",
      "ServerApp.iopub_msg_rate_limit=1000.0 (msgs/sec)\n",
      "ServerApp.rate_limit_window=3.0 (secs)\n",
      "\n"
     ]
    },
    {
     "name": "stdout",
     "output_type": "stream",
     "text": [
      "[======--------------------------------------------] 13.3% 155.6/1168.7MB downloaded"
     ]
    },
    {
     "name": "stderr",
     "output_type": "stream",
     "text": [
      "IOPub message rate exceeded.\n",
      "The Jupyter server will temporarily stop sending output\n",
      "to the client in order to avoid crashing it.\n",
      "To change this limit, set the config variable\n",
      "`--ServerApp.iopub_msg_rate_limit`.\n",
      "\n",
      "Current values:\n",
      "ServerApp.iopub_msg_rate_limit=1000.0 (msgs/sec)\n",
      "ServerApp.rate_limit_window=3.0 (secs)\n",
      "\n"
     ]
    },
    {
     "name": "stdout",
     "output_type": "stream",
     "text": [
      "[========------------------------------------------] 16.8% 195.9/1168.7MB downloaded"
     ]
    },
    {
     "name": "stderr",
     "output_type": "stream",
     "text": [
      "IOPub message rate exceeded.\n",
      "The Jupyter server will temporarily stop sending output\n",
      "to the client in order to avoid crashing it.\n",
      "To change this limit, set the config variable\n",
      "`--ServerApp.iopub_msg_rate_limit`.\n",
      "\n",
      "Current values:\n",
      "ServerApp.iopub_msg_rate_limit=1000.0 (msgs/sec)\n",
      "ServerApp.rate_limit_window=3.0 (secs)\n",
      "\n"
     ]
    },
    {
     "name": "stdout",
     "output_type": "stream",
     "text": [
      "[=========-----------------------------------------] 19.9% 232.3/1168.7MB downloaded"
     ]
    },
    {
     "name": "stderr",
     "output_type": "stream",
     "text": [
      "IOPub message rate exceeded.\n",
      "The Jupyter server will temporarily stop sending output\n",
      "to the client in order to avoid crashing it.\n",
      "To change this limit, set the config variable\n",
      "`--ServerApp.iopub_msg_rate_limit`.\n",
      "\n",
      "Current values:\n",
      "ServerApp.iopub_msg_rate_limit=1000.0 (msgs/sec)\n",
      "ServerApp.rate_limit_window=3.0 (secs)\n",
      "\n"
     ]
    },
    {
     "name": "stdout",
     "output_type": "stream",
     "text": [
      "[===========---------------------------------------] 23.4% 273.2/1168.7MB downloaded"
     ]
    },
    {
     "name": "stderr",
     "output_type": "stream",
     "text": [
      "IOPub message rate exceeded.\n",
      "The Jupyter server will temporarily stop sending output\n",
      "to the client in order to avoid crashing it.\n",
      "To change this limit, set the config variable\n",
      "`--ServerApp.iopub_msg_rate_limit`.\n",
      "\n",
      "Current values:\n",
      "ServerApp.iopub_msg_rate_limit=1000.0 (msgs/sec)\n",
      "ServerApp.rate_limit_window=3.0 (secs)\n",
      "\n"
     ]
    },
    {
     "name": "stdout",
     "output_type": "stream",
     "text": [
      "[=============-------------------------------------] 26.3% 307.0/1168.7MB downloaded"
     ]
    },
    {
     "name": "stderr",
     "output_type": "stream",
     "text": [
      "IOPub message rate exceeded.\n",
      "The Jupyter server will temporarily stop sending output\n",
      "to the client in order to avoid crashing it.\n",
      "To change this limit, set the config variable\n",
      "`--ServerApp.iopub_msg_rate_limit`.\n",
      "\n",
      "Current values:\n",
      "ServerApp.iopub_msg_rate_limit=1000.0 (msgs/sec)\n",
      "ServerApp.rate_limit_window=3.0 (secs)\n",
      "\n"
     ]
    },
    {
     "name": "stdout",
     "output_type": "stream",
     "text": [
      "[==================================================] 100.0% 1168.7/1168.7MB downloaded\n"
     ]
    }
   ],
   "source": [
    "#### YOUR CODE HERE\n",
    "ftmodel = api.load(\"conceptnet-numberbatch-17-06-300\")\n"
   ]
  },
  {
   "cell_type": "code",
   "execution_count": null,
   "metadata": {},
   "outputs": [],
   "source": [
    "def embed_sentence_word_ftmodel_dataset(batch, model):\n",
    "    \"\"\"\n",
    "    Embeds the sentence and the compressed sentence in the example from the Dataset\n",
    "    Args:\n",
    "        example: an example from the Dataset\n",
    "        model: a trained word embeddings model\n",
    "\n",
    "    Returns: updated example with 'sentence_embedding' and 'compressed_embedding' columns\n",
    "\n",
    "    \"\"\"\n",
    "    sentence_embeddings = []\n",
    "    compressed_embeddings = []\n",
    "\n",
    "    for sentence_tokens, clean_compressed in zip(batch['sentence_tokens'], batch['clean_compressed']):\n",
    "        compressed_tokens = tokenize(clean_compressed)\n",
    "\n",
    "        sentence_emb = embed_sentence_word_model(sentence_tokens, model)\n",
    "        compressed_emb = embed_sentence_word_model(compressed_tokens, model)\n",
    "\n",
    "        sentence_embeddings.append(sentence_emb)\n",
    "        compressed_embeddings.append(compressed_emb)\n",
    "\n",
    "    return {\n",
    "        'sentence_ft': sentence_embeddings,\n",
    "        'compressed_ft': compressed_embeddings\n",
    "    }"
   ]
  },
  {
   "cell_type": "code",
   "execution_count": null,
   "metadata": {},
   "outputs": [],
   "source": [
    "test_ds = test_ds.map(embed_sentence_word_w2vmodel_dataset, batched=True, fn_kwargs={'model': ftmodel})\n",
    "print(test_ds)"
   ]
  },
  {
   "cell_type": "code",
   "execution_count": null,
   "metadata": {},
   "outputs": [],
   "source": []
  },
  {
   "cell_type": "code",
   "execution_count": null,
   "metadata": {
    "id": "YA9bEm5ehMq8",
    "pycharm": {
     "name": "#%%\n"
    }
   },
   "outputs": [],
   "source": [
    "methods = {\n",
    "    \"ft\" : (test_ds['sentence_ft'], test_ds['compressed_ft'])\n",
    "}\n",
    "\n",
    "k_vals = [1, 3, 5, 10]\n",
    "\n",
    "\n",
    "for method, (sentences, queries) in methods.items():\n",
    "    print(f\"\\nEvaluating method: {method}\")\n",
    "    for k in k_vals:\n",
    "        recall = calculate_recall(queries, sentences, k=k, batch_size=1000)\n",
    "        print(f\"Recall@{k}: {recall * 100:.2f}%\")\n",
    "\n",
    "\n",
    "### YOUR CODE ENDS HERE"
   ]
  },
  {
   "cell_type": "markdown",
   "metadata": {
    "collapsed": false,
    "jupyter": {
     "outputs_hidden": false
    },
    "pycharm": {
     "name": "#%% md\n"
    }
   },
   "source": [
    "// your comments"
   ]
  }
 ],
 "metadata": {
  "colab": {
   "provenance": [],
   "toc_visible": true
  },
  "kernelspec": {
   "display_name": "Python 3 (ipykernel)",
   "language": "python",
   "name": "python3"
  },
  "language_info": {
   "codemirror_mode": {
    "name": "ipython",
    "version": 3
   },
   "file_extension": ".py",
   "mimetype": "text/x-python",
   "name": "python",
   "nbconvert_exporter": "python",
   "pygments_lexer": "ipython3",
   "version": "3.11.11"
  }
 },
 "nbformat": 4,
 "nbformat_minor": 4
}
